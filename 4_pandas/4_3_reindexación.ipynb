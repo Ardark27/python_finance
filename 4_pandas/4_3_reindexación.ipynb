{
 "cells": [
  {
   "cell_type": "markdown",
   "metadata": {},
   "source": [
    "## Reindexación de un DataFrame"
   ]
  },
  {
   "cell_type": "markdown",
   "metadata": {},
   "source": [
    "- Pueden existir ocasiones en las que se desee modificar el índice de una estructura tras haberla creado. \n",
    "\n",
    "- En este caso no se trata de cambiar los índices asignados sino de reordenaciones, eliminación o adición de índices. \n",
    "\n",
    "- Para ello, pandas nos ofrece el método <b>reindex</b>. \n",
    "\n",
    "- Lo que obtendremos será una nueva estructura (copia) con el índice seleccionado. <br/><br/>\n",
    "\n",
    "\n",
    "En el caso de que con el nuevo índice se generen nuevos elementos, estos  se rellenarán a NaN. Para evitarlo, disponemos de los siguientes parámetros:<br/>\n",
    "<ul>\n",
    "<li><b>fill_value:</b> Relleno a un valor fijo establecido.</li>\n",
    "<li><b>method:</b> Relleno según un método definido.\n",
    "<ul>\n",
    "<li>ffill: Relleno mediante la observación de los últimos valores rellenos.</li>\n",
    "<li>bfill: Relleno mediante la observación de los próximos valores rellenos.</li>\n",
    "<li>nearest: Relleno mediante la observación del valor más próximo.</li>\n",
    "</ul>\n",
    "</li>\n",
    "</ul>"
   ]
  },
  {
   "cell_type": "code",
   "execution_count": 1,
   "metadata": {},
   "outputs": [],
   "source": [
    "import pandas as pd\n",
    "import numpy as np"
   ]
  },
  {
   "cell_type": "code",
   "execution_count": 2,
   "metadata": {},
   "outputs": [
    {
     "data": {
      "text/plain": [
       "2    0.1\n",
       "3    0.2\n",
       "5    0.3\n",
       "1    0.4\n",
       "4    0.5\n",
       "dtype: float64"
      ]
     },
     "execution_count": 2,
     "metadata": {},
     "output_type": "execute_result"
    }
   ],
   "source": [
    "serie1 = pd.Series([0.1, 0.2, 0.3, 0.4, 0.5], index=[2, 3, 5, 1, 4])\n",
    "serie1"
   ]
  },
  {
   "cell_type": "markdown",
   "metadata": {},
   "source": [
    "Modificamos el índice y lo asignamos a una nueva variable. OJO, como no tenemos  valor pare el índice 6, se rellena con NAN"
   ]
  },
  {
   "cell_type": "code",
   "execution_count": 3,
   "metadata": {},
   "outputs": [
    {
     "data": {
      "text/plain": [
       "1    0.4\n",
       "2    0.1\n",
       "3    0.2\n",
       "4    0.5\n",
       "5    0.3\n",
       "6    NaN\n",
       "dtype: float64"
      ]
     },
     "execution_count": 3,
     "metadata": {},
     "output_type": "execute_result"
    }
   ],
   "source": [
    "serie2 = serie1.reindex([1, 2, 3, 4, 5, 6])\n",
    "serie2"
   ]
  },
  {
   "cell_type": "markdown",
   "metadata": {},
   "source": [
    "Al hacer reindex, me devuelve una copia. Si modifico la copia, no modifico el original"
   ]
  },
  {
   "cell_type": "code",
   "execution_count": 4,
   "metadata": {},
   "outputs": [
    {
     "name": "stdout",
     "output_type": "stream",
     "text": [
      "Serie2:\n",
      " 1      0.4\n",
      "2    200.0\n",
      "3      0.2\n",
      "4      0.5\n",
      "5      0.3\n",
      "6      NaN\n",
      "dtype: float64\n",
      "Serie1:\n",
      " 2    0.1\n",
      "3    0.2\n",
      "5    0.3\n",
      "1    0.4\n",
      "4    0.5\n",
      "dtype: float64\n"
     ]
    }
   ],
   "source": [
    "serie2.loc[2] = 200\n",
    "print('Serie2:\\n', serie2)\n",
    "print('Serie1:\\n', serie1)"
   ]
  },
  {
   "cell_type": "markdown",
   "metadata": {},
   "source": [
    "¿Pasa lo mismo tras una asignación normal?"
   ]
  },
  {
   "cell_type": "code",
   "execution_count": 5,
   "metadata": {},
   "outputs": [
    {
     "name": "stdout",
     "output_type": "stream",
     "text": [
      "Serie3:\n",
      " 2    300.0\n",
      "3      0.2\n",
      "5      0.3\n",
      "1      0.4\n",
      "4      0.5\n",
      "dtype: float64\n",
      "Serie1:\n",
      " 2    300.0\n",
      "3      0.2\n",
      "5      0.3\n",
      "1      0.4\n",
      "4      0.5\n",
      "dtype: float64\n"
     ]
    }
   ],
   "source": [
    "serie3 = serie1\n",
    "serie3.loc[2]=300\n",
    "print('Serie3:\\n', serie3)\n",
    "print('Serie1:\\n', serie1) "
   ]
  },
  {
   "cell_type": "markdown",
   "metadata": {},
   "source": [
    "### Métodos de relleno"
   ]
  },
  {
   "cell_type": "markdown",
   "metadata": {},
   "source": [
    "\n",
    "* __fill_value__: Relleno a un valor fijo establecido.\n",
    "\n",
    "* __method__: Relleno según un método definido.\n",
    "\n",
    "    - __ffill__: Relleno mediante la observación de los últimos valores rellenos.\n",
    "\n",
    "    - __bfill__: Relleno mediante la observación de los próximos valores rellenos.\n",
    "nearest: Relleno mediante la observación del valor más próximo.\n"
   ]
  },
  {
   "cell_type": "code",
   "execution_count": 6,
   "metadata": {},
   "outputs": [
    {
     "data": {
      "text/plain": [
       "0    0.0\n",
       "1    0.1\n",
       "2    0.2\n",
       "3    0.3\n",
       "4    0.4\n",
       "dtype: float64"
      ]
     },
     "execution_count": 6,
     "metadata": {},
     "output_type": "execute_result"
    }
   ],
   "source": [
    "serie1 = pd.Series([0.0, 0.1, 0.2, 0.3, 0.4], index=range(5))\n",
    "serie1"
   ]
  },
  {
   "cell_type": "code",
   "execution_count": 7,
   "metadata": {},
   "outputs": [
    {
     "data": {
      "text/plain": [
       "0    0.0\n",
       "1    0.1\n",
       "2    0.2\n",
       "3    0.3\n",
       "4    0.4\n",
       "5    NaN\n",
       "6    NaN\n",
       "dtype: float64"
      ]
     },
     "execution_count": 7,
     "metadata": {},
     "output_type": "execute_result"
    }
   ],
   "source": [
    "serie1.reindex(range(7))"
   ]
  },
  {
   "cell_type": "code",
   "execution_count": 8,
   "metadata": {},
   "outputs": [
    {
     "data": {
      "text/plain": [
       "0    0.0\n",
       "1    0.1\n",
       "2    0.2\n",
       "3    0.3\n",
       "4    0.4\n",
       "5    0.4\n",
       "6    0.4\n",
       "dtype: float64"
      ]
     },
     "execution_count": 8,
     "metadata": {},
     "output_type": "execute_result"
    }
   ],
   "source": [
    "# ffill\n",
    "\n",
    "serie1.reindex(range(7), method='ffill')"
   ]
  },
  {
   "cell_type": "code",
   "execution_count": 9,
   "metadata": {},
   "outputs": [
    {
     "data": {
      "text/plain": [
       "0    0.0\n",
       "1    0.1\n",
       "2    0.2\n",
       "3    0.3\n",
       "4    0.4\n",
       "5    NaN\n",
       "6    NaN\n",
       "dtype: float64"
      ]
     },
     "execution_count": 9,
     "metadata": {},
     "output_type": "execute_result"
    }
   ],
   "source": [
    "# bfill\n",
    "\n",
    "serie1.reindex(range(7), method='bfill')"
   ]
  },
  {
   "cell_type": "code",
   "execution_count": 10,
   "metadata": {},
   "outputs": [
    {
     "data": {
      "text/plain": [
       "0    0.0\n",
       "1    0.1\n",
       "2    0.2\n",
       "3    0.3\n",
       "4    0.4\n",
       "5    0.4\n",
       "6    0.4\n",
       "dtype: float64"
      ]
     },
     "execution_count": 10,
     "metadata": {},
     "output_type": "execute_result"
    }
   ],
   "source": [
    "# nearest\n",
    "\n",
    "serie1.reindex(range(7), method='nearest')"
   ]
  },
  {
   "cell_type": "code",
   "execution_count": 11,
   "metadata": {},
   "outputs": [
    {
     "data": {
      "text/plain": [
       "0     0.0\n",
       "1     0.1\n",
       "10    0.6\n",
       "20    0.7\n",
       "dtype: float64"
      ]
     },
     "execution_count": 11,
     "metadata": {},
     "output_type": "execute_result"
    }
   ],
   "source": [
    "serie4 = pd.Series([0.0, 0.1, 0.6, 0.7], index=[0, 1, 10, 20])\n",
    "serie4"
   ]
  },
  {
   "cell_type": "code",
   "execution_count": 46,
   "metadata": {},
   "outputs": [
    {
     "data": {
      "text/plain": [
       "0     0.0\n",
       "1     0.1\n",
       "3     0.6\n",
       "10    0.6\n",
       "20    0.7\n",
       "dtype: float64"
      ]
     },
     "execution_count": 46,
     "metadata": {},
     "output_type": "execute_result"
    }
   ],
   "source": [
    "serie4.reindex([0, 1, 3, 10, 20], method='bfill')"
   ]
  },
  {
   "cell_type": "code",
   "execution_count": 49,
   "metadata": {},
   "outputs": [
    {
     "data": {
      "text/plain": [
       "0     0.0\n",
       "1     0.1\n",
       "3     0.1\n",
       "10    0.6\n",
       "20    0.7\n",
       "dtype: float64"
      ]
     },
     "execution_count": 49,
     "metadata": {},
     "output_type": "execute_result"
    }
   ],
   "source": [
    "# ffill\n",
    "\n",
    "serie4.reindex([0, 1, 3, 10, 20], method='ffill')"
   ]
  },
  {
   "cell_type": "code",
   "execution_count": 50,
   "metadata": {},
   "outputs": [
    {
     "data": {
      "text/plain": [
       "0     0.0\n",
       "1     0.1\n",
       "3     0.1\n",
       "10    0.6\n",
       "20    0.7\n",
       "dtype: float64"
      ]
     },
     "execution_count": 50,
     "metadata": {},
     "output_type": "execute_result"
    }
   ],
   "source": [
    "# ffill\n",
    "\n",
    "serie4.reindex([0, 1, 3, 10, 20], method='nearest')"
   ]
  }
 ],
 "metadata": {
  "kernelspec": {
   "display_name": "Python 3.9.12 ('base')",
   "language": "python",
   "name": "python3"
  },
  "language_info": {
   "codemirror_mode": {
    "name": "ipython",
    "version": 3
   },
   "file_extension": ".py",
   "mimetype": "text/x-python",
   "name": "python",
   "nbconvert_exporter": "python",
   "pygments_lexer": "ipython3",
   "version": "3.9.12"
  },
  "orig_nbformat": 4,
  "vscode": {
   "interpreter": {
    "hash": "18a6b418ca989a304418b74e14b57df096d22507d5bd0d85ac6f17ef362aab2d"
   }
  }
 },
 "nbformat": 4,
 "nbformat_minor": 2
}
