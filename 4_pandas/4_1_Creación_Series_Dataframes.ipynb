{
 "cells": [
  {
   "cell_type": "markdown",
   "metadata": {},
   "source": [
    "# 4.1 Introducción a Pandas"
   ]
  },
  {
   "cell_type": "markdown",
   "metadata": {},
   "source": [
    "Pandas es una muy popular librería de código abierto dentro de los desarrolladores de Python, y sobre todo dentro del ámbito de Data Science y Machine Learning, ya que ofrece unas estructuras muy poderosas y flexibles que facilitan la manipulación y tratamiento de datos."
   ]
  },
  {
   "cell_type": "markdown",
   "metadata": {},
   "source": [
    "Puedes encontrar la documentación de pandas [aquí](https://pandas.pydata.org/docs/index.html)\n",
    "\n",
    "En particular puedes ver unos tutorials interesantes [aquí](https://pandas.pydata.org/docs/getting_started/intro_tutorials/index.html)"
   ]
  },
  {
   "cell_type": "markdown",
   "metadata": {},
   "source": [
    "# Estructuras de datos en Pandas"
   ]
  },
  {
   "cell_type": "markdown",
   "metadata": {},
   "source": [
    "Las dos __estructuras de datos__ en pandas son:\n",
    "\n",
    "- __Series__: array unidimensional que permite almacenar todo tipo de datos de numpy con un índice\n",
    "\n",
    "- __Dataframe__: array bidimensional con columnas y un índice. Cada una de las columnas es una serie"
   ]
  },
  {
   "cell_type": "markdown",
   "metadata": {},
   "source": [
    "<center>\n",
    "<img src=\"./imgs/series+pandas.png\"  alt=\"drawing\" width=\"50%\"/>\n",
    "</center>"
   ]
  },
  {
   "cell_type": "markdown",
   "metadata": {},
   "source": [
    "Para poder utilizar la librería, primero hay que instalarla:\n",
    "\n",
    "- conda install -c anaconda pandas  as pd        ##### Si usas anaconda\n",
    "\n",
    "- pip install pandas as pd"
   ]
  },
  {
   "cell_type": "code",
   "execution_count": 1,
   "metadata": {},
   "outputs": [],
   "source": [
    "import numpy as np\n",
    "import pandas as pd"
   ]
  },
  {
   "cell_type": "markdown",
   "metadata": {},
   "source": [
    "__OJO: pandas utiliza por debajo numpy__"
   ]
  },
  {
   "cell_type": "markdown",
   "metadata": {},
   "source": [
    "## Series"
   ]
  },
  {
   "cell_type": "markdown",
   "metadata": {},
   "source": [
    "Una serie es:\n",
    "\n",
    "- un array de datos unidimensional\n",
    "\n",
    "- Un array de etiquetas que se denomina __índice__. No es obligatorio añadir el índice"
   ]
  },
  {
   "cell_type": "markdown",
   "metadata": {},
   "source": [
    "Podemos crear una serie con índice o sin índice. Los parámetros que se pueden pasar al constructor pd.Series() son:\n",
    "\n",
    "- __data__: contiene los datos de la series. Puede ser un escalar, una secuencia de Python o un ndarray unidimensional de numpy\n",
    "\n",
    "- __index__: OPCIONAL. Son las etiquetas que se asignan a cada dato\n",
    "\n",
    "- __dtype__: OPCIONAL: indica el tipo de los datos y puede ser cualquier tipo de dato de Numpy.\n"
   ]
  },
  {
   "cell_type": "code",
   "execution_count": 2,
   "metadata": {},
   "outputs": [
    {
     "data": {
      "text/plain": [
       "0    0\n",
       "1    1\n",
       "2    2\n",
       "3    3\n",
       "4    4\n",
       "5    5\n",
       "6    6\n",
       "dtype: int64"
      ]
     },
     "execution_count": 2,
     "metadata": {},
     "output_type": "execute_result"
    }
   ],
   "source": [
    "# crear una serie sin índice\n",
    "serie1 = pd.Series([0, 1, 2, 3, 4, 5, 6])\n",
    "serie1"
   ]
  },
  {
   "cell_type": "code",
   "execution_count": 3,
   "metadata": {},
   "outputs": [
    {
     "data": {
      "text/plain": [
       "a    0\n",
       "b    1\n",
       "c    2\n",
       "d    3\n",
       "f    4\n",
       "g    5\n",
       "h    6\n",
       "dtype: int64"
      ]
     },
     "execution_count": 3,
     "metadata": {},
     "output_type": "execute_result"
    }
   ],
   "source": [
    "#crear una serie con índice\n",
    "serie2 = pd.Series([0, 1, 2, 3, 4, 5, 6], index = ['a', 'b', 'c', 'd', 'f', 'g', 'h'])\n",
    "serie2"
   ]
  },
  {
   "cell_type": "markdown",
   "metadata": {},
   "source": [
    "Si no se indica, el índice son enteros empiezando en 0"
   ]
  },
  {
   "cell_type": "markdown",
   "metadata": {},
   "source": [
    "Con values obtenemos los valores y con index los índices"
   ]
  },
  {
   "cell_type": "code",
   "execution_count": 4,
   "metadata": {},
   "outputs": [
    {
     "data": {
      "text/plain": [
       "array([0, 1, 2, 3, 4, 5, 6], dtype=int64)"
      ]
     },
     "execution_count": 4,
     "metadata": {},
     "output_type": "execute_result"
    }
   ],
   "source": [
    "serie2.values"
   ]
  },
  {
   "cell_type": "code",
   "execution_count": 5,
   "metadata": {},
   "outputs": [
    {
     "data": {
      "text/plain": [
       "Index(['a', 'b', 'c', 'd', 'f', 'g', 'h'], dtype='object')"
      ]
     },
     "execution_count": 5,
     "metadata": {},
     "output_type": "execute_result"
    }
   ],
   "source": [
    "serie2.index"
   ]
  },
  {
   "cell_type": "markdown",
   "metadata": {},
   "source": [
    "Crear una serie usando un diccionario"
   ]
  },
  {
   "cell_type": "code",
   "execution_count": 6,
   "metadata": {},
   "outputs": [
    {
     "data": {
      "text/plain": [
       "peras       2500\n",
       "manzanas    3400\n",
       "naranjas    8700\n",
       "dtype: int64"
      ]
     },
     "execution_count": 6,
     "metadata": {},
     "output_type": "execute_result"
    }
   ],
   "source": [
    "dict = {\n",
    "    'peras': 2500,\n",
    "    'manzanas': 3400,\n",
    "    'naranjas': 8700\n",
    "}\n",
    "serie3 = pd.Series(dict)\n",
    "serie3"
   ]
  },
  {
   "cell_type": "markdown",
   "metadata": {},
   "source": [
    "Seleccionamos elementos de una lista empleando el índice"
   ]
  },
  {
   "cell_type": "code",
   "execution_count": 7,
   "metadata": {},
   "outputs": [
    {
     "name": "stdout",
     "output_type": "stream",
     "text": [
      "1\n"
     ]
    },
    {
     "data": {
      "text/plain": [
       "1"
      ]
     },
     "execution_count": 7,
     "metadata": {},
     "output_type": "execute_result"
    }
   ],
   "source": [
    "# un elemento\n",
    "print(serie2['b'])\n",
    "serie1[1]"
   ]
  },
  {
   "cell_type": "code",
   "execution_count": 8,
   "metadata": {},
   "outputs": [
    {
     "name": "stdout",
     "output_type": "stream",
     "text": [
      "b    1\n",
      "a    0\n",
      "f    4\n",
      "dtype: int64\n"
     ]
    },
    {
     "data": {
      "text/plain": [
       "1    1\n",
       "2    2\n",
       "dtype: int64"
      ]
     },
     "execution_count": 8,
     "metadata": {},
     "output_type": "execute_result"
    }
   ],
   "source": [
    "# varios elementos\n",
    "print(serie2[['b', 'a', 'f']])\n",
    "serie1[1:3]"
   ]
  },
  {
   "cell_type": "markdown",
   "metadata": {},
   "source": [
    "Seleccionamos elementos empleando un índice booleano"
   ]
  },
  {
   "cell_type": "code",
   "execution_count": 9,
   "metadata": {},
   "outputs": [
    {
     "data": {
      "text/plain": [
       "4    4\n",
       "5    5\n",
       "6    6\n",
       "dtype: int64"
      ]
     },
     "execution_count": 9,
     "metadata": {},
     "output_type": "execute_result"
    }
   ],
   "source": [
    "serie1[serie1>3]"
   ]
  },
  {
   "cell_type": "markdown",
   "metadata": {},
   "source": [
    "Operaciones con las series"
   ]
  },
  {
   "cell_type": "code",
   "execution_count": 10,
   "metadata": {},
   "outputs": [
    {
     "data": {
      "text/plain": [
       "0     0\n",
       "1     2\n",
       "2     4\n",
       "3     6\n",
       "4     8\n",
       "5    10\n",
       "6    12\n",
       "dtype: int64"
      ]
     },
     "execution_count": 10,
     "metadata": {},
     "output_type": "execute_result"
    }
   ],
   "source": [
    "2 * serie1"
   ]
  },
  {
   "cell_type": "code",
   "execution_count": 11,
   "metadata": {},
   "outputs": [
    {
     "name": "stdout",
     "output_type": "stream",
     "text": [
      "3.0\n"
     ]
    },
    {
     "data": {
      "text/plain": [
       "3.0"
      ]
     },
     "execution_count": 11,
     "metadata": {},
     "output_type": "execute_result"
    }
   ],
   "source": [
    "print(serie1.mean())\n",
    "np.mean(serie1)"
   ]
  },
  {
   "cell_type": "code",
   "execution_count": 12,
   "metadata": {},
   "outputs": [
    {
     "data": {
      "text/plain": [
       "True"
      ]
     },
     "execution_count": 12,
     "metadata": {},
     "output_type": "execute_result"
    }
   ],
   "source": [
    "'peras' in serie3"
   ]
  },
  {
   "cell_type": "markdown",
   "metadata": {},
   "source": [
    "Podemos cambiar el índice a una serie (pero todo, no uno solo)"
   ]
  },
  {
   "cell_type": "code",
   "execution_count": 13,
   "metadata": {},
   "outputs": [
    {
     "data": {
      "text/plain": [
       "melocotones    2500\n",
       "sandias        3400\n",
       "melones        8700\n",
       "dtype: int64"
      ]
     },
     "execution_count": 13,
     "metadata": {},
     "output_type": "execute_result"
    }
   ],
   "source": [
    "serie3.index = ['melocotones', 'sandias', 'melones']\n",
    "serie3"
   ]
  },
  {
   "cell_type": "code",
   "execution_count": 14,
   "metadata": {},
   "outputs": [
    {
     "ename": "TypeError",
     "evalue": "Index does not support mutable operations",
     "output_type": "error",
     "traceback": [
      "\u001b[1;31m---------------------------------------------------------------------------\u001b[0m",
      "\u001b[1;31mTypeError\u001b[0m                                 Traceback (most recent call last)",
      "\u001b[1;32mc:\\Users\\adriy\\Desktop\\Curso_uam\\python_finance\\4_pandas\\4_1_Creación_Series_Dataframes.ipynb Celda 32\u001b[0m in \u001b[0;36m<cell line: 1>\u001b[1;34m()\u001b[0m\n\u001b[1;32m----> <a href='vscode-notebook-cell:/c%3A/Users/adriy/Desktop/Curso_uam/python_finance/4_pandas/4_1_Creaci%C3%B3n_Series_Dataframes.ipynb#X43sZmlsZQ%3D%3D?line=0'>1</a>\u001b[0m serie3\u001b[39m.\u001b[39mindex[\u001b[39m0\u001b[39m]\u001b[39m=\u001b[39m\u001b[39m'\u001b[39m\u001b[39mciruelas\u001b[39m\u001b[39m'\u001b[39m\n",
      "File \u001b[1;32mc:\\Users\\adriy\\anaconda3\\lib\\site-packages\\pandas\\core\\indexes\\base.py:5021\u001b[0m, in \u001b[0;36mIndex.__setitem__\u001b[1;34m(self, key, value)\u001b[0m\n\u001b[0;32m   5019\u001b[0m \u001b[39m@final\u001b[39m\n\u001b[0;32m   5020\u001b[0m \u001b[39mdef\u001b[39;00m \u001b[39m__setitem__\u001b[39m(\u001b[39mself\u001b[39m, key, value):\n\u001b[1;32m-> 5021\u001b[0m     \u001b[39mraise\u001b[39;00m \u001b[39mTypeError\u001b[39;00m(\u001b[39m\"\u001b[39m\u001b[39mIndex does not support mutable operations\u001b[39m\u001b[39m\"\u001b[39m)\n",
      "\u001b[1;31mTypeError\u001b[0m: Index does not support mutable operations"
     ]
    }
   ],
   "source": [
    "serie3.index[0]='ciruelas'    # Esto da error"
   ]
  },
  {
   "cell_type": "markdown",
   "metadata": {},
   "source": [
    "Se le puede asignar el nombre a una serie:\n",
    "- Si se hace el gráfico saldrá el nombre\n",
    "- Si se genera un dataframe, será el nombre de la columna"
   ]
  },
  {
   "cell_type": "code",
   "execution_count": null,
   "metadata": {},
   "outputs": [
    {
     "data": {
      "text/plain": [
       "peras       2500\n",
       "manzanas    3400\n",
       "naranjas    8700\n",
       "Name: frutas, dtype: int64"
      ]
     },
     "execution_count": 18,
     "metadata": {},
     "output_type": "execute_result"
    }
   ],
   "source": [
    "serie3.name = 'frutas'\n",
    "serie3"
   ]
  },
  {
   "cell_type": "markdown",
   "metadata": {},
   "source": [
    "## DataFrames"
   ]
  },
  {
   "cell_type": "markdown",
   "metadata": {},
   "source": [
    "- Un DataFrame es la estructura de datos con la que Pandas almacena y manipula datos tabulados.\n",
    "\n",
    "- Tiene filas y columnas, acepta distintos tipos de datos de Numpy y permite interactuar entre ellos.\n",
    "\n",
    "- Puedes ver cada columna de un dataframe como una serie\n",
    "\n",
    "- Tiene un índice para las filas y otro para las columnas \n",
    "\n",
    "- En palabras más sencillas, es como una hoja de cálculo de Excel."
   ]
  },
  {
   "cell_type": "markdown",
   "metadata": {},
   "source": [
    "<br>\n",
    "<center>\n",
    "<img src=\"./imgs/pandas.png\"  alt=\"drawing\" width=\"25%\"/>\n",
    "</center>"
   ]
  },
  {
   "cell_type": "markdown",
   "metadata": {},
   "source": [
    "### Creación de Dataframes"
   ]
  },
  {
   "cell_type": "markdown",
   "metadata": {},
   "source": [
    "Un Dataframe se crea mediante el constructor que puede recibir los siguientes parámetros:\n",
    "\n",
    "- __data__: son los datos que va a almacenar el dataframe. Pueden ser un ndarray bidimensional, una serie, otro dataframe o un diccionario de Series\n",
    "\n",
    "- __index__: Opcional. Son las etiquetas de las fila\n",
    "\n",
    "- __columns__: Opcional. Son las etiquetas de las columnas\n",
    "\n",
    "- __dtype__: Opcional. Fija el tipo de datos de todas las columas"
   ]
  },
  {
   "cell_type": "code",
   "execution_count": null,
   "metadata": {},
   "outputs": [
    {
     "name": "stdout",
     "output_type": "stream",
     "text": [
      "              player  year  goals\n",
      "0       Lionel Messi  2016     37\n",
      "1  Cristiano Ronaldo  2016     25\n"
     ]
    }
   ],
   "source": [
    "# Crear un Dataframe usando un diccionario\n",
    "football_dict = {\n",
    "\t\t    \"player\": [\"Lionel Messi\", \"Cristiano Ronaldo\"],\n",
    "\t\t    \"year\": [2016, 2016],\n",
    "\t\t    \"goals\": [37, 25]\n",
    "}\n",
    "football_stats = pd.DataFrame(football_dict)\n",
    "print(football_stats)"
   ]
  },
  {
   "cell_type": "code",
   "execution_count": null,
   "metadata": {},
   "outputs": [
    {
     "name": "stdout",
     "output_type": "stream",
     "text": [
      "              player  year  goals\n",
      "0       Lionel Messi  2016     37\n",
      "1  Cristiano Ronaldo  2016     25\n"
     ]
    }
   ],
   "source": [
    "# Crear un Dataframe usando un diccionario de listas\n",
    "\n",
    "football_list = [\n",
    "\t\t    {\"player\": \"Lionel Messi\", \"year\": 2016, \"goals\": 37},\n",
    "\t\t    {\"player\": \"Cristiano Ronaldo\", \"year\": 2016, \"goals\": 25},\n",
    "\t\t]\n",
    "footbal_df = pd.DataFrame(football_list)\n",
    "print(footbal_df)"
   ]
  },
  {
   "cell_type": "code",
   "execution_count": null,
   "metadata": {},
   "outputs": [
    {
     "name": "stdout",
     "output_type": "stream",
     "text": [
      "              player  year  goals\n",
      "0       Lionel Messi  2016     37\n",
      "1  Cristiano Ronaldo  2016     25\n"
     ]
    }
   ],
   "source": [
    "# Crear un DataFrame usando listas\n",
    "\n",
    "player = [\"Lionel Messi\", \"Cristiano Ronaldo\"]\n",
    "year = [2016, 2016]\n",
    "goals = [37, 25]\n",
    "footbal_df = pd.DataFrame()\n",
    "footbal_df['player'] = player\n",
    "footbal_df['year'] = year\n",
    "footbal_df['goals'] = goals\n",
    "print(footbal_df)\n"
   ]
  },
  {
   "cell_type": "code",
   "execution_count": null,
   "metadata": {},
   "outputs": [
    {
     "data": {
      "text/html": [
       "<div>\n",
       "<style scoped>\n",
       "    .dataframe tbody tr th:only-of-type {\n",
       "        vertical-align: middle;\n",
       "    }\n",
       "\n",
       "    .dataframe tbody tr th {\n",
       "        vertical-align: top;\n",
       "    }\n",
       "\n",
       "    .dataframe thead th {\n",
       "        text-align: right;\n",
       "    }\n",
       "</style>\n",
       "<table border=\"1\" class=\"dataframe\">\n",
       "  <thead>\n",
       "    <tr style=\"text-align: right;\">\n",
       "      <th></th>\n",
       "      <th>pares</th>\n",
       "      <th>impares</th>\n",
       "    </tr>\n",
       "  </thead>\n",
       "  <tbody>\n",
       "  </tbody>\n",
       "</table>\n",
       "</div>"
      ],
      "text/plain": [
       "Empty DataFrame\n",
       "Columns: [pares, impares]\n",
       "Index: []"
      ]
     },
     "execution_count": 21,
     "metadata": {},
     "output_type": "execute_result"
    }
   ],
   "source": [
    "# podemos crear un DataFrame sin valores\n",
    "prueba_df = pd.DataFrame(columns=['pares', 'impares'])\n",
    "prueba_df"
   ]
  },
  {
   "cell_type": "code",
   "execution_count": null,
   "metadata": {},
   "outputs": [
    {
     "name": "stdout",
     "output_type": "stream",
     "text": [
      "   pares  impares\n",
      "0      0        1\n",
      "1      2        3\n",
      "2      4        5\n",
      "3      6        7\n",
      "4      8        9\n"
     ]
    }
   ],
   "source": [
    "# Crear un Dataframe usando un loop\n",
    "\n",
    "lista_pares = []\n",
    "lista_impares =[]\n",
    "\n",
    "for i in range(5):\n",
    "    lista_pares.append(2*i)\n",
    "    lista_impares.append(2*i+1)\n",
    "\n",
    "numeros = pd.DataFrame()\n",
    "numeros[\"pares\"] = lista_pares\n",
    "numeros[\"impares\"] = lista_impares\n",
    "print(numeros)"
   ]
  },
  {
   "cell_type": "code",
   "execution_count": null,
   "metadata": {},
   "outputs": [
    {
     "name": "stdout",
     "output_type": "stream",
     "text": [
      "   pepe  jose\n",
      "0     0     1\n",
      "1     2     3\n",
      "2     4     5\n",
      "3     6     7\n",
      "4     8     9\n"
     ]
    }
   ],
   "source": [
    "numeros.columns=['pepe', 'jose']\n",
    "print(numeros)"
   ]
  },
  {
   "cell_type": "code",
   "execution_count": null,
   "metadata": {},
   "outputs": [],
   "source": [
    "numeros.columns=['pares', 'impares']"
   ]
  },
  {
   "cell_type": "markdown",
   "metadata": {},
   "source": [
    "Pandas ofrece métodos para __leer y escribir ficheros csv, excell etc.__\n",
    "\n",
    "Esto lo veremos más adelante, pero para poder cargar un dataframe con datos, vamos a leer un fichero .csv con datos sobre futbol. Para ello usamos el método __pd.read_csv()__"
   ]
  },
  {
   "cell_type": "code",
   "execution_count": null,
   "metadata": {},
   "outputs": [],
   "source": [
    "footbal_stats = pd.read_csv('./data/Fullmetadata.csv', index_col='player_id')"
   ]
  },
  {
   "cell_type": "markdown",
   "metadata": {},
   "source": [
    "Inspeccionar un Dataframe:"
   ]
  },
  {
   "cell_type": "markdown",
   "metadata": {},
   "source": [
    "<center>\n",
    "<img src=\"./imgs/Pandas Inspect Data.png\"  alt=\"drawing\" width=\"50%\"/>\n",
    "</center>"
   ]
  },
  {
   "cell_type": "code",
   "execution_count": null,
   "metadata": {},
   "outputs": [
    {
     "data": {
      "text/html": [
       "<div>\n",
       "<style scoped>\n",
       "    .dataframe tbody tr th:only-of-type {\n",
       "        vertical-align: middle;\n",
       "    }\n",
       "\n",
       "    .dataframe tbody tr th {\n",
       "        vertical-align: top;\n",
       "    }\n",
       "\n",
       "    .dataframe thead th {\n",
       "        text-align: right;\n",
       "    }\n",
       "</style>\n",
       "<table border=\"1\" class=\"dataframe\">\n",
       "  <thead>\n",
       "    <tr style=\"text-align: right;\">\n",
       "      <th></th>\n",
       "      <th>player_name</th>\n",
       "      <th>games</th>\n",
       "      <th>time</th>\n",
       "      <th>goals</th>\n",
       "      <th>shots</th>\n",
       "      <th>key_passes</th>\n",
       "      <th>yellow_cards</th>\n",
       "      <th>red_cards</th>\n",
       "      <th>position</th>\n",
       "      <th>team_name</th>\n",
       "    </tr>\n",
       "    <tr>\n",
       "      <th>player_id</th>\n",
       "      <th></th>\n",
       "      <th></th>\n",
       "      <th></th>\n",
       "      <th></th>\n",
       "      <th></th>\n",
       "      <th></th>\n",
       "      <th></th>\n",
       "      <th></th>\n",
       "      <th></th>\n",
       "      <th></th>\n",
       "    </tr>\n",
       "  </thead>\n",
       "  <tbody>\n",
       "    <tr>\n",
       "      <th>8865</th>\n",
       "      <td>Ollie Watkins</td>\n",
       "      <td>9</td>\n",
       "      <td>810</td>\n",
       "      <td>6</td>\n",
       "      <td>22</td>\n",
       "      <td>12</td>\n",
       "      <td>0</td>\n",
       "      <td>0</td>\n",
       "      <td>F</td>\n",
       "      <td>Aston Villa</td>\n",
       "    </tr>\n",
       "    <tr>\n",
       "      <th>675</th>\n",
       "      <td>Jack Grealish</td>\n",
       "      <td>9</td>\n",
       "      <td>810</td>\n",
       "      <td>5</td>\n",
       "      <td>26</td>\n",
       "      <td>26</td>\n",
       "      <td>2</td>\n",
       "      <td>0</td>\n",
       "      <td>F M</td>\n",
       "      <td>Aston Villa</td>\n",
       "    </tr>\n",
       "    <tr>\n",
       "      <th>592</th>\n",
       "      <td>Ross Barkley</td>\n",
       "      <td>6</td>\n",
       "      <td>454</td>\n",
       "      <td>2</td>\n",
       "      <td>17</td>\n",
       "      <td>15</td>\n",
       "      <td>0</td>\n",
       "      <td>0</td>\n",
       "      <td>M</td>\n",
       "      <td>Aston Villa</td>\n",
       "    </tr>\n",
       "    <tr>\n",
       "      <th>1024</th>\n",
       "      <td>Tyrone Mings</td>\n",
       "      <td>9</td>\n",
       "      <td>810</td>\n",
       "      <td>2</td>\n",
       "      <td>7</td>\n",
       "      <td>2</td>\n",
       "      <td>2</td>\n",
       "      <td>0</td>\n",
       "      <td>D</td>\n",
       "      <td>Aston Villa</td>\n",
       "    </tr>\n",
       "    <tr>\n",
       "      <th>7726</th>\n",
       "      <td>Ezri Konsa Ngoyo</td>\n",
       "      <td>9</td>\n",
       "      <td>810</td>\n",
       "      <td>2</td>\n",
       "      <td>7</td>\n",
       "      <td>0</td>\n",
       "      <td>0</td>\n",
       "      <td>0</td>\n",
       "      <td>D</td>\n",
       "      <td>Aston Villa</td>\n",
       "    </tr>\n",
       "  </tbody>\n",
       "</table>\n",
       "</div>"
      ],
      "text/plain": [
       "                player_name  games  time  goals  shots  key_passes  \\\n",
       "player_id                                                            \n",
       "8865          Ollie Watkins      9   810      6     22          12   \n",
       "675           Jack Grealish      9   810      5     26          26   \n",
       "592            Ross Barkley      6   454      2     17          15   \n",
       "1024           Tyrone Mings      9   810      2      7           2   \n",
       "7726       Ezri Konsa Ngoyo      9   810      2      7           0   \n",
       "\n",
       "           yellow_cards  red_cards position    team_name  \n",
       "player_id                                                 \n",
       "8865                  0          0        F  Aston Villa  \n",
       "675                   2          0      F M  Aston Villa  \n",
       "592                   0          0        M  Aston Villa  \n",
       "1024                  2          0        D  Aston Villa  \n",
       "7726                  0          0        D  Aston Villa  "
      ]
     },
     "execution_count": 27,
     "metadata": {},
     "output_type": "execute_result"
    }
   ],
   "source": [
    "footbal_stats.head()"
   ]
  },
  {
   "cell_type": "code",
   "execution_count": null,
   "metadata": {},
   "outputs": [
    {
     "name": "stdout",
     "output_type": "stream",
     "text": [
      "<class 'pandas.core.frame.DataFrame'>\n",
      "Int64Index: 18633 entries, 8865 to 4363\n",
      "Data columns (total 10 columns):\n",
      " #   Column        Non-Null Count  Dtype \n",
      "---  ------        --------------  ----- \n",
      " 0   player_name   18633 non-null  object\n",
      " 1   games         18633 non-null  int64 \n",
      " 2   time          18633 non-null  int64 \n",
      " 3   goals         18633 non-null  int64 \n",
      " 4   shots         18633 non-null  int64 \n",
      " 5   key_passes    18633 non-null  int64 \n",
      " 6   yellow_cards  18633 non-null  int64 \n",
      " 7   red_cards     18633 non-null  int64 \n",
      " 8   position      18633 non-null  object\n",
      " 9   team_name     18633 non-null  object\n",
      "dtypes: int64(7), object(3)\n",
      "memory usage: 1.6+ MB\n"
     ]
    }
   ],
   "source": [
    "footbal_stats.info()"
   ]
  },
  {
   "cell_type": "code",
   "execution_count": null,
   "metadata": {},
   "outputs": [
    {
     "data": {
      "text/plain": [
       "(18633, 10)"
      ]
     },
     "execution_count": 29,
     "metadata": {},
     "output_type": "execute_result"
    }
   ],
   "source": [
    "footbal_stats.shape"
   ]
  },
  {
   "cell_type": "code",
   "execution_count": null,
   "metadata": {},
   "outputs": [
    {
     "data": {
      "text/html": [
       "<div>\n",
       "<style scoped>\n",
       "    .dataframe tbody tr th:only-of-type {\n",
       "        vertical-align: middle;\n",
       "    }\n",
       "\n",
       "    .dataframe tbody tr th {\n",
       "        vertical-align: top;\n",
       "    }\n",
       "\n",
       "    .dataframe thead th {\n",
       "        text-align: right;\n",
       "    }\n",
       "</style>\n",
       "<table border=\"1\" class=\"dataframe\">\n",
       "  <thead>\n",
       "    <tr style=\"text-align: right;\">\n",
       "      <th></th>\n",
       "      <th>games</th>\n",
       "      <th>time</th>\n",
       "      <th>goals</th>\n",
       "      <th>shots</th>\n",
       "      <th>key_passes</th>\n",
       "      <th>yellow_cards</th>\n",
       "      <th>red_cards</th>\n",
       "    </tr>\n",
       "  </thead>\n",
       "  <tbody>\n",
       "    <tr>\n",
       "      <th>count</th>\n",
       "      <td>18633.000000</td>\n",
       "      <td>18633.000000</td>\n",
       "      <td>18633.000000</td>\n",
       "      <td>18633.000000</td>\n",
       "      <td>18633.000000</td>\n",
       "      <td>18633.000000</td>\n",
       "      <td>18633.000000</td>\n",
       "    </tr>\n",
       "    <tr>\n",
       "      <th>mean</th>\n",
       "      <td>17.072291</td>\n",
       "      <td>1207.483282</td>\n",
       "      <td>1.624054</td>\n",
       "      <td>15.323888</td>\n",
       "      <td>11.354801</td>\n",
       "      <td>2.453979</td>\n",
       "      <td>0.127569</td>\n",
       "    </tr>\n",
       "    <tr>\n",
       "      <th>std</th>\n",
       "      <td>11.375527</td>\n",
       "      <td>975.753086</td>\n",
       "      <td>3.252418</td>\n",
       "      <td>20.934645</td>\n",
       "      <td>15.065863</td>\n",
       "      <td>2.685745</td>\n",
       "      <td>0.370656</td>\n",
       "    </tr>\n",
       "    <tr>\n",
       "      <th>min</th>\n",
       "      <td>1.000000</td>\n",
       "      <td>1.000000</td>\n",
       "      <td>0.000000</td>\n",
       "      <td>0.000000</td>\n",
       "      <td>0.000000</td>\n",
       "      <td>0.000000</td>\n",
       "      <td>0.000000</td>\n",
       "    </tr>\n",
       "    <tr>\n",
       "      <th>25%</th>\n",
       "      <td>7.000000</td>\n",
       "      <td>326.000000</td>\n",
       "      <td>0.000000</td>\n",
       "      <td>1.000000</td>\n",
       "      <td>1.000000</td>\n",
       "      <td>0.000000</td>\n",
       "      <td>0.000000</td>\n",
       "    </tr>\n",
       "    <tr>\n",
       "      <th>50%</th>\n",
       "      <td>16.000000</td>\n",
       "      <td>976.000000</td>\n",
       "      <td>0.000000</td>\n",
       "      <td>8.000000</td>\n",
       "      <td>5.000000</td>\n",
       "      <td>2.000000</td>\n",
       "      <td>0.000000</td>\n",
       "    </tr>\n",
       "    <tr>\n",
       "      <th>75%</th>\n",
       "      <td>27.000000</td>\n",
       "      <td>2004.000000</td>\n",
       "      <td>2.000000</td>\n",
       "      <td>21.000000</td>\n",
       "      <td>16.000000</td>\n",
       "      <td>4.000000</td>\n",
       "      <td>0.000000</td>\n",
       "    </tr>\n",
       "    <tr>\n",
       "      <th>max</th>\n",
       "      <td>38.000000</td>\n",
       "      <td>3420.000000</td>\n",
       "      <td>48.000000</td>\n",
       "      <td>227.000000</td>\n",
       "      <td>146.000000</td>\n",
       "      <td>17.000000</td>\n",
       "      <td>5.000000</td>\n",
       "    </tr>\n",
       "  </tbody>\n",
       "</table>\n",
       "</div>"
      ],
      "text/plain": [
       "              games          time         goals         shots    key_passes  \\\n",
       "count  18633.000000  18633.000000  18633.000000  18633.000000  18633.000000   \n",
       "mean      17.072291   1207.483282      1.624054     15.323888     11.354801   \n",
       "std       11.375527    975.753086      3.252418     20.934645     15.065863   \n",
       "min        1.000000      1.000000      0.000000      0.000000      0.000000   \n",
       "25%        7.000000    326.000000      0.000000      1.000000      1.000000   \n",
       "50%       16.000000    976.000000      0.000000      8.000000      5.000000   \n",
       "75%       27.000000   2004.000000      2.000000     21.000000     16.000000   \n",
       "max       38.000000   3420.000000     48.000000    227.000000    146.000000   \n",
       "\n",
       "       yellow_cards     red_cards  \n",
       "count  18633.000000  18633.000000  \n",
       "mean       2.453979      0.127569  \n",
       "std        2.685745      0.370656  \n",
       "min        0.000000      0.000000  \n",
       "25%        0.000000      0.000000  \n",
       "50%        2.000000      0.000000  \n",
       "75%        4.000000      0.000000  \n",
       "max       17.000000      5.000000  "
      ]
     },
     "execution_count": 30,
     "metadata": {},
     "output_type": "execute_result"
    }
   ],
   "source": [
    "footbal_stats.describe()"
   ]
  },
  {
   "cell_type": "markdown",
   "metadata": {},
   "source": [
    "Podemos recuperar los índices de las columns, filas y los valores del dataframe"
   ]
  },
  {
   "cell_type": "code",
   "execution_count": null,
   "metadata": {},
   "outputs": [
    {
     "data": {
      "text/plain": [
       "Int64Index([8865,  675,  592, 1024, 7726, 7721, 7723,  695,  884, 1053,\n",
       "            ...\n",
       "            4231, 4256, 4257, 4259, 4260, 4267, 4268, 4311, 4334, 4363],\n",
       "           dtype='int64', name='player_id', length=18633)"
      ]
     },
     "execution_count": 31,
     "metadata": {},
     "output_type": "execute_result"
    }
   ],
   "source": [
    "# índice de las fila\n",
    "footbal_stats.index"
   ]
  },
  {
   "cell_type": "code",
   "execution_count": null,
   "metadata": {},
   "outputs": [
    {
     "data": {
      "text/plain": [
       "Index(['player_name', 'games', 'time', 'goals', 'shots', 'key_passes',\n",
       "       'yellow_cards', 'red_cards', 'position', 'team_name'],\n",
       "      dtype='object')"
      ]
     },
     "execution_count": 32,
     "metadata": {},
     "output_type": "execute_result"
    }
   ],
   "source": [
    "# ïndice de las columnas\n",
    "footbal_stats.columns"
   ]
  },
  {
   "cell_type": "code",
   "execution_count": null,
   "metadata": {},
   "outputs": [
    {
     "data": {
      "text/plain": [
       "array([['Ollie Watkins', 9, 810, ..., 0, 'F', 'Aston Villa'],\n",
       "       ['Jack Grealish', 9, 810, ..., 0, 'F M', 'Aston Villa'],\n",
       "       ['Ross Barkley', 6, 454, ..., 0, 'M', 'Aston Villa'],\n",
       "       ...,\n",
       "       ['Idir Ouali', 6, 296, ..., 0, 'M S', 'Paderborn'],\n",
       "       ['Mirnes Pepic', 2, 20, ..., 0, 'S', 'Paderborn'],\n",
       "       ['Thomas Bertels', 1, 3, ..., 0, 'S', 'Paderborn']], dtype=object)"
      ]
     },
     "execution_count": 33,
     "metadata": {},
     "output_type": "execute_result"
    }
   ],
   "source": [
    "# Recuperar los valores\n",
    "footbal_stats.values"
   ]
  },
  {
   "cell_type": "markdown",
   "metadata": {},
   "source": [
    "## Ordenar DataFrames"
   ]
  },
  {
   "cell_type": "markdown",
   "metadata": {},
   "source": [
    "Se pueden ordenar por columnas, usando el índice etc"
   ]
  },
  {
   "cell_type": "code",
   "execution_count": null,
   "metadata": {},
   "outputs": [
    {
     "data": {
      "text/html": [
       "<div>\n",
       "<style scoped>\n",
       "    .dataframe tbody tr th:only-of-type {\n",
       "        vertical-align: middle;\n",
       "    }\n",
       "\n",
       "    .dataframe tbody tr th {\n",
       "        vertical-align: top;\n",
       "    }\n",
       "\n",
       "    .dataframe thead th {\n",
       "        text-align: right;\n",
       "    }\n",
       "</style>\n",
       "<table border=\"1\" class=\"dataframe\">\n",
       "  <thead>\n",
       "    <tr style=\"text-align: right;\">\n",
       "      <th></th>\n",
       "      <th>player_name</th>\n",
       "      <th>games</th>\n",
       "      <th>time</th>\n",
       "      <th>goals</th>\n",
       "      <th>shots</th>\n",
       "      <th>key_passes</th>\n",
       "      <th>yellow_cards</th>\n",
       "      <th>red_cards</th>\n",
       "      <th>position</th>\n",
       "      <th>team_name</th>\n",
       "    </tr>\n",
       "    <tr>\n",
       "      <th>player_id</th>\n",
       "      <th></th>\n",
       "      <th></th>\n",
       "      <th></th>\n",
       "      <th></th>\n",
       "      <th></th>\n",
       "      <th></th>\n",
       "      <th></th>\n",
       "      <th></th>\n",
       "      <th></th>\n",
       "      <th></th>\n",
       "    </tr>\n",
       "  </thead>\n",
       "  <tbody>\n",
       "    <tr>\n",
       "      <th>1</th>\n",
       "      <td>Christian Mathenia</td>\n",
       "      <td>33</td>\n",
       "      <td>2970</td>\n",
       "      <td>0</td>\n",
       "      <td>0</td>\n",
       "      <td>5</td>\n",
       "      <td>3</td>\n",
       "      <td>0</td>\n",
       "      <td>GK</td>\n",
       "      <td>Darmstadt</td>\n",
       "    </tr>\n",
       "    <tr>\n",
       "      <th>1</th>\n",
       "      <td>Christian Mathenia</td>\n",
       "      <td>24</td>\n",
       "      <td>2160</td>\n",
       "      <td>0</td>\n",
       "      <td>0</td>\n",
       "      <td>1</td>\n",
       "      <td>2</td>\n",
       "      <td>0</td>\n",
       "      <td>GK</td>\n",
       "      <td>Hamburger SV</td>\n",
       "    </tr>\n",
       "    <tr>\n",
       "      <th>1</th>\n",
       "      <td>Christian Mathenia</td>\n",
       "      <td>22</td>\n",
       "      <td>1933</td>\n",
       "      <td>0</td>\n",
       "      <td>0</td>\n",
       "      <td>1</td>\n",
       "      <td>2</td>\n",
       "      <td>0</td>\n",
       "      <td>GK</td>\n",
       "      <td>Nuernberg</td>\n",
       "    </tr>\n",
       "    <tr>\n",
       "      <th>1</th>\n",
       "      <td>Christian Mathenia</td>\n",
       "      <td>14</td>\n",
       "      <td>1260</td>\n",
       "      <td>0</td>\n",
       "      <td>0</td>\n",
       "      <td>1</td>\n",
       "      <td>1</td>\n",
       "      <td>0</td>\n",
       "      <td>GK</td>\n",
       "      <td>Hamburger SV</td>\n",
       "    </tr>\n",
       "    <tr>\n",
       "      <th>2</th>\n",
       "      <td>György Garics</td>\n",
       "      <td>21</td>\n",
       "      <td>1796</td>\n",
       "      <td>0</td>\n",
       "      <td>3</td>\n",
       "      <td>3</td>\n",
       "      <td>8</td>\n",
       "      <td>0</td>\n",
       "      <td>D S</td>\n",
       "      <td>Darmstadt</td>\n",
       "    </tr>\n",
       "    <tr>\n",
       "      <th>...</th>\n",
       "      <td>...</td>\n",
       "      <td>...</td>\n",
       "      <td>...</td>\n",
       "      <td>...</td>\n",
       "      <td>...</td>\n",
       "      <td>...</td>\n",
       "      <td>...</td>\n",
       "      <td>...</td>\n",
       "      <td>...</td>\n",
       "      <td>...</td>\n",
       "    </tr>\n",
       "    <tr>\n",
       "      <th>9161</th>\n",
       "      <td>Jan-Luca Schuler</td>\n",
       "      <td>1</td>\n",
       "      <td>8</td>\n",
       "      <td>0</td>\n",
       "      <td>1</td>\n",
       "      <td>0</td>\n",
       "      <td>0</td>\n",
       "      <td>0</td>\n",
       "      <td>S</td>\n",
       "      <td>Schalke 04</td>\n",
       "    </tr>\n",
       "    <tr>\n",
       "      <th>9163</th>\n",
       "      <td>Kean Bryan</td>\n",
       "      <td>2</td>\n",
       "      <td>155</td>\n",
       "      <td>0</td>\n",
       "      <td>0</td>\n",
       "      <td>1</td>\n",
       "      <td>0</td>\n",
       "      <td>0</td>\n",
       "      <td>D</td>\n",
       "      <td>Sheffield United</td>\n",
       "    </tr>\n",
       "    <tr>\n",
       "      <th>9170</th>\n",
       "      <td>John Finn</td>\n",
       "      <td>1</td>\n",
       "      <td>4</td>\n",
       "      <td>0</td>\n",
       "      <td>0</td>\n",
       "      <td>0</td>\n",
       "      <td>0</td>\n",
       "      <td>0</td>\n",
       "      <td>S</td>\n",
       "      <td>Getafe</td>\n",
       "    </tr>\n",
       "    <tr>\n",
       "      <th>9174</th>\n",
       "      <td>Edgar Sevikyan</td>\n",
       "      <td>1</td>\n",
       "      <td>5</td>\n",
       "      <td>0</td>\n",
       "      <td>0</td>\n",
       "      <td>0</td>\n",
       "      <td>0</td>\n",
       "      <td>0</td>\n",
       "      <td>S</td>\n",
       "      <td>Levante</td>\n",
       "    </tr>\n",
       "    <tr>\n",
       "      <th>9177</th>\n",
       "      <td>Giuseppe Mastinu</td>\n",
       "      <td>1</td>\n",
       "      <td>1</td>\n",
       "      <td>0</td>\n",
       "      <td>0</td>\n",
       "      <td>0</td>\n",
       "      <td>0</td>\n",
       "      <td>0</td>\n",
       "      <td>S</td>\n",
       "      <td>Spezia</td>\n",
       "    </tr>\n",
       "  </tbody>\n",
       "</table>\n",
       "<p>18633 rows × 10 columns</p>\n",
       "</div>"
      ],
      "text/plain": [
       "                  player_name  games  time  goals  shots  key_passes  \\\n",
       "player_id                                                              \n",
       "1          Christian Mathenia     33  2970      0      0           5   \n",
       "1          Christian Mathenia     24  2160      0      0           1   \n",
       "1          Christian Mathenia     22  1933      0      0           1   \n",
       "1          Christian Mathenia     14  1260      0      0           1   \n",
       "2               György Garics     21  1796      0      3           3   \n",
       "...                       ...    ...   ...    ...    ...         ...   \n",
       "9161         Jan-Luca Schuler      1     8      0      1           0   \n",
       "9163               Kean Bryan      2   155      0      0           1   \n",
       "9170                John Finn      1     4      0      0           0   \n",
       "9174           Edgar Sevikyan      1     5      0      0           0   \n",
       "9177         Giuseppe Mastinu      1     1      0      0           0   \n",
       "\n",
       "           yellow_cards  red_cards position         team_name  \n",
       "player_id                                                      \n",
       "1                     3          0       GK         Darmstadt  \n",
       "1                     2          0       GK      Hamburger SV  \n",
       "1                     2          0       GK         Nuernberg  \n",
       "1                     1          0       GK      Hamburger SV  \n",
       "2                     8          0      D S         Darmstadt  \n",
       "...                 ...        ...      ...               ...  \n",
       "9161                  0          0        S        Schalke 04  \n",
       "9163                  0          0        D  Sheffield United  \n",
       "9170                  0          0        S            Getafe  \n",
       "9174                  0          0        S           Levante  \n",
       "9177                  0          0        S            Spezia  \n",
       "\n",
       "[18633 rows x 10 columns]"
      ]
     },
     "execution_count": 34,
     "metadata": {},
     "output_type": "execute_result"
    }
   ],
   "source": [
    "# ordenar por índice de filas\n",
    "footbal_stats.sort_index()\n"
   ]
  },
  {
   "cell_type": "code",
   "execution_count": null,
   "metadata": {},
   "outputs": [
    {
     "data": {
      "text/html": [
       "<div>\n",
       "<style scoped>\n",
       "    .dataframe tbody tr th:only-of-type {\n",
       "        vertical-align: middle;\n",
       "    }\n",
       "\n",
       "    .dataframe tbody tr th {\n",
       "        vertical-align: top;\n",
       "    }\n",
       "\n",
       "    .dataframe thead th {\n",
       "        text-align: right;\n",
       "    }\n",
       "</style>\n",
       "<table border=\"1\" class=\"dataframe\">\n",
       "  <thead>\n",
       "    <tr style=\"text-align: right;\">\n",
       "      <th></th>\n",
       "      <th>games</th>\n",
       "      <th>goals</th>\n",
       "      <th>key_passes</th>\n",
       "      <th>player_name</th>\n",
       "      <th>position</th>\n",
       "      <th>red_cards</th>\n",
       "      <th>shots</th>\n",
       "      <th>team_name</th>\n",
       "      <th>time</th>\n",
       "      <th>yellow_cards</th>\n",
       "    </tr>\n",
       "    <tr>\n",
       "      <th>player_id</th>\n",
       "      <th></th>\n",
       "      <th></th>\n",
       "      <th></th>\n",
       "      <th></th>\n",
       "      <th></th>\n",
       "      <th></th>\n",
       "      <th></th>\n",
       "      <th></th>\n",
       "      <th></th>\n",
       "      <th></th>\n",
       "    </tr>\n",
       "  </thead>\n",
       "  <tbody>\n",
       "    <tr>\n",
       "      <th>8865</th>\n",
       "      <td>9</td>\n",
       "      <td>6</td>\n",
       "      <td>12</td>\n",
       "      <td>Ollie Watkins</td>\n",
       "      <td>F</td>\n",
       "      <td>0</td>\n",
       "      <td>22</td>\n",
       "      <td>Aston Villa</td>\n",
       "      <td>810</td>\n",
       "      <td>0</td>\n",
       "    </tr>\n",
       "    <tr>\n",
       "      <th>675</th>\n",
       "      <td>9</td>\n",
       "      <td>5</td>\n",
       "      <td>26</td>\n",
       "      <td>Jack Grealish</td>\n",
       "      <td>F M</td>\n",
       "      <td>0</td>\n",
       "      <td>26</td>\n",
       "      <td>Aston Villa</td>\n",
       "      <td>810</td>\n",
       "      <td>2</td>\n",
       "    </tr>\n",
       "    <tr>\n",
       "      <th>592</th>\n",
       "      <td>6</td>\n",
       "      <td>2</td>\n",
       "      <td>15</td>\n",
       "      <td>Ross Barkley</td>\n",
       "      <td>M</td>\n",
       "      <td>0</td>\n",
       "      <td>17</td>\n",
       "      <td>Aston Villa</td>\n",
       "      <td>454</td>\n",
       "      <td>0</td>\n",
       "    </tr>\n",
       "    <tr>\n",
       "      <th>1024</th>\n",
       "      <td>9</td>\n",
       "      <td>2</td>\n",
       "      <td>2</td>\n",
       "      <td>Tyrone Mings</td>\n",
       "      <td>D</td>\n",
       "      <td>0</td>\n",
       "      <td>7</td>\n",
       "      <td>Aston Villa</td>\n",
       "      <td>810</td>\n",
       "      <td>2</td>\n",
       "    </tr>\n",
       "    <tr>\n",
       "      <th>7726</th>\n",
       "      <td>9</td>\n",
       "      <td>2</td>\n",
       "      <td>0</td>\n",
       "      <td>Ezri Konsa Ngoyo</td>\n",
       "      <td>D</td>\n",
       "      <td>0</td>\n",
       "      <td>7</td>\n",
       "      <td>Aston Villa</td>\n",
       "      <td>810</td>\n",
       "      <td>0</td>\n",
       "    </tr>\n",
       "    <tr>\n",
       "      <th>...</th>\n",
       "      <td>...</td>\n",
       "      <td>...</td>\n",
       "      <td>...</td>\n",
       "      <td>...</td>\n",
       "      <td>...</td>\n",
       "      <td>...</td>\n",
       "      <td>...</td>\n",
       "      <td>...</td>\n",
       "      <td>...</td>\n",
       "      <td>...</td>\n",
       "    </tr>\n",
       "    <tr>\n",
       "      <th>4267</th>\n",
       "      <td>10</td>\n",
       "      <td>0</td>\n",
       "      <td>5</td>\n",
       "      <td>Florian Hartherz</td>\n",
       "      <td>D S</td>\n",
       "      <td>1</td>\n",
       "      <td>1</td>\n",
       "      <td>Paderborn</td>\n",
       "      <td>775</td>\n",
       "      <td>1</td>\n",
       "    </tr>\n",
       "    <tr>\n",
       "      <th>4268</th>\n",
       "      <td>22</td>\n",
       "      <td>0</td>\n",
       "      <td>3</td>\n",
       "      <td>Christian Strohdiek</td>\n",
       "      <td>D S</td>\n",
       "      <td>0</td>\n",
       "      <td>6</td>\n",
       "      <td>Paderborn</td>\n",
       "      <td>1608</td>\n",
       "      <td>2</td>\n",
       "    </tr>\n",
       "    <tr>\n",
       "      <th>4311</th>\n",
       "      <td>6</td>\n",
       "      <td>0</td>\n",
       "      <td>1</td>\n",
       "      <td>Idir Ouali</td>\n",
       "      <td>M S</td>\n",
       "      <td>0</td>\n",
       "      <td>4</td>\n",
       "      <td>Paderborn</td>\n",
       "      <td>296</td>\n",
       "      <td>1</td>\n",
       "    </tr>\n",
       "    <tr>\n",
       "      <th>4334</th>\n",
       "      <td>2</td>\n",
       "      <td>0</td>\n",
       "      <td>0</td>\n",
       "      <td>Mirnes Pepic</td>\n",
       "      <td>S</td>\n",
       "      <td>0</td>\n",
       "      <td>0</td>\n",
       "      <td>Paderborn</td>\n",
       "      <td>20</td>\n",
       "      <td>0</td>\n",
       "    </tr>\n",
       "    <tr>\n",
       "      <th>4363</th>\n",
       "      <td>1</td>\n",
       "      <td>0</td>\n",
       "      <td>0</td>\n",
       "      <td>Thomas Bertels</td>\n",
       "      <td>S</td>\n",
       "      <td>0</td>\n",
       "      <td>0</td>\n",
       "      <td>Paderborn</td>\n",
       "      <td>3</td>\n",
       "      <td>0</td>\n",
       "    </tr>\n",
       "  </tbody>\n",
       "</table>\n",
       "<p>18633 rows × 10 columns</p>\n",
       "</div>"
      ],
      "text/plain": [
       "           games  goals  key_passes          player_name position  red_cards  \\\n",
       "player_id                                                                      \n",
       "8865           9      6          12        Ollie Watkins        F          0   \n",
       "675            9      5          26        Jack Grealish      F M          0   \n",
       "592            6      2          15         Ross Barkley        M          0   \n",
       "1024           9      2           2         Tyrone Mings        D          0   \n",
       "7726           9      2           0     Ezri Konsa Ngoyo        D          0   \n",
       "...          ...    ...         ...                  ...      ...        ...   \n",
       "4267          10      0           5     Florian Hartherz      D S          1   \n",
       "4268          22      0           3  Christian Strohdiek      D S          0   \n",
       "4311           6      0           1           Idir Ouali      M S          0   \n",
       "4334           2      0           0         Mirnes Pepic        S          0   \n",
       "4363           1      0           0       Thomas Bertels        S          0   \n",
       "\n",
       "           shots    team_name  time  yellow_cards  \n",
       "player_id                                          \n",
       "8865          22  Aston Villa   810             0  \n",
       "675           26  Aston Villa   810             2  \n",
       "592           17  Aston Villa   454             0  \n",
       "1024           7  Aston Villa   810             2  \n",
       "7726           7  Aston Villa   810             0  \n",
       "...          ...          ...   ...           ...  \n",
       "4267           1    Paderborn   775             1  \n",
       "4268           6    Paderborn  1608             2  \n",
       "4311           4    Paderborn   296             1  \n",
       "4334           0    Paderborn    20             0  \n",
       "4363           0    Paderborn     3             0  \n",
       "\n",
       "[18633 rows x 10 columns]"
      ]
     },
     "execution_count": 35,
     "metadata": {},
     "output_type": "execute_result"
    }
   ],
   "source": [
    "# ordenar por índice de columnas\n",
    "footbal_stats.sort_index(axis=1)"
   ]
  },
  {
   "cell_type": "code",
   "execution_count": null,
   "metadata": {},
   "outputs": [
    {
     "data": {
      "text/html": [
       "<div>\n",
       "<style scoped>\n",
       "    .dataframe tbody tr th:only-of-type {\n",
       "        vertical-align: middle;\n",
       "    }\n",
       "\n",
       "    .dataframe tbody tr th {\n",
       "        vertical-align: top;\n",
       "    }\n",
       "\n",
       "    .dataframe thead th {\n",
       "        text-align: right;\n",
       "    }\n",
       "</style>\n",
       "<table border=\"1\" class=\"dataframe\">\n",
       "  <thead>\n",
       "    <tr style=\"text-align: right;\">\n",
       "      <th></th>\n",
       "      <th>player_name</th>\n",
       "      <th>games</th>\n",
       "      <th>time</th>\n",
       "      <th>goals</th>\n",
       "      <th>shots</th>\n",
       "      <th>key_passes</th>\n",
       "      <th>yellow_cards</th>\n",
       "      <th>red_cards</th>\n",
       "      <th>position</th>\n",
       "      <th>team_name</th>\n",
       "    </tr>\n",
       "    <tr>\n",
       "      <th>player_id</th>\n",
       "      <th></th>\n",
       "      <th></th>\n",
       "      <th></th>\n",
       "      <th></th>\n",
       "      <th></th>\n",
       "      <th></th>\n",
       "      <th></th>\n",
       "      <th></th>\n",
       "      <th></th>\n",
       "      <th></th>\n",
       "    </tr>\n",
       "  </thead>\n",
       "  <tbody>\n",
       "    <tr>\n",
       "      <th>6851</th>\n",
       "      <td>Conor Coady</td>\n",
       "      <td>10</td>\n",
       "      <td>900</td>\n",
       "      <td>0</td>\n",
       "      <td>0</td>\n",
       "      <td>1</td>\n",
       "      <td>2</td>\n",
       "      <td>0</td>\n",
       "      <td>D</td>\n",
       "      <td>Wolverhampton Wanderers</td>\n",
       "    </tr>\n",
       "    <tr>\n",
       "      <th>787</th>\n",
       "      <td>Ryan Bennett</td>\n",
       "      <td>11</td>\n",
       "      <td>606</td>\n",
       "      <td>0</td>\n",
       "      <td>1</td>\n",
       "      <td>2</td>\n",
       "      <td>2</td>\n",
       "      <td>0</td>\n",
       "      <td>D S</td>\n",
       "      <td>Wolverhampton Wanderers</td>\n",
       "    </tr>\n",
       "    <tr>\n",
       "      <th>6849</th>\n",
       "      <td>Rui Patrício</td>\n",
       "      <td>37</td>\n",
       "      <td>3330</td>\n",
       "      <td>0</td>\n",
       "      <td>0</td>\n",
       "      <td>0</td>\n",
       "      <td>0</td>\n",
       "      <td>0</td>\n",
       "      <td>GK</td>\n",
       "      <td>Wolverhampton Wanderers</td>\n",
       "    </tr>\n",
       "    <tr>\n",
       "      <th>6851</th>\n",
       "      <td>Conor Coady</td>\n",
       "      <td>38</td>\n",
       "      <td>3420</td>\n",
       "      <td>0</td>\n",
       "      <td>0</td>\n",
       "      <td>2</td>\n",
       "      <td>5</td>\n",
       "      <td>0</td>\n",
       "      <td>D</td>\n",
       "      <td>Wolverhampton Wanderers</td>\n",
       "    </tr>\n",
       "    <tr>\n",
       "      <th>6855</th>\n",
       "      <td>Léo Bonatini</td>\n",
       "      <td>7</td>\n",
       "      <td>117</td>\n",
       "      <td>0</td>\n",
       "      <td>9</td>\n",
       "      <td>2</td>\n",
       "      <td>0</td>\n",
       "      <td>0</td>\n",
       "      <td>S</td>\n",
       "      <td>Wolverhampton Wanderers</td>\n",
       "    </tr>\n",
       "    <tr>\n",
       "      <th>...</th>\n",
       "      <td>...</td>\n",
       "      <td>...</td>\n",
       "      <td>...</td>\n",
       "      <td>...</td>\n",
       "      <td>...</td>\n",
       "      <td>...</td>\n",
       "      <td>...</td>\n",
       "      <td>...</td>\n",
       "      <td>...</td>\n",
       "      <td>...</td>\n",
       "    </tr>\n",
       "    <tr>\n",
       "      <th>2810</th>\n",
       "      <td>Salvatore Bocchetti</td>\n",
       "      <td>9</td>\n",
       "      <td>629</td>\n",
       "      <td>0</td>\n",
       "      <td>2</td>\n",
       "      <td>1</td>\n",
       "      <td>1</td>\n",
       "      <td>0</td>\n",
       "      <td>D S</td>\n",
       "      <td>AC Milan</td>\n",
       "    </tr>\n",
       "    <tr>\n",
       "      <th>3904</th>\n",
       "      <td>Gian Filippo Felicioli</td>\n",
       "      <td>1</td>\n",
       "      <td>5</td>\n",
       "      <td>0</td>\n",
       "      <td>0</td>\n",
       "      <td>0</td>\n",
       "      <td>0</td>\n",
       "      <td>0</td>\n",
       "      <td>S</td>\n",
       "      <td>AC Milan</td>\n",
       "    </tr>\n",
       "    <tr>\n",
       "      <th>3905</th>\n",
       "      <td>Alessandro Mastalli</td>\n",
       "      <td>1</td>\n",
       "      <td>13</td>\n",
       "      <td>0</td>\n",
       "      <td>1</td>\n",
       "      <td>0</td>\n",
       "      <td>0</td>\n",
       "      <td>0</td>\n",
       "      <td>S</td>\n",
       "      <td>AC Milan</td>\n",
       "    </tr>\n",
       "    <tr>\n",
       "      <th>3933</th>\n",
       "      <td>Davide Di Molfetta</td>\n",
       "      <td>1</td>\n",
       "      <td>1</td>\n",
       "      <td>0</td>\n",
       "      <td>0</td>\n",
       "      <td>0</td>\n",
       "      <td>0</td>\n",
       "      <td>0</td>\n",
       "      <td>S</td>\n",
       "      <td>AC Milan</td>\n",
       "    </tr>\n",
       "    <tr>\n",
       "      <th>2048</th>\n",
       "      <td>Antonio Nocerino</td>\n",
       "      <td>2</td>\n",
       "      <td>66</td>\n",
       "      <td>0</td>\n",
       "      <td>0</td>\n",
       "      <td>1</td>\n",
       "      <td>0</td>\n",
       "      <td>0</td>\n",
       "      <td>M S</td>\n",
       "      <td>AC Milan</td>\n",
       "    </tr>\n",
       "  </tbody>\n",
       "</table>\n",
       "<p>18633 rows × 10 columns</p>\n",
       "</div>"
      ],
      "text/plain": [
       "                      player_name  games  time  goals  shots  key_passes  \\\n",
       "player_id                                                                  \n",
       "6851                  Conor Coady     10   900      0      0           1   \n",
       "787                  Ryan Bennett     11   606      0      1           2   \n",
       "6849                 Rui Patrício     37  3330      0      0           0   \n",
       "6851                  Conor Coady     38  3420      0      0           2   \n",
       "6855                 Léo Bonatini      7   117      0      9           2   \n",
       "...                           ...    ...   ...    ...    ...         ...   \n",
       "2810          Salvatore Bocchetti      9   629      0      2           1   \n",
       "3904       Gian Filippo Felicioli      1     5      0      0           0   \n",
       "3905          Alessandro Mastalli      1    13      0      1           0   \n",
       "3933           Davide Di Molfetta      1     1      0      0           0   \n",
       "2048             Antonio Nocerino      2    66      0      0           1   \n",
       "\n",
       "           yellow_cards  red_cards position                team_name  \n",
       "player_id                                                             \n",
       "6851                  2          0        D  Wolverhampton Wanderers  \n",
       "787                   2          0      D S  Wolverhampton Wanderers  \n",
       "6849                  0          0       GK  Wolverhampton Wanderers  \n",
       "6851                  5          0        D  Wolverhampton Wanderers  \n",
       "6855                  0          0        S  Wolverhampton Wanderers  \n",
       "...                 ...        ...      ...                      ...  \n",
       "2810                  1          0      D S                 AC Milan  \n",
       "3904                  0          0        S                 AC Milan  \n",
       "3905                  0          0        S                 AC Milan  \n",
       "3933                  0          0        S                 AC Milan  \n",
       "2048                  0          0      M S                 AC Milan  \n",
       "\n",
       "[18633 rows x 10 columns]"
      ]
     },
     "execution_count": 36,
     "metadata": {},
     "output_type": "execute_result"
    }
   ],
   "source": [
    "footbal_stats.sort_values(by='team_name', ascending=False)"
   ]
  },
  {
   "cell_type": "markdown",
   "metadata": {},
   "source": [
    "¿Cómo podemos ver todos los métodos que se pueden usar de un objeto?"
   ]
  },
  {
   "cell_type": "code",
   "execution_count": null,
   "metadata": {},
   "outputs": [
    {
     "name": "stdout",
     "output_type": "stream",
     "text": [
      "['T', 'abs', 'add', 'add_prefix', 'add_suffix', 'agg', 'aggregate', 'align', 'all', 'any', 'append', 'apply', 'applymap', 'asfreq', 'asof', 'assign', 'astype', 'at', 'at_time', 'attrs', 'axes', 'backfill', 'between_time', 'bfill', 'bool', 'boxplot', 'clip', 'columns', 'combine', 'combine_first', 'compare', 'convert_dtypes', 'copy', 'corr', 'corrwith', 'count', 'cov', 'cummax', 'cummin', 'cumprod', 'cumsum', 'describe', 'diff', 'div', 'divide', 'dot', 'drop', 'drop_duplicates', 'droplevel', 'dropna', 'dtypes', 'duplicated', 'empty', 'eq', 'equals', 'eval', 'ewm', 'expanding', 'explode', 'ffill', 'fillna', 'filter', 'first', 'first_valid_index', 'flags', 'floordiv', 'from_dict', 'from_records', 'ge', 'get', 'groupby', 'gt', 'head', 'hist', 'iat', 'idxmax', 'idxmin', 'iloc', 'impares', 'index', 'infer_objects', 'info', 'insert', 'interpolate', 'isin', 'isna', 'isnull', 'items', 'iteritems', 'iterrows', 'itertuples', 'join', 'keys', 'kurt', 'kurtosis', 'last', 'last_valid_index', 'le', 'loc', 'lookup', 'lt', 'mad', 'mask', 'max', 'mean', 'median', 'melt', 'memory_usage', 'merge', 'min', 'mod', 'mode', 'mul', 'multiply', 'ndim', 'ne', 'nlargest', 'notna', 'notnull', 'nsmallest', 'nunique', 'pad', 'pares', 'pct_change', 'pipe', 'pivot', 'pivot_table', 'plot', 'pop', 'pow', 'prod', 'product', 'quantile', 'query', 'radd', 'rank', 'rdiv', 'reindex', 'reindex_like', 'rename', 'rename_axis', 'reorder_levels', 'replace', 'resample', 'reset_index', 'rfloordiv', 'rmod', 'rmul', 'rolling', 'round', 'rpow', 'rsub', 'rtruediv', 'sample', 'select_dtypes', 'sem', 'set_axis', 'set_flags', 'set_index', 'shape', 'shift', 'size', 'skew', 'slice_shift', 'sort_index', 'sort_values', 'squeeze', 'stack', 'std', 'style', 'sub', 'subtract', 'sum', 'swapaxes', 'swaplevel', 'tail', 'take', 'to_clipboard', 'to_csv', 'to_dict', 'to_excel', 'to_feather', 'to_gbq', 'to_hdf', 'to_html', 'to_json', 'to_latex', 'to_markdown', 'to_numpy', 'to_parquet', 'to_period', 'to_pickle', 'to_records', 'to_sql', 'to_stata', 'to_string', 'to_timestamp', 'to_xarray', 'to_xml', 'transform', 'transpose', 'truediv', 'truncate', 'tz_convert', 'tz_localize', 'unstack', 'update', 'value_counts', 'values', 'var', 'where', 'xs']\n"
     ]
    }
   ],
   "source": [
    "print([ m for m in dir(numeros) if not m.startswith('_')])"
   ]
  },
  {
   "cell_type": "markdown",
   "metadata": {},
   "source": [
    "___\n",
    "# EJERCICIOS"
   ]
  },
  {
   "cell_type": "markdown",
   "metadata": {},
   "source": [
    "**1** Crea un DataFrame que sea una \"matriz\" 5x5 con los números del 1 al 25, los índices van desde 1 hasta 5 al igual que las columnas"
   ]
  },
  {
   "cell_type": "code",
   "execution_count": null,
   "metadata": {},
   "outputs": [],
   "source": []
  },
  {
   "cell_type": "markdown",
   "metadata": {},
   "source": [
    "**2** Leer los datos del fichero Fullmetadata.csv y almacenarlo en un DataFrame"
   ]
  },
  {
   "cell_type": "code",
   "execution_count": null,
   "metadata": {},
   "outputs": [],
   "source": []
  },
  {
   "cell_type": "markdown",
   "metadata": {},
   "source": [
    "**3** Muestra una descripción de los datos"
   ]
  },
  {
   "cell_type": "code",
   "execution_count": null,
   "metadata": {},
   "outputs": [],
   "source": []
  },
  {
   "cell_type": "markdown",
   "metadata": {},
   "source": [
    "**4** Muestra las 3 primeras filas"
   ]
  },
  {
   "cell_type": "code",
   "execution_count": null,
   "metadata": {},
   "outputs": [],
   "source": []
  },
  {
   "cell_type": "markdown",
   "metadata": {},
   "source": [
    "**5** Muestra los valores que toma la columna goles y cuántas veces aparece cada valor\n"
   ]
  },
  {
   "cell_type": "code",
   "execution_count": null,
   "metadata": {},
   "outputs": [],
   "source": []
  },
  {
   "cell_type": "markdown",
   "metadata": {},
   "source": [
    "**6** Selecciona las columnas player_names y goals"
   ]
  },
  {
   "cell_type": "code",
   "execution_count": null,
   "metadata": {},
   "outputs": [],
   "source": []
  },
  {
   "cell_type": "markdown",
   "metadata": {},
   "source": []
  }
 ],
 "metadata": {
  "kernelspec": {
   "display_name": "Python 3.9.12 ('base')",
   "language": "python",
   "name": "python3"
  },
  "language_info": {
   "codemirror_mode": {
    "name": "ipython",
    "version": 3
   },
   "file_extension": ".py",
   "mimetype": "text/x-python",
   "name": "python",
   "nbconvert_exporter": "python",
   "pygments_lexer": "ipython3",
   "version": "3.9.12"
  },
  "orig_nbformat": 4,
  "vscode": {
   "interpreter": {
    "hash": "18a6b418ca989a304418b74e14b57df096d22507d5bd0d85ac6f17ef362aab2d"
   }
  }
 },
 "nbformat": 4,
 "nbformat_minor": 2
}
