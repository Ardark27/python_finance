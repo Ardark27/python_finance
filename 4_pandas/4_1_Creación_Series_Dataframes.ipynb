{
 "cells": [
  {
   "cell_type": "markdown",
   "metadata": {},
   "source": [
    "# 4.1 Introducción a Pandas"
   ]
  },
  {
   "cell_type": "markdown",
   "metadata": {},
   "source": [
    "Pandas es una muy popular librería de código abierto dentro de los desarrolladores de Python, y sobre todo dentro del ámbito de Data Science y Machine Learning, ya que ofrece unas estructuras muy poderosas y flexibles que facilitan la manipulación y tratamiento de datos."
   ]
  },
  {
   "cell_type": "markdown",
   "metadata": {},
   "source": [
    "Puedes encontrar la documentación de pandas en https://pandas.pydata.org/docs/index.html"
   ]
  },
  {
   "cell_type": "markdown",
   "metadata": {},
   "source": [
    "# Estructuras de datos en Pandas"
   ]
  },
  {
   "cell_type": "markdown",
   "metadata": {},
   "source": [
    "Las dos __estructuras de datos__ en pandas son:\n",
    "\n",
    "-__Series__: array unidimensional que permite almacenar todo tipo de datos de numpy con un índice\n",
    "\n",
    "-__Dataframe__: array bidimensional con columnas y un índice. Cada una de las columnas es una serie"
   ]
  },
  {
   "cell_type": "markdown",
   "metadata": {},
   "source": [
    "<center>\n",
    "<img src=\"./imgs/series+pandas.png\"  alt=\"drawing\" width=\"50%\"/>\n",
    "</center>"
   ]
  },
  {
   "cell_type": "markdown",
   "metadata": {},
   "source": [
    "Para poder utilizar la librería, primero hay que instalarla:\n",
    "\n",
    "- conda install -c anaconda pandas  as pd        ##### Si usas anaconda\n",
    "\n",
    "- pip install pandas as pd"
   ]
  },
  {
   "cell_type": "code",
   "execution_count": 2,
   "metadata": {},
   "outputs": [],
   "source": [
    "import numpy as np\n",
    "import pandas as pd"
   ]
  },
  {
   "cell_type": "markdown",
   "metadata": {},
   "source": [
    "__OJO: pandas utiliza por debajo numpy__"
   ]
  },
  {
   "cell_type": "markdown",
   "metadata": {},
   "source": [
    "## Series"
   ]
  },
  {
   "cell_type": "markdown",
   "metadata": {},
   "source": [
    "Una serie es:\n",
    "\n",
    "- un array de datos unidimensional\n",
    "\n",
    "- Un array de etiquetas que se denomina __índice__. No es obligatorio añadir el índice"
   ]
  },
  {
   "cell_type": "markdown",
   "metadata": {},
   "source": [
    "Podemos crear una serie con índice o sin índice. Los parámetros que se pueden pasar al constructor pd.Series() son:\n",
    "\n",
    "- __data__: contiene los datos de la series. Puede ser un escalar, una secuencia de Python o un ndarray unidimensional de numpy\n",
    "- __index__: OPCIONAL. Son las etiquetas que se asignan a cada dato\n",
    "- __dtype__: OPCIONAL: indica el tipo de los datos y puede ser cualquier tipo de dato de Numpy.\n"
   ]
  },
  {
   "cell_type": "code",
   "execution_count": 7,
   "metadata": {},
   "outputs": [],
   "source": [
    "# crear una serie sin índice\n",
    "serie1 = pd.Series([0, 1, 2, 3, 4, 5, 6])\n",
    "\n",
    "#crear una serie con índice\n",
    "serie2 = pd.Series([0, 1, 2, 3, 4, 5, 6], index = ['a', 'b', 'c', 'd', 'f', 'g', 'h'])"
   ]
  },
  {
   "cell_type": "code",
   "execution_count": 8,
   "metadata": {},
   "outputs": [
    {
     "data": {
      "text/plain": [
       "0    0\n",
       "1    1\n",
       "2    2\n",
       "3    3\n",
       "4    4\n",
       "5    5\n",
       "6    6\n",
       "dtype: int64"
      ]
     },
     "execution_count": 8,
     "metadata": {},
     "output_type": "execute_result"
    }
   ],
   "source": [
    "serie1"
   ]
  },
  {
   "cell_type": "code",
   "execution_count": 9,
   "metadata": {},
   "outputs": [
    {
     "data": {
      "text/plain": [
       "a    0\n",
       "b    1\n",
       "c    2\n",
       "d    3\n",
       "f    4\n",
       "g    5\n",
       "h    6\n",
       "dtype: int64"
      ]
     },
     "execution_count": 9,
     "metadata": {},
     "output_type": "execute_result"
    }
   ],
   "source": [
    "serie2"
   ]
  },
  {
   "cell_type": "markdown",
   "metadata": {},
   "source": [
    "Si no se indica, el índice son enteros empiezando en 0"
   ]
  },
  {
   "cell_type": "markdown",
   "metadata": {},
   "source": [
    "Con values obtenemos los valores y con index los índices"
   ]
  },
  {
   "cell_type": "code",
   "execution_count": 10,
   "metadata": {},
   "outputs": [
    {
     "data": {
      "text/plain": [
       "array([0, 1, 2, 3, 4, 5, 6])"
      ]
     },
     "execution_count": 10,
     "metadata": {},
     "output_type": "execute_result"
    }
   ],
   "source": [
    "serie2.values"
   ]
  },
  {
   "cell_type": "code",
   "execution_count": 15,
   "metadata": {},
   "outputs": [
    {
     "data": {
      "text/plain": [
       "Index(['a', 'b', 'c', 'd', 'f', 'g', 'h'], dtype='object')"
      ]
     },
     "execution_count": 15,
     "metadata": {},
     "output_type": "execute_result"
    }
   ],
   "source": [
    "serie2.index"
   ]
  },
  {
   "cell_type": "markdown",
   "metadata": {},
   "source": [
    "Crear una serie usando un diccionario"
   ]
  },
  {
   "cell_type": "code",
   "execution_count": 10,
   "metadata": {},
   "outputs": [
    {
     "data": {
      "text/plain": [
       "peras       2500\n",
       "manzanas    3400\n",
       "naranjas    8700\n",
       "dtype: int64"
      ]
     },
     "execution_count": 10,
     "metadata": {},
     "output_type": "execute_result"
    }
   ],
   "source": [
    "dict = {\n",
    "    'peras': 2500,\n",
    "    'manzanas': 3400,\n",
    "    'naranjas': 8700\n",
    "}\n",
    "serie3 = pd.Series(dict)\n",
    "serie3"
   ]
  },
  {
   "cell_type": "markdown",
   "metadata": {},
   "source": [
    "Seleccionamos elementos de una lista empleando el índice"
   ]
  },
  {
   "cell_type": "code",
   "execution_count": 18,
   "metadata": {},
   "outputs": [
    {
     "name": "stdout",
     "output_type": "stream",
     "text": [
      "1\n"
     ]
    },
    {
     "data": {
      "text/plain": [
       "1"
      ]
     },
     "execution_count": 18,
     "metadata": {},
     "output_type": "execute_result"
    }
   ],
   "source": [
    "# un elemento\n",
    "print(serie2['b'])\n",
    "serie1[1]"
   ]
  },
  {
   "cell_type": "code",
   "execution_count": 21,
   "metadata": {},
   "outputs": [
    {
     "name": "stdout",
     "output_type": "stream",
     "text": [
      "b    1\n",
      "a    0\n",
      "f    4\n",
      "dtype: int64\n"
     ]
    },
    {
     "data": {
      "text/plain": [
       "1    1\n",
       "2    2\n",
       "dtype: int64"
      ]
     },
     "execution_count": 21,
     "metadata": {},
     "output_type": "execute_result"
    }
   ],
   "source": [
    "# varios elementos\n",
    "print(serie2[['b', 'a', 'f']])\n",
    "serie1[1:3]"
   ]
  },
  {
   "cell_type": "markdown",
   "metadata": {},
   "source": [
    "Seleccionamos elementos empleando un índice booleano"
   ]
  },
  {
   "cell_type": "code",
   "execution_count": 22,
   "metadata": {},
   "outputs": [
    {
     "data": {
      "text/plain": [
       "4    4\n",
       "5    5\n",
       "6    6\n",
       "dtype: int64"
      ]
     },
     "execution_count": 22,
     "metadata": {},
     "output_type": "execute_result"
    }
   ],
   "source": [
    "serie1[serie1>3]"
   ]
  },
  {
   "cell_type": "markdown",
   "metadata": {},
   "source": [
    "Operaciones con las series"
   ]
  },
  {
   "cell_type": "code",
   "execution_count": 28,
   "metadata": {},
   "outputs": [
    {
     "data": {
      "text/plain": [
       "0     0\n",
       "1     2\n",
       "2     4\n",
       "3     6\n",
       "4     8\n",
       "5    10\n",
       "6    12\n",
       "dtype: int64"
      ]
     },
     "execution_count": 28,
     "metadata": {},
     "output_type": "execute_result"
    }
   ],
   "source": [
    "2 * serie1"
   ]
  },
  {
   "cell_type": "code",
   "execution_count": 27,
   "metadata": {},
   "outputs": [
    {
     "name": "stdout",
     "output_type": "stream",
     "text": [
      "3.0\n"
     ]
    },
    {
     "data": {
      "text/plain": [
       "3.0"
      ]
     },
     "execution_count": 27,
     "metadata": {},
     "output_type": "execute_result"
    }
   ],
   "source": [
    "print(serie1.mean())\n",
    "np.mean(serie1)"
   ]
  },
  {
   "cell_type": "code",
   "execution_count": 7,
   "metadata": {},
   "outputs": [
    {
     "data": {
      "text/plain": [
       "True"
      ]
     },
     "execution_count": 7,
     "metadata": {},
     "output_type": "execute_result"
    }
   ],
   "source": [
    "'peras' in serie3"
   ]
  },
  {
   "cell_type": "markdown",
   "metadata": {},
   "source": [
    "Podemos cambiar el índice a una serie (pero todo, no uno solo)"
   ]
  },
  {
   "cell_type": "code",
   "execution_count": 11,
   "metadata": {},
   "outputs": [
    {
     "data": {
      "text/plain": [
       "melocotones    2500\n",
       "sandias        3400\n",
       "melones        8700\n",
       "dtype: int64"
      ]
     },
     "execution_count": 11,
     "metadata": {},
     "output_type": "execute_result"
    }
   ],
   "source": [
    "serie3.index = ['melocotones', 'sandias', 'melones']\n",
    "serie3"
   ]
  },
  {
   "cell_type": "code",
   "execution_count": 6,
   "metadata": {},
   "outputs": [
    {
     "ename": "TypeError",
     "evalue": "Index does not support mutable operations",
     "output_type": "error",
     "traceback": [
      "\u001b[0;31m---------------------------------------------------------------------------\u001b[0m",
      "\u001b[0;31mTypeError\u001b[0m                                 Traceback (most recent call last)",
      "\u001b[1;32m/home/alfonso/Desktop/universidad/curso_minsait/python_finance/4_pandas/4_1_intro.ipynb Cell 33\u001b[0m in \u001b[0;36m<cell line: 1>\u001b[0;34m()\u001b[0m\n\u001b[0;32m----> <a href='vscode-notebook-cell:/home/alfonso/Desktop/universidad/curso_minsait/python_finance/4_pandas/4_1_intro.ipynb#X46sZmlsZQ%3D%3D?line=0'>1</a>\u001b[0m serie3\u001b[39m.\u001b[39;49mindex[\u001b[39m0\u001b[39;49m]\u001b[39m=\u001b[39m\u001b[39m'\u001b[39m\u001b[39mciruelas\u001b[39m\u001b[39m'\u001b[39m\n",
      "File \u001b[0;32m~/Desktop/universidad/curso_minsait/python_finance/venv/lib/python3.9/site-packages/pandas/core/indexes/base.py:5021\u001b[0m, in \u001b[0;36mIndex.__setitem__\u001b[0;34m(self, key, value)\u001b[0m\n\u001b[1;32m   5019\u001b[0m \u001b[39m@final\u001b[39m\n\u001b[1;32m   5020\u001b[0m \u001b[39mdef\u001b[39;00m \u001b[39m__setitem__\u001b[39m(\u001b[39mself\u001b[39m, key, value):\n\u001b[0;32m-> 5021\u001b[0m     \u001b[39mraise\u001b[39;00m \u001b[39mTypeError\u001b[39;00m(\u001b[39m\"\u001b[39m\u001b[39mIndex does not support mutable operations\u001b[39m\u001b[39m\"\u001b[39m)\n",
      "\u001b[0;31mTypeError\u001b[0m: Index does not support mutable operations"
     ]
    }
   ],
   "source": [
    "serie3.index[0]='ciruelas'    # Esto da error"
   ]
  },
  {
   "cell_type": "markdown",
   "metadata": {},
   "source": [
    "Se le puede asignar el nombre a una serie:\n",
    "- Si se hace el gráfico saldrá el nombre\n",
    "- Si se genera un dataframe, será el nombre de la columna"
   ]
  },
  {
   "cell_type": "code",
   "execution_count": 10,
   "metadata": {},
   "outputs": [],
   "source": [
    "serie3.name = 'frutas'"
   ]
  },
  {
   "cell_type": "markdown",
   "metadata": {},
   "source": [
    "## DataFrames"
   ]
  },
  {
   "cell_type": "markdown",
   "metadata": {},
   "source": [
    "- Un DataFrame es la estructura de datos con la que Pandas almacena y manipula datos tabulados. \n",
    "- Tiene filas y columnas, acepta distintos tipos de datos de Numpy y permite interactuar entre ellos.\n",
    "- Puedes ver cada columna de un dataframe como una serie\n",
    "- Tiene un índice para las filas y otro para las columnas\n",
    "- En palabras más sencillas, es como una hoja de cálculo de Excel."
   ]
  },
  {
   "cell_type": "markdown",
   "metadata": {},
   "source": [
    "<center>\n",
    "<img src=\"./imgs/pandas.png\"  alt=\"drawing\" width=\"25%\"/>\n",
    "</center>"
   ]
  },
  {
   "cell_type": "markdown",
   "metadata": {},
   "source": [
    "### Creación de Dataframes"
   ]
  },
  {
   "cell_type": "markdown",
   "metadata": {},
   "source": [
    "Un Dataframe se crea mediante el constructor que puede recibir los siguientes parámetros:\n",
    "- __data__: son los datos que va a almacenar el dataframe. Pueden ser un ndarray bidimensional, una serie, otro dataframe o un diccionario de Series\n",
    "- __index__: Opcional. Son las etiquetas de las fila\n",
    "- __columns__: Opcional. Son las etiquetas de las columnas\n",
    "- __dtype__: Opcional. Fija el tipo de datos de todas las columas"
   ]
  },
  {
   "cell_type": "code",
   "execution_count": 12,
   "metadata": {},
   "outputs": [
    {
     "name": "stdout",
     "output_type": "stream",
     "text": [
      "              player  year  goals\n",
      "0       Lionel Messi  2016     37\n",
      "1  Cristiano Ronaldo  2016     25\n"
     ]
    }
   ],
   "source": [
    "# Crear un Dataframe usando un diccionario\n",
    "football_dict = {\n",
    "\t\t    \"player\": [\"Lionel Messi\", \"Cristiano Ronaldo\"],\n",
    "\t\t    \"year\": [2016, 2016],\n",
    "\t\t    \"goals\": [37, 25]\n",
    "}\n",
    "football_stats = pd.DataFrame(football_dict)\n",
    "print(football_stats)"
   ]
  },
  {
   "cell_type": "code",
   "execution_count": 44,
   "metadata": {},
   "outputs": [
    {
     "name": "stdout",
     "output_type": "stream",
     "text": [
      "              player  year  goals\n",
      "0       Lionel Messi  2016     37\n",
      "1  Cristiano Ronaldo  2016     25\n"
     ]
    }
   ],
   "source": [
    "# Crear un Dataframe usando un diccionario de listas\n",
    "\n",
    "football_list = [\n",
    "\t\t    {\"player\": \"Lionel Messi\", \"year\": 2016, \"goals\": 37},\n",
    "\t\t    {\"player\": \"Cristiano Ronaldo\", \"year\": 2016, \"goals\": 25},\n",
    "\t\t]\n",
    "football_stats = pd.DataFrame(football_list)\n",
    "print(football_stats)"
   ]
  },
  {
   "cell_type": "code",
   "execution_count": 13,
   "metadata": {},
   "outputs": [
    {
     "name": "stdout",
     "output_type": "stream",
     "text": [
      "              player  year  goals\n",
      "0       Lionel Messi  2016     37\n",
      "1  Cristiano Ronaldo  2016     25\n"
     ]
    }
   ],
   "source": [
    "# Crear un DataFrame usando listas\n",
    "\n",
    "player = [\"Lionel Messi\", \"Cristiano Ronaldo\"]\n",
    "year = [2016, 2016]\n",
    "goals = [37, 25]\n",
    "football_stats = pd.DataFrame()\n",
    "football_stats['player'] = player\n",
    "football_stats['year'] = year\n",
    "football_stats['goals'] = goals\n",
    "print(football_stats)\n"
   ]
  },
  {
   "cell_type": "code",
   "execution_count": 42,
   "metadata": {},
   "outputs": [
    {
     "data": {
      "text/html": [
       "<div>\n",
       "<style scoped>\n",
       "    .dataframe tbody tr th:only-of-type {\n",
       "        vertical-align: middle;\n",
       "    }\n",
       "\n",
       "    .dataframe tbody tr th {\n",
       "        vertical-align: top;\n",
       "    }\n",
       "\n",
       "    .dataframe thead th {\n",
       "        text-align: right;\n",
       "    }\n",
       "</style>\n",
       "<table border=\"1\" class=\"dataframe\">\n",
       "  <thead>\n",
       "    <tr style=\"text-align: right;\">\n",
       "      <th></th>\n",
       "      <th>pares</th>\n",
       "      <th>impares</th>\n",
       "    </tr>\n",
       "  </thead>\n",
       "  <tbody>\n",
       "  </tbody>\n",
       "</table>\n",
       "</div>"
      ],
      "text/plain": [
       "Empty DataFrame\n",
       "Columns: [pares, impares]\n",
       "Index: []"
      ]
     },
     "execution_count": 42,
     "metadata": {},
     "output_type": "execute_result"
    }
   ],
   "source": [
    "# podemos crear un DataFrame sin valores\n",
    "prueba_df = pd.DataFrame(columns=['pares', 'impares'])\n",
    "prueba_df"
   ]
  },
  {
   "cell_type": "code",
   "execution_count": 45,
   "metadata": {},
   "outputs": [],
   "source": [
    "del football_stats"
   ]
  },
  {
   "cell_type": "code",
   "execution_count": 9,
   "metadata": {},
   "outputs": [
    {
     "name": "stdout",
     "output_type": "stream",
     "text": [
      "   pares  impares\n",
      "0      0        1\n",
      "1      2        3\n",
      "2      4        5\n",
      "3      6        7\n",
      "4      8        9\n"
     ]
    }
   ],
   "source": [
    "# Crear un Dataframe usando un loop\n",
    "\n",
    "lista_pares = []\n",
    "lista_impares =[]\n",
    "\n",
    "for i in range(5):\n",
    "    lista_pares.append(2*i)\n",
    "    lista_impares.append(2*i+1)\n",
    "\n",
    "numeros = pd.DataFrame()\n",
    "numeros[\"pares\"] = lista_pares\n",
    "numeros[\"impares\"] = lista_impares\n",
    "print(numeros)"
   ]
  },
  {
   "cell_type": "code",
   "execution_count": null,
   "metadata": {},
   "outputs": [],
   "source": []
  },
  {
   "cell_type": "code",
   "execution_count": 34,
   "metadata": {},
   "outputs": [
    {
     "name": "stdout",
     "output_type": "stream",
     "text": [
      "   pepe  jose\n",
      "0     0     1\n",
      "1     2     3\n",
      "2     4     5\n",
      "3     6     7\n",
      "4     8     9\n"
     ]
    }
   ],
   "source": [
    "numeros.columns=['pepe', 'jose']\n",
    "print(numeros)"
   ]
  },
  {
   "cell_type": "code",
   "execution_count": 10,
   "metadata": {},
   "outputs": [],
   "source": [
    "numeros.columns=['pares', 'impares']"
   ]
  },
  {
   "cell_type": "markdown",
   "metadata": {},
   "source": [
    "Pandas ofrece métodos para __leer y escribir ficheros csv, excell etc.__ Esto lo veremos más adelante, pero para poder cargar un dataframe con datos, vamos a leer un fichero .csv con datos sobre futbol. Para ello usamos el método pd.read_csv()"
   ]
  },
  {
   "cell_type": "code",
   "execution_count": 3,
   "metadata": {},
   "outputs": [],
   "source": [
    "footbal_stats = pd.read_csv('./data/Fullmetadata.csv', index_col='player_id')"
   ]
  },
  {
   "cell_type": "markdown",
   "metadata": {},
   "source": [
    "Inspeccionar un Dataframe:"
   ]
  },
  {
   "cell_type": "markdown",
   "metadata": {},
   "source": [
    "<center>\n",
    "<img src=\"./imgs/Pandas Inspect Data.png\"  alt=\"drawing\" width=\"50%\"/>\n",
    "</center>"
   ]
  },
  {
   "cell_type": "code",
   "execution_count": null,
   "metadata": {},
   "outputs": [],
   "source": []
  },
  {
   "cell_type": "code",
   "execution_count": 26,
   "metadata": {},
   "outputs": [
    {
     "data": {
      "text/html": [
       "<div>\n",
       "<style scoped>\n",
       "    .dataframe tbody tr th:only-of-type {\n",
       "        vertical-align: middle;\n",
       "    }\n",
       "\n",
       "    .dataframe tbody tr th {\n",
       "        vertical-align: top;\n",
       "    }\n",
       "\n",
       "    .dataframe thead th {\n",
       "        text-align: right;\n",
       "    }\n",
       "</style>\n",
       "<table border=\"1\" class=\"dataframe\">\n",
       "  <thead>\n",
       "    <tr style=\"text-align: right;\">\n",
       "      <th></th>\n",
       "      <th>player_name</th>\n",
       "      <th>games</th>\n",
       "      <th>time</th>\n",
       "      <th>goals</th>\n",
       "      <th>shots</th>\n",
       "      <th>key_passes</th>\n",
       "      <th>yellow_cards</th>\n",
       "      <th>red_cards</th>\n",
       "      <th>position</th>\n",
       "      <th>team_name</th>\n",
       "    </tr>\n",
       "    <tr>\n",
       "      <th>player_id</th>\n",
       "      <th></th>\n",
       "      <th></th>\n",
       "      <th></th>\n",
       "      <th></th>\n",
       "      <th></th>\n",
       "      <th></th>\n",
       "      <th></th>\n",
       "      <th></th>\n",
       "      <th></th>\n",
       "      <th></th>\n",
       "    </tr>\n",
       "  </thead>\n",
       "  <tbody>\n",
       "    <tr>\n",
       "      <th>8865</th>\n",
       "      <td>Ollie Watkins</td>\n",
       "      <td>9</td>\n",
       "      <td>810</td>\n",
       "      <td>6</td>\n",
       "      <td>22</td>\n",
       "      <td>12</td>\n",
       "      <td>0</td>\n",
       "      <td>0</td>\n",
       "      <td>F</td>\n",
       "      <td>Aston Villa</td>\n",
       "    </tr>\n",
       "    <tr>\n",
       "      <th>675</th>\n",
       "      <td>Jack Grealish</td>\n",
       "      <td>9</td>\n",
       "      <td>810</td>\n",
       "      <td>5</td>\n",
       "      <td>26</td>\n",
       "      <td>26</td>\n",
       "      <td>2</td>\n",
       "      <td>0</td>\n",
       "      <td>F M</td>\n",
       "      <td>Aston Villa</td>\n",
       "    </tr>\n",
       "    <tr>\n",
       "      <th>592</th>\n",
       "      <td>Ross Barkley</td>\n",
       "      <td>6</td>\n",
       "      <td>454</td>\n",
       "      <td>2</td>\n",
       "      <td>17</td>\n",
       "      <td>15</td>\n",
       "      <td>0</td>\n",
       "      <td>0</td>\n",
       "      <td>M</td>\n",
       "      <td>Aston Villa</td>\n",
       "    </tr>\n",
       "    <tr>\n",
       "      <th>1024</th>\n",
       "      <td>Tyrone Mings</td>\n",
       "      <td>9</td>\n",
       "      <td>810</td>\n",
       "      <td>2</td>\n",
       "      <td>7</td>\n",
       "      <td>2</td>\n",
       "      <td>2</td>\n",
       "      <td>0</td>\n",
       "      <td>D</td>\n",
       "      <td>Aston Villa</td>\n",
       "    </tr>\n",
       "    <tr>\n",
       "      <th>7726</th>\n",
       "      <td>Ezri Konsa Ngoyo</td>\n",
       "      <td>9</td>\n",
       "      <td>810</td>\n",
       "      <td>2</td>\n",
       "      <td>7</td>\n",
       "      <td>0</td>\n",
       "      <td>0</td>\n",
       "      <td>0</td>\n",
       "      <td>D</td>\n",
       "      <td>Aston Villa</td>\n",
       "    </tr>\n",
       "  </tbody>\n",
       "</table>\n",
       "</div>"
      ],
      "text/plain": [
       "                player_name  games  time  goals  shots  key_passes  \\\n",
       "player_id                                                            \n",
       "8865          Ollie Watkins      9   810      6     22          12   \n",
       "675           Jack Grealish      9   810      5     26          26   \n",
       "592            Ross Barkley      6   454      2     17          15   \n",
       "1024           Tyrone Mings      9   810      2      7           2   \n",
       "7726       Ezri Konsa Ngoyo      9   810      2      7           0   \n",
       "\n",
       "           yellow_cards  red_cards position    team_name  \n",
       "player_id                                                 \n",
       "8865                  0          0        F  Aston Villa  \n",
       "675                   2          0      F M  Aston Villa  \n",
       "592                   0          0        M  Aston Villa  \n",
       "1024                  2          0        D  Aston Villa  \n",
       "7726                  0          0        D  Aston Villa  "
      ]
     },
     "execution_count": 26,
     "metadata": {},
     "output_type": "execute_result"
    }
   ],
   "source": [
    "footbal_stats.head()"
   ]
  },
  {
   "cell_type": "code",
   "execution_count": null,
   "metadata": {},
   "outputs": [],
   "source": []
  },
  {
   "cell_type": "code",
   "execution_count": 27,
   "metadata": {},
   "outputs": [
    {
     "name": "stdout",
     "output_type": "stream",
     "text": [
      "<class 'pandas.core.frame.DataFrame'>\n",
      "Int64Index: 18633 entries, 8865 to 4363\n",
      "Data columns (total 10 columns):\n",
      " #   Column        Non-Null Count  Dtype \n",
      "---  ------        --------------  ----- \n",
      " 0   player_name   18633 non-null  object\n",
      " 1   games         18633 non-null  int64 \n",
      " 2   time          18633 non-null  int64 \n",
      " 3   goals         18633 non-null  int64 \n",
      " 4   shots         18633 non-null  int64 \n",
      " 5   key_passes    18633 non-null  int64 \n",
      " 6   yellow_cards  18633 non-null  int64 \n",
      " 7   red_cards     18633 non-null  int64 \n",
      " 8   position      18633 non-null  object\n",
      " 9   team_name     18633 non-null  object\n",
      "dtypes: int64(7), object(3)\n",
      "memory usage: 1.6+ MB\n"
     ]
    }
   ],
   "source": [
    "footbal_stats.info()"
   ]
  },
  {
   "cell_type": "code",
   "execution_count": 28,
   "metadata": {},
   "outputs": [
    {
     "data": {
      "text/plain": [
       "(18633, 10)"
      ]
     },
     "execution_count": 28,
     "metadata": {},
     "output_type": "execute_result"
    }
   ],
   "source": [
    "footbal_stats.shape"
   ]
  },
  {
   "cell_type": "code",
   "execution_count": 29,
   "metadata": {},
   "outputs": [
    {
     "data": {
      "text/html": [
       "<div>\n",
       "<style scoped>\n",
       "    .dataframe tbody tr th:only-of-type {\n",
       "        vertical-align: middle;\n",
       "    }\n",
       "\n",
       "    .dataframe tbody tr th {\n",
       "        vertical-align: top;\n",
       "    }\n",
       "\n",
       "    .dataframe thead th {\n",
       "        text-align: right;\n",
       "    }\n",
       "</style>\n",
       "<table border=\"1\" class=\"dataframe\">\n",
       "  <thead>\n",
       "    <tr style=\"text-align: right;\">\n",
       "      <th></th>\n",
       "      <th>games</th>\n",
       "      <th>time</th>\n",
       "      <th>goals</th>\n",
       "      <th>shots</th>\n",
       "      <th>key_passes</th>\n",
       "      <th>yellow_cards</th>\n",
       "      <th>red_cards</th>\n",
       "    </tr>\n",
       "  </thead>\n",
       "  <tbody>\n",
       "    <tr>\n",
       "      <th>count</th>\n",
       "      <td>18633.000000</td>\n",
       "      <td>18633.000000</td>\n",
       "      <td>18633.000000</td>\n",
       "      <td>18633.000000</td>\n",
       "      <td>18633.000000</td>\n",
       "      <td>18633.000000</td>\n",
       "      <td>18633.000000</td>\n",
       "    </tr>\n",
       "    <tr>\n",
       "      <th>mean</th>\n",
       "      <td>17.072291</td>\n",
       "      <td>1207.483282</td>\n",
       "      <td>1.624054</td>\n",
       "      <td>15.323888</td>\n",
       "      <td>11.354801</td>\n",
       "      <td>2.453979</td>\n",
       "      <td>0.127569</td>\n",
       "    </tr>\n",
       "    <tr>\n",
       "      <th>std</th>\n",
       "      <td>11.375527</td>\n",
       "      <td>975.753086</td>\n",
       "      <td>3.252418</td>\n",
       "      <td>20.934645</td>\n",
       "      <td>15.065863</td>\n",
       "      <td>2.685745</td>\n",
       "      <td>0.370656</td>\n",
       "    </tr>\n",
       "    <tr>\n",
       "      <th>min</th>\n",
       "      <td>1.000000</td>\n",
       "      <td>1.000000</td>\n",
       "      <td>0.000000</td>\n",
       "      <td>0.000000</td>\n",
       "      <td>0.000000</td>\n",
       "      <td>0.000000</td>\n",
       "      <td>0.000000</td>\n",
       "    </tr>\n",
       "    <tr>\n",
       "      <th>25%</th>\n",
       "      <td>7.000000</td>\n",
       "      <td>326.000000</td>\n",
       "      <td>0.000000</td>\n",
       "      <td>1.000000</td>\n",
       "      <td>1.000000</td>\n",
       "      <td>0.000000</td>\n",
       "      <td>0.000000</td>\n",
       "    </tr>\n",
       "    <tr>\n",
       "      <th>50%</th>\n",
       "      <td>16.000000</td>\n",
       "      <td>976.000000</td>\n",
       "      <td>0.000000</td>\n",
       "      <td>8.000000</td>\n",
       "      <td>5.000000</td>\n",
       "      <td>2.000000</td>\n",
       "      <td>0.000000</td>\n",
       "    </tr>\n",
       "    <tr>\n",
       "      <th>75%</th>\n",
       "      <td>27.000000</td>\n",
       "      <td>2004.000000</td>\n",
       "      <td>2.000000</td>\n",
       "      <td>21.000000</td>\n",
       "      <td>16.000000</td>\n",
       "      <td>4.000000</td>\n",
       "      <td>0.000000</td>\n",
       "    </tr>\n",
       "    <tr>\n",
       "      <th>max</th>\n",
       "      <td>38.000000</td>\n",
       "      <td>3420.000000</td>\n",
       "      <td>48.000000</td>\n",
       "      <td>227.000000</td>\n",
       "      <td>146.000000</td>\n",
       "      <td>17.000000</td>\n",
       "      <td>5.000000</td>\n",
       "    </tr>\n",
       "  </tbody>\n",
       "</table>\n",
       "</div>"
      ],
      "text/plain": [
       "              games          time         goals         shots    key_passes  \\\n",
       "count  18633.000000  18633.000000  18633.000000  18633.000000  18633.000000   \n",
       "mean      17.072291   1207.483282      1.624054     15.323888     11.354801   \n",
       "std       11.375527    975.753086      3.252418     20.934645     15.065863   \n",
       "min        1.000000      1.000000      0.000000      0.000000      0.000000   \n",
       "25%        7.000000    326.000000      0.000000      1.000000      1.000000   \n",
       "50%       16.000000    976.000000      0.000000      8.000000      5.000000   \n",
       "75%       27.000000   2004.000000      2.000000     21.000000     16.000000   \n",
       "max       38.000000   3420.000000     48.000000    227.000000    146.000000   \n",
       "\n",
       "       yellow_cards     red_cards  \n",
       "count  18633.000000  18633.000000  \n",
       "mean       2.453979      0.127569  \n",
       "std        2.685745      0.370656  \n",
       "min        0.000000      0.000000  \n",
       "25%        0.000000      0.000000  \n",
       "50%        2.000000      0.000000  \n",
       "75%        4.000000      0.000000  \n",
       "max       17.000000      5.000000  "
      ]
     },
     "execution_count": 29,
     "metadata": {},
     "output_type": "execute_result"
    }
   ],
   "source": [
    "footbal_stats.describe()"
   ]
  },
  {
   "cell_type": "markdown",
   "metadata": {},
   "source": [
    "Podemos recuperar los índices de las columns, filas y los valores del dataframe"
   ]
  },
  {
   "cell_type": "code",
   "execution_count": 4,
   "metadata": {},
   "outputs": [
    {
     "data": {
      "text/plain": [
       "Int64Index([8865,  675,  592, 1024, 7726, 7721, 7723,  695,  884, 1053,\n",
       "            ...\n",
       "            4231, 4256, 4257, 4259, 4260, 4267, 4268, 4311, 4334, 4363],\n",
       "           dtype='int64', name='player_id', length=18633)"
      ]
     },
     "execution_count": 4,
     "metadata": {},
     "output_type": "execute_result"
    }
   ],
   "source": [
    "# índice de las fila\n",
    "footbal_stats.index"
   ]
  },
  {
   "cell_type": "code",
   "execution_count": 5,
   "metadata": {},
   "outputs": [
    {
     "data": {
      "text/plain": [
       "Index(['player_name', 'games', 'time', 'goals', 'shots', 'key_passes',\n",
       "       'yellow_cards', 'red_cards', 'position', 'team_name'],\n",
       "      dtype='object')"
      ]
     },
     "execution_count": 5,
     "metadata": {},
     "output_type": "execute_result"
    }
   ],
   "source": [
    "# ïndice de las columnas\n",
    "footbal_stats.columns"
   ]
  },
  {
   "cell_type": "code",
   "execution_count": 8,
   "metadata": {},
   "outputs": [
    {
     "data": {
      "text/plain": [
       "array([['Ollie Watkins', 9, 810, ..., 0, 'F', 'Aston Villa'],\n",
       "       ['Jack Grealish', 9, 810, ..., 0, 'F M', 'Aston Villa'],\n",
       "       ['Ross Barkley', 6, 454, ..., 0, 'M', 'Aston Villa'],\n",
       "       ...,\n",
       "       ['Idir Ouali', 6, 296, ..., 0, 'M S', 'Paderborn'],\n",
       "       ['Mirnes Pepic', 2, 20, ..., 0, 'S', 'Paderborn'],\n",
       "       ['Thomas Bertels', 1, 3, ..., 0, 'S', 'Paderborn']], dtype=object)"
      ]
     },
     "execution_count": 8,
     "metadata": {},
     "output_type": "execute_result"
    }
   ],
   "source": [
    "# Recuperar los valores\n",
    "footbal_stats.values"
   ]
  },
  {
   "cell_type": "markdown",
   "metadata": {},
   "source": [
    "## Ordenar DataFrames"
   ]
  },
  {
   "cell_type": "markdown",
   "metadata": {},
   "source": [
    "Se pueden ordenar por columnas, usando el índice etc"
   ]
  },
  {
   "cell_type": "code",
   "execution_count": 4,
   "metadata": {},
   "outputs": [
    {
     "data": {
      "text/html": [
       "<div>\n",
       "<style scoped>\n",
       "    .dataframe tbody tr th:only-of-type {\n",
       "        vertical-align: middle;\n",
       "    }\n",
       "\n",
       "    .dataframe tbody tr th {\n",
       "        vertical-align: top;\n",
       "    }\n",
       "\n",
       "    .dataframe thead th {\n",
       "        text-align: right;\n",
       "    }\n",
       "</style>\n",
       "<table border=\"1\" class=\"dataframe\">\n",
       "  <thead>\n",
       "    <tr style=\"text-align: right;\">\n",
       "      <th></th>\n",
       "      <th>player_name</th>\n",
       "      <th>games</th>\n",
       "      <th>time</th>\n",
       "      <th>goals</th>\n",
       "      <th>shots</th>\n",
       "      <th>key_passes</th>\n",
       "      <th>yellow_cards</th>\n",
       "      <th>red_cards</th>\n",
       "      <th>position</th>\n",
       "      <th>team_name</th>\n",
       "    </tr>\n",
       "    <tr>\n",
       "      <th>player_id</th>\n",
       "      <th></th>\n",
       "      <th></th>\n",
       "      <th></th>\n",
       "      <th></th>\n",
       "      <th></th>\n",
       "      <th></th>\n",
       "      <th></th>\n",
       "      <th></th>\n",
       "      <th></th>\n",
       "      <th></th>\n",
       "    </tr>\n",
       "  </thead>\n",
       "  <tbody>\n",
       "    <tr>\n",
       "      <th>1</th>\n",
       "      <td>Christian Mathenia</td>\n",
       "      <td>33</td>\n",
       "      <td>2970</td>\n",
       "      <td>0</td>\n",
       "      <td>0</td>\n",
       "      <td>5</td>\n",
       "      <td>3</td>\n",
       "      <td>0</td>\n",
       "      <td>GK</td>\n",
       "      <td>Darmstadt</td>\n",
       "    </tr>\n",
       "    <tr>\n",
       "      <th>1</th>\n",
       "      <td>Christian Mathenia</td>\n",
       "      <td>24</td>\n",
       "      <td>2160</td>\n",
       "      <td>0</td>\n",
       "      <td>0</td>\n",
       "      <td>1</td>\n",
       "      <td>2</td>\n",
       "      <td>0</td>\n",
       "      <td>GK</td>\n",
       "      <td>Hamburger SV</td>\n",
       "    </tr>\n",
       "    <tr>\n",
       "      <th>1</th>\n",
       "      <td>Christian Mathenia</td>\n",
       "      <td>22</td>\n",
       "      <td>1933</td>\n",
       "      <td>0</td>\n",
       "      <td>0</td>\n",
       "      <td>1</td>\n",
       "      <td>2</td>\n",
       "      <td>0</td>\n",
       "      <td>GK</td>\n",
       "      <td>Nuernberg</td>\n",
       "    </tr>\n",
       "    <tr>\n",
       "      <th>1</th>\n",
       "      <td>Christian Mathenia</td>\n",
       "      <td>14</td>\n",
       "      <td>1260</td>\n",
       "      <td>0</td>\n",
       "      <td>0</td>\n",
       "      <td>1</td>\n",
       "      <td>1</td>\n",
       "      <td>0</td>\n",
       "      <td>GK</td>\n",
       "      <td>Hamburger SV</td>\n",
       "    </tr>\n",
       "    <tr>\n",
       "      <th>2</th>\n",
       "      <td>György Garics</td>\n",
       "      <td>21</td>\n",
       "      <td>1796</td>\n",
       "      <td>0</td>\n",
       "      <td>3</td>\n",
       "      <td>3</td>\n",
       "      <td>8</td>\n",
       "      <td>0</td>\n",
       "      <td>D S</td>\n",
       "      <td>Darmstadt</td>\n",
       "    </tr>\n",
       "    <tr>\n",
       "      <th>...</th>\n",
       "      <td>...</td>\n",
       "      <td>...</td>\n",
       "      <td>...</td>\n",
       "      <td>...</td>\n",
       "      <td>...</td>\n",
       "      <td>...</td>\n",
       "      <td>...</td>\n",
       "      <td>...</td>\n",
       "      <td>...</td>\n",
       "      <td>...</td>\n",
       "    </tr>\n",
       "    <tr>\n",
       "      <th>9161</th>\n",
       "      <td>Jan-Luca Schuler</td>\n",
       "      <td>1</td>\n",
       "      <td>8</td>\n",
       "      <td>0</td>\n",
       "      <td>1</td>\n",
       "      <td>0</td>\n",
       "      <td>0</td>\n",
       "      <td>0</td>\n",
       "      <td>S</td>\n",
       "      <td>Schalke 04</td>\n",
       "    </tr>\n",
       "    <tr>\n",
       "      <th>9163</th>\n",
       "      <td>Kean Bryan</td>\n",
       "      <td>2</td>\n",
       "      <td>155</td>\n",
       "      <td>0</td>\n",
       "      <td>0</td>\n",
       "      <td>1</td>\n",
       "      <td>0</td>\n",
       "      <td>0</td>\n",
       "      <td>D</td>\n",
       "      <td>Sheffield United</td>\n",
       "    </tr>\n",
       "    <tr>\n",
       "      <th>9170</th>\n",
       "      <td>John Finn</td>\n",
       "      <td>1</td>\n",
       "      <td>4</td>\n",
       "      <td>0</td>\n",
       "      <td>0</td>\n",
       "      <td>0</td>\n",
       "      <td>0</td>\n",
       "      <td>0</td>\n",
       "      <td>S</td>\n",
       "      <td>Getafe</td>\n",
       "    </tr>\n",
       "    <tr>\n",
       "      <th>9174</th>\n",
       "      <td>Edgar Sevikyan</td>\n",
       "      <td>1</td>\n",
       "      <td>5</td>\n",
       "      <td>0</td>\n",
       "      <td>0</td>\n",
       "      <td>0</td>\n",
       "      <td>0</td>\n",
       "      <td>0</td>\n",
       "      <td>S</td>\n",
       "      <td>Levante</td>\n",
       "    </tr>\n",
       "    <tr>\n",
       "      <th>9177</th>\n",
       "      <td>Giuseppe Mastinu</td>\n",
       "      <td>1</td>\n",
       "      <td>1</td>\n",
       "      <td>0</td>\n",
       "      <td>0</td>\n",
       "      <td>0</td>\n",
       "      <td>0</td>\n",
       "      <td>0</td>\n",
       "      <td>S</td>\n",
       "      <td>Spezia</td>\n",
       "    </tr>\n",
       "  </tbody>\n",
       "</table>\n",
       "<p>18633 rows × 10 columns</p>\n",
       "</div>"
      ],
      "text/plain": [
       "                  player_name  games  time  goals  shots  key_passes  \\\n",
       "player_id                                                              \n",
       "1          Christian Mathenia     33  2970      0      0           5   \n",
       "1          Christian Mathenia     24  2160      0      0           1   \n",
       "1          Christian Mathenia     22  1933      0      0           1   \n",
       "1          Christian Mathenia     14  1260      0      0           1   \n",
       "2               György Garics     21  1796      0      3           3   \n",
       "...                       ...    ...   ...    ...    ...         ...   \n",
       "9161         Jan-Luca Schuler      1     8      0      1           0   \n",
       "9163               Kean Bryan      2   155      0      0           1   \n",
       "9170                John Finn      1     4      0      0           0   \n",
       "9174           Edgar Sevikyan      1     5      0      0           0   \n",
       "9177         Giuseppe Mastinu      1     1      0      0           0   \n",
       "\n",
       "           yellow_cards  red_cards position         team_name  \n",
       "player_id                                                      \n",
       "1                     3          0       GK         Darmstadt  \n",
       "1                     2          0       GK      Hamburger SV  \n",
       "1                     2          0       GK         Nuernberg  \n",
       "1                     1          0       GK      Hamburger SV  \n",
       "2                     8          0      D S         Darmstadt  \n",
       "...                 ...        ...      ...               ...  \n",
       "9161                  0          0        S        Schalke 04  \n",
       "9163                  0          0        D  Sheffield United  \n",
       "9170                  0          0        S            Getafe  \n",
       "9174                  0          0        S           Levante  \n",
       "9177                  0          0        S            Spezia  \n",
       "\n",
       "[18633 rows x 10 columns]"
      ]
     },
     "execution_count": 4,
     "metadata": {},
     "output_type": "execute_result"
    }
   ],
   "source": [
    "# ordenar por índice de filas\n",
    "footbal_stats.sort_index()\n"
   ]
  },
  {
   "cell_type": "code",
   "execution_count": 5,
   "metadata": {},
   "outputs": [
    {
     "data": {
      "text/html": [
       "<div>\n",
       "<style scoped>\n",
       "    .dataframe tbody tr th:only-of-type {\n",
       "        vertical-align: middle;\n",
       "    }\n",
       "\n",
       "    .dataframe tbody tr th {\n",
       "        vertical-align: top;\n",
       "    }\n",
       "\n",
       "    .dataframe thead th {\n",
       "        text-align: right;\n",
       "    }\n",
       "</style>\n",
       "<table border=\"1\" class=\"dataframe\">\n",
       "  <thead>\n",
       "    <tr style=\"text-align: right;\">\n",
       "      <th></th>\n",
       "      <th>games</th>\n",
       "      <th>goals</th>\n",
       "      <th>key_passes</th>\n",
       "      <th>player_name</th>\n",
       "      <th>position</th>\n",
       "      <th>red_cards</th>\n",
       "      <th>shots</th>\n",
       "      <th>team_name</th>\n",
       "      <th>time</th>\n",
       "      <th>yellow_cards</th>\n",
       "    </tr>\n",
       "    <tr>\n",
       "      <th>player_id</th>\n",
       "      <th></th>\n",
       "      <th></th>\n",
       "      <th></th>\n",
       "      <th></th>\n",
       "      <th></th>\n",
       "      <th></th>\n",
       "      <th></th>\n",
       "      <th></th>\n",
       "      <th></th>\n",
       "      <th></th>\n",
       "    </tr>\n",
       "  </thead>\n",
       "  <tbody>\n",
       "    <tr>\n",
       "      <th>8865</th>\n",
       "      <td>9</td>\n",
       "      <td>6</td>\n",
       "      <td>12</td>\n",
       "      <td>Ollie Watkins</td>\n",
       "      <td>F</td>\n",
       "      <td>0</td>\n",
       "      <td>22</td>\n",
       "      <td>Aston Villa</td>\n",
       "      <td>810</td>\n",
       "      <td>0</td>\n",
       "    </tr>\n",
       "    <tr>\n",
       "      <th>675</th>\n",
       "      <td>9</td>\n",
       "      <td>5</td>\n",
       "      <td>26</td>\n",
       "      <td>Jack Grealish</td>\n",
       "      <td>F M</td>\n",
       "      <td>0</td>\n",
       "      <td>26</td>\n",
       "      <td>Aston Villa</td>\n",
       "      <td>810</td>\n",
       "      <td>2</td>\n",
       "    </tr>\n",
       "    <tr>\n",
       "      <th>592</th>\n",
       "      <td>6</td>\n",
       "      <td>2</td>\n",
       "      <td>15</td>\n",
       "      <td>Ross Barkley</td>\n",
       "      <td>M</td>\n",
       "      <td>0</td>\n",
       "      <td>17</td>\n",
       "      <td>Aston Villa</td>\n",
       "      <td>454</td>\n",
       "      <td>0</td>\n",
       "    </tr>\n",
       "    <tr>\n",
       "      <th>1024</th>\n",
       "      <td>9</td>\n",
       "      <td>2</td>\n",
       "      <td>2</td>\n",
       "      <td>Tyrone Mings</td>\n",
       "      <td>D</td>\n",
       "      <td>0</td>\n",
       "      <td>7</td>\n",
       "      <td>Aston Villa</td>\n",
       "      <td>810</td>\n",
       "      <td>2</td>\n",
       "    </tr>\n",
       "    <tr>\n",
       "      <th>7726</th>\n",
       "      <td>9</td>\n",
       "      <td>2</td>\n",
       "      <td>0</td>\n",
       "      <td>Ezri Konsa Ngoyo</td>\n",
       "      <td>D</td>\n",
       "      <td>0</td>\n",
       "      <td>7</td>\n",
       "      <td>Aston Villa</td>\n",
       "      <td>810</td>\n",
       "      <td>0</td>\n",
       "    </tr>\n",
       "    <tr>\n",
       "      <th>...</th>\n",
       "      <td>...</td>\n",
       "      <td>...</td>\n",
       "      <td>...</td>\n",
       "      <td>...</td>\n",
       "      <td>...</td>\n",
       "      <td>...</td>\n",
       "      <td>...</td>\n",
       "      <td>...</td>\n",
       "      <td>...</td>\n",
       "      <td>...</td>\n",
       "    </tr>\n",
       "    <tr>\n",
       "      <th>4267</th>\n",
       "      <td>10</td>\n",
       "      <td>0</td>\n",
       "      <td>5</td>\n",
       "      <td>Florian Hartherz</td>\n",
       "      <td>D S</td>\n",
       "      <td>1</td>\n",
       "      <td>1</td>\n",
       "      <td>Paderborn</td>\n",
       "      <td>775</td>\n",
       "      <td>1</td>\n",
       "    </tr>\n",
       "    <tr>\n",
       "      <th>4268</th>\n",
       "      <td>22</td>\n",
       "      <td>0</td>\n",
       "      <td>3</td>\n",
       "      <td>Christian Strohdiek</td>\n",
       "      <td>D S</td>\n",
       "      <td>0</td>\n",
       "      <td>6</td>\n",
       "      <td>Paderborn</td>\n",
       "      <td>1608</td>\n",
       "      <td>2</td>\n",
       "    </tr>\n",
       "    <tr>\n",
       "      <th>4311</th>\n",
       "      <td>6</td>\n",
       "      <td>0</td>\n",
       "      <td>1</td>\n",
       "      <td>Idir Ouali</td>\n",
       "      <td>M S</td>\n",
       "      <td>0</td>\n",
       "      <td>4</td>\n",
       "      <td>Paderborn</td>\n",
       "      <td>296</td>\n",
       "      <td>1</td>\n",
       "    </tr>\n",
       "    <tr>\n",
       "      <th>4334</th>\n",
       "      <td>2</td>\n",
       "      <td>0</td>\n",
       "      <td>0</td>\n",
       "      <td>Mirnes Pepic</td>\n",
       "      <td>S</td>\n",
       "      <td>0</td>\n",
       "      <td>0</td>\n",
       "      <td>Paderborn</td>\n",
       "      <td>20</td>\n",
       "      <td>0</td>\n",
       "    </tr>\n",
       "    <tr>\n",
       "      <th>4363</th>\n",
       "      <td>1</td>\n",
       "      <td>0</td>\n",
       "      <td>0</td>\n",
       "      <td>Thomas Bertels</td>\n",
       "      <td>S</td>\n",
       "      <td>0</td>\n",
       "      <td>0</td>\n",
       "      <td>Paderborn</td>\n",
       "      <td>3</td>\n",
       "      <td>0</td>\n",
       "    </tr>\n",
       "  </tbody>\n",
       "</table>\n",
       "<p>18633 rows × 10 columns</p>\n",
       "</div>"
      ],
      "text/plain": [
       "           games  goals  key_passes          player_name position  red_cards  \\\n",
       "player_id                                                                      \n",
       "8865           9      6          12        Ollie Watkins        F          0   \n",
       "675            9      5          26        Jack Grealish      F M          0   \n",
       "592            6      2          15         Ross Barkley        M          0   \n",
       "1024           9      2           2         Tyrone Mings        D          0   \n",
       "7726           9      2           0     Ezri Konsa Ngoyo        D          0   \n",
       "...          ...    ...         ...                  ...      ...        ...   \n",
       "4267          10      0           5     Florian Hartherz      D S          1   \n",
       "4268          22      0           3  Christian Strohdiek      D S          0   \n",
       "4311           6      0           1           Idir Ouali      M S          0   \n",
       "4334           2      0           0         Mirnes Pepic        S          0   \n",
       "4363           1      0           0       Thomas Bertels        S          0   \n",
       "\n",
       "           shots    team_name  time  yellow_cards  \n",
       "player_id                                          \n",
       "8865          22  Aston Villa   810             0  \n",
       "675           26  Aston Villa   810             2  \n",
       "592           17  Aston Villa   454             0  \n",
       "1024           7  Aston Villa   810             2  \n",
       "7726           7  Aston Villa   810             0  \n",
       "...          ...          ...   ...           ...  \n",
       "4267           1    Paderborn   775             1  \n",
       "4268           6    Paderborn  1608             2  \n",
       "4311           4    Paderborn   296             1  \n",
       "4334           0    Paderborn    20             0  \n",
       "4363           0    Paderborn     3             0  \n",
       "\n",
       "[18633 rows x 10 columns]"
      ]
     },
     "execution_count": 5,
     "metadata": {},
     "output_type": "execute_result"
    }
   ],
   "source": [
    "# ordenar por índice de columnas\n",
    "footbal_stats.sort_index(axis=1)"
   ]
  },
  {
   "cell_type": "code",
   "execution_count": 1,
   "metadata": {},
   "outputs": [
    {
     "ename": "NameError",
     "evalue": "name 'footbal_stats' is not defined",
     "output_type": "error",
     "traceback": [
      "\u001b[0;31m---------------------------------------------------------------------------\u001b[0m",
      "\u001b[0;31mNameError\u001b[0m                                 Traceback (most recent call last)",
      "\u001b[1;32m/home/alfonso/Desktop/universidad/curso_minsait/python_finance/4_pandas/4_1_intro.ipynb Cell 63\u001b[0m in \u001b[0;36m<cell line: 1>\u001b[0;34m()\u001b[0m\n\u001b[0;32m----> <a href='vscode-notebook-cell:/home/alfonso/Desktop/universidad/curso_minsait/python_finance/4_pandas/4_1_intro.ipynb#Y116sZmlsZQ%3D%3D?line=0'>1</a>\u001b[0m footbal_stats\u001b[39m.\u001b[39msort_values(by\u001b[39m=\u001b[39m\u001b[39m'\u001b[39m\u001b[39mteam_name\u001b[39m\u001b[39m'\u001b[39m, ascending\u001b[39m=\u001b[39m\u001b[39mFalse\u001b[39;00m)\n",
      "\u001b[0;31mNameError\u001b[0m: name 'footbal_stats' is not defined"
     ]
    }
   ],
   "source": [
    "footbal_stats.sort_values(by='team_name', ascending=False)"
   ]
  },
  {
   "cell_type": "markdown",
   "metadata": {},
   "source": [
    "¿Cómo podemos ver todos los métodos que se pueden usar de un objeto?"
   ]
  },
  {
   "cell_type": "code",
   "execution_count": 1,
   "metadata": {},
   "outputs": [
    {
     "ename": "NameError",
     "evalue": "name 'footbal_stats' is not defined",
     "output_type": "error",
     "traceback": [
      "\u001b[0;31m---------------------------------------------------------------------------\u001b[0m",
      "\u001b[0;31mNameError\u001b[0m                                 Traceback (most recent call last)",
      "\u001b[1;32m/home/alfonso/Desktop/universidad/curso_minsait/python_finance/4_pandas/4_1_Creación_Series_Dataframes.ipynb Cell 67\u001b[0m in \u001b[0;36m<cell line: 1>\u001b[0;34m()\u001b[0m\n\u001b[0;32m----> <a href='vscode-notebook-cell:/home/alfonso/Desktop/universidad/curso_minsait/python_finance/4_pandas/4_1_Creaci%C3%B3n_Series_Dataframes.ipynb#Y153sZmlsZQ%3D%3D?line=0'>1</a>\u001b[0m \u001b[39mprint\u001b[39m([ m \u001b[39mfor\u001b[39;00m m \u001b[39min\u001b[39;00m \u001b[39mdir\u001b[39m(footbal_stats) \u001b[39mif\u001b[39;00m \u001b[39mnot\u001b[39;00m m\u001b[39m.\u001b[39mstartswith(\u001b[39m'\u001b[39m\u001b[39m__\u001b[39m\u001b[39m'\u001b[39m)])\n",
      "\u001b[0;31mNameError\u001b[0m: name 'footbal_stats' is not defined"
     ]
    }
   ],
   "source": [
    "print([ m for m in dir(numeros) if not m.startswith('_')])"
   ]
  },
  {
   "cell_type": "markdown",
   "metadata": {},
   "source": [
    "# EJERCICIOS"
   ]
  },
  {
   "cell_type": "markdown",
   "metadata": {},
   "source": [
    "Leer los datos del fichero Fullmetadata.csv y almacenarlo en un DataFrame"
   ]
  },
  {
   "cell_type": "code",
   "execution_count": 3,
   "metadata": {},
   "outputs": [
    {
     "data": {
      "text/html": [
       "<div>\n",
       "<style scoped>\n",
       "    .dataframe tbody tr th:only-of-type {\n",
       "        vertical-align: middle;\n",
       "    }\n",
       "\n",
       "    .dataframe tbody tr th {\n",
       "        vertical-align: top;\n",
       "    }\n",
       "\n",
       "    .dataframe thead th {\n",
       "        text-align: right;\n",
       "    }\n",
       "</style>\n",
       "<table border=\"1\" class=\"dataframe\">\n",
       "  <thead>\n",
       "    <tr style=\"text-align: right;\">\n",
       "      <th></th>\n",
       "      <th>player_name</th>\n",
       "      <th>games</th>\n",
       "      <th>time</th>\n",
       "      <th>goals</th>\n",
       "      <th>shots</th>\n",
       "      <th>key_passes</th>\n",
       "      <th>yellow_cards</th>\n",
       "      <th>red_cards</th>\n",
       "      <th>position</th>\n",
       "      <th>team_name</th>\n",
       "    </tr>\n",
       "    <tr>\n",
       "      <th>player_id</th>\n",
       "      <th></th>\n",
       "      <th></th>\n",
       "      <th></th>\n",
       "      <th></th>\n",
       "      <th></th>\n",
       "      <th></th>\n",
       "      <th></th>\n",
       "      <th></th>\n",
       "      <th></th>\n",
       "      <th></th>\n",
       "    </tr>\n",
       "  </thead>\n",
       "  <tbody>\n",
       "    <tr>\n",
       "      <th>8865</th>\n",
       "      <td>Ollie Watkins</td>\n",
       "      <td>9</td>\n",
       "      <td>810</td>\n",
       "      <td>6</td>\n",
       "      <td>22</td>\n",
       "      <td>12</td>\n",
       "      <td>0</td>\n",
       "      <td>0</td>\n",
       "      <td>F</td>\n",
       "      <td>Aston Villa</td>\n",
       "    </tr>\n",
       "    <tr>\n",
       "      <th>675</th>\n",
       "      <td>Jack Grealish</td>\n",
       "      <td>9</td>\n",
       "      <td>810</td>\n",
       "      <td>5</td>\n",
       "      <td>26</td>\n",
       "      <td>26</td>\n",
       "      <td>2</td>\n",
       "      <td>0</td>\n",
       "      <td>F M</td>\n",
       "      <td>Aston Villa</td>\n",
       "    </tr>\n",
       "    <tr>\n",
       "      <th>592</th>\n",
       "      <td>Ross Barkley</td>\n",
       "      <td>6</td>\n",
       "      <td>454</td>\n",
       "      <td>2</td>\n",
       "      <td>17</td>\n",
       "      <td>15</td>\n",
       "      <td>0</td>\n",
       "      <td>0</td>\n",
       "      <td>M</td>\n",
       "      <td>Aston Villa</td>\n",
       "    </tr>\n",
       "    <tr>\n",
       "      <th>1024</th>\n",
       "      <td>Tyrone Mings</td>\n",
       "      <td>9</td>\n",
       "      <td>810</td>\n",
       "      <td>2</td>\n",
       "      <td>7</td>\n",
       "      <td>2</td>\n",
       "      <td>2</td>\n",
       "      <td>0</td>\n",
       "      <td>D</td>\n",
       "      <td>Aston Villa</td>\n",
       "    </tr>\n",
       "    <tr>\n",
       "      <th>7726</th>\n",
       "      <td>Ezri Konsa Ngoyo</td>\n",
       "      <td>9</td>\n",
       "      <td>810</td>\n",
       "      <td>2</td>\n",
       "      <td>7</td>\n",
       "      <td>0</td>\n",
       "      <td>0</td>\n",
       "      <td>0</td>\n",
       "      <td>D</td>\n",
       "      <td>Aston Villa</td>\n",
       "    </tr>\n",
       "    <tr>\n",
       "      <th>...</th>\n",
       "      <td>...</td>\n",
       "      <td>...</td>\n",
       "      <td>...</td>\n",
       "      <td>...</td>\n",
       "      <td>...</td>\n",
       "      <td>...</td>\n",
       "      <td>...</td>\n",
       "      <td>...</td>\n",
       "      <td>...</td>\n",
       "      <td>...</td>\n",
       "    </tr>\n",
       "    <tr>\n",
       "      <th>4267</th>\n",
       "      <td>Florian Hartherz</td>\n",
       "      <td>10</td>\n",
       "      <td>775</td>\n",
       "      <td>0</td>\n",
       "      <td>1</td>\n",
       "      <td>5</td>\n",
       "      <td>1</td>\n",
       "      <td>1</td>\n",
       "      <td>D S</td>\n",
       "      <td>Paderborn</td>\n",
       "    </tr>\n",
       "    <tr>\n",
       "      <th>4268</th>\n",
       "      <td>Christian Strohdiek</td>\n",
       "      <td>22</td>\n",
       "      <td>1608</td>\n",
       "      <td>0</td>\n",
       "      <td>6</td>\n",
       "      <td>3</td>\n",
       "      <td>2</td>\n",
       "      <td>0</td>\n",
       "      <td>D S</td>\n",
       "      <td>Paderborn</td>\n",
       "    </tr>\n",
       "    <tr>\n",
       "      <th>4311</th>\n",
       "      <td>Idir Ouali</td>\n",
       "      <td>6</td>\n",
       "      <td>296</td>\n",
       "      <td>0</td>\n",
       "      <td>4</td>\n",
       "      <td>1</td>\n",
       "      <td>1</td>\n",
       "      <td>0</td>\n",
       "      <td>M S</td>\n",
       "      <td>Paderborn</td>\n",
       "    </tr>\n",
       "    <tr>\n",
       "      <th>4334</th>\n",
       "      <td>Mirnes Pepic</td>\n",
       "      <td>2</td>\n",
       "      <td>20</td>\n",
       "      <td>0</td>\n",
       "      <td>0</td>\n",
       "      <td>0</td>\n",
       "      <td>0</td>\n",
       "      <td>0</td>\n",
       "      <td>S</td>\n",
       "      <td>Paderborn</td>\n",
       "    </tr>\n",
       "    <tr>\n",
       "      <th>4363</th>\n",
       "      <td>Thomas Bertels</td>\n",
       "      <td>1</td>\n",
       "      <td>3</td>\n",
       "      <td>0</td>\n",
       "      <td>0</td>\n",
       "      <td>0</td>\n",
       "      <td>0</td>\n",
       "      <td>0</td>\n",
       "      <td>S</td>\n",
       "      <td>Paderborn</td>\n",
       "    </tr>\n",
       "  </tbody>\n",
       "</table>\n",
       "<p>18633 rows × 10 columns</p>\n",
       "</div>"
      ],
      "text/plain": [
       "                   player_name  games  time  goals  shots  key_passes  \\\n",
       "player_id                                                               \n",
       "8865             Ollie Watkins      9   810      6     22          12   \n",
       "675              Jack Grealish      9   810      5     26          26   \n",
       "592               Ross Barkley      6   454      2     17          15   \n",
       "1024              Tyrone Mings      9   810      2      7           2   \n",
       "7726          Ezri Konsa Ngoyo      9   810      2      7           0   \n",
       "...                        ...    ...   ...    ...    ...         ...   \n",
       "4267          Florian Hartherz     10   775      0      1           5   \n",
       "4268       Christian Strohdiek     22  1608      0      6           3   \n",
       "4311                Idir Ouali      6   296      0      4           1   \n",
       "4334              Mirnes Pepic      2    20      0      0           0   \n",
       "4363            Thomas Bertels      1     3      0      0           0   \n",
       "\n",
       "           yellow_cards  red_cards position    team_name  \n",
       "player_id                                                 \n",
       "8865                  0          0        F  Aston Villa  \n",
       "675                   2          0      F M  Aston Villa  \n",
       "592                   0          0        M  Aston Villa  \n",
       "1024                  2          0        D  Aston Villa  \n",
       "7726                  0          0        D  Aston Villa  \n",
       "...                 ...        ...      ...          ...  \n",
       "4267                  1          1      D S    Paderborn  \n",
       "4268                  2          0      D S    Paderborn  \n",
       "4311                  1          0      M S    Paderborn  \n",
       "4334                  0          0        S    Paderborn  \n",
       "4363                  0          0        S    Paderborn  \n",
       "\n",
       "[18633 rows x 10 columns]"
      ]
     },
     "execution_count": 3,
     "metadata": {},
     "output_type": "execute_result"
    }
   ],
   "source": [
    "footbal_stats = pd.read_csv('./data/Fullmetadata.csv', index_col='player_id')\n",
    "footbal_stats"
   ]
  },
  {
   "cell_type": "markdown",
   "metadata": {},
   "source": [
    "Muestra una descripción de los datos"
   ]
  },
  {
   "cell_type": "code",
   "execution_count": null,
   "metadata": {},
   "outputs": [],
   "source": []
  },
  {
   "cell_type": "markdown",
   "metadata": {},
   "source": [
    "Muestra las 3 primeras filas"
   ]
  },
  {
   "cell_type": "code",
   "execution_count": null,
   "metadata": {},
   "outputs": [],
   "source": []
  },
  {
   "cell_type": "markdown",
   "metadata": {},
   "source": [
    "Muestra los valores que toma la columna goles y cuántas veces aparece cada valor\n"
   ]
  },
  {
   "cell_type": "code",
   "execution_count": 5,
   "metadata": {},
   "outputs": [
    {
     "ename": "ImportError",
     "evalue": "matplotlib is required for plotting when the default backend \"matplotlib\" is selected.",
     "output_type": "error",
     "traceback": [
      "\u001b[0;31m---------------------------------------------------------------------------\u001b[0m",
      "\u001b[0;31mImportError\u001b[0m                               Traceback (most recent call last)",
      "\u001b[1;32m/home/alfonso/Desktop/universidad/curso_minsait/python_finance/4_pandas/4_1_Creación_Series_Dataframes.ipynb Cell 74\u001b[0m in \u001b[0;36m<cell line: 1>\u001b[0;34m()\u001b[0m\n\u001b[0;32m----> <a href='vscode-notebook-cell:/home/alfonso/Desktop/universidad/curso_minsait/python_finance/4_pandas/4_1_Creaci%C3%B3n_Series_Dataframes.ipynb#Y230sZmlsZQ%3D%3D?line=0'>1</a>\u001b[0m footbal_stats\u001b[39m.\u001b[39;49mgoals\u001b[39m.\u001b[39;49mvalue_counts()\u001b[39m.\u001b[39;49mplot()\n",
      "File \u001b[0;32m~/Desktop/universidad/curso_minsait/python_finance/venv/lib/python3.9/site-packages/pandas/plotting/_core.py:892\u001b[0m, in \u001b[0;36mPlotAccessor.__call__\u001b[0;34m(self, *args, **kwargs)\u001b[0m\n\u001b[1;32m    891\u001b[0m \u001b[39mdef\u001b[39;00m \u001b[39m__call__\u001b[39m(\u001b[39mself\u001b[39m, \u001b[39m*\u001b[39margs, \u001b[39m*\u001b[39m\u001b[39m*\u001b[39mkwargs):\n\u001b[0;32m--> 892\u001b[0m     plot_backend \u001b[39m=\u001b[39m _get_plot_backend(kwargs\u001b[39m.\u001b[39;49mpop(\u001b[39m\"\u001b[39;49m\u001b[39mbackend\u001b[39;49m\u001b[39m\"\u001b[39;49m, \u001b[39mNone\u001b[39;49;00m))\n\u001b[1;32m    894\u001b[0m     x, y, kind, kwargs \u001b[39m=\u001b[39m \u001b[39mself\u001b[39m\u001b[39m.\u001b[39m_get_call_args(\n\u001b[1;32m    895\u001b[0m         plot_backend\u001b[39m.\u001b[39m\u001b[39m__name__\u001b[39m, \u001b[39mself\u001b[39m\u001b[39m.\u001b[39m_parent, args, kwargs\n\u001b[1;32m    896\u001b[0m     )\n\u001b[1;32m    898\u001b[0m     kind \u001b[39m=\u001b[39m \u001b[39mself\u001b[39m\u001b[39m.\u001b[39m_kind_aliases\u001b[39m.\u001b[39mget(kind, kind)\n",
      "File \u001b[0;32m~/Desktop/universidad/curso_minsait/python_finance/venv/lib/python3.9/site-packages/pandas/plotting/_core.py:1849\u001b[0m, in \u001b[0;36m_get_plot_backend\u001b[0;34m(backend)\u001b[0m\n\u001b[1;32m   1846\u001b[0m \u001b[39mif\u001b[39;00m backend \u001b[39min\u001b[39;00m _backends:\n\u001b[1;32m   1847\u001b[0m     \u001b[39mreturn\u001b[39;00m _backends[backend]\n\u001b[0;32m-> 1849\u001b[0m module \u001b[39m=\u001b[39m _load_backend(backend)\n\u001b[1;32m   1850\u001b[0m _backends[backend] \u001b[39m=\u001b[39m module\n\u001b[1;32m   1851\u001b[0m \u001b[39mreturn\u001b[39;00m module\n",
      "File \u001b[0;32m~/Desktop/universidad/curso_minsait/python_finance/venv/lib/python3.9/site-packages/pandas/plotting/_core.py:1787\u001b[0m, in \u001b[0;36m_load_backend\u001b[0;34m(backend)\u001b[0m\n\u001b[1;32m   1785\u001b[0m         module \u001b[39m=\u001b[39m importlib\u001b[39m.\u001b[39mimport_module(\u001b[39m\"\u001b[39m\u001b[39mpandas.plotting._matplotlib\u001b[39m\u001b[39m\"\u001b[39m)\n\u001b[1;32m   1786\u001b[0m     \u001b[39mexcept\u001b[39;00m \u001b[39mImportError\u001b[39;00m:\n\u001b[0;32m-> 1787\u001b[0m         \u001b[39mraise\u001b[39;00m \u001b[39mImportError\u001b[39;00m(\n\u001b[1;32m   1788\u001b[0m             \u001b[39m\"\u001b[39m\u001b[39mmatplotlib is required for plotting when the \u001b[39m\u001b[39m\"\u001b[39m\n\u001b[1;32m   1789\u001b[0m             \u001b[39m'\u001b[39m\u001b[39mdefault backend \u001b[39m\u001b[39m\"\u001b[39m\u001b[39mmatplotlib\u001b[39m\u001b[39m\"\u001b[39m\u001b[39m is selected.\u001b[39m\u001b[39m'\u001b[39m\n\u001b[1;32m   1790\u001b[0m         ) \u001b[39mfrom\u001b[39;00m \u001b[39mNone\u001b[39m\n\u001b[1;32m   1791\u001b[0m     \u001b[39mreturn\u001b[39;00m module\n\u001b[1;32m   1793\u001b[0m found_backend \u001b[39m=\u001b[39m \u001b[39mFalse\u001b[39;00m\n",
      "\u001b[0;31mImportError\u001b[0m: matplotlib is required for plotting when the default backend \"matplotlib\" is selected."
     ]
    }
   ],
   "source": []
  },
  {
   "cell_type": "markdown",
   "metadata": {},
   "source": [
    "Selecciona las columnas player_names y goals"
   ]
  },
  {
   "cell_type": "code",
   "execution_count": null,
   "metadata": {},
   "outputs": [],
   "source": []
  },
  {
   "cell_type": "markdown",
   "metadata": {},
   "source": [
    "Elimina la columna games sin crear nuevo DataFrame"
   ]
  },
  {
   "cell_type": "code",
   "execution_count": null,
   "metadata": {},
   "outputs": [],
   "source": []
  },
  {
   "cell_type": "markdown",
   "metadata": {},
   "source": [
    "Selecciona los jugadores del Aston Villa"
   ]
  },
  {
   "cell_type": "code",
   "execution_count": null,
   "metadata": {},
   "outputs": [],
   "source": []
  },
  {
   "cell_type": "markdown",
   "metadata": {},
   "source": [
    "Selecciona los jugadores que hayan sido expulsados"
   ]
  },
  {
   "cell_type": "code",
   "execution_count": null,
   "metadata": {},
   "outputs": [],
   "source": []
  },
  {
   "cell_type": "markdown",
   "metadata": {},
   "source": [
    "Selecciona los jugadores que hayan visto una tarjeta amarilla pero no hayan sido expulsados"
   ]
  },
  {
   "cell_type": "code",
   "execution_count": null,
   "metadata": {},
   "outputs": [],
   "source": []
  },
  {
   "cell_type": "markdown",
   "metadata": {},
   "source": [
    "Ordena el DataFrame de mayor a menos tiempo jugado"
   ]
  },
  {
   "cell_type": "markdown",
   "metadata": {},
   "source": []
  }
 ],
 "metadata": {
  "kernelspec": {
   "display_name": "Python 3.9.13 ('venv': venv)",
   "language": "python",
   "name": "python3"
  },
  "language_info": {
   "codemirror_mode": {
    "name": "ipython",
    "version": 3
   },
   "file_extension": ".py",
   "mimetype": "text/x-python",
   "name": "python",
   "nbconvert_exporter": "python",
   "pygments_lexer": "ipython3",
   "version": "3.9.13"
  },
  "orig_nbformat": 4,
  "vscode": {
   "interpreter": {
    "hash": "1580b83ac4ab4ed6243372d56bc9cb6d221bfd5f5ce6ce71d7851faf28560fa4"
   }
  }
 },
 "nbformat": 4,
 "nbformat_minor": 2
}
