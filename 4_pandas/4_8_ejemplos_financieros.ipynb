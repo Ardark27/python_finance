{
 "cells": [
  {
   "cell_type": "markdown",
   "metadata": {},
   "source": [
    "## Crea un módulo que contenga las siguientes funciones:"
   ]
  },
  {
   "cell_type": "markdown",
   "metadata": {},
   "source": [
    "Calcula el retorno diario de un dataframe con los precios diarios"
   ]
  },
  {
   "cell_type": "markdown",
   "metadata": {},
   "source": [
    "Calcula el retorno anualizado "
   ]
  },
  {
   "cell_type": "markdown",
   "metadata": {},
   "source": [
    "Calcule la correlación rolada, con el periodo como parámetro"
   ]
  },
  {
   "cell_type": "markdown",
   "metadata": {},
   "source": [
    "Calcula la beta"
   ]
  },
  {
   "cell_type": "markdown",
   "metadata": {},
   "source": [
    "## Prueba tus funciones en los siguientes ejercicios, si crees que falta alguna función sientete libre de crearla."
   ]
  },
  {
   "cell_type": "markdown",
   "metadata": {},
   "source": [
    "\n",
    "\n",
    "Calcula la serie de retornos anuales  del Ibex con dividendos y del Ibex.\n",
    "\n",
    "Realiza un gráfico de barras comparándolos.\n",
    "\n",
    "Compara los retornos anuales del Ibex con los de SAN.\n",
    "\n",
    "Calcula la correlación del SAN, REE y NTGY con el IBEX con dividendos.\n",
    "\n",
    "Ahora calcula la correlación rolada de 100 días para los activos del ejercico anterior.\n",
    "\n",
    "Calcula la media movil de 30 y 200 dias de REE y realiza una figura junto con la serie de precios originales\n",
    "\n",
    "Usando el precio de cierre del Ibex, calcula las velas mensuales y anuales.\n",
    "\n",
    "Píntalas utilizando un gráfico.\n",
    "\n",
    "Calcula la beta de los 3 activos NTGY, REE y SAN, Recuerda:\n",
    "\n",
    "$\\beta = \\frac{cov(R_m, R_s)}{var(R_m)}$\n",
    "\n",
    "Donde $R_m$ y $R_s$ son la serie de retornos del índice y de la acción.\n",
    "\n",
    "Ahora calcula la beta rolada de 100 días para los activos del ejercico anterior"
   ]
  }
 ],
 "metadata": {
  "kernelspec": {
   "display_name": "Python 3.9.12 ('base')",
   "language": "python",
   "name": "python3"
  },
  "language_info": {
   "name": "python",
   "version": "3.9.12"
  },
  "orig_nbformat": 4,
  "vscode": {
   "interpreter": {
    "hash": "18a6b418ca989a304418b74e14b57df096d22507d5bd0d85ac6f17ef362aab2d"
   }
  }
 },
 "nbformat": 4,
 "nbformat_minor": 2
}
