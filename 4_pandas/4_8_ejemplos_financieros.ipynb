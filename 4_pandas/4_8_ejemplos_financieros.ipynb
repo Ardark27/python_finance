{
 "cells": [
  {
   "cell_type": "markdown",
   "metadata": {},
   "source": [
    "## Crea un módulo que contenga las siguientes funciones:"
   ]
  },
  {
   "cell_type": "code",
   "execution_count": 5,
   "metadata": {},
   "outputs": [],
   "source": [
    "import pandas as pd\n",
    "import numpy as np"
   ]
  },
  {
   "cell_type": "markdown",
   "metadata": {},
   "source": [
    "Calcula el retorno diario de un dataframe con los precios diarios"
   ]
  },
  {
   "cell_type": "code",
   "execution_count": 1,
   "metadata": {},
   "outputs": [],
   "source": [
    "def retorno_diario(data):\n",
    "    '''\n",
    "    data: DataFrame con los precios de las acciones en las columnas\n",
    "    y las fechas en los índices\n",
    "    '''\n",
    "    retornos = np.log(data).diff().dropna()\n",
    "    return retornos\n"
   ]
  },
  {
   "cell_type": "markdown",
   "metadata": {},
   "source": [
    "Calcula el retorno anualizado "
   ]
  },
  {
   "cell_type": "code",
   "execution_count": 16,
   "metadata": {},
   "outputs": [],
   "source": [
    "def retorno_anualizado(data):\n",
    "    '''\n",
    "    data: DataFrame con los precios de las acciones en las columnas\n",
    "    y las fechas en los índices\n",
    "    '''\n",
    "    data_anual = data.resample('y').last()\n",
    "    retornos = np.log(data_anual).diff().dropna()\n",
    "    return retornos"
   ]
  },
  {
   "cell_type": "markdown",
   "metadata": {},
   "source": [
    "Calcule la correlación rolada, con el periodo como parámetro"
   ]
  },
  {
   "cell_type": "code",
   "execution_count": 3,
   "metadata": {},
   "outputs": [],
   "source": [
    "def correlacion(data, ventana=10):\n",
    "    '''\n",
    "    data: DataFrame con los precios de las acciones en las columnas\n",
    "    y las fechas en los índices\n",
    "    ventana: número de días para calcular la correlación\n",
    "    '''\n",
    "    corr = data.rolling(ventana).corr()\n",
    "    return corr"
   ]
  },
  {
   "cell_type": "markdown",
   "metadata": {},
   "source": [
    "Calcula la beta"
   ]
  },
  {
   "cell_type": "code",
   "execution_count": 70,
   "metadata": {},
   "outputs": [],
   "source": [
    "def beta(data,index_col=0):\n",
    "    '''\n",
    "    data: DataFrame con los precios de las acciones en las columnas\n",
    "    y las fechas en los índices\n",
    "    '''\n",
    "    retornos = retorno_diario(data)\n",
    "    covariance_matrix = retornos.cov()\n",
    "    variance = retornos.iloc[:,index_col].var()\n",
    "    beta = covariance_matrix.iloc[:,index_col]/variance\n",
    "    return beta"
   ]
  },
  {
   "cell_type": "markdown",
   "metadata": {},
   "source": [
    "## Prueba tus funciones en los siguientes ejercicios, si crees que falta alguna función sientete libre de crearla."
   ]
  },
  {
   "cell_type": "markdown",
   "metadata": {},
   "source": [
    "Calcula la serie de retornos anuales  del Ibex con dividendos y del Ibex."
   ]
  },
  {
   "cell_type": "code",
   "execution_count": 22,
   "metadata": {},
   "outputs": [],
   "source": [
    "# cargamos los datos\n",
    "ibex = pd.read_csv('data/ibex.csv', index_col=0, parse_dates=True).close\n",
    "ibex_div = pd.read_csv('data/ibex_div.csv', index_col=0, parse_dates=True).close\n",
    "data = pd.concat([ibex, ibex_div], axis=1).dropna()\n",
    "data.columns = ['ibex', 'ibex_div']"
   ]
  },
  {
   "cell_type": "code",
   "execution_count": 23,
   "metadata": {},
   "outputs": [],
   "source": [
    "retornos_anuales = retorno_anualizado(data)"
   ]
  },
  {
   "cell_type": "markdown",
   "metadata": {},
   "source": [
    "Realiza un gráfico de barras comparándolos."
   ]
  },
  {
   "cell_type": "code",
   "execution_count": 24,
   "metadata": {},
   "outputs": [
    {
     "data": {
      "text/plain": [
       "<AxesSubplot:>"
      ]
     },
     "execution_count": 24,
     "metadata": {},
     "output_type": "execute_result"
    },
    {
     "data": {
      "image/png": "[encoded data removed]",
      "text/plain": [
       "<Figure size 432x288 with 1 Axes>"
      ]
     },
     "metadata": {
      "needs_background": "light"
     },
     "output_type": "display_data"
    }
   ],
   "source": [
    "retornos_anuales.plot.bar()"
   ]
  },
  {
   "cell_type": "markdown",
   "metadata": {},
   "source": [
    "Compara los retornos anuales del Ibex con los de SAN."
   ]
  },
  {
   "cell_type": "code",
   "execution_count": 25,
   "metadata": {},
   "outputs": [
    {
     "data": {
      "text/plain": [
       "<AxesSubplot:>"
      ]
     },
     "execution_count": 25,
     "metadata": {},
     "output_type": "execute_result"
    },
    {
     "data": {
      "image/png": "[encoded data removed]",
      "text/plain": [
       "<Figure size 432x288 with 1 Axes>"
      ]
     },
     "metadata": {
      "needs_background": "light"
     },
     "output_type": "display_data"
    }
   ],
   "source": [
    "san = pd.read_csv('data/SAN.csv', index_col=0, parse_dates=True).close\n",
    "data = pd.concat([ibex, san], axis=1).dropna()\n",
    "data.columns = ['ibex', 'san']\n",
    "retornos_anuales = retorno_anualizado(data)\n",
    "retornos_anuales.plot.bar()"
   ]
  },
  {
   "cell_type": "markdown",
   "metadata": {},
   "source": [
    "Calcula la correlación del SAN, REE y NTGY con el IBEX con dividendos."
   ]
  },
  {
   "cell_type": "code",
   "execution_count": 62,
   "metadata": {},
   "outputs": [],
   "source": [
    "ree = pd.read_csv('data/REE.csv', index_col=0, parse_dates=True).close\n",
    "ntgy = pd.read_csv('data/NTGY.csv', index_col=0, parse_dates=True).close\n",
    "data = pd.concat([ibex_div, san, ree, ntgy], axis=1).dropna()\n",
    "data.columns = ['ibex_div', 'san', 'ree', 'ntgy']"
   ]
  },
  {
   "cell_type": "code",
   "execution_count": 63,
   "metadata": {},
   "outputs": [],
   "source": [
    "corr_data = data.corr()"
   ]
  },
  {
   "cell_type": "markdown",
   "metadata": {},
   "source": [
    "Ahora calcula la correlación rolada de 100 días para los activos del ejercico anterior."
   ]
  },
  {
   "cell_type": "code",
   "execution_count": 64,
   "metadata": {},
   "outputs": [],
   "source": [
    "corr_roll = correlacion(data, 100).dropna()"
   ]
  },
  {
   "cell_type": "code",
   "execution_count": 65,
   "metadata": {},
   "outputs": [
    {
     "data": {
      "text/html": [
       "<div>\n",
       "<style scoped>\n",
       "    .dataframe tbody tr th:only-of-type {\n",
       "        vertical-align: middle;\n",
       "    }\n",
       "\n",
       "    .dataframe tbody tr th {\n",
       "        vertical-align: top;\n",
       "    }\n",
       "\n",
       "    .dataframe thead th {\n",
       "        text-align: right;\n",
       "    }\n",
       "</style>\n",
       "<table border=\"1\" class=\"dataframe\">\n",
       "  <thead>\n",
       "    <tr style=\"text-align: right;\">\n",
       "      <th></th>\n",
       "      <th></th>\n",
       "      <th>ibex_div</th>\n",
       "      <th>san</th>\n",
       "      <th>ree</th>\n",
       "      <th>ntgy</th>\n",
       "    </tr>\n",
       "  </thead>\n",
       "  <tbody>\n",
       "    <tr>\n",
       "      <th rowspan=\"4\" valign=\"top\">2005-11-22</th>\n",
       "      <th>ibex_div</th>\n",
       "      <td>1.000000</td>\n",
       "      <td>0.932820</td>\n",
       "      <td>0.709917</td>\n",
       "      <td>-0.403556</td>\n",
       "    </tr>\n",
       "    <tr>\n",
       "      <th>san</th>\n",
       "      <td>0.932820</td>\n",
       "      <td>1.000000</td>\n",
       "      <td>0.550656</td>\n",
       "      <td>-0.557764</td>\n",
       "    </tr>\n",
       "    <tr>\n",
       "      <th>ree</th>\n",
       "      <td>0.709917</td>\n",
       "      <td>0.550656</td>\n",
       "      <td>1.000000</td>\n",
       "      <td>0.080162</td>\n",
       "    </tr>\n",
       "    <tr>\n",
       "      <th>ntgy</th>\n",
       "      <td>-0.403556</td>\n",
       "      <td>-0.557764</td>\n",
       "      <td>0.080162</td>\n",
       "      <td>1.000000</td>\n",
       "    </tr>\n",
       "    <tr>\n",
       "      <th>2005-11-23</th>\n",
       "      <th>ibex_div</th>\n",
       "      <td>1.000000</td>\n",
       "      <td>0.931653</td>\n",
       "      <td>0.736726</td>\n",
       "      <td>-0.405852</td>\n",
       "    </tr>\n",
       "    <tr>\n",
       "      <th>...</th>\n",
       "      <th>...</th>\n",
       "      <td>...</td>\n",
       "      <td>...</td>\n",
       "      <td>...</td>\n",
       "      <td>...</td>\n",
       "    </tr>\n",
       "    <tr>\n",
       "      <th>2019-05-14</th>\n",
       "      <th>ntgy</th>\n",
       "      <td>0.832484</td>\n",
       "      <td>0.630218</td>\n",
       "      <td>-0.560497</td>\n",
       "      <td>1.000000</td>\n",
       "    </tr>\n",
       "    <tr>\n",
       "      <th rowspan=\"4\" valign=\"top\">2019-05-15</th>\n",
       "      <th>ibex_div</th>\n",
       "      <td>1.000000</td>\n",
       "      <td>0.870032</td>\n",
       "      <td>-0.636553</td>\n",
       "      <td>0.819045</td>\n",
       "    </tr>\n",
       "    <tr>\n",
       "      <th>san</th>\n",
       "      <td>0.870032</td>\n",
       "      <td>1.000000</td>\n",
       "      <td>-0.632097</td>\n",
       "      <td>0.602338</td>\n",
       "    </tr>\n",
       "    <tr>\n",
       "      <th>ree</th>\n",
       "      <td>-0.636553</td>\n",
       "      <td>-0.632097</td>\n",
       "      <td>1.000000</td>\n",
       "      <td>-0.539171</td>\n",
       "    </tr>\n",
       "    <tr>\n",
       "      <th>ntgy</th>\n",
       "      <td>0.819045</td>\n",
       "      <td>0.602338</td>\n",
       "      <td>-0.539171</td>\n",
       "      <td>1.000000</td>\n",
       "    </tr>\n",
       "  </tbody>\n",
       "</table>\n",
       "<p>13752 rows × 4 columns</p>\n",
       "</div>"
      ],
      "text/plain": [
       "                     ibex_div       san       ree      ntgy\n",
       "2005-11-22 ibex_div  1.000000  0.932820  0.709917 -0.403556\n",
       "           san       0.932820  1.000000  0.550656 -0.557764\n",
       "           ree       0.709917  0.550656  1.000000  0.080162\n",
       "           ntgy     -0.403556 -0.557764  0.080162  1.000000\n",
       "2005-11-23 ibex_div  1.000000  0.931653  0.736726 -0.405852\n",
       "...                       ...       ...       ...       ...\n",
       "2019-05-14 ntgy      0.832484  0.630218 -0.560497  1.000000\n",
       "2019-05-15 ibex_div  1.000000  0.870032 -0.636553  0.819045\n",
       "           san       0.870032  1.000000 -0.632097  0.602338\n",
       "           ree      -0.636553 -0.632097  1.000000 -0.539171\n",
       "           ntgy      0.819045  0.602338 -0.539171  1.000000\n",
       "\n",
       "[13752 rows x 4 columns]"
      ]
     },
     "execution_count": 65,
     "metadata": {},
     "output_type": "execute_result"
    }
   ],
   "source": [
    "corr_roll"
   ]
  },
  {
   "cell_type": "markdown",
   "metadata": {},
   "source": [
    "Calcula la beta de los 3 activos NTGY, REE y SAN, Recuerda:\n",
    "\n",
    "$\\beta = \\frac{cov(R_m, R_s)}{var(R_m)}$\n",
    "\n",
    "Donde $R_m$ y $R_s$ son la serie de retornos del índice y de la acción."
   ]
  },
  {
   "cell_type": "code",
   "execution_count": 71,
   "metadata": {},
   "outputs": [],
   "source": [
    "beta_data = beta(data, index_col=0)"
   ]
  },
  {
   "cell_type": "code",
   "execution_count": 72,
   "metadata": {},
   "outputs": [
    {
     "data": {
      "text/plain": [
       "ibex_div    1.000000\n",
       "san         1.292866\n",
       "ree         0.552745\n",
       "ntgy        0.756547\n",
       "Name: ibex_div, dtype: float64"
      ]
     },
     "execution_count": 72,
     "metadata": {},
     "output_type": "execute_result"
    }
   ],
   "source": [
    "beta_data"
   ]
  },
  {
   "cell_type": "markdown",
   "metadata": {},
   "source": [
    "Ahora calcula la beta rolada de 100 días para los activos del ejercico anterior"
   ]
  },
  {
   "cell_type": "code",
   "execution_count": null,
   "metadata": {},
   "outputs": [],
   "source": []
  },
  {
   "cell_type": "markdown",
   "metadata": {},
   "source": [
    "Calcula la media movil de 30 y 200 dias de REE y realiza una figura junto con la serie de precios originales"
   ]
  },
  {
   "cell_type": "code",
   "execution_count": null,
   "metadata": {},
   "outputs": [],
   "source": []
  },
  {
   "cell_type": "markdown",
   "metadata": {},
   "source": [
    "Usando el precio de cierre del Ibex, calcula las velas mensuales y anuales."
   ]
  },
  {
   "cell_type": "code",
   "execution_count": null,
   "metadata": {},
   "outputs": [],
   "source": []
  },
  {
   "cell_type": "markdown",
   "metadata": {},
   "source": [
    "Píntalas utilizando un gráfico.\n"
   ]
  },
  {
   "cell_type": "code",
   "execution_count": null,
   "metadata": {},
   "outputs": [],
   "source": []
  }
 ],
 "metadata": {
  "kernelspec": {
   "display_name": "Python 3.9.12 ('base')",
   "language": "python",
   "name": "python3"
  },
  "language_info": {
   "codemirror_mode": {
    "name": "ipython",
    "version": 3
   },
   "file_extension": ".py",
   "mimetype": "text/x-python",
   "name": "python",
   "nbconvert_exporter": "python",
   "pygments_lexer": "ipython3",
   "version": "3.9.12"
  },
  "orig_nbformat": 4,
  "vscode": {
   "interpreter": {
    "hash": "18a6b418ca989a304418b74e14b57df096d22507d5bd0d85ac6f17ef362aab2d"
   }
  }
 },
 "nbformat": 4,
 "nbformat_minor": 2
}
