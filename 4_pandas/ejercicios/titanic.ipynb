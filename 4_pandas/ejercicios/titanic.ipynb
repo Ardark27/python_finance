{
 "cells": [
  {
   "cell_type": "markdown",
   "metadata": {},
   "source": [
    "El dataset train.csv contiene datos del accidente que sufrió el Titanic en la noche del 14 de abril de 1912. \n",
    "\n",
    "Las variables que contiene son las siguientes:\n",
    "\n",
    "-\tPassengerid: Nº identificador de cada pasajero.\n",
    "-\tSurvived: 1 o 0 para indicar si sobrevivió o no.\n",
    "-\tPclass: A qué categoría pertenecía el pasajero 1ª a 3ª\n",
    "-\tName\n",
    "-\tSex\n",
    "-\tAge\n",
    "-\tFare: Precio del billete en dólares.\n",
    "-\tCabin: Cabina en la que se alojaba el pasajero.\n",
    "-\tEmbarked: En qué puerto embarcó."
   ]
  },
  {
   "cell_type": "markdown",
   "metadata": {},
   "source": [
    "# Ejercicio 1\n",
    "-\tCarga el set de datos en una variable llamada \"titanic\"\n",
    "\n",
    "-\tObtén el número de filas y columnas incluidas en el set de datos. \n",
    "\n",
    "\n",
    "\n",
    "-\tObtén las primeras 10 observaciones para ver qué pinta tienen.\n",
    "\n",
    "\n",
    "\n",
    "-\tObtén el listado de variables incluidas en el set de datos y sus tipos.\n",
    "\n",
    "\n",
    "-\tObtén la distribución de las variables categóricas (sex, embarked, survived, pclass) del set de datos.\n",
    "  Es decir, valores únicos / valores totales. \n",
    "\n",
    "\n",
    "\n",
    "\n",
    "-\tObtén los estadísticos básicos de las variables del set de datos."
   ]
  },
  {
   "cell_type": "code",
   "execution_count": null,
   "metadata": {},
   "outputs": [],
   "source": []
  },
  {
   "cell_type": "markdown",
   "metadata": {},
   "source": [
    "# Ejercicio 2\n",
    "\n",
    "-\tIndica en qué variables hay valores con NA, NULL o vacíos \"\" y cuál es su proporción dentro de la variable.\n",
    "\n",
    "-\tImputa la media del valor de la variable en el caso de las numéricas y \"No disponible\" en el caso de string.\n",
    "\n",
    "-\tVuelve a comprobar la existencia de NAs y NULL para verificar que los has eliminado.\n",
    "\n",
    "\n"
   ]
  },
  {
   "cell_type": "code",
   "execution_count": null,
   "metadata": {},
   "outputs": [],
   "source": []
  },
  {
   "cell_type": "markdown",
   "metadata": {},
   "source": [
    "# Ejercicio 3\n",
    "-\t¿Fallecieron más mujeres u hombres? (Cuánto en porcentaje sobre el total de su género).\n",
    "\n",
    "\n",
    "\n",
    "-\t¿Qué clase de pasajeros (primera, segunda o tercera) sobrevivió más? Quiero que el resultado de, únicamente, \n",
    "el porcentaje y la clase que más sobrevivió (no el porcentaje de las 3 clases).\n",
    "\n",
    "\n",
    "\n",
    "-\t¿Cuál fue la edad media y máxima de los supervivientes en cada una de las clases?\n"
   ]
  },
  {
   "cell_type": "code",
   "execution_count": null,
   "metadata": {},
   "outputs": [],
   "source": []
  },
  {
   "cell_type": "markdown",
   "metadata": {},
   "source": [
    "# Ejercicio 4\n",
    "-\t¿Cuál de los puertos de embarque es el que tiene la media de precio de billete más barata?\n",
    "Indica solo ese puerto, no una lista con todos.\n",
    "\n",
    "\n",
    "-\t¿Qué correlación hay entre la longitud del nombre de un pasajero y el importe de su billete?\n",
    "No modifiques el nombre del pasajero para hacer el cálculo (úsalo tal y como venga)."
   ]
  },
  {
   "cell_type": "code",
   "execution_count": null,
   "metadata": {},
   "outputs": [],
   "source": []
  },
  {
   "cell_type": "markdown",
   "metadata": {},
   "source": [
    "# Ejercicio 5\n",
    "-\tObtén los nombres de los pasajeros que no sobrevivieron y el precio de su billete está en el decil superior.\n",
    "\n",
    "\n",
    "-\t¿En qué cabina deberías alojarte para tener una mayor probabilidad de sobrevivir siendo hombre de entre 30 y 40 años?\n",
    "Indica una única cabina.\n"
   ]
  }
 ],
 "metadata": {
  "kernelspec": {
   "display_name": "Python 3.9.12 ('base')",
   "language": "python",
   "name": "python3"
  },
  "language_info": {
   "name": "python",
   "version": "3.9.12"
  },
  "orig_nbformat": 4,
  "vscode": {
   "interpreter": {
    "hash": "18a6b418ca989a304418b74e14b57df096d22507d5bd0d85ac6f17ef362aab2d"
   }
  }
 },
 "nbformat": 4,
 "nbformat_minor": 2
}
