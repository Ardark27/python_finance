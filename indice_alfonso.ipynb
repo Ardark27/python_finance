{
 "cells": [
  {
   "cell_type": "code",
   "execution_count": null,
   "metadata": {},
   "outputs": [],
   "source": []
  },
  {
   "cell_type": "markdown",
   "metadata": {},
   "source": [
    "## Módulo 4: Introducción a la librería Pandas\n",
    "* [4.1](4_pandas/4_1_Creación_Series_Dataframes.ipynb) Definición y creación de las estructuras de datos Series y DataFrames\n",
    "* [4.2](4_pandas/4_2_indexación_slicing.ipynb) Indexación y slicing\n",
    "* [4.3](4_pandas/4_3_reindexación.ipynb) Reindexación\n",
    "* [4.4](4_pandas/4_4_operaciones_aritméticas.ipynb) Operaciones aritméticas\n",
    "* [4.5](4_pandas/4_5_visualización_básica.ipynb) Visualización básica\n",
    "* [4.6](4_pandas/4_6_funciones_mapping.ipynb) Aplicación de funciones y mapping\n",
    "* [4.7](4_pandas/4_7_combinar_juntar.ipynb) Combinar, juntar y agrupar\n",
    "* [4.8](4_pandas/4_8_ejemplos_financieros.ipynb) Ejemplos financieros\n",
    "    \n"
   ]
  },
  {
   "cell_type": "markdown",
   "metadata": {},
   "source": [
    "## Módulo 5: Tratamiento de series temporales\n",
    "* [5.1](5_series_temporales/5_1_time_structures.ipynb) Estructuras de tiempo nativas y de pandas\n",
    "* [5.2](5_series_temporales/5_2_indexación_rangos.ipynb) Indexación, selección y rangos\n",
    "* [5.3](5_series_temporales/5_3_offsets_shift.ipynb) Índices duplicados, offsets y desplazamiento\n",
    "* [5.4](5_series_temporales/5_4_resampling.ipynb) Remuestreo, donwsampling, OHLC\n",
    "* [5.5](5_series_temporales/5_5_ventanas_moviles.ipynb) Ventanas móviles\n"
   ]
  },
  {
   "cell_type": "markdown",
   "metadata": {},
   "source": [
    "## Módulo 9: Estructura temporal de tipos de interés"
   ]
  },
  {
   "cell_type": "markdown",
   "metadata": {},
   "source": [
    "## Módulo 10: Valoración de bonos, swaps"
   ]
  },
  {
   "cell_type": "markdown",
   "metadata": {},
   "source": [
    "## Módulo 11: Valoración de opciones\n",
    "* [11.1](11_opciones/11_1_getdata.ipynb) Obtención de datos de opciones de la web\n",
    "* [11.2](11_opciones/11_2_val_arboles.ipynb) Valoración por árboles\n",
    "* [11.3](11_opciones/11_3_val_montecarlo.ipynb) Valoración por Montecarlo\n",
    "* [11.4](11_opciones/11_4_val_black_scholes.ipynb) Valoración por Black and Scholes\n",
    "* [11.5](11_opciones/11_5_griegas.ipynb) Sensibilidades y curvatura: Griegas"
   ]
  },
  {
   "cell_type": "markdown",
   "metadata": {},
   "source": []
  }
 ],
 "metadata": {
  "kernelspec": {
   "display_name": "Python 3.9.13 64-bit",
   "language": "python",
   "name": "python3"
  },
  "language_info": {
   "name": "python",
   "version": "3.9.13"
  },
  "orig_nbformat": 4,
  "vscode": {
   "interpreter": {
    "hash": "f9f85f796d01129d0dd105a088854619f454435301f6ffec2fea96ecbd9be4ac"
   }
  }
 },
 "nbformat": 4,
 "nbformat_minor": 2
}
