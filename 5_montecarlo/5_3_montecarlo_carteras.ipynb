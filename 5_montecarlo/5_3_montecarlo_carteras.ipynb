{
 "cells": [
  {
   "cell_type": "markdown",
   "metadata": {},
   "source": [
    "# Metodo de montercarlo para optimización de portfolios"
   ]
  },
  {
   "cell_type": "markdown",
   "metadata": {},
   "source": [
    "**Hay que tener en cuenta que siempre usamos datos pasados, y no tienen porque predecir el futuro**"
   ]
  },
  {
   "cell_type": "markdown",
   "metadata": {},
   "source": [
    "https://towardsdatascience.com/efficient-frontier-in-python-detailed-tutorial-84a304f03e79"
   ]
  },
  {
   "cell_type": "markdown",
   "metadata": {},
   "source": [
    "### ¿Qué necesitamos para simular carteras con Montecarlo?"
   ]
  },
  {
   "cell_type": "markdown",
   "metadata": {},
   "source": [
    "- Tener los datos de las cotizaciones de los stocks que queramos tener en cartera\n",
    "- Generar carteras de manera aletoria"
   ]
  },
  {
   "cell_type": "code",
   "execution_count": 65,
   "metadata": {},
   "outputs": [
    {
     "name": "stdout",
     "output_type": "stream",
     "text": [
      "Requirement already satisfied: yfinance in c:\\users\\adriy\\anaconda3\\lib\\site-packages (0.1.74)\n",
      "Requirement already satisfied: numpy>=1.15 in c:\\users\\adriy\\anaconda3\\lib\\site-packages (from yfinance) (1.21.5)\n",
      "Requirement already satisfied: multitasking>=0.0.7 in c:\\users\\adriy\\anaconda3\\lib\\site-packages (from yfinance) (0.0.11)\n",
      "Requirement already satisfied: lxml>=4.5.1 in c:\\users\\adriy\\anaconda3\\lib\\site-packages (from yfinance) (4.8.0)\n",
      "Requirement already satisfied: requests>=2.26 in c:\\users\\adriy\\anaconda3\\lib\\site-packages (from yfinance) (2.27.1)\n",
      "Requirement already satisfied: pandas>=0.24.0 in c:\\users\\adriy\\anaconda3\\lib\\site-packages (from yfinance) (1.4.2)\n",
      "Requirement already satisfied: pytz>=2020.1 in c:\\users\\adriy\\anaconda3\\lib\\site-packages (from pandas>=0.24.0->yfinance) (2021.3)\n",
      "Requirement already satisfied: python-dateutil>=2.8.1 in c:\\users\\adriy\\anaconda3\\lib\\site-packages (from pandas>=0.24.0->yfinance) (2.8.2)\n",
      "Requirement already satisfied: six>=1.5 in c:\\users\\adriy\\anaconda3\\lib\\site-packages (from python-dateutil>=2.8.1->pandas>=0.24.0->yfinance) (1.16.0)\n",
      "Requirement already satisfied: certifi>=2017.4.17 in c:\\users\\adriy\\anaconda3\\lib\\site-packages (from requests>=2.26->yfinance) (2021.10.8)\n",
      "Requirement already satisfied: charset-normalizer~=2.0.0 in c:\\users\\adriy\\anaconda3\\lib\\site-packages (from requests>=2.26->yfinance) (2.0.4)\n",
      "Requirement already satisfied: idna<4,>=2.5 in c:\\users\\adriy\\anaconda3\\lib\\site-packages (from requests>=2.26->yfinance) (3.3)\n",
      "Requirement already satisfied: urllib3<1.27,>=1.21.1 in c:\\users\\adriy\\anaconda3\\lib\\site-packages (from requests>=2.26->yfinance) (1.26.9)\n"
     ]
    }
   ],
   "source": [
    "!pip install yfinance"
   ]
  },
  {
   "cell_type": "code",
   "execution_count": 1,
   "metadata": {},
   "outputs": [],
   "source": [
    "import random\n",
    "import numpy as np\n",
    "import pandas as pd\n",
    "import matplotlib.pyplot as plt\n",
    "\n",
    "# Datos historicos\n",
    "import yfinance as yf"
   ]
  },
  {
   "cell_type": "code",
   "execution_count": 2,
   "metadata": {},
   "outputs": [],
   "source": [
    "tickers = ['AAPL','VZ','MMM']# 'STR'"
   ]
  },
  {
   "cell_type": "markdown",
   "metadata": {},
   "source": [
    "- Vamos a usar yfinance para decargar los datos, mas info en https://pypi.org/project/yfinance/"
   ]
  },
  {
   "cell_type": "code",
   "execution_count": 15,
   "metadata": {},
   "outputs": [
    {
     "name": "stdout",
     "output_type": "stream",
     "text": [
      "[*********************100%***********************]  4 of 4 completed\n"
     ]
    }
   ],
   "source": [
    "data = yf.download(  # or pdr.get_data_yahoo(...\n",
    "        # tickers list or string as well\n",
    "        tickers = tickers,\n",
    "\n",
    "        # use \"period\" instead of start/end\n",
    "        # valid periods: 1d,5d,1mo,3mo,6mo,1y,2y,5y,10y,ytd,max\n",
    "        # (optional, default is '1mo')\n",
    "        period = \"2y\",\n",
    "\n",
    "        # fetch data by interval (including intraday if period < 60 days)\n",
    "        # valid intervals: 1m,2m,5m,15m,30m,60m,90m,1h,1d,5d,1wk,1mo,3mo\n",
    "        # (optional, default is '1d')\n",
    "        interval = \"1d\",\n",
    "\n",
    "        # group by ticker (to access via data['SPY'])\n",
    "        # (optional, default is 'column')\n",
    "        group_by = 'column',\n",
    "\n",
    "        # adjust all OHLC automatically\n",
    "        # (optional, default is False)\n",
    "        auto_adjust = True,\n",
    "\n",
    "        # download pre/post regular market hours data\n",
    "        # (optional, default is False)\n",
    "        prepost = True,\n",
    "\n",
    "        # use threads for mass downloading? (True/False/Integer)\n",
    "        # (optional, default is True)\n",
    "        threads = True,\n",
    "\n",
    "        # proxy URL scheme use use when downloading?\n",
    "        # (optional, default is None)\n",
    "        proxy = None\n",
    "    ).Close"
   ]
  },
  {
   "cell_type": "code",
   "execution_count": 16,
   "metadata": {},
   "outputs": [
    {
     "data": {
      "text/html": [
       "<div>\n",
       "<style scoped>\n",
       "    .dataframe tbody tr th:only-of-type {\n",
       "        vertical-align: middle;\n",
       "    }\n",
       "\n",
       "    .dataframe tbody tr th {\n",
       "        vertical-align: top;\n",
       "    }\n",
       "\n",
       "    .dataframe thead th {\n",
       "        text-align: right;\n",
       "    }\n",
       "</style>\n",
       "<table border=\"1\" class=\"dataframe\">\n",
       "  <thead>\n",
       "    <tr style=\"text-align: right;\">\n",
       "      <th></th>\n",
       "      <th>AAPL</th>\n",
       "      <th>CSCO</th>\n",
       "      <th>MMM</th>\n",
       "      <th>VZ</th>\n",
       "    </tr>\n",
       "    <tr>\n",
       "      <th>Date</th>\n",
       "      <th></th>\n",
       "      <th></th>\n",
       "      <th></th>\n",
       "      <th></th>\n",
       "    </tr>\n",
       "  </thead>\n",
       "  <tbody>\n",
       "    <tr>\n",
       "      <th>2020-09-03</th>\n",
       "      <td>119.438210</td>\n",
       "      <td>38.575165</td>\n",
       "      <td>155.105637</td>\n",
       "      <td>55.310349</td>\n",
       "    </tr>\n",
       "    <tr>\n",
       "      <th>2020-09-04</th>\n",
       "      <td>119.517242</td>\n",
       "      <td>38.452709</td>\n",
       "      <td>154.602005</td>\n",
       "      <td>55.191715</td>\n",
       "    </tr>\n",
       "    <tr>\n",
       "      <th>2020-09-08</th>\n",
       "      <td>111.474350</td>\n",
       "      <td>37.680267</td>\n",
       "      <td>152.177170</td>\n",
       "      <td>54.717190</td>\n",
       "    </tr>\n",
       "    <tr>\n",
       "      <th>2020-09-09</th>\n",
       "      <td>115.920677</td>\n",
       "      <td>37.802727</td>\n",
       "      <td>154.536697</td>\n",
       "      <td>54.790192</td>\n",
       "    </tr>\n",
       "    <tr>\n",
       "      <th>2020-09-10</th>\n",
       "      <td>112.136345</td>\n",
       "      <td>37.275200</td>\n",
       "      <td>152.158524</td>\n",
       "      <td>54.324780</td>\n",
       "    </tr>\n",
       "    <tr>\n",
       "      <th>...</th>\n",
       "      <td>...</td>\n",
       "      <td>...</td>\n",
       "      <td>...</td>\n",
       "      <td>...</td>\n",
       "    </tr>\n",
       "    <tr>\n",
       "      <th>2022-08-29</th>\n",
       "      <td>161.380005</td>\n",
       "      <td>45.709999</td>\n",
       "      <td>126.440002</td>\n",
       "      <td>43.330002</td>\n",
       "    </tr>\n",
       "    <tr>\n",
       "      <th>2022-08-30</th>\n",
       "      <td>158.910004</td>\n",
       "      <td>45.240002</td>\n",
       "      <td>124.860001</td>\n",
       "      <td>42.529999</td>\n",
       "    </tr>\n",
       "    <tr>\n",
       "      <th>2022-08-31</th>\n",
       "      <td>157.220001</td>\n",
       "      <td>44.720001</td>\n",
       "      <td>124.349998</td>\n",
       "      <td>41.810001</td>\n",
       "    </tr>\n",
       "    <tr>\n",
       "      <th>2022-09-01</th>\n",
       "      <td>157.960007</td>\n",
       "      <td>45.290001</td>\n",
       "      <td>125.629997</td>\n",
       "      <td>41.810001</td>\n",
       "    </tr>\n",
       "    <tr>\n",
       "      <th>2022-09-02</th>\n",
       "      <td>155.809998</td>\n",
       "      <td>44.590000</td>\n",
       "      <td>121.650002</td>\n",
       "      <td>41.299999</td>\n",
       "    </tr>\n",
       "  </tbody>\n",
       "</table>\n",
       "<p>504 rows × 4 columns</p>\n",
       "</div>"
      ],
      "text/plain": [
       "                  AAPL       CSCO         MMM         VZ\n",
       "Date                                                    \n",
       "2020-09-03  119.438210  38.575165  155.105637  55.310349\n",
       "2020-09-04  119.517242  38.452709  154.602005  55.191715\n",
       "2020-09-08  111.474350  37.680267  152.177170  54.717190\n",
       "2020-09-09  115.920677  37.802727  154.536697  54.790192\n",
       "2020-09-10  112.136345  37.275200  152.158524  54.324780\n",
       "...                ...        ...         ...        ...\n",
       "2022-08-29  161.380005  45.709999  126.440002  43.330002\n",
       "2022-08-30  158.910004  45.240002  124.860001  42.529999\n",
       "2022-08-31  157.220001  44.720001  124.349998  41.810001\n",
       "2022-09-01  157.960007  45.290001  125.629997  41.810001\n",
       "2022-09-02  155.809998  44.590000  121.650002  41.299999\n",
       "\n",
       "[504 rows x 4 columns]"
      ]
     },
     "execution_count": 16,
     "metadata": {},
     "output_type": "execute_result"
    }
   ],
   "source": [
    "data"
   ]
  },
  {
   "cell_type": "markdown",
   "metadata": {},
   "source": [
    "### Generación de carteras"
   ]
  },
  {
   "cell_type": "markdown",
   "metadata": {},
   "source": [
    "El primer paso sería hacer una funcion que nos generase pesos aleatorios\n"
   ]
  },
  {
   "cell_type": "code",
   "execution_count": 17,
   "metadata": {},
   "outputs": [],
   "source": [
    "def pesos(n_activos,n_simulaciones):\n",
    "    w = np.random.random((n_simulaciones,n_activos))\n",
    "    w = w / w.sum(axis=1).reshape(-1,1)\n",
    "    return w\n",
    "    "
   ]
  },
  {
   "cell_type": "markdown",
   "metadata": {},
   "source": [
    "El segundo paso es calcular el ratio de sharpe de cada cartera\n"
   ]
  },
  {
   "cell_type": "code",
   "execution_count": 18,
   "metadata": {},
   "outputs": [],
   "source": [
    "def rent_activos(data):\n",
    "    rent = np.log(data).diff()\n",
    "    return rent.iloc[1:,:]"
   ]
  },
  {
   "cell_type": "code",
   "execution_count": 19,
   "metadata": {},
   "outputs": [],
   "source": [
    "def cov_matrix(data):\n",
    "    cov = np.cov(data.T)\n",
    "    return cov"
   ]
  },
  {
   "cell_type": "code",
   "execution_count": 20,
   "metadata": {},
   "outputs": [],
   "source": [
    "def rent_diaria(data):\n",
    "    precio_inicial = data.iloc[0,:]\n",
    "    precio_final = data.iloc[-1,:]\n",
    "    rent = np.log(precio_final/precio_inicial)/ data.shape[0]\n",
    "    return rent"
   ]
  },
  {
   "cell_type": "code",
   "execution_count": 21,
   "metadata": {},
   "outputs": [],
   "source": [
    "def sharpe(data,matriz_pesos):\n",
    "    rent_carteras = rent_diaria(data).values * matriz_pesos\n",
    "    rent_carteras = rent_carteras.sum(axis=1)\n",
    "    matrix_cov = cov_matrix(data)\n",
    "\n",
    "    riesgo_carteras = np.sqrt(np.dot(np.dot(matriz_pesos,matrix_cov),matriz_pesos.T).sum(axis=1))\n",
    "    \n",
    "\n",
    "    posiciones_0entre0 = (rent_carteras==0) * (riesgo_carteras==0)\n",
    "    riesgo_carteras[posiciones_0entre0] = 0.0000001\n",
    "    ratio_sharpe = rent_carteras / riesgo_carteras\n",
    "\n",
    "    return ratio_sharpe, rent_carteras, riesgo_carteras"
   ]
  },
  {
   "cell_type": "code",
   "execution_count": 22,
   "metadata": {},
   "outputs": [],
   "source": [
    "def montecarlo(data,n_simulaciones):\n",
    "    num_bloques = int(np.ceil(n_simulaciones/10000))\n",
    "    rent_carteras_total = []\n",
    "    riesgo_carteras_total = []\n",
    "    \n",
    "    for bloque in range(num_bloques):\n",
    "        print(f'{bloque+1}/{num_bloques}')\n",
    "        # Generamos una matriz de pesos aleatorios\n",
    "        matriz_pesos = pesos(n_activos=data.shape[1],n_simulaciones=10000)\n",
    "        # Calculamos la rentabilidad de cada cartera y sus ratios de sharpe\n",
    "        ratio_sharpe, rent_carteras, riesgo_carteras = sharpe(data,matriz_pesos)\n",
    "\n",
    "        # Guardamos la rentabilidad de cada cartera y su riesgo\n",
    "        rent_carteras_total.append(rent_carteras)\n",
    "        riesgo_carteras_total.append(riesgo_carteras)\n",
    "        \n",
    "        # Obtenemos el ratio de sharpe más alto\n",
    "        max_eficiencia = ratio_sharpe.max()\n",
    "        if bloque == 0:\n",
    "            print(f'Nueva eficiencia: {max_eficiencia}')\n",
    "            posicion_cartera_eficiente = np.where(ratio_sharpe == max_eficiencia)[0]\n",
    "            # Obtenemos la cartera con mejor ratio de sharpe\n",
    "            cartera_eficiente = pd.DataFrame(\n",
    "                matriz_pesos[posicion_cartera_eficiente,:],\n",
    "                columns=data.columns)\n",
    "            eficiencia_inicial = max_eficiencia \n",
    "\n",
    "        if max_eficiencia > eficiencia_inicial:\n",
    "            print(f'Nueva eficiencia: {max_eficiencia}')\n",
    "            posicion_cartera_eficiente = np.where(ratio_sharpe == max_eficiencia)[0]\n",
    "            # Obtenemos la cartera con mejor ratio de sharpe\n",
    "            cartera_eficiente = pd.DataFrame(\n",
    "                matriz_pesos[posicion_cartera_eficiente,:],\n",
    "                columns=data.columns)\n",
    "            # Guardamos la mejor eficiencia y la cartera\n",
    "            eficiencia_inicial = max_eficiencia          \n",
    "\n",
    "    plt.scatter(riesgo_carteras,rent_carteras,c=ratio_sharpe)\n",
    "    plt.ylabel('Rentabilidad')\n",
    "    plt.xlabel('Riesgo')\n",
    "\n",
    "    return cartera_eficiente, eficiencia_inicial\n",
    "    \n",
    "    "
   ]
  },
  {
   "cell_type": "code",
   "execution_count": 23,
   "metadata": {},
   "outputs": [
    {
     "name": "stdout",
     "output_type": "stream",
     "text": [
      "1/100\n",
      "Nueva eficiencia: 5.107605316624732e-07\n",
      "2/100\n",
      "Nueva eficiencia: 5.151875198203379e-07\n",
      "3/100\n",
      "4/100\n",
      "Nueva eficiencia: 5.224507691204934e-07\n",
      "5/100\n",
      "6/100\n",
      "Nueva eficiencia: 5.300235681530343e-07\n",
      "7/100\n",
      "8/100\n",
      "9/100\n",
      "10/100\n",
      "Nueva eficiencia: 5.320859837037378e-07\n",
      "11/100\n",
      "12/100\n",
      "13/100\n",
      "14/100\n",
      "15/100\n",
      "16/100\n",
      "17/100\n",
      "18/100\n",
      "19/100\n",
      "20/100\n",
      "21/100\n",
      "Nueva eficiencia: 5.47016162308248e-07\n",
      "22/100\n",
      "23/100\n",
      "24/100\n",
      "25/100\n",
      "26/100\n",
      "27/100\n",
      "28/100\n",
      "29/100\n",
      "30/100\n",
      "31/100\n",
      "32/100\n",
      "33/100\n",
      "34/100\n",
      "35/100\n",
      "36/100\n",
      "37/100\n",
      "38/100\n",
      "39/100\n",
      "40/100\n",
      "41/100\n",
      "42/100\n",
      "43/100\n",
      "44/100\n",
      "45/100\n",
      "46/100\n",
      "47/100\n",
      "48/100\n",
      "49/100\n",
      "50/100\n",
      "51/100\n",
      "52/100\n",
      "53/100\n",
      "54/100\n",
      "55/100\n",
      "56/100\n",
      "57/100\n",
      "58/100\n",
      "59/100\n",
      "60/100\n",
      "61/100\n",
      "62/100\n",
      "63/100\n",
      "64/100\n",
      "65/100\n",
      "66/100\n",
      "67/100\n",
      "68/100\n",
      "69/100\n",
      "70/100\n",
      "71/100\n",
      "72/100\n",
      "73/100\n",
      "74/100\n",
      "75/100\n",
      "76/100\n",
      "77/100\n",
      "Nueva eficiencia: 5.483183183091307e-07\n",
      "78/100\n",
      "79/100\n",
      "80/100\n",
      "81/100\n",
      "82/100\n",
      "83/100\n",
      "84/100\n",
      "85/100\n",
      "86/100\n",
      "87/100\n",
      "88/100\n",
      "89/100\n",
      "90/100\n",
      "91/100\n",
      "92/100\n",
      "93/100\n",
      "94/100\n",
      "95/100\n",
      "96/100\n",
      "97/100\n",
      "98/100\n",
      "99/100\n",
      "100/100\n",
      "      AAPL      CSCO       MMM        VZ\n",
      "0  0.96801  0.017227  0.006681  0.008082\n",
      "5.483183183091307e-07\n"
     ]
    },
    {
     "data": {
      "image/png": "[encoded data removed]",
      "text/plain": [
       "<Figure size 432x288 with 1 Axes>"
      ]
     },
     "metadata": {
      "needs_background": "light"
     },
     "output_type": "display_data"
    }
   ],
   "source": [
    "cartera_eficiente, max_eficiencia = montecarlo(data,n_simulaciones=1000000)\n",
    "print(cartera_eficiente)\n",
    "print(max_eficiencia)"
   ]
  }
 ],
 "metadata": {
  "kernelspec": {
   "display_name": "Python 3.9.12 ('base')",
   "language": "python",
   "name": "python3"
  },
  "language_info": {
   "codemirror_mode": {
    "name": "ipython",
    "version": 3
   },
   "file_extension": ".py",
   "mimetype": "text/x-python",
   "name": "python",
   "nbconvert_exporter": "python",
   "pygments_lexer": "ipython3",
   "version": "3.9.12"
  },
  "orig_nbformat": 4,
  "vscode": {
   "interpreter": {
    "hash": "18a6b418ca989a304418b74e14b57df096d22507d5bd0d85ac6f17ef362aab2d"
   }
  }
 },
 "nbformat": 4,
 "nbformat_minor": 2
}
