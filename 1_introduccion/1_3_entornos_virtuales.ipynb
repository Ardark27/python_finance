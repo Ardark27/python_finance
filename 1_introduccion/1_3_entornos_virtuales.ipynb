{
 "cells": [
  {
   "cell_type": "markdown",
   "metadata": {},
   "source": [
    "# Estructura de Python\n",
    "<center>\n",
    "<img src=\"./imgs/scipy_ecosystem.png\"  alt=\"drawing\" width=\"75%\"/>\n",
    "</center>"
   ]
  },
  {
   "cell_type": "markdown",
   "metadata": {},
   "source": [
    "# ¿Qué son los entornos virtuales?"
   ]
  },
  {
   "cell_type": "markdown",
   "metadata": {},
   "source": [
    "\n",
    "- Los entornos virtuales son nuestros espacio de trabajo\n",
    "- Como buena práctica se suele tener un entorno por cada proyecto que se quiera desarrollar\n",
    "<center>\n",
    "<img src=\"./imgs/venv_2.png\"  alt=\"drawing\" width=\"60%\"/>\n",
    "</center>\n",
    "\n",
    "## ¿Cómo se crea un entorno virtual en python?\n",
    "- Es muy sencillo tan solo hay que usar el siguiente código en una terminal:\n",
    "    - python -m venv \\<nombre del entorno virtual\\>\n",
    "- Se ejecuta de diferentes formas dependiendo del sistema en el que nos encontremos, eso lo veremos más adelante."
   ]
  }
 ],
 "metadata": {
  "kernelspec": {
   "display_name": "Python 3.9.12 ('base')",
   "language": "python",
   "name": "python3"
  },
  "language_info": {
   "name": "python",
   "version": "3.9.12"
  },
  "orig_nbformat": 4,
  "vscode": {
   "interpreter": {
    "hash": "18a6b418ca989a304418b74e14b57df096d22507d5bd0d85ac6f17ef362aab2d"
   }
  }
 },
 "nbformat": 4,
 "nbformat_minor": 2
}
