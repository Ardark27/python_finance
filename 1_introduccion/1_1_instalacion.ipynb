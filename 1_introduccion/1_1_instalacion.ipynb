{
 "cells": [
  {
   "cell_type": "markdown",
   "metadata": {},
   "source": [
    "# 1 Conda\n"
   ]
  },
  {
   "cell_type": "markdown",
   "metadata": {},
   "source": [
    "- Esta es una de las opciones más fáciles, se puede descargan en:\n",
    "    - https://www.anaconda.com/products/distribution\n",
    "<center>\n",
    "<img src=\"./imgs/conda_1.png\"  alt=\"drawing\" width=\"750\"/>\n",
    "</center>\n",
    "\n",
    "- Los pasos a seguir después de descargar y ejecutar el archivo descargado, son:\n",
    "<center>\n",
    "<img src=\"./imgs/conda_install_1.png\"  alt=\"drawing\" width=\"330\"/>\n",
    "<img src=\"./imgs/conda_install_2.png\"  alt=\"drawing\" width=\"330\"/>\n",
    "<img src=\"./imgs/conda_install_3.png\"  alt=\"drawing\" width=\"330\"/>\n",
    "</center>\n",
    "<center>\n",
    "<img src=\"./imgs/conda_install_4.png\"  alt=\"drawing\" width=\"330\"/>\n",
    "<img src=\"./imgs/conda_install_5.png\"  alt=\"drawing\" width=\"330\"/>\n",
    "<img src=\"./imgs/conda_install_6.png\"  alt=\"drawing\" width=\"330\"/>\n",
    "</center>\n",
    "<center>\n",
    "<img src=\"./imgs/conda_install_7.png\"  alt=\"drawing\" width=\"450\"/>\n",
    "<img src=\"./imgs/conda_install_8.png\"  alt=\"drawing\" width=\"450\"/>\n",
    "</center>\n",
    "\n",
    "- Una vez que lo tenemos instalado, podemos ejecutarlo, y veremos algo así:\n",
    "<center>\n",
    "<img src=\"./imgs/conda_use_1.png\"  alt=\"drawing\" width=\"450\"/>\n",
    "</center>\n",
    "\n",
    "<center>\n",
    "<img src=\"./imgs/conda_use_2.png\"  alt=\"drawing\" width=\"900\"/>\n",
    "</center>"
   ]
  },
  {
   "cell_type": "markdown",
   "metadata": {},
   "source": [
    "# 2 Python"
   ]
  },
  {
   "cell_type": "markdown",
   "metadata": {},
   "source": [
    "- Desde Python Software Foundation\n",
    "    - https://www.python.org/downloads/\n",
    "<center>\n",
    "<img src=\"./imgs/python_1.png\"  alt=\"drawing\" width=\"750\"/>\n",
    "</center>\n",
    "\n",
    "- Desde la Store de Windows\n",
    "    - https://www.microsoft.com/store/productId/9PJPW5LDXLZ5\n",
    "<center>\n",
    "<img src=\"./imgs/python_2.png\"  alt=\"drawing\" width=\"750\"/>\n",
    "</center>\n",
    "\n",
    "- En ambos casos pulsamos \"siguiente\" a todo hasta terminar la instalación."
   ]
  }
 ],
 "metadata": {
  "kernelspec": {
   "display_name": "Python 3.8.8 ('base')",
   "language": "python",
   "name": "python3"
  },
  "language_info": {
   "name": "python",
   "version": "3.8.8"
  },
  "orig_nbformat": 4,
  "vscode": {
   "interpreter": {
    "hash": "3a2a03ea413f8be244ba01daf0e257f98f0dabeb03c7836e7000a0f3738aa8c9"
   }
  }
 },
 "nbformat": 4,
 "nbformat_minor": 2
}
