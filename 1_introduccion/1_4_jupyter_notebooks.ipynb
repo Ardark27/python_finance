{
 "cells": [
  {
   "cell_type": "markdown",
   "metadata": {},
   "source": [
    "# Jupyter Notebooks"
   ]
  },
  {
   "cell_type": "markdown",
   "metadata": {},
   "source": [
    "- Están formados por celdas\n",
    "- Las celdas pueden ser de 3 tipos:\n",
    "    - Código python (code)\n",
    "    - Texto (markdown)\n",
    "    - Código no ejecutable (Raw NBConvert)"
   ]
  },
  {
   "cell_type": "code",
   "execution_count": 1,
   "metadata": {},
   "outputs": [],
   "source": [
    "# Esto es una celda de codigo de python"
   ]
  },
  {
   "cell_type": "markdown",
   "metadata": {},
   "source": [
    "Esto es una celda de texto"
   ]
  },
  {
   "cell_type": "markdown",
   "metadata": {},
   "source": [
    "- Se guardan pulsando el boton de guardado, con el comando Ctrl + S o de forma automática\n",
    "- Cerrar el notebook no para la ejecución del mismo, puedes ver los que están abiertos en running\n",
    "    - Para detenerlos se puede ir al icono que tiene un circulo dentro de un cuadrado\n",
    "- Cuando se para el kernel se detiene el código y se borran todas las variables"
   ]
  },
  {
   "cell_type": "markdown",
   "metadata": {},
   "source": [
    "Los comandos más relevantes en los notebooks son los siguientes:"
   ]
  },
  {
   "cell_type": "markdown",
   "metadata": {},
   "source": [
    "|Shortcut| Description|\n",
    "|-|-|\n",
    "|shift + enter| ejecuta la celda, selecciona la siguiente|\n",
    "|ctrl + enter| ejecuta la celda|\n",
    "|alt + enter| ejecuta la celda, inserta una debajo|\n",
    "|A |inserta una celda encima de la actual|\n",
    "|B |inserta una celda abajo de la actual|\n",
    "|C |copia la celda |\n",
    "|V |pega la celda|\n",
    "|D , D |borra la celda seleccionada|\n",
    "|shift + M | Junta las celdas seleccionadas, si son consecutivas|\n",
    "|I , I |interrumpe el kernel|\n",
    "|0 , 0 |reinicia el kernel|\n",
    "|Y |cambia la celda a modo código|\n",
    "|M |cambia la celda a modo markdown|\n",
    "|Alt Gr + click |multi-cursor editing|\n",
    "|tab| code completion o indent|\n",
    "|shift + tab| muestra ayuda sobre cualquier función|\n",
    "|ctrl + shift + - | split cell|"
   ]
  },
  {
   "cell_type": "markdown",
   "metadata": {},
   "source": [
    "# Código"
   ]
  },
  {
   "cell_type": "markdown",
   "metadata": {},
   "source": [
    "Para ejecutar las celdas hay diferentes opciones:\n",
    "- Pulsar el botón \"Run\" en la parte superior de la celda\n",
    "- Pulsar Ctrl + enter (se ejecuta la celda en al que te encuentras)\n",
    "- Pulsar Shift + enter (se ejecuta la celda en al que te encuentras y pasas a la siguiente)\n",
    "- Pulsar el boton ejecutar todo (ejecuta todas las celdas, se para si alguna causa un error)"
   ]
  },
  {
   "cell_type": "code",
   "execution_count": 2,
   "metadata": {},
   "outputs": [
    {
     "data": {
      "text/plain": [
       "9"
      ]
     },
     "execution_count": 2,
     "metadata": {},
     "output_type": "execute_result"
    }
   ],
   "source": [
    "1+8"
   ]
  },
  {
   "cell_type": "markdown",
   "metadata": {},
   "source": [
    "Una vez que ejecutamos la celda solo se muetra la última línea que imprima por pantalla"
   ]
  },
  {
   "cell_type": "code",
   "execution_count": 3,
   "metadata": {},
   "outputs": [],
   "source": [
    "a = 5+90"
   ]
  },
  {
   "cell_type": "code",
   "execution_count": 4,
   "metadata": {},
   "outputs": [
    {
     "data": {
      "text/plain": [
       "95"
      ]
     },
     "execution_count": 4,
     "metadata": {},
     "output_type": "execute_result"
    }
   ],
   "source": [
    "5+90"
   ]
  },
  {
   "cell_type": "markdown",
   "metadata": {},
   "source": [
    "La funcion print() se usa para mostrar cosas por pantalla, la veremos más adelante:"
   ]
  },
  {
   "cell_type": "code",
   "execution_count": 5,
   "metadata": {},
   "outputs": [
    {
     "name": "stdout",
     "output_type": "stream",
     "text": [
      "95\n"
     ]
    },
    {
     "data": {
      "text/plain": [
       "103"
      ]
     },
     "execution_count": 5,
     "metadata": {},
     "output_type": "execute_result"
    }
   ],
   "source": [
    "print(a)\n",
    "5+98"
   ]
  },
  {
   "cell_type": "markdown",
   "metadata": {},
   "source": [
    "Para ver todas las variables en un notebooks usamos dir()"
   ]
  },
  {
   "cell_type": "code",
   "execution_count": 6,
   "metadata": {},
   "outputs": [
    {
     "data": {
      "text/plain": [
       "['In',\n",
       " 'Out',\n",
       " '_',\n",
       " '_2',\n",
       " '_4',\n",
       " '_5',\n",
       " '__',\n",
       " '___',\n",
       " '__builtin__',\n",
       " '__builtins__',\n",
       " '__doc__',\n",
       " '__loader__',\n",
       " '__name__',\n",
       " '__package__',\n",
       " '__spec__',\n",
       " '__vsc_ipynb_file__',\n",
       " '_dh',\n",
       " '_i',\n",
       " '_i1',\n",
       " '_i2',\n",
       " '_i3',\n",
       " '_i4',\n",
       " '_i5',\n",
       " '_i6',\n",
       " '_ih',\n",
       " '_ii',\n",
       " '_iii',\n",
       " '_oh',\n",
       " 'a',\n",
       " 'exit',\n",
       " 'get_ipython',\n",
       " 'os',\n",
       " 'quit',\n",
       " 'sys']"
      ]
     },
     "execution_count": 6,
     "metadata": {},
     "output_type": "execute_result"
    }
   ],
   "source": [
    "dir()"
   ]
  },
  {
   "cell_type": "markdown",
   "metadata": {},
   "source": [
    "Podemos obtener los outputs de las celdas anteriores usando _(nº de la celda)"
   ]
  },
  {
   "cell_type": "code",
   "execution_count": 8,
   "metadata": {},
   "outputs": [
    {
     "data": {
      "text/plain": [
       "9"
      ]
     },
     "execution_count": 8,
     "metadata": {},
     "output_type": "execute_result"
    }
   ],
   "source": [
    "#mostramos lo que hay en la celda 2 (2ª celda de codigo de python)\n",
    "_2"
   ]
  },
  {
   "cell_type": "markdown",
   "metadata": {},
   "source": [
    "# Markdown"
   ]
  },
  {
   "cell_type": "markdown",
   "metadata": {},
   "source": [
    "Se pueden poner títulos:\n",
    "#### Esto es un título insertado en el notebook con markdown"
   ]
  },
  {
   "cell_type": "markdown",
   "metadata": {},
   "source": [
    "Esto es texto insertado en el notebook con markdown. Para editarlo, haz doble click sobre este párrafo.\n",
    "Puedes introducir texto de muchas maneras:\n",
    "Como *cursiva*, **negrita**\n",
    "- Listas.\n",
    "\n",
    "Si haces click [aquí](https://github.com/adam-p/markdown-here/wiki/Markdown-Cheatsheet) puedes ver una cheatsheet con formatos de markdown."
   ]
  },
  {
   "cell_type": "markdown",
   "metadata": {},
   "source": [
    "# Ejercicio"
   ]
  },
  {
   "cell_type": "markdown",
   "metadata": {},
   "source": [
    "#### 1 Este es el primer ejercicio que vais a realizar.\n",
    "Crea un notebook con el icono +, cámbiale el nombre, añade 3 títulos diferentes, un texto y varias celdas de código "
   ]
  },
  {
   "cell_type": "code",
   "execution_count": null,
   "metadata": {},
   "outputs": [],
   "source": []
  }
 ],
 "metadata": {
  "kernelspec": {
   "display_name": "Python 3.9.12 ('base')",
   "language": "python",
   "name": "python3"
  },
  "language_info": {
   "codemirror_mode": {
    "name": "ipython",
    "version": 3
   },
   "file_extension": ".py",
   "mimetype": "text/x-python",
   "name": "python",
   "nbconvert_exporter": "python",
   "pygments_lexer": "ipython3",
   "version": "3.9.12"
  },
  "orig_nbformat": 4,
  "vscode": {
   "interpreter": {
    "hash": "18a6b418ca989a304418b74e14b57df096d22507d5bd0d85ac6f17ef362aab2d"
   }
  }
 },
 "nbformat": 4,
 "nbformat_minor": 2
}
