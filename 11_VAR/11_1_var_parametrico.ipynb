{
 "cells": [
  {
   "cell_type": "markdown",
   "metadata": {},
   "source": [
    "# Var paramétrico"
   ]
  },
  {
   "cell_type": "markdown",
   "metadata": {},
   "source": [
    "A la hora de evaluar la exposición al riesgo, muchas organizaciones han adoptado la métrica del valor en riesgo, o VaR, que es una técnica estadística de gestión del riesgo que mide la pérdida máxima a la que puede enfrentarse una cartera de inversiones en un plazo determinado con un cierto grado de confianza.\n",
    "\n",
    "Para más información pulsa [aquí](https://www.investopedia.com/ask/answers/041715/what-variancecovariance-matrix-or-parametric-method-value-risk-var.asp#:~:text=The%20parametric%20method%2C%20also%20known,deviation%20of%20an%20investment%20portfolio.)"
   ]
  },
  {
   "cell_type": "code",
   "execution_count": 1,
   "metadata": {},
   "outputs": [],
   "source": [
    "from scipy.stats import norm\n",
    "import matplotlib.pyplot as plt\n",
    "import pandas as pd\n",
    "import yfinance as yf\n",
    "import numpy as np"
   ]
  },
  {
   "cell_type": "markdown",
   "metadata": {},
   "source": [
    "Nos creamos una cartera"
   ]
  },
  {
   "cell_type": "code",
   "execution_count": 2,
   "metadata": {},
   "outputs": [
    {
     "name": "stdout",
     "output_type": "stream",
     "text": [
      "[*********************100%***********************]  2 of 2 completed\n"
     ]
    }
   ],
   "source": [
    "symbols = [\"AAPL\", \"META\"]      \n",
    "pesos = np.array([.20,.80])            \n",
    "tickers = yf.Tickers(symbols)\n",
    "data = tickers.history(start='2010-10-20',end='2012-10-20').loc[:,'Close'].dropna()\n",
    "returns = data.pct_change()[1:]"
   ]
  },
  {
   "cell_type": "code",
   "execution_count": 3,
   "metadata": {},
   "outputs": [],
   "source": [
    "returns = data.pct_change()[1:]"
   ]
  },
  {
   "cell_type": "code",
   "execution_count": 4,
   "metadata": {},
   "outputs": [
    {
     "data": {
      "text/html": [
       "<div>\n",
       "<style scoped>\n",
       "    .dataframe tbody tr th:only-of-type {\n",
       "        vertical-align: middle;\n",
       "    }\n",
       "\n",
       "    .dataframe tbody tr th {\n",
       "        vertical-align: top;\n",
       "    }\n",
       "\n",
       "    .dataframe thead th {\n",
       "        text-align: right;\n",
       "    }\n",
       "</style>\n",
       "<table border=\"1\" class=\"dataframe\">\n",
       "  <thead>\n",
       "    <tr style=\"text-align: right;\">\n",
       "      <th></th>\n",
       "      <th>AAPL</th>\n",
       "      <th>META</th>\n",
       "    </tr>\n",
       "    <tr>\n",
       "      <th>Date</th>\n",
       "      <th></th>\n",
       "      <th></th>\n",
       "    </tr>\n",
       "  </thead>\n",
       "  <tbody>\n",
       "    <tr>\n",
       "      <th>2012-05-21</th>\n",
       "      <td>0.058260</td>\n",
       "      <td>-0.109861</td>\n",
       "    </tr>\n",
       "    <tr>\n",
       "      <th>2012-05-22</th>\n",
       "      <td>-0.007679</td>\n",
       "      <td>-0.089039</td>\n",
       "    </tr>\n",
       "    <tr>\n",
       "      <th>2012-05-23</th>\n",
       "      <td>0.024400</td>\n",
       "      <td>0.032258</td>\n",
       "    </tr>\n",
       "    <tr>\n",
       "      <th>2012-05-24</th>\n",
       "      <td>-0.009184</td>\n",
       "      <td>0.032187</td>\n",
       "    </tr>\n",
       "    <tr>\n",
       "      <th>2012-05-25</th>\n",
       "      <td>-0.005360</td>\n",
       "      <td>-0.033909</td>\n",
       "    </tr>\n",
       "    <tr>\n",
       "      <th>...</th>\n",
       "      <td>...</td>\n",
       "      <td>...</td>\n",
       "    </tr>\n",
       "    <tr>\n",
       "      <th>2012-10-15</th>\n",
       "      <td>0.008020</td>\n",
       "      <td>0.000000</td>\n",
       "    </tr>\n",
       "    <tr>\n",
       "      <th>2012-10-16</th>\n",
       "      <td>0.023678</td>\n",
       "      <td>-0.002049</td>\n",
       "    </tr>\n",
       "    <tr>\n",
       "      <th>2012-10-17</th>\n",
       "      <td>-0.007972</td>\n",
       "      <td>0.020534</td>\n",
       "    </tr>\n",
       "    <tr>\n",
       "      <th>2012-10-18</th>\n",
       "      <td>-0.018569</td>\n",
       "      <td>-0.045272</td>\n",
       "    </tr>\n",
       "    <tr>\n",
       "      <th>2012-10-19</th>\n",
       "      <td>-0.036039</td>\n",
       "      <td>0.001054</td>\n",
       "    </tr>\n",
       "  </tbody>\n",
       "</table>\n",
       "<p>107 rows × 2 columns</p>\n",
       "</div>"
      ],
      "text/plain": [
       "                AAPL      META\n",
       "Date                          \n",
       "2012-05-21  0.058260 -0.109861\n",
       "2012-05-22 -0.007679 -0.089039\n",
       "2012-05-23  0.024400  0.032258\n",
       "2012-05-24 -0.009184  0.032187\n",
       "2012-05-25 -0.005360 -0.033909\n",
       "...              ...       ...\n",
       "2012-10-15  0.008020  0.000000\n",
       "2012-10-16  0.023678 -0.002049\n",
       "2012-10-17 -0.007972  0.020534\n",
       "2012-10-18 -0.018569 -0.045272\n",
       "2012-10-19 -0.036039  0.001054\n",
       "\n",
       "[107 rows x 2 columns]"
      ]
     },
     "execution_count": 4,
     "metadata": {},
     "output_type": "execute_result"
    }
   ],
   "source": [
    "returns \n"
   ]
  },
  {
   "cell_type": "code",
   "execution_count": 5,
   "metadata": {},
   "outputs": [
    {
     "data": {
      "text/plain": [
       "<AxesSubplot:ylabel='Frequency'>"
      ]
     },
     "execution_count": 5,
     "metadata": {},
     "output_type": "execute_result"
    },
    {
     "data": {
      "image/png": "[encoded data removed]",
      "text/plain": [
       "<Figure size 432x288 with 1 Axes>"
      ]
     },
     "metadata": {
      "needs_background": "light"
     },
     "output_type": "display_data"
    }
   ],
   "source": [
    "returns.plot.hist(alpha=0.4)"
   ]
  },
  {
   "cell_type": "markdown",
   "metadata": {},
   "source": [
    "Calculamos la media y la desviación típica de la cartera"
   ]
  },
  {
   "cell_type": "code",
   "execution_count": 6,
   "metadata": {},
   "outputs": [
    {
     "data": {
      "text/plain": [
       "AAPL    0.001457\n",
       "META   -0.005746\n",
       "dtype: float64"
      ]
     },
     "execution_count": 6,
     "metadata": {},
     "output_type": "execute_result"
    }
   ],
   "source": [
    "returns.mean()"
   ]
  },
  {
   "cell_type": "code",
   "execution_count": 7,
   "metadata": {},
   "outputs": [
    {
     "data": {
      "text/plain": [
       "array([0.2, 0.8])"
      ]
     },
     "execution_count": 7,
     "metadata": {},
     "output_type": "execute_result"
    }
   ],
   "source": [
    "pesos"
   ]
  },
  {
   "cell_type": "code",
   "execution_count": 8,
   "metadata": {},
   "outputs": [
    {
     "data": {
      "text/plain": [
       "-0.004305377493835863"
      ]
     },
     "execution_count": 8,
     "metadata": {},
     "output_type": "execute_result"
    }
   ],
   "source": [
    "returns.mean().dot(pesos)"
   ]
  },
  {
   "cell_type": "code",
   "execution_count": 9,
   "metadata": {},
   "outputs": [
    {
     "data": {
      "text/html": [
       "<div>\n",
       "<style scoped>\n",
       "    .dataframe tbody tr th:only-of-type {\n",
       "        vertical-align: middle;\n",
       "    }\n",
       "\n",
       "    .dataframe tbody tr th {\n",
       "        vertical-align: top;\n",
       "    }\n",
       "\n",
       "    .dataframe thead th {\n",
       "        text-align: right;\n",
       "    }\n",
       "</style>\n",
       "<table border=\"1\" class=\"dataframe\">\n",
       "  <thead>\n",
       "    <tr style=\"text-align: right;\">\n",
       "      <th></th>\n",
       "      <th>AAPL</th>\n",
       "      <th>META</th>\n",
       "    </tr>\n",
       "  </thead>\n",
       "  <tbody>\n",
       "    <tr>\n",
       "      <th>AAPL</th>\n",
       "      <td>0.000225</td>\n",
       "      <td>-0.000019</td>\n",
       "    </tr>\n",
       "    <tr>\n",
       "      <th>META</th>\n",
       "      <td>-0.000019</td>\n",
       "      <td>0.001518</td>\n",
       "    </tr>\n",
       "  </tbody>\n",
       "</table>\n",
       "</div>"
      ],
      "text/plain": [
       "          AAPL      META\n",
       "AAPL  0.000225 -0.000019\n",
       "META -0.000019  0.001518"
      ]
     },
     "execution_count": 9,
     "metadata": {},
     "output_type": "execute_result"
    }
   ],
   "source": [
    "returns.cov()"
   ]
  },
  {
   "cell_type": "code",
   "execution_count": 10,
   "metadata": {},
   "outputs": [],
   "source": [
    "portfolio_mean = returns.mean().dot(pesos)\n",
    "portfolio_stdev = np.sqrt(pesos.T.dot(returns.cov()).dot(pesos))"
   ]
  },
  {
   "cell_type": "code",
   "execution_count": 11,
   "metadata": {},
   "outputs": [
    {
     "data": {
      "text/plain": [
       "-0.004305377493835863"
      ]
     },
     "execution_count": 11,
     "metadata": {},
     "output_type": "execute_result"
    }
   ],
   "source": [
    "portfolio_mean"
   ]
  },
  {
   "cell_type": "code",
   "execution_count": 12,
   "metadata": {},
   "outputs": [],
   "source": [
    "dist = np.random.normal(portfolio_mean, portfolio_stdev, 1000000)"
   ]
  },
  {
   "cell_type": "code",
   "execution_count": 13,
   "metadata": {},
   "outputs": [
    {
     "data": {
      "text/plain": [
       "(array([3.14876177e-04, 3.14876177e-04, 3.14876177e-04, 3.14876177e-04,\n",
       "        0.00000000e+00, 0.00000000e+00, 3.14876177e-04, 9.44628532e-04,\n",
       "        2.83388560e-03, 1.57438089e-03, 2.20413324e-03, 6.92727590e-03,\n",
       "        1.03909139e-02, 1.63735612e-02, 2.17264562e-02, 2.83388560e-02,\n",
       "        4.81760552e-02, 5.98264737e-02, 8.47016917e-02, 1.05168643e-01,\n",
       "        1.47047175e-01, 2.14115801e-01, 2.72367894e-01, 3.46363795e-01,\n",
       "        4.93410970e-01, 5.89763080e-01, 8.24030957e-01, 9.96583102e-01,\n",
       "        1.22108982e+00, 1.55108005e+00, 1.89996286e+00, 2.31308040e+00,\n",
       "        2.69817396e+00, 3.25393042e+00, 3.86290095e+00, 4.48855991e+00,\n",
       "        5.20521809e+00, 5.85165888e+00, 6.60484270e+00, 7.42194638e+00,\n",
       "        8.18709549e+00, 8.90438342e+00, 9.81028219e+00, 1.05127709e+01,\n",
       "        1.10625447e+01, 1.15827202e+01, 1.20685741e+01, 1.24306817e+01,\n",
       "        1.26926587e+01, 1.27241463e+01, 1.27109215e+01, 1.26063826e+01,\n",
       "        1.23324404e+01, 1.18576071e+01, 1.14082788e+01, 1.07870281e+01,\n",
       "        1.00584046e+01, 9.35276710e+00, 8.49472952e+00, 7.81081846e+00,\n",
       "        7.03653794e+00, 6.25029212e+00, 5.58401413e+00, 4.79934270e+00,\n",
       "        4.14314074e+00, 3.59336694e+00, 2.99352782e+00, 2.50767388e+00,\n",
       "        2.03126622e+00, 1.68742144e+00, 1.37065600e+00, 1.10080712e+00,\n",
       "        8.74726021e-01, 6.81392048e-01, 5.57645710e-01, 4.34214249e-01,\n",
       "        3.35343129e-01, 2.29544733e-01, 1.67514126e-01, 1.32247995e-01,\n",
       "        9.50926056e-02, 7.02173876e-02, 4.34529125e-02, 4.25082840e-02,\n",
       "        2.23562086e-02, 1.79479421e-02, 1.03909139e-02, 6.29752355e-03,\n",
       "        5.03801884e-03, 4.09339031e-03, 1.88925706e-03, 9.44628532e-04,\n",
       "        6.29752355e-04, 9.44628532e-04, 0.00000000e+00, 6.29752355e-04,\n",
       "        3.14876177e-04, 0.00000000e+00, 3.14876177e-04, 3.14876177e-04]),\n",
       " array([-0.16228687, -0.15911102, -0.15593516, -0.15275931, -0.14958346,\n",
       "        -0.14640761, -0.14323176, -0.14005591, -0.13688005, -0.1337042 ,\n",
       "        -0.13052835, -0.1273525 , -0.12417665, -0.1210008 , -0.11782495,\n",
       "        -0.11464909, -0.11147324, -0.10829739, -0.10512154, -0.10194569,\n",
       "        -0.09876984, -0.09559398, -0.09241813, -0.08924228, -0.08606643,\n",
       "        -0.08289058, -0.07971473, -0.07653887, -0.07336302, -0.07018717,\n",
       "        -0.06701132, -0.06383547, -0.06065962, -0.05748377, -0.05430791,\n",
       "        -0.05113206, -0.04795621, -0.04478036, -0.04160451, -0.03842866,\n",
       "        -0.0352528 , -0.03207695, -0.0289011 , -0.02572525, -0.0225494 ,\n",
       "        -0.01937355, -0.0161977 , -0.01302184, -0.00984599, -0.00667014,\n",
       "        -0.00349429, -0.00031844,  0.00285741,  0.00603327,  0.00920912,\n",
       "         0.01238497,  0.01556082,  0.01873667,  0.02191252,  0.02508838,\n",
       "         0.02826423,  0.03144008,  0.03461593,  0.03779178,  0.04096763,\n",
       "         0.04414348,  0.04731934,  0.05049519,  0.05367104,  0.05684689,\n",
       "         0.06002274,  0.06319859,  0.06637445,  0.0695503 ,  0.07272615,\n",
       "         0.075902  ,  0.07907785,  0.0822537 ,  0.08542955,  0.08860541,\n",
       "         0.09178126,  0.09495711,  0.09813296,  0.10130881,  0.10448466,\n",
       "         0.10766052,  0.11083637,  0.11401222,  0.11718807,  0.12036392,\n",
       "         0.12353977,  0.12671562,  0.12989148,  0.13306733,  0.13624318,\n",
       "         0.13941903,  0.14259488,  0.14577073,  0.14894659,  0.15212244,\n",
       "         0.15529829]),\n",
       " <BarContainer object of 100 artists>)"
      ]
     },
     "execution_count": 13,
     "metadata": {},
     "output_type": "execute_result"
    },
    {
     "data": {
      "image/png": "[encoded data removed]",
      "text/plain": [
       "<Figure size 432x288 with 1 Axes>"
      ]
     },
     "metadata": {
      "needs_background": "light"
     },
     "output_type": "display_data"
    }
   ],
   "source": [
    "plt.hist(dist, bins=100, density=True)"
   ]
  },
  {
   "cell_type": "markdown",
   "metadata": {},
   "source": [
    "Calculamos la pérdida por día y el nivel de confianza que queremos."
   ]
  },
  {
   "cell_type": "code",
   "execution_count": 14,
   "metadata": {},
   "outputs": [],
   "source": [
    "investment = int(1000000)\n",
    "\n",
    "mean_investment = (1+portfolio_mean) * investment\n",
    "stdev_investment = investment * portfolio_stdev\n",
    "\n"
   ]
  },
  {
   "cell_type": "code",
   "execution_count": 15,
   "metadata": {},
   "outputs": [
    {
     "data": {
      "text/plain": [
       "995694.6225061641"
      ]
     },
     "execution_count": 15,
     "metadata": {},
     "output_type": "execute_result"
    }
   ],
   "source": [
    "mean_investment"
   ]
  },
  {
   "cell_type": "code",
   "execution_count": 16,
   "metadata": {},
   "outputs": [
    {
     "data": {
      "text/plain": [
       "31215.361289669163"
      ]
     },
     "execution_count": 16,
     "metadata": {},
     "output_type": "execute_result"
    }
   ],
   "source": [
    "stdev_investment"
   ]
  },
  {
   "cell_type": "code",
   "execution_count": 17,
   "metadata": {},
   "outputs": [],
   "source": [
    "pct_seg = 0.95\n",
    "\n",
    "conf_level = 1 - pct_seg"
   ]
  },
  {
   "cell_type": "code",
   "execution_count": 18,
   "metadata": {},
   "outputs": [
    {
     "data": {
      "text/plain": [
       "0.050000000000000044"
      ]
     },
     "execution_count": 18,
     "metadata": {},
     "output_type": "execute_result"
    }
   ],
   "source": [
    "conf_level"
   ]
  },
  {
   "cell_type": "code",
   "execution_count": 19,
   "metadata": {},
   "outputs": [],
   "source": [
    "cut = norm.ppf(conf_level, mean_investment, stdev_investment)"
   ]
  },
  {
   "cell_type": "code",
   "execution_count": 20,
   "metadata": {},
   "outputs": [
    {
     "data": {
      "text/plain": [
       "55650.07772774878"
      ]
     },
     "execution_count": 20,
     "metadata": {},
     "output_type": "execute_result"
    }
   ],
   "source": [
    "investment - cut"
   ]
  },
  {
   "cell_type": "code",
   "execution_count": 21,
   "metadata": {},
   "outputs": [
    {
     "name": "stdout",
     "output_type": "stream",
     "text": [
      "\n",
      "La pérdida máxima de tu cartera inicial de 1 usd con un nivel de confianza del 95.0% y para los siguientes 23 días es de:\n",
      "\n",
      "A 1 días, VaR(95.0%) = 0.06   Portfolio : 1.0\n",
      "A 2 días, VaR(95.0%) = 0.08   Portfolio : 0.99\n",
      "A 3 días, VaR(95.0%) = 0.1   Portfolio : 0.99\n",
      "A 4 días, VaR(95.0%) = 0.11   Portfolio : 0.98\n",
      "A 5 días, VaR(95.0%) = 0.12   Portfolio : 0.98\n",
      "A 6 días, VaR(95.0%) = 0.14   Portfolio : 0.97\n",
      "A 7 días, VaR(95.0%) = 0.15   Portfolio : 0.97\n",
      "A 8 días, VaR(95.0%) = 0.16   Portfolio : 0.97\n",
      "A 9 días, VaR(95.0%) = 0.17   Portfolio : 0.96\n",
      "A 10 días, VaR(95.0%) = 0.18   Portfolio : 0.96\n",
      "A 11 días, VaR(95.0%) = 0.18   Portfolio : 0.95\n",
      "A 12 días, VaR(95.0%) = 0.19   Portfolio : 0.95\n",
      "A 13 días, VaR(95.0%) = 0.2   Portfolio : 0.95\n",
      "A 14 días, VaR(95.0%) = 0.21   Portfolio : 0.94\n",
      "A 15 días, VaR(95.0%) = 0.22   Portfolio : 0.94\n",
      "A 16 días, VaR(95.0%) = 0.22   Portfolio : 0.93\n",
      "A 17 días, VaR(95.0%) = 0.23   Portfolio : 0.93\n",
      "A 18 días, VaR(95.0%) = 0.24   Portfolio : 0.93\n",
      "A 19 días, VaR(95.0%) = 0.24   Portfolio : 0.92\n",
      "A 20 días, VaR(95.0%) = 0.25   Portfolio : 0.92\n",
      "A 21 días, VaR(95.0%) = 0.26   Portfolio : 0.91\n",
      "A 22 días, VaR(95.0%) = 0.26   Portfolio : 0.91\n",
      "A 23 días, VaR(95.0%) = 0.27   Portfolio : 0.91\n"
     ]
    }
   ],
   "source": [
    "investment = int(1)\n",
    "\n",
    "mean_investment = (1+portfolio_mean) * investment\n",
    "stdev_investment = investment * portfolio_stdev\n",
    "\n",
    "pct_seg = 0.95\n",
    "\n",
    "conf_level = 1 - pct_seg\n",
    "cut = norm.ppf(conf_level, mean_investment, stdev_investment)\n",
    "\n",
    "var_1d = investment - cut \n",
    "\n",
    "days = int(23)\n",
    "\n",
    "print((\"\\nLa pérdida máxima de tu cartera inicial de \" + str(investment) + \n",
    "    \" usd con un nivel de confianza del \" + str((1 - conf_level) * 100) + \"% y para los siguientes \" + str(days) + \" días es de:\\n\"))\n",
    "\n",
    "var_array = []\n",
    "\n",
    "for i in range(1, days+1):\n",
    "    var_array.append(np.round(var_1d * np.sqrt(i), 2))\n",
    "    print(\"A \" + str(i) + \" días, VaR(\" + str((1 - conf_level) * 100) + \"%) = \" + str(((np.round(var_1d * np.sqrt(i), 2))))+ \"   Portfolio : \" +str((np.round(investment * (1+portfolio_mean)**(i),2 ))))"
   ]
  },
  {
   "cell_type": "markdown",
   "metadata": {},
   "source": [
    "Mostramos la pérdida máxima con una seguridad del 95%"
   ]
  },
  {
   "cell_type": "code",
   "execution_count": 22,
   "metadata": {},
   "outputs": [
    {
     "data": {
      "image/png": "[encoded data removed]",
      "text/plain": [
       "<Figure size 432x288 with 1 Axes>"
      ]
     },
     "metadata": {
      "needs_background": "light"
     },
     "output_type": "display_data"
    },
    {
     "data": {
      "text/plain": [
       "array([[<AxesSubplot:title={'center':'AAPL'}>,\n",
       "        <AxesSubplot:title={'center':'META'}>]], dtype=object)"
      ]
     },
     "execution_count": 22,
     "metadata": {},
     "output_type": "execute_result"
    },
    {
     "data": {
      "image/png": "[encoded data removed]",
      "text/plain": [
       "<Figure size 432x288 with 2 Axes>"
      ]
     },
     "metadata": {
      "needs_background": "light"
     },
     "output_type": "display_data"
    }
   ],
   "source": [
    "plt.xlabel(\"Días\")\n",
    "plt.ylabel(\"Pérdida máxima de la cartera (USD)\")\n",
    "plt.title(\"Perdida máxima de la cartera para el periodo\")\n",
    "plt.plot(var_array,\"r\")\n",
    "plt.show()\n",
    "returns.hist(bins=60,alpha=0.5)\n",
    "\n"
   ]
  },
  {
   "cell_type": "markdown",
   "metadata": {},
   "source": [
    "___ \n",
    "# Ejercicios"
   ]
  },
  {
   "cell_type": "markdown",
   "metadata": {},
   "source": [
    "- Transforma el código anterior en una función con parámetros de entrada:\n",
    "    - Intervalo de confianza\n",
    "    - Número de días a futuro\n",
    "    - Inversión inicial (si no se da se asumen 1000€)"
   ]
  },
  {
   "cell_type": "code",
   "execution_count": null,
   "metadata": {},
   "outputs": [],
   "source": []
  },
  {
   "cell_type": "markdown",
   "metadata": {},
   "source": [
    "- Usa la función y muestra el var al 75% de una cartera formada por Repsol, Telefónica e Inditex, con el mismo peso."
   ]
  },
  {
   "cell_type": "code",
   "execution_count": 23,
   "metadata": {},
   "outputs": [
    {
     "name": "stdout",
     "output_type": "stream",
     "text": [
      "[*********************100%***********************]  3 of 3 completed\n"
     ]
    }
   ],
   "source": [
    "symbols = [\"REP.MC\", \"TEF.MC\",\"ITX.MC\"]      \n",
    "pesos = np.array([.20,.80])            \n",
    "tickers = yf.Tickers(symbols)\n",
    "data = tickers.history(start='2010-10-20',end='2012-10-20').loc[:,'Close'].dropna()\n",
    "returns = data.pct_change()[1:]"
   ]
  },
  {
   "cell_type": "code",
   "execution_count": 24,
   "metadata": {},
   "outputs": [
    {
     "data": {
      "text/html": [
       "<div>\n",
       "<style scoped>\n",
       "    .dataframe tbody tr th:only-of-type {\n",
       "        vertical-align: middle;\n",
       "    }\n",
       "\n",
       "    .dataframe tbody tr th {\n",
       "        vertical-align: top;\n",
       "    }\n",
       "\n",
       "    .dataframe thead th {\n",
       "        text-align: right;\n",
       "    }\n",
       "</style>\n",
       "<table border=\"1\" class=\"dataframe\">\n",
       "  <thead>\n",
       "    <tr style=\"text-align: right;\">\n",
       "      <th></th>\n",
       "      <th>ITX.MC</th>\n",
       "      <th>REP.MC</th>\n",
       "      <th>TEF.MC</th>\n",
       "    </tr>\n",
       "    <tr>\n",
       "      <th>Date</th>\n",
       "      <th></th>\n",
       "      <th></th>\n",
       "      <th></th>\n",
       "    </tr>\n",
       "  </thead>\n",
       "  <tbody>\n",
       "    <tr>\n",
       "      <th>2010-10-21</th>\n",
       "      <td>0.029077</td>\n",
       "      <td>0.001530</td>\n",
       "      <td>-0.008251</td>\n",
       "    </tr>\n",
       "    <tr>\n",
       "      <th>2010-10-22</th>\n",
       "      <td>-0.004514</td>\n",
       "      <td>-0.001273</td>\n",
       "      <td>0.003900</td>\n",
       "    </tr>\n",
       "    <tr>\n",
       "      <th>2010-10-25</th>\n",
       "      <td>0.012764</td>\n",
       "      <td>-0.000255</td>\n",
       "      <td>0.000518</td>\n",
       "    </tr>\n",
       "    <tr>\n",
       "      <th>2010-10-26</th>\n",
       "      <td>-0.008126</td>\n",
       "      <td>-0.006119</td>\n",
       "      <td>-0.004660</td>\n",
       "    </tr>\n",
       "    <tr>\n",
       "      <th>2010-10-27</th>\n",
       "      <td>-0.009865</td>\n",
       "      <td>-0.002822</td>\n",
       "      <td>-0.005461</td>\n",
       "    </tr>\n",
       "    <tr>\n",
       "      <th>...</th>\n",
       "      <td>...</td>\n",
       "      <td>...</td>\n",
       "      <td>...</td>\n",
       "    </tr>\n",
       "    <tr>\n",
       "      <th>2012-10-15</th>\n",
       "      <td>-0.006065</td>\n",
       "      <td>0.006451</td>\n",
       "      <td>0.001970</td>\n",
       "    </tr>\n",
       "    <tr>\n",
       "      <th>2012-10-16</th>\n",
       "      <td>0.018614</td>\n",
       "      <td>0.044197</td>\n",
       "      <td>0.033923</td>\n",
       "    </tr>\n",
       "    <tr>\n",
       "      <th>2012-10-17</th>\n",
       "      <td>0.006396</td>\n",
       "      <td>0.031341</td>\n",
       "      <td>0.032335</td>\n",
       "    </tr>\n",
       "    <tr>\n",
       "      <th>2012-10-18</th>\n",
       "      <td>0.005851</td>\n",
       "      <td>0.002193</td>\n",
       "      <td>-0.000461</td>\n",
       "    </tr>\n",
       "    <tr>\n",
       "      <th>2012-10-19</th>\n",
       "      <td>-0.023067</td>\n",
       "      <td>-0.025320</td>\n",
       "      <td>-0.023042</td>\n",
       "    </tr>\n",
       "  </tbody>\n",
       "</table>\n",
       "<p>514 rows × 3 columns</p>\n",
       "</div>"
      ],
      "text/plain": [
       "              ITX.MC    REP.MC    TEF.MC\n",
       "Date                                    \n",
       "2010-10-21  0.029077  0.001530 -0.008251\n",
       "2010-10-22 -0.004514 -0.001273  0.003900\n",
       "2010-10-25  0.012764 -0.000255  0.000518\n",
       "2010-10-26 -0.008126 -0.006119 -0.004660\n",
       "2010-10-27 -0.009865 -0.002822 -0.005461\n",
       "...              ...       ...       ...\n",
       "2012-10-15 -0.006065  0.006451  0.001970\n",
       "2012-10-16  0.018614  0.044197  0.033923\n",
       "2012-10-17  0.006396  0.031341  0.032335\n",
       "2012-10-18  0.005851  0.002193 -0.000461\n",
       "2012-10-19 -0.023067 -0.025320 -0.023042\n",
       "\n",
       "[514 rows x 3 columns]"
      ]
     },
     "execution_count": 24,
     "metadata": {},
     "output_type": "execute_result"
    }
   ],
   "source": [
    "returns"
   ]
  }
 ],
 "metadata": {
  "kernelspec": {
   "display_name": "Python 3.8.8 ('base')",
   "language": "python",
   "name": "python3"
  },
  "language_info": {
   "codemirror_mode": {
    "name": "ipython",
    "version": 3
   },
   "file_extension": ".py",
   "mimetype": "text/x-python",
   "name": "python",
   "nbconvert_exporter": "python",
   "pygments_lexer": "ipython3",
   "version": "3.8.8"
  },
  "orig_nbformat": 4,
  "vscode": {
   "interpreter": {
    "hash": "3a2a03ea413f8be244ba01daf0e257f98f0dabeb03c7836e7000a0f3738aa8c9"
   }
  }
 },
 "nbformat": 4,
 "nbformat_minor": 2
}
