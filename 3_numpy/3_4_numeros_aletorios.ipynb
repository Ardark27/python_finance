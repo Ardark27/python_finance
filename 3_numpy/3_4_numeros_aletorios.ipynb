{
 "cells": [
  {
   "cell_type": "markdown",
   "metadata": {},
   "source": [
    "# Generación de números aletorios"
   ]
  },
  {
   "cell_type": "code",
   "execution_count": 2,
   "metadata": {},
   "outputs": [],
   "source": [
    "import numpy as np"
   ]
  },
  {
   "cell_type": "markdown",
   "metadata": {},
   "source": [
    "## Distribución uniforme"
   ]
  },
  {
   "cell_type": "markdown",
   "metadata": {},
   "source": [
    "**random.rand(d0,d1,d2...)**\n",
    "- Creamos un array de las dimensiones dadas con numeroa aleatorios de una distibucion uniforme [0,1)\n",
    "- Se puede saber más de esta función [aquí](https://numpy.org/doc/stable/reference/random/generated/numpy.random.rand.html)"
   ]
  },
  {
   "cell_type": "code",
   "execution_count": 3,
   "metadata": {},
   "outputs": [
    {
     "data": {
      "text/plain": [
       "array([0.11516933, 0.03557662, 0.27640394, 0.84870534, 0.34560525,\n",
       "       0.56649468, 0.55229977, 0.80039769, 0.48950399, 0.08575803])"
      ]
     },
     "execution_count": 3,
     "metadata": {},
     "output_type": "execute_result"
    }
   ],
   "source": [
    "np.random.rand(10) # 10 numeros aleatorios entre 0 y 1"
   ]
  },
  {
   "cell_type": "code",
   "execution_count": 4,
   "metadata": {},
   "outputs": [
    {
     "data": {
      "text/plain": [
       "array([[0.89570131, 0.3752493 , 0.8613319 , 0.39608683, 0.08793   ],\n",
       "       [0.09812893, 0.69109947, 0.4813323 , 0.22464912, 0.38049348],\n",
       "       [0.00587961, 0.68482918, 0.73328514, 0.99152645, 0.06995745],\n",
       "       [0.37762677, 0.79797457, 0.75593992, 0.00806815, 0.44271592],\n",
       "       [0.15282407, 0.10777626, 0.28583159, 0.04727407, 0.90530718],\n",
       "       [0.19638697, 0.25209302, 0.15176629, 0.39267778, 0.9990457 ],\n",
       "       [0.39830778, 0.88547468, 0.30590734, 0.60980296, 0.14068053],\n",
       "       [0.67264137, 0.90727051, 0.20386165, 0.63752467, 0.88605444],\n",
       "       [0.4839058 , 0.89989785, 0.49991118, 0.7950503 , 0.82546231],\n",
       "       [0.68276181, 0.39324709, 0.9682942 , 0.62772266, 0.66280104]])"
      ]
     },
     "execution_count": 4,
     "metadata": {},
     "output_type": "execute_result"
    }
   ],
   "source": [
    "np.random.rand(10, 5) # 10 filas y 5 columnas"
   ]
  },
  {
   "cell_type": "markdown",
   "metadata": {},
   "source": [
    "- Podemos observar en el siguiente histograma que la distribución es uniforme"
   ]
  },
  {
   "cell_type": "code",
   "execution_count": 6,
   "metadata": {},
   "outputs": [
    {
     "data": {
      "image/png": "[encoded data removed]",
      "text/plain": [
       "<Figure size 432x288 with 1 Axes>"
      ]
     },
     "metadata": {
      "needs_background": "light"
     },
     "output_type": "display_data"
    }
   ],
   "source": [
    "# vamos a mostrar los numeros aleatorios en un histograma\n",
    "import matplotlib.pyplot as plt\n",
    "_ = plt.hist(np.random.rand(100000), bins=100)"
   ]
  },
  {
   "cell_type": "markdown",
   "metadata": {},
   "source": [
    "**random.uniform(low=0.0, high=1.0, size=(d0,d1,d2...))**\n",
    "- low indica el límite inferior, es por defecto 0.0\n",
    "- high indica el límite superior, es por defecto 1.0\n",
    "- size indica las dimensiones de salida\n",
    "- Esta función genera un conjunto de datos distribuidos uniformemente en [low, high)\n",
    "- Para saber más de la funcion pulsa [aquí](https://numpy.org/doc/stable/reference/random/generated/numpy.random.uniform.html) "
   ]
  },
  {
   "cell_type": "code",
   "execution_count": 7,
   "metadata": {},
   "outputs": [
    {
     "data": {
      "text/plain": [
       "array([72.43198461,  2.60952568, 90.64794048, 36.59854021, 87.87480011,\n",
       "        2.11166166, 21.82760843, 11.58430489, 83.79821848, 92.14062068])"
      ]
     },
     "execution_count": 7,
     "metadata": {},
     "output_type": "execute_result"
    }
   ],
   "source": [
    "np.random.uniform(1, 100, 10) # 10 numeros aleatorios entre 1 y 100"
   ]
  },
  {
   "cell_type": "code",
   "execution_count": 8,
   "metadata": {},
   "outputs": [
    {
     "data": {
      "text/plain": [
       "array([[-4.52995129, -8.46611221, -2.41781076, -2.82017203, -0.98884927],\n",
       "       [-6.29540015, -7.4109374 , -6.12872732, -5.85800935, -6.79833831],\n",
       "       [-0.22082295, -1.28692738, -1.03219683, -3.34506394, -8.54196609],\n",
       "       [-8.124415  , -4.14546807, -2.4953517 , -8.34521628, -1.94455647],\n",
       "       [-8.17882331, -3.37287659, -3.1162092 , -0.6732517 , -5.45675363],\n",
       "       [-8.50654633, -4.62928963, -9.81225414, -1.10375867, -3.43112145],\n",
       "       [-3.04241965, -0.72785576, -0.50124804, -5.66959279, -2.91912726],\n",
       "       [-8.67552303, -9.39702819, -8.93143973, -8.41374498, -3.50005689],\n",
       "       [-3.05949379, -0.54240858, -7.92334339, -3.40448682, -4.16713785],\n",
       "       [-6.10905133, -6.64305494, -5.93859701, -3.28787702, -4.3169207 ]])"
      ]
     },
     "execution_count": 8,
     "metadata": {},
     "output_type": "execute_result"
    }
   ],
   "source": [
    "np.random.uniform(-10,0, size=(10,5)) # 10 filas y 5 columnas entre -10 y 0"
   ]
  },
  {
   "cell_type": "markdown",
   "metadata": {},
   "source": [
    "Vamos a mostrar los datos en un histograma"
   ]
  },
  {
   "cell_type": "code",
   "execution_count": 19,
   "metadata": {},
   "outputs": [
    {
     "data": {
      "image/png": "[encoded data removed]",
      "text/plain": [
       "<Figure size 432x288 with 1 Axes>"
      ]
     },
     "metadata": {
      "needs_background": "light"
     },
     "output_type": "display_data"
    }
   ],
   "source": [
    "distribucion_uniforme = np.random.uniform(-10, 10, 100)# si aumentamos el numero de ejemplos, la distribucion se asemeja mas a una uniforme\n",
    "count, bins, ignored = plt.hist(distribucion_uniforme, 15, density=True)\n",
    "prob = 1/(bins[-1] - bins[0])\n",
    "plt.plot(bins,prob*np.ones_like(bins), linewidth=2, color='r', label='Uniforme')\n",
    "plt.legend()\n",
    "plt.show()\n"
   ]
  },
  {
   "cell_type": "markdown",
   "metadata": {},
   "source": [
    "## Distribución uniforme"
   ]
  },
  {
   "cell_type": "markdown",
   "metadata": {},
   "source": [
    "**random.randn(d0,d1,d2...)**\n",
    "- Devuelve un array con elementos de la distribución normal estándar"
   ]
  },
  {
   "cell_type": "code",
   "execution_count": 21,
   "metadata": {},
   "outputs": [
    {
     "data": {
      "text/plain": [
       "array([ 0.88715346,  0.40941303,  0.99968401,  0.46480776,  0.77654919,\n",
       "        1.82105127,  1.01035015,  0.28344384, -0.36114674,  0.27255041])"
      ]
     },
     "execution_count": 21,
     "metadata": {},
     "output_type": "execute_result"
    }
   ],
   "source": [
    "np.random.randn(10) # 10 numeros aleatorios con distribucion normal"
   ]
  },
  {
   "cell_type": "code",
   "execution_count": 22,
   "metadata": {},
   "outputs": [
    {
     "data": {
      "text/plain": [
       "array([[-0.40178566,  0.53832936, -0.8916016 , -0.05357587, -0.75002855],\n",
       "       [ 0.59303398, -0.0115576 , -0.42719411,  0.63885645, -1.89357046],\n",
       "       [ 1.12939152,  1.44768146,  0.54055995,  0.77140016,  0.08025793],\n",
       "       [-0.90979199,  0.58262609,  1.66059791,  0.59434981, -0.07416872],\n",
       "       [-0.42108419, -1.45954751,  2.45015972, -0.55347334,  0.24742553],\n",
       "       [ 0.48803267,  0.11618606, -0.13693885,  1.52819501, -0.66812852],\n",
       "       [-0.06353229, -0.24239781, -0.90768699,  0.54210875,  1.00658929],\n",
       "       [-0.29223717,  1.36533586, -0.05925554,  1.46288784, -1.19625923],\n",
       "       [ 1.365513  ,  0.15056947, -1.61499395,  1.26913098,  2.48467338],\n",
       "       [ 1.35363514, -0.35996003,  1.45021621, -0.07297957, -1.18055381]])"
      ]
     },
     "execution_count": 22,
     "metadata": {},
     "output_type": "execute_result"
    }
   ],
   "source": [
    "np.random.randn(10, 5) # 10 filas y 5 columnas"
   ]
  },
  {
   "cell_type": "markdown",
   "metadata": {},
   "source": [
    "- Vamos a mostrarlo en un histograma"
   ]
  },
  {
   "cell_type": "code",
   "execution_count": 25,
   "metadata": {},
   "outputs": [
    {
     "data": {
      "image/png": "[encoded data removed]",
      "text/plain": [
       "<Figure size 432x288 with 1 Axes>"
      ]
     },
     "metadata": {
      "needs_background": "light"
     },
     "output_type": "display_data"
    }
   ],
   "source": [
    "distribucion_normal = np.random.randn(100000) # si aumentamos el numero de ejemplos, la distribucion se asemeja mas a una normal\n",
    "count, bins, ignored = plt.hist(distribucion_normal, 150, density=True)\n",
    "plt.plot(bins, 1/(np.sqrt(2*np.pi))*np.exp(-(bins**2)/2), linewidth=2, color='r', label='Normal')\n",
    "plt.legend()\n",
    "plt.show()"
   ]
  },
  {
   "cell_type": "markdown",
   "metadata": {},
   "source": [
    "**random.normal(loc=0.0, scale=1.0, size=(d0,d1,d2...))**\n",
    "- loc indica la media de la distribución normal\n",
    "- scale indica la desviación estandar\n",
    "- size indica el shape de salida\n",
    "- Esta función genera una distribucion normal, en base a una media y una desviación estándar dadas\n",
    "- Para saber más pulsa [aquí](random.normal(loc=0.0, scale=1.0, size=None))"
   ]
  },
  {
   "cell_type": "code",
   "execution_count": 27,
   "metadata": {},
   "outputs": [
    {
     "data": {
      "text/plain": [
       "array([13.42806454, 11.27198363, 11.84946908,  6.49035586,  7.04832015,\n",
       "       -1.51338291,  1.15058377,  7.95530408,  4.52766946, 12.69029415])"
      ]
     },
     "execution_count": 27,
     "metadata": {},
     "output_type": "execute_result"
    }
   ],
   "source": [
    "np.random.normal(10, 5, 10) # 10 numeros aleatorios con distribucion normal con media 10 y desviacion tipica 5"
   ]
  },
  {
   "cell_type": "code",
   "execution_count": 28,
   "metadata": {},
   "outputs": [
    {
     "data": {
      "text/plain": [
       "array([[ 7.00133682, 14.20287899, 12.39889129, 15.06319702, 10.03842227],\n",
       "       [ 9.52914907, 10.20340834, 11.33499576, 13.20103026, 10.30025476],\n",
       "       [11.35353275, 12.41792775, 13.28222477, 11.52953055, 13.08148409],\n",
       "       [11.39773138, 11.39615831, 10.89918954,  9.30343558,  9.51286967],\n",
       "       [11.62742054, 13.97502958,  9.57636723, 12.08917982, 11.46566405],\n",
       "       [12.46107979, 12.26764711, 14.12567176, 10.63951653, 11.92761175],\n",
       "       [13.92582604, 13.46041783, 10.97902973, 10.57708804, 10.29930723],\n",
       "       [ 7.53799131, 11.48202878,  9.83095214,  8.26869768, 10.08213829],\n",
       "       [ 9.70719247,  8.97558305,  9.03408652,  8.31396629, 11.67824407],\n",
       "       [10.26269214,  7.60579209, 11.85531696, 13.69252402, 12.95412518]])"
      ]
     },
     "execution_count": 28,
     "metadata": {},
     "output_type": "execute_result"
    }
   ],
   "source": [
    "np.random.normal(11, 2, size=(10,5)) # 10 filas y 5 columnas con distribucion normal con media 11 y desviacion tipica 2"
   ]
  },
  {
   "cell_type": "markdown",
   "metadata": {},
   "source": [
    "- Vamos a mostrar un histograma"
   ]
  },
  {
   "cell_type": "code",
   "execution_count": 30,
   "metadata": {},
   "outputs": [
    {
     "data": {
      "image/png": "[encoded data removed]",
      "text/plain": [
       "<Figure size 432x288 with 1 Axes>"
      ]
     },
     "metadata": {
      "needs_background": "light"
     },
     "output_type": "display_data"
    }
   ],
   "source": [
    "distribucion_normal = np.random.normal(10, 5, 100000) # si aumentamos el numero de ejemplos, la distribucion se asemeja mas a una normal\n",
    "count, bins, ignored = plt.hist(distribucion_normal, 150, density=True)\n",
    "plt.plot(bins, 1/(np.sqrt(2*np.pi*(5**2)))*np.exp(-((bins-10)**2)/(2*(5**2))), linewidth=2, color='r', label='Normal')\n",
    "plt.legend()\n",
    "plt.show()"
   ]
  },
  {
   "cell_type": "markdown",
   "metadata": {},
   "source": [
    "## Selección aleatoria de elementos y permutaciones"
   ]
  },
  {
   "cell_type": "markdown",
   "metadata": {},
   "source": [
    "**random.choice(a, size=(d0,d1,d2...), replace=True, p=None)**\n",
    "- a indica el array del que se van a extraer los elementos\n",
    "- size indica las dimensiones de salida\n",
    "- replace indica si la selección es con remplazo o sin\n",
    "- p indica la probabilidad de cada elemento del array, en cado de no tener se asume uniforme\n"
   ]
  },
  {
   "cell_type": "code",
   "execution_count": 12,
   "metadata": {},
   "outputs": [
    {
     "data": {
      "text/plain": [
       "array(['amarillo', 'naraja', 'naraja', 'naraja', 'azul', 'azul',\n",
       "       'amarillo', 'amarillo', 'verde', 'naraja'], dtype='<U8')"
      ]
     },
     "execution_count": 12,
     "metadata": {},
     "output_type": "execute_result"
    }
   ],
   "source": [
    "a = np.array(['azul','rojo','verde','naraja','amarillo'])\n",
    "p = np.array([0.1, 0.2, 0.3, 0.2, 0.2])\n",
    "np.random.choice(a, 10, p=p) # 10 seleccion aleatoria de a con probabilidad p"
   ]
  },
  {
   "cell_type": "markdown",
   "metadata": {},
   "source": [
    "- Puede causar error si no hay suficientes elementos y hemos cambiado el replace a False"
   ]
  },
  {
   "cell_type": "code",
   "execution_count": 13,
   "metadata": {},
   "outputs": [
    {
     "ename": "ValueError",
     "evalue": "Cannot take a larger sample than population when 'replace=False'",
     "output_type": "error",
     "traceback": [
      "\u001b[1;31m---------------------------------------------------------------------------\u001b[0m",
      "\u001b[1;31mValueError\u001b[0m                                Traceback (most recent call last)",
      "\u001b[1;32mc:\\Users\\adriy\\Desktop\\Curso_uam\\python_finance\\3_numpy\\3_4_numeros_aletorios.ipynb Celda 28\u001b[0m in \u001b[0;36m<cell line: 1>\u001b[1;34m()\u001b[0m\n\u001b[1;32m----> <a href='vscode-notebook-cell:/c%3A/Users/adriy/Desktop/Curso_uam/python_finance/3_numpy/3_4_numeros_aletorios.ipynb#X42sZmlsZQ%3D%3D?line=0'>1</a>\u001b[0m np\u001b[39m.\u001b[39;49mrandom\u001b[39m.\u001b[39;49mchoice(a, \u001b[39m10\u001b[39;49m, p\u001b[39m=\u001b[39;49mp, replace\u001b[39m=\u001b[39;49m\u001b[39mFalse\u001b[39;49;00m)\n",
      "File \u001b[1;32mmtrand.pyx:965\u001b[0m, in \u001b[0;36mnumpy.random.mtrand.RandomState.choice\u001b[1;34m()\u001b[0m\n",
      "\u001b[1;31mValueError\u001b[0m: Cannot take a larger sample than population when 'replace=False'"
     ]
    }
   ],
   "source": [
    "np.random.choice(a, 10, p=p, replace=False) # 10 seleccion aleatoria de a con probabilidad p sin repetir"
   ]
  },
  {
   "cell_type": "markdown",
   "metadata": {},
   "source": [
    "- Vamos a mostrar las diferencias al cambiar el vectore de probabilidades"
   ]
  },
  {
   "cell_type": "code",
   "execution_count": 16,
   "metadata": {},
   "outputs": [],
   "source": [
    "a = np.array(['azul','rojo','verde','naraja','amarillo'])\n",
    "p = np.array([0.1, 0.2, 0.3, 0.2, 0.2])\n",
    "c = np.random.choice(a, 1000, p=p)"
   ]
  },
  {
   "cell_type": "code",
   "execution_count": 17,
   "metadata": {},
   "outputs": [
    {
     "data": {
      "text/plain": [
       "(array(['amarillo', 'azul', 'naraja', 'rojo', 'verde'], dtype='<U8'),\n",
       " array([208,  79, 211, 201, 301], dtype=int64))"
      ]
     },
     "execution_count": 17,
     "metadata": {},
     "output_type": "execute_result"
    }
   ],
   "source": [
    "np.unique(c, return_counts=True)"
   ]
  },
  {
   "cell_type": "markdown",
   "metadata": {},
   "source": [
    "**random.permutation(x)**\n",
    "- x indica el array a permutar\n",
    "- La función permuta  el array x de forma aleatoria"
   ]
  },
  {
   "cell_type": "code",
   "execution_count": 5,
   "metadata": {},
   "outputs": [
    {
     "data": {
      "text/plain": [
       "array([15,  4,  1, 12,  9])"
      ]
     },
     "execution_count": 5,
     "metadata": {},
     "output_type": "execute_result"
    }
   ],
   "source": [
    "np.random.permutation([1, 4, 9, 12, 15])"
   ]
  },
  {
   "cell_type": "markdown",
   "metadata": {},
   "source": [
    "___\n",
    "# Ejercicio"
   ]
  },
  {
   "cell_type": "markdown",
   "metadata": {},
   "source": [
    "**1.-** Lanza una moneda 30,50,100 veces y muestra su media"
   ]
  },
  {
   "cell_type": "code",
   "execution_count": null,
   "metadata": {},
   "outputs": [],
   "source": []
  },
  {
   "cell_type": "markdown",
   "metadata": {},
   "source": [
    "**2.-** Crea una distribución normal con media 314, desviación 77  y muestra estos parámetros por pantalla (media y std del array)"
   ]
  },
  {
   "cell_type": "code",
   "execution_count": null,
   "metadata": {},
   "outputs": [],
   "source": []
  },
  {
   "cell_type": "markdown",
   "metadata": {},
   "source": [
    "**3.-** Crea una función que pida 2 números y devuelve un array de 100 elementos con una distribución entre ambos"
   ]
  },
  {
   "cell_type": "code",
   "execution_count": null,
   "metadata": {},
   "outputs": [],
   "source": []
  }
 ],
 "metadata": {
  "kernelspec": {
   "display_name": "Python 3.8.8 ('base')",
   "language": "python",
   "name": "python3"
  },
  "language_info": {
   "codemirror_mode": {
    "name": "ipython",
    "version": 3
   },
   "file_extension": ".py",
   "mimetype": "text/x-python",
   "name": "python",
   "nbconvert_exporter": "python",
   "pygments_lexer": "ipython3",
   "version": "3.8.8"
  },
  "orig_nbformat": 4,
  "vscode": {
   "interpreter": {
    "hash": "3a2a03ea413f8be244ba01daf0e257f98f0dabeb03c7836e7000a0f3738aa8c9"
   }
  }
 },
 "nbformat": 4,
 "nbformat_minor": 2
}
