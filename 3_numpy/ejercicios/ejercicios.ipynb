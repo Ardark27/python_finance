{
 "cells": [
  {
   "cell_type": "markdown",
   "metadata": {},
   "source": [
    "**1.-** Crea una función que calcule lo que te queda por pagar de hipoteca:\n",
    "\n",
    "- Parámetros:\n",
    "    - Cantidad de la hipoteca\n",
    "    - Pago mensual\n",
    "    - Cantidad pagada\n",
    "    - Tasa de interés"
   ]
  },
  {
   "cell_type": "markdown",
   "metadata": {},
   "source": [
    "**2.-** Calcula el TIR :\n",
    "|Mes|Cantidad|\n",
    "|----|---|\n",
    "|Enero|-1500|\n",
    "|Febrero|300|\n",
    "|Marzo|75|\n",
    "|Abril|200|\n",
    "|Mayo|300|\n",
    "|Junio|56|\n",
    "|Julio|98|\n",
    "|Agosto|290|\n",
    "|Septiembre|130|\n",
    "|Octubre|160|\n",
    "|Noviembre|120|\n",
    "|Diciembre|100|\n"
   ]
  },
  {
   "cell_type": "markdown",
   "metadata": {},
   "source": [
    "**3.-** ¿Cuál es el valor actual (por ejemplo, la inversión inicial) de una inversión que debe ascender a 15692.93 € después de 10 años de ahorrar 100 € cada mes? Supongamos que el tipo de interés es del 5% (anual) compuesto mensualmente.\n"
   ]
  }
 ],
 "metadata": {
  "kernelspec": {
   "display_name": "Python 3.8.8 ('base')",
   "language": "python",
   "name": "python3"
  },
  "language_info": {
   "codemirror_mode": {
    "name": "ipython",
    "version": 3
   },
   "file_extension": ".py",
   "mimetype": "text/x-python",
   "name": "python",
   "nbconvert_exporter": "python",
   "pygments_lexer": "ipython3",
   "version": "3.8.8"
  },
  "orig_nbformat": 4,
  "vscode": {
   "interpreter": {
    "hash": "3a2a03ea413f8be244ba01daf0e257f98f0dabeb03c7836e7000a0f3738aa8c9"
   }
  }
 },
 "nbformat": 4,
 "nbformat_minor": 2
}
