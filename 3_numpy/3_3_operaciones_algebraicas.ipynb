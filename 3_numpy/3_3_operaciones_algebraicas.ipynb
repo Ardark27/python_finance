{
 "cells": [
  {
   "cell_type": "markdown",
   "metadata": {},
   "source": [
    "# Operaciones algebraicas"
   ]
  },
  {
   "cell_type": "code",
   "execution_count": 1,
   "metadata": {},
   "outputs": [],
   "source": [
    "import numpy as np"
   ]
  },
  {
   "cell_type": "markdown",
   "metadata": {},
   "source": [
    "- Toda la descripción del algebra lineal que podemos realizar con numpy la puedes encontrar [aquí](https://numpy.org/doc/stable/reference/routines.linalg.html)\n",
    "- Algunas de las más comunes son:\n",
    "\n",
    "|Función|Descripcción|\n",
    "|----|---|\n",
    "|`diag`| Recupera la diagonal principal del ndarray pasado como parámetro.|\n",
    "|`dot`| Realiza el producto matricial de dos ndarray.|\n",
    "|`trace`| Calcula la suma de los elementos de la diagonal principal.|\n",
    "|`det`| Calcula el determinante de un ndarray.|\n",
    "|`eig`| Calcula los autovalores y autovectores de un ndarray.|\n",
    "|`inv`| Calcula la inversa de una matriz.|\n",
    "|`qr`| Calcula la descomposición QR de una matriz.|\n",
    "|`svd`| Calcula la descomposición de valores singulares (Singular Value Decomposition) de una matriz.|\n",
    "|`solve`| Calcula el resultado del sistema lineal Ax = B donde A y B son las matrices de entrada y x la salida.|\n",
    "|`lstsq`| Calcula la solución de mínimos cuadrados a y = Xb, donde y y b son los parámetros de entrada y X la salida.|\n",
    "\n",
    "- Nosotros vamos a ver las características más utilizadas\n",
    "\n"
   ]
  },
  {
   "cell_type": "markdown",
   "metadata": {},
   "source": [
    "## Transposición de matrices"
   ]
  },
  {
   "cell_type": "markdown",
   "metadata": {},
   "source": [
    "- La transposición nos sirve para girar una matriz:\n",
    "    - Es decir si tenemos una matriz con dimensiones (3,2) al transponerla tendremos una (2,3)\n",
    "    - Lo que hacemos es cambiar filas por columnas\n",
    "\n",
    "<center>\n",
    "<img src=\"imgs/np_5.png\"  alt=\"drawing\" width=\"50%\"/>\n",
    "</center>"
   ]
  },
  {
   "cell_type": "code",
   "execution_count": 3,
   "metadata": {},
   "outputs": [
    {
     "data": {
      "text/plain": [
       "array([[1, 2],\n",
       "       [3, 4]])"
      ]
     },
     "execution_count": 3,
     "metadata": {},
     "output_type": "execute_result"
    }
   ],
   "source": [
    "A = np.array([[1, 2], [3, 4]])\n",
    "A"
   ]
  },
  {
   "cell_type": "code",
   "execution_count": 4,
   "metadata": {},
   "outputs": [
    {
     "data": {
      "text/plain": [
       "array([[1, 3],\n",
       "       [2, 4]])"
      ]
     },
     "execution_count": 4,
     "metadata": {},
     "output_type": "execute_result"
    }
   ],
   "source": [
    "A.T"
   ]
  },
  {
   "cell_type": "code",
   "execution_count": 5,
   "metadata": {},
   "outputs": [
    {
     "data": {
      "text/plain": [
       "(2, 3)"
      ]
     },
     "execution_count": 5,
     "metadata": {},
     "output_type": "execute_result"
    }
   ],
   "source": [
    "B = np.array([[1, 2, 3], [4, 5, 6]])\n",
    "B.shape"
   ]
  },
  {
   "cell_type": "code",
   "execution_count": 6,
   "metadata": {},
   "outputs": [
    {
     "data": {
      "text/plain": [
       "(3, 2)"
      ]
     },
     "execution_count": 6,
     "metadata": {},
     "output_type": "execute_result"
    }
   ],
   "source": [
    "B.T.shape"
   ]
  },
  {
   "cell_type": "markdown",
   "metadata": {},
   "source": [
    "## Multiplicación matricial"
   ]
  },
  {
   "cell_type": "markdown",
   "metadata": {},
   "source": [
    "- La multiplicacion matricial se puede realizar de distintos modos con el operador @,con np.matmul(), y con array.dot(anotherarray)"
   ]
  },
  {
   "cell_type": "code",
   "execution_count": 7,
   "metadata": {},
   "outputs": [],
   "source": [
    "A = np.array([[1, 2], [3, 4]])\n",
    "B = np.array([[5, 6], [7, 8]])"
   ]
  },
  {
   "cell_type": "markdown",
   "metadata": {},
   "source": [
    "$\\begin{bmatrix}\n",
    "1 &2 \\\\ \n",
    " 3& 4\n",
    "\\end{bmatrix}\\times\n",
    "\\begin{bmatrix}\n",
    "5 &6 \\\\ \n",
    " 7& 8\n",
    "\\end{bmatrix} = \n",
    "\\begin{bmatrix}\n",
    "(1\\cdot 5+2\\cdot 7)&(1\\cdot 6+2\\cdot 8) \\\\ \n",
    "(3\\cdot 5+4\\cdot 7)&(3\\cdot 6+4\\cdot 8)\n",
    "\\end{bmatrix} = \n",
    "\\begin{bmatrix}\n",
    "19 &22 \\\\ \n",
    " 43& 50\n",
    "\\end{bmatrix}$"
   ]
  },
  {
   "cell_type": "code",
   "execution_count": 8,
   "metadata": {},
   "outputs": [
    {
     "data": {
      "text/plain": [
       "array([[19, 22],\n",
       "       [43, 50]])"
      ]
     },
     "execution_count": 8,
     "metadata": {},
     "output_type": "execute_result"
    }
   ],
   "source": [
    "A @ B"
   ]
  },
  {
   "cell_type": "code",
   "execution_count": 9,
   "metadata": {},
   "outputs": [
    {
     "data": {
      "text/plain": [
       "array([[19, 22],\n",
       "       [43, 50]])"
      ]
     },
     "execution_count": 9,
     "metadata": {},
     "output_type": "execute_result"
    }
   ],
   "source": [
    "A.dot(B)"
   ]
  },
  {
   "cell_type": "code",
   "execution_count": 10,
   "metadata": {},
   "outputs": [
    {
     "data": {
      "text/plain": [
       "array([[19, 22],\n",
       "       [43, 50]])"
      ]
     },
     "execution_count": 10,
     "metadata": {},
     "output_type": "execute_result"
    }
   ],
   "source": [
    "np.matmul(A, B)"
   ]
  },
  {
   "cell_type": "code",
   "execution_count": 11,
   "metadata": {},
   "outputs": [
    {
     "data": {
      "text/plain": [
       "array([[19, 22],\n",
       "       [43, 50]])"
      ]
     },
     "execution_count": 11,
     "metadata": {},
     "output_type": "execute_result"
    }
   ],
   "source": [
    "np.dot(A, B)"
   ]
  },
  {
   "cell_type": "markdown",
   "metadata": {},
   "source": [
    "- Se puede utilizar también para el producto de dos vectores"
   ]
  },
  {
   "cell_type": "code",
   "execution_count": 12,
   "metadata": {},
   "outputs": [],
   "source": [
    "a = np.array([1, 2, 3, 4])\n",
    "b = np.array([5, 6, 7, 8])"
   ]
  },
  {
   "cell_type": "code",
   "execution_count": 13,
   "metadata": {},
   "outputs": [
    {
     "data": {
      "text/plain": [
       "70"
      ]
     },
     "execution_count": 13,
     "metadata": {},
     "output_type": "execute_result"
    }
   ],
   "source": [
    "a @ b"
   ]
  },
  {
   "cell_type": "code",
   "execution_count": 14,
   "metadata": {},
   "outputs": [
    {
     "data": {
      "text/plain": [
       "70"
      ]
     },
     "execution_count": 14,
     "metadata": {},
     "output_type": "execute_result"
    }
   ],
   "source": [
    "np.dot(a, b)"
   ]
  },
  {
   "cell_type": "markdown",
   "metadata": {},
   "source": [
    "- También podemos usarlo para multiplicar un vector por una matriz"
   ]
  },
  {
   "cell_type": "code",
   "execution_count": 15,
   "metadata": {},
   "outputs": [],
   "source": [
    "A = np.array([[1, 2], [3, 4]])\n",
    "b = np.array([5, 6])"
   ]
  },
  {
   "cell_type": "markdown",
   "metadata": {},
   "source": [
    "Hay que tener en cuenta que el resultado de multiplicar matricialmente A@b es distinto a multiplicar b@A, esto es válido para todas las multiplicaciones matriciales"
   ]
  },
  {
   "cell_type": "code",
   "execution_count": 16,
   "metadata": {},
   "outputs": [
    {
     "data": {
      "text/plain": [
       "array([17, 39])"
      ]
     },
     "execution_count": 16,
     "metadata": {},
     "output_type": "execute_result"
    }
   ],
   "source": [
    "A @ b"
   ]
  },
  {
   "cell_type": "markdown",
   "metadata": {},
   "source": [
    "La operación sería la siguiente\n",
    "$\\begin{bmatrix}\n",
    "1 &2 \\\\ \n",
    " 3&4 \n",
    "\\end{bmatrix}\\times \\begin{bmatrix}\n",
    "5 \\\\6 \n",
    "\\end{bmatrix}= \\begin{bmatrix}\n",
    "1\\cdot 5 + 2 \\cdot 6\\\\ \n",
    "3\\cdot 5 + 4 \\cdot 6\n",
    "\\end{bmatrix}= \\begin{bmatrix}\n",
    "17\\\\ \n",
    "39\n",
    "\\end{bmatrix}$"
   ]
  },
  {
   "cell_type": "code",
   "execution_count": 17,
   "metadata": {},
   "outputs": [
    {
     "data": {
      "text/plain": [
       "array([23, 34])"
      ]
     },
     "execution_count": 17,
     "metadata": {},
     "output_type": "execute_result"
    }
   ],
   "source": [
    "b @ A"
   ]
  },
  {
   "cell_type": "markdown",
   "metadata": {},
   "source": [
    "La operación sería la siguiente\n",
    "$\\begin{bmatrix}\n",
    "5 &6 \n",
    "\\end{bmatrix}\\times \\begin{bmatrix}\n",
    "1 &2 \\\\ \n",
    " 3&4 \n",
    "\\end{bmatrix}= \\begin{bmatrix}\n",
    "(5\\cdot 1 + 6 \\cdot 3)& \n",
    "(5\\cdot 2 + 6 \\cdot 4)\n",
    "\\end{bmatrix}= \\begin{bmatrix}\n",
    "23& \n",
    "34\n",
    "\\end{bmatrix}$"
   ]
  },
  {
   "cell_type": "markdown",
   "metadata": {},
   "source": [
    "___\n",
    "# Ejercicios"
   ]
  },
  {
   "cell_type": "markdown",
   "metadata": {},
   "source": [
    "**1** Genera una matriz de 5x5"
   ]
  },
  {
   "cell_type": "code",
   "execution_count": null,
   "metadata": {},
   "outputs": [],
   "source": []
  },
  {
   "cell_type": "markdown",
   "metadata": {},
   "source": [
    "**2** Crea un vector que se pueda multiplicar por la matriz y multiplícalos matricialmente."
   ]
  },
  {
   "cell_type": "code",
   "execution_count": null,
   "metadata": {},
   "outputs": [],
   "source": []
  }
 ],
 "metadata": {
  "kernelspec": {
   "display_name": "Python 3.8.8 ('base')",
   "language": "python",
   "name": "python3"
  },
  "language_info": {
   "codemirror_mode": {
    "name": "ipython",
    "version": 3
   },
   "file_extension": ".py",
   "mimetype": "text/x-python",
   "name": "python",
   "nbconvert_exporter": "python",
   "pygments_lexer": "ipython3",
   "version": "3.8.8"
  },
  "orig_nbformat": 4,
  "vscode": {
   "interpreter": {
    "hash": "3a2a03ea413f8be244ba01daf0e257f98f0dabeb03c7836e7000a0f3738aa8c9"
   }
  }
 },
 "nbformat": 4,
 "nbformat_minor": 2
}
