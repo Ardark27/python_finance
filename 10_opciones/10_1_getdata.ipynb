{
 "cells": [
  {
   "cell_type": "markdown",
   "metadata": {},
   "source": [
    "## Get data from Yahoo Finance "
   ]
  },
  {
   "cell_type": "markdown",
   "metadata": {},
   "source": [
    "Obtenemos los dtaos de [yahoo](https://es.finance.yahoo.com/)"
   ]
  },
  {
   "cell_type": "markdown",
   "metadata": {},
   "source": [
    "Buscamos un ticker, por ejemplo Cisco (CSCO)"
   ]
  },
  {
   "cell_type": "markdown",
   "metadata": {},
   "source": [
    "<center>\n",
    "<img src=\"imgs/yf_cisco.png\"  alt=\"drawing\" width=\"50%\"/>\n",
    "</center>"
   ]
  },
  {
   "cell_type": "markdown",
   "metadata": {},
   "source": [
    "Obtenemos los datos de opciones de Cisco [aquí](https://finance.yahoo.com/quote/CSCO/options?p=CSCO)"
   ]
  },
  {
   "cell_type": "code",
   "execution_count": 3,
   "metadata": {},
   "outputs": [],
   "source": [
    "import numpy as np\n",
    "import pandas as pd\n",
    "import yfinance as yf\n",
    "import plotly.graph_objects as go\n",
    "import datetime\n",
    "import mibian\n",
    "\n",
    "import warnings\n",
    "warnings.filterwarnings(\"ignore\")"
   ]
  },
  {
   "cell_type": "code",
   "execution_count": 4,
   "metadata": {},
   "outputs": [],
   "source": [
    "msft = yf.Ticker(\"MSFT\")\n",
    "csco = yf.Ticker(\"CSCO\")\n",
    "\n",
    "# get historical market data\n",
    "msft_hist = msft.history(period=\"max\")\n",
    "csco_hist = csco.history(period=\"max\")\n",
    "\n",
    "csco_hist= csco_hist[csco_hist.index > '2020-01-01']"
   ]
  },
  {
   "cell_type": "markdown",
   "metadata": {},
   "source": [
    "Elijo una fecha de vencimiento entre las disponibles"
   ]
  },
  {
   "cell_type": "code",
   "execution_count": 5,
   "metadata": {},
   "outputs": [
    {
     "name": "stdout",
     "output_type": "stream",
     "text": [
      " Las fechas de vencimiento disponibles son :  ('2022-10-14', '2022-10-21', '2022-10-28', '2022-11-04', '2022-11-11', '2022-11-18', '2022-11-25', '2022-12-16', '2023-01-20', '2023-03-17', '2023-04-21', '2023-06-16', '2024-01-19', '2024-06-21', '2025-01-17')\n",
      "\n",
      " La fecha de vencimiento elegida es :  2023-03-17\n"
     ]
    }
   ],
   "source": [
    "# show options expirations\n",
    "exp_dates = csco.options\n",
    "print(' Las fechas de vencimiento disponibles son : ', exp_dates)\n",
    "\n",
    "#elijo, por ejemplo, la fecha de la que está en el noveno lugar\n",
    "vcto_str = exp_dates[9] \n",
    "print('\\n La fecha de vencimiento elegida es : ', vcto_str)"
   ]
  },
  {
   "cell_type": "markdown",
   "metadata": {},
   "source": [
    "Elijo todas las opciones con  fecha de vencimiento igual a la elegida"
   ]
  },
  {
   "cell_type": "code",
   "execution_count": 7,
   "metadata": {},
   "outputs": [
    {
     "data": {
      "text/html": [
       "<div>\n",
       "<style scoped>\n",
       "    .dataframe tbody tr th:only-of-type {\n",
       "        vertical-align: middle;\n",
       "    }\n",
       "\n",
       "    .dataframe tbody tr th {\n",
       "        vertical-align: top;\n",
       "    }\n",
       "\n",
       "    .dataframe thead th {\n",
       "        text-align: right;\n",
       "    }\n",
       "</style>\n",
       "<table border=\"1\" class=\"dataframe\">\n",
       "  <thead>\n",
       "    <tr style=\"text-align: right;\">\n",
       "      <th></th>\n",
       "      <th>lastTradeDate</th>\n",
       "      <th>strike</th>\n",
       "      <th>lastPrice</th>\n",
       "    </tr>\n",
       "  </thead>\n",
       "  <tbody>\n",
       "    <tr>\n",
       "      <th>0</th>\n",
       "      <td>2022-08-29</td>\n",
       "      <td>22.5</td>\n",
       "      <td>23.25</td>\n",
       "    </tr>\n",
       "    <tr>\n",
       "      <th>1</th>\n",
       "      <td>2022-07-18</td>\n",
       "      <td>27.5</td>\n",
       "      <td>16.15</td>\n",
       "    </tr>\n",
       "    <tr>\n",
       "      <th>2</th>\n",
       "      <td>2022-10-13</td>\n",
       "      <td>30.0</td>\n",
       "      <td>10.05</td>\n",
       "    </tr>\n",
       "    <tr>\n",
       "      <th>3</th>\n",
       "      <td>2022-10-12</td>\n",
       "      <td>32.5</td>\n",
       "      <td>7.95</td>\n",
       "    </tr>\n",
       "    <tr>\n",
       "      <th>4</th>\n",
       "      <td>2022-09-26</td>\n",
       "      <td>35.0</td>\n",
       "      <td>6.20</td>\n",
       "    </tr>\n",
       "    <tr>\n",
       "      <th>5</th>\n",
       "      <td>2022-10-13</td>\n",
       "      <td>37.5</td>\n",
       "      <td>4.40</td>\n",
       "    </tr>\n",
       "    <tr>\n",
       "      <th>6</th>\n",
       "      <td>2022-10-13</td>\n",
       "      <td>40.0</td>\n",
       "      <td>3.15</td>\n",
       "    </tr>\n",
       "    <tr>\n",
       "      <th>7</th>\n",
       "      <td>2022-10-13</td>\n",
       "      <td>42.5</td>\n",
       "      <td>2.66</td>\n",
       "    </tr>\n",
       "    <tr>\n",
       "      <th>8</th>\n",
       "      <td>2022-10-13</td>\n",
       "      <td>45.0</td>\n",
       "      <td>1.34</td>\n",
       "    </tr>\n",
       "    <tr>\n",
       "      <th>9</th>\n",
       "      <td>2022-10-13</td>\n",
       "      <td>47.5</td>\n",
       "      <td>1.05</td>\n",
       "    </tr>\n",
       "    <tr>\n",
       "      <th>10</th>\n",
       "      <td>2022-10-12</td>\n",
       "      <td>50.0</td>\n",
       "      <td>0.49</td>\n",
       "    </tr>\n",
       "    <tr>\n",
       "      <th>11</th>\n",
       "      <td>2022-10-13</td>\n",
       "      <td>52.5</td>\n",
       "      <td>0.26</td>\n",
       "    </tr>\n",
       "    <tr>\n",
       "      <th>12</th>\n",
       "      <td>2022-10-13</td>\n",
       "      <td>55.0</td>\n",
       "      <td>0.17</td>\n",
       "    </tr>\n",
       "    <tr>\n",
       "      <th>13</th>\n",
       "      <td>2022-10-13</td>\n",
       "      <td>57.5</td>\n",
       "      <td>0.13</td>\n",
       "    </tr>\n",
       "    <tr>\n",
       "      <th>14</th>\n",
       "      <td>2022-10-12</td>\n",
       "      <td>60.0</td>\n",
       "      <td>0.08</td>\n",
       "    </tr>\n",
       "    <tr>\n",
       "      <th>15</th>\n",
       "      <td>2022-09-28</td>\n",
       "      <td>65.0</td>\n",
       "      <td>0.09</td>\n",
       "    </tr>\n",
       "  </tbody>\n",
       "</table>\n",
       "</div>"
      ],
      "text/plain": [
       "   lastTradeDate  strike  lastPrice\n",
       "0     2022-08-29    22.5      23.25\n",
       "1     2022-07-18    27.5      16.15\n",
       "2     2022-10-13    30.0      10.05\n",
       "3     2022-10-12    32.5       7.95\n",
       "4     2022-09-26    35.0       6.20\n",
       "5     2022-10-13    37.5       4.40\n",
       "6     2022-10-13    40.0       3.15\n",
       "7     2022-10-13    42.5       2.66\n",
       "8     2022-10-13    45.0       1.34\n",
       "9     2022-10-13    47.5       1.05\n",
       "10    2022-10-12    50.0       0.49\n",
       "11    2022-10-13    52.5       0.26\n",
       "12    2022-10-13    55.0       0.17\n",
       "13    2022-10-13    57.5       0.13\n",
       "14    2022-10-12    60.0       0.08\n",
       "15    2022-09-28    65.0       0.09"
      ]
     },
     "execution_count": 7,
     "metadata": {},
     "output_type": "execute_result"
    }
   ],
   "source": [
    "# get option chain for specific expiration\n",
    "csco_opt = csco.option_chain(vcto_str)  \n",
    "\n",
    "# data available via: opt.calls, opt.puts\n",
    "csco_opt_calls = csco_opt.calls.loc[:, ['lastTradeDate', 'strike', 'lastPrice']]\n",
    "\n",
    "#convert lastTradeDate to date format\n",
    "csco_opt_calls.lastTradeDate = csco_opt_calls.lastTradeDate.apply(lambda x: x.date())\n",
    "\n",
    "\n",
    "\n",
    "csco_opt_calls"
   ]
  },
  {
   "cell_type": "markdown",
   "metadata": {},
   "source": [
    "Selecciono aquellas que se negociaron en una fecha determinada"
   ]
  },
  {
   "cell_type": "code",
   "execution_count": 8,
   "metadata": {},
   "outputs": [
    {
     "data": {
      "text/html": [
       "<div>\n",
       "<style scoped>\n",
       "    .dataframe tbody tr th:only-of-type {\n",
       "        vertical-align: middle;\n",
       "    }\n",
       "\n",
       "    .dataframe tbody tr th {\n",
       "        vertical-align: top;\n",
       "    }\n",
       "\n",
       "    .dataframe thead th {\n",
       "        text-align: right;\n",
       "    }\n",
       "</style>\n",
       "<table border=\"1\" class=\"dataframe\">\n",
       "  <thead>\n",
       "    <tr style=\"text-align: right;\">\n",
       "      <th></th>\n",
       "      <th>lastTradeDate</th>\n",
       "      <th>strike</th>\n",
       "      <th>lastPrice</th>\n",
       "    </tr>\n",
       "  </thead>\n",
       "  <tbody>\n",
       "    <tr>\n",
       "      <th>2</th>\n",
       "      <td>2022-10-13</td>\n",
       "      <td>30.0</td>\n",
       "      <td>10.05</td>\n",
       "    </tr>\n",
       "    <tr>\n",
       "      <th>5</th>\n",
       "      <td>2022-10-13</td>\n",
       "      <td>37.5</td>\n",
       "      <td>4.40</td>\n",
       "    </tr>\n",
       "    <tr>\n",
       "      <th>6</th>\n",
       "      <td>2022-10-13</td>\n",
       "      <td>40.0</td>\n",
       "      <td>3.15</td>\n",
       "    </tr>\n",
       "    <tr>\n",
       "      <th>7</th>\n",
       "      <td>2022-10-13</td>\n",
       "      <td>42.5</td>\n",
       "      <td>2.66</td>\n",
       "    </tr>\n",
       "    <tr>\n",
       "      <th>8</th>\n",
       "      <td>2022-10-13</td>\n",
       "      <td>45.0</td>\n",
       "      <td>1.34</td>\n",
       "    </tr>\n",
       "    <tr>\n",
       "      <th>9</th>\n",
       "      <td>2022-10-13</td>\n",
       "      <td>47.5</td>\n",
       "      <td>1.05</td>\n",
       "    </tr>\n",
       "    <tr>\n",
       "      <th>11</th>\n",
       "      <td>2022-10-13</td>\n",
       "      <td>52.5</td>\n",
       "      <td>0.26</td>\n",
       "    </tr>\n",
       "    <tr>\n",
       "      <th>12</th>\n",
       "      <td>2022-10-13</td>\n",
       "      <td>55.0</td>\n",
       "      <td>0.17</td>\n",
       "    </tr>\n",
       "    <tr>\n",
       "      <th>13</th>\n",
       "      <td>2022-10-13</td>\n",
       "      <td>57.5</td>\n",
       "      <td>0.13</td>\n",
       "    </tr>\n",
       "  </tbody>\n",
       "</table>\n",
       "</div>"
      ],
      "text/plain": [
       "   lastTradeDate  strike  lastPrice\n",
       "2     2022-10-13    30.0      10.05\n",
       "5     2022-10-13    37.5       4.40\n",
       "6     2022-10-13    40.0       3.15\n",
       "7     2022-10-13    42.5       2.66\n",
       "8     2022-10-13    45.0       1.34\n",
       "9     2022-10-13    47.5       1.05\n",
       "11    2022-10-13    52.5       0.26\n",
       "12    2022-10-13    55.0       0.17\n",
       "13    2022-10-13    57.5       0.13"
      ]
     },
     "execution_count": 8,
     "metadata": {},
     "output_type": "execute_result"
    }
   ],
   "source": [
    "# elijo, por ejemplo, la que está en el séptimo lugar\n",
    "posicion=7\n",
    "trade_date = csco_opt_calls.iloc[posicion]['lastTradeDate']\n",
    "csco_opt_calls = csco_opt_calls[csco_opt_calls['lastTradeDate'] == trade_date]\n",
    "csco_opt_calls"
   ]
  },
  {
   "cell_type": "markdown",
   "metadata": {},
   "source": [
    "Elegimos la primera, obtenemos todos los datos\n",
    "- S:            Valor del activo subyacente\n",
    "- K:            Valor de strike de la opción\n",
    "- T:            Tiempo hasta vencimiento (en % de años)\n",
    "- market_price: Valor de la opción en el mercado\n",
    "\n",
    " y, usando una librería de python (mibiam) calculamos la volatilidad implícita"
   ]
  },
  {
   "cell_type": "markdown",
   "metadata": {},
   "source": [
    "Calculamos los parámetros comunes a todas las opciones"
   ]
  },
  {
   "cell_type": "code",
   "execution_count": 9,
   "metadata": {},
   "outputs": [],
   "source": [
    "vcto = datetime.datetime.strptime(vcto_str, '%Y-%m-%d')\n",
    "T = ((vcto.date()-trade_date).days)/365\n",
    "S0 = csco_hist.loc[trade_date.strftime('%Y-%m-%d')]['Close']\n",
    "\n",
    "csco_opt_calls[\"S0\"] = S0\n",
    "csco_opt_calls[\"T\"] = T"
   ]
  },
  {
   "cell_type": "markdown",
   "metadata": {},
   "source": [
    "Calculamos la volatilidad implícita para cada opción\n",
    "\n",
    "\n"
   ]
  },
  {
   "cell_type": "code",
   "execution_count": 10,
   "metadata": {},
   "outputs": [],
   "source": [
    "days = T * 365\n",
    "vols = []\n",
    "for i in range(csco_opt_calls.shape[0]):\n",
    "    K = csco_opt_calls['strike'].iloc[i]\n",
    "    market_price = csco_opt_calls['lastPrice'].iloc[i]\n",
    "    c_vol = mibian.BS([S0, K, 0, days], callPrice= market_price)\n",
    "    vols.append(c_vol.impliedVolatility)\n",
    "csco_opt_calls[\"vol\"] = vols"
   ]
  },
  {
   "cell_type": "code",
   "execution_count": 19,
   "metadata": {},
   "outputs": [
    {
     "data": {
      "text/html": [
       "<div>\n",
       "<style scoped>\n",
       "    .dataframe tbody tr th:only-of-type {\n",
       "        vertical-align: middle;\n",
       "    }\n",
       "\n",
       "    .dataframe tbody tr th {\n",
       "        vertical-align: top;\n",
       "    }\n",
       "\n",
       "    .dataframe thead th {\n",
       "        text-align: right;\n",
       "    }\n",
       "</style>\n",
       "<table border=\"1\" class=\"dataframe\">\n",
       "  <thead>\n",
       "    <tr style=\"text-align: right;\">\n",
       "      <th></th>\n",
       "      <th>lastTradeDate</th>\n",
       "      <th>strike</th>\n",
       "      <th>lastPrice</th>\n",
       "      <th>S0</th>\n",
       "      <th>T</th>\n",
       "      <th>vol</th>\n",
       "    </tr>\n",
       "  </thead>\n",
       "  <tbody>\n",
       "    <tr>\n",
       "      <th>2</th>\n",
       "      <td>2022-10-13</td>\n",
       "      <td>30.0</td>\n",
       "      <td>10.05</td>\n",
       "      <td>40.52</td>\n",
       "      <td>0.424658</td>\n",
       "      <td>0.000010</td>\n",
       "    </tr>\n",
       "    <tr>\n",
       "      <th>5</th>\n",
       "      <td>2022-10-13</td>\n",
       "      <td>37.5</td>\n",
       "      <td>4.40</td>\n",
       "      <td>40.52</td>\n",
       "      <td>0.424658</td>\n",
       "      <td>25.390625</td>\n",
       "    </tr>\n",
       "    <tr>\n",
       "      <th>6</th>\n",
       "      <td>2022-10-13</td>\n",
       "      <td>40.0</td>\n",
       "      <td>3.15</td>\n",
       "      <td>40.52</td>\n",
       "      <td>0.424658</td>\n",
       "      <td>27.587891</td>\n",
       "    </tr>\n",
       "    <tr>\n",
       "      <th>7</th>\n",
       "      <td>2022-10-13</td>\n",
       "      <td>42.5</td>\n",
       "      <td>2.66</td>\n",
       "      <td>40.52</td>\n",
       "      <td>0.424658</td>\n",
       "      <td>33.081055</td>\n",
       "    </tr>\n",
       "    <tr>\n",
       "      <th>8</th>\n",
       "      <td>2022-10-13</td>\n",
       "      <td>45.0</td>\n",
       "      <td>1.34</td>\n",
       "      <td>40.52</td>\n",
       "      <td>0.424658</td>\n",
       "      <td>27.709961</td>\n",
       "    </tr>\n",
       "    <tr>\n",
       "      <th>9</th>\n",
       "      <td>2022-10-13</td>\n",
       "      <td>47.5</td>\n",
       "      <td>1.05</td>\n",
       "      <td>40.52</td>\n",
       "      <td>0.424658</td>\n",
       "      <td>30.517578</td>\n",
       "    </tr>\n",
       "    <tr>\n",
       "      <th>11</th>\n",
       "      <td>2022-10-13</td>\n",
       "      <td>52.5</td>\n",
       "      <td>0.26</td>\n",
       "      <td>40.52</td>\n",
       "      <td>0.424658</td>\n",
       "      <td>27.099609</td>\n",
       "    </tr>\n",
       "    <tr>\n",
       "      <th>12</th>\n",
       "      <td>2022-10-13</td>\n",
       "      <td>55.0</td>\n",
       "      <td>0.17</td>\n",
       "      <td>40.52</td>\n",
       "      <td>0.424658</td>\n",
       "      <td>28.076172</td>\n",
       "    </tr>\n",
       "    <tr>\n",
       "      <th>13</th>\n",
       "      <td>2022-10-13</td>\n",
       "      <td>57.5</td>\n",
       "      <td>0.13</td>\n",
       "      <td>40.52</td>\n",
       "      <td>0.424658</td>\n",
       "      <td>29.785156</td>\n",
       "    </tr>\n",
       "  </tbody>\n",
       "</table>\n",
       "</div>"
      ],
      "text/plain": [
       "   lastTradeDate  strike  lastPrice     S0         T        vol\n",
       "2     2022-10-13    30.0      10.05  40.52  0.424658   0.000010\n",
       "5     2022-10-13    37.5       4.40  40.52  0.424658  25.390625\n",
       "6     2022-10-13    40.0       3.15  40.52  0.424658  27.587891\n",
       "7     2022-10-13    42.5       2.66  40.52  0.424658  33.081055\n",
       "8     2022-10-13    45.0       1.34  40.52  0.424658  27.709961\n",
       "9     2022-10-13    47.5       1.05  40.52  0.424658  30.517578\n",
       "11    2022-10-13    52.5       0.26  40.52  0.424658  27.099609\n",
       "12    2022-10-13    55.0       0.17  40.52  0.424658  28.076172\n",
       "13    2022-10-13    57.5       0.13  40.52  0.424658  29.785156"
      ]
     },
     "execution_count": 19,
     "metadata": {},
     "output_type": "execute_result"
    }
   ],
   "source": [
    "csco_opt_calls"
   ]
  },
  {
   "cell_type": "code",
   "execution_count": 21,
   "metadata": {},
   "outputs": [
    {
     "data": {
      "text/plain": [
       "<AxesSubplot: xlabel='strike'>"
      ]
     },
     "execution_count": 21,
     "metadata": {},
     "output_type": "execute_result"
    },
    {
     "data": {
      "image/png": "[encoded data removed]",
      "text/plain": [
       "<Figure size 640x480 with 1 Axes>"
      ]
     },
     "metadata": {},
     "output_type": "display_data"
    }
   ],
   "source": [
    "csco_opt_calls.iloc[1:].plot(kind='line', x= \"strike\", y=\"vol\")"
   ]
  },
  {
   "cell_type": "code",
   "execution_count": 23,
   "metadata": {},
   "outputs": [
    {
     "data": {
      "text/plain": [
       "28.656005859375"
      ]
     },
     "execution_count": 23,
     "metadata": {},
     "output_type": "execute_result"
    }
   ],
   "source": [
    "csco_opt_calls.iloc[1:]['vol'].mean()"
   ]
  },
  {
   "cell_type": "code",
   "execution_count": 12,
   "metadata": {},
   "outputs": [],
   "source": [
    "#save to file\n",
    "csco_opt_calls.to_excel(\"../data/csco_opt.xlsx\", index=False)"
   ]
  },
  {
   "cell_type": "markdown",
   "metadata": {},
   "source": [
    "## Análisis de volatilidad histórica"
   ]
  },
  {
   "cell_type": "code",
   "execution_count": 12,
   "metadata": {},
   "outputs": [
    {
     "data": {
      "text/plain": [
       "Date\n",
       "2020-01-02 00:00:00-05:00    44.417831\n",
       "2020-01-03 00:00:00-05:00    43.693127\n",
       "2020-01-06 00:00:00-05:00    43.849075\n",
       "2020-01-07 00:00:00-05:00    43.564705\n",
       "2020-01-08 00:00:00-05:00    43.592224\n",
       "                               ...    \n",
       "2022-10-07 00:00:00-04:00    40.270000\n",
       "2022-10-10 00:00:00-04:00    39.889999\n",
       "2022-10-11 00:00:00-04:00    39.580002\n",
       "2022-10-12 00:00:00-04:00    39.270000\n",
       "2022-10-13 00:00:00-04:00    40.520000\n",
       "Name: Close, Length: 702, dtype: float64"
      ]
     },
     "execution_count": 12,
     "metadata": {},
     "output_type": "execute_result"
    }
   ],
   "source": [
    "csco_hist['Close']"
   ]
  },
  {
   "cell_type": "code",
   "execution_count": null,
   "metadata": {},
   "outputs": [],
   "source": [
    "days = 252"
   ]
  },
  {
   "cell_type": "code",
   "execution_count": 13,
   "metadata": {},
   "outputs": [
    {
     "data": {
      "text/plain": [
       "0.32014697515896945"
      ]
     },
     "execution_count": 13,
     "metadata": {},
     "output_type": "execute_result"
    }
   ],
   "source": [
    "(csco_hist['Close'].pct_change().std())*np.sqrt(days)"
   ]
  },
  {
   "cell_type": "code",
   "execution_count": 14,
   "metadata": {},
   "outputs": [
    {
     "data": {
      "text/plain": [
       "56.0942794396712"
      ]
     },
     "execution_count": 14,
     "metadata": {},
     "output_type": "execute_result"
    }
   ],
   "source": [
    "(csco_hist['Close'].rolling(int(days)).std()).mean()*np.sqrt(days)"
   ]
  },
  {
   "cell_type": "code",
   "execution_count": 18,
   "metadata": {},
   "outputs": [
    {
     "data": {
      "text/plain": [
       "<AxesSubplot: xlabel='Date'>"
      ]
     },
     "execution_count": 18,
     "metadata": {},
     "output_type": "execute_result"
    },
    {
     "data": {
      "image/png": "[encoded data removed]",
      "text/plain": [
       "<Figure size 640x480 with 1 Axes>"
      ]
     },
     "metadata": {},
     "output_type": "display_data"
    }
   ],
   "source": [
    "(csco_hist[['Close']].pct_change().rolling(days).std()*np.sqrt(days)).plot()"
   ]
  }
 ],
 "metadata": {
  "kernelspec": {
   "display_name": "Python 3.9.13 ('venv': venv)",
   "language": "python",
   "name": "python3"
  },
  "language_info": {
   "codemirror_mode": {
    "name": "ipython",
    "version": 3
   },
   "file_extension": ".py",
   "mimetype": "text/x-python",
   "name": "python",
   "nbconvert_exporter": "python",
   "pygments_lexer": "ipython3",
   "version": "3.9.13"
  },
  "orig_nbformat": 4,
  "vscode": {
   "interpreter": {
    "hash": "1c75df2da434cc46373b942923c038bca591ab49012c8511facb6697797f9cb5"
   }
  }
 },
 "nbformat": 4,
 "nbformat_minor": 2
}
