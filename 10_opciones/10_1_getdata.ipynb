{
 "cells": [
  {
   "cell_type": "markdown",
   "metadata": {},
   "source": [
    "## Get data from Yahoo Finance "
   ]
  },
  {
   "cell_type": "markdown",
   "metadata": {},
   "source": [
    "Obtenemos los dtaos de [yahoo](https://es.finance.yahoo.com/)"
   ]
  },
  {
   "cell_type": "markdown",
   "metadata": {},
   "source": [
    "Buscamos un ticker, por ejemplo Cisco (CSCO)"
   ]
  },
  {
   "cell_type": "markdown",
   "metadata": {},
   "source": [
    "<center>\n",
    "<img src=\"imgs/yf_cisco.png\"  alt=\"drawing\" width=\"50%\"/>\n",
    "</center>"
   ]
  },
  {
   "cell_type": "markdown",
   "metadata": {},
   "source": [
    "Obtenemos los datos de opciones de Cisco [aquí](https://finance.yahoo.com/quote/CSCO/options?p=CSCO)"
   ]
  },
  {
   "cell_type": "code",
   "execution_count": 1,
   "metadata": {},
   "outputs": [],
   "source": [
    "import numpy as np\n",
    "import pandas as pd\n",
    "import yfinance as yf\n",
    "import plotly.graph_objects as go\n",
    "import datetime\n",
    "import mibian\n",
    "\n",
    "import warnings\n",
    "warnings.filterwarnings(\"ignore\")"
   ]
  },
  {
   "cell_type": "code",
   "execution_count": 2,
   "metadata": {},
   "outputs": [],
   "source": [
    "msft = yf.Ticker(\"MSFT\")\n",
    "csco = yf.Ticker(\"CSCO\")\n",
    "\n",
    "# get historical market data\n",
    "msft_hist = msft.history(period=\"max\")\n",
    "csco_hist = csco.history(period=\"max\")\n",
    "\n",
    "csco_hist= csco_hist[csco_hist.index > '2020-01-01']"
   ]
  },
  {
   "cell_type": "code",
   "execution_count": 13,
   "metadata": {},
   "outputs": [
    {
     "data": {
      "text/html": [
       "<div>\n",
       "<style scoped>\n",
       "    .dataframe tbody tr th:only-of-type {\n",
       "        vertical-align: middle;\n",
       "    }\n",
       "\n",
       "    .dataframe tbody tr th {\n",
       "        vertical-align: top;\n",
       "    }\n",
       "\n",
       "    .dataframe thead th {\n",
       "        text-align: right;\n",
       "    }\n",
       "</style>\n",
       "<table border=\"1\" class=\"dataframe\">\n",
       "  <thead>\n",
       "    <tr style=\"text-align: right;\">\n",
       "      <th></th>\n",
       "      <th>Open</th>\n",
       "      <th>High</th>\n",
       "      <th>Low</th>\n",
       "      <th>Close</th>\n",
       "      <th>Volume</th>\n",
       "      <th>Dividends</th>\n",
       "      <th>Stock Splits</th>\n",
       "    </tr>\n",
       "    <tr>\n",
       "      <th>Date</th>\n",
       "      <th></th>\n",
       "      <th></th>\n",
       "      <th></th>\n",
       "      <th></th>\n",
       "      <th></th>\n",
       "      <th></th>\n",
       "      <th></th>\n",
       "    </tr>\n",
       "  </thead>\n",
       "  <tbody>\n",
       "    <tr>\n",
       "      <th>2020-01-02 00:00:00-05:00</th>\n",
       "      <td>44.087590</td>\n",
       "      <td>44.417831</td>\n",
       "      <td>43.922468</td>\n",
       "      <td>44.417831</td>\n",
       "      <td>16708100</td>\n",
       "      <td>0.35</td>\n",
       "      <td>0.0</td>\n",
       "    </tr>\n",
       "    <tr>\n",
       "      <th>2020-01-03 00:00:00-05:00</th>\n",
       "      <td>43.949982</td>\n",
       "      <td>44.160971</td>\n",
       "      <td>43.555524</td>\n",
       "      <td>43.693127</td>\n",
       "      <td>15577400</td>\n",
       "      <td>0.00</td>\n",
       "      <td>0.0</td>\n",
       "    </tr>\n",
       "    <tr>\n",
       "      <th>2020-01-06 00:00:00-05:00</th>\n",
       "      <td>43.243632</td>\n",
       "      <td>43.867426</td>\n",
       "      <td>43.124376</td>\n",
       "      <td>43.849079</td>\n",
       "      <td>22183600</td>\n",
       "      <td>0.00</td>\n",
       "      <td>0.0</td>\n",
       "    </tr>\n",
       "    <tr>\n",
       "      <th>2020-01-07 00:00:00-05:00</th>\n",
       "      <td>43.775690</td>\n",
       "      <td>43.775690</td>\n",
       "      <td>43.206934</td>\n",
       "      <td>43.564701</td>\n",
       "      <td>16501900</td>\n",
       "      <td>0.00</td>\n",
       "      <td>0.0</td>\n",
       "    </tr>\n",
       "    <tr>\n",
       "      <th>2020-01-08 00:00:00-05:00</th>\n",
       "      <td>43.087678</td>\n",
       "      <td>43.839900</td>\n",
       "      <td>42.940903</td>\n",
       "      <td>43.592216</td>\n",
       "      <td>25175900</td>\n",
       "      <td>0.00</td>\n",
       "      <td>0.0</td>\n",
       "    </tr>\n",
       "    <tr>\n",
       "      <th>...</th>\n",
       "      <td>...</td>\n",
       "      <td>...</td>\n",
       "      <td>...</td>\n",
       "      <td>...</td>\n",
       "      <td>...</td>\n",
       "      <td>...</td>\n",
       "      <td>...</td>\n",
       "    </tr>\n",
       "    <tr>\n",
       "      <th>2022-10-07 00:00:00-04:00</th>\n",
       "      <td>41.250000</td>\n",
       "      <td>41.250000</td>\n",
       "      <td>40.080002</td>\n",
       "      <td>40.270000</td>\n",
       "      <td>19048500</td>\n",
       "      <td>0.00</td>\n",
       "      <td>0.0</td>\n",
       "    </tr>\n",
       "    <tr>\n",
       "      <th>2022-10-10 00:00:00-04:00</th>\n",
       "      <td>40.630001</td>\n",
       "      <td>40.810001</td>\n",
       "      <td>39.599998</td>\n",
       "      <td>39.889999</td>\n",
       "      <td>16628400</td>\n",
       "      <td>0.00</td>\n",
       "      <td>0.0</td>\n",
       "    </tr>\n",
       "    <tr>\n",
       "      <th>2022-10-11 00:00:00-04:00</th>\n",
       "      <td>39.810001</td>\n",
       "      <td>40.110001</td>\n",
       "      <td>39.270000</td>\n",
       "      <td>39.580002</td>\n",
       "      <td>19386400</td>\n",
       "      <td>0.00</td>\n",
       "      <td>0.0</td>\n",
       "    </tr>\n",
       "    <tr>\n",
       "      <th>2022-10-12 00:00:00-04:00</th>\n",
       "      <td>39.700001</td>\n",
       "      <td>39.860001</td>\n",
       "      <td>39.250000</td>\n",
       "      <td>39.270000</td>\n",
       "      <td>17279900</td>\n",
       "      <td>0.00</td>\n",
       "      <td>0.0</td>\n",
       "    </tr>\n",
       "    <tr>\n",
       "      <th>2022-10-13 00:00:00-04:00</th>\n",
       "      <td>39.029999</td>\n",
       "      <td>40.799999</td>\n",
       "      <td>38.599998</td>\n",
       "      <td>40.610001</td>\n",
       "      <td>26327600</td>\n",
       "      <td>0.00</td>\n",
       "      <td>0.0</td>\n",
       "    </tr>\n",
       "  </tbody>\n",
       "</table>\n",
       "<p>702 rows × 7 columns</p>\n",
       "</div>"
      ],
      "text/plain": [
       "                                Open       High        Low      Close  \\\n",
       "Date                                                                    \n",
       "2020-01-02 00:00:00-05:00  44.087590  44.417831  43.922468  44.417831   \n",
       "2020-01-03 00:00:00-05:00  43.949982  44.160971  43.555524  43.693127   \n",
       "2020-01-06 00:00:00-05:00  43.243632  43.867426  43.124376  43.849079   \n",
       "2020-01-07 00:00:00-05:00  43.775690  43.775690  43.206934  43.564701   \n",
       "2020-01-08 00:00:00-05:00  43.087678  43.839900  42.940903  43.592216   \n",
       "...                              ...        ...        ...        ...   \n",
       "2022-10-07 00:00:00-04:00  41.250000  41.250000  40.080002  40.270000   \n",
       "2022-10-10 00:00:00-04:00  40.630001  40.810001  39.599998  39.889999   \n",
       "2022-10-11 00:00:00-04:00  39.810001  40.110001  39.270000  39.580002   \n",
       "2022-10-12 00:00:00-04:00  39.700001  39.860001  39.250000  39.270000   \n",
       "2022-10-13 00:00:00-04:00  39.029999  40.799999  38.599998  40.610001   \n",
       "\n",
       "                             Volume  Dividends  Stock Splits  \n",
       "Date                                                          \n",
       "2020-01-02 00:00:00-05:00  16708100       0.35           0.0  \n",
       "2020-01-03 00:00:00-05:00  15577400       0.00           0.0  \n",
       "2020-01-06 00:00:00-05:00  22183600       0.00           0.0  \n",
       "2020-01-07 00:00:00-05:00  16501900       0.00           0.0  \n",
       "2020-01-08 00:00:00-05:00  25175900       0.00           0.0  \n",
       "...                             ...        ...           ...  \n",
       "2022-10-07 00:00:00-04:00  19048500       0.00           0.0  \n",
       "2022-10-10 00:00:00-04:00  16628400       0.00           0.0  \n",
       "2022-10-11 00:00:00-04:00  19386400       0.00           0.0  \n",
       "2022-10-12 00:00:00-04:00  17279900       0.00           0.0  \n",
       "2022-10-13 00:00:00-04:00  26327600       0.00           0.0  \n",
       "\n",
       "[702 rows x 7 columns]"
      ]
     },
     "execution_count": 13,
     "metadata": {},
     "output_type": "execute_result"
    }
   ],
   "source": [
    "csco_hist"
   ]
  },
  {
   "cell_type": "markdown",
   "metadata": {},
   "source": [
    "Elijo una fecha de vencimiento entre las disponibles"
   ]
  },
  {
   "cell_type": "code",
   "execution_count": 14,
   "metadata": {},
   "outputs": [
    {
     "name": "stdout",
     "output_type": "stream",
     "text": [
      " Las fechas de vencimiento disponibles son :  ('2022-10-14', '2022-10-21', '2022-10-28', '2022-11-04', '2022-11-11', '2022-11-18', '2022-11-25', '2022-12-16', '2023-01-20', '2023-03-17', '2023-04-21', '2023-06-16', '2024-01-19', '2024-06-21', '2025-01-17')\n",
      "\n",
      " La fecha de vencimiento elegida es :  2023-03-17\n"
     ]
    }
   ],
   "source": [
    "# show options expirations\n",
    "exp_dates = csco.options\n",
    "print(' Las fechas de vencimiento disponibles son : ', exp_dates)\n",
    "\n",
    "#elijo, por ejemplo, la fecha de la que está en el noveno lugar\n",
    "vcto_str = exp_dates[9] \n",
    "print('\\n La fecha de vencimiento elegida es : ', vcto_str)"
   ]
  },
  {
   "cell_type": "markdown",
   "metadata": {},
   "source": [
    "Elijo todas las opciones con  fecha de vencimiento igual a la elegida"
   ]
  },
  {
   "cell_type": "code",
   "execution_count": 18,
   "metadata": {},
   "outputs": [],
   "source": [
    "csco_opt = csco.option_chain(vcto_str) "
   ]
  },
  {
   "cell_type": "code",
   "execution_count": 20,
   "metadata": {},
   "outputs": [
    {
     "data": {
      "text/html": [
       "<div>\n",
       "<style scoped>\n",
       "    .dataframe tbody tr th:only-of-type {\n",
       "        vertical-align: middle;\n",
       "    }\n",
       "\n",
       "    .dataframe tbody tr th {\n",
       "        vertical-align: top;\n",
       "    }\n",
       "\n",
       "    .dataframe thead th {\n",
       "        text-align: right;\n",
       "    }\n",
       "</style>\n",
       "<table border=\"1\" class=\"dataframe\">\n",
       "  <thead>\n",
       "    <tr style=\"text-align: right;\">\n",
       "      <th></th>\n",
       "      <th>lastTradeDate</th>\n",
       "      <th>strike</th>\n",
       "      <th>lastPrice</th>\n",
       "    </tr>\n",
       "  </thead>\n",
       "  <tbody>\n",
       "    <tr>\n",
       "      <th>0</th>\n",
       "      <td>2022-08-29</td>\n",
       "      <td>22.5</td>\n",
       "      <td>23.25</td>\n",
       "    </tr>\n",
       "    <tr>\n",
       "      <th>1</th>\n",
       "      <td>2022-07-18</td>\n",
       "      <td>27.5</td>\n",
       "      <td>16.15</td>\n",
       "    </tr>\n",
       "    <tr>\n",
       "      <th>2</th>\n",
       "      <td>2022-10-13</td>\n",
       "      <td>30.0</td>\n",
       "      <td>10.05</td>\n",
       "    </tr>\n",
       "    <tr>\n",
       "      <th>3</th>\n",
       "      <td>2022-10-13</td>\n",
       "      <td>32.5</td>\n",
       "      <td>7.95</td>\n",
       "    </tr>\n",
       "    <tr>\n",
       "      <th>4</th>\n",
       "      <td>2022-10-13</td>\n",
       "      <td>35.0</td>\n",
       "      <td>6.20</td>\n",
       "    </tr>\n",
       "    <tr>\n",
       "      <th>5</th>\n",
       "      <td>2022-10-13</td>\n",
       "      <td>37.5</td>\n",
       "      <td>5.60</td>\n",
       "    </tr>\n",
       "    <tr>\n",
       "      <th>6</th>\n",
       "      <td>2022-10-13</td>\n",
       "      <td>40.0</td>\n",
       "      <td>4.05</td>\n",
       "    </tr>\n",
       "    <tr>\n",
       "      <th>7</th>\n",
       "      <td>2022-10-13</td>\n",
       "      <td>42.5</td>\n",
       "      <td>2.74</td>\n",
       "    </tr>\n",
       "    <tr>\n",
       "      <th>8</th>\n",
       "      <td>2022-10-13</td>\n",
       "      <td>45.0</td>\n",
       "      <td>1.82</td>\n",
       "    </tr>\n",
       "    <tr>\n",
       "      <th>9</th>\n",
       "      <td>2022-10-13</td>\n",
       "      <td>47.5</td>\n",
       "      <td>1.07</td>\n",
       "    </tr>\n",
       "    <tr>\n",
       "      <th>10</th>\n",
       "      <td>2022-10-13</td>\n",
       "      <td>50.0</td>\n",
       "      <td>0.64</td>\n",
       "    </tr>\n",
       "    <tr>\n",
       "      <th>11</th>\n",
       "      <td>2022-10-13</td>\n",
       "      <td>52.5</td>\n",
       "      <td>0.40</td>\n",
       "    </tr>\n",
       "    <tr>\n",
       "      <th>12</th>\n",
       "      <td>2022-10-13</td>\n",
       "      <td>55.0</td>\n",
       "      <td>0.23</td>\n",
       "    </tr>\n",
       "    <tr>\n",
       "      <th>13</th>\n",
       "      <td>2022-10-13</td>\n",
       "      <td>57.5</td>\n",
       "      <td>0.13</td>\n",
       "    </tr>\n",
       "    <tr>\n",
       "      <th>14</th>\n",
       "      <td>2022-10-12</td>\n",
       "      <td>60.0</td>\n",
       "      <td>0.08</td>\n",
       "    </tr>\n",
       "    <tr>\n",
       "      <th>15</th>\n",
       "      <td>2022-10-13</td>\n",
       "      <td>65.0</td>\n",
       "      <td>0.05</td>\n",
       "    </tr>\n",
       "  </tbody>\n",
       "</table>\n",
       "</div>"
      ],
      "text/plain": [
       "   lastTradeDate  strike  lastPrice\n",
       "0     2022-08-29    22.5      23.25\n",
       "1     2022-07-18    27.5      16.15\n",
       "2     2022-10-13    30.0      10.05\n",
       "3     2022-10-13    32.5       7.95\n",
       "4     2022-10-13    35.0       6.20\n",
       "5     2022-10-13    37.5       5.60\n",
       "6     2022-10-13    40.0       4.05\n",
       "7     2022-10-13    42.5       2.74\n",
       "8     2022-10-13    45.0       1.82\n",
       "9     2022-10-13    47.5       1.07\n",
       "10    2022-10-13    50.0       0.64\n",
       "11    2022-10-13    52.5       0.40\n",
       "12    2022-10-13    55.0       0.23\n",
       "13    2022-10-13    57.5       0.13\n",
       "14    2022-10-12    60.0       0.08\n",
       "15    2022-10-13    65.0       0.05"
      ]
     },
     "execution_count": 20,
     "metadata": {},
     "output_type": "execute_result"
    }
   ],
   "source": [
    "# get option chain for specific expiration\n",
    "csco_opt = csco.option_chain(vcto_str)  \n",
    "\n",
    "# data available via: opt.calls, opt.puts\n",
    "csco_opt_calls = csco_opt.calls.loc[:, ['lastTradeDate', 'strike', 'lastPrice']]\n",
    "\n",
    "#convert lastTradeDate to date format\n",
    "csco_opt_calls.lastTradeDate = csco_opt_calls.lastTradeDate.apply(lambda x: x.date())\n",
    "\n",
    "\n",
    "\n",
    "csco_opt_calls"
   ]
  },
  {
   "cell_type": "markdown",
   "metadata": {},
   "source": [
    "Selecciono aquellas que se negociaron en una fecha determinada"
   ]
  },
  {
   "cell_type": "code",
   "execution_count": 21,
   "metadata": {},
   "outputs": [
    {
     "data": {
      "text/html": [
       "<div>\n",
       "<style scoped>\n",
       "    .dataframe tbody tr th:only-of-type {\n",
       "        vertical-align: middle;\n",
       "    }\n",
       "\n",
       "    .dataframe tbody tr th {\n",
       "        vertical-align: top;\n",
       "    }\n",
       "\n",
       "    .dataframe thead th {\n",
       "        text-align: right;\n",
       "    }\n",
       "</style>\n",
       "<table border=\"1\" class=\"dataframe\">\n",
       "  <thead>\n",
       "    <tr style=\"text-align: right;\">\n",
       "      <th></th>\n",
       "      <th>lastTradeDate</th>\n",
       "      <th>strike</th>\n",
       "      <th>lastPrice</th>\n",
       "    </tr>\n",
       "  </thead>\n",
       "  <tbody>\n",
       "    <tr>\n",
       "      <th>2</th>\n",
       "      <td>2022-10-13</td>\n",
       "      <td>30.0</td>\n",
       "      <td>10.05</td>\n",
       "    </tr>\n",
       "    <tr>\n",
       "      <th>3</th>\n",
       "      <td>2022-10-13</td>\n",
       "      <td>32.5</td>\n",
       "      <td>7.95</td>\n",
       "    </tr>\n",
       "    <tr>\n",
       "      <th>4</th>\n",
       "      <td>2022-10-13</td>\n",
       "      <td>35.0</td>\n",
       "      <td>6.20</td>\n",
       "    </tr>\n",
       "    <tr>\n",
       "      <th>5</th>\n",
       "      <td>2022-10-13</td>\n",
       "      <td>37.5</td>\n",
       "      <td>5.60</td>\n",
       "    </tr>\n",
       "    <tr>\n",
       "      <th>6</th>\n",
       "      <td>2022-10-13</td>\n",
       "      <td>40.0</td>\n",
       "      <td>4.05</td>\n",
       "    </tr>\n",
       "    <tr>\n",
       "      <th>7</th>\n",
       "      <td>2022-10-13</td>\n",
       "      <td>42.5</td>\n",
       "      <td>2.74</td>\n",
       "    </tr>\n",
       "    <tr>\n",
       "      <th>8</th>\n",
       "      <td>2022-10-13</td>\n",
       "      <td>45.0</td>\n",
       "      <td>1.82</td>\n",
       "    </tr>\n",
       "    <tr>\n",
       "      <th>9</th>\n",
       "      <td>2022-10-13</td>\n",
       "      <td>47.5</td>\n",
       "      <td>1.07</td>\n",
       "    </tr>\n",
       "    <tr>\n",
       "      <th>10</th>\n",
       "      <td>2022-10-13</td>\n",
       "      <td>50.0</td>\n",
       "      <td>0.64</td>\n",
       "    </tr>\n",
       "    <tr>\n",
       "      <th>11</th>\n",
       "      <td>2022-10-13</td>\n",
       "      <td>52.5</td>\n",
       "      <td>0.40</td>\n",
       "    </tr>\n",
       "    <tr>\n",
       "      <th>12</th>\n",
       "      <td>2022-10-13</td>\n",
       "      <td>55.0</td>\n",
       "      <td>0.23</td>\n",
       "    </tr>\n",
       "    <tr>\n",
       "      <th>13</th>\n",
       "      <td>2022-10-13</td>\n",
       "      <td>57.5</td>\n",
       "      <td>0.13</td>\n",
       "    </tr>\n",
       "    <tr>\n",
       "      <th>15</th>\n",
       "      <td>2022-10-13</td>\n",
       "      <td>65.0</td>\n",
       "      <td>0.05</td>\n",
       "    </tr>\n",
       "  </tbody>\n",
       "</table>\n",
       "</div>"
      ],
      "text/plain": [
       "   lastTradeDate  strike  lastPrice\n",
       "2     2022-10-13    30.0      10.05\n",
       "3     2022-10-13    32.5       7.95\n",
       "4     2022-10-13    35.0       6.20\n",
       "5     2022-10-13    37.5       5.60\n",
       "6     2022-10-13    40.0       4.05\n",
       "7     2022-10-13    42.5       2.74\n",
       "8     2022-10-13    45.0       1.82\n",
       "9     2022-10-13    47.5       1.07\n",
       "10    2022-10-13    50.0       0.64\n",
       "11    2022-10-13    52.5       0.40\n",
       "12    2022-10-13    55.0       0.23\n",
       "13    2022-10-13    57.5       0.13\n",
       "15    2022-10-13    65.0       0.05"
      ]
     },
     "execution_count": 21,
     "metadata": {},
     "output_type": "execute_result"
    }
   ],
   "source": [
    "# elijo, por ejemplo, la que está en el séptimo lugar\n",
    "posicion=7\n",
    "trade_date = csco_opt_calls.iloc[posicion]['lastTradeDate']\n",
    "csco_opt_calls = csco_opt_calls[csco_opt_calls['lastTradeDate'] == trade_date]\n",
    "csco_opt_calls"
   ]
  },
  {
   "cell_type": "markdown",
   "metadata": {},
   "source": [
    "Elegimos la primera, obtenemos todos los datos\n",
    "- S:            Valor del activo subyacente\n",
    "- K:            Valor de strike de la opción\n",
    "- T:            Tiempo hasta vencimiento (en % de años)\n",
    "- market_price: Valor de la opción en el mercado\n",
    "\n",
    " y, usando una librería de python (mibiam) calculamos la volatilidad implícita"
   ]
  },
  {
   "cell_type": "markdown",
   "metadata": {},
   "source": [
    "Calculamos los parámetros comunes a todas las opciones"
   ]
  },
  {
   "cell_type": "code",
   "execution_count": 22,
   "metadata": {},
   "outputs": [],
   "source": [
    "vcto = datetime.datetime.strptime(vcto_str, '%Y-%m-%d')\n",
    "T = ((vcto.date()-trade_date).days)/365\n",
    "S0 = csco_hist.loc[trade_date.strftime('%Y-%m-%d')]['Close']\n",
    "\n",
    "csco_opt_calls[\"S0\"] = S0\n",
    "csco_opt_calls[\"T\"] = T"
   ]
  },
  {
   "cell_type": "markdown",
   "metadata": {},
   "source": [
    "Calculamos la volatilidad implícita para cada opción\n",
    "\n",
    "\n"
   ]
  },
  {
   "cell_type": "code",
   "execution_count": 23,
   "metadata": {},
   "outputs": [],
   "source": [
    "days = T * 365\n",
    "vols = []\n",
    "for i in range(csco_opt_calls.shape[0]):\n",
    "    K = csco_opt_calls['strike'].iloc[i]\n",
    "    market_price = csco_opt_calls['lastPrice'].iloc[i]\n",
    "    c_vol = mibian.BS([S0, K, 0, days], callPrice= market_price)\n",
    "    vols.append(c_vol.impliedVolatility)\n",
    "csco_opt_calls[\"vol\"] = vols"
   ]
  },
  {
   "cell_type": "code",
   "execution_count": 24,
   "metadata": {},
   "outputs": [
    {
     "data": {
      "text/html": [
       "<div>\n",
       "<style scoped>\n",
       "    .dataframe tbody tr th:only-of-type {\n",
       "        vertical-align: middle;\n",
       "    }\n",
       "\n",
       "    .dataframe tbody tr th {\n",
       "        vertical-align: top;\n",
       "    }\n",
       "\n",
       "    .dataframe thead th {\n",
       "        text-align: right;\n",
       "    }\n",
       "</style>\n",
       "<table border=\"1\" class=\"dataframe\">\n",
       "  <thead>\n",
       "    <tr style=\"text-align: right;\">\n",
       "      <th></th>\n",
       "      <th>lastTradeDate</th>\n",
       "      <th>strike</th>\n",
       "      <th>lastPrice</th>\n",
       "      <th>S0</th>\n",
       "      <th>T</th>\n",
       "      <th>vol</th>\n",
       "    </tr>\n",
       "  </thead>\n",
       "  <tbody>\n",
       "    <tr>\n",
       "      <th>2</th>\n",
       "      <td>2022-10-13</td>\n",
       "      <td>30.0</td>\n",
       "      <td>10.05</td>\n",
       "      <td>40.610001</td>\n",
       "      <td>0.424658</td>\n",
       "      <td>0.000010</td>\n",
       "    </tr>\n",
       "    <tr>\n",
       "      <th>3</th>\n",
       "      <td>2022-10-13</td>\n",
       "      <td>32.5</td>\n",
       "      <td>7.95</td>\n",
       "      <td>40.610001</td>\n",
       "      <td>0.424658</td>\n",
       "      <td>0.000010</td>\n",
       "    </tr>\n",
       "    <tr>\n",
       "      <th>4</th>\n",
       "      <td>2022-10-13</td>\n",
       "      <td>35.0</td>\n",
       "      <td>6.20</td>\n",
       "      <td>40.610001</td>\n",
       "      <td>0.424658</td>\n",
       "      <td>25.390625</td>\n",
       "    </tr>\n",
       "    <tr>\n",
       "      <th>5</th>\n",
       "      <td>2022-10-13</td>\n",
       "      <td>37.5</td>\n",
       "      <td>5.60</td>\n",
       "      <td>40.610001</td>\n",
       "      <td>0.424658</td>\n",
       "      <td>38.085938</td>\n",
       "    </tr>\n",
       "    <tr>\n",
       "      <th>6</th>\n",
       "      <td>2022-10-13</td>\n",
       "      <td>40.0</td>\n",
       "      <td>4.05</td>\n",
       "      <td>40.610001</td>\n",
       "      <td>0.424658</td>\n",
       "      <td>35.766602</td>\n",
       "    </tr>\n",
       "    <tr>\n",
       "      <th>7</th>\n",
       "      <td>2022-10-13</td>\n",
       "      <td>42.5</td>\n",
       "      <td>2.74</td>\n",
       "      <td>40.610001</td>\n",
       "      <td>0.424658</td>\n",
       "      <td>33.447266</td>\n",
       "    </tr>\n",
       "    <tr>\n",
       "      <th>8</th>\n",
       "      <td>2022-10-13</td>\n",
       "      <td>45.0</td>\n",
       "      <td>1.82</td>\n",
       "      <td>40.610001</td>\n",
       "      <td>0.424658</td>\n",
       "      <td>32.409668</td>\n",
       "    </tr>\n",
       "    <tr>\n",
       "      <th>9</th>\n",
       "      <td>2022-10-13</td>\n",
       "      <td>47.5</td>\n",
       "      <td>1.07</td>\n",
       "      <td>40.610001</td>\n",
       "      <td>0.424658</td>\n",
       "      <td>30.517578</td>\n",
       "    </tr>\n",
       "    <tr>\n",
       "      <th>10</th>\n",
       "      <td>2022-10-13</td>\n",
       "      <td>50.0</td>\n",
       "      <td>0.64</td>\n",
       "      <td>40.610001</td>\n",
       "      <td>0.424658</td>\n",
       "      <td>29.907227</td>\n",
       "    </tr>\n",
       "    <tr>\n",
       "      <th>11</th>\n",
       "      <td>2022-10-13</td>\n",
       "      <td>52.5</td>\n",
       "      <td>0.40</td>\n",
       "      <td>40.610001</td>\n",
       "      <td>0.424658</td>\n",
       "      <td>29.296875</td>\n",
       "    </tr>\n",
       "    <tr>\n",
       "      <th>12</th>\n",
       "      <td>2022-10-13</td>\n",
       "      <td>55.0</td>\n",
       "      <td>0.23</td>\n",
       "      <td>40.610001</td>\n",
       "      <td>0.424658</td>\n",
       "      <td>29.785156</td>\n",
       "    </tr>\n",
       "    <tr>\n",
       "      <th>13</th>\n",
       "      <td>2022-10-13</td>\n",
       "      <td>57.5</td>\n",
       "      <td>0.13</td>\n",
       "      <td>40.610001</td>\n",
       "      <td>0.424658</td>\n",
       "      <td>29.541016</td>\n",
       "    </tr>\n",
       "    <tr>\n",
       "      <th>15</th>\n",
       "      <td>2022-10-13</td>\n",
       "      <td>65.0</td>\n",
       "      <td>0.05</td>\n",
       "      <td>40.610001</td>\n",
       "      <td>0.424658</td>\n",
       "      <td>32.226562</td>\n",
       "    </tr>\n",
       "  </tbody>\n",
       "</table>\n",
       "</div>"
      ],
      "text/plain": [
       "   lastTradeDate  strike  lastPrice         S0         T        vol\n",
       "2     2022-10-13    30.0      10.05  40.610001  0.424658   0.000010\n",
       "3     2022-10-13    32.5       7.95  40.610001  0.424658   0.000010\n",
       "4     2022-10-13    35.0       6.20  40.610001  0.424658  25.390625\n",
       "5     2022-10-13    37.5       5.60  40.610001  0.424658  38.085938\n",
       "6     2022-10-13    40.0       4.05  40.610001  0.424658  35.766602\n",
       "7     2022-10-13    42.5       2.74  40.610001  0.424658  33.447266\n",
       "8     2022-10-13    45.0       1.82  40.610001  0.424658  32.409668\n",
       "9     2022-10-13    47.5       1.07  40.610001  0.424658  30.517578\n",
       "10    2022-10-13    50.0       0.64  40.610001  0.424658  29.907227\n",
       "11    2022-10-13    52.5       0.40  40.610001  0.424658  29.296875\n",
       "12    2022-10-13    55.0       0.23  40.610001  0.424658  29.785156\n",
       "13    2022-10-13    57.5       0.13  40.610001  0.424658  29.541016\n",
       "15    2022-10-13    65.0       0.05  40.610001  0.424658  32.226562"
      ]
     },
     "execution_count": 24,
     "metadata": {},
     "output_type": "execute_result"
    }
   ],
   "source": [
    "csco_opt_calls"
   ]
  },
  {
   "cell_type": "code",
   "execution_count": 27,
   "metadata": {},
   "outputs": [
    {
     "data": {
      "text/plain": [
       "<AxesSubplot: xlabel='strike'>"
      ]
     },
     "execution_count": 27,
     "metadata": {},
     "output_type": "execute_result"
    },
    {
     "data": {
      "image/png": "[encoded data removed]",
      "text/plain": [
       "<Figure size 640x480 with 1 Axes>"
      ]
     },
     "metadata": {},
     "output_type": "display_data"
    }
   ],
   "source": [
    "csco_opt_calls.iloc[2:].plot(kind='line', x= \"strike\", y=\"vol\")"
   ]
  },
  {
   "cell_type": "code",
   "execution_count": 28,
   "metadata": {},
   "outputs": [
    {
     "data": {
      "text/plain": [
       "31.488591974431817"
      ]
     },
     "execution_count": 28,
     "metadata": {},
     "output_type": "execute_result"
    }
   ],
   "source": [
    "csco_opt_calls.iloc[2:]['vol'].mean()"
   ]
  },
  {
   "cell_type": "code",
   "execution_count": 12,
   "metadata": {},
   "outputs": [],
   "source": [
    "#save to file\n",
    "csco_opt_calls.to_excel(\"../data/csco_opt.xlsx\", index=False)"
   ]
  },
  {
   "cell_type": "markdown",
   "metadata": {},
   "source": [
    "## Análisis de volatilidad histórica"
   ]
  },
  {
   "cell_type": "code",
   "execution_count": 29,
   "metadata": {},
   "outputs": [
    {
     "data": {
      "text/plain": [
       "Date\n",
       "2020-01-02 00:00:00-05:00    44.417831\n",
       "2020-01-03 00:00:00-05:00    43.693127\n",
       "2020-01-06 00:00:00-05:00    43.849079\n",
       "2020-01-07 00:00:00-05:00    43.564701\n",
       "2020-01-08 00:00:00-05:00    43.592216\n",
       "                               ...    \n",
       "2022-10-07 00:00:00-04:00    40.270000\n",
       "2022-10-10 00:00:00-04:00    39.889999\n",
       "2022-10-11 00:00:00-04:00    39.580002\n",
       "2022-10-12 00:00:00-04:00    39.270000\n",
       "2022-10-13 00:00:00-04:00    40.610001\n",
       "Name: Close, Length: 702, dtype: float64"
      ]
     },
     "execution_count": 29,
     "metadata": {},
     "output_type": "execute_result"
    }
   ],
   "source": [
    "csco_hist['Close']"
   ]
  },
  {
   "cell_type": "code",
   "execution_count": 30,
   "metadata": {},
   "outputs": [],
   "source": [
    "days = 252"
   ]
  },
  {
   "cell_type": "code",
   "execution_count": 33,
   "metadata": {},
   "outputs": [
    {
     "data": {
      "text/plain": [
       "32.0231830446021"
      ]
     },
     "execution_count": 33,
     "metadata": {},
     "output_type": "execute_result"
    }
   ],
   "source": [
    "csco_vol_hist = 100 * (csco_hist['Close'].pct_change().std())*np.sqrt(days)\n",
    "csco_vol_hist"
   ]
  },
  {
   "cell_type": "code",
   "execution_count": 18,
   "metadata": {},
   "outputs": [
    {
     "data": {
      "text/plain": [
       "<AxesSubplot: xlabel='Date'>"
      ]
     },
     "execution_count": 18,
     "metadata": {},
     "output_type": "execute_result"
    },
    {
     "data": {
      "image/png": "[encoded data removed]",
      "text/plain": [
       "<Figure size 640x480 with 1 Axes>"
      ]
     },
     "metadata": {},
     "output_type": "display_data"
    }
   ],
   "source": [
    "(csco_hist[['Close']].pct_change().rolling(days).std()*np.sqrt(days)).plot()"
   ]
  }
 ],
 "metadata": {
  "kernelspec": {
   "display_name": "Python 3.9.13 ('venv': venv)",
   "language": "python",
   "name": "python3"
  },
  "language_info": {
   "codemirror_mode": {
    "name": "ipython",
    "version": 3
   },
   "file_extension": ".py",
   "mimetype": "text/x-python",
   "name": "python",
   "nbconvert_exporter": "python",
   "pygments_lexer": "ipython3",
   "version": "3.9.14"
  },
  "orig_nbformat": 4,
  "vscode": {
   "interpreter": {
    "hash": "1c75df2da434cc46373b942923c038bca591ab49012c8511facb6697797f9cb5"
   }
  }
 },
 "nbformat": 4,
 "nbformat_minor": 2
}
