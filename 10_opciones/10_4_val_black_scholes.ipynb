{
 "cells": [
  {
   "cell_type": "code",
   "execution_count": null,
   "metadata": {},
   "outputs": [],
   "source": []
  },
  {
   "cell_type": "markdown",
   "metadata": {},
   "source": [
    "<center>\n",
    "<img src=\"imgs/bsm.PNG\"  alt=\"drawing\" width=\"45%\"/>\n",
    "</center>"
   ]
  },
  {
   "cell_type": "code",
   "execution_count": null,
   "metadata": {},
   "outputs": [],
   "source": [
    "def d1(S, K, r, Vol, T):\n",
    "    return (np.log(S/K) + ((r + (Vol**2)/2) * T)) / (Vol* np.sqrt(T))\n",
    "            \n",
    "def d2(S, K, r, Vol, T):\n",
    "    return (np.log(S/K) + ((r - (Vol**2)/2) * T)) / (Vol* np.sqrt(T))\n",
    "\n",
    "def BSMCall(S, K, r, Vol, T):\n",
    "    d_uno = d1(S, K, r, Vol, T)\n",
    "    d_dos = d2(S, K, r, Vol, T)\n",
    "    return (S*norm.cdf(d_uno)) - (K*np.exp(-r*T)*norm.cdf(d_dos))\n",
    "\n",
    "def BSMPut(S, K, r, Vol, T):\n",
    "    d_uno = d1(S, K, r, Vol, T)\n",
    "    d_dos = d2(S, K, r, Vol, T)\n",
    "    return (K*np.exp(-r*T)*norm.cdf(-d_dos)) - (S*norm.cdf(-d_uno))"
   ]
  },
  {
   "cell_type": "markdown",
   "metadata": {},
   "source": []
  }
 ],
 "metadata": {
  "kernelspec": {
   "display_name": "Python 3.9.13 64-bit",
   "language": "python",
   "name": "python3"
  },
  "language_info": {
   "name": "python",
   "version": "3.9.13"
  },
  "orig_nbformat": 4,
  "vscode": {
   "interpreter": {
    "hash": "f9f85f796d01129d0dd105a088854619f454435301f6ffec2fea96ecbd9be4ac"
   }
  }
 },
 "nbformat": 4,
 "nbformat_minor": 2
}
