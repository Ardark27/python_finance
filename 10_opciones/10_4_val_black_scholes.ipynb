{
 "cells": [
  {
   "cell_type": "code",
   "execution_count": 1,
   "metadata": {},
   "outputs": [],
   "source": [
    "import numpy as np\n",
    "from scipy.stats import norm"
   ]
  },
  {
   "cell_type": "markdown",
   "metadata": {},
   "source": [
    "<center>\n",
    "<img src=\"imgs/bsm.PNG\"  alt=\"drawing\" width=\"45%\"/>\n",
    "</center>"
   ]
  },
  {
   "cell_type": "code",
   "execution_count": null,
   "metadata": {},
   "outputs": [],
   "source": [
    "def d1(S, K, r, Vol, T):\n",
    "    return (np.log(S/K) + ((r + (Vol**2)/2) * T)) / (Vol* np.sqrt(T))\n",
    "            \n",
    "def d2(S, K, r, Vol, T):\n",
    "    return (np.log(S/K) + ((r - (Vol**2)/2) * T)) / (Vol* np.sqrt(T))\n",
    "\n",
    "def BSMCall(S, K, r, Vol, T):\n",
    "    d_uno = d1(S, K, r, Vol, T)\n",
    "    d_dos = d2(S, K, r, Vol, T)\n",
    "    return (S*norm.cdf(d_uno)) - (K*np.exp(-r*T)*norm.cdf(d_dos))\n",
    "\n",
    "def BSMPut(S, K, r, Vol, T):\n",
    "    d_uno = d1(S, K, r, Vol, T)\n",
    "    d_dos = d2(S, K, r, Vol, T)\n",
    "    return (K*np.exp(-r*T)*norm.cdf(-d_dos)) - (S*norm.cdf(-d_uno))"
   ]
  },
  {
   "cell_type": "markdown",
   "metadata": {},
   "source": []
  }
 ],
 "metadata": {
  "kernelspec": {
   "display_name": "Python 3.9.13 ('venv': venv)",
   "language": "python",
   "name": "python3"
  },
  "language_info": {
   "codemirror_mode": {
    "name": "ipython",
    "version": 3
   },
   "file_extension": ".py",
   "mimetype": "text/x-python",
   "name": "python",
   "nbconvert_exporter": "python",
   "pygments_lexer": "ipython3",
   "version": "3.9.13"
  },
  "orig_nbformat": 4,
  "vscode": {
   "interpreter": {
    "hash": "1c75df2da434cc46373b942923c038bca591ab49012c8511facb6697797f9cb5"
   }
  }
 },
 "nbformat": 4,
 "nbformat_minor": 2
}
