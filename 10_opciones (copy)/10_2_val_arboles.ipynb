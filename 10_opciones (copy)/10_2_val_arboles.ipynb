{
 "cells": [
  {
   "cell_type": "markdown",
   "metadata": {},
   "source": [
    "# VALORACIÓN DE OPCIONES USANDO ÁRBOLES"
   ]
  },
  {
   "cell_type": "markdown",
   "metadata": {},
   "source": [
    "### Parámetros necesarios para valorar una opción:"
   ]
  },
  {
   "cell_type": "markdown",
   "metadata": {},
   "source": [
    "| Descripción | Símbolo|\n",
    "| -------------------------------------------------- | ---------|\n",
    "| Valor actual del activo | **S0** |\n",
    "| Valor de strike de la opción | **K** |\n",
    "| Tasa de interés anual del activo libre de riesgo | **r** |\n",
    "| Dividendos del activo | **div** |\n",
    "| Tiempo hasta vencimiento | **T** |\n",
    "| Varianza del activo | **sigma** |\n",
    "| Número de intervalos hasta vencimiento | **n** |\n"
   ]
  },
  {
   "cell_type": "markdown",
   "metadata": {},
   "source": [
    "Incremento del valor del activo: <font size=\"5\"> $$u = e^{(\\sigma * \\sqrt{\\Delta t})}$$</font>"
   ]
  },
  {
   "cell_type": "markdown",
   "metadata": {},
   "source": [
    "Descenso del valor del activo: <font size=\"5\">$$d = 1/u $$</font>"
   ]
  },
  {
   "cell_type": "markdown",
   "metadata": {},
   "source": [
    "Intervalo <font size=\"5\"> $$ \\Delta t = \\frac{T}{n} $$ </font>"
   ]
  },
  {
   "cell_type": "markdown",
   "metadata": {},
   "source": [
    "Probabilidad de que el activo suba: <font size=\"5\"> $$ p = \\frac{e^{(-r*\\Delta t - div)}}{(u-d)}$$ </font>"
   ]
  },
  {
<<<<<<< HEAD
=======
   "cell_type": "markdown",
   "metadata": {},
   "source": [
    "<center>\n",
    "<img src=\"imgs/arbol binomial.png\"  alt=\"drawing\" width=\"30%\"/>\n",
    "</center>"
   ]
  },
  {
>>>>>>> 0adbec57648cacf32a2f261ec12e88260bf7653e
   "cell_type": "code",
   "execution_count": 1,
   "metadata": {},
   "outputs": [],
   "source": [
    "import numpy as np\n",
    "import pandas as pd\n",
    "import math as m\n",
    "import scipy.stats as stats\n",
    "import mibian\n",
    "import seaborn as sns\n",
    "# import plotly.graph_objects as go\n",
    "\n",
    "# pd.options.plotting.backend = \"plotly\"\n",
    "\n",
    "import matplotlib.pyplot as plt\n",
    "\n",
    "plt.style.use('ggplot')"
   ]
  },
  {
   "cell_type": "markdown",
   "metadata": {},
   "source": []
  },
  {
   "cell_type": "code",
   "execution_count": 2,
   "metadata": {},
   "outputs": [],
   "source": [
    "def treeparams(T, r, div, n, sigma):\n",
    "    \n",
    "    dt = float(T/n)\n",
    "    u = np.exp(sigma*(np.sqrt(dt)))\n",
    "    d = 1/u\n",
    "    pu = (np.exp((r-div)*dt) - d) / (u - d)\n",
    "    pd = 1 - pu\n",
    "    tree_dict = {\"dt\": dt, \"u\": u, \"d\": d, \"pu\": pu, \"pd\": pd}\n",
    "\n",
    "    return tree_dict"
   ]
  },
  {
   "cell_type": "code",
   "execution_count": 3,
   "metadata": {},
   "outputs": [],
   "source": [
    "def stockpricetree(S0, u, d, n):\n",
    "    tmp_stocktree = np.zeros((n+1,n+1))\n",
    "    for j in range(n+1):\n",
    "        for i in range(j+1):\n",
    "            tmp_stocktree[i][j] = S0*(u**i)*(d**(j-i))\n",
    "    return tmp_stocktree"
   ]
  },
  {
   "cell_type": "code",
   "execution_count": 4,
   "metadata": {},
   "outputs": [],
   "source": [
    "def probabilitytree(pu, pd, n):\n",
    "    tmp_probTree = np.zeros((n+1,n+1))\n",
    "    for j in range(n+1):\n",
    "        for i in range(j+1):\n",
    "            tmp_probTree[i][j] = m.factorial(j) / (m.factorial(i) * m.factorial(j-i))\\\n",
    "                                                        * pu**i * pd**(j-i)\n",
    "    return tmp_probTree"
   ]
  },
  {
   "cell_type": "code",
   "execution_count": 5,
   "metadata": {},
   "outputs": [],
   "source": [
    "def europeanpayofftree(pricetree, K, type = \"Call\"):\n",
    "    #Initialize all payoff nodes to zeros\n",
    "    n = pricetree.shape[0] - 1\n",
    "    tmp_payofftree = np.zeros((n+1,n+1))\n",
    "    \n",
    "    iopt = 0\n",
    "    #Get payoffs at terminal nodes at the option maturity\n",
    "    if type == \"Call\":\n",
    "        iopt = 1\n",
    "    else:\n",
    "        iopt = -1\n",
    "\n",
    "    # Get payoffs at terminal nodes\n",
    "    for i in range(n+1):\n",
    "        tmp_payofftree[i][n] = np.maximum(0, iopt * (pricetree[i][n]-K))\n",
    "\n",
    "    return tmp_payofftree\n",
    "            "
   ]
  },
  {
   "cell_type": "code",
   "execution_count": 35,
   "metadata": {},
   "outputs": [],
   "source": [
    "def backwardsdiscount(payofftree, probtree, r, T):\n",
    "\n",
    "    n = payofftree.shape[0] - 1\n",
    "    terminalpayoff = 0.0\n",
    "    for i in range(n+1):\n",
    "        terminalpayoff = terminalpayoff + payofftree[i][n] * probtree[i][n]\n",
    "    optionprice = terminalpayoff * np.exp(-r * T)\n",
    "\n",
    "    return optionprice"
   ]
  },
  {
   "cell_type": "code",
   "execution_count": 36,
   "metadata": {},
   "outputs": [],
   "source": [
    "def calcoptionprice(S0, K, T, r, div, n, sigma, type=\"Call\"):\n",
    "    tree_dict = treeparams(T, r, div, n, sigma)\n",
    "    price_tree = stockpricetree(S0, tree_dict[\"u\"], tree_dict[\"d\"], n)\n",
    "    prob_tree = probabilitytree(tree_dict[\"pu\"], tree_dict[\"pd\"], n)\n",
    "    payoff_tree = europeanpayofftree(price_tree, K, type = \"Call\")\n",
    "    price_opt = backwardsdiscount(payoff_tree, prob_tree, r, T)\n",
    "    return price_opt"
   ]
  },
  {
   "cell_type": "code",
   "execution_count": 8,
   "metadata": {},
   "outputs": [],
   "source": [
    "csco_opt_calls = pd.read_excel('./data/csco_opt.xlsx')"
   ]
  },
  {
   "cell_type": "code",
   "execution_count": 9,
   "metadata": {},
   "outputs": [
    {
     "data": {
      "text/plain": [
       "array([<AxesSubplot: xlabel='strike'>, <AxesSubplot: xlabel='strike'>],\n",
       "      dtype=object)"
      ]
     },
     "execution_count": 9,
     "metadata": {},
     "output_type": "execute_result"
    },
    {
     "data": {
      "image/png": "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",
      "text/plain": [
       "<Figure size 640x480 with 2 Axes>"
      ]
     },
     "metadata": {},
     "output_type": "display_data"
    }
   ],
   "source": [
    "csco_opt_calls[['strike' , 'lastPrice', 'vol']].plot(x='strike', subplots=True)"
   ]
  },
  {
   "cell_type": "code",
   "execution_count": 45,
   "metadata": {},
   "outputs": [],
   "source": [
    "pos = 0\n",
    "S0 = csco_opt_calls.loc[pos, \"S0\"]\n",
    "K = csco_opt_calls.loc[pos, \"strike\"]\n",
    "T = csco_opt_calls.loc[pos, \"T\"]\n",
    "r = 0.01\n",
    "div = 0.0 #0.03\n",
    "sigma = csco_opt_calls.loc[pos, \"vol\"]/100\n",
    "steps = 10"
   ]
  },
  {
   "cell_type": "code",
   "execution_count": 46,
   "metadata": {},
   "outputs": [],
   "source": [
    "\n",
    "tree_param_dict = treeparams(T, r, div, steps, sigma)"
   ]
  },
  {
   "cell_type": "code",
   "execution_count": 43,
   "metadata": {},
   "outputs": [
    {
     "data": {
      "text/plain": [
       "{'dt': 0.011506849315068492,\n",
       " 'u': 1.0359875195845456,\n",
       " 'd': 0.965262593511766,\n",
       " 'pu': 0.4927892263351779,\n",
       " 'pd': 0.5072107736648221}"
      ]
     },
     "execution_count": 43,
     "metadata": {},
     "output_type": "execute_result"
    }
   ],
   "source": [
    "tree_param_dict"
   ]
  },
  {
   "cell_type": "code",
   "execution_count": 47,
   "metadata": {},
   "outputs": [],
   "source": [
    "opt_price_tree = stockpricetree(S0, tree_param_dict[\"u\"], tree_param_dict[\"d\"], steps)"
   ]
  },
  {
   "cell_type": "code",
   "execution_count": 48,
   "metadata": {},
   "outputs": [],
   "source": [
    "opt_prob_tree = probabilitytree(tree_param_dict[\"pu\"], tree_param_dict[\"pd\"], steps)"
   ]
  },
  {
   "cell_type": "code",
   "execution_count": 49,
   "metadata": {},
   "outputs": [],
   "source": [
    "opt_payoff_tree = europeanpayofftree(opt_price_tree, K)"
   ]
  },
  {
   "cell_type": "code",
   "execution_count": 51,
   "metadata": {},
   "outputs": [
    {
     "data": {
      "text/plain": [
       "10.235069969938007"
      ]
     },
     "execution_count": 51,
     "metadata": {},
     "output_type": "execute_result"
    }
   ],
   "source": [
    "backwardsdiscount(opt_payoff_tree, opt_prob_tree, r, T)"
   ]
  },
  {
   "cell_type": "code",
   "execution_count": 52,
   "metadata": {},
   "outputs": [
    {
     "data": {
      "text/plain": [
       "10.235069969938007"
      ]
     },
     "execution_count": 52,
     "metadata": {},
     "output_type": "execute_result"
    }
   ],
   "source": [
    "calcoptionprice(S0, K, T, r, div, steps, sigma)"
   ]
  },
  {
   "cell_type": "code",
   "execution_count": 25,
   "metadata": {},
   "outputs": [],
   "source": [
    "price_calc=[]\n",
    "S0 = csco_opt_calls.loc[0, \"S0\"]\n",
    "T = csco_opt_calls.loc[0, \"T\"]\n",
    "r = 0.01\n",
    "div = 0.0 #0.03\n",
    "steps = 50\n",
    "\n",
    "for i in range(csco_opt_calls.shape[0]):\n",
    "      \n",
    "    K = csco_opt_calls.loc[i, \"strike\"]\n",
    "    sigma = csco_opt_calls.loc[i, \"vol\"]/100\n",
    "    price_calc.append(calcoptionprice(S0, K, T, r, div, steps, sigma))\n",
    "\n",
    "csco_opt_calls[\"price_calc\"] = price_calc"
   ]
  },
  {
   "cell_type": "code",
   "execution_count": 26,
   "metadata": {},
   "outputs": [],
   "source": [
    "price_calc=[0]\n",
    "S0 = csco_opt_calls.loc[0, \"S0\"]\n",
    "T = csco_opt_calls.loc[0, \"T\"]\n",
    "r = 0.01\n",
    "div = 0.0 #0.03\n",
    "steps = 50\n",
    "\n",
    "for i in range(csco_opt_calls.shape[0]-1):\n",
    "      \n",
    "    K = csco_opt_calls.loc[i+1, \"strike\"]\n",
    "    sigma = csco_opt_calls.loc[i, \"vol\"]/100\n",
    "    price_calc.append(calcoptionprice(S0, K, T, r, div, steps, sigma))\n",
    "\n",
    "csco_opt_calls[\"price_calc_1\"] = price_calc"
   ]
  },
  {
   "cell_type": "code",
   "execution_count": 27,
   "metadata": {},
   "outputs": [
    {
     "data": {
      "text/html": [
       "<div>\n",
       "<style scoped>\n",
       "    .dataframe tbody tr th:only-of-type {\n",
       "        vertical-align: middle;\n",
       "    }\n",
       "\n",
       "    .dataframe tbody tr th {\n",
       "        vertical-align: top;\n",
       "    }\n",
       "\n",
       "    .dataframe thead th {\n",
       "        text-align: right;\n",
       "    }\n",
       "</style>\n",
       "<table border=\"1\" class=\"dataframe\">\n",
       "  <thead>\n",
       "    <tr style=\"text-align: right;\">\n",
       "      <th></th>\n",
       "      <th>lastTradeDate</th>\n",
       "      <th>strike</th>\n",
       "      <th>lastPrice</th>\n",
       "      <th>S0</th>\n",
       "      <th>T</th>\n",
       "      <th>vol</th>\n",
       "      <th>price_calc</th>\n",
       "      <th>price_calc_1</th>\n",
       "    </tr>\n",
       "  </thead>\n",
       "  <tbody>\n",
       "    <tr>\n",
       "      <th>0</th>\n",
       "      <td>2022-08-19</td>\n",
       "      <td>40.0</td>\n",
       "      <td>10.05</td>\n",
       "      <td>48.700001</td>\n",
       "      <td>0.575342</td>\n",
       "      <td>32.958984</td>\n",
       "      <td>10.225801</td>\n",
       "      <td>0.000000</td>\n",
       "    </tr>\n",
       "    <tr>\n",
       "      <th>1</th>\n",
       "      <td>2022-08-19</td>\n",
       "      <td>42.5</td>\n",
       "      <td>8.35</td>\n",
       "      <td>48.700001</td>\n",
       "      <td>0.575342</td>\n",
       "      <td>33.447266</td>\n",
       "      <td>8.501127</td>\n",
       "      <td>8.440819</td>\n",
       "    </tr>\n",
       "    <tr>\n",
       "      <th>2</th>\n",
       "      <td>2022-08-19</td>\n",
       "      <td>45.0</td>\n",
       "      <td>6.25</td>\n",
       "      <td>48.700001</td>\n",
       "      <td>0.575342</td>\n",
       "      <td>29.296875</td>\n",
       "      <td>6.417078</td>\n",
       "      <td>6.947240</td>\n",
       "    </tr>\n",
       "    <tr>\n",
       "      <th>3</th>\n",
       "      <td>2022-08-19</td>\n",
       "      <td>47.5</td>\n",
       "      <td>4.65</td>\n",
       "      <td>48.700001</td>\n",
       "      <td>0.575342</td>\n",
       "      <td>27.709961</td>\n",
       "      <td>4.811855</td>\n",
       "      <td>5.038865</td>\n",
       "    </tr>\n",
       "    <tr>\n",
       "      <th>4</th>\n",
       "      <td>2022-08-19</td>\n",
       "      <td>50.0</td>\n",
       "      <td>3.45</td>\n",
       "      <td>48.700001</td>\n",
       "      <td>0.575342</td>\n",
       "      <td>27.282715</td>\n",
       "      <td>3.588053</td>\n",
       "      <td>3.651195</td>\n",
       "    </tr>\n",
       "    <tr>\n",
       "      <th>5</th>\n",
       "      <td>2022-08-19</td>\n",
       "      <td>52.5</td>\n",
       "      <td>2.35</td>\n",
       "      <td>48.700001</td>\n",
       "      <td>0.575342</td>\n",
       "      <td>25.939941</td>\n",
       "      <td>2.460396</td>\n",
       "      <td>2.649511</td>\n",
       "    </tr>\n",
       "    <tr>\n",
       "      <th>6</th>\n",
       "      <td>2022-08-19</td>\n",
       "      <td>55.0</td>\n",
       "      <td>1.50</td>\n",
       "      <td>48.700001</td>\n",
       "      <td>0.575342</td>\n",
       "      <td>24.414062</td>\n",
       "      <td>1.550209</td>\n",
       "      <td>1.739295</td>\n",
       "    </tr>\n",
       "    <tr>\n",
       "      <th>7</th>\n",
       "      <td>2022-08-19</td>\n",
       "      <td>60.0</td>\n",
       "      <td>0.59</td>\n",
       "      <td>48.700001</td>\n",
       "      <td>0.575342</td>\n",
       "      <td>23.681641</td>\n",
       "      <td>0.616790</td>\n",
       "      <td>0.674479</td>\n",
       "    </tr>\n",
       "  </tbody>\n",
       "</table>\n",
       "</div>"
      ],
      "text/plain": [
       "  lastTradeDate  strike  lastPrice         S0         T        vol  \\\n",
       "0    2022-08-19    40.0      10.05  48.700001  0.575342  32.958984   \n",
       "1    2022-08-19    42.5       8.35  48.700001  0.575342  33.447266   \n",
       "2    2022-08-19    45.0       6.25  48.700001  0.575342  29.296875   \n",
       "3    2022-08-19    47.5       4.65  48.700001  0.575342  27.709961   \n",
       "4    2022-08-19    50.0       3.45  48.700001  0.575342  27.282715   \n",
       "5    2022-08-19    52.5       2.35  48.700001  0.575342  25.939941   \n",
       "6    2022-08-19    55.0       1.50  48.700001  0.575342  24.414062   \n",
       "7    2022-08-19    60.0       0.59  48.700001  0.575342  23.681641   \n",
       "\n",
       "   price_calc  price_calc_1  \n",
       "0   10.225801      0.000000  \n",
       "1    8.501127      8.440819  \n",
       "2    6.417078      6.947240  \n",
       "3    4.811855      5.038865  \n",
       "4    3.588053      3.651195  \n",
       "5    2.460396      2.649511  \n",
       "6    1.550209      1.739295  \n",
       "7    0.616790      0.674479  "
      ]
     },
     "execution_count": 27,
     "metadata": {},
     "output_type": "execute_result"
    }
   ],
   "source": [
    "csco_opt_calls"
   ]
  },
  {
   "cell_type": "code",
   "execution_count": 28,
   "metadata": {},
   "outputs": [],
   "source": [
    "sigma = csco_opt_calls.loc[0, \"vol\"]/100\n",
    "S0 = csco_opt_calls.loc[0, \"S0\"]\n",
    "T = csco_opt_calls.loc[0, \"T\"]\n",
    "r = 0.01\n",
    "div = 0.0 #0.03\n",
    "steps = 9\n",
    "\n",
    "price_calc=[0]\n",
    "\n",
    "for i in range(csco_opt_calls.shape[0]-1):\n",
    "   \n",
    "    K = csco_opt_calls.loc[i+1, \"strike\"]\n",
    "    price_calc.append(calcoptionprice(S0, K, T, r, div, steps, sigma))\n",
    "\n",
    "csco_opt_calls[\"price_calc_0\"] = price_calc"
   ]
  },
  {
   "cell_type": "code",
   "execution_count": 29,
   "metadata": {},
   "outputs": [
    {
     "data": {
      "text/plain": [
       "<AxesSubplot:xlabel='strike'>"
      ]
     },
     "execution_count": 29,
     "metadata": {},
     "output_type": "execute_result"
    },
    {
     "data": {
      "image/png": "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",
      "text/plain": [
       "<Figure size 640x480 with 1 Axes>"
      ]
     },
     "metadata": {},
     "output_type": "display_data"
    }
   ],
   "source": [
    "csco_opt_calls.iloc[1:, :].plot(kind='line', x='strike', y=['price_calc', 'price_calc_1','price_calc_0','lastPrice'])"
   ]
  }
 ],
 "metadata": {
  "kernelspec": {
   "display_name": "Python 3.9.13 ('venv': venv)",
   "language": "python",
   "name": "python3"
  },
  "language_info": {
   "codemirror_mode": {
    "name": "ipython",
    "version": 3
   },
   "file_extension": ".py",
   "mimetype": "text/x-python",
   "name": "python",
   "nbconvert_exporter": "python",
   "pygments_lexer": "ipython3",
<<<<<<< HEAD
   "version": "3.9.15"
=======
   "version": "3.9.14"
>>>>>>> 0adbec57648cacf32a2f261ec12e88260bf7653e
  },
  "orig_nbformat": 4,
  "vscode": {
   "interpreter": {
    "hash": "1c75df2da434cc46373b942923c038bca591ab49012c8511facb6697797f9cb5"
   }
  }
 },
 "nbformat": 4,
 "nbformat_minor": 2
}
