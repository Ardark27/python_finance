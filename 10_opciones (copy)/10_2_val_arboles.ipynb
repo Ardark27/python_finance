{
 "cells": [
  {
   "cell_type": "markdown",
   "metadata": {},
   "source": [
    "# VALORACIÓN DE OPCIONES USANDO ÁRBOLES"
   ]
  },
  {
   "cell_type": "markdown",
   "metadata": {},
   "source": [
    "### Parámetros necesarios para valorar una opción:"
   ]
  },
  {
   "cell_type": "markdown",
   "metadata": {},
   "source": [
    "| Descripción | Símbolo|\n",
    "| -------------------------------------------------- | ---------|\n",
    "| Valor actual del activo | **S0** |\n",
    "| Valor de strike de la opción | **K** |\n",
    "| Tasa de interés anual del activo libre de riesgo | **r** |\n",
    "| Dividendos del activo | **div** |\n",
    "| Tiempo hasta vencimiento | **T** |\n",
    "| Varianza del activo | **sigma** |\n",
    "| Número de intervalos hasta vencimiento | **n** |\n"
   ]
  },
  {
   "cell_type": "markdown",
   "metadata": {},
   "source": [
    "Incremento del valor del activo: <font size=\"5\"> $$u = e^{(\\sigma * \\sqrt{\\Delta t})}$$</font>"
   ]
  },
  {
   "cell_type": "markdown",
   "metadata": {},
   "source": [
    "Descenso del valor del activo: <font size=\"5\">$$d = 1/u $$</font>"
   ]
  },
  {
   "cell_type": "markdown",
   "metadata": {},
   "source": [
    "Intervalo <font size=\"5\"> $$ \\Delta t = \\frac{T}{n} $$ </font>"
   ]
  },
  {
   "cell_type": "markdown",
   "metadata": {},
   "source": [
    "Probabilidad de que el activo suba: <font size=\"5\"> $$ p = \\frac{e^{(-r*\\Delta t - div)}}{(u-d)}$$ </font>"
   ]
  },
  {
   "cell_type": "markdown",
   "metadata": {},
   "source": [
    "<center>\n",
    "<img src=\"imgs/arbol binomial.png\"  alt=\"drawing\" width=\"30%\"/>\n",
    "</center>"
   ]
  },
  {
   "cell_type": "code",
   "execution_count": 8,
   "metadata": {},
   "outputs": [],
   "source": [
    "import numpy as np\n",
    "import pandas as pd\n",
    "import math as m\n",
    "import scipy.stats as stats\n",
    "import mibian\n",
    "import seaborn as sns\n",
    "# import plotly.graph_objects as go\n",
    "\n",
    "# pd.options.plotting.backend = \"plotly\"\n",
    "\n",
    "import matplotlib.pyplot as plt\n",
    "\n",
    "plt.style.use('ggplot')"
   ]
  },
  {
   "cell_type": "code",
   "execution_count": 9,
   "metadata": {},
   "outputs": [],
   "source": [
    "def treeparams(T, r, div, n, sigma):\n",
    "    \n",
    "    dt = float(T/n)\n",
    "    u = np.exp(sigma*(np.sqrt(dt)))\n",
    "    d = 1/u\n",
    "    pu = (np.exp((r-div)*dt) - d) / (u - d)\n",
    "    pd = 1 - pu\n",
    "    tree_dict = {\"dt\": dt, \"u\": u, \"d\": d, \"pu\": pu, \"pd\": pd}\n",
    "\n",
    "    return tree_dict"
   ]
  },
  {
   "cell_type": "code",
   "execution_count": 10,
   "metadata": {},
   "outputs": [],
   "source": [
    "def stockpricetree(S0, u, d, n):\n",
    "    tmp_stocktree = np.zeros((n+1,n+1))\n",
    "    for j in range(n+1):\n",
    "        for i in range(j+1):\n",
    "            tmp_stocktree[i][j] = S0*(u**i)*(d**(j-i))\n",
    "    return tmp_stocktree"
   ]
  },
  {
   "cell_type": "code",
   "execution_count": 11,
   "metadata": {},
   "outputs": [],
   "source": [
    "def probabilitytree(pu, pd, n):\n",
    "    tmp_probTree = np.zeros((n+1,n+1))\n",
    "    for j in range(n+1):\n",
    "        for i in range(j+1):\n",
    "            tmp_probTree[i][j] = m.factorial(j) / (m.factorial(i) * m.factorial(j-i))\\\n",
    "                                                        * pu**i * pd**(j-i)\n",
    "    return tmp_probTree"
   ]
  },
  {
   "cell_type": "code",
   "execution_count": 12,
   "metadata": {},
   "outputs": [],
   "source": [
    "def europeanpayofftree(pricetree, K, type = \"Call\"):\n",
    "    #Initialize all payoff nodes to zeros\n",
    "    n = pricetree.shape[0] - 1\n",
    "    tmp_payofftree = np.zeros((n+1,n+1))\n",
    "    \n",
    "    iopt = 0\n",
    "    #Get payoffs at terminal nodes at the option maturity\n",
    "    if type == \"Call\":\n",
    "        iopt = 1\n",
    "    else:\n",
    "        iopt = -1\n",
    "\n",
    "    # Get payoffs at terminal nodes\n",
    "    for i in range(n+1):\n",
    "        tmp_payofftree[i][n] = np.maximum(0, iopt * (pricetree[i][n]-K))\n",
    "\n",
    "    return tmp_payofftree\n",
    "            "
   ]
  },
  {
   "cell_type": "code",
   "execution_count": 13,
   "metadata": {},
   "outputs": [],
   "source": [
    "def backwardsdiscount(payofftree, probtree, r, T):\n",
    "\n",
    "    n = payofftree.shape[0] - 1\n",
    "    terminalpayoff = 0.0\n",
    "    for i in range(n+1):\n",
    "        terminalpayoff = terminalpayoff + payofftree[i][n] * probtree[i][n]\n",
    "    optionprice = terminalpayoff * np.exp(-r * T)\n",
    "\n",
    "    return optionprice"
   ]
  },
  {
   "cell_type": "code",
   "execution_count": 14,
   "metadata": {},
   "outputs": [],
   "source": [
    "def calcoptionprice(S0, K, T, r, div, n, sigma, type=\"Call\"):\n",
    "    tree_dict = treeparams(T, r, div, n, sigma)\n",
    "    price_tree = stockpricetree(S0, tree_dict[\"u\"], tree_dict[\"d\"], n)\n",
    "    prob_tree = probabilitytree(tree_dict[\"pu\"], tree_dict[\"pd\"], n)\n",
    "    payoff_tree = europeanpayofftree(price_tree, K, type = \"Call\")\n",
    "    price_opt = backwardsdiscount(payoff_tree, prob_tree, r, T)\n",
    "    return price_opt"
   ]
  },
  {
   "cell_type": "code",
   "execution_count": 15,
   "metadata": {},
   "outputs": [],
   "source": [
    "csco_opt_calls = pd.read_excel('./data/csco_opt.xlsx')"
   ]
  },
  {
   "cell_type": "code",
   "execution_count": 16,
   "metadata": {},
   "outputs": [
    {
     "data": {
      "text/plain": [
       "array([<AxesSubplot:xlabel='strike'>, <AxesSubplot:xlabel='strike'>],\n",
       "      dtype=object)"
      ]
     },
     "execution_count": 16,
     "metadata": {},
     "output_type": "execute_result"
    },
    {
     "data": {
      "image/png": "[encoded data removed]",
      "text/plain": [
       "<Figure size 432x288 with 2 Axes>"
      ]
     },
     "metadata": {},
     "output_type": "display_data"
    }
   ],
   "source": [
    "csco_opt_calls[['strike' , 'lastPrice', 'vol']].plot(x='strike', subplots=True)"
   ]
  },
  {
   "cell_type": "code",
   "execution_count": 17,
   "metadata": {},
   "outputs": [],
   "source": [
    "pos = 0\n",
    "S0 = csco_opt_calls.loc[pos, \"S0\"]\n",
    "K = csco_opt_calls.loc[pos, \"strike\"]\n",
    "T = csco_opt_calls.loc[pos, \"T\"]\n",
    "r = 0.01\n",
    "div = 0.0 #0.03\n",
    "sigma = csco_opt_calls.loc[pos, \"vol\"]/100\n",
    "steps = 10"
   ]
  },
  {
   "cell_type": "code",
   "execution_count": 18,
   "metadata": {},
   "outputs": [],
   "source": [
    "\n",
    "tree_param_dict = treeparams(T, r, div, steps, sigma)"
   ]
  },
  {
   "cell_type": "code",
   "execution_count": 19,
   "metadata": {},
   "outputs": [
    {
     "data": {
      "text/plain": [
       "{'dt': 0.057534246575342465,\n",
       " 'u': 1.082265360455063,\n",
       " 'd': 0.9239878097729446,\n",
       " 'pu': 0.48388225559446985,\n",
       " 'pd': 0.5161177444055302}"
      ]
     },
     "execution_count": 19,
     "metadata": {},
     "output_type": "execute_result"
    }
   ],
   "source": [
    "tree_param_dict"
   ]
  },
  {
   "cell_type": "code",
   "execution_count": 20,
   "metadata": {},
   "outputs": [],
   "source": [
    "opt_price_tree = stockpricetree(S0, tree_param_dict[\"u\"], tree_param_dict[\"d\"], steps)"
   ]
  },
  {
   "cell_type": "code",
   "execution_count": 21,
   "metadata": {},
   "outputs": [],
   "source": [
    "opt_prob_tree = probabilitytree(tree_param_dict[\"pu\"], tree_param_dict[\"pd\"], steps)"
   ]
  },
  {
   "cell_type": "code",
   "execution_count": 22,
   "metadata": {},
   "outputs": [],
   "source": [
    "opt_payoff_tree = europeanpayofftree(opt_price_tree, K)"
   ]
  },
  {
   "cell_type": "code",
   "execution_count": 23,
   "metadata": {},
   "outputs": [
    {
     "data": {
      "text/plain": [
       "10.235069969938007"
      ]
     },
     "execution_count": 23,
     "metadata": {},
     "output_type": "execute_result"
    }
   ],
   "source": [
    "backwardsdiscount(opt_payoff_tree, opt_prob_tree, r, T)"
   ]
  },
  {
   "cell_type": "code",
   "execution_count": 24,
   "metadata": {},
   "outputs": [
    {
     "data": {
      "text/plain": [
       "10.235069969938007"
      ]
     },
     "execution_count": 24,
     "metadata": {},
     "output_type": "execute_result"
    }
   ],
   "source": [
    "calcoptionprice(S0, K, T, r, div, steps, sigma)"
   ]
  },
  {
   "cell_type": "code",
   "execution_count": 25,
   "metadata": {},
   "outputs": [],
   "source": [
    "price_calc=[]\n",
    "S0 = csco_opt_calls.loc[0, \"S0\"]\n",
    "T = csco_opt_calls.loc[0, \"T\"]\n",
    "r = 0.01\n",
    "div = 0.0 #0.03\n",
    "steps = 50\n",
    "\n",
    "for i in range(csco_opt_calls.shape[0]):\n",
    "      \n",
    "    K = csco_opt_calls.loc[i, \"strike\"]\n",
    "    sigma = csco_opt_calls.loc[i, \"vol\"]/100\n",
    "    price_calc.append(calcoptionprice(S0, K, T, r, div, steps, sigma))\n",
    "\n",
    "csco_opt_calls[\"price_calc\"] = price_calc"
   ]
  },
  {
   "cell_type": "code",
   "execution_count": 26,
   "metadata": {},
   "outputs": [],
   "source": [
    "price_calc=[0]\n",
    "S0 = csco_opt_calls.loc[0, \"S0\"]\n",
    "T = csco_opt_calls.loc[0, \"T\"]\n",
    "r = 0.01\n",
    "div = 0.0 #0.03\n",
    "steps = 50\n",
    "\n",
    "for i in range(csco_opt_calls.shape[0]-1):\n",
    "      \n",
    "    K = csco_opt_calls.loc[i+1, \"strike\"]\n",
    "    sigma = csco_opt_calls.loc[i, \"vol\"]/100\n",
    "    price_calc.append(calcoptionprice(S0, K, T, r, div, steps, sigma))\n",
    "\n",
    "csco_opt_calls[\"price_calc_1\"] = price_calc"
   ]
  },
  {
   "cell_type": "code",
   "execution_count": 27,
   "metadata": {},
   "outputs": [
    {
     "data": {
      "text/html": [
       "<div>\n",
       "<style scoped>\n",
       "    .dataframe tbody tr th:only-of-type {\n",
       "        vertical-align: middle;\n",
       "    }\n",
       "\n",
       "    .dataframe tbody tr th {\n",
       "        vertical-align: top;\n",
       "    }\n",
       "\n",
       "    .dataframe thead th {\n",
       "        text-align: right;\n",
       "    }\n",
       "</style>\n",
       "<table border=\"1\" class=\"dataframe\">\n",
       "  <thead>\n",
       "    <tr style=\"text-align: right;\">\n",
       "      <th></th>\n",
       "      <th>lastTradeDate</th>\n",
       "      <th>strike</th>\n",
       "      <th>lastPrice</th>\n",
       "      <th>S0</th>\n",
       "      <th>T</th>\n",
       "      <th>vol</th>\n",
       "      <th>price_calc</th>\n",
       "      <th>price_calc_1</th>\n",
       "    </tr>\n",
       "  </thead>\n",
       "  <tbody>\n",
       "    <tr>\n",
       "      <th>0</th>\n",
       "      <td>2022-08-19</td>\n",
       "      <td>40.0</td>\n",
       "      <td>10.05</td>\n",
       "      <td>48.700001</td>\n",
       "      <td>0.575342</td>\n",
       "      <td>32.958984</td>\n",
       "      <td>10.225801</td>\n",
       "      <td>0.000000</td>\n",
       "    </tr>\n",
       "    <tr>\n",
       "      <th>1</th>\n",
       "      <td>2022-08-19</td>\n",
       "      <td>42.5</td>\n",
       "      <td>8.35</td>\n",
       "      <td>48.700001</td>\n",
       "      <td>0.575342</td>\n",
       "      <td>33.447266</td>\n",
       "      <td>8.501127</td>\n",
       "      <td>8.440819</td>\n",
       "    </tr>\n",
       "    <tr>\n",
       "      <th>2</th>\n",
       "      <td>2022-08-19</td>\n",
       "      <td>45.0</td>\n",
       "      <td>6.25</td>\n",
       "      <td>48.700001</td>\n",
       "      <td>0.575342</td>\n",
       "      <td>29.296875</td>\n",
       "      <td>6.417078</td>\n",
       "      <td>6.947240</td>\n",
       "    </tr>\n",
       "    <tr>\n",
       "      <th>3</th>\n",
       "      <td>2022-08-19</td>\n",
       "      <td>47.5</td>\n",
       "      <td>4.65</td>\n",
       "      <td>48.700001</td>\n",
       "      <td>0.575342</td>\n",
       "      <td>27.709961</td>\n",
       "      <td>4.811855</td>\n",
       "      <td>5.038865</td>\n",
       "    </tr>\n",
       "    <tr>\n",
       "      <th>4</th>\n",
       "      <td>2022-08-19</td>\n",
       "      <td>50.0</td>\n",
       "      <td>3.45</td>\n",
       "      <td>48.700001</td>\n",
       "      <td>0.575342</td>\n",
       "      <td>27.282715</td>\n",
       "      <td>3.588053</td>\n",
       "      <td>3.651195</td>\n",
       "    </tr>\n",
       "    <tr>\n",
       "      <th>5</th>\n",
       "      <td>2022-08-19</td>\n",
       "      <td>52.5</td>\n",
       "      <td>2.35</td>\n",
       "      <td>48.700001</td>\n",
       "      <td>0.575342</td>\n",
       "      <td>25.939941</td>\n",
       "      <td>2.460396</td>\n",
       "      <td>2.649511</td>\n",
       "    </tr>\n",
       "    <tr>\n",
       "      <th>6</th>\n",
       "      <td>2022-08-19</td>\n",
       "      <td>55.0</td>\n",
       "      <td>1.50</td>\n",
       "      <td>48.700001</td>\n",
       "      <td>0.575342</td>\n",
       "      <td>24.414062</td>\n",
       "      <td>1.550209</td>\n",
       "      <td>1.739295</td>\n",
       "    </tr>\n",
       "    <tr>\n",
       "      <th>7</th>\n",
       "      <td>2022-08-19</td>\n",
       "      <td>60.0</td>\n",
       "      <td>0.59</td>\n",
       "      <td>48.700001</td>\n",
       "      <td>0.575342</td>\n",
       "      <td>23.681641</td>\n",
       "      <td>0.616790</td>\n",
       "      <td>0.674479</td>\n",
       "    </tr>\n",
       "  </tbody>\n",
       "</table>\n",
       "</div>"
      ],
      "text/plain": [
       "  lastTradeDate  strike  lastPrice         S0         T        vol  \\\n",
       "0    2022-08-19    40.0      10.05  48.700001  0.575342  32.958984   \n",
       "1    2022-08-19    42.5       8.35  48.700001  0.575342  33.447266   \n",
       "2    2022-08-19    45.0       6.25  48.700001  0.575342  29.296875   \n",
       "3    2022-08-19    47.5       4.65  48.700001  0.575342  27.709961   \n",
       "4    2022-08-19    50.0       3.45  48.700001  0.575342  27.282715   \n",
       "5    2022-08-19    52.5       2.35  48.700001  0.575342  25.939941   \n",
       "6    2022-08-19    55.0       1.50  48.700001  0.575342  24.414062   \n",
       "7    2022-08-19    60.0       0.59  48.700001  0.575342  23.681641   \n",
       "\n",
       "   price_calc  price_calc_1  \n",
       "0   10.225801      0.000000  \n",
       "1    8.501127      8.440819  \n",
       "2    6.417078      6.947240  \n",
       "3    4.811855      5.038865  \n",
       "4    3.588053      3.651195  \n",
       "5    2.460396      2.649511  \n",
       "6    1.550209      1.739295  \n",
       "7    0.616790      0.674479  "
      ]
     },
     "execution_count": 27,
     "metadata": {},
     "output_type": "execute_result"
    }
   ],
   "source": [
    "csco_opt_calls"
   ]
  },
  {
   "cell_type": "code",
   "execution_count": 28,
   "metadata": {},
   "outputs": [],
   "source": [
    "sigma = csco_opt_calls.loc[0, \"vol\"]/100\n",
    "S0 = csco_opt_calls.loc[0, \"S0\"]\n",
    "T = csco_opt_calls.loc[0, \"T\"]\n",
    "r = 0.01\n",
    "div = 0.0 #0.03\n",
    "steps = 9\n",
    "\n",
    "price_calc=[0]\n",
    "\n",
    "for i in range(csco_opt_calls.shape[0]-1):\n",
    "   \n",
    "    K = csco_opt_calls.loc[i+1, \"strike\"]\n",
    "    price_calc.append(calcoptionprice(S0, K, T, r, div, steps, sigma))\n",
    "\n",
    "csco_opt_calls[\"price_calc_0\"] = price_calc"
   ]
  },
  {
   "cell_type": "code",
   "execution_count": 29,
   "metadata": {},
   "outputs": [
    {
     "data": {
      "text/plain": [
       "<AxesSubplot:xlabel='strike'>"
      ]
     },
     "execution_count": 29,
     "metadata": {},
     "output_type": "execute_result"
    },
    {
     "data": {
      "image/png": "[encoded data removed]",
      "text/plain": [
       "<Figure size 432x288 with 1 Axes>"
      ]
     },
     "metadata": {},
     "output_type": "display_data"
    }
   ],
   "source": [
    "csco_opt_calls.iloc[1:, :].plot(kind='line', x='strike', y=['price_calc', 'price_calc_1','price_calc_0','lastPrice'])"
   ]
  },
  {
   "cell_type": "code",
   "execution_count": null,
   "metadata": {},
   "outputs": [],
   "source": []
  }
 ],
 "metadata": {
  "kernelspec": {
   "display_name": "Python 3.8.8 ('base')",
   "language": "python",
   "name": "python3"
  },
  "language_info": {
   "codemirror_mode": {
    "name": "ipython",
    "version": 3
   },
   "file_extension": ".py",
   "mimetype": "text/x-python",
   "name": "python",
   "nbconvert_exporter": "python",
   "pygments_lexer": "ipython3",
   "version": "3.8.8"
  },
  "orig_nbformat": 4,
  "vscode": {
   "interpreter": {
    "hash": "3a2a03ea413f8be244ba01daf0e257f98f0dabeb03c7836e7000a0f3738aa8c9"
   }
  }
 },
 "nbformat": 4,
 "nbformat_minor": 2
}
