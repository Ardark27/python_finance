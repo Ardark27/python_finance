{
 "cells": [
  {
   "cell_type": "code",
   "execution_count": null,
   "metadata": {},
   "outputs": [],
   "source": []
  },
  {
   "cell_type": "markdown",
   "metadata": {},
   "source": [
    "### Generando rangos de fechas"
   ]
  },
  {
   "cell_type": "markdown",
   "metadata": {},
   "source": [
    "| Code   | Description         |\n",
    "|--------|---------------------|\n",
    "| ``D``  | Calendar day        |\n",
    "| ``B``  | Business day        |\n",
    "| ``W``  | Weekly              |       \n",
    "| ``M``  | Month end           | \n",
    "|``BM`` | Business month end   |\n",
    "| ``Q``  | Quarter end         |\n",
    "| ``BQ`` | Business quarter end|\n",
    "| ``A``  | Year end            | \n",
    "|``BA`` | Business year end    |\n",
    "| ``H``  | Hours               |\n",
    "|``BH`` | Business hours       |\n",
    "| ``T`` o ``min`` | Minutes             |       \n",
    "| ``S``  | Seconds             |       \n",
    "| ``L``  | Milliseonds         |       \n",
    "| ``U``  | Microseconds        |     \n",
    "| ``N``  | nanoseconds         |       \n",
    "\n",
    "- Las frecuencias mensual, trimestral y anual se proporcionan como fecha al final del periodo especificado.\n",
    "- Añadiendo una 'S' al final de cada una de estas, la salida será al inicio del periodo.\n",
    "\n",
    "| Code    | Description            |\n",
    "|---------|------------------------|\n",
    "| ``MS``  | Month start            |\n",
    "| ``QS``  | Quarter start          |\n",
    "| ``AS``  | Year start             |\n",
    "|``BMS``  | Business month start   |\n",
    "|``BQS``  | Business quarter start |\n",
    "|``BAS``  | Business year start    |\n",
    "\n",
    "- Además se puede cambiar el mes usado en frecuencias trimestrales o anuales añadiendo un código de tres letras al final:\n",
    " * ``Q-JAN``, ``BQ-FEB``, ``QS-MAR``, ``BQS-APR``, etc.\n",
    " * ``A-JAN``, ``BA-FEB``, ``AS-MAR``, ``BAS-APR``, etc."
   ]
  },
  {
   "cell_type": "code",
   "execution_count": null,
   "metadata": {},
   "outputs": [
    {
     "data": {
      "text/plain": [
       "DatetimeIndex(['2021-01-01', '2021-01-02', '2021-01-03', '2021-01-04',\n",
       "               '2021-01-05', '2021-01-06', '2021-01-07', '2021-01-08',\n",
       "               '2021-01-09', '2021-01-10',\n",
       "               ...\n",
       "               '2021-12-23', '2021-12-24', '2021-12-25', '2021-12-26',\n",
       "               '2021-12-27', '2021-12-28', '2021-12-29', '2021-12-30',\n",
       "               '2021-12-31', '2022-01-01'],\n",
       "              dtype='datetime64[ns]', length=366, freq='D')"
      ]
     },
     "metadata": {},
     "output_type": "display_data"
    }
   ],
   "source": [
    "start = datetime(2021, 1, 1)\n",
    "end = datetime(2022, 1, 1)\n",
    "\n",
    "index = pd.date_range(start, end)\n",
    "index"
   ]
  },
  {
   "cell_type": "code",
   "execution_count": null,
   "metadata": {},
   "outputs": [
    {
     "data": {
      "text/plain": [
       "DatetimeIndex(['2021-01-01', '2021-01-04', '2021-01-05', '2021-01-06',\n",
       "               '2021-01-07', '2021-01-08', '2021-01-11', '2021-01-12',\n",
       "               '2021-01-13', '2021-01-14',\n",
       "               ...\n",
       "               '2021-12-20', '2021-12-21', '2021-12-22', '2021-12-23',\n",
       "               '2021-12-24', '2021-12-27', '2021-12-28', '2021-12-29',\n",
       "               '2021-12-30', '2021-12-31'],\n",
       "              dtype='datetime64[ns]', length=261, freq='B')"
      ]
     },
     "metadata": {},
     "output_type": "display_data"
    }
   ],
   "source": [
    "index_b = pd.bdate_range(start, end)\n",
    "index_b"
   ]
  },
  {
   "cell_type": "code",
   "execution_count": null,
   "metadata": {},
   "outputs": [
    {
     "data": {
      "text/plain": [
       "DatetimeIndex(['2021-01-31', '2021-02-28', '2021-03-31', '2021-04-30',\n",
       "               '2021-05-31', '2021-06-30', '2021-07-31', '2021-08-31',\n",
       "               '2021-09-30', '2021-10-31',\n",
       "               ...\n",
       "               '2103-07-31', '2103-08-31', '2103-09-30', '2103-10-31',\n",
       "               '2103-11-30', '2103-12-31', '2104-01-31', '2104-02-29',\n",
       "               '2104-03-31', '2104-04-30'],\n",
       "              dtype='datetime64[ns]', length=1000, freq='M')"
      ]
     },
     "metadata": {},
     "output_type": "display_data"
    }
   ],
   "source": [
    "pd.date_range(start, periods=1000, freq=\"M\")"
   ]
  },
  {
   "cell_type": "code",
   "execution_count": null,
   "metadata": {},
   "outputs": [
    {
     "data": {
      "text/plain": [
       "DatetimeIndex(['2021-01-29', '2021-02-26', '2021-03-31', '2021-04-30',\n",
       "               '2021-05-31', '2021-06-30', '2021-07-30', '2021-08-31',\n",
       "               '2021-09-30', '2021-10-29',\n",
       "               ...\n",
       "               '2103-07-31', '2103-08-31', '2103-09-28', '2103-10-31',\n",
       "               '2103-11-30', '2103-12-31', '2104-01-31', '2104-02-29',\n",
       "               '2104-03-31', '2104-04-30'],\n",
       "              dtype='datetime64[ns]', length=1000, freq='BM')"
      ]
     },
     "metadata": {},
     "output_type": "display_data"
    }
   ],
   "source": [
    "pd.date_range(start, periods=1000, freq=\"BM\")"
   ]
  }
 ],
 "metadata": {
  "kernelspec": {
   "display_name": "Python 3.9.13 64-bit",
   "language": "python",
   "name": "python3"
  },
  "language_info": {
   "name": "python",
   "version": "3.9.13"
  },
  "orig_nbformat": 4,
  "vscode": {
   "interpreter": {
    "hash": "f9f85f796d01129d0dd105a088854619f454435301f6ffec2fea96ecbd9be4ac"
   }
  }
 },
 "nbformat": 4,
 "nbformat_minor": 2
}
