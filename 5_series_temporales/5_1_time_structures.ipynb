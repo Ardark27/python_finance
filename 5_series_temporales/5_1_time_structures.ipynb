{
 "cells": [
  {
   "cell_type": "markdown",
   "metadata": {},
   "source": [
    "<center>\n",
    "<img src=\"imgs/tutorail.webp\"  alt=\"drawing\" width=\"50%\"/>\n",
    "</center>"
   ]
  },
  {
   "cell_type": "markdown",
   "metadata": {},
   "source": [
    "# Fechas y horas nativas en Python: módulos `datetime` y ``dateutil``"
   ]
  },
  {
   "cell_type": "markdown",
   "metadata": {},
   "source": [
    "El módulo __datetime__ proporciona las clases para manejar fechas y horas. \n",
    "\n",
    "Las clases que existen son:\n",
    "\n",
    "* __datetime__ Fechas y horas de manera conjunta (mas, día, año, hora, minuto, segundo y microsegundo)\n",
    "\n",
    "* __data__ Fechas (mes, día, año)\n",
    "\n",
    "* __time__ Horas independientes de las fechas\n",
    "\n",
    "* __timedelta__ Un peridodo de tiempo\n",
    "\n",
    "* __tzinfo__ Clase para gestionar la zonas horarias"
   ]
  },
  {
   "cell_type": "code",
   "execution_count": 32,
   "metadata": {},
   "outputs": [],
   "source": [
    "#! pip install datetime\n",
    "from datetime import datetime, date, time, timedelta\n",
    "import pandas as pd"
   ]
  },
  {
   "cell_type": "markdown",
   "metadata": {},
   "source": [
    "Podemos crear distintos objetos tipo fecha, hora etc"
   ]
  },
  {
   "cell_type": "code",
   "execution_count": 27,
   "metadata": {},
   "outputs": [
    {
     "data": {
      "text/plain": [
       "datetime.date(2021, 1, 10)"
      ]
     },
     "execution_count": 27,
     "metadata": {},
     "output_type": "execute_result"
    }
   ],
   "source": [
    "# Create Date object\n",
    "date(year=2021, month=1, day=10)"
   ]
  },
  {
   "cell_type": "code",
   "execution_count": 28,
   "metadata": {},
   "outputs": [
    {
     "data": {
      "text/plain": [
       "datetime.time(14, 15, 25)"
      ]
     },
     "execution_count": 28,
     "metadata": {},
     "output_type": "execute_result"
    }
   ],
   "source": [
    "# Create Time object\n",
    "time(hour=14, minute=15, second=25)"
   ]
  },
  {
   "cell_type": "code",
   "execution_count": 29,
   "metadata": {},
   "outputs": [
    {
     "data": {
      "text/plain": [
       "datetime.datetime(2021, 1, 10, 14, 15, 25)"
      ]
     },
     "execution_count": 29,
     "metadata": {},
     "output_type": "execute_result"
    }
   ],
   "source": [
    "# Create Datetime object\n",
    "datetime(year=2021, month=1, day=10, hour=14, minute=15, second=25)"
   ]
  },
  {
   "cell_type": "code",
   "execution_count": null,
   "metadata": {},
   "outputs": [],
   "source": []
  },
  {
   "cell_type": "markdown",
   "metadata": {},
   "source": [
    "Podemos obtener la fecha y hora  de hoy"
   ]
  },
  {
   "cell_type": "code",
   "execution_count": 33,
   "metadata": {},
   "outputs": [
    {
     "name": "stdout",
     "output_type": "stream",
     "text": [
      "2022-09-11 16:34:01.310990\n"
     ]
    },
    {
     "data": {
      "text/plain": [
       "datetime.datetime"
      ]
     },
     "execution_count": 33,
     "metadata": {},
     "output_type": "execute_result"
    }
   ],
   "source": [
    "now = datetime.now()\n",
    "print(now)\n",
    "type(now)"
   ]
  },
  {
   "cell_type": "markdown",
   "metadata": {},
   "source": [
    "Podemos obtener el año, mes y día por separado"
   ]
  },
  {
   "cell_type": "code",
   "execution_count": 3,
   "metadata": {},
   "outputs": [
    {
     "data": {
      "text/plain": [
       "(2022, 9, 11)"
      ]
     },
     "execution_count": 3,
     "metadata": {},
     "output_type": "execute_result"
    }
   ],
   "source": [
    "now.year, now.month, now.day"
   ]
  },
  {
   "cell_type": "markdown",
   "metadata": {},
   "source": [
    "Generamos un objeto datetime a partir de el año, mes y día"
   ]
  },
  {
   "cell_type": "code",
   "execution_count": 14,
   "metadata": {},
   "outputs": [
    {
     "data": {
      "text/plain": [
       "datetime.datetime(1968, 5, 3, 0, 0)"
      ]
     },
     "execution_count": 14,
     "metadata": {},
     "output_type": "execute_result"
    }
   ],
   "source": [
    "fecha_naci = datetime(1968, 5, 3)\n",
    "fecha_naci"
   ]
  },
  {
   "cell_type": "code",
   "execution_count": 15,
   "metadata": {},
   "outputs": [
    {
     "data": {
      "text/plain": [
       "datetime.timedelta(days=19854, seconds=34906, microseconds=786075)"
      ]
     },
     "execution_count": 15,
     "metadata": {},
     "output_type": "execute_result"
    }
   ],
   "source": [
    "\n",
    "edad = (datetime.today() - fecha_naci)\n",
    "edad"
   ]
  },
  {
   "cell_type": "code",
   "execution_count": 16,
   "metadata": {},
   "outputs": [
    {
     "name": "stdout",
     "output_type": "stream",
     "text": [
      "54\n"
     ]
    }
   ],
   "source": [
    "print(datetime.today().year - fecha_naci.year)"
   ]
  },
  {
   "cell_type": "code",
   "execution_count": 10,
   "metadata": {},
   "outputs": [],
   "source": [
    "import pandas as pd"
   ]
  },
  {
   "cell_type": "code",
   "execution_count": 17,
   "metadata": {},
   "outputs": [
    {
     "data": {
      "text/plain": [
       "'Friday'"
      ]
     },
     "execution_count": 17,
     "metadata": {},
     "output_type": "execute_result"
    }
   ],
   "source": [
    "pd.to_datetime(fecha_naci).day_name()"
   ]
  },
  {
   "cell_type": "markdown",
   "metadata": {},
   "source": [
    "## Conversión entre datimes y strings"
   ]
  },
  {
   "cell_type": "markdown",
   "metadata": {},
   "source": [
    "El módulo datetime tiene dos métodos para pasar strings a fechas y viceversa:\n",
    "\n",
    "* __strptime:__ de string a DateTime object\n",
    "\n",
    "* __strftime:__ de DateTime object a string"
   ]
  },
  {
   "cell_type": "markdown",
   "metadata": {},
   "source": [
    "__String a DateTime__"
   ]
  },
  {
   "cell_type": "markdown",
   "metadata": {},
   "source": [
    "<left>\n",
    "<img src=\"imgs/strptime.png\"  alt=\"drawing\" width=\"30%\"/>\n",
    "</left>"
   ]
  },
  {
   "cell_type": "code",
   "execution_count": 5,
   "metadata": {},
   "outputs": [],
   "source": [
    "fecha = datetime.strptime('08-04-2021', '%d-%m-%Y')"
   ]
  },
  {
   "cell_type": "markdown",
   "metadata": {},
   "source": [
    "__DateTime a String__"
   ]
  },
  {
   "cell_type": "markdown",
   "metadata": {},
   "source": [
    "<left>\n",
    "<img src=\"imgs/strftime.png\"  alt=\"drawing\" width=\"30%\"/>\n",
    "</left>"
   ]
  },
  {
   "cell_type": "code",
   "execution_count": 6,
   "metadata": {},
   "outputs": [
    {
     "data": {
      "text/plain": [
       "'08/04/2021'"
      ]
     },
     "execution_count": 6,
     "metadata": {},
     "output_type": "execute_result"
    }
   ],
   "source": [
    "datetime.strftime(fecha, '%d/%m/%Y')"
   ]
  },
  {
   "cell_type": "markdown",
   "metadata": {},
   "source": [
    "__String to String__ en formato diferente"
   ]
  },
  {
   "cell_type": "markdown",
   "metadata": {},
   "source": [
    "<left>\n",
    "<img src=\"imgs/strtostr_time.png\"  alt=\"drawing\" width=\"50%\"/>\n",
    "</left>"
   ]
  },
  {
   "cell_type": "code",
   "execution_count": 8,
   "metadata": {},
   "outputs": [
    {
     "data": {
      "text/plain": [
       "'08/04/2021'"
      ]
     },
     "execution_count": 8,
     "metadata": {},
     "output_type": "execute_result"
    }
   ],
   "source": [
    "datetime.strptime('08-04-2021', '%d-%m-%Y').strftime('%d/%m/%Y')"
   ]
  },
  {
   "cell_type": "markdown",
   "metadata": {},
   "source": [
    "Convertir toda una lista"
   ]
  },
  {
   "cell_type": "code",
   "execution_count": 10,
   "metadata": {},
   "outputs": [
    {
     "data": {
      "text/plain": [
       "[datetime.datetime(2011, 7, 6, 0, 0),\n",
       " datetime.datetime(2011, 8, 6, 0, 0),\n",
       " datetime.datetime(2011, 9, 6, 0, 0)]"
      ]
     },
     "execution_count": 10,
     "metadata": {},
     "output_type": "execute_result"
    }
   ],
   "source": [
    "datestrs = ['7/6/2011', '8/6/2011', '9/6/2011']\n",
    "[datetime.strptime(x, '%m/%d/%Y') for x in datestrs]"
   ]
  },
  {
   "cell_type": "markdown",
   "metadata": {},
   "source": [
    "__Los códigos para dar formatos a las fechas y horas, son:__"
   ]
  },
  {
   "cell_type": "markdown",
   "metadata": {},
   "source": [
    "<left>\n",
    "<img src=\"imgs/formatos hora.png\"  alt=\"drawing\" width=\"50%\"/>\n",
    "</left>"
   ]
  },
  {
   "cell_type": "markdown",
   "metadata": {},
   "source": [
    "* Usando el módulo __dateutil__ Puedes parsear fechas usando strings con muchos formatos"
   ]
  },
  {
   "cell_type": "code",
   "execution_count": 11,
   "metadata": {},
   "outputs": [],
   "source": [
    "from dateutil.parser import parse"
   ]
  },
  {
   "cell_type": "code",
   "execution_count": 12,
   "metadata": {},
   "outputs": [
    {
     "data": {
      "text/plain": [
       "datetime.datetime(2011, 1, 3, 0, 0)"
      ]
     },
     "execution_count": 12,
     "metadata": {},
     "output_type": "execute_result"
    }
   ],
   "source": [
    "parse('2022-05-03')"
   ]
  },
  {
   "cell_type": "code",
   "execution_count": 15,
   "metadata": {},
   "outputs": [
    {
     "data": {
      "text/plain": [
       "datetime.datetime(1968, 5, 31, 22, 45)"
      ]
     },
     "execution_count": 15,
     "metadata": {},
     "output_type": "execute_result"
    }
   ],
   "source": [
    "parse('May 31, 1968 10:45 PM')"
   ]
  },
  {
   "cell_type": "code",
   "execution_count": 16,
   "metadata": {},
   "outputs": [
    {
     "data": {
      "text/plain": [
       "datetime.datetime(2021, 12, 6, 0, 0)"
      ]
     },
     "execution_count": 16,
     "metadata": {},
     "output_type": "execute_result"
    }
   ],
   "source": [
    "parse('6/12/2021', dayfirst=True)"
   ]
  },
  {
   "cell_type": "markdown",
   "metadata": {},
   "source": [
    "\n",
    "- El poder de  ``datetime`` y ``dateutil`` viene dado por su flexibilidad y sintaxis fácil.\n",
    "- Se pueden usar estos objetos y sus métodos para llevar a cabo casi cualquier operación. \n",
    "- Su limitación viene al trabajar con vectores grandes: las listas de objetos datetime de Python son menos eficiente comparado con pandas o numpy"
   ]
  },
  {
   "cell_type": "markdown",
   "metadata": {},
   "source": [
    "También se puede avanzar o retroceder desde una fecha usando __relativedelta__ del módulo dateutil"
   ]
  },
  {
   "cell_type": "code",
   "execution_count": 36,
   "metadata": {},
   "outputs": [],
   "source": [
    "from dateutil.relativedelta import relativedelta"
   ]
  },
  {
   "cell_type": "code",
   "execution_count": 39,
   "metadata": {},
   "outputs": [
    {
     "data": {
      "text/plain": [
       "datetime.datetime(2022, 9, 12, 16, 36, 22, 350922)"
      ]
     },
     "execution_count": 39,
     "metadata": {},
     "output_type": "execute_result"
    }
   ],
   "source": [
    "# Add one day\n",
    "datetime.today() + timedelta(days=1)"
   ]
  },
  {
   "cell_type": "code",
   "execution_count": null,
   "metadata": {},
   "outputs": [
    {
     "data": {
      "text/plain": [
       "datetime.datetime(2022, 10, 11, 16, 34, 1, 310990)"
      ]
     },
     "metadata": {},
     "output_type": "display_data"
    }
   ],
   "source": [
    "# Add one month\n",
    "now+relativedelta(months=+1)"
   ]
  },
  {
   "cell_type": "markdown",
   "metadata": {},
   "source": [
    "## Time series en Pandas"
   ]
  },
  {
   "cell_type": "markdown",
   "metadata": {},
   "source": [
    "- Pandas tiene los objetos ``Timestamp`` que combinan la facilidad de  ``datetime`` y ``dateutil`` con una implementación vectorizada eficiente.\n",
    "\n",
    "- Usando los objetos ``Timestamp``, pandas construye un ``DatetimeIndex``  para ser usado como índice en ``Series`` o ``DataFrame``.\n",
    "\n",
    "- Las clases de Pandas para series temporales son:\n",
    "\n",
    "    * ``Timestamp``: reemplazo de ``datetime``, basado en el sistema más eficiente de ``numpy.datetime64``. La estructura del índice asociada será ``DatetimeIndex``.\n",
    "    * ``Period``: para periodos de tiempo. La estructura del índice asociado es ``PeriodIndex``.\n",
    "    * ``Timedelta``: para variación de tiempo o duración (más eficiente que ``datetime.timedelta``). La estructura del índice asociado es ``TimedeltaIndex``."
   ]
  },
  {
   "cell_type": "markdown",
   "metadata": {},
   "source": [
    "- Los tipos más básicos son ``Timestamp`` y ``DatetimeIndex``.\n",
    "\n",
    "- La forma más común de crear objetos de este tipo es usando la función ``pd.to_datetime()`` .\n",
    "\n",
    "- Puede parsear una gran variedad de formatos.\n",
    " \n",
    "- Pasar una fecha a esta función produce un ``Timestamp``; pasar una serie de fechas por defecto devuelve un ``DatetimeIndex``:"
   ]
  },
  {
   "cell_type": "code",
   "execution_count": 100,
   "metadata": {},
   "outputs": [],
   "source": [
    "power_data = pd.read_csv(\"data/Power_consumption.csv\")"
   ]
  },
  {
   "cell_type": "code",
   "execution_count": 95,
   "metadata": {},
   "outputs": [
    {
     "name": "stdout",
     "output_type": "stream",
     "text": [
      "<class 'pandas.core.frame.DataFrame'>\n",
      "RangeIndex: 4383 entries, 0 to 4382\n",
      "Data columns (total 5 columns):\n",
      " #   Column       Non-Null Count  Dtype  \n",
      "---  ------       --------------  -----  \n",
      " 0   Date         4383 non-null   object \n",
      " 1   Time         4383 non-null   object \n",
      " 2   Consumption  4383 non-null   float64\n",
      " 3   Wind         2920 non-null   float64\n",
      " 4   Solar        2188 non-null   float64\n",
      "dtypes: float64(3), object(2)\n",
      "memory usage: 171.3+ KB\n"
     ]
    }
   ],
   "source": [
    "power_data.info()"
   ]
  },
  {
   "cell_type": "code",
   "execution_count": 96,
   "metadata": {},
   "outputs": [
    {
     "data": {
      "text/plain": [
       "RangeIndex(start=0, stop=4383, step=1)"
      ]
     },
     "execution_count": 96,
     "metadata": {},
     "output_type": "execute_result"
    }
   ],
   "source": [
    "power_data.index"
   ]
  },
  {
   "cell_type": "code",
   "execution_count": 108,
   "metadata": {},
   "outputs": [
    {
     "name": "stdout",
     "output_type": "stream",
     "text": [
      "<class 'pandas.core.frame.DataFrame'>\n",
      "DatetimeIndex: 4383 entries, 2006-01-01 16:34:01.310990 to 2017-12-31 06:34:01.310990\n",
      "Data columns (total 5 columns):\n",
      " #   Column       Non-Null Count  Dtype         \n",
      "---  ------       --------------  -----         \n",
      " 0   Date         4383 non-null   datetime64[ns]\n",
      " 1   Time         4383 non-null   datetime64[ns]\n",
      " 2   Consumption  4383 non-null   float64       \n",
      " 3   Wind         2920 non-null   float64       \n",
      " 4   Solar        2188 non-null   float64       \n",
      "dtypes: datetime64[ns](2), float64(3)\n",
      "memory usage: 205.5 KB\n"
     ]
    }
   ],
   "source": [
    "power_data['Date'] = pd.to_datetime(power_data['Date'])\n",
    "power_data['Time'] = pd.to_datetime(power_data['Time'])\n",
    "power_data.info()"
   ]
  },
  {
   "cell_type": "code",
   "execution_count": 109,
   "metadata": {},
   "outputs": [
    {
     "name": "stdout",
     "output_type": "stream",
     "text": [
      "<class 'pandas.core.frame.DataFrame'>\n",
      "DatetimeIndex: 4383 entries, 2006-01-01 16:34:01.310990 to 2017-12-31 06:34:01.310990\n",
      "Data columns (total 5 columns):\n",
      " #   Column       Non-Null Count  Dtype         \n",
      "---  ------       --------------  -----         \n",
      " 0   Date         4383 non-null   datetime64[ns]\n",
      " 1   Time         4383 non-null   datetime64[ns]\n",
      " 2   Consumption  4383 non-null   float64       \n",
      " 3   Wind         2920 non-null   float64       \n",
      " 4   Solar        2188 non-null   float64       \n",
      "dtypes: datetime64[ns](2), float64(3)\n",
      "memory usage: 205.5 KB\n"
     ]
    }
   ],
   "source": [
    "power_data.info()"
   ]
  },
  {
   "cell_type": "code",
   "execution_count": 112,
   "metadata": {},
   "outputs": [],
   "source": [
    "# Extract the Day, Month and Year\n",
    "# Year\n",
    "power_data['year'] = power_data.Date.dt.year\n",
    "# Month\n",
    "power_data['month'] = power_data.Date.dt.month\n",
    "# Day\n",
    "power_data['day'] = power_data.Date.dt.day"
   ]
  },
  {
   "cell_type": "code",
   "execution_count": 103,
   "metadata": {},
   "outputs": [],
   "source": [
    "power_data = pd.read_csv(\"data/Power_consumption.csv\")"
   ]
  },
  {
   "cell_type": "code",
   "execution_count": 104,
   "metadata": {},
   "outputs": [
    {
     "data": {
      "text/plain": [
       "DatetimeIndex(['2006-01-01 16:34:01.310990', '2006-01-02 17:34:01.310990',\n",
       "               '2006-01-03 18:34:01.310990', '2006-01-04 19:34:01.310990',\n",
       "               '2006-01-05 20:34:01.310990', '2006-01-06 21:34:01.310990',\n",
       "               '2006-01-07 22:34:01.310990', '2006-01-08 23:34:01.310990',\n",
       "               '2006-01-09 00:34:01.310990', '2006-01-10 01:34:01.310990',\n",
       "               ...\n",
       "               '2017-12-22 21:34:01.310990', '2017-12-23 22:34:01.310990',\n",
       "               '2017-12-24 23:34:01.310990', '2017-12-25 00:34:01.310990',\n",
       "               '2017-12-26 01:34:01.310990', '2017-12-27 02:34:01.310990',\n",
       "               '2017-12-28 03:34:01.310990', '2017-12-29 04:34:01.310990',\n",
       "               '2017-12-30 05:34:01.310990', '2017-12-31 06:34:01.310990'],\n",
       "              dtype='datetime64[ns]', name='Datetime', length=4383, freq=None)"
      ]
     },
     "execution_count": 104,
     "metadata": {},
     "output_type": "execute_result"
    }
   ],
   "source": [
    "power_data['Datetime'] = pd.to_datetime(power_data['Date'] + ' ' + power_data['Time'])\n",
    "power_data = power_data.set_index('Datetime')\n",
    "power_data.index"
   ]
  },
  {
   "cell_type": "code",
   "execution_count": 75,
   "metadata": {},
   "outputs": [],
   "source": [
    "power_data_dates = pd.read_csv('data/Power_consumption.csv', parse_dates = [['Date','Time']], index_col = 0)"
   ]
  },
  {
   "cell_type": "code",
   "execution_count": 79,
   "metadata": {},
   "outputs": [
    {
     "data": {
      "text/plain": [
       "DatetimeIndex(['2006-01-01 16:34:01.310990', '2006-01-02 17:34:01.310990',\n",
       "               '2006-01-03 18:34:01.310990', '2006-01-04 19:34:01.310990',\n",
       "               '2006-01-05 20:34:01.310990', '2006-01-06 21:34:01.310990',\n",
       "               '2006-01-07 22:34:01.310990', '2006-01-08 23:34:01.310990',\n",
       "               '2006-01-09 00:34:01.310990', '2006-01-10 01:34:01.310990',\n",
       "               ...\n",
       "               '2017-12-22 21:34:01.310990', '2017-12-23 22:34:01.310990',\n",
       "               '2017-12-24 23:34:01.310990', '2017-12-25 00:34:01.310990',\n",
       "               '2017-12-26 01:34:01.310990', '2017-12-27 02:34:01.310990',\n",
       "               '2017-12-28 03:34:01.310990', '2017-12-29 04:34:01.310990',\n",
       "               '2017-12-30 05:34:01.310990', '2017-12-31 06:34:01.310990'],\n",
       "              dtype='datetime64[ns]', name='Date_Time', length=4383, freq=None)"
      ]
     },
     "execution_count": 79,
     "metadata": {},
     "output_type": "execute_result"
    }
   ],
   "source": [
    "power_data_dates.index"
   ]
  },
  {
   "cell_type": "code",
   "execution_count": null,
   "metadata": {},
   "outputs": [],
   "source": []
  }
 ],
 "metadata": {
  "kernelspec": {
   "display_name": "venv",
   "language": "python",
   "name": "venv"
  },
  "language_info": {
   "codemirror_mode": {
    "name": "ipython",
    "version": 3
   },
   "file_extension": ".py",
   "mimetype": "text/x-python",
   "name": "python",
   "nbconvert_exporter": "python",
   "pygments_lexer": "ipython3",
   "version": "3.9.13"
  },
  "orig_nbformat": 4
 },
 "nbformat": 4,
 "nbformat_minor": 2
}
