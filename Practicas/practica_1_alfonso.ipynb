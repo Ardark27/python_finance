{
 "cells": [
  {
   "cell_type": "markdown",
   "metadata": {},
   "source": [
    "## Ejercicios"
   ]
  },
  {
   "cell_type": "markdown",
   "metadata": {},
   "source": [
    "- Importa el archivo datos_1.csv, y datos_2.csv"
   ]
  },
  {
   "cell_type": "code",
   "execution_count": 1,
   "metadata": {},
   "outputs": [],
   "source": [
    "import pandas as pd\n",
    "import numpy as np\n",
    "import matplotlib.pyplot as plt"
   ]
  },
  {
   "cell_type": "code",
   "execution_count": 2,
   "metadata": {},
   "outputs": [
    {
     "name": "stdout",
     "output_type": "stream",
     "text": [
      "<class 'pandas.core.frame.DataFrame'>\n",
      "RangeIndex: 7706 entries, 0 to 7705\n",
      "Data columns (total 3 columns):\n",
      " #   Column  Non-Null Count  Dtype         \n",
      "---  ------  --------------  -----         \n",
      " 0   date    7706 non-null   datetime64[ns]\n",
      " 1   close   7704 non-null   float64       \n",
      " 2   ticker  7705 non-null   object        \n",
      "dtypes: datetime64[ns](1), float64(1), object(1)\n",
      "memory usage: 180.7+ KB\n"
     ]
    }
   ],
   "source": [
    "datos1 = pd.read_csv('datos_1.csv', parse_dates=['date'], usecols=['date', 'close', 'ticker'])\n",
    "datos1.info()"
   ]
  },
  {
   "cell_type": "code",
   "execution_count": 3,
   "metadata": {},
   "outputs": [
    {
     "name": "stdout",
     "output_type": "stream",
     "text": [
      "<class 'pandas.core.frame.DataFrame'>\n",
      "RangeIndex: 4167 entries, 0 to 4166\n",
      "Data columns (total 3 columns):\n",
      " #   Column  Non-Null Count  Dtype         \n",
      "---  ------  --------------  -----         \n",
      " 0   date    4167 non-null   datetime64[ns]\n",
      " 1   close   4166 non-null   float64       \n",
      " 2   ticker  4166 non-null   object        \n",
      "dtypes: datetime64[ns](1), float64(1), object(1)\n",
      "memory usage: 97.8+ KB\n"
     ]
    }
   ],
   "source": [
    "datos2 = pd.read_csv('datos_2.csv', parse_dates=['date'], usecols=['date', 'close', 'ticker'])\n",
    "datos2.info()"
   ]
  },
  {
   "cell_type": "code",
   "execution_count": 4,
   "metadata": {},
   "outputs": [
    {
     "data": {
      "text/html": [
       "<div>\n",
       "<style scoped>\n",
       "    .dataframe tbody tr th:only-of-type {\n",
       "        vertical-align: middle;\n",
       "    }\n",
       "\n",
       "    .dataframe tbody tr th {\n",
       "        vertical-align: top;\n",
       "    }\n",
       "\n",
       "    .dataframe thead th {\n",
       "        text-align: right;\n",
       "    }\n",
       "</style>\n",
       "<table border=\"1\" class=\"dataframe\">\n",
       "  <thead>\n",
       "    <tr style=\"text-align: right;\">\n",
       "      <th></th>\n",
       "      <th>date</th>\n",
       "      <th>close</th>\n",
       "      <th>ticker</th>\n",
       "    </tr>\n",
       "  </thead>\n",
       "  <tbody>\n",
       "    <tr>\n",
       "      <th>0</th>\n",
       "      <td>2003-01-02</td>\n",
       "      <td>7.656343</td>\n",
       "      <td>NTGY</td>\n",
       "    </tr>\n",
       "    <tr>\n",
       "      <th>1</th>\n",
       "      <td>2003-01-03</td>\n",
       "      <td>7.559982</td>\n",
       "      <td>NTGY</td>\n",
       "    </tr>\n",
       "    <tr>\n",
       "      <th>2</th>\n",
       "      <td>2003-01-07</td>\n",
       "      <td>7.682624</td>\n",
       "      <td>NTGY</td>\n",
       "    </tr>\n",
       "    <tr>\n",
       "      <th>3</th>\n",
       "      <td>2003-01-08</td>\n",
       "      <td>7.884107</td>\n",
       "      <td>NTGY</td>\n",
       "    </tr>\n",
       "    <tr>\n",
       "      <th>4</th>\n",
       "      <td>2003-01-09</td>\n",
       "      <td>7.945427</td>\n",
       "      <td>NTGY</td>\n",
       "    </tr>\n",
       "  </tbody>\n",
       "</table>\n",
       "</div>"
      ],
      "text/plain": [
       "        date     close ticker\n",
       "0 2003-01-02  7.656343   NTGY\n",
       "1 2003-01-03  7.559982   NTGY\n",
       "2 2003-01-07  7.682624   NTGY\n",
       "3 2003-01-08  7.884107   NTGY\n",
       "4 2003-01-09  7.945427   NTGY"
      ]
     },
     "execution_count": 4,
     "metadata": {},
     "output_type": "execute_result"
    }
   ],
   "source": [
    "datos1.head()"
   ]
  },
  {
   "cell_type": "markdown",
   "metadata": {},
   "source": [
    "- Crea un dataframe en el que se incluyan los datos de ambos archivos"
   ]
  },
  {
   "cell_type": "code",
   "execution_count": 5,
   "metadata": {},
   "outputs": [
    {
     "name": "stdout",
     "output_type": "stream",
     "text": [
      "<class 'pandas.core.frame.DataFrame'>\n",
      "Int64Index: 11873 entries, 0 to 4166\n",
      "Data columns (total 3 columns):\n",
      " #   Column  Non-Null Count  Dtype         \n",
      "---  ------  --------------  -----         \n",
      " 0   date    11873 non-null  datetime64[ns]\n",
      " 1   close   11870 non-null  float64       \n",
      " 2   ticker  11871 non-null  object        \n",
      "dtypes: datetime64[ns](1), float64(1), object(1)\n",
      "memory usage: 371.0+ KB\n"
     ]
    }
   ],
   "source": [
    "datos = pd.concat([datos1, datos2])\n",
    "datos.info()"
   ]
  },
  {
   "cell_type": "code",
   "execution_count": 6,
   "metadata": {},
   "outputs": [
    {
     "data": {
      "text/html": [
       "<div>\n",
       "<style scoped>\n",
       "    .dataframe tbody tr th:only-of-type {\n",
       "        vertical-align: middle;\n",
       "    }\n",
       "\n",
       "    .dataframe tbody tr th {\n",
       "        vertical-align: top;\n",
       "    }\n",
       "\n",
       "    .dataframe thead th {\n",
       "        text-align: right;\n",
       "    }\n",
       "</style>\n",
       "<table border=\"1\" class=\"dataframe\">\n",
       "  <thead>\n",
       "    <tr style=\"text-align: right;\">\n",
       "      <th></th>\n",
       "      <th>date</th>\n",
       "      <th>close</th>\n",
       "      <th>ticker</th>\n",
       "    </tr>\n",
       "  </thead>\n",
       "  <tbody>\n",
       "    <tr>\n",
       "      <th>4185</th>\n",
       "      <td>2005-07-28</td>\n",
       "      <td>3.135777</td>\n",
       "      <td>NaN</td>\n",
       "    </tr>\n",
       "    <tr>\n",
       "      <th>17</th>\n",
       "      <td>2003-01-28</td>\n",
       "      <td>1.952477</td>\n",
       "      <td>NaN</td>\n",
       "    </tr>\n",
       "  </tbody>\n",
       "</table>\n",
       "</div>"
      ],
      "text/plain": [
       "           date     close ticker\n",
       "4185 2005-07-28  3.135777    NaN\n",
       "17   2003-01-28  1.952477    NaN"
      ]
     },
     "execution_count": 6,
     "metadata": {},
     "output_type": "execute_result"
    }
   ],
   "source": [
    "datos[datos['ticker'].isna()]"
   ]
  },
  {
   "cell_type": "markdown",
   "metadata": {},
   "source": [
    "Puedo quedarme con aquellas filas en las que ticker is not na"
   ]
  },
  {
   "cell_type": "code",
   "execution_count": 7,
   "metadata": {},
   "outputs": [
    {
     "name": "stdout",
     "output_type": "stream",
     "text": [
      "<class 'pandas.core.frame.DataFrame'>\n",
      "Int64Index: 11871 entries, 0 to 4166\n",
      "Data columns (total 3 columns):\n",
      " #   Column  Non-Null Count  Dtype         \n",
      "---  ------  --------------  -----         \n",
      " 0   date    11871 non-null  datetime64[ns]\n",
      " 1   close   11868 non-null  float64       \n",
      " 2   ticker  11871 non-null  object        \n",
      "dtypes: datetime64[ns](1), float64(1), object(1)\n",
      "memory usage: 371.0+ KB\n"
     ]
    }
   ],
   "source": [
    "datos = datos[datos['ticker'].notna()]\n",
    "datos.info()"
   ]
  },
  {
   "cell_type": "markdown",
   "metadata": {},
   "source": [
    "Puedo rellenar los valores de ticker con el valor de ticker anterior"
   ]
  },
  {
   "cell_type": "code",
   "execution_count": 8,
   "metadata": {},
   "outputs": [
    {
     "name": "stdout",
     "output_type": "stream",
     "text": [
      "<class 'pandas.core.frame.DataFrame'>\n",
      "Int64Index: 11873 entries, 0 to 4166\n",
      "Data columns (total 3 columns):\n",
      " #   Column  Non-Null Count  Dtype         \n",
      "---  ------  --------------  -----         \n",
      " 0   date    11873 non-null  datetime64[ns]\n",
      " 1   close   11870 non-null  float64       \n",
      " 2   ticker  11871 non-null  object        \n",
      "dtypes: datetime64[ns](1), float64(1), object(1)\n",
      "memory usage: 371.0+ KB\n"
     ]
    }
   ],
   "source": [
    "datos = pd.concat([datos1, datos2])\n",
    "datos.info()"
   ]
  },
  {
   "cell_type": "code",
   "execution_count": 9,
   "metadata": {},
   "outputs": [
    {
     "name": "stdout",
     "output_type": "stream",
     "text": [
      "<class 'pandas.core.frame.DataFrame'>\n",
      "Int64Index: 11873 entries, 0 to 4166\n",
      "Data columns (total 3 columns):\n",
      " #   Column  Non-Null Count  Dtype         \n",
      "---  ------  --------------  -----         \n",
      " 0   date    11873 non-null  datetime64[ns]\n",
      " 1   close   11870 non-null  float64       \n",
      " 2   ticker  11873 non-null  object        \n",
      "dtypes: datetime64[ns](1), float64(1), object(1)\n",
      "memory usage: 371.0+ KB\n"
     ]
    }
   ],
   "source": [
    "datos['ticker'].fillna(method='ffill', inplace=True)\n",
    "datos.info()"
   ]
  },
  {
   "cell_type": "markdown",
   "metadata": {},
   "source": [
    "- Con el dataframe anterior crea un nuevo df llamado **stocks_df**, en el que tengamos el ticker como nombre de columna, las fechas como índice y los valores sean el cierre"
   ]
  },
  {
   "cell_type": "code",
   "execution_count": 10,
   "metadata": {},
   "outputs": [
    {
     "name": "stdout",
     "output_type": "stream",
     "text": [
      "<class 'pandas.core.frame.DataFrame'>\n",
      "DatetimeIndex: 4167 entries, 2003-01-02 to 2019-05-15\n",
      "Data columns (total 3 columns):\n",
      " #   Column  Non-Null Count  Dtype  \n",
      "---  ------  --------------  -----  \n",
      " 0   NTGY    4167 non-null   float64\n",
      " 1   REE     3537 non-null   float64\n",
      " 2   SAN     4166 non-null   float64\n",
      "dtypes: float64(3)\n",
      "memory usage: 130.2 KB\n"
     ]
    }
   ],
   "source": [
    "stocks_df = datos.pivot(columns='ticker', values='close', index='date')\n",
    "stocks_df.info()"
   ]
  },
  {
   "cell_type": "markdown",
   "metadata": {},
   "source": [
    "- Limpia los datos de la manera que creas conveniente, haz una descripción de los datos antes y después de la limpieza. Explica sus diferencias"
   ]
  },
  {
   "cell_type": "markdown",
   "metadata": {},
   "source": [
    "Primero veo los NaN existentes"
   ]
  },
  {
   "cell_type": "code",
   "execution_count": 11,
   "metadata": {},
   "outputs": [
    {
     "data": {
      "text/html": [
       "<div>\n",
       "<style scoped>\n",
       "    .dataframe tbody tr th:only-of-type {\n",
       "        vertical-align: middle;\n",
       "    }\n",
       "\n",
       "    .dataframe tbody tr th {\n",
       "        vertical-align: top;\n",
       "    }\n",
       "\n",
       "    .dataframe thead th {\n",
       "        text-align: right;\n",
       "    }\n",
       "</style>\n",
       "<table border=\"1\" class=\"dataframe\">\n",
       "  <thead>\n",
       "    <tr style=\"text-align: right;\">\n",
       "      <th>ticker</th>\n",
       "      <th>NTGY</th>\n",
       "      <th>REE</th>\n",
       "      <th>SAN</th>\n",
       "    </tr>\n",
       "    <tr>\n",
       "      <th>date</th>\n",
       "      <th></th>\n",
       "      <th></th>\n",
       "      <th></th>\n",
       "    </tr>\n",
       "  </thead>\n",
       "  <tbody>\n",
       "    <tr>\n",
       "      <th>2003-01-02</th>\n",
       "      <td>7.656343</td>\n",
       "      <td>NaN</td>\n",
       "      <td>2.309851</td>\n",
       "    </tr>\n",
       "    <tr>\n",
       "      <th>2003-01-03</th>\n",
       "      <td>7.559982</td>\n",
       "      <td>NaN</td>\n",
       "      <td>2.222686</td>\n",
       "    </tr>\n",
       "    <tr>\n",
       "      <th>2003-01-07</th>\n",
       "      <td>7.682624</td>\n",
       "      <td>NaN</td>\n",
       "      <td>2.309851</td>\n",
       "    </tr>\n",
       "    <tr>\n",
       "      <th>2003-01-08</th>\n",
       "      <td>7.884107</td>\n",
       "      <td>NaN</td>\n",
       "      <td>2.309851</td>\n",
       "    </tr>\n",
       "    <tr>\n",
       "      <th>2003-01-09</th>\n",
       "      <td>7.945427</td>\n",
       "      <td>NaN</td>\n",
       "      <td>2.309851</td>\n",
       "    </tr>\n",
       "    <tr>\n",
       "      <th>...</th>\n",
       "      <td>...</td>\n",
       "      <td>...</td>\n",
       "      <td>...</td>\n",
       "    </tr>\n",
       "    <tr>\n",
       "      <th>2005-06-29</th>\n",
       "      <td>10.380740</td>\n",
       "      <td>NaN</td>\n",
       "      <td>3.521433</td>\n",
       "    </tr>\n",
       "    <tr>\n",
       "      <th>2005-06-30</th>\n",
       "      <td>10.415781</td>\n",
       "      <td>NaN</td>\n",
       "      <td>3.512716</td>\n",
       "    </tr>\n",
       "    <tr>\n",
       "      <th>2005-07-13</th>\n",
       "      <td>10.626024</td>\n",
       "      <td>NaN</td>\n",
       "      <td>3.626030</td>\n",
       "    </tr>\n",
       "    <tr>\n",
       "      <th>2005-08-03</th>\n",
       "      <td>10.643544</td>\n",
       "      <td>NaN</td>\n",
       "      <td>3.748059</td>\n",
       "    </tr>\n",
       "    <tr>\n",
       "      <th>2005-09-13</th>\n",
       "      <td>10.293139</td>\n",
       "      <td>NaN</td>\n",
       "      <td>3.791641</td>\n",
       "    </tr>\n",
       "  </tbody>\n",
       "</table>\n",
       "<p>630 rows × 3 columns</p>\n",
       "</div>"
      ],
      "text/plain": [
       "ticker           NTGY  REE       SAN\n",
       "date                                \n",
       "2003-01-02   7.656343  NaN  2.309851\n",
       "2003-01-03   7.559982  NaN  2.222686\n",
       "2003-01-07   7.682624  NaN  2.309851\n",
       "2003-01-08   7.884107  NaN  2.309851\n",
       "2003-01-09   7.945427  NaN  2.309851\n",
       "...               ...  ...       ...\n",
       "2005-06-29  10.380740  NaN  3.521433\n",
       "2005-06-30  10.415781  NaN  3.512716\n",
       "2005-07-13  10.626024  NaN  3.626030\n",
       "2005-08-03  10.643544  NaN  3.748059\n",
       "2005-09-13  10.293139  NaN  3.791641\n",
       "\n",
       "[630 rows x 3 columns]"
      ]
     },
     "execution_count": 11,
     "metadata": {},
     "output_type": "execute_result"
    }
   ],
   "source": [
    "stocks_df[stocks_df.isna().any(axis=1)]"
   ]
  },
  {
   "cell_type": "markdown",
   "metadata": {},
   "source": [
    "Veo cuál es el primer valor no NaN de cada columna"
   ]
  },
  {
   "cell_type": "code",
   "execution_count": 12,
   "metadata": {},
   "outputs": [
    {
     "data": {
      "text/plain": [
       "ticker\n",
       "NTGY   2003-01-02\n",
       "REE    2005-07-01\n",
       "SAN    2003-01-02\n",
       "dtype: datetime64[ns]"
      ]
     },
     "execution_count": 12,
     "metadata": {},
     "output_type": "execute_result"
    }
   ],
   "source": [
    "stocks_df.apply(pd.Series.first_valid_index)"
   ]
  },
  {
   "cell_type": "markdown",
   "metadata": {},
   "source": [
    "Elimino las filas hasta el primer valor de REE"
   ]
  },
  {
   "cell_type": "code",
   "execution_count": 13,
   "metadata": {},
   "outputs": [],
   "source": [
    "stocks_df = stocks_df.loc['2005-07-01':]"
   ]
  },
  {
   "cell_type": "markdown",
   "metadata": {},
   "source": [
    "Busco si hay nuevos NaN"
   ]
  },
  {
   "cell_type": "code",
   "execution_count": 14,
   "metadata": {},
   "outputs": [
    {
     "data": {
      "text/plain": [
       "ticker\n",
       "NTGY    0\n",
       "REE     3\n",
       "SAN     0\n",
       "dtype: int64"
      ]
     },
     "execution_count": 14,
     "metadata": {},
     "output_type": "execute_result"
    }
   ],
   "source": [
    "stocks_df.isna().sum()"
   ]
  },
  {
   "cell_type": "code",
   "execution_count": 15,
   "metadata": {},
   "outputs": [
    {
     "data": {
      "text/html": [
       "<div>\n",
       "<style scoped>\n",
       "    .dataframe tbody tr th:only-of-type {\n",
       "        vertical-align: middle;\n",
       "    }\n",
       "\n",
       "    .dataframe tbody tr th {\n",
       "        vertical-align: top;\n",
       "    }\n",
       "\n",
       "    .dataframe thead th {\n",
       "        text-align: right;\n",
       "    }\n",
       "</style>\n",
       "<table border=\"1\" class=\"dataframe\">\n",
       "  <thead>\n",
       "    <tr style=\"text-align: right;\">\n",
       "      <th>ticker</th>\n",
       "      <th>NTGY</th>\n",
       "      <th>REE</th>\n",
       "      <th>SAN</th>\n",
       "    </tr>\n",
       "    <tr>\n",
       "      <th>date</th>\n",
       "      <th></th>\n",
       "      <th></th>\n",
       "      <th></th>\n",
       "    </tr>\n",
       "  </thead>\n",
       "  <tbody>\n",
       "    <tr>\n",
       "      <th>2005-07-13</th>\n",
       "      <td>10.626024</td>\n",
       "      <td>NaN</td>\n",
       "      <td>3.626030</td>\n",
       "    </tr>\n",
       "    <tr>\n",
       "      <th>2005-08-03</th>\n",
       "      <td>10.643544</td>\n",
       "      <td>NaN</td>\n",
       "      <td>3.748059</td>\n",
       "    </tr>\n",
       "    <tr>\n",
       "      <th>2005-09-13</th>\n",
       "      <td>10.293139</td>\n",
       "      <td>NaN</td>\n",
       "      <td>3.791641</td>\n",
       "    </tr>\n",
       "  </tbody>\n",
       "</table>\n",
       "</div>"
      ],
      "text/plain": [
       "ticker           NTGY  REE       SAN\n",
       "date                                \n",
       "2005-07-13  10.626024  NaN  3.626030\n",
       "2005-08-03  10.643544  NaN  3.748059\n",
       "2005-09-13  10.293139  NaN  3.791641"
      ]
     },
     "execution_count": 15,
     "metadata": {},
     "output_type": "execute_result"
    }
   ],
   "source": [
    "stocks_df[stocks_df.isna().any(axis=1)]"
   ]
  },
  {
   "cell_type": "markdown",
   "metadata": {},
   "source": [
    "Como son pocos valores y no consecutivos, los relleno usando el método ffill"
   ]
  },
  {
   "cell_type": "code",
   "execution_count": 16,
   "metadata": {},
   "outputs": [],
   "source": [
    "stocks_df.fillna(method='ffill', inplace=True)"
   ]
  },
  {
   "cell_type": "code",
   "execution_count": 17,
   "metadata": {},
   "outputs": [
    {
     "data": {
      "text/plain": [
       "ticker\n",
       "NTGY    0\n",
       "REE     0\n",
       "SAN     0\n",
       "dtype: int64"
      ]
     },
     "execution_count": 17,
     "metadata": {},
     "output_type": "execute_result"
    }
   ],
   "source": [
    "stocks_df.isna().sum()"
   ]
  },
  {
   "cell_type": "code",
   "execution_count": 18,
   "metadata": {},
   "outputs": [
    {
     "name": "stdout",
     "output_type": "stream",
     "text": [
      "<class 'pandas.core.frame.DataFrame'>\n",
      "DatetimeIndex: 3540 entries, 2005-07-01 to 2019-05-15\n",
      "Data columns (total 3 columns):\n",
      " #   Column  Non-Null Count  Dtype  \n",
      "---  ------  --------------  -----  \n",
      " 0   NTGY    3540 non-null   float64\n",
      " 1   REE     3540 non-null   float64\n",
      " 2   SAN     3540 non-null   float64\n",
      "dtypes: float64(3)\n",
      "memory usage: 110.6 KB\n"
     ]
    }
   ],
   "source": [
    "stocks_df.info()"
   ]
  },
  {
   "cell_type": "markdown",
   "metadata": {},
   "source": [
    "- Calcula los retornos diarios (porcetuales y logarítmicos) de los datos."
   ]
  },
  {
   "cell_type": "code",
   "execution_count": 19,
   "metadata": {},
   "outputs": [
    {
     "data": {
      "text/html": [
       "<div>\n",
       "<style scoped>\n",
       "    .dataframe tbody tr th:only-of-type {\n",
       "        vertical-align: middle;\n",
       "    }\n",
       "\n",
       "    .dataframe tbody tr th {\n",
       "        vertical-align: top;\n",
       "    }\n",
       "\n",
       "    .dataframe thead th {\n",
       "        text-align: right;\n",
       "    }\n",
       "</style>\n",
       "<table border=\"1\" class=\"dataframe\">\n",
       "  <thead>\n",
       "    <tr style=\"text-align: right;\">\n",
       "      <th>ticker</th>\n",
       "      <th>NTGY</th>\n",
       "      <th>REE</th>\n",
       "      <th>SAN</th>\n",
       "    </tr>\n",
       "    <tr>\n",
       "      <th>date</th>\n",
       "      <th></th>\n",
       "      <th></th>\n",
       "      <th></th>\n",
       "    </tr>\n",
       "  </thead>\n",
       "  <tbody>\n",
       "    <tr>\n",
       "      <th>2005-07-04</th>\n",
       "      <td>-0.006633</td>\n",
       "      <td>-0.012725</td>\n",
       "      <td>-0.002439</td>\n",
       "    </tr>\n",
       "    <tr>\n",
       "      <th>2005-07-05</th>\n",
       "      <td>0.000835</td>\n",
       "      <td>-0.005333</td>\n",
       "      <td>0.002445</td>\n",
       "    </tr>\n",
       "    <tr>\n",
       "      <th>2005-07-06</th>\n",
       "      <td>-0.002502</td>\n",
       "      <td>-0.008490</td>\n",
       "      <td>0.000000</td>\n",
       "    </tr>\n",
       "    <tr>\n",
       "      <th>2005-07-07</th>\n",
       "      <td>-0.022575</td>\n",
       "      <td>-0.008562</td>\n",
       "      <td>-0.021951</td>\n",
       "    </tr>\n",
       "    <tr>\n",
       "      <th>2005-07-08</th>\n",
       "      <td>0.019675</td>\n",
       "      <td>0.016364</td>\n",
       "      <td>0.019950</td>\n",
       "    </tr>\n",
       "  </tbody>\n",
       "</table>\n",
       "</div>"
      ],
      "text/plain": [
       "ticker          NTGY       REE       SAN\n",
       "date                                    \n",
       "2005-07-04 -0.006633 -0.012725 -0.002439\n",
       "2005-07-05  0.000835 -0.005333  0.002445\n",
       "2005-07-06 -0.002502 -0.008490  0.000000\n",
       "2005-07-07 -0.022575 -0.008562 -0.021951\n",
       "2005-07-08  0.019675  0.016364  0.019950"
      ]
     },
     "execution_count": 19,
     "metadata": {},
     "output_type": "execute_result"
    }
   ],
   "source": [
    "stocks_df_ret = stocks_df.pct_change().dropna()\n",
    "stocks_df_ret.head()"
   ]
  },
  {
   "cell_type": "code",
   "execution_count": 20,
   "metadata": {},
   "outputs": [
    {
     "data": {
      "text/html": [
       "<div>\n",
       "<style scoped>\n",
       "    .dataframe tbody tr th:only-of-type {\n",
       "        vertical-align: middle;\n",
       "    }\n",
       "\n",
       "    .dataframe tbody tr th {\n",
       "        vertical-align: top;\n",
       "    }\n",
       "\n",
       "    .dataframe thead th {\n",
       "        text-align: right;\n",
       "    }\n",
       "</style>\n",
       "<table border=\"1\" class=\"dataframe\">\n",
       "  <thead>\n",
       "    <tr style=\"text-align: right;\">\n",
       "      <th>ticker</th>\n",
       "      <th>NTGY</th>\n",
       "      <th>REE</th>\n",
       "      <th>SAN</th>\n",
       "    </tr>\n",
       "    <tr>\n",
       "      <th>date</th>\n",
       "      <th></th>\n",
       "      <th></th>\n",
       "      <th></th>\n",
       "    </tr>\n",
       "  </thead>\n",
       "  <tbody>\n",
       "    <tr>\n",
       "      <th>2005-07-04</th>\n",
       "      <td>-0.006656</td>\n",
       "      <td>-0.012807</td>\n",
       "      <td>-0.002442</td>\n",
       "    </tr>\n",
       "    <tr>\n",
       "      <th>2005-07-05</th>\n",
       "      <td>0.000834</td>\n",
       "      <td>-0.005348</td>\n",
       "      <td>0.002442</td>\n",
       "    </tr>\n",
       "    <tr>\n",
       "      <th>2005-07-06</th>\n",
       "      <td>-0.002505</td>\n",
       "      <td>-0.008526</td>\n",
       "      <td>0.000000</td>\n",
       "    </tr>\n",
       "    <tr>\n",
       "      <th>2005-07-07</th>\n",
       "      <td>-0.022834</td>\n",
       "      <td>-0.008599</td>\n",
       "      <td>-0.022196</td>\n",
       "    </tr>\n",
       "    <tr>\n",
       "      <th>2005-07-08</th>\n",
       "      <td>0.019484</td>\n",
       "      <td>0.016231</td>\n",
       "      <td>0.019754</td>\n",
       "    </tr>\n",
       "  </tbody>\n",
       "</table>\n",
       "</div>"
      ],
      "text/plain": [
       "ticker          NTGY       REE       SAN\n",
       "date                                    \n",
       "2005-07-04 -0.006656 -0.012807 -0.002442\n",
       "2005-07-05  0.000834 -0.005348  0.002442\n",
       "2005-07-06 -0.002505 -0.008526  0.000000\n",
       "2005-07-07 -0.022834 -0.008599 -0.022196\n",
       "2005-07-08  0.019484  0.016231  0.019754"
      ]
     },
     "execution_count": 20,
     "metadata": {},
     "output_type": "execute_result"
    }
   ],
   "source": [
    "stocks_df_log_ret = np.log(stocks_df).diff().dropna()\n",
    "stocks_df_log_ret.head()"
   ]
  },
  {
   "cell_type": "markdown",
   "metadata": {},
   "source": [
    "- Calcula los retornos semanales, mensuales, y anuales"
   ]
  },
  {
   "cell_type": "code",
   "execution_count": 21,
   "metadata": {},
   "outputs": [
    {
     "data": {
      "text/html": [
       "<div>\n",
       "<style scoped>\n",
       "    .dataframe tbody tr th:only-of-type {\n",
       "        vertical-align: middle;\n",
       "    }\n",
       "\n",
       "    .dataframe tbody tr th {\n",
       "        vertical-align: top;\n",
       "    }\n",
       "\n",
       "    .dataframe thead th {\n",
       "        text-align: right;\n",
       "    }\n",
       "</style>\n",
       "<table border=\"1\" class=\"dataframe\">\n",
       "  <thead>\n",
       "    <tr style=\"text-align: right;\">\n",
       "      <th>ticker</th>\n",
       "      <th>NTGY</th>\n",
       "      <th>REE</th>\n",
       "      <th>SAN</th>\n",
       "    </tr>\n",
       "    <tr>\n",
       "      <th>date</th>\n",
       "      <th></th>\n",
       "      <th></th>\n",
       "      <th></th>\n",
       "    </tr>\n",
       "  </thead>\n",
       "  <tbody>\n",
       "    <tr>\n",
       "      <th>2005-07-10</th>\n",
       "      <td>-0.011609</td>\n",
       "      <td>-0.018868</td>\n",
       "      <td>-0.002439</td>\n",
       "    </tr>\n",
       "    <tr>\n",
       "      <th>2005-07-17</th>\n",
       "      <td>0.004195</td>\n",
       "      <td>-0.013864</td>\n",
       "      <td>0.017115</td>\n",
       "    </tr>\n",
       "    <tr>\n",
       "      <th>2005-07-24</th>\n",
       "      <td>0.029240</td>\n",
       "      <td>0.016327</td>\n",
       "      <td>0.007212</td>\n",
       "    </tr>\n",
       "    <tr>\n",
       "      <th>2005-07-31</th>\n",
       "      <td>-0.007305</td>\n",
       "      <td>-0.009371</td>\n",
       "      <td>0.021480</td>\n",
       "    </tr>\n",
       "    <tr>\n",
       "      <th>2005-08-07</th>\n",
       "      <td>-0.011447</td>\n",
       "      <td>0.002252</td>\n",
       "      <td>-0.009346</td>\n",
       "    </tr>\n",
       "  </tbody>\n",
       "</table>\n",
       "</div>"
      ],
      "text/plain": [
       "ticker          NTGY       REE       SAN\n",
       "date                                    \n",
       "2005-07-10 -0.011609 -0.018868 -0.002439\n",
       "2005-07-17  0.004195 -0.013864  0.017115\n",
       "2005-07-24  0.029240  0.016327  0.007212\n",
       "2005-07-31 -0.007305 -0.009371  0.021480\n",
       "2005-08-07 -0.011447  0.002252 -0.009346"
      ]
     },
     "execution_count": 21,
     "metadata": {},
     "output_type": "execute_result"
    }
   ],
   "source": [
    "stocks_df_week = stocks_df.resample('W').last().pct_change().dropna()\n",
    "stocks_df_week.head()"
   ]
  },
  {
   "cell_type": "code",
   "execution_count": 22,
   "metadata": {},
   "outputs": [
    {
     "data": {
      "text/html": [
       "<div>\n",
       "<style scoped>\n",
       "    .dataframe tbody tr th:only-of-type {\n",
       "        vertical-align: middle;\n",
       "    }\n",
       "\n",
       "    .dataframe tbody tr th {\n",
       "        vertical-align: top;\n",
       "    }\n",
       "\n",
       "    .dataframe thead th {\n",
       "        text-align: right;\n",
       "    }\n",
       "</style>\n",
       "<table border=\"1\" class=\"dataframe\">\n",
       "  <thead>\n",
       "    <tr style=\"text-align: right;\">\n",
       "      <th>ticker</th>\n",
       "      <th>NTGY</th>\n",
       "      <th>REE</th>\n",
       "      <th>SAN</th>\n",
       "    </tr>\n",
       "    <tr>\n",
       "      <th>date</th>\n",
       "      <th></th>\n",
       "      <th></th>\n",
       "      <th></th>\n",
       "    </tr>\n",
       "  </thead>\n",
       "  <tbody>\n",
       "    <tr>\n",
       "      <th>2005-08-31</th>\n",
       "      <td>-0.020442</td>\n",
       "      <td>-0.014865</td>\n",
       "      <td>-0.028037</td>\n",
       "    </tr>\n",
       "    <tr>\n",
       "      <th>2005-09-30</th>\n",
       "      <td>0.006678</td>\n",
       "      <td>0.085963</td>\n",
       "      <td>0.103365</td>\n",
       "    </tr>\n",
       "    <tr>\n",
       "      <th>2005-10-31</th>\n",
       "      <td>-0.060531</td>\n",
       "      <td>-0.063158</td>\n",
       "      <td>-0.010893</td>\n",
       "    </tr>\n",
       "    <tr>\n",
       "      <th>2005-11-30</th>\n",
       "      <td>0.016770</td>\n",
       "      <td>0.057079</td>\n",
       "      <td>0.006608</td>\n",
       "    </tr>\n",
       "    <tr>\n",
       "      <th>2005-12-31</th>\n",
       "      <td>0.024306</td>\n",
       "      <td>0.112245</td>\n",
       "      <td>0.043764</td>\n",
       "    </tr>\n",
       "  </tbody>\n",
       "</table>\n",
       "</div>"
      ],
      "text/plain": [
       "ticker          NTGY       REE       SAN\n",
       "date                                    \n",
       "2005-08-31 -0.020442 -0.014865 -0.028037\n",
       "2005-09-30  0.006678  0.085963  0.103365\n",
       "2005-10-31 -0.060531 -0.063158 -0.010893\n",
       "2005-11-30  0.016770  0.057079  0.006608\n",
       "2005-12-31  0.024306  0.112245  0.043764"
      ]
     },
     "execution_count": 22,
     "metadata": {},
     "output_type": "execute_result"
    }
   ],
   "source": [
    "stocks_df_month = stocks_df.resample('M').last().pct_change().dropna()\n",
    "stocks_df_month.head()"
   ]
  },
  {
   "cell_type": "markdown",
   "metadata": {},
   "source": [
    "- Crea una nueva columna en el dataframe usando la función apply, que  calcule el ratio de sharpe. (usa una ventana de 15 días) "
   ]
  },
  {
   "cell_type": "code",
   "execution_count": 23,
   "metadata": {},
   "outputs": [
    {
     "data": {
      "text/html": [
       "<div>\n",
       "<style scoped>\n",
       "    .dataframe tbody tr th:only-of-type {\n",
       "        vertical-align: middle;\n",
       "    }\n",
       "\n",
       "    .dataframe tbody tr th {\n",
       "        vertical-align: top;\n",
       "    }\n",
       "\n",
       "    .dataframe thead th {\n",
       "        text-align: right;\n",
       "    }\n",
       "</style>\n",
       "<table border=\"1\" class=\"dataframe\">\n",
       "  <thead>\n",
       "    <tr style=\"text-align: right;\">\n",
       "      <th>ticker</th>\n",
       "      <th>NTGY</th>\n",
       "      <th>REE</th>\n",
       "      <th>SAN</th>\n",
       "    </tr>\n",
       "    <tr>\n",
       "      <th>date</th>\n",
       "      <th></th>\n",
       "      <th></th>\n",
       "      <th></th>\n",
       "    </tr>\n",
       "  </thead>\n",
       "  <tbody>\n",
       "    <tr>\n",
       "      <th>2005-07-04</th>\n",
       "      <td>-0.006656</td>\n",
       "      <td>-0.012807</td>\n",
       "      <td>-0.002442</td>\n",
       "    </tr>\n",
       "    <tr>\n",
       "      <th>2005-07-05</th>\n",
       "      <td>0.000834</td>\n",
       "      <td>-0.005348</td>\n",
       "      <td>0.002442</td>\n",
       "    </tr>\n",
       "    <tr>\n",
       "      <th>2005-07-06</th>\n",
       "      <td>-0.002505</td>\n",
       "      <td>-0.008526</td>\n",
       "      <td>0.000000</td>\n",
       "    </tr>\n",
       "    <tr>\n",
       "      <th>2005-07-07</th>\n",
       "      <td>-0.022834</td>\n",
       "      <td>-0.008599</td>\n",
       "      <td>-0.022196</td>\n",
       "    </tr>\n",
       "    <tr>\n",
       "      <th>2005-07-08</th>\n",
       "      <td>0.019484</td>\n",
       "      <td>0.016231</td>\n",
       "      <td>0.019754</td>\n",
       "    </tr>\n",
       "  </tbody>\n",
       "</table>\n",
       "</div>"
      ],
      "text/plain": [
       "ticker          NTGY       REE       SAN\n",
       "date                                    \n",
       "2005-07-04 -0.006656 -0.012807 -0.002442\n",
       "2005-07-05  0.000834 -0.005348  0.002442\n",
       "2005-07-06 -0.002505 -0.008526  0.000000\n",
       "2005-07-07 -0.022834 -0.008599 -0.022196\n",
       "2005-07-08  0.019484  0.016231  0.019754"
      ]
     },
     "execution_count": 23,
     "metadata": {},
     "output_type": "execute_result"
    }
   ],
   "source": [
    "window = 15\n",
    "stocks_df_log_ret.rolling(15).apply(lambda x: np.sqrt(15) * x.mean()/x.std()).dropna()\n",
    "stocks_df_log_ret.head()"
   ]
  },
  {
   "cell_type": "markdown",
   "metadata": {},
   "source": [
    "- Crea un modulo con una función que dado los valores de cierre de un activo calcule las bandas de Bollinger. Recuerda que las bandas Bollinger se calculan como MA − Kσ y MA + Kσ, donde MA es la media móvil de 30 muestras sobre el precio, σ es la desviación típica móvil de 30 muestras sobre el precio y K = 2. Importa el modulo y demuestra que funciona"
   ]
  },
  {
   "cell_type": "code",
   "execution_count": 25,
   "metadata": {},
   "outputs": [],
   "source": [
    "from modulo_alfonso import añade_bollinger, añade_cruces"
   ]
  },
  {
   "cell_type": "markdown",
   "metadata": {},
   "source": [
    "- Grafica las bandas de bollinger y los datos de cierre. Guarda la imagen en un archivo llamado **bollinger.png**"
   ]
  },
  {
   "cell_type": "code",
   "execution_count": 42,
   "metadata": {},
   "outputs": [
    {
     "data": {
      "text/html": [
       "<div>\n",
       "<style scoped>\n",
       "    .dataframe tbody tr th:only-of-type {\n",
       "        vertical-align: middle;\n",
       "    }\n",
       "\n",
       "    .dataframe tbody tr th {\n",
       "        vertical-align: top;\n",
       "    }\n",
       "\n",
       "    .dataframe thead th {\n",
       "        text-align: right;\n",
       "    }\n",
       "</style>\n",
       "<table border=\"1\" class=\"dataframe\">\n",
       "  <thead>\n",
       "    <tr style=\"text-align: right;\">\n",
       "      <th></th>\n",
       "      <th>close</th>\n",
       "    </tr>\n",
       "    <tr>\n",
       "      <th>date</th>\n",
       "      <th></th>\n",
       "    </tr>\n",
       "  </thead>\n",
       "  <tbody>\n",
       "    <tr>\n",
       "      <th>2005-07-01</th>\n",
       "      <td>3.573731</td>\n",
       "    </tr>\n",
       "    <tr>\n",
       "      <th>2005-07-04</th>\n",
       "      <td>3.565015</td>\n",
       "    </tr>\n",
       "    <tr>\n",
       "      <th>2005-07-05</th>\n",
       "      <td>3.573731</td>\n",
       "    </tr>\n",
       "    <tr>\n",
       "      <th>2005-07-06</th>\n",
       "      <td>3.573731</td>\n",
       "    </tr>\n",
       "    <tr>\n",
       "      <th>2005-07-07</th>\n",
       "      <td>3.495283</td>\n",
       "    </tr>\n",
       "  </tbody>\n",
       "</table>\n",
       "</div>"
      ],
      "text/plain": [
       "               close\n",
       "date                \n",
       "2005-07-01  3.573731\n",
       "2005-07-04  3.565015\n",
       "2005-07-05  3.573731\n",
       "2005-07-06  3.573731\n",
       "2005-07-07  3.495283"
      ]
     },
     "execution_count": 42,
     "metadata": {},
     "output_type": "execute_result"
    }
   ],
   "source": [
    "data_bollinger = stocks_df.loc[:, ['SAN']]\n",
    "data_bollinger.columns = ['close']\n",
    "data_bollinger.head()"
   ]
  },
  {
   "cell_type": "code",
   "execution_count": 43,
   "metadata": {},
   "outputs": [
    {
     "data": {
      "text/html": [
       "<div>\n",
       "<style scoped>\n",
       "    .dataframe tbody tr th:only-of-type {\n",
       "        vertical-align: middle;\n",
       "    }\n",
       "\n",
       "    .dataframe tbody tr th {\n",
       "        vertical-align: top;\n",
       "    }\n",
       "\n",
       "    .dataframe thead th {\n",
       "        text-align: right;\n",
       "    }\n",
       "</style>\n",
       "<table border=\"1\" class=\"dataframe\">\n",
       "  <thead>\n",
       "    <tr style=\"text-align: right;\">\n",
       "      <th></th>\n",
       "      <th>close</th>\n",
       "      <th>upper_band</th>\n",
       "      <th>lower_band</th>\n",
       "    </tr>\n",
       "    <tr>\n",
       "      <th>date</th>\n",
       "      <th></th>\n",
       "      <th></th>\n",
       "      <th></th>\n",
       "    </tr>\n",
       "  </thead>\n",
       "  <tbody>\n",
       "    <tr>\n",
       "      <th>2005-08-11</th>\n",
       "      <td>3.739343</td>\n",
       "      <td>3.791452</td>\n",
       "      <td>3.522203</td>\n",
       "    </tr>\n",
       "    <tr>\n",
       "      <th>2005-08-12</th>\n",
       "      <td>3.739343</td>\n",
       "      <td>3.796454</td>\n",
       "      <td>3.528242</td>\n",
       "    </tr>\n",
       "    <tr>\n",
       "      <th>2005-08-15</th>\n",
       "      <td>3.730627</td>\n",
       "      <td>3.798997</td>\n",
       "      <td>3.536740</td>\n",
       "    </tr>\n",
       "    <tr>\n",
       "      <th>2005-08-16</th>\n",
       "      <td>3.721910</td>\n",
       "      <td>3.800378</td>\n",
       "      <td>3.545237</td>\n",
       "    </tr>\n",
       "    <tr>\n",
       "      <th>2005-08-17</th>\n",
       "      <td>3.678328</td>\n",
       "      <td>3.798254</td>\n",
       "      <td>3.554335</td>\n",
       "    </tr>\n",
       "  </tbody>\n",
       "</table>\n",
       "</div>"
      ],
      "text/plain": [
       "               close  upper_band  lower_band\n",
       "date                                        \n",
       "2005-08-11  3.739343    3.791452    3.522203\n",
       "2005-08-12  3.739343    3.796454    3.528242\n",
       "2005-08-15  3.730627    3.798997    3.536740\n",
       "2005-08-16  3.721910    3.800378    3.545237\n",
       "2005-08-17  3.678328    3.798254    3.554335"
      ]
     },
     "execution_count": 43,
     "metadata": {},
     "output_type": "execute_result"
    }
   ],
   "source": [
    "stocks_bollinger = añade_bollinger(data_bollinger, 30, 30)\n",
    "stocks_bollinger.head()"
   ]
  },
  {
   "cell_type": "code",
   "execution_count": 47,
   "metadata": {},
   "outputs": [
    {
     "data": {
      "image/png": "[encoded data removed]",
      "text/plain": [
       "<Figure size 640x480 with 1 Axes>"
      ]
     },
     "metadata": {},
     "output_type": "display_data"
    }
   ],
   "source": [
    "stocks_bollinger.plot()\n",
    "plt.title('Santander: Bollinger Bands')\n",
    "plt.savefig('bollinger.png')"
   ]
  },
  {
   "cell_type": "markdown",
   "metadata": {},
   "source": [
    "- Genera un columna donde nos marque 1 cuando la cotizacion cruce la banda de bolliger inferior hacia arriba, -1 cuando cruce la banda superior hacia abajo, y 0 en el resto."
   ]
  },
  {
   "cell_type": "code",
   "execution_count": 49,
   "metadata": {},
   "outputs": [
    {
     "name": "stderr",
     "output_type": "stream",
     "text": [
      "/home/alfonso/Desktop/universidad/python_finance/Practicas/modulo_alfonso.py:23: SettingWithCopyWarning: \n",
      "A value is trying to be set on a copy of a slice from a DataFrame.\n",
      "Try using .loc[row_indexer,col_indexer] = value instead\n",
      "\n",
      "See the caveats in the documentation: https://pandas.pydata.org/pandas-docs/stable/user_guide/indexing.html#returning-a-view-versus-a-copy\n",
      "  data[\"upper_cross\"] = upper_cross\n",
      "/home/alfonso/Desktop/universidad/python_finance/Practicas/modulo_alfonso.py:24: SettingWithCopyWarning: \n",
      "A value is trying to be set on a copy of a slice from a DataFrame.\n",
      "Try using .loc[row_indexer,col_indexer] = value instead\n",
      "\n",
      "See the caveats in the documentation: https://pandas.pydata.org/pandas-docs/stable/user_guide/indexing.html#returning-a-view-versus-a-copy\n",
      "  data[\"lower_cross\"] = lower_cross\n"
     ]
    },
    {
     "data": {
      "text/html": [
       "<div>\n",
       "<style scoped>\n",
       "    .dataframe tbody tr th:only-of-type {\n",
       "        vertical-align: middle;\n",
       "    }\n",
       "\n",
       "    .dataframe tbody tr th {\n",
       "        vertical-align: top;\n",
       "    }\n",
       "\n",
       "    .dataframe thead th {\n",
       "        text-align: right;\n",
       "    }\n",
       "</style>\n",
       "<table border=\"1\" class=\"dataframe\">\n",
       "  <thead>\n",
       "    <tr style=\"text-align: right;\">\n",
       "      <th></th>\n",
       "      <th>close</th>\n",
       "      <th>upper_band</th>\n",
       "      <th>lower_band</th>\n",
       "      <th>upper_cross</th>\n",
       "      <th>lower_cross</th>\n",
       "    </tr>\n",
       "    <tr>\n",
       "      <th>date</th>\n",
       "      <th></th>\n",
       "      <th></th>\n",
       "      <th></th>\n",
       "      <th></th>\n",
       "      <th></th>\n",
       "    </tr>\n",
       "  </thead>\n",
       "  <tbody>\n",
       "    <tr>\n",
       "      <th>2005-08-11</th>\n",
       "      <td>3.739343</td>\n",
       "      <td>3.791452</td>\n",
       "      <td>3.522203</td>\n",
       "      <td>False</td>\n",
       "      <td>False</td>\n",
       "    </tr>\n",
       "    <tr>\n",
       "      <th>2005-08-12</th>\n",
       "      <td>3.739343</td>\n",
       "      <td>3.796454</td>\n",
       "      <td>3.528242</td>\n",
       "      <td>False</td>\n",
       "      <td>False</td>\n",
       "    </tr>\n",
       "    <tr>\n",
       "      <th>2005-08-15</th>\n",
       "      <td>3.730627</td>\n",
       "      <td>3.798997</td>\n",
       "      <td>3.536740</td>\n",
       "      <td>False</td>\n",
       "      <td>False</td>\n",
       "    </tr>\n",
       "    <tr>\n",
       "      <th>2005-08-16</th>\n",
       "      <td>3.721910</td>\n",
       "      <td>3.800378</td>\n",
       "      <td>3.545237</td>\n",
       "      <td>False</td>\n",
       "      <td>False</td>\n",
       "    </tr>\n",
       "    <tr>\n",
       "      <th>2005-08-17</th>\n",
       "      <td>3.678328</td>\n",
       "      <td>3.798254</td>\n",
       "      <td>3.554335</td>\n",
       "      <td>False</td>\n",
       "      <td>False</td>\n",
       "    </tr>\n",
       "    <tr>\n",
       "      <th>2005-08-18</th>\n",
       "      <td>3.660895</td>\n",
       "      <td>3.783114</td>\n",
       "      <td>3.580516</td>\n",
       "      <td>False</td>\n",
       "      <td>False</td>\n",
       "    </tr>\n",
       "    <tr>\n",
       "      <th>2005-08-19</th>\n",
       "      <td>3.721910</td>\n",
       "      <td>3.779177</td>\n",
       "      <td>3.594912</td>\n",
       "      <td>False</td>\n",
       "      <td>False</td>\n",
       "    </tr>\n",
       "    <tr>\n",
       "      <th>2005-08-22</th>\n",
       "      <td>3.730627</td>\n",
       "      <td>3.779617</td>\n",
       "      <td>3.602608</td>\n",
       "      <td>False</td>\n",
       "      <td>False</td>\n",
       "    </tr>\n",
       "    <tr>\n",
       "      <th>2005-08-23</th>\n",
       "      <td>3.687044</td>\n",
       "      <td>3.776600</td>\n",
       "      <td>3.610854</td>\n",
       "      <td>False</td>\n",
       "      <td>False</td>\n",
       "    </tr>\n",
       "    <tr>\n",
       "      <th>2005-08-24</th>\n",
       "      <td>3.660895</td>\n",
       "      <td>3.774757</td>\n",
       "      <td>3.615022</td>\n",
       "      <td>False</td>\n",
       "      <td>False</td>\n",
       "    </tr>\n",
       "    <tr>\n",
       "      <th>2005-08-25</th>\n",
       "      <td>3.626030</td>\n",
       "      <td>3.774757</td>\n",
       "      <td>3.615022</td>\n",
       "      <td>False</td>\n",
       "      <td>False</td>\n",
       "    </tr>\n",
       "    <tr>\n",
       "      <th>2005-08-26</th>\n",
       "      <td>3.626030</td>\n",
       "      <td>3.774757</td>\n",
       "      <td>3.615022</td>\n",
       "      <td>False</td>\n",
       "      <td>False</td>\n",
       "    </tr>\n",
       "    <tr>\n",
       "      <th>2005-08-29</th>\n",
       "      <td>3.626030</td>\n",
       "      <td>3.774757</td>\n",
       "      <td>3.615022</td>\n",
       "      <td>False</td>\n",
       "      <td>False</td>\n",
       "    </tr>\n",
       "    <tr>\n",
       "      <th>2005-08-30</th>\n",
       "      <td>3.626030</td>\n",
       "      <td>3.776600</td>\n",
       "      <td>3.610854</td>\n",
       "      <td>False</td>\n",
       "      <td>False</td>\n",
       "    </tr>\n",
       "    <tr>\n",
       "      <th>2005-08-31</th>\n",
       "      <td>3.626030</td>\n",
       "      <td>3.776600</td>\n",
       "      <td>3.610854</td>\n",
       "      <td>False</td>\n",
       "      <td>False</td>\n",
       "    </tr>\n",
       "    <tr>\n",
       "      <th>2005-09-01</th>\n",
       "      <td>3.687044</td>\n",
       "      <td>3.776588</td>\n",
       "      <td>3.612610</td>\n",
       "      <td>False</td>\n",
       "      <td>False</td>\n",
       "    </tr>\n",
       "    <tr>\n",
       "      <th>2005-09-02</th>\n",
       "      <td>3.687044</td>\n",
       "      <td>3.776236</td>\n",
       "      <td>3.615285</td>\n",
       "      <td>False</td>\n",
       "      <td>False</td>\n",
       "    </tr>\n",
       "    <tr>\n",
       "      <th>2005-09-05</th>\n",
       "      <td>3.730627</td>\n",
       "      <td>3.778619</td>\n",
       "      <td>3.616971</td>\n",
       "      <td>False</td>\n",
       "      <td>False</td>\n",
       "    </tr>\n",
       "    <tr>\n",
       "      <th>2005-09-06</th>\n",
       "      <td>3.756776</td>\n",
       "      <td>3.783630</td>\n",
       "      <td>3.616608</td>\n",
       "      <td>False</td>\n",
       "      <td>False</td>\n",
       "    </tr>\n",
       "    <tr>\n",
       "      <th>2005-09-07</th>\n",
       "      <td>3.765492</td>\n",
       "      <td>3.789414</td>\n",
       "      <td>3.616635</td>\n",
       "      <td>False</td>\n",
       "      <td>False</td>\n",
       "    </tr>\n",
       "    <tr>\n",
       "      <th>2005-09-08</th>\n",
       "      <td>3.800358</td>\n",
       "      <td>3.798313</td>\n",
       "      <td>3.612384</td>\n",
       "      <td>True</td>\n",
       "      <td>False</td>\n",
       "    </tr>\n",
       "    <tr>\n",
       "      <th>2005-09-09</th>\n",
       "      <td>3.809074</td>\n",
       "      <td>3.808014</td>\n",
       "      <td>3.607914</td>\n",
       "      <td>False</td>\n",
       "      <td>False</td>\n",
       "    </tr>\n",
       "    <tr>\n",
       "      <th>2005-09-12</th>\n",
       "      <td>3.809074</td>\n",
       "      <td>3.817445</td>\n",
       "      <td>3.604294</td>\n",
       "      <td>True</td>\n",
       "      <td>False</td>\n",
       "    </tr>\n",
       "    <tr>\n",
       "      <th>2005-09-13</th>\n",
       "      <td>3.791641</td>\n",
       "      <td>3.822766</td>\n",
       "      <td>3.602459</td>\n",
       "      <td>False</td>\n",
       "      <td>False</td>\n",
       "    </tr>\n",
       "    <tr>\n",
       "      <th>2005-09-14</th>\n",
       "      <td>3.809074</td>\n",
       "      <td>3.829654</td>\n",
       "      <td>3.599639</td>\n",
       "      <td>False</td>\n",
       "      <td>False</td>\n",
       "    </tr>\n",
       "    <tr>\n",
       "      <th>2005-09-15</th>\n",
       "      <td>3.826507</td>\n",
       "      <td>3.840179</td>\n",
       "      <td>3.596087</td>\n",
       "      <td>False</td>\n",
       "      <td>False</td>\n",
       "    </tr>\n",
       "    <tr>\n",
       "      <th>2005-09-16</th>\n",
       "      <td>3.809074</td>\n",
       "      <td>3.848036</td>\n",
       "      <td>3.595784</td>\n",
       "      <td>False</td>\n",
       "      <td>False</td>\n",
       "    </tr>\n",
       "    <tr>\n",
       "      <th>2005-09-19</th>\n",
       "      <td>3.791641</td>\n",
       "      <td>3.852905</td>\n",
       "      <td>3.595564</td>\n",
       "      <td>False</td>\n",
       "      <td>False</td>\n",
       "    </tr>\n",
       "    <tr>\n",
       "      <th>2005-09-20</th>\n",
       "      <td>3.809074</td>\n",
       "      <td>3.859478</td>\n",
       "      <td>3.594802</td>\n",
       "      <td>False</td>\n",
       "      <td>False</td>\n",
       "    </tr>\n",
       "    <tr>\n",
       "      <th>2005-09-21</th>\n",
       "      <td>3.756776</td>\n",
       "      <td>3.860788</td>\n",
       "      <td>3.595235</td>\n",
       "      <td>False</td>\n",
       "      <td>False</td>\n",
       "    </tr>\n",
       "    <tr>\n",
       "      <th>2005-09-22</th>\n",
       "      <td>3.800358</td>\n",
       "      <td>3.865385</td>\n",
       "      <td>3.594706</td>\n",
       "      <td>False</td>\n",
       "      <td>False</td>\n",
       "    </tr>\n",
       "    <tr>\n",
       "      <th>2005-09-23</th>\n",
       "      <td>3.826507</td>\n",
       "      <td>3.872784</td>\n",
       "      <td>3.593118</td>\n",
       "      <td>False</td>\n",
       "      <td>False</td>\n",
       "    </tr>\n",
       "    <tr>\n",
       "      <th>2005-09-26</th>\n",
       "      <td>3.974686</td>\n",
       "      <td>3.906431</td>\n",
       "      <td>3.575742</td>\n",
       "      <td>True</td>\n",
       "      <td>False</td>\n",
       "    </tr>\n",
       "    <tr>\n",
       "      <th>2005-09-27</th>\n",
       "      <td>3.957253</td>\n",
       "      <td>3.931903</td>\n",
       "      <td>3.565959</td>\n",
       "      <td>False</td>\n",
       "      <td>False</td>\n",
       "    </tr>\n",
       "    <tr>\n",
       "      <th>2005-09-28</th>\n",
       "      <td>3.983403</td>\n",
       "      <td>3.958966</td>\n",
       "      <td>3.559235</td>\n",
       "      <td>False</td>\n",
       "      <td>False</td>\n",
       "    </tr>\n",
       "    <tr>\n",
       "      <th>2005-09-29</th>\n",
       "      <td>3.992119</td>\n",
       "      <td>3.983685</td>\n",
       "      <td>3.556597</td>\n",
       "      <td>False</td>\n",
       "      <td>False</td>\n",
       "    </tr>\n",
       "    <tr>\n",
       "      <th>2005-09-30</th>\n",
       "      <td>4.000835</td>\n",
       "      <td>4.008050</td>\n",
       "      <td>3.550827</td>\n",
       "      <td>True</td>\n",
       "      <td>False</td>\n",
       "    </tr>\n",
       "    <tr>\n",
       "      <th>2005-10-03</th>\n",
       "      <td>4.000835</td>\n",
       "      <td>4.030023</td>\n",
       "      <td>3.546868</td>\n",
       "      <td>False</td>\n",
       "      <td>False</td>\n",
       "    </tr>\n",
       "    <tr>\n",
       "      <th>2005-10-04</th>\n",
       "      <td>4.035701</td>\n",
       "      <td>4.054655</td>\n",
       "      <td>3.545479</td>\n",
       "      <td>False</td>\n",
       "      <td>False</td>\n",
       "    </tr>\n",
       "    <tr>\n",
       "      <th>2005-10-05</th>\n",
       "      <td>3.974686</td>\n",
       "      <td>4.067230</td>\n",
       "      <td>3.553824</td>\n",
       "      <td>False</td>\n",
       "      <td>False</td>\n",
       "    </tr>\n",
       "    <tr>\n",
       "      <th>2005-10-06</th>\n",
       "      <td>3.974686</td>\n",
       "      <td>4.075841</td>\n",
       "      <td>3.568457</td>\n",
       "      <td>False</td>\n",
       "      <td>False</td>\n",
       "    </tr>\n",
       "    <tr>\n",
       "      <th>2005-10-07</th>\n",
       "      <td>3.965970</td>\n",
       "      <td>4.081222</td>\n",
       "      <td>3.585739</td>\n",
       "      <td>False</td>\n",
       "      <td>False</td>\n",
       "    </tr>\n",
       "    <tr>\n",
       "      <th>2005-10-10</th>\n",
       "      <td>3.974686</td>\n",
       "      <td>4.085167</td>\n",
       "      <td>3.605037</td>\n",
       "      <td>False</td>\n",
       "      <td>False</td>\n",
       "    </tr>\n",
       "    <tr>\n",
       "      <th>2005-10-11</th>\n",
       "      <td>3.974686</td>\n",
       "      <td>4.086439</td>\n",
       "      <td>3.627009</td>\n",
       "      <td>False</td>\n",
       "      <td>False</td>\n",
       "    </tr>\n",
       "    <tr>\n",
       "      <th>2005-10-12</th>\n",
       "      <td>3.974686</td>\n",
       "      <td>4.084653</td>\n",
       "      <td>3.652039</td>\n",
       "      <td>False</td>\n",
       "      <td>False</td>\n",
       "    </tr>\n",
       "    <tr>\n",
       "      <th>2005-10-13</th>\n",
       "      <td>3.948537</td>\n",
       "      <td>4.084010</td>\n",
       "      <td>3.670115</td>\n",
       "      <td>False</td>\n",
       "      <td>False</td>\n",
       "    </tr>\n",
       "    <tr>\n",
       "      <th>2005-10-14</th>\n",
       "      <td>3.974686</td>\n",
       "      <td>4.083580</td>\n",
       "      <td>3.689721</td>\n",
       "      <td>False</td>\n",
       "      <td>False</td>\n",
       "    </tr>\n",
       "    <tr>\n",
       "      <th>2005-10-17</th>\n",
       "      <td>3.983403</td>\n",
       "      <td>4.085919</td>\n",
       "      <td>3.704234</td>\n",
       "      <td>False</td>\n",
       "      <td>False</td>\n",
       "    </tr>\n",
       "    <tr>\n",
       "      <th>2005-10-18</th>\n",
       "      <td>3.974686</td>\n",
       "      <td>4.087916</td>\n",
       "      <td>3.716764</td>\n",
       "      <td>False</td>\n",
       "      <td>False</td>\n",
       "    </tr>\n",
       "    <tr>\n",
       "      <th>2005-10-19</th>\n",
       "      <td>3.957253</td>\n",
       "      <td>4.087903</td>\n",
       "      <td>3.729561</td>\n",
       "      <td>False</td>\n",
       "      <td>False</td>\n",
       "    </tr>\n",
       "  </tbody>\n",
       "</table>\n",
       "</div>"
      ],
      "text/plain": [
       "               close  upper_band  lower_band  upper_cross  lower_cross\n",
       "date                                                                  \n",
       "2005-08-11  3.739343    3.791452    3.522203        False        False\n",
       "2005-08-12  3.739343    3.796454    3.528242        False        False\n",
       "2005-08-15  3.730627    3.798997    3.536740        False        False\n",
       "2005-08-16  3.721910    3.800378    3.545237        False        False\n",
       "2005-08-17  3.678328    3.798254    3.554335        False        False\n",
       "2005-08-18  3.660895    3.783114    3.580516        False        False\n",
       "2005-08-19  3.721910    3.779177    3.594912        False        False\n",
       "2005-08-22  3.730627    3.779617    3.602608        False        False\n",
       "2005-08-23  3.687044    3.776600    3.610854        False        False\n",
       "2005-08-24  3.660895    3.774757    3.615022        False        False\n",
       "2005-08-25  3.626030    3.774757    3.615022        False        False\n",
       "2005-08-26  3.626030    3.774757    3.615022        False        False\n",
       "2005-08-29  3.626030    3.774757    3.615022        False        False\n",
       "2005-08-30  3.626030    3.776600    3.610854        False        False\n",
       "2005-08-31  3.626030    3.776600    3.610854        False        False\n",
       "2005-09-01  3.687044    3.776588    3.612610        False        False\n",
       "2005-09-02  3.687044    3.776236    3.615285        False        False\n",
       "2005-09-05  3.730627    3.778619    3.616971        False        False\n",
       "2005-09-06  3.756776    3.783630    3.616608        False        False\n",
       "2005-09-07  3.765492    3.789414    3.616635        False        False\n",
       "2005-09-08  3.800358    3.798313    3.612384         True        False\n",
       "2005-09-09  3.809074    3.808014    3.607914        False        False\n",
       "2005-09-12  3.809074    3.817445    3.604294         True        False\n",
       "2005-09-13  3.791641    3.822766    3.602459        False        False\n",
       "2005-09-14  3.809074    3.829654    3.599639        False        False\n",
       "2005-09-15  3.826507    3.840179    3.596087        False        False\n",
       "2005-09-16  3.809074    3.848036    3.595784        False        False\n",
       "2005-09-19  3.791641    3.852905    3.595564        False        False\n",
       "2005-09-20  3.809074    3.859478    3.594802        False        False\n",
       "2005-09-21  3.756776    3.860788    3.595235        False        False\n",
       "2005-09-22  3.800358    3.865385    3.594706        False        False\n",
       "2005-09-23  3.826507    3.872784    3.593118        False        False\n",
       "2005-09-26  3.974686    3.906431    3.575742         True        False\n",
       "2005-09-27  3.957253    3.931903    3.565959        False        False\n",
       "2005-09-28  3.983403    3.958966    3.559235        False        False\n",
       "2005-09-29  3.992119    3.983685    3.556597        False        False\n",
       "2005-09-30  4.000835    4.008050    3.550827         True        False\n",
       "2005-10-03  4.000835    4.030023    3.546868        False        False\n",
       "2005-10-04  4.035701    4.054655    3.545479        False        False\n",
       "2005-10-05  3.974686    4.067230    3.553824        False        False\n",
       "2005-10-06  3.974686    4.075841    3.568457        False        False\n",
       "2005-10-07  3.965970    4.081222    3.585739        False        False\n",
       "2005-10-10  3.974686    4.085167    3.605037        False        False\n",
       "2005-10-11  3.974686    4.086439    3.627009        False        False\n",
       "2005-10-12  3.974686    4.084653    3.652039        False        False\n",
       "2005-10-13  3.948537    4.084010    3.670115        False        False\n",
       "2005-10-14  3.974686    4.083580    3.689721        False        False\n",
       "2005-10-17  3.983403    4.085919    3.704234        False        False\n",
       "2005-10-18  3.974686    4.087916    3.716764        False        False\n",
       "2005-10-19  3.957253    4.087903    3.729561        False        False"
      ]
     },
     "execution_count": 49,
     "metadata": {},
     "output_type": "execute_result"
    }
   ],
   "source": [
    "stocks_cruce = añade_cruces(stocks_bollinger)\n",
    "stocks_cruce.head(50)"
   ]
  }
 ],
 "metadata": {
  "kernelspec": {
   "display_name": "Python 3.9.13 ('venv': venv)",
   "language": "python",
   "name": "python3"
  },
  "language_info": {
   "codemirror_mode": {
    "name": "ipython",
    "version": 3
   },
   "file_extension": ".py",
   "mimetype": "text/x-python",
   "name": "python",
   "nbconvert_exporter": "python",
   "pygments_lexer": "ipython3",
   "version": "3.9.13"
  },
  "orig_nbformat": 4,
  "vscode": {
   "interpreter": {
    "hash": "1c75df2da434cc46373b942923c038bca591ab49012c8511facb6697797f9cb5"
   }
  }
 },
 "nbformat": 4,
 "nbformat_minor": 2
}
