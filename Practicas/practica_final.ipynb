{
 "cells": [
  {
   "cell_type": "markdown",
   "metadata": {},
   "source": [
    "**Ejercicio 1** Vamos a descargar el stock de Acerinox, S.A de yahoo finance, del cual tendremos que calcular los siguientes datos:\n",
    "\n",
    "* Descarga los datos de cierre desde el 2007 hasta el 2022 ambos incluidos.\n",
    "\n",
    "* Realiza un análisis del stock:\n",
    "    * Habla sobre la tendencia de los retornos\n",
    "\n",
    "    * Sobre la volatilidad del stock\n",
    "\n",
    "    * cuál es la perdida/ganancia diaria, semanal y mensual máxima\n",
    "    \n",
    "\n",
    "* Max Drawdown calcular y enseñar por pantalla\n",
    "\n",
    "* Ratio de Sharpe en ventana rollada de 15 dí­as con apply\n",
    "\n",
    "* Enséñalo por pantalla"
   ]
  },
  {
   "cell_type": "code",
   "execution_count": null,
   "metadata": {},
   "outputs": [],
   "source": []
  },
  {
   "cell_type": "markdown",
   "metadata": {},
   "source": [
    "--------------------\n",
    "\n",
    "**WARNING** En caso de no haber obtenido los datos del stock en el apartado anterior se pueden cargar los datos desde el archivo data.csv para poder continuar\n",
    "\n",
    "------------------------"
   ]
  },
  {
   "cell_type": "markdown",
   "metadata": {},
   "source": [
    "**Ejercicio 2** Con el anterior stock vamos a realizar 1000 simulaciones a 3 meses (con todos los dí­as de por medio), con el método de montecarlo y de bootstrapping.\n",
    "\n",
    "* Vamos a obtener las simulaciones cuyos percentiles sean 95 y 99 para ambos métodos\n",
    "\n",
    "* Compara ambos y di­ cuál es su diferencia.\n",
    "\n",
    "**Crea un módulo para todas las funciones que utilices.**\n",
    "\n",
    "**Impórtalo y usa las funciones**"
   ]
  },
  {
   "cell_type": "code",
   "execution_count": null,
   "metadata": {},
   "outputs": [],
   "source": []
  },
  {
   "cell_type": "markdown",
   "metadata": {},
   "source": [
    "**Ejercicio 3** Dados los stocks AAPL, GLD, MSFT y SPY.\n",
    "\n",
    "* Descarga los datos desde yahoo finance de todos desde 2015 hasta 2019\n",
    "\n",
    "* Obten la cartera con el mejor ratio de sharpe usando montecarlo\n",
    "\n",
    "* Obten la cartera de máxima volatilidad\n",
    "\n",
    "* Grafica los datos para tener una visión de la frontera\n",
    "\n",
    "**(Extra)** Calcula la frontera eficiente mediante optimizacion cuadrÃƒÂ¡tica y grafica la soluciÃƒÂ³n junto con los datos anteriores."
   ]
  },
  {
   "cell_type": "code",
   "execution_count": null,
   "metadata": {},
   "outputs": [],
   "source": []
  },
  {
   "cell_type": "markdown",
   "metadata": {},
   "source": [
    "**Ejercicio 4** Dados los datos del archivo TTI.csv :\n",
    "\n",
    "* Calcula la curva de tipos\n",
    "\n",
    "* Grafícala\n",
    "\n",
    "* Razona si comprarí­as un bono con precio X con vecimiento Y\n"
   ]
  },
  {
   "cell_type": "code",
   "execution_count": null,
   "metadata": {},
   "outputs": [],
   "source": []
  },
  {
   "cell_type": "markdown",
   "metadata": {},
   "source": [
    "**Ejercio 5** Dados los datos del archivo OPT.csv:\n",
    "\n",
    "* Calcula la volatilidad implicita para todas las fechas.\n",
    "\n",
    "* Valora los strikes desde X hasta Y para todas las fechas.\n",
    "\n",
    "* **(Extra)** Muestra un gráfico de la supercicie de volatilidad."
   ]
  },
  {
   "cell_type": "code",
   "execution_count": null,
   "metadata": {},
   "outputs": [],
   "source": []
  }
 ],
 "metadata": {
  "language_info": {
   "name": "python"
  },
  "orig_nbformat": 4
 },
 "nbformat": 4,
 "nbformat_minor": 2
}
