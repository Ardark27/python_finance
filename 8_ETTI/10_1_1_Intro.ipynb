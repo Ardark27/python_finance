{
 "cells": [
  {
   "cell_type": "code",
   "execution_count": 4,
   "metadata": {},
   "outputs": [],
   "source": [
    "import scipy.stats\n",
    "import numpy as np\n",
    "import pandas as pd\n"
   ]
  },
  {
   "cell_type": "code",
   "execution_count": 5,
   "metadata": {},
   "outputs": [],
   "source": [
    "\n",
    "\n",
    "def bs_price(c_p, S, K, r, t, sigma):\n",
    "\n",
    "    N = scipy.stats.norm.cdf\n",
    "    d1 = (np.log(S/K) + (r+sigma**2/2)*t) / (sigma*np.sqrt(t))\n",
    "    d2 = d1 - sigma * np.sqrt(t)\n",
    "\n",
    "    if c_p == 'c':\n",
    "        return N(d1) * S - N(d2) * K * np.exp(-r*t)\n",
    "    elif c_p == 'p':\n",
    "        return N(-d2) * K * np.exp(-r*t) - N(-d1) * S\n",
    "    else:\n",
    "        return \"Please specify call or put options.\""
   ]
  },
  {
   "cell_type": "code",
   "execution_count": 6,
   "metadata": {},
   "outputs": [
    {
     "ename": "TypeError",
     "evalue": "bs_price() got an unexpected keyword argument 'opt_type'",
     "output_type": "error",
     "traceback": [
      "\u001b[0;31m---------------------------------------------------------------------------\u001b[0m",
      "\u001b[0;31mTypeError\u001b[0m                                 Traceback (most recent call last)",
      "Cell \u001b[0;32mIn [6], line 10\u001b[0m\n\u001b[1;32m      8\u001b[0m d_res \u001b[38;5;241m=\u001b[39m {} \n\u001b[1;32m      9\u001b[0m \u001b[38;5;28;01mfor\u001b[39;00m t \u001b[38;5;129;01min\u001b[39;00m T:\n\u001b[0;32m---> 10\u001b[0m     d_res[t] \u001b[38;5;241m=\u001b[39m bs_price(s0, K, r, sigma, q, t, opt_type\u001b[38;5;241m=\u001b[39m\u001b[38;5;124m'\u001b[39m\u001b[38;5;124mc\u001b[39m\u001b[38;5;124m'\u001b[39m)\n\u001b[1;32m     12\u001b[0m df_res \u001b[38;5;241m=\u001b[39m pd\u001b[38;5;241m.\u001b[39mDataFrame(d_res, index\u001b[38;5;241m=\u001b[39ms0)\n",
      "\u001b[0;31mTypeError\u001b[0m: bs_price() got an unexpected keyword argument 'opt_type'"
     ]
    }
   ],
   "source": [
    "s0 = np.linspace(5, 15, 39)\n",
    "K = 8\n",
    "r = 0.05\n",
    "q = 0\n",
    "sigma = 0.25\n",
    "T = [0.01, 0.25, 0.5, 0.75, 1, 2, 5]\n",
    "\n",
    "d_res = {} \n",
    "for t in T:\n",
    "    d_res[t] = bs_price(s0, K, r, sigma, q, t, opt_type='c')\n",
    "\n",
    "df_res = pd.DataFrame(d_res, index=s0)"
   ]
  }
 ],
 "metadata": {
  "kernelspec": {
   "display_name": "Python 3.9.13 ('venv': venv)",
   "language": "python",
   "name": "python3"
  },
  "language_info": {
   "codemirror_mode": {
    "name": "ipython",
    "version": 3
   },
   "file_extension": ".py",
   "mimetype": "text/x-python",
   "name": "python",
   "nbconvert_exporter": "python",
   "pygments_lexer": "ipython3",
   "version": "3.9.13"
  },
  "orig_nbformat": 4,
  "vscode": {
   "interpreter": {
    "hash": "1c75df2da434cc46373b942923c038bca591ab49012c8511facb6697797f9cb5"
   }
  }
 },
 "nbformat": 4,
 "nbformat_minor": 2
}
