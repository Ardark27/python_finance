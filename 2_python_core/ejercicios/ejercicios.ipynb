{
 "cells": [
  {
   "cell_type": "markdown",
   "metadata": {},
   "source": [
    "# Ejercicios"
   ]
  },
  {
   "cell_type": "markdown",
   "metadata": {},
   "source": [
    "**1.-** Multiplica 2 números y muestra su resultaddo por pantalla"
   ]
  },
  {
   "cell_type": "code",
   "execution_count": null,
   "metadata": {},
   "outputs": [],
   "source": []
  },
  {
   "cell_type": "markdown",
   "metadata": {},
   "source": [
    "**2.-** Escribe una función que te pida 2 números y te devuelva su suma por pantalla"
   ]
  },
  {
   "cell_type": "markdown",
   "metadata": {},
   "source": [
    "**3.-** Crea una variable string con los números del 1 al 10 y muestra solo los índices pares"
   ]
  },
  {
   "cell_type": "markdown",
   "metadata": {},
   "source": [
    "**4.-** Dada una lista divide todos sus elementos entre 5 y muestralo por pantalla"
   ]
  },
  {
   "cell_type": "code",
   "execution_count": null,
   "metadata": {},
   "outputs": [],
   "source": [
    "a = [10,15,20,25,30,35,40,45,50]"
   ]
  },
  {
   "cell_type": "markdown",
   "metadata": {},
   "source": [
    "**5.-** Crea una función que compruebe si el primer y el último elemento de una lista son iguales."
   ]
  },
  {
   "cell_type": "markdown",
   "metadata": {},
   "source": [
    "**6.-** Devuelve cuantas veces aparece la palabra \"por\" en el string"
   ]
  },
  {
   "cell_type": "code",
   "execution_count": 1,
   "metadata": {},
   "outputs": [],
   "source": [
    "x_string = '''Por una mirada, un mundo,\n",
    "            por una sonrisa, un cielo,\n",
    "            por un beso… ¡yo no sé\n",
    "            qué te diera por un beso!'''"
   ]
  },
  {
   "cell_type": "markdown",
   "metadata": {},
   "source": [
    "**7.-** Crea una función que dado un número entero devuelva este patrón\n",
    "```\n",
    "1\n",
    "22\n",
    "333\n",
    "4444\n",
    "55555\n",
    "```"
   ]
  },
  {
   "cell_type": "markdown",
   "metadata": {},
   "source": [
    "**8.-** Escribe una función que compruebe si un número es un palíndromo"
   ]
  },
  {
   "cell_type": "markdown",
   "metadata": {},
   "source": [
    "**9.-** Escribe una lista a partir de otras 2 lista cumpliendo las siguientes condiciones:\n",
    "- Cogemos los números pares de la lista 1\n",
    "- Cogemos los números impares de la lista 2\n",
    "\n",
    "```\n",
    "lista_1 = [20,25,30,45,80]\n",
    "lista_2 = [2,4,5,6,7]\n",
    ">>>>>>>>>\n",
    "lista_resultado = [20,30,80,5,7]\n",
    "```"
   ]
  },
  {
   "cell_type": "markdown",
   "metadata": {},
   "source": [
    "**10.-** Crea un módulo con una función que calcule el sueldo  después de impuestos y que porcentaje se paga del mismo, basate en las siguientes reglas:\n",
    "- Primer tramo hasta 12450 euros en el que se paga un 19%.\n",
    "- Segundo tramo hasta 20200 euros con tipo del 24%\n",
    "- Tercer tramo hasta 35200 euros con un 30%.\n",
    "- Cuarto tramo hasta 60000 euros con un 37%\n",
    "- Quinto tramo hasta 300000 euros con un 45%\n",
    "- Sexto tramo a partir de 300000 euros de 47%.\n",
    "\n",
    "Ejemplo de cálculo: persona que cobra 30000€:\n",
    "-  12450*(0.19)+(20200-12450)* (0.24)+(30000-20200) *(0.30)\n",
    "- Total a pagar : 7165.5 (~24%)"
   ]
  },
  {
   "cell_type": "markdown",
   "metadata": {},
   "source": [
    "**10-b** Usa la función anterior"
   ]
  },
  {
   "cell_type": "markdown",
   "metadata": {},
   "source": []
  }
 ],
 "metadata": {
  "kernelspec": {
   "display_name": "Python 3.8.8 ('base')",
   "language": "python",
   "name": "python3"
  },
  "language_info": {
   "codemirror_mode": {
    "name": "ipython",
    "version": 3
   },
   "file_extension": ".py",
   "mimetype": "text/x-python",
   "name": "python",
   "nbconvert_exporter": "python",
   "pygments_lexer": "ipython3",
   "version": "3.8.8"
  },
  "orig_nbformat": 4,
  "vscode": {
   "interpreter": {
    "hash": "3a2a03ea413f8be244ba01daf0e257f98f0dabeb03c7836e7000a0f3738aa8c9"
   }
  }
 },
 "nbformat": 4,
 "nbformat_minor": 2
}
