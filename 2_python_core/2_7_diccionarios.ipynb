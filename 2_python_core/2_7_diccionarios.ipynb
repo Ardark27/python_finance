{
 "cells": [
  {
   "cell_type": "markdown",
   "metadata": {},
   "source": [
    "# Diccionarios"
   ]
  },
  {
   "cell_type": "markdown",
   "metadata": {},
   "source": [
    "- Los diccionarios son conjuntos de datos clave:valor\n",
    "- Es la estructura más rápida para consultar que tiene python"
   ]
  },
  {
   "cell_type": "code",
   "execution_count": 2,
   "metadata": {},
   "outputs": [
    {
     "name": "stdout",
     "output_type": "stream",
     "text": [
      "<class 'dict'>\n"
     ]
    }
   ],
   "source": [
    "# Como definimos los diccionarios:\n",
    "d = dict()\n",
    "d = {} # hay que tener cuidado al definirlos así ya que si metemos contenido de la forma {1,2,3,5,6,42,2,1,584,2} se convierte en set\n",
    "print(type(d))"
   ]
  },
  {
   "cell_type": "code",
   "execution_count": 3,
   "metadata": {},
   "outputs": [
    {
     "name": "stdout",
     "output_type": "stream",
     "text": [
      "{'Clave': 'Valor', 9: [1, 2, 3, 4, 5, 5, 5]}\n"
     ]
    }
   ],
   "source": [
    "# Para añadir elementos lo podemos de la siguiente manera\n",
    "d['Clave'] = 'Valor'\n",
    "d[9] = [1,2,3,4,5,5,5]\n",
    "print(d)"
   ]
  },
  {
   "cell_type": "code",
   "execution_count": 4,
   "metadata": {},
   "outputs": [
    {
     "data": {
      "text/plain": [
       "'Valor'"
      ]
     },
     "execution_count": 4,
     "metadata": {},
     "output_type": "execute_result"
    }
   ],
   "source": [
    "# Para recuperar los valores solo podemos usar las claves, ya que el diccionario no tiene indices como tal\n",
    "d['Clave']"
   ]
  },
  {
   "cell_type": "code",
   "execution_count": 5,
   "metadata": {},
   "outputs": [],
   "source": [
    "# Tambien podemos definir el diccionario de manera manual\n",
    "d = {\n",
    "    'uno' : 1,\n",
    "    'dos' : 2,\n",
    "    'tres' : 3\n",
    "}"
   ]
  },
  {
   "cell_type": "code",
   "execution_count": 6,
   "metadata": {},
   "outputs": [
    {
     "ename": "KeyError",
     "evalue": "1",
     "output_type": "error",
     "traceback": [
      "\u001b[1;31m---------------------------------------------------------------------------\u001b[0m",
      "\u001b[1;31mKeyError\u001b[0m                                  Traceback (most recent call last)",
      "\u001b[1;32mc:\\Users\\adriy\\Desktop\\Curso_uam\\python_finance\\2_python_core\\2_7_diccionarios.ipynb Celda 7\u001b[0m in \u001b[0;36m<cell line: 1>\u001b[1;34m()\u001b[0m\n\u001b[1;32m----> <a href='vscode-notebook-cell:/c%3A/Users/adriy/Desktop/Curso_uam/python_finance/2_python_core/2_7_diccionarios.ipynb#X12sZmlsZQ%3D%3D?line=0'>1</a>\u001b[0m d[\u001b[39m1\u001b[39;49m]\n",
      "\u001b[1;31mKeyError\u001b[0m: 1"
     ]
    }
   ],
   "source": [
    "# Causa error\n",
    "d[1] "
   ]
  },
  {
   "cell_type": "code",
   "execution_count": 7,
   "metadata": {},
   "outputs": [
    {
     "data": {
      "text/plain": [
       "1"
      ]
     },
     "execution_count": 7,
     "metadata": {},
     "output_type": "execute_result"
    }
   ],
   "source": [
    "d['uno']"
   ]
  },
  {
   "cell_type": "markdown",
   "metadata": {},
   "source": [
    "- Las claves también pueden ser números, pero siguen siendo claves, no indexables"
   ]
  },
  {
   "cell_type": "code",
   "execution_count": 8,
   "metadata": {},
   "outputs": [],
   "source": [
    "d = {\n",
    "    1:'uno',\n",
    "    2:'dos',\n",
    "    3:'tres'\n",
    "}"
   ]
  },
  {
   "cell_type": "code",
   "execution_count": 9,
   "metadata": {},
   "outputs": [
    {
     "data": {
      "text/plain": [
       "'uno'"
      ]
     },
     "execution_count": 9,
     "metadata": {},
     "output_type": "execute_result"
    }
   ],
   "source": [
    "d[1]"
   ]
  },
  {
   "cell_type": "code",
   "execution_count": 10,
   "metadata": {},
   "outputs": [
    {
     "ename": "TypeError",
     "evalue": "unhashable type: 'slice'",
     "output_type": "error",
     "traceback": [
      "\u001b[1;31m---------------------------------------------------------------------------\u001b[0m",
      "\u001b[1;31mTypeError\u001b[0m                                 Traceback (most recent call last)",
      "\u001b[1;32mc:\\Users\\adriy\\Desktop\\Curso_uam\\python_finance\\2_python_core\\2_7_diccionarios.ipynb Celda 12\u001b[0m in \u001b[0;36m<cell line: 1>\u001b[1;34m()\u001b[0m\n\u001b[1;32m----> <a href='vscode-notebook-cell:/c%3A/Users/adriy/Desktop/Curso_uam/python_finance/2_python_core/2_7_diccionarios.ipynb#X20sZmlsZQ%3D%3D?line=0'>1</a>\u001b[0m d[\u001b[39m1\u001b[39;49m:\u001b[39m2\u001b[39;49m]\n",
      "\u001b[1;31mTypeError\u001b[0m: unhashable type: 'slice'"
     ]
    }
   ],
   "source": [
    "# Causa error\n",
    "d[1:2]"
   ]
  },
  {
   "cell_type": "markdown",
   "metadata": {},
   "source": [
    "- Los valores asociados a cada clave pueden ser cualquier objeto"
   ]
  },
  {
   "cell_type": "code",
   "execution_count": 12,
   "metadata": {},
   "outputs": [],
   "source": [
    "d = {\n",
    "    'lista': [1,2,2,3,4,5],\n",
    "    'tupla': (1,23,4),\n",
    "    'matriz': [[1,2],[3,4]],\n",
    "    'diccionario':{\n",
    "        'clave':'valor'\n",
    "    }\n",
    "\n",
    "}"
   ]
  },
  {
   "cell_type": "code",
   "execution_count": 14,
   "metadata": {},
   "outputs": [
    {
     "name": "stdout",
     "output_type": "stream",
     "text": [
      "[1, 2, 2, 3, 4, 5]\n",
      "(1, 23, 4)\n",
      "[[1, 2], [3, 4]]\n",
      "{'clave': 'valor'}\n"
     ]
    }
   ],
   "source": [
    "print(d['lista'])\n",
    "print(d['tupla'])\n",
    "print(d['matriz'])\n",
    "print(d['diccionario'])"
   ]
  },
  {
   "cell_type": "markdown",
   "metadata": {},
   "source": [
    "- Podemos crear diccionarios a partir de una lista de tuplas"
   ]
  },
  {
   "cell_type": "code",
   "execution_count": 16,
   "metadata": {},
   "outputs": [
    {
     "data": {
      "text/plain": [
       "[('nombre', 'juan'), ('edad', 56)]"
      ]
     },
     "execution_count": 16,
     "metadata": {},
     "output_type": "execute_result"
    }
   ],
   "source": [
    "lista_de_tuplas = [\n",
    "    ('nombre','juan'),('edad',56)\n",
    "]\n",
    "lista_de_tuplas"
   ]
  },
  {
   "cell_type": "code",
   "execution_count": 18,
   "metadata": {},
   "outputs": [
    {
     "data": {
      "text/plain": [
       "{'nombre': 'juan', 'edad': 56}"
      ]
     },
     "execution_count": 18,
     "metadata": {},
     "output_type": "execute_result"
    }
   ],
   "source": [
    "dict(lista_de_tuplas)"
   ]
  },
  {
   "cell_type": "markdown",
   "metadata": {},
   "source": [
    "## Built-in Functions"
   ]
  },
  {
   "cell_type": "markdown",
   "metadata": {},
   "source": [
    "|Métodos|Description|\n",
    "|----|---|\n",
    "```<view> = <dict>.keys()``` |                          Obtenemos las claves (keys) del diccionario.|\n",
    "```<view> = <dict>.values()``` |                        Obtenemos los valores del diccionario.|\n",
    "```<view> = <dict>.items()```   |                       Obtenemos los pares de clave:valor del diccionario.|\n",
    "```value  = <dict>.get(key, default=None) ```   |       Devuelve el valor, en función de una clave, no devuelve nada si no existe esa clave.|\n",
    "```value  = <dict>.setdefault(key, default=None)```  |  Devuelve el valor, en función de una clave, con un valor por defeco obligatorio.|\n",
    "```<dict>.update(<dict>)```|                            Une dos diccionarios.|\n",
    "```<dict> = dict(<collection>)```    |                  Crea un diccionario desde una colección de pares clave_valor.|\n",
    "```<dict> = dict(zip(keys, values)) ```  |              Crea un diccionario desde dos colecciones.|\n",
    "```<dict> = dict.fromkeys(keys [, value])```  |         Crea un diccionario desde una colección de Keys.|\n",
    "```value = <dict>.pop(key)```        |                  Borra un elemento del diccionario.|\n",
    "```{k: v for k, v in <dict>.items() if k in keys}```|   Filtra un diccionario por Keys.|"
   ]
  },
  {
   "cell_type": "code",
   "execution_count": 19,
   "metadata": {},
   "outputs": [
    {
     "name": "stdout",
     "output_type": "stream",
     "text": [
      "3\n"
     ]
    }
   ],
   "source": [
    "# podemos usar la funcion len() para saber su longitud\n",
    "d = {\n",
    "    1:'uno',\n",
    "    2:'dos',\n",
    "    3:'tres'\n",
    "}\n",
    "print(len(d))"
   ]
  },
  {
   "cell_type": "code",
   "execution_count": 20,
   "metadata": {},
   "outputs": [
    {
     "data": {
      "text/plain": [
       "True"
      ]
     },
     "execution_count": 20,
     "metadata": {},
     "output_type": "execute_result"
    }
   ],
   "source": [
    "# el operdaor in se usa para saber si existe una determinada clave\n",
    "1 in d"
   ]
  },
  {
   "cell_type": "code",
   "execution_count": 22,
   "metadata": {},
   "outputs": [
    {
     "data": {
      "text/plain": [
       "False"
      ]
     },
     "execution_count": 22,
     "metadata": {},
     "output_type": "execute_result"
    }
   ],
   "source": [
    "4 in d"
   ]
  },
  {
   "cell_type": "code",
   "execution_count": 25,
   "metadata": {},
   "outputs": [
    {
     "data": {
      "text/plain": [
       "'Esa clave no existe'"
      ]
     },
     "execution_count": 25,
     "metadata": {},
     "output_type": "execute_result"
    }
   ],
   "source": [
    "# para obtener un valor dada una clave podemos uar el metodo .get(<clave>,<lo que nos devuelve si la clave no esta>)\n",
    "d.get('1','Esa clave no existe')"
   ]
  },
  {
   "cell_type": "code",
   "execution_count": 26,
   "metadata": {},
   "outputs": [
    {
     "data": {
      "text/plain": [
       "'uno'"
      ]
     },
     "execution_count": 26,
     "metadata": {},
     "output_type": "execute_result"
    }
   ],
   "source": [
    "d.get(1,'Esa clave no existe')"
   ]
  },
  {
   "cell_type": "code",
   "execution_count": 27,
   "metadata": {},
   "outputs": [
    {
     "data": {
      "text/plain": [
       "'dos'"
      ]
     },
     "execution_count": 27,
     "metadata": {},
     "output_type": "execute_result"
    }
   ],
   "source": [
    "# podemos usar el metodo .pop(<clave>) para obtener y eliminar un elemento\n",
    "d.pop(2)"
   ]
  },
  {
   "cell_type": "code",
   "execution_count": 28,
   "metadata": {},
   "outputs": [
    {
     "data": {
      "text/plain": [
       "{1: 'uno', 3: 'tres'}"
      ]
     },
     "execution_count": 28,
     "metadata": {},
     "output_type": "execute_result"
    }
   ],
   "source": [
    "d"
   ]
  },
  {
   "cell_type": "markdown",
   "metadata": {},
   "source": [
    "- Para juntar 2 diccionarios tenemos varios métodos:\n",
    "    - d_1.update(d2)\n",
    "    - d_nuevo = {**d1, **d2}"
   ]
  },
  {
   "cell_type": "code",
   "execution_count": 29,
   "metadata": {},
   "outputs": [],
   "source": [
    "d_1 = {\n",
    "    1:'uno',\n",
    "    2:'dos',\n",
    "    3:'tres'\n",
    "}\n",
    "d_2 = {\n",
    "    4:'cuatro',\n",
    "    5:'cinco',\n",
    "    6:'seis'\n",
    "}"
   ]
  },
  {
   "cell_type": "code",
   "execution_count": 30,
   "metadata": {},
   "outputs": [
    {
     "data": {
      "text/plain": [
       "{1: 'uno', 2: 'dos', 3: 'tres', 4: 'cuatro', 5: 'cinco', 6: 'seis'}"
      ]
     },
     "execution_count": 30,
     "metadata": {},
     "output_type": "execute_result"
    }
   ],
   "source": [
    "d_1.update(d_2)\n",
    "d_1"
   ]
  },
  {
   "cell_type": "code",
   "execution_count": 31,
   "metadata": {},
   "outputs": [
    {
     "data": {
      "text/plain": [
       "{1: 'uno', 2: 'dos', 3: 'tres', 4: 'cuatro', 5: 'cinco', 6: 'seis'}"
      ]
     },
     "execution_count": 31,
     "metadata": {},
     "output_type": "execute_result"
    }
   ],
   "source": [
    "d_new = {**d_1, **d_2}\n",
    "d_new"
   ]
  },
  {
   "cell_type": "markdown",
   "metadata": {},
   "source": [
    "- Con **.clear()** eliminamos todos los elementos"
   ]
  },
  {
   "cell_type": "code",
   "execution_count": 33,
   "metadata": {},
   "outputs": [
    {
     "data": {
      "text/plain": [
       "{}"
      ]
     },
     "execution_count": 33,
     "metadata": {},
     "output_type": "execute_result"
    }
   ],
   "source": [
    "d_new.clear()\n",
    "d_new"
   ]
  },
  {
   "cell_type": "markdown",
   "metadata": {},
   "source": [
    "## Ejercicios"
   ]
  },
  {
   "cell_type": "markdown",
   "metadata": {},
   "source": [
    "**1** Crea un diccionario con tu nombre como clave, y tu edad y aficiones como valor"
   ]
  },
  {
   "cell_type": "code",
   "execution_count": null,
   "metadata": {},
   "outputs": [],
   "source": [
    "dict_name_age = {\n",
    "    'juan': {\n",
    "        'age': 23,\n",
    "        'hobbies': ['futbol','basket','tenis']\n",
    "    },\n",
    "}"
   ]
  },
  {
   "cell_type": "markdown",
   "metadata": {},
   "source": [
    "**2** Escribir un programa que guarde en un diccionario los precios del supermercado, pregunte al usuario por un articulo, un número de unidades y devuelve el precio total.\n",
    "\n",
    "|Fruta|Precio|\n",
    "|-|-|\n",
    "|Leche|0.80|\n",
    "|Pilas|2.60|\n",
    "|Champu|1.50|\n",
    "|Hielos|4.20|"
   ]
  },
  {
   "cell_type": "code",
   "execution_count": null,
   "metadata": {},
   "outputs": [],
   "source": []
  }
 ],
 "metadata": {
  "kernelspec": {
   "display_name": "Python 3.8.8 ('base')",
   "language": "python",
   "name": "python3"
  },
  "language_info": {
   "codemirror_mode": {
    "name": "ipython",
    "version": 3
   },
   "file_extension": ".py",
   "mimetype": "text/x-python",
   "name": "python",
   "nbconvert_exporter": "python",
   "pygments_lexer": "ipython3",
   "version": "3.8.8"
  },
  "orig_nbformat": 4,
  "vscode": {
   "interpreter": {
    "hash": "3a2a03ea413f8be244ba01daf0e257f98f0dabeb03c7836e7000a0f3738aa8c9"
   }
  }
 },
 "nbformat": 4,
 "nbformat_minor": 2
}
