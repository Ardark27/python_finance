{
 "cells": [
  {
   "cell_type": "markdown",
   "metadata": {},
   "source": [
    "# Condicionales"
   ]
  },
  {
   "cell_type": "markdown",
   "metadata": {},
   "source": [
    "- En python la identación se utiliza para marcar los bloques \n",
    "- Los espacios que hay al principio de cada línea son importantes\n",
    "- Se usan 4 espacios por nivel\n",
    "- En los editores el **tabulador** suele estar configurado para ser 4 espacios"
   ]
  },
  {
   "cell_type": "code",
   "execution_count": null,
   "metadata": {},
   "outputs": [],
   "source": [
    "#NIVEL 1\n",
    "    #NIVEL 2\n",
    "        #NIVEL 3\n",
    "            #NIVEL 4"
   ]
  },
  {
   "cell_type": "markdown",
   "metadata": {},
   "source": [
    "## if\n",
    "```python\n",
    "if condicion:\n",
    "    codigo a ejecutar\n",
    "```\n",
    "\n",
    "- La condición puede ser True or False, se suelen usar operadores lógicos o relacionales\n",
    "- La línea tiene que terminar en :\n",
    "- El bloque de código puede ser cualquier codigo de python\n",
    "- El bloque de código se ejecuta cuando se cumple la condición del if"
   ]
  },
  {
   "cell_type": "code",
   "execution_count": 1,
   "metadata": {},
   "outputs": [
    {
     "name": "stdout",
     "output_type": "stream",
     "text": [
      "x es mayor que 5\n"
     ]
    }
   ],
   "source": [
    "x = 7\n",
    "\n",
    "if x > 5:\n",
    "    print(\"x es mayor que 5\")\n"
   ]
  },
  {
   "cell_type": "markdown",
   "metadata": {},
   "source": [
    "## if else\n",
    "```python\n",
    "if condicion:\n",
    "    codigo a ejecutar\n",
    "else:\n",
    "    otro codigo a ejecutar\n",
    "```\n",
    "- Se añade otra línea con else para contemplar todas las situacion que no se han tenido en cuenta en el caso del if\n",
    "- También tiene su propio codigo que solo se ejecuta cuando no se cumple la condición del if"
   ]
  },
  {
   "cell_type": "code",
   "execution_count": 2,
   "metadata": {},
   "outputs": [
    {
     "name": "stdout",
     "output_type": "stream",
     "text": [
      "x es mayor que 5\n"
     ]
    }
   ],
   "source": [
    "x = 7\n",
    "\n",
    "if x > 5:\n",
    "    print(\"x es mayor que 5\")\n",
    "else:\n",
    "    print(\"x es menor que 5\")"
   ]
  },
  {
   "cell_type": "code",
   "execution_count": 3,
   "metadata": {},
   "outputs": [
    {
     "name": "stdout",
     "output_type": "stream",
     "text": [
      "x es menor que 5\n"
     ]
    }
   ],
   "source": [
    "x = 4\n",
    "\n",
    "if x > 5:\n",
    "    print(\"x es mayor que 5\")\n",
    "else:\n",
    "    print(\"x es menor que 5\")"
   ]
  },
  {
   "cell_type": "markdown",
   "metadata": {},
   "source": [
    "## elif\n",
    "```python\n",
    "if condicion:\n",
    "    codigo a ejecutar 1\n",
    "elif otra condicion:\n",
    "    codigo a ejecutar 2\n",
    "else:\n",
    "    otro codigo a ejecutar 3\n",
    "```\n",
    "\n",
    "- elif se usa cuando quieres añadir más de una condición"
   ]
  },
  {
   "cell_type": "code",
   "execution_count": 4,
   "metadata": {},
   "outputs": [
    {
     "name": "stdout",
     "output_type": "stream",
     "text": [
      "x<y\n"
     ]
    }
   ],
   "source": [
    "x = 10\n",
    "y = 12\n",
    "\n",
    "if x > y:\n",
    "    print(\"x>y\")    \n",
    "elif x < y:\n",
    "    print(\"x<y\")\n",
    "else:\n",
    "    print(\"x=y\")"
   ]
  },
  {
   "cell_type": "markdown",
   "metadata": {},
   "source": [
    "# Bucles"
   ]
  },
  {
   "cell_type": "markdown",
   "metadata": {},
   "source": [
    "## for\n",
    "```python\n",
    "for variable in algo:\n",
    "    codigo a ejecutar\n",
    "```\n",
    "\n",
    "- Ese algo puede ser rango, lista, tupla...."
   ]
  },
  {
   "cell_type": "code",
   "execution_count": 5,
   "metadata": {},
   "outputs": [
    {
     "name": "stdout",
     "output_type": "stream",
     "text": [
      "0\n",
      "1\n",
      "2\n",
      "3\n",
      "4\n"
     ]
    }
   ],
   "source": [
    "# podemos usar un range para iterar sobre una secuencia de números\n",
    "for i in range(5):\n",
    "    print(i)\n"
   ]
  },
  {
   "cell_type": "code",
   "execution_count": 7,
   "metadata": {},
   "outputs": [
    {
     "name": "stdout",
     "output_type": "stream",
     "text": [
      "perro\n",
      "gato\n",
      "pez\n"
     ]
    }
   ],
   "source": [
    "# podemos iterar una lista\n",
    "x = ['perro', 'gato', 'pez']\n",
    "for i in x:\n",
    "    print(i)"
   ]
  },
  {
   "cell_type": "code",
   "execution_count": 8,
   "metadata": {},
   "outputs": [
    {
     "name": "stdout",
     "output_type": "stream",
     "text": [
      "p\n",
      "e\n",
      "r\n",
      "r\n",
      "o\n"
     ]
    }
   ],
   "source": [
    "# podemos iterar una cadena\n",
    "for i in \"perro\":\n",
    "    print(i)"
   ]
  },
  {
   "cell_type": "markdown",
   "metadata": {},
   "source": [
    "- Los diccionarios se pueden iterar de diversas formas"
   ]
  },
  {
   "cell_type": "code",
   "execution_count": 9,
   "metadata": {},
   "outputs": [
    {
     "name": "stdout",
     "output_type": "stream",
     "text": [
      "perro\n",
      "gato\n",
      "pez\n"
     ]
    }
   ],
   "source": [
    "# podemos iterar un diccionario\n",
    "x = {'perro': 1, 'gato': 2, 'pez': 3}\n",
    "for i in x:\n",
    "    print(i)"
   ]
  },
  {
   "cell_type": "code",
   "execution_count": 21,
   "metadata": {},
   "outputs": [
    {
     "name": "stdout",
     "output_type": "stream",
     "text": [
      "('perro', 1)\n",
      "('gato', 2)\n",
      "('pez', 3)\n"
     ]
    }
   ],
   "source": [
    "# podemos iterar un diccionario con sus valores y claves\n",
    "x = {'perro': 1, 'gato': 2, 'pez': 3}\n",
    "for i in x.items():\n",
    "    print(i)\n"
   ]
  },
  {
   "cell_type": "code",
   "execution_count": 22,
   "metadata": {},
   "outputs": [
    {
     "name": "stdout",
     "output_type": "stream",
     "text": [
      "perro 1\n",
      "gato 2\n",
      "pez 3\n"
     ]
    }
   ],
   "source": [
    "# podemos iterar un diccionario con sus valores y claves y desempaquetarlos\n",
    "x = {'perro': 1, 'gato': 2, 'pez': 3}\n",
    "for i, j in x.items():\n",
    "    print(i, j)"
   ]
  },
  {
   "cell_type": "code",
   "execution_count": 23,
   "metadata": {},
   "outputs": [
    {
     "name": "stdout",
     "output_type": "stream",
     "text": [
      "1\n",
      "2\n",
      "3\n"
     ]
    }
   ],
   "source": [
    "# podemos iterar un diccionario con sus valores \n",
    "x = {'perro': 1, 'gato': 2, 'pez': 3}\n",
    "for i in x.values():\n",
    "    print(i)"
   ]
  },
  {
   "cell_type": "code",
   "execution_count": 24,
   "metadata": {},
   "outputs": [
    {
     "name": "stdout",
     "output_type": "stream",
     "text": [
      "perro\n",
      "gato\n",
      "pez\n"
     ]
    }
   ],
   "source": [
    "# podemos iterar un diccionario con sus claves\n",
    "x = {'perro': 1, 'gato': 2, 'pez': 3}\n",
    "for i in x.keys():\n",
    "    print(i)"
   ]
  },
  {
   "cell_type": "markdown",
   "metadata": {},
   "source": [
    "- Se pueden iterar también sobre nested list"
   ]
  },
  {
   "cell_type": "code",
   "execution_count": 12,
   "metadata": {},
   "outputs": [
    {
     "name": "stdout",
     "output_type": "stream",
     "text": [
      "[1, 2, 3]\n",
      "1\n",
      "2\n",
      "3\n",
      "[4, 5, 6]\n",
      "4\n",
      "5\n",
      "6\n",
      "[7, 8, 9]\n",
      "7\n",
      "8\n",
      "9\n"
     ]
    }
   ],
   "source": [
    "lista_anidada = [[1,2,3], [4,5,6], [7,8,9]]\n",
    "\n",
    "for i in lista_anidada:\n",
    "    print(i)\n",
    "    for j in i:\n",
    "        print(j)"
   ]
  },
  {
   "cell_type": "markdown",
   "metadata": {},
   "source": [
    "- Se pueden usar muchas funciones para ayudar en la iteración:\n",
    "    - enumerate()\n",
    "    - zip()\n",
    "    - sorted()\n",
    "    - reversed()"
   ]
  },
  {
   "cell_type": "code",
   "execution_count": 13,
   "metadata": {},
   "outputs": [
    {
     "name": "stdout",
     "output_type": "stream",
     "text": [
      "o\n",
      "r\n",
      "r\n",
      "e\n",
      "p\n"
     ]
    }
   ],
   "source": [
    "for l in reversed('perro'):\n",
    "    print(l)"
   ]
  },
  {
   "cell_type": "code",
   "execution_count": 14,
   "metadata": {},
   "outputs": [
    {
     "name": "stdout",
     "output_type": "stream",
     "text": [
      "0 perro\n",
      "1 gato\n",
      "2 pez\n"
     ]
    }
   ],
   "source": [
    "lista = ['perro', 'gato', 'pez']\n",
    "\n",
    "for i, palabra in enumerate(lista): # con enumerate tenemos el índice y el valor\n",
    "    print(i, palabra)"
   ]
  },
  {
   "cell_type": "code",
   "execution_count": 15,
   "metadata": {},
   "outputs": [
    {
     "name": "stdout",
     "output_type": "stream",
     "text": [
      "juan 20\n",
      "maria 30\n",
      "pedro 40\n"
     ]
    }
   ],
   "source": [
    "nombre = ['juan', 'maria', 'pedro']\n",
    "edad = [20, 30, 40]\n",
    "\n",
    "for i, j in zip(nombre, edad): # zip nos permite iterar sobre dos listas al mismo tiempo\n",
    "    print(i, j)"
   ]
  },
  {
   "cell_type": "markdown",
   "metadata": {},
   "source": [
    "## while\n",
    "```python\n",
    "while condicion:  \n",
    "    codigo a ajecutar\n",
    "```\n",
    "\n",
    "- Con while mientras que se cumpla la condicion se ejecuta el código en bucle"
   ]
  },
  {
   "cell_type": "code",
   "execution_count": 16,
   "metadata": {},
   "outputs": [
    {
     "name": "stdout",
     "output_type": "stream",
     "text": [
      "0\n",
      "1\n",
      "2\n",
      "3\n",
      "4\n",
      "fin\n"
     ]
    }
   ],
   "source": [
    "x = 0\n",
    "\n",
    "while x < 5: # como se puede ver la condición se evalúa al principio del bucle\n",
    "    print(x)\n",
    "    x += 1\n",
    "\n",
    "print(\"fin\")"
   ]
  },
  {
   "cell_type": "markdown",
   "metadata": {},
   "source": [
    "## break"
   ]
  },
  {
   "cell_type": "markdown",
   "metadata": {},
   "source": [
    "- Se utiliza para acabar un bucle"
   ]
  },
  {
   "cell_type": "code",
   "execution_count": 18,
   "metadata": {},
   "outputs": [
    {
     "name": "stdout",
     "output_type": "stream",
     "text": [
      "0\n",
      "1\n",
      "2\n",
      "3\n"
     ]
    }
   ],
   "source": [
    "for i in range(5):\n",
    "    print(i)\n",
    "    if i == 3:\n",
    "        break"
   ]
  },
  {
   "cell_type": "markdown",
   "metadata": {},
   "source": [
    "## continue"
   ]
  },
  {
   "cell_type": "markdown",
   "metadata": {},
   "source": [
    "- Se utiliza para saltar una iteracion, continua con el bucle"
   ]
  },
  {
   "cell_type": "code",
   "execution_count": 19,
   "metadata": {},
   "outputs": [
    {
     "name": "stdout",
     "output_type": "stream",
     "text": [
      "0\n",
      "1\n",
      "2\n",
      "4\n"
     ]
    }
   ],
   "source": [
    "for i in range(5):\n",
    "    if i == 3:\n",
    "        continue\n",
    "    print(i)"
   ]
  },
  {
   "cell_type": "markdown",
   "metadata": {},
   "source": [
    "## Ejericios"
   ]
  },
  {
   "cell_type": "markdown",
   "metadata": {},
   "source": [
    "**1** Crea un programa que muestre por pantalla los numeros del 1 al 1000 divisibles entre 2 y 7"
   ]
  },
  {
   "cell_type": "code",
   "execution_count": null,
   "metadata": {},
   "outputs": [],
   "source": []
  },
  {
   "cell_type": "markdown",
   "metadata": {},
   "source": [
    "**2** Recorre la lista y encuentra los elementos que tengas longitud mayor a 3 y empiecen por a"
   ]
  },
  {
   "cell_type": "code",
   "execution_count": 20,
   "metadata": {},
   "outputs": [],
   "source": [
    "lista = ['arco', 'espada', 'escudo', 'pocion', 'alas', 'asa', 'pico']"
   ]
  }
 ],
 "metadata": {
  "kernelspec": {
   "display_name": "Python 3.8.8 ('base')",
   "language": "python",
   "name": "python3"
  },
  "language_info": {
   "codemirror_mode": {
    "name": "ipython",
    "version": 3
   },
   "file_extension": ".py",
   "mimetype": "text/x-python",
   "name": "python",
   "nbconvert_exporter": "python",
   "pygments_lexer": "ipython3",
   "version": "3.8.8"
  },
  "orig_nbformat": 4,
  "vscode": {
   "interpreter": {
    "hash": "3a2a03ea413f8be244ba01daf0e257f98f0dabeb03c7836e7000a0f3738aa8c9"
   }
  }
 },
 "nbformat": 4,
 "nbformat_minor": 2
}
