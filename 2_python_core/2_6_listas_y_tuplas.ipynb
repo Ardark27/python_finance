{
 "cells": [
  {
   "cell_type": "markdown",
   "metadata": {},
   "source": [
    "# Listas"
   ]
  },
  {
   "cell_type": "markdown",
   "metadata": {},
   "source": [
    "- Las listas son de las estructuras más usadas\n",
    "- Permiten guardar más de un valor\n",
    "- Se puede acceder a los datos mediante un índice, muy parecido a los strings"
   ]
  },
  {
   "cell_type": "code",
   "execution_count": 1,
   "metadata": {},
   "outputs": [
    {
     "data": {
      "text/plain": [
       "list"
      ]
     },
     "execution_count": 1,
     "metadata": {},
     "output_type": "execute_result"
    }
   ],
   "source": [
    "# podemos declarar una lista de la siguiente manera\n",
    "a = []\n",
    "type(a)"
   ]
  },
  {
   "cell_type": "code",
   "execution_count": 2,
   "metadata": {},
   "outputs": [
    {
     "data": {
      "text/plain": [
       "list"
      ]
     },
     "execution_count": 2,
     "metadata": {},
     "output_type": "execute_result"
    }
   ],
   "source": [
    "# también podemos usar la función list()\n",
    "a=list()\n",
    "type(a)"
   ]
  },
  {
   "cell_type": "markdown",
   "metadata": {},
   "source": [
    "- Se pueden meter los datos de manera manual al crear la propia lista"
   ]
  },
  {
   "cell_type": "code",
   "execution_count": 3,
   "metadata": {},
   "outputs": [],
   "source": [
    "x = ['perro','gato'] # los distintos elementos van separados por comas"
   ]
  },
  {
   "cell_type": "code",
   "execution_count": 4,
   "metadata": {},
   "outputs": [
    {
     "data": {
      "text/plain": [
       "['perro', 'gato']"
      ]
     },
     "execution_count": 4,
     "metadata": {},
     "output_type": "execute_result"
    }
   ],
   "source": [
    "x"
   ]
  },
  {
   "cell_type": "markdown",
   "metadata": {},
   "source": [
    "## ¿Cómo accedemos a los datos que tiene dentro?\n",
    "\n",
    "- De la misma manera que lo haciamos en los strings"
   ]
  },
  {
   "cell_type": "code",
   "execution_count": 5,
   "metadata": {},
   "outputs": [
    {
     "data": {
      "text/plain": [
       "'perro'"
      ]
     },
     "execution_count": 5,
     "metadata": {},
     "output_type": "execute_result"
    }
   ],
   "source": [
    "x[0]#también comienza por 0"
   ]
  },
  {
   "cell_type": "code",
   "execution_count": 6,
   "metadata": {},
   "outputs": [
    {
     "data": {
      "text/plain": [
       "'gato'"
      ]
     },
     "execution_count": 6,
     "metadata": {},
     "output_type": "execute_result"
    }
   ],
   "source": [
    "x[-1]"
   ]
  },
  {
   "cell_type": "markdown",
   "metadata": {},
   "source": [
    "- Los tipos de datos que tienen dentro una lista no tienen por que ser iguales, pueden ser incluso otra lista"
   ]
  },
  {
   "cell_type": "code",
   "execution_count": 7,
   "metadata": {},
   "outputs": [],
   "source": [
    "y = [1,2,3,4,5,6,7]"
   ]
  },
  {
   "cell_type": "code",
   "execution_count": 8,
   "metadata": {},
   "outputs": [
    {
     "name": "stdout",
     "output_type": "stream",
     "text": [
      "[['perro', 'gato'], [1, 2, 3, 4, 5, 6, 7]]\n"
     ]
    }
   ],
   "source": [
    "z = [x,y]\n",
    "print(z)"
   ]
  },
  {
   "cell_type": "code",
   "execution_count": 9,
   "metadata": {},
   "outputs": [
    {
     "data": {
      "text/plain": [
       "['perro', 'gato']"
      ]
     },
     "execution_count": 9,
     "metadata": {},
     "output_type": "execute_result"
    }
   ],
   "source": [
    "z[0]"
   ]
  },
  {
   "cell_type": "code",
   "execution_count": 10,
   "metadata": {},
   "outputs": [
    {
     "data": {
      "text/plain": [
       "[1, 2, 3, 4, 5]"
      ]
     },
     "execution_count": 10,
     "metadata": {},
     "output_type": "execute_result"
    }
   ],
   "source": [
    "z[1][:5] # primero accedemos a lista dentro de la lista, y después seleccionamos los elementos de la segunda lista "
   ]
  },
  {
   "cell_type": "markdown",
   "metadata": {},
   "source": [
    "- La forma \"correcta\", es decir la que se suele usar por PEP8 , es la siguiente"
   ]
  },
  {
   "cell_type": "code",
   "execution_count": 11,
   "metadata": {},
   "outputs": [],
   "source": [
    "lista_prueba =[\n",
    "    \"hola, me llamo juan\",\n",
    "    234,\n",
    "    [\n",
    "        \"pedro\",\n",
    "        \"juan\"\n",
    "    ],\n",
    "    2.98\n",
    "]"
   ]
  },
  {
   "cell_type": "code",
   "execution_count": 12,
   "metadata": {},
   "outputs": [
    {
     "data": {
      "text/plain": [
       "['hola, me llamo juan', 234, ['pedro', 'juan'], 2.98]"
      ]
     },
     "execution_count": 12,
     "metadata": {},
     "output_type": "execute_result"
    }
   ],
   "source": [
    "lista_prueba"
   ]
  },
  {
   "cell_type": "markdown",
   "metadata": {},
   "source": [
    "## Unpacking\n",
    "\n",
    "- Podemos sacar los objetos de una lista a variables individuales\n",
    "- Esto se llama unpacking\n",
    "- No se suele usar el unpacking tanto para listas como para tuplas"
   ]
  },
  {
   "cell_type": "code",
   "execution_count": 13,
   "metadata": {},
   "outputs": [],
   "source": [
    "a, b, c = [1, 2, 3]"
   ]
  },
  {
   "cell_type": "code",
   "execution_count": 14,
   "metadata": {},
   "outputs": [
    {
     "name": "stdout",
     "output_type": "stream",
     "text": [
      "1 2 3\n"
     ]
    }
   ],
   "source": [
    "print(a, b, c)"
   ]
  },
  {
   "cell_type": "markdown",
   "metadata": {},
   "source": [
    "- El unpacking se suele usar cuando una función nos devuelve más de un resultado"
   ]
  },
  {
   "cell_type": "markdown",
   "metadata": {},
   "source": [
    "## Range function\n",
    "- La función **range()** sirve para generar listas de números enteros.\n",
    "* range(n) =  0, 1, ..., n-1     Desde 0 hasta n-1\n",
    "* range(m,n)= m, m+1, ..., n-1   Desde m hasta n-1\n",
    "* range(m,n,s)= m, m+s, m+2s, ..., m + ((n-m-1)//s) * s   Desde m hasta n-1 de s en s\n",
    "\n",
    "```python\n",
    "<range> = range(to_exclusive)\n",
    "<range> = range(from_inclusive, to_exclusive)\n",
    "<range> = range(from_inclusive, to_exclusive, ±step_size)\n",
    "```"
   ]
  },
  {
   "cell_type": "code",
   "execution_count": 16,
   "metadata": {},
   "outputs": [
    {
     "data": {
      "text/plain": [
       "range(0, 10)"
      ]
     },
     "execution_count": 16,
     "metadata": {},
     "output_type": "execute_result"
    }
   ],
   "source": [
    "range(10) # Indica el rango, pero no lo crea en memoria"
   ]
  },
  {
   "cell_type": "code",
   "execution_count": 17,
   "metadata": {},
   "outputs": [
    {
     "data": {
      "text/plain": [
       "[0, 1, 2, 3, 4, 5, 6, 7, 8, 9]"
      ]
     },
     "execution_count": 17,
     "metadata": {},
     "output_type": "execute_result"
    }
   ],
   "source": [
    "list(range(10)) # Si lo convertimos a una lista, se crea en memoria"
   ]
  },
  {
   "cell_type": "code",
   "execution_count": 20,
   "metadata": {},
   "outputs": [
    {
     "data": {
      "text/plain": [
       "[7, 8, 9, 10, 11, 12, 13, 14, 15, 16]"
      ]
     },
     "execution_count": 20,
     "metadata": {},
     "output_type": "execute_result"
    }
   ],
   "source": [
    "list(range(7, 17))"
   ]
  },
  {
   "cell_type": "code",
   "execution_count": 19,
   "metadata": {},
   "outputs": [
    {
     "data": {
      "text/plain": [
       "[0, 10, 20, 30, 40, 50, 60, 70, 80, 90]"
      ]
     },
     "execution_count": 19,
     "metadata": {},
     "output_type": "execute_result"
    }
   ],
   "source": [
    "list(range(0, 100, 10))"
   ]
  },
  {
   "cell_type": "markdown",
   "metadata": {},
   "source": [
    "- Al igual que en los strings las listas tienen funciones incorporadas, algunas que nos pueden resultar útiles son:\n",
    "\n",
    "|Métodos de las listas|Notas|\n",
    "|---|----|\n",
    "|```<list> = <list>[from_inclusive : to_exclusive : ±step_size]```|      Indexación |\n",
    "|```<list>.append(<el>)```      |       Añade un elemento al final|\n",
    "|```<list>.extend(<collection>)```|     Une dos listas sin crear una nested list|\n",
    "|```<list>.sort()```|      Ordena de manera ascendente| \n",
    "|```<list>.reverse()```|      Invierte el orden de los elementos |\n",
    "|```<list> = sorted(<collection>)```|      Devuelve una copia ordenada|\n",
    "|```<iter> = reversed(<list>)```|     Devuelve una copia invertida|\n",
    "|```sum_of_elements  = sum(<collection>)```|      Suma los elementos cuando son numéricos|\n",
    "|```index = <list>.index(<el>)```|      Devuelve el índice del elemento en la lista.|\n",
    "|```<list>.insert(index, <el>)```|      Inserta un elemento y mueve el resto a la derecha.|\n",
    "|```<el> = <list>.pop([index])```|      Devuelve el último elemento de la lista y lo borra.|\n",
    "|```<list>.remove(<el>)```|        Borra la primera coincidencia o eleva un error.|\n",
    "|```<list>.clear()```|                  Borra todos los elementos.|\n",
    "\n",
    "Se puede leer más [aquí](https://www.softwaretestinghelp.com/python-list-functions/)"
   ]
  },
  {
   "cell_type": "code",
   "execution_count": 21,
   "metadata": {},
   "outputs": [
    {
     "data": {
      "text/plain": [
       "11"
      ]
     },
     "execution_count": 21,
     "metadata": {},
     "output_type": "execute_result"
    }
   ],
   "source": [
    "num = list(range(0,21,2))\n",
    "len(num) # nos dice la longitud de la lista"
   ]
  },
  {
   "cell_type": "code",
   "execution_count": 22,
   "metadata": {},
   "outputs": [
    {
     "data": {
      "text/plain": [
       "[0, 2, 4, 6, 8, 10, 12, 14, 16, 18, 20]"
      ]
     },
     "execution_count": 22,
     "metadata": {},
     "output_type": "execute_result"
    }
   ],
   "source": [
    "num"
   ]
  },
  {
   "cell_type": "code",
   "execution_count": 23,
   "metadata": {},
   "outputs": [
    {
     "name": "stdout",
     "output_type": "stream",
     "text": [
      "min = 0   max = 20   total = 110\n"
     ]
    }
   ],
   "source": [
    "print(\"min =\", min(num),\"  max =\", max(num), \"  total =\", sum(num))"
   ]
  },
  {
   "cell_type": "code",
   "execution_count": 24,
   "metadata": {},
   "outputs": [
    {
     "data": {
      "text/plain": [
       "[1, 2, 3, 9, 45, 65]"
      ]
     },
     "execution_count": 24,
     "metadata": {},
     "output_type": "execute_result"
    }
   ],
   "source": [
    "# podemos concatenar 2 listas usando el simbolo +\n",
    "[1, 2, 3] + [9, 45, 65]"
   ]
  },
  {
   "cell_type": "code",
   "execution_count": 27,
   "metadata": {},
   "outputs": [
    {
     "data": {
      "text/plain": [
       "[1, 2, 3, 5, 4, [7, 2]]"
      ]
     },
     "execution_count": 27,
     "metadata": {},
     "output_type": "execute_result"
    }
   ],
   "source": [
    "a = [1, 2, 3]\n",
    "b = [5, 4, [7, 2]]\n",
    "[*a, *b] "
   ]
  },
  {
   "cell_type": "code",
   "execution_count": 28,
   "metadata": {},
   "outputs": [
    {
     "data": {
      "text/plain": [
       "[[1, 2, 3], [5, 4, [7, 2]]]"
      ]
     },
     "execution_count": 28,
     "metadata": {},
     "output_type": "execute_result"
    }
   ],
   "source": [
    "# si no usamos el * obtendriamos lo siguiente\n",
    "[a, b] "
   ]
  },
  {
   "cell_type": "markdown",
   "metadata": {},
   "source": [
    "## Operadores de referencia\n",
    "\n",
    "- Para saber si un elemento está en una lista podemos usar el operador **in**"
   ]
  },
  {
   "cell_type": "code",
   "execution_count": 29,
   "metadata": {},
   "outputs": [],
   "source": [
    "names = ['pueblo', 'ciudad', 'autobus', 'coche']"
   ]
  },
  {
   "cell_type": "code",
   "execution_count": 32,
   "metadata": {},
   "outputs": [
    {
     "data": {
      "text/plain": [
       "False"
      ]
     },
     "execution_count": 32,
     "metadata": {},
     "output_type": "execute_result"
    }
   ],
   "source": [
    "'coche' in names"
   ]
  },
  {
   "cell_type": "code",
   "execution_count": 33,
   "metadata": {},
   "outputs": [
    {
     "data": {
      "text/plain": [
       "False"
      ]
     },
     "execution_count": 33,
     "metadata": {},
     "output_type": "execute_result"
    }
   ],
   "source": [
    "'Coche' in names"
   ]
  },
  {
   "cell_type": "markdown",
   "metadata": {},
   "source": [
    "- Si la lista es de strings al usar max(), min() devuelve el primer y el último elemento en orden léxico (ordenado por ASCII)"
   ]
  },
  {
   "cell_type": "code",
   "execution_count": 34,
   "metadata": {},
   "outputs": [
    {
     "name": "stdout",
     "output_type": "stream",
     "text": [
      "max = zz\n",
      "min = az\n"
     ]
    }
   ],
   "source": [
    "mlist = ['bzaa', 'ds', 'nc', 'az', 'z', 'klm', 'zz']\n",
    "print(\"max =\", max(mlist))\n",
    "print(\"min =\", min(mlist))"
   ]
  },
  {
   "cell_type": "code",
   "execution_count": 35,
   "metadata": {},
   "outputs": [
    {
     "name": "stdout",
     "output_type": "stream",
     "text": [
      "max = 94\n",
      "min = 1\n"
     ]
    }
   ],
   "source": [
    "nlist = ['1', '94', '93', '1000']\n",
    "print(\"max =\", max(nlist))\n",
    "print('min =', min(nlist))"
   ]
  },
  {
   "cell_type": "markdown",
   "metadata": {},
   "source": [
    "- **max(list, key=fun)**  tiene un parámetro key, donde podemos especificar una función que altere el comportamiento\n",
    "- Para encontra el elemento más largo podemos usar `len`.\n",
    "- **list.sort()** ordena la lista de manera ascendente.\n",
    "- **list.sort(reverse=True)** ordena la lista de manera descendente.\n",
    "- **list.sort(key=fun)** se puede pasar una función para ordenar.\n",
    "- IMPORTANTE: La operación es *inplace*,  la función no devuelve nada, la lista se ordena internamente.\n",
    "- Para obtener una COPIA ordenanda usar **sorted(list)**, también con parámetros **key** y **reverse**."
   ]
  },
  {
   "cell_type": "code",
   "execution_count": 36,
   "metadata": {},
   "outputs": [
    {
     "name": "stdout",
     "output_type": "stream",
     "text": [
      "['bzaa', 'ds', 'nc', 'az', 'z', 'klm', 'zz']\n",
      "longest = bzaa\n",
      "shortest = z\n"
     ]
    }
   ],
   "source": [
    "print(mlist)\n",
    "print('longest =', max(mlist, key=len))\n",
    "print('shortest =', min(mlist, key=len))"
   ]
  },
  {
   "cell_type": "code",
   "execution_count": 37,
   "metadata": {},
   "outputs": [
    {
     "data": {
      "text/plain": [
       "['az', 'bzaa', 'ds', 'klm', 'nc', 'z', 'zz']"
      ]
     },
     "execution_count": 37,
     "metadata": {},
     "output_type": "execute_result"
    }
   ],
   "source": [
    "mlist.sort()\n",
    "mlist"
   ]
  },
  {
   "cell_type": "code",
   "execution_count": 40,
   "metadata": {},
   "outputs": [
    {
     "name": "stdout",
     "output_type": "stream",
     "text": [
      "['zz', 'z', 'nc', 'klm', 'ds', 'bzaa', 'az']\n",
      "['z', 'zz', 'nc', 'ds', 'az', 'klm', 'bzaa']\n"
     ]
    }
   ],
   "source": [
    "mlist.sort(reverse=True)\n",
    "print(mlist)\n",
    "mlist.sort(key=len)\n",
    "print(mlist)\n"
   ]
  },
  {
   "cell_type": "code",
   "execution_count": 41,
   "metadata": {},
   "outputs": [
    {
     "name": "stdout",
     "output_type": "stream",
     "text": [
      "[3, 2, 1] [1, 2, 3]\n"
     ]
    }
   ],
   "source": [
    "lista_a = [3, 2, 1]\n",
    "lista_b = sorted(lista_a)\n",
    "print(f\"{lista_a} {lista_b}\")"
   ]
  },
  {
   "cell_type": "markdown",
   "metadata": {},
   "source": [
    "- **list.append(list)** para añadir un elemento al final de la lista."
   ]
  },
  {
   "cell_type": "code",
   "execution_count": 43,
   "metadata": {},
   "outputs": [
    {
     "name": "stdout",
     "output_type": "stream",
     "text": [
      "[8, 6, 4, 5, 9, 0, 1, 465646464]\n"
     ]
    }
   ],
   "source": [
    "lst = [8,6,4,5,9,0,1]\n",
    "lst.append(465646464)\n",
    "print(lst)"
   ]
  },
  {
   "cell_type": "markdown",
   "metadata": {},
   "source": [
    "- Añadir una lista a otra con *append* crea una nested list (lista anidada).\n",
    "- Para evitar este comportamiente usar  **list.extend(list)** "
   ]
  },
  {
   "cell_type": "code",
   "execution_count": 51,
   "metadata": {},
   "outputs": [],
   "source": [
    "list_1 = [1, 1, 4, 8, 7]\n",
    "list_2 = [10, 11, 12]"
   ]
  },
  {
   "cell_type": "code",
   "execution_count": 49,
   "metadata": {},
   "outputs": [
    {
     "data": {
      "text/plain": [
       "[1, 1, 4, 8, 7, [10, 11, 12]]"
      ]
     },
     "execution_count": 49,
     "metadata": {},
     "output_type": "execute_result"
    }
   ],
   "source": [
    "list_1.append(list_2)\n",
    "list_1"
   ]
  },
  {
   "cell_type": "code",
   "execution_count": 53,
   "metadata": {},
   "outputs": [],
   "source": [
    "list_1 = [1, 1, 4, 8, 7]\n",
    "list_2 = [10, 11, 12]"
   ]
  },
  {
   "cell_type": "code",
   "execution_count": 54,
   "metadata": {},
   "outputs": [
    {
     "data": {
      "text/plain": [
       "[1, 1, 4, 8, 7, 10, 11, 12]"
      ]
     },
     "execution_count": 54,
     "metadata": {},
     "output_type": "execute_result"
    }
   ],
   "source": [
    "list_1.extend(list_2)\n",
    "list_1"
   ]
  },
  {
   "cell_type": "markdown",
   "metadata": {},
   "source": [
    "- **list.pop()** devuelve el último elemento de la lista\n",
    "- También lo elimina de la lista\n",
    "- Se puede especificar un ínidice con **list.pop(index)**"
   ]
  },
  {
   "cell_type": "code",
   "execution_count": 55,
   "metadata": {},
   "outputs": [
    {
     "data": {
      "text/plain": [
       "12"
      ]
     },
     "execution_count": 55,
     "metadata": {},
     "output_type": "execute_result"
    }
   ],
   "source": [
    "list_1.pop()"
   ]
  },
  {
   "cell_type": "code",
   "execution_count": 56,
   "metadata": {},
   "outputs": [
    {
     "data": {
      "text/plain": [
       "[1, 1, 4, 8, 7, 10, 11]"
      ]
     },
     "execution_count": 56,
     "metadata": {},
     "output_type": "execute_result"
    }
   ],
   "source": [
    "list_1"
   ]
  },
  {
   "cell_type": "markdown",
   "metadata": {},
   "source": [
    "## Copia de listas\n",
    "- Cuando se hace una asignación de una lista a otra variable **NO** implica que se realice una copia de la misma\n",
    "- Esa variable sería una referencia a la lista"
   ]
  },
  {
   "cell_type": "code",
   "execution_count": 59,
   "metadata": {},
   "outputs": [],
   "source": [
    "list_a = [1,5,4,9,8,7,10]\n",
    "list_b = list_a"
   ]
  },
  {
   "cell_type": "code",
   "execution_count": 60,
   "metadata": {},
   "outputs": [
    {
     "name": "stdout",
     "output_type": "stream",
     "text": [
      "[1, 5, 4, 9, 8, 7, 10]\n",
      "[1, 5, 4, 9, 8, 7, 10]\n",
      "[1, 1, 4, 9, 8, 7, 10]\n",
      "[1, 1, 4, 9, 8, 7, 10]\n"
     ]
    }
   ],
   "source": [
    "print(list_a)\n",
    "print(list_b)\n",
    "list_a[1] = 1\n",
    "print(list_a)\n",
    "print(list_b)"
   ]
  },
  {
   "cell_type": "markdown",
   "metadata": {},
   "source": [
    "Como se puede ver ambas variables cambian, esto es debido a que hacen referencia a la misma lista"
   ]
  },
  {
   "cell_type": "code",
   "execution_count": 61,
   "metadata": {},
   "outputs": [
    {
     "name": "stdout",
     "output_type": "stream",
     "text": [
      "A = [1, 1, 4, 7, 8, 9, 9]\n",
      "B = [1, 1, 4, 7, 8, 9, 9]\n"
     ]
    }
   ],
   "source": [
    "# se puede ver que ocurre lo mismo con sort\n",
    "list_a.sort()\n",
    "list_a.pop()\n",
    "list_a.append(9)\n",
    "print(f\"A = {list_a}\")\n",
    "print(f\"B = {list_b}\")"
   ]
  },
  {
   "cell_type": "markdown",
   "metadata": {},
   "source": [
    "## Tuplas\n",
    "- Las tuplas son lista, pero a diferencia de las listas son inmutables\n",
    "- Se suelen usar para devolver los resultados de una función\n",
    "- Todo el resto es igual a las listas"
   ]
  },
  {
   "cell_type": "code",
   "execution_count": 1,
   "metadata": {},
   "outputs": [],
   "source": [
    "# Podemos definir una tupla de las siguientes maneras\n",
    "tupla_1 = ()\n",
    "tupla_2 = tuple()"
   ]
  },
  {
   "cell_type": "code",
   "execution_count": 2,
   "metadata": {},
   "outputs": [
    {
     "data": {
      "text/plain": [
       "tuple"
      ]
     },
     "execution_count": 2,
     "metadata": {},
     "output_type": "execute_result"
    }
   ],
   "source": [
    "type(tupla_1)"
   ]
  },
  {
   "cell_type": "code",
   "execution_count": 3,
   "metadata": {},
   "outputs": [
    {
     "data": {
      "text/plain": [
       "tuple"
      ]
     },
     "execution_count": 3,
     "metadata": {},
     "output_type": "execute_result"
    }
   ],
   "source": [
    "type(tupla_2)"
   ]
  },
  {
   "cell_type": "markdown",
   "metadata": {},
   "source": [
    "- Con una coma al final de un objeto se genera una tupla."
   ]
  },
  {
   "cell_type": "code",
   "execution_count": 4,
   "metadata": {},
   "outputs": [
    {
     "data": {
      "text/plain": [
       "(27,)"
      ]
     },
     "execution_count": 4,
     "metadata": {},
     "output_type": "execute_result"
    }
   ],
   "source": [
    "27,"
   ]
  },
  {
   "cell_type": "code",
   "execution_count": 6,
   "metadata": {},
   "outputs": [
    {
     "data": {
      "text/plain": [
       "(27, 27, 27, 27, 27)"
      ]
     },
     "execution_count": 6,
     "metadata": {},
     "output_type": "execute_result"
    }
   ],
   "source": [
    "5*(27,)"
   ]
  },
  {
   "cell_type": "markdown",
   "metadata": {},
   "source": [
    "- Se pueden crear tuplas de forma manual, al igual que con las listas"
   ]
  },
  {
   "cell_type": "code",
   "execution_count": 7,
   "metadata": {},
   "outputs": [
    {
     "name": "stdout",
     "output_type": "stream",
     "text": [
      "(1, 2, 3)\n"
     ]
    }
   ],
   "source": [
    "tupla_3 = (1,2,3)\n",
    "print(tupla_3)"
   ]
  },
  {
   "cell_type": "code",
   "execution_count": 8,
   "metadata": {},
   "outputs": [
    {
     "name": "stdout",
     "output_type": "stream",
     "text": [
      "(1, 4, 5, 6, 9, 7)\n"
     ]
    }
   ],
   "source": [
    "tupla_4 = tuple([1,4,5,6,9,7]) # convertimos una lista en tupla con la función tuple()\n",
    "print(tupla_4)"
   ]
  },
  {
   "cell_type": "code",
   "execution_count": 9,
   "metadata": {},
   "outputs": [
    {
     "name": "stdout",
     "output_type": "stream",
     "text": [
      "('P', 'e', 'r', 'r', 'o')\n"
     ]
    }
   ],
   "source": [
    "# tambien es valido para strings\n",
    "tupla_5 = tuple('Perro')\n",
    "print(tupla_5)"
   ]
  },
  {
   "cell_type": "markdown",
   "metadata": {},
   "source": [
    "- Tenemos las mismas normas de indexación y slicing que las listas"
   ]
  },
  {
   "cell_type": "code",
   "execution_count": 11,
   "metadata": {},
   "outputs": [
    {
     "data": {
      "text/plain": [
       "(1, 2, 3)"
      ]
     },
     "execution_count": 11,
     "metadata": {},
     "output_type": "execute_result"
    }
   ],
   "source": [
    "tupla_3"
   ]
  },
  {
   "cell_type": "code",
   "execution_count": 13,
   "metadata": {},
   "outputs": [
    {
     "name": "stdout",
     "output_type": "stream",
     "text": [
      "1\n",
      "3\n"
     ]
    }
   ],
   "source": [
    "print(tupla_3[0])\n",
    "print(tupla_3[-1])"
   ]
  },
  {
   "cell_type": "code",
   "execution_count": 14,
   "metadata": {},
   "outputs": [
    {
     "ename": "TypeError",
     "evalue": "'tuple' object does not support item assignment",
     "output_type": "error",
     "traceback": [
      "\u001b[1;31m---------------------------------------------------------------------------\u001b[0m",
      "\u001b[1;31mTypeError\u001b[0m                                 Traceback (most recent call last)",
      "\u001b[1;32mc:\\Users\\adriy\\Desktop\\Curso_uam\\python_finance\\2_python_core\\2_6_listas_y_tuplas.ipynb Celda 76\u001b[0m in \u001b[0;36m<cell line: 2>\u001b[1;34m()\u001b[0m\n\u001b[0;32m      <a href='vscode-notebook-cell:/c%3A/Users/adriy/Desktop/Curso_uam/python_finance/2_python_core/2_6_listas_y_tuplas.ipynb#Y136sZmlsZQ%3D%3D?line=0'>1</a>\u001b[0m \u001b[39m# lo que quiere decir que sean inmutables es :\u001b[39;00m\n\u001b[1;32m----> <a href='vscode-notebook-cell:/c%3A/Users/adriy/Desktop/Curso_uam/python_finance/2_python_core/2_6_listas_y_tuplas.ipynb#Y136sZmlsZQ%3D%3D?line=1'>2</a>\u001b[0m tupla_3[\u001b[39m0\u001b[39m]\u001b[39m=\u001b[39m \u001b[39m'\u001b[39m\u001b[39mhola\u001b[39m\u001b[39m'\u001b[39m\n",
      "\u001b[1;31mTypeError\u001b[0m: 'tuple' object does not support item assignment"
     ]
    }
   ],
   "source": [
    "# lo que quiere decir que sean inmutables es :\n",
    "tupla_3[0]= 'hola'"
   ]
  },
  {
   "cell_type": "markdown",
   "metadata": {},
   "source": [
    "## Mapping\n",
    "\n",
    "- Se suele usar para asignar valores devueltos por una función\n",
    "- Las dos partes del mapping deben ser de la misma longitud"
   ]
  },
  {
   "cell_type": "code",
   "execution_count": 15,
   "metadata": {},
   "outputs": [
    {
     "name": "stdout",
     "output_type": "stream",
     "text": [
      "uno dos tres\n",
      "uno dos tres\n"
     ]
    }
   ],
   "source": [
    "(a, b, c) = ('uno', 'dos', 'tres') # Usando tuplas\n",
    "print(a,b,c)\n",
    "\n",
    "a, b, c = 'uno', 'dos', 'tres' # Otra manera de hacerlo\n",
    "print(a,b,c)"
   ]
  },
  {
   "cell_type": "code",
   "execution_count": 16,
   "metadata": {},
   "outputs": [
    {
     "ename": "ValueError",
     "evalue": "too many values to unpack (expected 2)",
     "output_type": "error",
     "traceback": [
      "\u001b[1;31m---------------------------------------------------------------------------\u001b[0m",
      "\u001b[1;31mValueError\u001b[0m                                Traceback (most recent call last)",
      "\u001b[1;32mc:\\Users\\adriy\\Desktop\\Curso_uam\\python_finance\\2_python_core\\2_6_listas_y_tuplas.ipynb Celda 79\u001b[0m in \u001b[0;36m<cell line: 1>\u001b[1;34m()\u001b[0m\n\u001b[1;32m----> <a href='vscode-notebook-cell:/c%3A/Users/adriy/Desktop/Curso_uam/python_finance/2_python_core/2_6_listas_y_tuplas.ipynb#Y143sZmlsZQ%3D%3D?line=0'>1</a>\u001b[0m (a, c) \u001b[39m=\u001b[39m (\u001b[39m'\u001b[39m\u001b[39muno\u001b[39m\u001b[39m'\u001b[39m, \u001b[39m'\u001b[39m\u001b[39mdos\u001b[39m\u001b[39m'\u001b[39m, \u001b[39m'\u001b[39m\u001b[39mtres\u001b[39m\u001b[39m'\u001b[39m)\n",
      "\u001b[1;31mValueError\u001b[0m: too many values to unpack (expected 2)"
     ]
    }
   ],
   "source": [
    "(a, c) = ('uno', 'dos', 'tres') # Usando tuplas"
   ]
  },
  {
   "cell_type": "markdown",
   "metadata": {},
   "source": [
    "- Con * podemos obtener el primer elemento, el último o ambos\n",
    "- Suele ser útil cuando la función nos devuelve valores que no necesitamos"
   ]
  },
  {
   "cell_type": "code",
   "execution_count": 17,
   "metadata": {},
   "outputs": [
    {
     "name": "stdout",
     "output_type": "stream",
     "text": [
      "uno\n"
     ]
    }
   ],
   "source": [
    "# la barra baja es el nombre de una variable que se suele usar para indicar \"no me interesa\"\n",
    "primero, *_ = 'uno', 'dos', 'tres', 'cuatro' \n",
    "print(primero)"
   ]
  },
  {
   "cell_type": "code",
   "execution_count": 19,
   "metadata": {},
   "outputs": [
    {
     "name": "stdout",
     "output_type": "stream",
     "text": [
      "cuatro\n"
     ]
    }
   ],
   "source": [
    "*_, ultimo = 'uno', 'dos', 'tres', 'cuatro' \n",
    "print(ultimo)"
   ]
  },
  {
   "cell_type": "code",
   "execution_count": 20,
   "metadata": {},
   "outputs": [
    {
     "name": "stdout",
     "output_type": "stream",
     "text": [
      "uno cuatro\n"
     ]
    }
   ],
   "source": [
    "primero,*_, ultimo = 'uno', 'dos', 'tres', 'cuatro' \n",
    "print(primero, ultimo)"
   ]
  },
  {
   "cell_type": "markdown",
   "metadata": {},
   "source": [
    "## Strings como listas o tuplas\n",
    "- Los strings pueden ser tratados como listas o tuplas."
   ]
  },
  {
   "cell_type": "code",
   "execution_count": 21,
   "metadata": {},
   "outputs": [],
   "source": [
    "s = \"Lorem Ipsum is simply dummy text of the printing and typesetting industry.\\\n",
    "     Lorem Ipsum has been the industry's standard dummy text ever since the 1500s,\\\n",
    "     when an unknown printer took a galley of type and scrambled it to make a type specimen book.\\\n",
    "     It has survived not only five centuries, but also the leap into electronic typesetting, remaining essentially unchanged.\\\n",
    "     It was popularised in the 1960s with the release of Letraset sheets containing Lorem Ipsum passages,\\\n",
    "     and more recently with desktop publishing software like Aldus PageMaker including versions of Lorem Ipsum\""
   ]
  },
  {
   "cell_type": "code",
   "execution_count": 24,
   "metadata": {},
   "outputs": [
    {
     "name": "stdout",
     "output_type": "stream",
     "text": [
      "Words are: ['Lorem', 'Ipsum', 'is', 'simply', 'dummy', 'text', 'of', 'the', 'printing', 'and', 'typesetting', 'industry.', 'Lorem', 'Ipsum', 'has', 'been', 'the', \"industry's\", 'standard', 'dummy', 'text', 'ever', 'since', 'the', '1500s,', 'when', 'an', 'unknown', 'printer', 'took', 'a', 'galley', 'of', 'type', 'and', 'scrambled', 'it', 'to', 'make', 'a', 'type', 'specimen', 'book.', 'It', 'has', 'survived', 'not', 'only', 'five', 'centuries,', 'but', 'also', 'the', 'leap', 'into', 'electronic', 'typesetting,', 'remaining', 'essentially', 'unchanged.', 'It', 'was', 'popularised', 'in', 'the', '1960s', 'with', 'the', 'release', 'of', 'Letraset', 'sheets', 'containing', 'Lorem', 'Ipsum', 'passages,', 'and', 'more', 'recently', 'with', 'desktop', 'publishing', 'software', 'like', 'Aldus', 'PageMaker', 'including', 'versions', 'of', 'Lorem', 'Ipsum']\n"
     ]
    }
   ],
   "source": [
    "# Lista de palabras\n",
    "palabras = s.split() \n",
    "print(f\"Words are: {palabras}\")"
   ]
  },
  {
   "cell_type": "code",
   "execution_count": 28,
   "metadata": {},
   "outputs": [
    {
     "name": "stdout",
     "output_type": "stream",
     "text": [
      "Lorem...Ipsum...is...simply...dummy...text...of...the...printing...and...typesetting...industry....Lorem...Ipsum...has...been...the...industry's...standard...dummy...text...ever...since...the...1500s,...when...an...unknown...printer...took...a...galley...of...type...and...scrambled...it...to...make...a...type...specimen...book....It...has...survived...not...only...five...centuries,...but...also...the...leap...into...electronic...typesetting,...remaining...essentially...unchanged....It...was...popularised...in...the...1960s...with...the...release...of...Letraset...sheets...containing...Lorem...Ipsum...passages,...and...more...recently...with...desktop...publishing...software...like...Aldus...PageMaker...including...versions...of...Lorem...Ipsum\n"
     ]
    }
   ],
   "source": [
    "# Añade -- entre palabras \n",
    "print(\"...\".join(palabras))"
   ]
  },
  {
   "cell_type": "markdown",
   "metadata": {},
   "source": [
    "## Ejercicios"
   ]
  },
  {
   "cell_type": "markdown",
   "metadata": {},
   "source": [
    "**1** Haz una lista con tickers"
   ]
  },
  {
   "cell_type": "code",
   "execution_count": 1,
   "metadata": {},
   "outputs": [],
   "source": [
    "tickers = ['GOOG', 'AAPL', 'FB', 'AMZN', 'MSFT']"
   ]
  },
  {
   "cell_type": "markdown",
   "metadata": {},
   "source": [
    "**2** Asigna la lista del ejercicio anterior a new_tickers. Cambia un elemento de new_tickers por otro. ¿Qué le ocurre a tickers?."
   ]
  },
  {
   "cell_type": "code",
   "execution_count": 2,
   "metadata": {},
   "outputs": [
    {
     "name": "stdout",
     "output_type": "stream",
     "text": [
      "['aaaaaaa', 'AAPL', 'FB', 'AMZN', 'MSFT']\n"
     ]
    }
   ],
   "source": [
    "new_tickers = tickers\n",
    "new_tickers[0] = 'aaaaaaa'\n",
    "print(tickers)"
   ]
  },
  {
   "cell_type": "markdown",
   "metadata": {},
   "source": [
    "**3** Crea una lista con los numeros impares del 1 al 50"
   ]
  },
  {
   "cell_type": "code",
   "execution_count": 3,
   "metadata": {},
   "outputs": [],
   "source": [
    "lista_1_50 = list(range(1,51))"
   ]
  },
  {
   "cell_type": "markdown",
   "metadata": {},
   "source": [
    "**4** Construye una lista anidada que contenga la siguiente matriz:\n",
    "\n",
    "\\begin{bmatrix}\n",
    "    1 & .5 \\\\\n",
    "    .5 & 1\n",
    " \\end{bmatrix}"
   ]
  },
  {
   "cell_type": "code",
   "execution_count": 5,
   "metadata": {},
   "outputs": [],
   "source": [
    "matrix = [[1,0.5],[0.5,1]]"
   ]
  }
 ],
 "metadata": {
  "kernelspec": {
   "display_name": "Python 3.9.12 ('base')",
   "language": "python",
   "name": "python3"
  },
  "language_info": {
   "codemirror_mode": {
    "name": "ipython",
    "version": 3
   },
   "file_extension": ".py",
   "mimetype": "text/x-python",
   "name": "python",
   "nbconvert_exporter": "python",
   "pygments_lexer": "ipython3",
   "version": "3.9.12"
  },
  "orig_nbformat": 4,
  "vscode": {
   "interpreter": {
    "hash": "18a6b418ca989a304418b74e14b57df096d22507d5bd0d85ac6f17ef362aab2d"
   }
  }
 },
 "nbformat": 4,
 "nbformat_minor": 2
}
