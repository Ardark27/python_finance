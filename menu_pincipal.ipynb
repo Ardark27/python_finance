{
 "cells": [
  {
   "cell_type": "markdown",
   "metadata": {},
   "source": [
    "# Python Aplicado a Finanzas Cuantitativas.\n",
    "\n",
    "\n",
    "\n",
    "<center>\n",
    "<img src=\"./1_introduccion/imgs/python-logo.png\"  alt=\"drawing\" width=\"500\"/>\n",
    "<img src=\"./1_introduccion/imgs/UAM-Logo.png\"  alt=\"drawing\" width=\"400\"/>\n",
    "</center>\n",
    "\n",
    "\n",
    "- [Alfonso Santos](https://www.linkedin.com/in/alfonso-santos-0195762/) / [Adrián Pascual](https://www.linkedin.com/in/adrian-pascual-gomez/)\n",
    "- alfonso.santos.ramon@gmail.com / pacualadri@gmail.com"
   ]
  },
  {
   "cell_type": "markdown",
   "metadata": {},
   "source": [
    "## Módulo 1: Introducción\n",
    "* [1.1](1_introduccion/1_1_instalacion.ipynb) Instalación\n",
    "* [1.2](1_introduccion/1_2_IDE.ipynb) IDEs\n",
    "* [1.3](1_introduccion/1_3_entornos_virtuales.ipynb) Entornos Virtuales\n",
    "* [1.4](1_introduccion/1_4_jupyter_notebooks.ipynb) Jupyter Notebook"
   ]
  },
  {
   "cell_type": "markdown",
   "metadata": {},
   "source": [
    "## Módulo 2: Core de python\n",
    "* [2.1](2_python_core/2_1_syntaxis.ipynb) Syntaxis básica\n",
    "* [2.2](2_python_core/2_2_variables.ipynb) Variables\n",
    "* [2.3](2_python_core/2_3_operadores.ipynb) Operadores\n",
    "* [2.4](2_python_core/2_4_funciones_incorporadas.ipynb) Funciones incorporadas\n",
    "* [2.5](2_python_core/2_5_strings.ipynb) Strings\n",
    "* [2.6](2_python_core/2_6_listas_y_tuplas.ipynb) Listas y tuplas\n",
    "* [2.7](2_python_core/2_7_diccionarios.ipynb) Diccionarios\n",
    "* [2.8](2_python_core/2_8_condicionales_y_bucles.ipynb) Condicionales y bucles\n",
    "* [2.9](2_python_core/2_9_funciones.ipynb) Funciones\n",
    "* [2.10](2_python_core/2_10_modulos_y_scripts.ipynb) Modulos y scripts\n"
   ]
  },
  {
   "cell_type": "markdown",
   "metadata": {},
   "source": [
    "## Módulo 3: Numpy\n",
    "* [3.1](3_numpy/3_1_array.ipynb) Array\n",
    "* [3.2](3_numpy/3_2_operaciones_matematicas_y_estacdistica.ipynb) Matemáticas y estadística\n",
    "* [3.3](3_numpy/3_3_operaciones_algebraicas.ipynb) Álgebra\n",
    "* [3.4](3_numpy/3_4_numeros_aletorios.ipynb) Números aleatorios\n",
    "* [3.5](3_numpy/3_5_funciones.ipynb) Funciones\n"
   ]
  },
  {
   "cell_type": "markdown",
   "metadata": {},
   "source": [
    "## Módulo 5: Montecarlo y Optimización de carteras\n",
    "* [5.1](5_montecarlo\\5_1_montecarlo.ipynb) Montecarlo: Problema de la moneda\n",
    "* [5.2](5_montecarlo\\5_2_series_a_futuro.ipynb) Montecarlo: Simulación de series futuras\n",
    "* [5.3](5_montecarlo\\5_3_montecarlo_carteras.ipynb) Montecarlo : Optimización de carteras \n",
    "* [5.4](5_montecarlo\\5_4_optimizacion_cuadratica_de_carteras.ipynb) Optimización de carteras cuadrática\n",
    "\n"
   ]
  },
  {
   "cell_type": "markdown",
   "metadata": {},
   "source": [
    "## Módulo 7: VAR\n",
    "* [7.1](7_VAR\\7_1_var_parametrico.ipynb) Paramétrico\n",
    "* [7.2](7_VAR\\7_2_var_historico.ipynb) Histórico\n",
    "* [7.3](7_VAR\\7_3_var_montecarlo.ipynb) Montecarlo\n"
   ]
  },
  {
   "cell_type": "markdown",
   "metadata": {},
   "source": [
    "## Módulo 8:  Visualización y tratamiento de datos\n",
    "* [8.1](8_visualizacion_y_tratamiento_de_datos\\8_1_visualizacion.ipynb) Visualización\n",
    "* [8.2](8_visualizacion_y_tratamiento_de_datos\\8_2_lectura_y_escritura.ipynb) Lectura y escritura de archivos\n",
    "* [8.3](8_visualizacion_y_tratamiento_de_datos\\8_3_preparacion_y_limpieza.ipynb) Preparación y limpieza de datos"
   ]
  }
 ],
 "metadata": {
  "kernelspec": {
   "display_name": "Python 3.8.8 ('base')",
   "language": "python",
   "name": "python3"
  },
  "language_info": {
   "name": "python",
   "version": "3.9.12"
  },
  "orig_nbformat": 4,
  "vscode": {
   "interpreter": {
    "hash": "18a6b418ca989a304418b74e14b57df096d22507d5bd0d85ac6f17ef362aab2d"
   }
  }
 },
 "nbformat": 4,
 "nbformat_minor": 2
}
