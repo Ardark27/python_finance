{
 "cells": [
  {
   "cell_type": "markdown",
   "metadata": {},
   "source": [
    "# Python Aplicado a Finanzas Cuantitativas.\n",
    "\n",
    "\n",
    "\n",
    "<center>\n",
    "<img src=\"./1_introduccion/imgs/python-logo.png\"  alt=\"drawing\" width=\"500\"/>\n",
    "<img src=\"./1_introduccion/imgs/UAM-Logo.png\"  alt=\"drawing\" width=\"400\"/>\n",
    "</center>\n",
    "\n",
    "\n",
    "- [Alfonso Santos](https://www.linkedin.com/in/alfonso-santos-0195762/) / [Adrián Pascual](https://www.linkedin.com/in/adrian-pascual-gomez/)\n",
    "- alfonso.santos.ramon@gmail.com / pacualadri@gmail.com"
   ]
  },
  {
   "cell_type": "markdown",
   "metadata": {},
   "source": [
    "## Módulo 1: introducción\n",
    "* [1.1](1_introduccion/1_1_instalacion.ipynb) Instalación\n",
    "* [1.2](1_introduccion/1_2_IDE.ipynb) IDEs\n",
    "* [1.3](1_introduccion/1_3_entornos_virtuales.ipynb) Entornos Virtuales\n",
    "* [1.4](1_introduccion/1_4_jupyter_notebooks.ipynb) Jupyter Notebook"
   ]
  },
  {
   "cell_type": "markdown",
   "metadata": {},
   "source": []
  }
 ],
 "metadata": {
  "kernelspec": {
   "display_name": "Python 3.8.8 ('base')",
   "language": "python",
   "name": "python3"
  },
  "language_info": {
   "name": "python",
   "version": "3.9.12"
  },
  "orig_nbformat": 4,
  "vscode": {
   "interpreter": {
    "hash": "18a6b418ca989a304418b74e14b57df096d22507d5bd0d85ac6f17ef362aab2d"
   }
  }
 },
 "nbformat": 4,
 "nbformat_minor": 2
}
