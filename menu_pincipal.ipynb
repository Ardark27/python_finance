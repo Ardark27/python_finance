{
 "cells": [
  {
   "cell_type": "markdown",
   "metadata": {},
   "source": [
    "# Python Aplicado a Finanzas Cuantitativas.\n",
    "\n",
    "\n",
    "\n",
    "<center>\n",
    "<img src=\"./1_introduccion/imgs/python-logo.png\"  alt=\"drawing\" width=\"500\"/>\n",
    "<img src=\"./1_introduccion/imgs/UAM-Logo.png\"  alt=\"drawing\" width=\"400\"/>\n",
    "</center>\n",
    "\n",
    "\n",
    "- [Alfonso Santos](https://www.linkedin.com/in/alfonso-santos-0195762/) / [Adrián Pascual](https://www.linkedin.com/in/adrian-pascual-gomez/)\n",
    "- alfonso.santos.ramon@gmail.com / pacualadri@gmail.com"
   ]
  },
  {
   "cell_type": "markdown",
   "metadata": {},
   "source": [
    "## Módulo 1: Introducción\n",
    "* [1.1](1_introduccion/1_1_instalacion.ipynb) Instalación\n",
    "* [1.2](1_introduccion/1_2_IDE.ipynb) IDEs\n",
    "* [1.3](1_introduccion/1_3_entornos_virtuales.ipynb) Entornos Virtuales\n",
    "* [1.4](1_introduccion/1_4_jupyter_notebooks.ipynb) Jupyter Notebook"
   ]
  },
  {
   "cell_type": "markdown",
   "metadata": {},
   "source": [
    "## Módulo 2: Core de python\n",
    "* [2.1](2_python_core/2_1_syntaxis.ipynb) Syntaxis básica\n",
    "* [2.2](2_python_core/2_2_variables.ipynb) Variables\n",
    "* [2.3](2_python_core/2_3_operadores.ipynb) Operadores\n",
    "* [2.4](2_python_core/2_4_funciones_incorporadas.ipynb) Funciones incorporadas\n",
    "* [2.5](2_python_core/2_5_strings.ipynb) Strings\n",
    "* [2.6](2_python_core/2_6_listas_y_tuplas.ipynb) Listas y tuplas\n",
    "* [2.7](2_python_core/2_7_diccionarios.ipynb) Diccionarios\n",
    "* [2.8](2_python_core/2_8_condicionales_y_bucles.ipynb) Condicionales y bucles\n",
    "* [2.9](2_python_core/2_9_funciones.ipynb) Funciones\n",
    "* [2.10](2_python_core/2_10_modulos_y_scripts.ipynb) Modulos y scripts\n"
   ]
  },
  {
   "cell_type": "markdown",
   "metadata": {},
   "source": [
    "## Módulo 3: Numpy\n",
    "* [3.1](3_numpy/3_1_array.ipynb) Array\n",
    "* [3.2](3_numpy/3_2_operaciones_matematicas_y_estadistica.ipynb) Matemáticas y estadística\n",
    "* [3.3](3_numpy/3_3_operaciones_algebraicas.ipynb) Álgebra\n",
    "* [3.4](3_numpy/3_4_numeros_aletorios.ipynb) Números aleatorios\n",
    "* [3.5](3_numpy/3_5_funciones.ipynb) Funciones\n"
   ]
  },
  {
   "cell_type": "markdown",
   "metadata": {},
   "source": [
    "## Módulo 4: Introducción a la librería Pandas\n",
    "* [4.1](4_pandas/4_1_Creación_Series_Dataframes.ipynb) Definición y creación de las estructuras de datos Series y DataFrames\n",
    "* [4.2](4_pandas/4_2_indexación_slicing.ipynb) Indexación y slicing\n",
    "* [4.3](4_pandas/4_3_reindexación.ipynb) Reindexación\n",
    "* [4.4](4_pandas/4_4_operaciones_aritméticas.ipynb) Operaciones aritméticas\n",
    "* [4.5](4_pandas/4_5_visualización_básica.ipynb) Visualización básica\n",
    "* [4.6](4_pandas/4_6_funciones_mapping.ipynb) Aplicación de funciones y mapping\n",
    "* [4.7](4_pandas/4_7_combinar_juntar.ipynb) Combinar, juntar y agrupar\n",
    "* [4.8](4_pandas/4_8_ejemplos_financieros.ipynb) Ejemplos financieros\n",
    "    \n"
   ]
  },
  {
   "cell_type": "markdown",
   "metadata": {},
   "source": [
    "## Módulo 5: Tratamiento de series temporales\n",
    "* [5.1](5_series_temporales/5_1_time_structures.ipynb) Estructuras de tiempo nativas y de pandas\n",
    "* [5.2](5_series_temporales/5_2_indexación_rangos.ipynb) Indexación, selección y rangos\n",
    "* [5.3](5_series_temporales/5_3_offsets_shift.ipynb) Índices duplicados, offsets y desplazamiento\n",
    "* [5.4](5_series_temporales/5_4_resampling.ipynb) Remuestreo, donwsampling, OHLC\n",
    "* [5.5](5_series_temporales/5_5_ventanas_moviles.ipynb) Ventanas móviles\n"
   ]
  },
  {
   "cell_type": "markdown",
   "metadata": {},
   "source": [
    "## Módulo 6:  Visualización y tratamiento de datos\n",
    "* [6.1](6_visualizacion_y_tratamiento_de_datos\\6_1_visualizacion_matplotlib.ipynb) Visualización Matplotlib\n",
    "* [6.2](6_visualizacion_y_tratamiento_de_datos\\6_2_visualizacion_seaborn.ipynb) Visualización Seaborn\n",
    "* [6.3](6_visualizacion_y_tratamiento_de_datos\\6_3_visualizacion_plotly.ipynb) Visualización Plotly\n",
    "* [6.4](6_visualizacion_y_tratamiento_de_datos\\6_4_lectura_y_escritura.ipynb) Lectura y escritura de archivos\n",
    "* [6.5](6_visualizacion_y_tratamiento_de_datos\\6_5_preparacion_y_limpieza.ipynb) Preparación y limpieza de datos"
   ]
  },
  {
   "cell_type": "markdown",
   "metadata": {},
   "source": [
    "## Módulo 7: Montecarlo y Optimización de carteras\n",
    "* [7.1](7_montecarlo/7_1_montecarlo.ipynb) Montecarlo: Problema de la moneda\n",
    "* [7.2](7_montecarlo\\7_2_series_a_futuro.ipynb) Montecarlo: Simulación de series futuras\n",
    "* [7.3](7_montecarlo\\7_3_montecarlo_carteras.ipynb) Montecarlo : Optimización de carteras \n",
    "\n"
   ]
  },
  {
   "cell_type": "markdown",
   "metadata": {},
   "source": [
    "## Módulo 8: Estructura temporal de tipos de interés"
   ]
  },
  {
   "cell_type": "markdown",
   "metadata": {},
   "source": [
    "## Módulo 9: Valoración de Bonos y Swaps"
   ]
  },
  {
   "cell_type": "markdown",
   "metadata": {},
   "source": []
  },
  {
   "cell_type": "markdown",
   "metadata": {},
   "source": [
    "## Módulo 10: Valoración de opciones\n",
    "* [10.1](10_opciones/10_1_getdata.ipynb) Obtención de datos de opciones de la web\n",
    "* [10.2](10_opciones/10_2_val_arboles.ipynb) Valoración por árboles\n",
    "* [10.3](10_opciones/10_3_val_montecarlo.ipynb) Valoración por Montecarlo\n",
    "* [10.4](10_opciones/10_4_val_black_scholes.ipynb) Valoración por Black and Scholes\n",
    "* [10.5](10_opciones/10_5_griegas.ipynb) Sensibilidades y curvatura: Griegas"
   ]
  },
  {
   "cell_type": "markdown",
   "metadata": {},
   "source": [
    "## Módulo 11: VAR\n",
    "* [11.1](11_VAR\\11_1_var_parametrico.ipynb) Paramétrico\n",
    "* [11.2](11_VAR\\11_2_var_historico.ipynb) Histórico\n",
    "* [11.3](11_VAR\\11_3_var_montecarlo.ipynb) Montecarlo\n"
   ]
  }
 ],
 "metadata": {
  "kernelspec": {
   "display_name": "Python 3.9.12 ('base')",
   "language": "python",
   "name": "python3"
  },
  "language_info": {
   "codemirror_mode": {
    "name": "ipython",
    "version": 3
   },
   "file_extension": ".py",
   "mimetype": "text/x-python",
   "name": "python",
   "nbconvert_exporter": "python",
   "pygments_lexer": "ipython3",
   "version": "3.9.12"
  },
  "orig_nbformat": 4,
  "vscode": {
   "interpreter": {
    "hash": "18a6b418ca989a304418b74e14b57df096d22507d5bd0d85ac6f17ef362aab2d"
   }
  }
 },
 "nbformat": 4,
 "nbformat_minor": 2
}
