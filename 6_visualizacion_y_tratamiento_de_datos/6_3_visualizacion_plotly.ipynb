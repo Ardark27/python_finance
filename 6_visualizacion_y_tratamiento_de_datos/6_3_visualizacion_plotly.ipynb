{
 "cells": [
  {
   "cell_type": "markdown",
   "metadata": {},
   "source": [
    "# Plotly"
   ]
  },
  {
   "cell_type": "markdown",
   "metadata": {},
   "source": [
    "- Plotly es una librería  con la que se pueden crear gráficos interactivos\n",
    "- Plotly es una librería que puede resultar muy fácil de aprender, pero muy díficil de dominar"
   ]
  },
  {
   "cell_type": "code",
   "execution_count": 1,
   "metadata": {},
   "outputs": [],
   "source": [
    "import plotly.express as px\n",
    "import plotly.graph_objects as go"
   ]
  },
  {
   "cell_type": "markdown",
   "metadata": {},
   "source": [
    "- Se podría decir que plotly está dividida en dos partes:\n",
    "    - plotly express para hacer gráficos de forma rápida <-- Nos vamos a centrar en esta parte\n",
    "    - plotly graph objects para hacer gráficos de forma más profesional\n",
    "- Todas las funciones se pueden encontrar [aquí](https://plotly.com/python-api-reference/index.html)"
   ]
  },
  {
   "cell_type": "markdown",
   "metadata": {},
   "source": [
    "## Plotly Express"
   ]
  },
  {
   "cell_type": "markdown",
   "metadata": {},
   "source": [
    "- Está es la parte más simple de plotly\n",
    "- En ella podemos encontrar figuras de todo tipo\n",
    "- Todas las figuras disponibles se encuentran [aquí](https://plotly.com/python/plotly-express/)"
   ]
  },
  {
   "cell_type": "markdown",
   "metadata": {},
   "source": [
    "### 2D"
   ]
  },
  {
   "cell_type": "code",
   "execution_count": 2,
   "metadata": {},
   "outputs": [
    {
     "data": {
      "application/vnd.plotly.v1+json": {
       "config": {
        "plotlyServerURL": "https://plot.ly"
       },
       "data": [
        {
         "hovertemplate": "x=%{x}<br>y=%{y}<extra></extra>",
         "legendgroup": "",
         "marker": {
          "color": "#636efa",
          "symbol": "circle"
         },
         "mode": "markers",
         "name": "",
         "orientation": "v",
         "showlegend": false,
         "type": "scatter",
         "x": [
          0,
          1,
          2,
          3,
          4
         ],
         "xaxis": "x",
         "y": [
          0,
          1,
          4,
          9,
          16
         ],
         "yaxis": "y"
        }
       ],
       "layout": {
        "legend": {
         "tracegroupgap": 0
        },
        "margin": {
         "t": 60
        },
        "template": {
         "data": {
          "bar": [
           {
            "error_x": {
             "color": "#2a3f5f"
            },
            "error_y": {
             "color": "#2a3f5f"
            },
            "marker": {
             "line": {
              "color": "#E5ECF6",
              "width": 0.5
             },
             "pattern": {
              "fillmode": "overlay",
              "size": 10,
              "solidity": 0.2
             }
            },
            "type": "bar"
           }
          ],
          "barpolar": [
           {
            "marker": {
             "line": {
              "color": "#E5ECF6",
              "width": 0.5
             },
             "pattern": {
              "fillmode": "overlay",
              "size": 10,
              "solidity": 0.2
             }
            },
            "type": "barpolar"
           }
          ],
          "carpet": [
           {
            "aaxis": {
             "endlinecolor": "#2a3f5f",
             "gridcolor": "white",
             "linecolor": "white",
             "minorgridcolor": "white",
             "startlinecolor": "#2a3f5f"
            },
            "baxis": {
             "endlinecolor": "#2a3f5f",
             "gridcolor": "white",
             "linecolor": "white",
             "minorgridcolor": "white",
             "startlinecolor": "#2a3f5f"
            },
            "type": "carpet"
           }
          ],
          "choropleth": [
           {
            "colorbar": {
             "outlinewidth": 0,
             "ticks": ""
            },
            "type": "choropleth"
           }
          ],
          "contour": [
           {
            "colorbar": {
             "outlinewidth": 0,
             "ticks": ""
            },
            "colorscale": [
             [
              0,
              "#0d0887"
             ],
             [
              0.1111111111111111,
              "#46039f"
             ],
             [
              0.2222222222222222,
              "#7201a8"
             ],
             [
              0.3333333333333333,
              "#9c179e"
             ],
             [
              0.4444444444444444,
              "#bd3786"
             ],
             [
              0.5555555555555556,
              "#d8576b"
             ],
             [
              0.6666666666666666,
              "#ed7953"
             ],
             [
              0.7777777777777778,
              "#fb9f3a"
             ],
             [
              0.8888888888888888,
              "#fdca26"
             ],
             [
              1,
              "#f0f921"
             ]
            ],
            "type": "contour"
           }
          ],
          "contourcarpet": [
           {
            "colorbar": {
             "outlinewidth": 0,
             "ticks": ""
            },
            "type": "contourcarpet"
           }
          ],
          "heatmap": [
           {
            "colorbar": {
             "outlinewidth": 0,
             "ticks": ""
            },
            "colorscale": [
             [
              0,
              "#0d0887"
             ],
             [
              0.1111111111111111,
              "#46039f"
             ],
             [
              0.2222222222222222,
              "#7201a8"
             ],
             [
              0.3333333333333333,
              "#9c179e"
             ],
             [
              0.4444444444444444,
              "#bd3786"
             ],
             [
              0.5555555555555556,
              "#d8576b"
             ],
             [
              0.6666666666666666,
              "#ed7953"
             ],
             [
              0.7777777777777778,
              "#fb9f3a"
             ],
             [
              0.8888888888888888,
              "#fdca26"
             ],
             [
              1,
              "#f0f921"
             ]
            ],
            "type": "heatmap"
           }
          ],
          "heatmapgl": [
           {
            "colorbar": {
             "outlinewidth": 0,
             "ticks": ""
            },
            "colorscale": [
             [
              0,
              "#0d0887"
             ],
             [
              0.1111111111111111,
              "#46039f"
             ],
             [
              0.2222222222222222,
              "#7201a8"
             ],
             [
              0.3333333333333333,
              "#9c179e"
             ],
             [
              0.4444444444444444,
              "#bd3786"
             ],
             [
              0.5555555555555556,
              "#d8576b"
             ],
             [
              0.6666666666666666,
              "#ed7953"
             ],
             [
              0.7777777777777778,
              "#fb9f3a"
             ],
             [
              0.8888888888888888,
              "#fdca26"
             ],
             [
              1,
              "#f0f921"
             ]
            ],
            "type": "heatmapgl"
           }
          ],
          "histogram": [
           {
            "marker": {
             "pattern": {
              "fillmode": "overlay",
              "size": 10,
              "solidity": 0.2
             }
            },
            "type": "histogram"
           }
          ],
          "histogram2d": [
           {
            "colorbar": {
             "outlinewidth": 0,
             "ticks": ""
            },
            "colorscale": [
             [
              0,
              "#0d0887"
             ],
             [
              0.1111111111111111,
              "#46039f"
             ],
             [
              0.2222222222222222,
              "#7201a8"
             ],
             [
              0.3333333333333333,
              "#9c179e"
             ],
             [
              0.4444444444444444,
              "#bd3786"
             ],
             [
              0.5555555555555556,
              "#d8576b"
             ],
             [
              0.6666666666666666,
              "#ed7953"
             ],
             [
              0.7777777777777778,
              "#fb9f3a"
             ],
             [
              0.8888888888888888,
              "#fdca26"
             ],
             [
              1,
              "#f0f921"
             ]
            ],
            "type": "histogram2d"
           }
          ],
          "histogram2dcontour": [
           {
            "colorbar": {
             "outlinewidth": 0,
             "ticks": ""
            },
            "colorscale": [
             [
              0,
              "#0d0887"
             ],
             [
              0.1111111111111111,
              "#46039f"
             ],
             [
              0.2222222222222222,
              "#7201a8"
             ],
             [
              0.3333333333333333,
              "#9c179e"
             ],
             [
              0.4444444444444444,
              "#bd3786"
             ],
             [
              0.5555555555555556,
              "#d8576b"
             ],
             [
              0.6666666666666666,
              "#ed7953"
             ],
             [
              0.7777777777777778,
              "#fb9f3a"
             ],
             [
              0.8888888888888888,
              "#fdca26"
             ],
             [
              1,
              "#f0f921"
             ]
            ],
            "type": "histogram2dcontour"
           }
          ],
          "mesh3d": [
           {
            "colorbar": {
             "outlinewidth": 0,
             "ticks": ""
            },
            "type": "mesh3d"
           }
          ],
          "parcoords": [
           {
            "line": {
             "colorbar": {
              "outlinewidth": 0,
              "ticks": ""
             }
            },
            "type": "parcoords"
           }
          ],
          "pie": [
           {
            "automargin": true,
            "type": "pie"
           }
          ],
          "scatter": [
           {
            "fillpattern": {
             "fillmode": "overlay",
             "size": 10,
             "solidity": 0.2
            },
            "type": "scatter"
           }
          ],
          "scatter3d": [
           {
            "line": {
             "colorbar": {
              "outlinewidth": 0,
              "ticks": ""
             }
            },
            "marker": {
             "colorbar": {
              "outlinewidth": 0,
              "ticks": ""
             }
            },
            "type": "scatter3d"
           }
          ],
          "scattercarpet": [
           {
            "marker": {
             "colorbar": {
              "outlinewidth": 0,
              "ticks": ""
             }
            },
            "type": "scattercarpet"
           }
          ],
          "scattergeo": [
           {
            "marker": {
             "colorbar": {
              "outlinewidth": 0,
              "ticks": ""
             }
            },
            "type": "scattergeo"
           }
          ],
          "scattergl": [
           {
            "marker": {
             "colorbar": {
              "outlinewidth": 0,
              "ticks": ""
             }
            },
            "type": "scattergl"
           }
          ],
          "scattermapbox": [
           {
            "marker": {
             "colorbar": {
              "outlinewidth": 0,
              "ticks": ""
             }
            },
            "type": "scattermapbox"
           }
          ],
          "scatterpolar": [
           {
            "marker": {
             "colorbar": {
              "outlinewidth": 0,
              "ticks": ""
             }
            },
            "type": "scatterpolar"
           }
          ],
          "scatterpolargl": [
           {
            "marker": {
             "colorbar": {
              "outlinewidth": 0,
              "ticks": ""
             }
            },
            "type": "scatterpolargl"
           }
          ],
          "scatterternary": [
           {
            "marker": {
             "colorbar": {
              "outlinewidth": 0,
              "ticks": ""
             }
            },
            "type": "scatterternary"
           }
          ],
          "surface": [
           {
            "colorbar": {
             "outlinewidth": 0,
             "ticks": ""
            },
            "colorscale": [
             [
              0,
              "#0d0887"
             ],
             [
              0.1111111111111111,
              "#46039f"
             ],
             [
              0.2222222222222222,
              "#7201a8"
             ],
             [
              0.3333333333333333,
              "#9c179e"
             ],
             [
              0.4444444444444444,
              "#bd3786"
             ],
             [
              0.5555555555555556,
              "#d8576b"
             ],
             [
              0.6666666666666666,
              "#ed7953"
             ],
             [
              0.7777777777777778,
              "#fb9f3a"
             ],
             [
              0.8888888888888888,
              "#fdca26"
             ],
             [
              1,
              "#f0f921"
             ]
            ],
            "type": "surface"
           }
          ],
          "table": [
           {
            "cells": {
             "fill": {
              "color": "#EBF0F8"
             },
             "line": {
              "color": "white"
             }
            },
            "header": {
             "fill": {
              "color": "#C8D4E3"
             },
             "line": {
              "color": "white"
             }
            },
            "type": "table"
           }
          ]
         },
         "layout": {
          "annotationdefaults": {
           "arrowcolor": "#2a3f5f",
           "arrowhead": 0,
           "arrowwidth": 1
          },
          "autotypenumbers": "strict",
          "coloraxis": {
           "colorbar": {
            "outlinewidth": 0,
            "ticks": ""
           }
          },
          "colorscale": {
           "diverging": [
            [
             0,
             "#8e0152"
            ],
            [
             0.1,
             "#c51b7d"
            ],
            [
             0.2,
             "#de77ae"
            ],
            [
             0.3,
             "#f1b6da"
            ],
            [
             0.4,
             "#fde0ef"
            ],
            [
             0.5,
             "#f7f7f7"
            ],
            [
             0.6,
             "#e6f5d0"
            ],
            [
             0.7,
             "#b8e186"
            ],
            [
             0.8,
             "#7fbc41"
            ],
            [
             0.9,
             "#4d9221"
            ],
            [
             1,
             "#276419"
            ]
           ],
           "sequential": [
            [
             0,
             "#0d0887"
            ],
            [
             0.1111111111111111,
             "#46039f"
            ],
            [
             0.2222222222222222,
             "#7201a8"
            ],
            [
             0.3333333333333333,
             "#9c179e"
            ],
            [
             0.4444444444444444,
             "#bd3786"
            ],
            [
             0.5555555555555556,
             "#d8576b"
            ],
            [
             0.6666666666666666,
             "#ed7953"
            ],
            [
             0.7777777777777778,
             "#fb9f3a"
            ],
            [
             0.8888888888888888,
             "#fdca26"
            ],
            [
             1,
             "#f0f921"
            ]
           ],
           "sequentialminus": [
            [
             0,
             "#0d0887"
            ],
            [
             0.1111111111111111,
             "#46039f"
            ],
            [
             0.2222222222222222,
             "#7201a8"
            ],
            [
             0.3333333333333333,
             "#9c179e"
            ],
            [
             0.4444444444444444,
             "#bd3786"
            ],
            [
             0.5555555555555556,
             "#d8576b"
            ],
            [
             0.6666666666666666,
             "#ed7953"
            ],
            [
             0.7777777777777778,
             "#fb9f3a"
            ],
            [
             0.8888888888888888,
             "#fdca26"
            ],
            [
             1,
             "#f0f921"
            ]
           ]
          },
          "colorway": [
           "#636efa",
           "#EF553B",
           "#00cc96",
           "#ab63fa",
           "#FFA15A",
           "#19d3f3",
           "#FF6692",
           "#B6E880",
           "#FF97FF",
           "#FECB52"
          ],
          "font": {
           "color": "#2a3f5f"
          },
          "geo": {
           "bgcolor": "white",
           "lakecolor": "white",
           "landcolor": "#E5ECF6",
           "showlakes": true,
           "showland": true,
           "subunitcolor": "white"
          },
          "hoverlabel": {
           "align": "left"
          },
          "hovermode": "closest",
          "mapbox": {
           "style": "light"
          },
          "paper_bgcolor": "white",
          "plot_bgcolor": "#E5ECF6",
          "polar": {
           "angularaxis": {
            "gridcolor": "white",
            "linecolor": "white",
            "ticks": ""
           },
           "bgcolor": "#E5ECF6",
           "radialaxis": {
            "gridcolor": "white",
            "linecolor": "white",
            "ticks": ""
           }
          },
          "scene": {
           "xaxis": {
            "backgroundcolor": "#E5ECF6",
            "gridcolor": "white",
            "gridwidth": 2,
            "linecolor": "white",
            "showbackground": true,
            "ticks": "",
            "zerolinecolor": "white"
           },
           "yaxis": {
            "backgroundcolor": "#E5ECF6",
            "gridcolor": "white",
            "gridwidth": 2,
            "linecolor": "white",
            "showbackground": true,
            "ticks": "",
            "zerolinecolor": "white"
           },
           "zaxis": {
            "backgroundcolor": "#E5ECF6",
            "gridcolor": "white",
            "gridwidth": 2,
            "linecolor": "white",
            "showbackground": true,
            "ticks": "",
            "zerolinecolor": "white"
           }
          },
          "shapedefaults": {
           "line": {
            "color": "#2a3f5f"
           }
          },
          "ternary": {
           "aaxis": {
            "gridcolor": "white",
            "linecolor": "white",
            "ticks": ""
           },
           "baxis": {
            "gridcolor": "white",
            "linecolor": "white",
            "ticks": ""
           },
           "bgcolor": "#E5ECF6",
           "caxis": {
            "gridcolor": "white",
            "linecolor": "white",
            "ticks": ""
           }
          },
          "title": {
           "x": 0.05
          },
          "xaxis": {
           "automargin": true,
           "gridcolor": "white",
           "linecolor": "white",
           "ticks": "",
           "title": {
            "standoff": 15
           },
           "zerolinecolor": "white",
           "zerolinewidth": 2
          },
          "yaxis": {
           "automargin": true,
           "gridcolor": "white",
           "linecolor": "white",
           "ticks": "",
           "title": {
            "standoff": 15
           },
           "zerolinecolor": "white",
           "zerolinewidth": 2
          }
         }
        },
        "xaxis": {
         "anchor": "y",
         "domain": [
          0,
          1
         ],
         "title": {
          "text": "x"
         }
        },
        "yaxis": {
         "anchor": "x",
         "domain": [
          0,
          1
         ],
         "title": {
          "text": "y"
         }
        }
       }
      }
     },
     "metadata": {},
     "output_type": "display_data"
    }
   ],
   "source": [
    "fig = px.scatter(x=[0, 1, 2, 3, 4], y=[0, 1, 4, 9, 16])\n",
    "fig.show()"
   ]
  },
  {
   "cell_type": "markdown",
   "metadata": {},
   "source": [
    "Podemos explorar los datos de forma interactiva"
   ]
  },
  {
   "cell_type": "code",
   "execution_count": 3,
   "metadata": {},
   "outputs": [
    {
     "data": {
      "application/vnd.plotly.v1+json": {
       "config": {
        "plotlyServerURL": "https://plot.ly"
       },
       "data": [
        {
         "hovertemplate": "species=setosa<br>sepal_width=%{x}<br>sepal_length=%{y}<extra></extra>",
         "legendgroup": "setosa",
         "marker": {
          "color": "#636efa",
          "symbol": "circle"
         },
         "mode": "markers",
         "name": "setosa",
         "orientation": "v",
         "showlegend": true,
         "type": "scatter",
         "x": [
          3.5,
          3,
          3.2,
          3.1,
          3.6,
          3.9,
          3.4,
          3.4,
          2.9,
          3.1,
          3.7,
          3.4,
          3,
          3,
          4,
          4.4,
          3.9,
          3.5,
          3.8,
          3.8,
          3.4,
          3.7,
          3.6,
          3.3,
          3.4,
          3,
          3.4,
          3.5,
          3.4,
          3.2,
          3.1,
          3.4,
          4.1,
          4.2,
          3.1,
          3.2,
          3.5,
          3.1,
          3,
          3.4,
          3.5,
          2.3,
          3.2,
          3.5,
          3.8,
          3,
          3.8,
          3.2,
          3.7,
          3.3
         ],
         "xaxis": "x",
         "y": [
          5.1,
          4.9,
          4.7,
          4.6,
          5,
          5.4,
          4.6,
          5,
          4.4,
          4.9,
          5.4,
          4.8,
          4.8,
          4.3,
          5.8,
          5.7,
          5.4,
          5.1,
          5.7,
          5.1,
          5.4,
          5.1,
          4.6,
          5.1,
          4.8,
          5,
          5,
          5.2,
          5.2,
          4.7,
          4.8,
          5.4,
          5.2,
          5.5,
          4.9,
          5,
          5.5,
          4.9,
          4.4,
          5.1,
          5,
          4.5,
          4.4,
          5,
          5.1,
          4.8,
          5.1,
          4.6,
          5.3,
          5
         ],
         "yaxis": "y"
        },
        {
         "hovertemplate": "species=versicolor<br>sepal_width=%{x}<br>sepal_length=%{y}<extra></extra>",
         "legendgroup": "versicolor",
         "marker": {
          "color": "#EF553B",
          "symbol": "circle"
         },
         "mode": "markers",
         "name": "versicolor",
         "orientation": "v",
         "showlegend": true,
         "type": "scatter",
         "x": [
          3.2,
          3.2,
          3.1,
          2.3,
          2.8,
          2.8,
          3.3,
          2.4,
          2.9,
          2.7,
          2,
          3,
          2.2,
          2.9,
          2.9,
          3.1,
          3,
          2.7,
          2.2,
          2.5,
          3.2,
          2.8,
          2.5,
          2.8,
          2.9,
          3,
          2.8,
          3,
          2.9,
          2.6,
          2.4,
          2.4,
          2.7,
          2.7,
          3,
          3.4,
          3.1,
          2.3,
          3,
          2.5,
          2.6,
          3,
          2.6,
          2.3,
          2.7,
          3,
          2.9,
          2.9,
          2.5,
          2.8
         ],
         "xaxis": "x",
         "y": [
          7,
          6.4,
          6.9,
          5.5,
          6.5,
          5.7,
          6.3,
          4.9,
          6.6,
          5.2,
          5,
          5.9,
          6,
          6.1,
          5.6,
          6.7,
          5.6,
          5.8,
          6.2,
          5.6,
          5.9,
          6.1,
          6.3,
          6.1,
          6.4,
          6.6,
          6.8,
          6.7,
          6,
          5.7,
          5.5,
          5.5,
          5.8,
          6,
          5.4,
          6,
          6.7,
          6.3,
          5.6,
          5.5,
          5.5,
          6.1,
          5.8,
          5,
          5.6,
          5.7,
          5.7,
          6.2,
          5.1,
          5.7
         ],
         "yaxis": "y"
        },
        {
         "hovertemplate": "species=virginica<br>sepal_width=%{x}<br>sepal_length=%{y}<extra></extra>",
         "legendgroup": "virginica",
         "marker": {
          "color": "#00cc96",
          "symbol": "circle"
         },
         "mode": "markers",
         "name": "virginica",
         "orientation": "v",
         "showlegend": true,
         "type": "scatter",
         "x": [
          3.3,
          2.7,
          3,
          2.9,
          3,
          3,
          2.5,
          2.9,
          2.5,
          3.6,
          3.2,
          2.7,
          3,
          2.5,
          2.8,
          3.2,
          3,
          3.8,
          2.6,
          2.2,
          3.2,
          2.8,
          2.8,
          2.7,
          3.3,
          3.2,
          2.8,
          3,
          2.8,
          3,
          2.8,
          3.8,
          2.8,
          2.8,
          2.6,
          3,
          3.4,
          3.1,
          3,
          3.1,
          3.1,
          3.1,
          2.7,
          3.2,
          3.3,
          3,
          2.5,
          3,
          3.4,
          3
         ],
         "xaxis": "x",
         "y": [
          6.3,
          5.8,
          7.1,
          6.3,
          6.5,
          7.6,
          4.9,
          7.3,
          6.7,
          7.2,
          6.5,
          6.4,
          6.8,
          5.7,
          5.8,
          6.4,
          6.5,
          7.7,
          7.7,
          6,
          6.9,
          5.6,
          7.7,
          6.3,
          6.7,
          7.2,
          6.2,
          6.1,
          6.4,
          7.2,
          7.4,
          7.9,
          6.4,
          6.3,
          6.1,
          7.7,
          6.3,
          6.4,
          6,
          6.9,
          6.7,
          6.9,
          5.8,
          6.8,
          6.7,
          6.7,
          6.3,
          6.5,
          6.2,
          5.9
         ],
         "yaxis": "y"
        }
       ],
       "layout": {
        "legend": {
         "title": {
          "text": "species"
         },
         "tracegroupgap": 0
        },
        "margin": {
         "t": 60
        },
        "template": {
         "data": {
          "bar": [
           {
            "error_x": {
             "color": "#2a3f5f"
            },
            "error_y": {
             "color": "#2a3f5f"
            },
            "marker": {
             "line": {
              "color": "#E5ECF6",
              "width": 0.5
             },
             "pattern": {
              "fillmode": "overlay",
              "size": 10,
              "solidity": 0.2
             }
            },
            "type": "bar"
           }
          ],
          "barpolar": [
           {
            "marker": {
             "line": {
              "color": "#E5ECF6",
              "width": 0.5
             },
             "pattern": {
              "fillmode": "overlay",
              "size": 10,
              "solidity": 0.2
             }
            },
            "type": "barpolar"
           }
          ],
          "carpet": [
           {
            "aaxis": {
             "endlinecolor": "#2a3f5f",
             "gridcolor": "white",
             "linecolor": "white",
             "minorgridcolor": "white",
             "startlinecolor": "#2a3f5f"
            },
            "baxis": {
             "endlinecolor": "#2a3f5f",
             "gridcolor": "white",
             "linecolor": "white",
             "minorgridcolor": "white",
             "startlinecolor": "#2a3f5f"
            },
            "type": "carpet"
           }
          ],
          "choropleth": [
           {
            "colorbar": {
             "outlinewidth": 0,
             "ticks": ""
            },
            "type": "choropleth"
           }
          ],
          "contour": [
           {
            "colorbar": {
             "outlinewidth": 0,
             "ticks": ""
            },
            "colorscale": [
             [
              0,
              "#0d0887"
             ],
             [
              0.1111111111111111,
              "#46039f"
             ],
             [
              0.2222222222222222,
              "#7201a8"
             ],
             [
              0.3333333333333333,
              "#9c179e"
             ],
             [
              0.4444444444444444,
              "#bd3786"
             ],
             [
              0.5555555555555556,
              "#d8576b"
             ],
             [
              0.6666666666666666,
              "#ed7953"
             ],
             [
              0.7777777777777778,
              "#fb9f3a"
             ],
             [
              0.8888888888888888,
              "#fdca26"
             ],
             [
              1,
              "#f0f921"
             ]
            ],
            "type": "contour"
           }
          ],
          "contourcarpet": [
           {
            "colorbar": {
             "outlinewidth": 0,
             "ticks": ""
            },
            "type": "contourcarpet"
           }
          ],
          "heatmap": [
           {
            "colorbar": {
             "outlinewidth": 0,
             "ticks": ""
            },
            "colorscale": [
             [
              0,
              "#0d0887"
             ],
             [
              0.1111111111111111,
              "#46039f"
             ],
             [
              0.2222222222222222,
              "#7201a8"
             ],
             [
              0.3333333333333333,
              "#9c179e"
             ],
             [
              0.4444444444444444,
              "#bd3786"
             ],
             [
              0.5555555555555556,
              "#d8576b"
             ],
             [
              0.6666666666666666,
              "#ed7953"
             ],
             [
              0.7777777777777778,
              "#fb9f3a"
             ],
             [
              0.8888888888888888,
              "#fdca26"
             ],
             [
              1,
              "#f0f921"
             ]
            ],
            "type": "heatmap"
           }
          ],
          "heatmapgl": [
           {
            "colorbar": {
             "outlinewidth": 0,
             "ticks": ""
            },
            "colorscale": [
             [
              0,
              "#0d0887"
             ],
             [
              0.1111111111111111,
              "#46039f"
             ],
             [
              0.2222222222222222,
              "#7201a8"
             ],
             [
              0.3333333333333333,
              "#9c179e"
             ],
             [
              0.4444444444444444,
              "#bd3786"
             ],
             [
              0.5555555555555556,
              "#d8576b"
             ],
             [
              0.6666666666666666,
              "#ed7953"
             ],
             [
              0.7777777777777778,
              "#fb9f3a"
             ],
             [
              0.8888888888888888,
              "#fdca26"
             ],
             [
              1,
              "#f0f921"
             ]
            ],
            "type": "heatmapgl"
           }
          ],
          "histogram": [
           {
            "marker": {
             "pattern": {
              "fillmode": "overlay",
              "size": 10,
              "solidity": 0.2
             }
            },
            "type": "histogram"
           }
          ],
          "histogram2d": [
           {
            "colorbar": {
             "outlinewidth": 0,
             "ticks": ""
            },
            "colorscale": [
             [
              0,
              "#0d0887"
             ],
             [
              0.1111111111111111,
              "#46039f"
             ],
             [
              0.2222222222222222,
              "#7201a8"
             ],
             [
              0.3333333333333333,
              "#9c179e"
             ],
             [
              0.4444444444444444,
              "#bd3786"
             ],
             [
              0.5555555555555556,
              "#d8576b"
             ],
             [
              0.6666666666666666,
              "#ed7953"
             ],
             [
              0.7777777777777778,
              "#fb9f3a"
             ],
             [
              0.8888888888888888,
              "#fdca26"
             ],
             [
              1,
              "#f0f921"
             ]
            ],
            "type": "histogram2d"
           }
          ],
          "histogram2dcontour": [
           {
            "colorbar": {
             "outlinewidth": 0,
             "ticks": ""
            },
            "colorscale": [
             [
              0,
              "#0d0887"
             ],
             [
              0.1111111111111111,
              "#46039f"
             ],
             [
              0.2222222222222222,
              "#7201a8"
             ],
             [
              0.3333333333333333,
              "#9c179e"
             ],
             [
              0.4444444444444444,
              "#bd3786"
             ],
             [
              0.5555555555555556,
              "#d8576b"
             ],
             [
              0.6666666666666666,
              "#ed7953"
             ],
             [
              0.7777777777777778,
              "#fb9f3a"
             ],
             [
              0.8888888888888888,
              "#fdca26"
             ],
             [
              1,
              "#f0f921"
             ]
            ],
            "type": "histogram2dcontour"
           }
          ],
          "mesh3d": [
           {
            "colorbar": {
             "outlinewidth": 0,
             "ticks": ""
            },
            "type": "mesh3d"
           }
          ],
          "parcoords": [
           {
            "line": {
             "colorbar": {
              "outlinewidth": 0,
              "ticks": ""
             }
            },
            "type": "parcoords"
           }
          ],
          "pie": [
           {
            "automargin": true,
            "type": "pie"
           }
          ],
          "scatter": [
           {
            "fillpattern": {
             "fillmode": "overlay",
             "size": 10,
             "solidity": 0.2
            },
            "type": "scatter"
           }
          ],
          "scatter3d": [
           {
            "line": {
             "colorbar": {
              "outlinewidth": 0,
              "ticks": ""
             }
            },
            "marker": {
             "colorbar": {
              "outlinewidth": 0,
              "ticks": ""
             }
            },
            "type": "scatter3d"
           }
          ],
          "scattercarpet": [
           {
            "marker": {
             "colorbar": {
              "outlinewidth": 0,
              "ticks": ""
             }
            },
            "type": "scattercarpet"
           }
          ],
          "scattergeo": [
           {
            "marker": {
             "colorbar": {
              "outlinewidth": 0,
              "ticks": ""
             }
            },
            "type": "scattergeo"
           }
          ],
          "scattergl": [
           {
            "marker": {
             "colorbar": {
              "outlinewidth": 0,
              "ticks": ""
             }
            },
            "type": "scattergl"
           }
          ],
          "scattermapbox": [
           {
            "marker": {
             "colorbar": {
              "outlinewidth": 0,
              "ticks": ""
             }
            },
            "type": "scattermapbox"
           }
          ],
          "scatterpolar": [
           {
            "marker": {
             "colorbar": {
              "outlinewidth": 0,
              "ticks": ""
             }
            },
            "type": "scatterpolar"
           }
          ],
          "scatterpolargl": [
           {
            "marker": {
             "colorbar": {
              "outlinewidth": 0,
              "ticks": ""
             }
            },
            "type": "scatterpolargl"
           }
          ],
          "scatterternary": [
           {
            "marker": {
             "colorbar": {
              "outlinewidth": 0,
              "ticks": ""
             }
            },
            "type": "scatterternary"
           }
          ],
          "surface": [
           {
            "colorbar": {
             "outlinewidth": 0,
             "ticks": ""
            },
            "colorscale": [
             [
              0,
              "#0d0887"
             ],
             [
              0.1111111111111111,
              "#46039f"
             ],
             [
              0.2222222222222222,
              "#7201a8"
             ],
             [
              0.3333333333333333,
              "#9c179e"
             ],
             [
              0.4444444444444444,
              "#bd3786"
             ],
             [
              0.5555555555555556,
              "#d8576b"
             ],
             [
              0.6666666666666666,
              "#ed7953"
             ],
             [
              0.7777777777777778,
              "#fb9f3a"
             ],
             [
              0.8888888888888888,
              "#fdca26"
             ],
             [
              1,
              "#f0f921"
             ]
            ],
            "type": "surface"
           }
          ],
          "table": [
           {
            "cells": {
             "fill": {
              "color": "#EBF0F8"
             },
             "line": {
              "color": "white"
             }
            },
            "header": {
             "fill": {
              "color": "#C8D4E3"
             },
             "line": {
              "color": "white"
             }
            },
            "type": "table"
           }
          ]
         },
         "layout": {
          "annotationdefaults": {
           "arrowcolor": "#2a3f5f",
           "arrowhead": 0,
           "arrowwidth": 1
          },
          "autotypenumbers": "strict",
          "coloraxis": {
           "colorbar": {
            "outlinewidth": 0,
            "ticks": ""
           }
          },
          "colorscale": {
           "diverging": [
            [
             0,
             "#8e0152"
            ],
            [
             0.1,
             "#c51b7d"
            ],
            [
             0.2,
             "#de77ae"
            ],
            [
             0.3,
             "#f1b6da"
            ],
            [
             0.4,
             "#fde0ef"
            ],
            [
             0.5,
             "#f7f7f7"
            ],
            [
             0.6,
             "#e6f5d0"
            ],
            [
             0.7,
             "#b8e186"
            ],
            [
             0.8,
             "#7fbc41"
            ],
            [
             0.9,
             "#4d9221"
            ],
            [
             1,
             "#276419"
            ]
           ],
           "sequential": [
            [
             0,
             "#0d0887"
            ],
            [
             0.1111111111111111,
             "#46039f"
            ],
            [
             0.2222222222222222,
             "#7201a8"
            ],
            [
             0.3333333333333333,
             "#9c179e"
            ],
            [
             0.4444444444444444,
             "#bd3786"
            ],
            [
             0.5555555555555556,
             "#d8576b"
            ],
            [
             0.6666666666666666,
             "#ed7953"
            ],
            [
             0.7777777777777778,
             "#fb9f3a"
            ],
            [
             0.8888888888888888,
             "#fdca26"
            ],
            [
             1,
             "#f0f921"
            ]
           ],
           "sequentialminus": [
            [
             0,
             "#0d0887"
            ],
            [
             0.1111111111111111,
             "#46039f"
            ],
            [
             0.2222222222222222,
             "#7201a8"
            ],
            [
             0.3333333333333333,
             "#9c179e"
            ],
            [
             0.4444444444444444,
             "#bd3786"
            ],
            [
             0.5555555555555556,
             "#d8576b"
            ],
            [
             0.6666666666666666,
             "#ed7953"
            ],
            [
             0.7777777777777778,
             "#fb9f3a"
            ],
            [
             0.8888888888888888,
             "#fdca26"
            ],
            [
             1,
             "#f0f921"
            ]
           ]
          },
          "colorway": [
           "#636efa",
           "#EF553B",
           "#00cc96",
           "#ab63fa",
           "#FFA15A",
           "#19d3f3",
           "#FF6692",
           "#B6E880",
           "#FF97FF",
           "#FECB52"
          ],
          "font": {
           "color": "#2a3f5f"
          },
          "geo": {
           "bgcolor": "white",
           "lakecolor": "white",
           "landcolor": "#E5ECF6",
           "showlakes": true,
           "showland": true,
           "subunitcolor": "white"
          },
          "hoverlabel": {
           "align": "left"
          },
          "hovermode": "closest",
          "mapbox": {
           "style": "light"
          },
          "paper_bgcolor": "white",
          "plot_bgcolor": "#E5ECF6",
          "polar": {
           "angularaxis": {
            "gridcolor": "white",
            "linecolor": "white",
            "ticks": ""
           },
           "bgcolor": "#E5ECF6",
           "radialaxis": {
            "gridcolor": "white",
            "linecolor": "white",
            "ticks": ""
           }
          },
          "scene": {
           "xaxis": {
            "backgroundcolor": "#E5ECF6",
            "gridcolor": "white",
            "gridwidth": 2,
            "linecolor": "white",
            "showbackground": true,
            "ticks": "",
            "zerolinecolor": "white"
           },
           "yaxis": {
            "backgroundcolor": "#E5ECF6",
            "gridcolor": "white",
            "gridwidth": 2,
            "linecolor": "white",
            "showbackground": true,
            "ticks": "",
            "zerolinecolor": "white"
           },
           "zaxis": {
            "backgroundcolor": "#E5ECF6",
            "gridcolor": "white",
            "gridwidth": 2,
            "linecolor": "white",
            "showbackground": true,
            "ticks": "",
            "zerolinecolor": "white"
           }
          },
          "shapedefaults": {
           "line": {
            "color": "#2a3f5f"
           }
          },
          "ternary": {
           "aaxis": {
            "gridcolor": "white",
            "linecolor": "white",
            "ticks": ""
           },
           "baxis": {
            "gridcolor": "white",
            "linecolor": "white",
            "ticks": ""
           },
           "bgcolor": "#E5ECF6",
           "caxis": {
            "gridcolor": "white",
            "linecolor": "white",
            "ticks": ""
           }
          },
          "title": {
           "x": 0.05
          },
          "xaxis": {
           "automargin": true,
           "gridcolor": "white",
           "linecolor": "white",
           "ticks": "",
           "title": {
            "standoff": 15
           },
           "zerolinecolor": "white",
           "zerolinewidth": 2
          },
          "yaxis": {
           "automargin": true,
           "gridcolor": "white",
           "linecolor": "white",
           "ticks": "",
           "title": {
            "standoff": 15
           },
           "zerolinecolor": "white",
           "zerolinewidth": 2
          }
         }
        },
        "xaxis": {
         "anchor": "y",
         "domain": [
          0,
          1
         ],
         "title": {
          "text": "sepal_width"
         }
        },
        "yaxis": {
         "anchor": "x",
         "domain": [
          0,
          1
         ],
         "title": {
          "text": "sepal_length"
         }
        }
       }
      }
     },
     "metadata": {},
     "output_type": "display_data"
    }
   ],
   "source": [
    "df = px.data.iris()\n",
    "fig = px.scatter(df, x=\"sepal_width\", y=\"sepal_length\", color=\"species\")\n",
    "fig.show()"
   ]
  },
  {
   "cell_type": "markdown",
   "metadata": {},
   "source": [
    "### 3D"
   ]
  },
  {
   "cell_type": "code",
   "execution_count": 4,
   "metadata": {},
   "outputs": [
    {
     "data": {
      "application/vnd.plotly.v1+json": {
       "config": {
        "plotlyServerURL": "https://plot.ly"
       },
       "data": [
        {
         "hovertemplate": "gdpPercap=%{x}<br>pop=%{y}<br>year=%{z}<extra></extra>",
         "legendgroup": "",
         "line": {
          "color": "#636efa",
          "dash": "solid"
         },
         "marker": {
          "symbol": "circle"
         },
         "mode": "lines",
         "name": "",
         "scene": "scene",
         "showlegend": false,
         "type": "scatter3d",
         "x": [
          2108.944355,
          2487.365989,
          3336.585802,
          3429.864357,
          4985.711467,
          6660.118654,
          7030.835878,
          7807.095818000002,
          6950.283020999998,
          7957.980823999998,
          8131.212843000001,
          9065.800825
         ],
         "y": [
          56602560,
          65551171,
          76039390,
          88049823,
          100840058,
          114313951,
          128962939,
          142938076,
          155975974,
          168546719,
          179914212,
          190010647
         ],
         "z": [
          1952,
          1957,
          1962,
          1967,
          1972,
          1977,
          1982,
          1987,
          1992,
          1997,
          2002,
          2007
         ]
        }
       ],
       "layout": {
        "legend": {
         "tracegroupgap": 0
        },
        "margin": {
         "t": 60
        },
        "scene": {
         "domain": {
          "x": [
           0,
           1
          ],
          "y": [
           0,
           1
          ]
         },
         "xaxis": {
          "title": {
           "text": "gdpPercap"
          }
         },
         "yaxis": {
          "title": {
           "text": "pop"
          }
         },
         "zaxis": {
          "title": {
           "text": "year"
          }
         }
        },
        "template": {
         "data": {
          "bar": [
           {
            "error_x": {
             "color": "#2a3f5f"
            },
            "error_y": {
             "color": "#2a3f5f"
            },
            "marker": {
             "line": {
              "color": "#E5ECF6",
              "width": 0.5
             },
             "pattern": {
              "fillmode": "overlay",
              "size": 10,
              "solidity": 0.2
             }
            },
            "type": "bar"
           }
          ],
          "barpolar": [
           {
            "marker": {
             "line": {
              "color": "#E5ECF6",
              "width": 0.5
             },
             "pattern": {
              "fillmode": "overlay",
              "size": 10,
              "solidity": 0.2
             }
            },
            "type": "barpolar"
           }
          ],
          "carpet": [
           {
            "aaxis": {
             "endlinecolor": "#2a3f5f",
             "gridcolor": "white",
             "linecolor": "white",
             "minorgridcolor": "white",
             "startlinecolor": "#2a3f5f"
            },
            "baxis": {
             "endlinecolor": "#2a3f5f",
             "gridcolor": "white",
             "linecolor": "white",
             "minorgridcolor": "white",
             "startlinecolor": "#2a3f5f"
            },
            "type": "carpet"
           }
          ],
          "choropleth": [
           {
            "colorbar": {
             "outlinewidth": 0,
             "ticks": ""
            },
            "type": "choropleth"
           }
          ],
          "contour": [
           {
            "colorbar": {
             "outlinewidth": 0,
             "ticks": ""
            },
            "colorscale": [
             [
              0,
              "#0d0887"
             ],
             [
              0.1111111111111111,
              "#46039f"
             ],
             [
              0.2222222222222222,
              "#7201a8"
             ],
             [
              0.3333333333333333,
              "#9c179e"
             ],
             [
              0.4444444444444444,
              "#bd3786"
             ],
             [
              0.5555555555555556,
              "#d8576b"
             ],
             [
              0.6666666666666666,
              "#ed7953"
             ],
             [
              0.7777777777777778,
              "#fb9f3a"
             ],
             [
              0.8888888888888888,
              "#fdca26"
             ],
             [
              1,
              "#f0f921"
             ]
            ],
            "type": "contour"
           }
          ],
          "contourcarpet": [
           {
            "colorbar": {
             "outlinewidth": 0,
             "ticks": ""
            },
            "type": "contourcarpet"
           }
          ],
          "heatmap": [
           {
            "colorbar": {
             "outlinewidth": 0,
             "ticks": ""
            },
            "colorscale": [
             [
              0,
              "#0d0887"
             ],
             [
              0.1111111111111111,
              "#46039f"
             ],
             [
              0.2222222222222222,
              "#7201a8"
             ],
             [
              0.3333333333333333,
              "#9c179e"
             ],
             [
              0.4444444444444444,
              "#bd3786"
             ],
             [
              0.5555555555555556,
              "#d8576b"
             ],
             [
              0.6666666666666666,
              "#ed7953"
             ],
             [
              0.7777777777777778,
              "#fb9f3a"
             ],
             [
              0.8888888888888888,
              "#fdca26"
             ],
             [
              1,
              "#f0f921"
             ]
            ],
            "type": "heatmap"
           }
          ],
          "heatmapgl": [
           {
            "colorbar": {
             "outlinewidth": 0,
             "ticks": ""
            },
            "colorscale": [
             [
              0,
              "#0d0887"
             ],
             [
              0.1111111111111111,
              "#46039f"
             ],
             [
              0.2222222222222222,
              "#7201a8"
             ],
             [
              0.3333333333333333,
              "#9c179e"
             ],
             [
              0.4444444444444444,
              "#bd3786"
             ],
             [
              0.5555555555555556,
              "#d8576b"
             ],
             [
              0.6666666666666666,
              "#ed7953"
             ],
             [
              0.7777777777777778,
              "#fb9f3a"
             ],
             [
              0.8888888888888888,
              "#fdca26"
             ],
             [
              1,
              "#f0f921"
             ]
            ],
            "type": "heatmapgl"
           }
          ],
          "histogram": [
           {
            "marker": {
             "pattern": {
              "fillmode": "overlay",
              "size": 10,
              "solidity": 0.2
             }
            },
            "type": "histogram"
           }
          ],
          "histogram2d": [
           {
            "colorbar": {
             "outlinewidth": 0,
             "ticks": ""
            },
            "colorscale": [
             [
              0,
              "#0d0887"
             ],
             [
              0.1111111111111111,
              "#46039f"
             ],
             [
              0.2222222222222222,
              "#7201a8"
             ],
             [
              0.3333333333333333,
              "#9c179e"
             ],
             [
              0.4444444444444444,
              "#bd3786"
             ],
             [
              0.5555555555555556,
              "#d8576b"
             ],
             [
              0.6666666666666666,
              "#ed7953"
             ],
             [
              0.7777777777777778,
              "#fb9f3a"
             ],
             [
              0.8888888888888888,
              "#fdca26"
             ],
             [
              1,
              "#f0f921"
             ]
            ],
            "type": "histogram2d"
           }
          ],
          "histogram2dcontour": [
           {
            "colorbar": {
             "outlinewidth": 0,
             "ticks": ""
            },
            "colorscale": [
             [
              0,
              "#0d0887"
             ],
             [
              0.1111111111111111,
              "#46039f"
             ],
             [
              0.2222222222222222,
              "#7201a8"
             ],
             [
              0.3333333333333333,
              "#9c179e"
             ],
             [
              0.4444444444444444,
              "#bd3786"
             ],
             [
              0.5555555555555556,
              "#d8576b"
             ],
             [
              0.6666666666666666,
              "#ed7953"
             ],
             [
              0.7777777777777778,
              "#fb9f3a"
             ],
             [
              0.8888888888888888,
              "#fdca26"
             ],
             [
              1,
              "#f0f921"
             ]
            ],
            "type": "histogram2dcontour"
           }
          ],
          "mesh3d": [
           {
            "colorbar": {
             "outlinewidth": 0,
             "ticks": ""
            },
            "type": "mesh3d"
           }
          ],
          "parcoords": [
           {
            "line": {
             "colorbar": {
              "outlinewidth": 0,
              "ticks": ""
             }
            },
            "type": "parcoords"
           }
          ],
          "pie": [
           {
            "automargin": true,
            "type": "pie"
           }
          ],
          "scatter": [
           {
            "fillpattern": {
             "fillmode": "overlay",
             "size": 10,
             "solidity": 0.2
            },
            "type": "scatter"
           }
          ],
          "scatter3d": [
           {
            "line": {
             "colorbar": {
              "outlinewidth": 0,
              "ticks": ""
             }
            },
            "marker": {
             "colorbar": {
              "outlinewidth": 0,
              "ticks": ""
             }
            },
            "type": "scatter3d"
           }
          ],
          "scattercarpet": [
           {
            "marker": {
             "colorbar": {
              "outlinewidth": 0,
              "ticks": ""
             }
            },
            "type": "scattercarpet"
           }
          ],
          "scattergeo": [
           {
            "marker": {
             "colorbar": {
              "outlinewidth": 0,
              "ticks": ""
             }
            },
            "type": "scattergeo"
           }
          ],
          "scattergl": [
           {
            "marker": {
             "colorbar": {
              "outlinewidth": 0,
              "ticks": ""
             }
            },
            "type": "scattergl"
           }
          ],
          "scattermapbox": [
           {
            "marker": {
             "colorbar": {
              "outlinewidth": 0,
              "ticks": ""
             }
            },
            "type": "scattermapbox"
           }
          ],
          "scatterpolar": [
           {
            "marker": {
             "colorbar": {
              "outlinewidth": 0,
              "ticks": ""
             }
            },
            "type": "scatterpolar"
           }
          ],
          "scatterpolargl": [
           {
            "marker": {
             "colorbar": {
              "outlinewidth": 0,
              "ticks": ""
             }
            },
            "type": "scatterpolargl"
           }
          ],
          "scatterternary": [
           {
            "marker": {
             "colorbar": {
              "outlinewidth": 0,
              "ticks": ""
             }
            },
            "type": "scatterternary"
           }
          ],
          "surface": [
           {
            "colorbar": {
             "outlinewidth": 0,
             "ticks": ""
            },
            "colorscale": [
             [
              0,
              "#0d0887"
             ],
             [
              0.1111111111111111,
              "#46039f"
             ],
             [
              0.2222222222222222,
              "#7201a8"
             ],
             [
              0.3333333333333333,
              "#9c179e"
             ],
             [
              0.4444444444444444,
              "#bd3786"
             ],
             [
              0.5555555555555556,
              "#d8576b"
             ],
             [
              0.6666666666666666,
              "#ed7953"
             ],
             [
              0.7777777777777778,
              "#fb9f3a"
             ],
             [
              0.8888888888888888,
              "#fdca26"
             ],
             [
              1,
              "#f0f921"
             ]
            ],
            "type": "surface"
           }
          ],
          "table": [
           {
            "cells": {
             "fill": {
              "color": "#EBF0F8"
             },
             "line": {
              "color": "white"
             }
            },
            "header": {
             "fill": {
              "color": "#C8D4E3"
             },
             "line": {
              "color": "white"
             }
            },
            "type": "table"
           }
          ]
         },
         "layout": {
          "annotationdefaults": {
           "arrowcolor": "#2a3f5f",
           "arrowhead": 0,
           "arrowwidth": 1
          },
          "autotypenumbers": "strict",
          "coloraxis": {
           "colorbar": {
            "outlinewidth": 0,
            "ticks": ""
           }
          },
          "colorscale": {
           "diverging": [
            [
             0,
             "#8e0152"
            ],
            [
             0.1,
             "#c51b7d"
            ],
            [
             0.2,
             "#de77ae"
            ],
            [
             0.3,
             "#f1b6da"
            ],
            [
             0.4,
             "#fde0ef"
            ],
            [
             0.5,
             "#f7f7f7"
            ],
            [
             0.6,
             "#e6f5d0"
            ],
            [
             0.7,
             "#b8e186"
            ],
            [
             0.8,
             "#7fbc41"
            ],
            [
             0.9,
             "#4d9221"
            ],
            [
             1,
             "#276419"
            ]
           ],
           "sequential": [
            [
             0,
             "#0d0887"
            ],
            [
             0.1111111111111111,
             "#46039f"
            ],
            [
             0.2222222222222222,
             "#7201a8"
            ],
            [
             0.3333333333333333,
             "#9c179e"
            ],
            [
             0.4444444444444444,
             "#bd3786"
            ],
            [
             0.5555555555555556,
             "#d8576b"
            ],
            [
             0.6666666666666666,
             "#ed7953"
            ],
            [
             0.7777777777777778,
             "#fb9f3a"
            ],
            [
             0.8888888888888888,
             "#fdca26"
            ],
            [
             1,
             "#f0f921"
            ]
           ],
           "sequentialminus": [
            [
             0,
             "#0d0887"
            ],
            [
             0.1111111111111111,
             "#46039f"
            ],
            [
             0.2222222222222222,
             "#7201a8"
            ],
            [
             0.3333333333333333,
             "#9c179e"
            ],
            [
             0.4444444444444444,
             "#bd3786"
            ],
            [
             0.5555555555555556,
             "#d8576b"
            ],
            [
             0.6666666666666666,
             "#ed7953"
            ],
            [
             0.7777777777777778,
             "#fb9f3a"
            ],
            [
             0.8888888888888888,
             "#fdca26"
            ],
            [
             1,
             "#f0f921"
            ]
           ]
          },
          "colorway": [
           "#636efa",
           "#EF553B",
           "#00cc96",
           "#ab63fa",
           "#FFA15A",
           "#19d3f3",
           "#FF6692",
           "#B6E880",
           "#FF97FF",
           "#FECB52"
          ],
          "font": {
           "color": "#2a3f5f"
          },
          "geo": {
           "bgcolor": "white",
           "lakecolor": "white",
           "landcolor": "#E5ECF6",
           "showlakes": true,
           "showland": true,
           "subunitcolor": "white"
          },
          "hoverlabel": {
           "align": "left"
          },
          "hovermode": "closest",
          "mapbox": {
           "style": "light"
          },
          "paper_bgcolor": "white",
          "plot_bgcolor": "#E5ECF6",
          "polar": {
           "angularaxis": {
            "gridcolor": "white",
            "linecolor": "white",
            "ticks": ""
           },
           "bgcolor": "#E5ECF6",
           "radialaxis": {
            "gridcolor": "white",
            "linecolor": "white",
            "ticks": ""
           }
          },
          "scene": {
           "xaxis": {
            "backgroundcolor": "#E5ECF6",
            "gridcolor": "white",
            "gridwidth": 2,
            "linecolor": "white",
            "showbackground": true,
            "ticks": "",
            "zerolinecolor": "white"
           },
           "yaxis": {
            "backgroundcolor": "#E5ECF6",
            "gridcolor": "white",
            "gridwidth": 2,
            "linecolor": "white",
            "showbackground": true,
            "ticks": "",
            "zerolinecolor": "white"
           },
           "zaxis": {
            "backgroundcolor": "#E5ECF6",
            "gridcolor": "white",
            "gridwidth": 2,
            "linecolor": "white",
            "showbackground": true,
            "ticks": "",
            "zerolinecolor": "white"
           }
          },
          "shapedefaults": {
           "line": {
            "color": "#2a3f5f"
           }
          },
          "ternary": {
           "aaxis": {
            "gridcolor": "white",
            "linecolor": "white",
            "ticks": ""
           },
           "baxis": {
            "gridcolor": "white",
            "linecolor": "white",
            "ticks": ""
           },
           "bgcolor": "#E5ECF6",
           "caxis": {
            "gridcolor": "white",
            "linecolor": "white",
            "ticks": ""
           }
          },
          "title": {
           "x": 0.05
          },
          "xaxis": {
           "automargin": true,
           "gridcolor": "white",
           "linecolor": "white",
           "ticks": "",
           "title": {
            "standoff": 15
           },
           "zerolinecolor": "white",
           "zerolinewidth": 2
          },
          "yaxis": {
           "automargin": true,
           "gridcolor": "white",
           "linecolor": "white",
           "ticks": "",
           "title": {
            "standoff": 15
           },
           "zerolinecolor": "white",
           "zerolinewidth": 2
          }
         }
        }
       }
      }
     },
     "metadata": {},
     "output_type": "display_data"
    }
   ],
   "source": [
    "df = px.data.gapminder().query(\"country=='Brazil'\")\n",
    "fig = px.line_3d(df, x=\"gdpPercap\", y=\"pop\", z=\"year\")\n",
    "fig.show()"
   ]
  },
  {
   "cell_type": "code",
   "execution_count": 5,
   "metadata": {},
   "outputs": [
    {
     "data": {
      "application/vnd.plotly.v1+json": {
       "config": {
        "plotlyServerURL": "https://plot.ly"
       },
       "data": [
        {
         "hovertemplate": "country=Albania<br>gdpPercap=%{x}<br>pop=%{y}<br>year=%{z}<extra></extra>",
         "legendgroup": "Albania",
         "line": {
          "color": "#636efa",
          "dash": "solid"
         },
         "marker": {
          "symbol": "circle"
         },
         "mode": "lines",
         "name": "Albania",
         "scene": "scene",
         "showlegend": true,
         "type": "scatter3d",
         "x": [
          1601.056136,
          1942.284244,
          2312.888958,
          2760.196931,
          3313.422188,
          3533.003910000001,
          3630.880722,
          3738.932735,
          2497.437901,
          3193.054604,
          4604.211737,
          5937.029525999998
         ],
         "y": [
          1282697,
          1476505,
          1728137,
          1984060,
          2263554,
          2509048,
          2780097,
          3075321,
          3326498,
          3428038,
          3508512,
          3600523
         ],
         "z": [
          1952,
          1957,
          1962,
          1967,
          1972,
          1977,
          1982,
          1987,
          1992,
          1997,
          2002,
          2007
         ]
        },
        {
         "hovertemplate": "country=Austria<br>gdpPercap=%{x}<br>pop=%{y}<br>year=%{z}<extra></extra>",
         "legendgroup": "Austria",
         "line": {
          "color": "#EF553B",
          "dash": "solid"
         },
         "marker": {
          "symbol": "circle"
         },
         "mode": "lines",
         "name": "Austria",
         "scene": "scene",
         "showlegend": true,
         "type": "scatter3d",
         "x": [
          6137.076492,
          8842.59803,
          10750.72111,
          12834.6024,
          16661.6256,
          19749.4223,
          21597.08362,
          23687.82607,
          27042.01868,
          29095.920660000003,
          32417.60769,
          36126.4927
         ],
         "y": [
          6927772,
          6965860,
          7129864,
          7376998,
          7544201,
          7568430,
          7574613,
          7578903,
          7914969,
          8069876,
          8148312,
          8199783
         ],
         "z": [
          1952,
          1957,
          1962,
          1967,
          1972,
          1977,
          1982,
          1987,
          1992,
          1997,
          2002,
          2007
         ]
        },
        {
         "hovertemplate": "country=Belgium<br>gdpPercap=%{x}<br>pop=%{y}<br>year=%{z}<extra></extra>",
         "legendgroup": "Belgium",
         "line": {
          "color": "#00cc96",
          "dash": "solid"
         },
         "marker": {
          "symbol": "circle"
         },
         "mode": "lines",
         "name": "Belgium",
         "scene": "scene",
         "showlegend": true,
         "type": "scatter3d",
         "x": [
          8343.105126999999,
          9714.960623,
          10991.20676,
          13149.04119,
          16672.14356,
          19117.97448,
          20979.84589,
          22525.56308,
          25575.57069,
          27561.19663,
          30485.88375,
          33692.60508
         ],
         "y": [
          8730405,
          8989111,
          9218400,
          9556500,
          9709100,
          9821800,
          9856303,
          9870200,
          10045622,
          10199787,
          10311970,
          10392226
         ],
         "z": [
          1952,
          1957,
          1962,
          1967,
          1972,
          1977,
          1982,
          1987,
          1992,
          1997,
          2002,
          2007
         ]
        },
        {
         "hovertemplate": "country=Bosnia and Herzegovina<br>gdpPercap=%{x}<br>pop=%{y}<br>year=%{z}<extra></extra>",
         "legendgroup": "Bosnia and Herzegovina",
         "line": {
          "color": "#ab63fa",
          "dash": "solid"
         },
         "marker": {
          "symbol": "circle"
         },
         "mode": "lines",
         "name": "Bosnia and Herzegovina",
         "scene": "scene",
         "showlegend": true,
         "type": "scatter3d",
         "x": [
          973.5331948,
          1353.989176,
          1709.683679,
          2172.3524230000007,
          2860.16975,
          3528.481305,
          4126.613157,
          4314.114757,
          2546.781445,
          4766.355904,
          6018.975239,
          7446.298803
         ],
         "y": [
          2791000,
          3076000,
          3349000,
          3585000,
          3819000,
          4086000,
          4172693,
          4338977,
          4256013,
          3607000,
          4165416,
          4552198
         ],
         "z": [
          1952,
          1957,
          1962,
          1967,
          1972,
          1977,
          1982,
          1987,
          1992,
          1997,
          2002,
          2007
         ]
        },
        {
         "hovertemplate": "country=Bulgaria<br>gdpPercap=%{x}<br>pop=%{y}<br>year=%{z}<extra></extra>",
         "legendgroup": "Bulgaria",
         "line": {
          "color": "#FFA15A",
          "dash": "solid"
         },
         "marker": {
          "symbol": "circle"
         },
         "mode": "lines",
         "name": "Bulgaria",
         "scene": "scene",
         "showlegend": true,
         "type": "scatter3d",
         "x": [
          2444.286648,
          3008.670727,
          4254.337839,
          5577.0028,
          6597.494398,
          7612.240438,
          8224.191647,
          8239.854824,
          6302.623438000001,
          5970.38876,
          7696.777725,
          10680.79282
         ],
         "y": [
          7274900,
          7651254,
          8012946,
          8310226,
          8576200,
          8797022,
          8892098,
          8971958,
          8658506,
          8066057,
          7661799,
          7322858
         ],
         "z": [
          1952,
          1957,
          1962,
          1967,
          1972,
          1977,
          1982,
          1987,
          1992,
          1997,
          2002,
          2007
         ]
        },
        {
         "hovertemplate": "country=Croatia<br>gdpPercap=%{x}<br>pop=%{y}<br>year=%{z}<extra></extra>",
         "legendgroup": "Croatia",
         "line": {
          "color": "#19d3f3",
          "dash": "solid"
         },
         "marker": {
          "symbol": "circle"
         },
         "mode": "lines",
         "name": "Croatia",
         "scene": "scene",
         "showlegend": true,
         "type": "scatter3d",
         "x": [
          3119.23652,
          4338.231617,
          5477.890018,
          6960.297861,
          9164.090127,
          11305.38517,
          13221.82184,
          13822.58394,
          8447.794873,
          9875.604515,
          11628.38895,
          14619.222719999998
         ],
         "y": [
          3882229,
          3991242,
          4076557,
          4174366,
          4225310,
          4318673,
          4413368,
          4484310,
          4494013,
          4444595,
          4481020,
          4493312
         ],
         "z": [
          1952,
          1957,
          1962,
          1967,
          1972,
          1977,
          1982,
          1987,
          1992,
          1997,
          2002,
          2007
         ]
        },
        {
         "hovertemplate": "country=Czech Republic<br>gdpPercap=%{x}<br>pop=%{y}<br>year=%{z}<extra></extra>",
         "legendgroup": "Czech Republic",
         "line": {
          "color": "#FF6692",
          "dash": "solid"
         },
         "marker": {
          "symbol": "circle"
         },
         "mode": "lines",
         "name": "Czech Republic",
         "scene": "scene",
         "showlegend": true,
         "type": "scatter3d",
         "x": [
          6876.14025,
          8256.343918,
          10136.86713,
          11399.44489,
          13108.4536,
          14800.16062,
          15377.22855,
          16310.4434,
          14297.02122,
          16048.51424,
          17596.210219999994,
          22833.30851
         ],
         "y": [
          9125183,
          9513758,
          9620282,
          9835109,
          9862158,
          10161915,
          10303704,
          10311597,
          10315702,
          10300707,
          10256295,
          10228744
         ],
         "z": [
          1952,
          1957,
          1962,
          1967,
          1972,
          1977,
          1982,
          1987,
          1992,
          1997,
          2002,
          2007
         ]
        },
        {
         "hovertemplate": "country=Denmark<br>gdpPercap=%{x}<br>pop=%{y}<br>year=%{z}<extra></extra>",
         "legendgroup": "Denmark",
         "line": {
          "color": "#B6E880",
          "dash": "solid"
         },
         "marker": {
          "symbol": "circle"
         },
         "mode": "lines",
         "name": "Denmark",
         "scene": "scene",
         "showlegend": true,
         "type": "scatter3d",
         "x": [
          9692.385245,
          11099.65935,
          13583.31351,
          15937.21123,
          18866.20721,
          20422.9015,
          21688.04048,
          25116.17581,
          26406.73985,
          29804.34567,
          32166.50006,
          35278.41874
         ],
         "y": [
          4334000,
          4487831,
          4646899,
          4838800,
          4991596,
          5088419,
          5117810,
          5127024,
          5171393,
          5283663,
          5374693,
          5468120
         ],
         "z": [
          1952,
          1957,
          1962,
          1967,
          1972,
          1977,
          1982,
          1987,
          1992,
          1997,
          2002,
          2007
         ]
        },
        {
         "hovertemplate": "country=Finland<br>gdpPercap=%{x}<br>pop=%{y}<br>year=%{z}<extra></extra>",
         "legendgroup": "Finland",
         "line": {
          "color": "#FF97FF",
          "dash": "solid"
         },
         "marker": {
          "symbol": "circle"
         },
         "mode": "lines",
         "name": "Finland",
         "scene": "scene",
         "showlegend": true,
         "type": "scatter3d",
         "x": [
          6424.519071,
          7545.415386,
          9371.842561,
          10921.63626,
          14358.8759,
          15605.42283,
          18533.15761,
          21141.01223,
          20647.16499,
          23723.9502,
          28204.59057,
          33207.0844
         ],
         "y": [
          4090500,
          4324000,
          4491443,
          4605744,
          4639657,
          4738902,
          4826933,
          4931729,
          5041039,
          5134406,
          5193039,
          5238460
         ],
         "z": [
          1952,
          1957,
          1962,
          1967,
          1972,
          1977,
          1982,
          1987,
          1992,
          1997,
          2002,
          2007
         ]
        },
        {
         "hovertemplate": "country=France<br>gdpPercap=%{x}<br>pop=%{y}<br>year=%{z}<extra></extra>",
         "legendgroup": "France",
         "line": {
          "color": "#FECB52",
          "dash": "solid"
         },
         "marker": {
          "symbol": "circle"
         },
         "mode": "lines",
         "name": "France",
         "scene": "scene",
         "showlegend": true,
         "type": "scatter3d",
         "x": [
          7029.809327,
          8662.834898000001,
          10560.48553,
          12999.91766,
          16107.19171,
          18292.63514,
          20293.89746,
          22066.44214,
          24703.79615,
          25889.78487,
          28926.03234,
          30470.0167
         ],
         "y": [
          42459667,
          44310863,
          47124000,
          49569000,
          51732000,
          53165019,
          54433565,
          55630100,
          57374179,
          58623428,
          59925035,
          61083916
         ],
         "z": [
          1952,
          1957,
          1962,
          1967,
          1972,
          1977,
          1982,
          1987,
          1992,
          1997,
          2002,
          2007
         ]
        },
        {
         "hovertemplate": "country=Germany<br>gdpPercap=%{x}<br>pop=%{y}<br>year=%{z}<extra></extra>",
         "legendgroup": "Germany",
         "line": {
          "color": "#636efa",
          "dash": "solid"
         },
         "marker": {
          "symbol": "circle"
         },
         "mode": "lines",
         "name": "Germany",
         "scene": "scene",
         "showlegend": true,
         "type": "scatter3d",
         "x": [
          7144.114393000002,
          10187.82665,
          12902.46291,
          14745.62561,
          18016.18027,
          20512.92123,
          22031.53274,
          24639.18566,
          26505.30317,
          27788.88416,
          30035.80198,
          32170.37442
         ],
         "y": [
          69145952,
          71019069,
          73739117,
          76368453,
          78717088,
          78160773,
          78335266,
          77718298,
          80597764,
          82011073,
          82350671,
          82400996
         ],
         "z": [
          1952,
          1957,
          1962,
          1967,
          1972,
          1977,
          1982,
          1987,
          1992,
          1997,
          2002,
          2007
         ]
        },
        {
         "hovertemplate": "country=Greece<br>gdpPercap=%{x}<br>pop=%{y}<br>year=%{z}<extra></extra>",
         "legendgroup": "Greece",
         "line": {
          "color": "#EF553B",
          "dash": "solid"
         },
         "marker": {
          "symbol": "circle"
         },
         "mode": "lines",
         "name": "Greece",
         "scene": "scene",
         "showlegend": true,
         "type": "scatter3d",
         "x": [
          3530.690067,
          4916.299889,
          6017.190732999999,
          8513.097016,
          12724.82957,
          14195.52428,
          15268.42089,
          16120.52839,
          17541.49634,
          18747.69814,
          22514.2548,
          27538.41188
         ],
         "y": [
          7733250,
          8096218,
          8448233,
          8716441,
          8888628,
          9308479,
          9786480,
          9974490,
          10325429,
          10502372,
          10603863,
          10706290
         ],
         "z": [
          1952,
          1957,
          1962,
          1967,
          1972,
          1977,
          1982,
          1987,
          1992,
          1997,
          2002,
          2007
         ]
        },
        {
         "hovertemplate": "country=Hungary<br>gdpPercap=%{x}<br>pop=%{y}<br>year=%{z}<extra></extra>",
         "legendgroup": "Hungary",
         "line": {
          "color": "#00cc96",
          "dash": "solid"
         },
         "marker": {
          "symbol": "circle"
         },
         "mode": "lines",
         "name": "Hungary",
         "scene": "scene",
         "showlegend": true,
         "type": "scatter3d",
         "x": [
          5263.673816,
          6040.180011,
          7550.359877,
          9326.64467,
          10168.65611,
          11674.83737,
          12545.99066,
          12986.47998,
          10535.62855,
          11712.7768,
          14843.93556,
          18008.94444
         ],
         "y": [
          9504000,
          9839000,
          10063000,
          10223422,
          10394091,
          10637171,
          10705535,
          10612740,
          10348684,
          10244684,
          10083313,
          9956108
         ],
         "z": [
          1952,
          1957,
          1962,
          1967,
          1972,
          1977,
          1982,
          1987,
          1992,
          1997,
          2002,
          2007
         ]
        },
        {
         "hovertemplate": "country=Iceland<br>gdpPercap=%{x}<br>pop=%{y}<br>year=%{z}<extra></extra>",
         "legendgroup": "Iceland",
         "line": {
          "color": "#ab63fa",
          "dash": "solid"
         },
         "marker": {
          "symbol": "circle"
         },
         "mode": "lines",
         "name": "Iceland",
         "scene": "scene",
         "showlegend": true,
         "type": "scatter3d",
         "x": [
          7267.688428,
          9244.001412,
          10350.15906,
          13319.89568,
          15798.06362,
          19654.96247,
          23269.6075,
          26923.20628,
          25144.39201,
          28061.099660000003,
          31163.20196,
          36180.78919
         ],
         "y": [
          147962,
          165110,
          182053,
          198676,
          209275,
          221823,
          233997,
          244676,
          259012,
          271192,
          288030,
          301931
         ],
         "z": [
          1952,
          1957,
          1962,
          1967,
          1972,
          1977,
          1982,
          1987,
          1992,
          1997,
          2002,
          2007
         ]
        },
        {
         "hovertemplate": "country=Ireland<br>gdpPercap=%{x}<br>pop=%{y}<br>year=%{z}<extra></extra>",
         "legendgroup": "Ireland",
         "line": {
          "color": "#FFA15A",
          "dash": "solid"
         },
         "marker": {
          "symbol": "circle"
         },
         "mode": "lines",
         "name": "Ireland",
         "scene": "scene",
         "showlegend": true,
         "type": "scatter3d",
         "x": [
          5210.280328,
          5599.077872,
          6631.597314,
          7655.568963,
          9530.772896,
          11150.98113,
          12618.32141,
          13872.86652,
          17558.81555,
          24521.94713,
          34077.04939,
          40675.99635
         ],
         "y": [
          2952156,
          2878220,
          2830000,
          2900100,
          3024400,
          3271900,
          3480000,
          3539900,
          3557761,
          3667233,
          3879155,
          4109086
         ],
         "z": [
          1952,
          1957,
          1962,
          1967,
          1972,
          1977,
          1982,
          1987,
          1992,
          1997,
          2002,
          2007
         ]
        },
        {
         "hovertemplate": "country=Italy<br>gdpPercap=%{x}<br>pop=%{y}<br>year=%{z}<extra></extra>",
         "legendgroup": "Italy",
         "line": {
          "color": "#19d3f3",
          "dash": "solid"
         },
         "marker": {
          "symbol": "circle"
         },
         "mode": "lines",
         "name": "Italy",
         "scene": "scene",
         "showlegend": true,
         "type": "scatter3d",
         "x": [
          4931.404154999998,
          6248.656232,
          8243.58234,
          10022.40131,
          12269.27378,
          14255.98475,
          16537.4835,
          19207.23482,
          22013.64486,
          24675.02446,
          27968.09817,
          28569.7197
         ],
         "y": [
          47666000,
          49182000,
          50843200,
          52667100,
          54365564,
          56059245,
          56535636,
          56729703,
          56840847,
          57479469,
          57926999,
          58147733
         ],
         "z": [
          1952,
          1957,
          1962,
          1967,
          1972,
          1977,
          1982,
          1987,
          1992,
          1997,
          2002,
          2007
         ]
        },
        {
         "hovertemplate": "country=Montenegro<br>gdpPercap=%{x}<br>pop=%{y}<br>year=%{z}<extra></extra>",
         "legendgroup": "Montenegro",
         "line": {
          "color": "#FF6692",
          "dash": "solid"
         },
         "marker": {
          "symbol": "circle"
         },
         "mode": "lines",
         "name": "Montenegro",
         "scene": "scene",
         "showlegend": true,
         "type": "scatter3d",
         "x": [
          2647.585601,
          3682.259903,
          4649.593785,
          5907.850937,
          7778.414017,
          9595.929905,
          11222.58762,
          11732.51017,
          7003.339037000002,
          6465.613349,
          6557.194282,
          9253.896111
         ],
         "y": [
          413834,
          442829,
          474528,
          501035,
          527678,
          560073,
          562548,
          569473,
          621621,
          692651,
          720230,
          684736
         ],
         "z": [
          1952,
          1957,
          1962,
          1967,
          1972,
          1977,
          1982,
          1987,
          1992,
          1997,
          2002,
          2007
         ]
        },
        {
         "hovertemplate": "country=Netherlands<br>gdpPercap=%{x}<br>pop=%{y}<br>year=%{z}<extra></extra>",
         "legendgroup": "Netherlands",
         "line": {
          "color": "#B6E880",
          "dash": "solid"
         },
         "marker": {
          "symbol": "circle"
         },
         "mode": "lines",
         "name": "Netherlands",
         "scene": "scene",
         "showlegend": true,
         "type": "scatter3d",
         "x": [
          8941.571858,
          11276.19344,
          12790.84956,
          15363.25136,
          18794.74567,
          21209.0592,
          21399.46046,
          23651.32361,
          26790.94961,
          30246.13063,
          33724.75778,
          36797.93332
         ],
         "y": [
          10381988,
          11026383,
          11805689,
          12596822,
          13329874,
          13852989,
          14310401,
          14665278,
          15174244,
          15604464,
          16122830,
          16570613
         ],
         "z": [
          1952,
          1957,
          1962,
          1967,
          1972,
          1977,
          1982,
          1987,
          1992,
          1997,
          2002,
          2007
         ]
        },
        {
         "hovertemplate": "country=Norway<br>gdpPercap=%{x}<br>pop=%{y}<br>year=%{z}<extra></extra>",
         "legendgroup": "Norway",
         "line": {
          "color": "#FF97FF",
          "dash": "solid"
         },
         "marker": {
          "symbol": "circle"
         },
         "mode": "lines",
         "name": "Norway",
         "scene": "scene",
         "showlegend": true,
         "type": "scatter3d",
         "x": [
          10095.42172,
          11653.97304,
          13450.40151,
          16361.87647,
          18965.05551,
          23311.34939,
          26298.63531,
          31540.9748,
          33965.66115,
          41283.16433,
          44683.97525,
          49357.19017
         ],
         "y": [
          3327728,
          3491938,
          3638919,
          3786019,
          3933004,
          4043205,
          4114787,
          4186147,
          4286357,
          4405672,
          4535591,
          4627926
         ],
         "z": [
          1952,
          1957,
          1962,
          1967,
          1972,
          1977,
          1982,
          1987,
          1992,
          1997,
          2002,
          2007
         ]
        },
        {
         "hovertemplate": "country=Poland<br>gdpPercap=%{x}<br>pop=%{y}<br>year=%{z}<extra></extra>",
         "legendgroup": "Poland",
         "line": {
          "color": "#FECB52",
          "dash": "solid"
         },
         "marker": {
          "symbol": "circle"
         },
         "mode": "lines",
         "name": "Poland",
         "scene": "scene",
         "showlegend": true,
         "type": "scatter3d",
         "x": [
          4029.329699,
          4734.253019,
          5338.752143,
          6557.152776,
          8006.506993000001,
          9508.141454,
          8451.531004,
          9082.351172,
          7738.881247,
          10159.58368,
          12002.23908,
          15389.924680000002
         ],
         "y": [
          25730551,
          28235346,
          30329617,
          31785378,
          33039545,
          34621254,
          36227381,
          37740710,
          38370697,
          38654957,
          38625976,
          38518241
         ],
         "z": [
          1952,
          1957,
          1962,
          1967,
          1972,
          1977,
          1982,
          1987,
          1992,
          1997,
          2002,
          2007
         ]
        },
        {
         "hovertemplate": "country=Portugal<br>gdpPercap=%{x}<br>pop=%{y}<br>year=%{z}<extra></extra>",
         "legendgroup": "Portugal",
         "line": {
          "color": "#636efa",
          "dash": "solid"
         },
         "marker": {
          "symbol": "circle"
         },
         "mode": "lines",
         "name": "Portugal",
         "scene": "scene",
         "showlegend": true,
         "type": "scatter3d",
         "x": [
          3068.319867,
          3774.571743,
          4727.954889,
          6361.517993,
          9022.247417,
          10172.48572,
          11753.84291,
          13039.30876,
          16207.266630000002,
          17641.03156,
          19970.90787,
          20509.64777
         ],
         "y": [
          8526050,
          8817650,
          9019800,
          9103000,
          8970450,
          9662600,
          9859650,
          9915289,
          9927680,
          10156415,
          10433867,
          10642836
         ],
         "z": [
          1952,
          1957,
          1962,
          1967,
          1972,
          1977,
          1982,
          1987,
          1992,
          1997,
          2002,
          2007
         ]
        },
        {
         "hovertemplate": "country=Romania<br>gdpPercap=%{x}<br>pop=%{y}<br>year=%{z}<extra></extra>",
         "legendgroup": "Romania",
         "line": {
          "color": "#EF553B",
          "dash": "solid"
         },
         "marker": {
          "symbol": "circle"
         },
         "mode": "lines",
         "name": "Romania",
         "scene": "scene",
         "showlegend": true,
         "type": "scatter3d",
         "x": [
          3144.613186,
          3943.370225,
          4734.997586,
          6470.866545,
          8011.4144019999985,
          9356.39724,
          9605.314053,
          9696.273295,
          6598.409903,
          7346.547556999999,
          7885.360081,
          10808.47561
         ],
         "y": [
          16630000,
          17829327,
          18680721,
          19284814,
          20662648,
          21658597,
          22356726,
          22686371,
          22797027,
          22562458,
          22404337,
          22276056
         ],
         "z": [
          1952,
          1957,
          1962,
          1967,
          1972,
          1977,
          1982,
          1987,
          1992,
          1997,
          2002,
          2007
         ]
        },
        {
         "hovertemplate": "country=Serbia<br>gdpPercap=%{x}<br>pop=%{y}<br>year=%{z}<extra></extra>",
         "legendgroup": "Serbia",
         "line": {
          "color": "#00cc96",
          "dash": "solid"
         },
         "marker": {
          "symbol": "circle"
         },
         "mode": "lines",
         "name": "Serbia",
         "scene": "scene",
         "showlegend": true,
         "type": "scatter3d",
         "x": [
          3581.459448,
          4981.090891,
          6289.629157,
          7991.707066,
          10522.06749,
          12980.66956,
          15181.0927,
          15870.87851,
          9325.068238,
          7914.320304000002,
          7236.075251,
          9786.534714
         ],
         "y": [
          6860147,
          7271135,
          7616060,
          7971222,
          8313288,
          8686367,
          9032824,
          9230783,
          9826397,
          10336594,
          10111559,
          10150265
         ],
         "z": [
          1952,
          1957,
          1962,
          1967,
          1972,
          1977,
          1982,
          1987,
          1992,
          1997,
          2002,
          2007
         ]
        },
        {
         "hovertemplate": "country=Slovak Republic<br>gdpPercap=%{x}<br>pop=%{y}<br>year=%{z}<extra></extra>",
         "legendgroup": "Slovak Republic",
         "line": {
          "color": "#ab63fa",
          "dash": "solid"
         },
         "marker": {
          "symbol": "circle"
         },
         "mode": "lines",
         "name": "Slovak Republic",
         "scene": "scene",
         "showlegend": true,
         "type": "scatter3d",
         "x": [
          5074.659104,
          6093.26298,
          7481.107598,
          8412.902397,
          9674.167626,
          10922.66404,
          11348.54585,
          12037.26758,
          9498.467723,
          12126.23065,
          13638.778369999998,
          18678.31435
         ],
         "y": [
          3558137,
          3844277,
          4237384,
          4442238,
          4593433,
          4827803,
          5048043,
          5199318,
          5302888,
          5383010,
          5410052,
          5447502
         ],
         "z": [
          1952,
          1957,
          1962,
          1967,
          1972,
          1977,
          1982,
          1987,
          1992,
          1997,
          2002,
          2007
         ]
        },
        {
         "hovertemplate": "country=Slovenia<br>gdpPercap=%{x}<br>pop=%{y}<br>year=%{z}<extra></extra>",
         "legendgroup": "Slovenia",
         "line": {
          "color": "#FFA15A",
          "dash": "solid"
         },
         "marker": {
          "symbol": "circle"
         },
         "mode": "lines",
         "name": "Slovenia",
         "scene": "scene",
         "showlegend": true,
         "type": "scatter3d",
         "x": [
          4215.041741,
          5862.276629,
          7402.303395,
          9405.489397,
          12383.4862,
          15277.030169999998,
          17866.72175,
          18678.53492,
          14214.71681,
          17161.10735,
          20660.01936,
          25768.25759
         ],
         "y": [
          1489518,
          1533070,
          1582962,
          1646912,
          1694510,
          1746919,
          1861252,
          1945870,
          1999210,
          2011612,
          2011497,
          2009245
         ],
         "z": [
          1952,
          1957,
          1962,
          1967,
          1972,
          1977,
          1982,
          1987,
          1992,
          1997,
          2002,
          2007
         ]
        },
        {
         "hovertemplate": "country=Spain<br>gdpPercap=%{x}<br>pop=%{y}<br>year=%{z}<extra></extra>",
         "legendgroup": "Spain",
         "line": {
          "color": "#19d3f3",
          "dash": "solid"
         },
         "marker": {
          "symbol": "circle"
         },
         "mode": "lines",
         "name": "Spain",
         "scene": "scene",
         "showlegend": true,
         "type": "scatter3d",
         "x": [
          3834.034742,
          4564.80241,
          5693.843879,
          7993.512294,
          10638.75131,
          13236.92117,
          13926.16997,
          15764.98313,
          18603.06452,
          20445.29896,
          24835.47166,
          28821.0637
         ],
         "y": [
          28549870,
          29841614,
          31158061,
          32850275,
          34513161,
          36439000,
          37983310,
          38880702,
          39549438,
          39855442,
          40152517,
          40448191
         ],
         "z": [
          1952,
          1957,
          1962,
          1967,
          1972,
          1977,
          1982,
          1987,
          1992,
          1997,
          2002,
          2007
         ]
        },
        {
         "hovertemplate": "country=Sweden<br>gdpPercap=%{x}<br>pop=%{y}<br>year=%{z}<extra></extra>",
         "legendgroup": "Sweden",
         "line": {
          "color": "#FF6692",
          "dash": "solid"
         },
         "marker": {
          "symbol": "circle"
         },
         "mode": "lines",
         "name": "Sweden",
         "scene": "scene",
         "showlegend": true,
         "type": "scatter3d",
         "x": [
          8527.844662000001,
          9911.878226,
          12329.44192,
          15258.29697,
          17832.02464,
          18855.72521,
          20667.38125,
          23586.92927,
          23880.01683,
          25266.59499,
          29341.630930000007,
          33859.74835
         ],
         "y": [
          7124673,
          7363802,
          7561588,
          7867931,
          8122293,
          8251648,
          8325260,
          8421403,
          8718867,
          8897619,
          8954175,
          9031088
         ],
         "z": [
          1952,
          1957,
          1962,
          1967,
          1972,
          1977,
          1982,
          1987,
          1992,
          1997,
          2002,
          2007
         ]
        },
        {
         "hovertemplate": "country=Switzerland<br>gdpPercap=%{x}<br>pop=%{y}<br>year=%{z}<extra></extra>",
         "legendgroup": "Switzerland",
         "line": {
          "color": "#B6E880",
          "dash": "solid"
         },
         "marker": {
          "symbol": "circle"
         },
         "mode": "lines",
         "name": "Switzerland",
         "scene": "scene",
         "showlegend": true,
         "type": "scatter3d",
         "x": [
          14734.23275,
          17909.48973,
          20431.0927,
          22966.14432,
          27195.11304,
          26982.29052,
          28397.71512,
          30281.70459,
          31871.5303,
          32135.323010000004,
          34480.95771,
          37506.41907
         ],
         "y": [
          4815000,
          5126000,
          5666000,
          6063000,
          6401400,
          6316424,
          6468126,
          6649942,
          6995447,
          7193761,
          7361757,
          7554661
         ],
         "z": [
          1952,
          1957,
          1962,
          1967,
          1972,
          1977,
          1982,
          1987,
          1992,
          1997,
          2002,
          2007
         ]
        },
        {
         "hovertemplate": "country=Turkey<br>gdpPercap=%{x}<br>pop=%{y}<br>year=%{z}<extra></extra>",
         "legendgroup": "Turkey",
         "line": {
          "color": "#FF97FF",
          "dash": "solid"
         },
         "marker": {
          "symbol": "circle"
         },
         "mode": "lines",
         "name": "Turkey",
         "scene": "scene",
         "showlegend": true,
         "type": "scatter3d",
         "x": [
          1969.10098,
          2218.754257,
          2322.869908,
          2826.3563870000007,
          3450.69638,
          4269.122326,
          4241.356344,
          5089.043686,
          5678.348271,
          6601.429915,
          6508.085718,
          8458.276384
         ],
         "y": [
          22235677,
          25670939,
          29788695,
          33411317,
          37492953,
          42404033,
          47328791,
          52881328,
          58179144,
          63047647,
          67308928,
          71158647
         ],
         "z": [
          1952,
          1957,
          1962,
          1967,
          1972,
          1977,
          1982,
          1987,
          1992,
          1997,
          2002,
          2007
         ]
        },
        {
         "hovertemplate": "country=United Kingdom<br>gdpPercap=%{x}<br>pop=%{y}<br>year=%{z}<extra></extra>",
         "legendgroup": "United Kingdom",
         "line": {
          "color": "#FECB52",
          "dash": "solid"
         },
         "marker": {
          "symbol": "circle"
         },
         "mode": "lines",
         "name": "United Kingdom",
         "scene": "scene",
         "showlegend": true,
         "type": "scatter3d",
         "x": [
          9979.508487,
          11283.17795,
          12477.17707,
          14142.85089,
          15895.11641,
          17428.74846,
          18232.42452,
          21664.78767,
          22705.09254,
          26074.53136,
          29478.99919,
          33203.26128
         ],
         "y": [
          50430000,
          51430000,
          53292000,
          54959000,
          56079000,
          56179000,
          56339704,
          56981620,
          57866349,
          58808266,
          59912431,
          60776238
         ],
         "z": [
          1952,
          1957,
          1962,
          1967,
          1972,
          1977,
          1982,
          1987,
          1992,
          1997,
          2002,
          2007
         ]
        }
       ],
       "layout": {
        "legend": {
         "title": {
          "text": "country"
         },
         "tracegroupgap": 0
        },
        "margin": {
         "t": 60
        },
        "scene": {
         "domain": {
          "x": [
           0,
           1
          ],
          "y": [
           0,
           1
          ]
         },
         "xaxis": {
          "title": {
           "text": "gdpPercap"
          }
         },
         "yaxis": {
          "title": {
           "text": "pop"
          }
         },
         "zaxis": {
          "title": {
           "text": "year"
          }
         }
        },
        "template": {
         "data": {
          "bar": [
           {
            "error_x": {
             "color": "#2a3f5f"
            },
            "error_y": {
             "color": "#2a3f5f"
            },
            "marker": {
             "line": {
              "color": "#E5ECF6",
              "width": 0.5
             },
             "pattern": {
              "fillmode": "overlay",
              "size": 10,
              "solidity": 0.2
             }
            },
            "type": "bar"
           }
          ],
          "barpolar": [
           {
            "marker": {
             "line": {
              "color": "#E5ECF6",
              "width": 0.5
             },
             "pattern": {
              "fillmode": "overlay",
              "size": 10,
              "solidity": 0.2
             }
            },
            "type": "barpolar"
           }
          ],
          "carpet": [
           {
            "aaxis": {
             "endlinecolor": "#2a3f5f",
             "gridcolor": "white",
             "linecolor": "white",
             "minorgridcolor": "white",
             "startlinecolor": "#2a3f5f"
            },
            "baxis": {
             "endlinecolor": "#2a3f5f",
             "gridcolor": "white",
             "linecolor": "white",
             "minorgridcolor": "white",
             "startlinecolor": "#2a3f5f"
            },
            "type": "carpet"
           }
          ],
          "choropleth": [
           {
            "colorbar": {
             "outlinewidth": 0,
             "ticks": ""
            },
            "type": "choropleth"
           }
          ],
          "contour": [
           {
            "colorbar": {
             "outlinewidth": 0,
             "ticks": ""
            },
            "colorscale": [
             [
              0,
              "#0d0887"
             ],
             [
              0.1111111111111111,
              "#46039f"
             ],
             [
              0.2222222222222222,
              "#7201a8"
             ],
             [
              0.3333333333333333,
              "#9c179e"
             ],
             [
              0.4444444444444444,
              "#bd3786"
             ],
             [
              0.5555555555555556,
              "#d8576b"
             ],
             [
              0.6666666666666666,
              "#ed7953"
             ],
             [
              0.7777777777777778,
              "#fb9f3a"
             ],
             [
              0.8888888888888888,
              "#fdca26"
             ],
             [
              1,
              "#f0f921"
             ]
            ],
            "type": "contour"
           }
          ],
          "contourcarpet": [
           {
            "colorbar": {
             "outlinewidth": 0,
             "ticks": ""
            },
            "type": "contourcarpet"
           }
          ],
          "heatmap": [
           {
            "colorbar": {
             "outlinewidth": 0,
             "ticks": ""
            },
            "colorscale": [
             [
              0,
              "#0d0887"
             ],
             [
              0.1111111111111111,
              "#46039f"
             ],
             [
              0.2222222222222222,
              "#7201a8"
             ],
             [
              0.3333333333333333,
              "#9c179e"
             ],
             [
              0.4444444444444444,
              "#bd3786"
             ],
             [
              0.5555555555555556,
              "#d8576b"
             ],
             [
              0.6666666666666666,
              "#ed7953"
             ],
             [
              0.7777777777777778,
              "#fb9f3a"
             ],
             [
              0.8888888888888888,
              "#fdca26"
             ],
             [
              1,
              "#f0f921"
             ]
            ],
            "type": "heatmap"
           }
          ],
          "heatmapgl": [
           {
            "colorbar": {
             "outlinewidth": 0,
             "ticks": ""
            },
            "colorscale": [
             [
              0,
              "#0d0887"
             ],
             [
              0.1111111111111111,
              "#46039f"
             ],
             [
              0.2222222222222222,
              "#7201a8"
             ],
             [
              0.3333333333333333,
              "#9c179e"
             ],
             [
              0.4444444444444444,
              "#bd3786"
             ],
             [
              0.5555555555555556,
              "#d8576b"
             ],
             [
              0.6666666666666666,
              "#ed7953"
             ],
             [
              0.7777777777777778,
              "#fb9f3a"
             ],
             [
              0.8888888888888888,
              "#fdca26"
             ],
             [
              1,
              "#f0f921"
             ]
            ],
            "type": "heatmapgl"
           }
          ],
          "histogram": [
           {
            "marker": {
             "pattern": {
              "fillmode": "overlay",
              "size": 10,
              "solidity": 0.2
             }
            },
            "type": "histogram"
           }
          ],
          "histogram2d": [
           {
            "colorbar": {
             "outlinewidth": 0,
             "ticks": ""
            },
            "colorscale": [
             [
              0,
              "#0d0887"
             ],
             [
              0.1111111111111111,
              "#46039f"
             ],
             [
              0.2222222222222222,
              "#7201a8"
             ],
             [
              0.3333333333333333,
              "#9c179e"
             ],
             [
              0.4444444444444444,
              "#bd3786"
             ],
             [
              0.5555555555555556,
              "#d8576b"
             ],
             [
              0.6666666666666666,
              "#ed7953"
             ],
             [
              0.7777777777777778,
              "#fb9f3a"
             ],
             [
              0.8888888888888888,
              "#fdca26"
             ],
             [
              1,
              "#f0f921"
             ]
            ],
            "type": "histogram2d"
           }
          ],
          "histogram2dcontour": [
           {
            "colorbar": {
             "outlinewidth": 0,
             "ticks": ""
            },
            "colorscale": [
             [
              0,
              "#0d0887"
             ],
             [
              0.1111111111111111,
              "#46039f"
             ],
             [
              0.2222222222222222,
              "#7201a8"
             ],
             [
              0.3333333333333333,
              "#9c179e"
             ],
             [
              0.4444444444444444,
              "#bd3786"
             ],
             [
              0.5555555555555556,
              "#d8576b"
             ],
             [
              0.6666666666666666,
              "#ed7953"
             ],
             [
              0.7777777777777778,
              "#fb9f3a"
             ],
             [
              0.8888888888888888,
              "#fdca26"
             ],
             [
              1,
              "#f0f921"
             ]
            ],
            "type": "histogram2dcontour"
           }
          ],
          "mesh3d": [
           {
            "colorbar": {
             "outlinewidth": 0,
             "ticks": ""
            },
            "type": "mesh3d"
           }
          ],
          "parcoords": [
           {
            "line": {
             "colorbar": {
              "outlinewidth": 0,
              "ticks": ""
             }
            },
            "type": "parcoords"
           }
          ],
          "pie": [
           {
            "automargin": true,
            "type": "pie"
           }
          ],
          "scatter": [
           {
            "marker": {
             "colorbar": {
              "outlinewidth": 0,
              "ticks": ""
             }
            },
            "type": "scatter"
           }
          ],
          "scatter3d": [
           {
            "line": {
             "colorbar": {
              "outlinewidth": 0,
              "ticks": ""
             }
            },
            "marker": {
             "colorbar": {
              "outlinewidth": 0,
              "ticks": ""
             }
            },
            "type": "scatter3d"
           }
          ],
          "scattercarpet": [
           {
            "marker": {
             "colorbar": {
              "outlinewidth": 0,
              "ticks": ""
             }
            },
            "type": "scattercarpet"
           }
          ],
          "scattergeo": [
           {
            "marker": {
             "colorbar": {
              "outlinewidth": 0,
              "ticks": ""
             }
            },
            "type": "scattergeo"
           }
          ],
          "scattergl": [
           {
            "marker": {
             "colorbar": {
              "outlinewidth": 0,
              "ticks": ""
             }
            },
            "type": "scattergl"
           }
          ],
          "scattermapbox": [
           {
            "marker": {
             "colorbar": {
              "outlinewidth": 0,
              "ticks": ""
             }
            },
            "type": "scattermapbox"
           }
          ],
          "scatterpolar": [
           {
            "marker": {
             "colorbar": {
              "outlinewidth": 0,
              "ticks": ""
             }
            },
            "type": "scatterpolar"
           }
          ],
          "scatterpolargl": [
           {
            "marker": {
             "colorbar": {
              "outlinewidth": 0,
              "ticks": ""
             }
            },
            "type": "scatterpolargl"
           }
          ],
          "scatterternary": [
           {
            "marker": {
             "colorbar": {
              "outlinewidth": 0,
              "ticks": ""
             }
            },
            "type": "scatterternary"
           }
          ],
          "surface": [
           {
            "colorbar": {
             "outlinewidth": 0,
             "ticks": ""
            },
            "colorscale": [
             [
              0,
              "#0d0887"
             ],
             [
              0.1111111111111111,
              "#46039f"
             ],
             [
              0.2222222222222222,
              "#7201a8"
             ],
             [
              0.3333333333333333,
              "#9c179e"
             ],
             [
              0.4444444444444444,
              "#bd3786"
             ],
             [
              0.5555555555555556,
              "#d8576b"
             ],
             [
              0.6666666666666666,
              "#ed7953"
             ],
             [
              0.7777777777777778,
              "#fb9f3a"
             ],
             [
              0.8888888888888888,
              "#fdca26"
             ],
             [
              1,
              "#f0f921"
             ]
            ],
            "type": "surface"
           }
          ],
          "table": [
           {
            "cells": {
             "fill": {
              "color": "#EBF0F8"
             },
             "line": {
              "color": "white"
             }
            },
            "header": {
             "fill": {
              "color": "#C8D4E3"
             },
             "line": {
              "color": "white"
             }
            },
            "type": "table"
           }
          ]
         },
         "layout": {
          "annotationdefaults": {
           "arrowcolor": "#2a3f5f",
           "arrowhead": 0,
           "arrowwidth": 1
          },
          "autotypenumbers": "strict",
          "coloraxis": {
           "colorbar": {
            "outlinewidth": 0,
            "ticks": ""
           }
          },
          "colorscale": {
           "diverging": [
            [
             0,
             "#8e0152"
            ],
            [
             0.1,
             "#c51b7d"
            ],
            [
             0.2,
             "#de77ae"
            ],
            [
             0.3,
             "#f1b6da"
            ],
            [
             0.4,
             "#fde0ef"
            ],
            [
             0.5,
             "#f7f7f7"
            ],
            [
             0.6,
             "#e6f5d0"
            ],
            [
             0.7,
             "#b8e186"
            ],
            [
             0.8,
             "#7fbc41"
            ],
            [
             0.9,
             "#4d9221"
            ],
            [
             1,
             "#276419"
            ]
           ],
           "sequential": [
            [
             0,
             "#0d0887"
            ],
            [
             0.1111111111111111,
             "#46039f"
            ],
            [
             0.2222222222222222,
             "#7201a8"
            ],
            [
             0.3333333333333333,
             "#9c179e"
            ],
            [
             0.4444444444444444,
             "#bd3786"
            ],
            [
             0.5555555555555556,
             "#d8576b"
            ],
            [
             0.6666666666666666,
             "#ed7953"
            ],
            [
             0.7777777777777778,
             "#fb9f3a"
            ],
            [
             0.8888888888888888,
             "#fdca26"
            ],
            [
             1,
             "#f0f921"
            ]
           ],
           "sequentialminus": [
            [
             0,
             "#0d0887"
            ],
            [
             0.1111111111111111,
             "#46039f"
            ],
            [
             0.2222222222222222,
             "#7201a8"
            ],
            [
             0.3333333333333333,
             "#9c179e"
            ],
            [
             0.4444444444444444,
             "#bd3786"
            ],
            [
             0.5555555555555556,
             "#d8576b"
            ],
            [
             0.6666666666666666,
             "#ed7953"
            ],
            [
             0.7777777777777778,
             "#fb9f3a"
            ],
            [
             0.8888888888888888,
             "#fdca26"
            ],
            [
             1,
             "#f0f921"
            ]
           ]
          },
          "colorway": [
           "#636efa",
           "#EF553B",
           "#00cc96",
           "#ab63fa",
           "#FFA15A",
           "#19d3f3",
           "#FF6692",
           "#B6E880",
           "#FF97FF",
           "#FECB52"
          ],
          "font": {
           "color": "#2a3f5f"
          },
          "geo": {
           "bgcolor": "white",
           "lakecolor": "white",
           "landcolor": "#E5ECF6",
           "showlakes": true,
           "showland": true,
           "subunitcolor": "white"
          },
          "hoverlabel": {
           "align": "left"
          },
          "hovermode": "closest",
          "mapbox": {
           "style": "light"
          },
          "paper_bgcolor": "white",
          "plot_bgcolor": "#E5ECF6",
          "polar": {
           "angularaxis": {
            "gridcolor": "white",
            "linecolor": "white",
            "ticks": ""
           },
           "bgcolor": "#E5ECF6",
           "radialaxis": {
            "gridcolor": "white",
            "linecolor": "white",
            "ticks": ""
           }
          },
          "scene": {
           "xaxis": {
            "backgroundcolor": "#E5ECF6",
            "gridcolor": "white",
            "gridwidth": 2,
            "linecolor": "white",
            "showbackground": true,
            "ticks": "",
            "zerolinecolor": "white"
           },
           "yaxis": {
            "backgroundcolor": "#E5ECF6",
            "gridcolor": "white",
            "gridwidth": 2,
            "linecolor": "white",
            "showbackground": true,
            "ticks": "",
            "zerolinecolor": "white"
           },
           "zaxis": {
            "backgroundcolor": "#E5ECF6",
            "gridcolor": "white",
            "gridwidth": 2,
            "linecolor": "white",
            "showbackground": true,
            "ticks": "",
            "zerolinecolor": "white"
           }
          },
          "shapedefaults": {
           "line": {
            "color": "#2a3f5f"
           }
          },
          "ternary": {
           "aaxis": {
            "gridcolor": "white",
            "linecolor": "white",
            "ticks": ""
           },
           "baxis": {
            "gridcolor": "white",
            "linecolor": "white",
            "ticks": ""
           },
           "bgcolor": "#E5ECF6",
           "caxis": {
            "gridcolor": "white",
            "linecolor": "white",
            "ticks": ""
           }
          },
          "title": {
           "x": 0.05
          },
          "xaxis": {
           "automargin": true,
           "gridcolor": "white",
           "linecolor": "white",
           "ticks": "",
           "title": {
            "standoff": 15
           },
           "zerolinecolor": "white",
           "zerolinewidth": 2
          },
          "yaxis": {
           "automargin": true,
           "gridcolor": "white",
           "linecolor": "white",
           "ticks": "",
           "title": {
            "standoff": 15
           },
           "zerolinecolor": "white",
           "zerolinewidth": 2
          }
         }
        }
       }
      }
     },
     "metadata": {},
     "output_type": "display_data"
    }
   ],
   "source": [
    "df = px.data.gapminder().query(\"continent=='Europe'\")\n",
    "fig = px.line_3d(df, x=\"gdpPercap\", y=\"pop\", z=\"year\", color='country')\n",
    "fig.show()"
   ]
  },
  {
   "cell_type": "markdown",
   "metadata": {},
   "source": [
    "## Representación de datos financieros"
   ]
  },
  {
   "cell_type": "markdown",
   "metadata": {},
   "source": [
    "- Plotly incluye una gama de graficos enfocados a finanzas que se pueden ver [aquí](https://plotly.com/python/financial-charts/)"
   ]
  },
  {
   "cell_type": "markdown",
   "metadata": {},
   "source": []
  },
  {
   "cell_type": "code",
   "execution_count": 5,
   "metadata": {},
   "outputs": [
    {
     "name": "stdout",
     "output_type": "stream",
     "text": [
      "[*********************100%***********************]  6 of 6 completed\n"
     ]
    }
   ],
   "source": [
    "import yfinance as yf\n",
    "\n",
    "data = yf.download(  # or pdr.get_data_yahoo(...\n",
    "        # tickers list or string as well\n",
    "        tickers = ['AAPL','VZ','MMM', 'JPM', 'BRK-B', 'GOOG'],\n",
    "\n",
    "        # use \"period\" instead of start/end\n",
    "        # valid periods: 1d,5d,1mo,3mo,6mo,1y,2y,5y,10y,ytd,max\n",
    "        # (optional, default is '1mo')\n",
    "        period = \"2y\",\n",
    "\n",
    "        # fetch data by interval (including intraday if period < 60 days)\n",
    "        # valid intervals: 1m,2m,5m,15m,30m,60m,90m,1h,1d,5d,1wk,1mo,3mo\n",
    "        # (optional, default is '1d')\n",
    "        interval = \"1d\",\n",
    "\n",
    "        # group by ticker (to access via data['SPY'])\n",
    "        # (optional, default is 'column')\n",
    "        group_by = 'column',\n",
    "\n",
    "        # adjust all OHLC automatically\n",
    "        # (optional, default is False)\n",
    "        auto_adjust = True,\n",
    "\n",
    "        # download pre/post regular market hours data\n",
    "        # (optional, default is False)\n",
    "        prepost = True,\n",
    "\n",
    "        # use threads for mass downloading? (True/False/Integer)\n",
    "        # (optional, default is True)\n",
    "        threads = True,\n",
    "\n",
    "        # proxy URL scheme use use when downloading?\n",
    "        # (optional, default is None)\n",
    "        proxy = None\n",
    "    )"
   ]
  },
  {
   "cell_type": "code",
   "execution_count": 6,
   "metadata": {},
   "outputs": [
    {
     "data": {
      "text/html": [
       "<div>\n",
       "<style scoped>\n",
       "    .dataframe tbody tr th:only-of-type {\n",
       "        vertical-align: middle;\n",
       "    }\n",
       "\n",
       "    .dataframe tbody tr th {\n",
       "        vertical-align: top;\n",
       "    }\n",
       "\n",
       "    .dataframe thead tr th {\n",
       "        text-align: left;\n",
       "    }\n",
       "\n",
       "    .dataframe thead tr:last-of-type th {\n",
       "        text-align: right;\n",
       "    }\n",
       "</style>\n",
       "<table border=\"1\" class=\"dataframe\">\n",
       "  <thead>\n",
       "    <tr>\n",
       "      <th></th>\n",
       "      <th colspan=\"6\" halign=\"left\">Close</th>\n",
       "      <th colspan=\"4\" halign=\"left\">High</th>\n",
       "      <th>...</th>\n",
       "      <th colspan=\"4\" halign=\"left\">Open</th>\n",
       "      <th colspan=\"6\" halign=\"left\">Volume</th>\n",
       "    </tr>\n",
       "    <tr>\n",
       "      <th></th>\n",
       "      <th>AAPL</th>\n",
       "      <th>BRK-B</th>\n",
       "      <th>GOOG</th>\n",
       "      <th>JPM</th>\n",
       "      <th>MMM</th>\n",
       "      <th>VZ</th>\n",
       "      <th>AAPL</th>\n",
       "      <th>BRK-B</th>\n",
       "      <th>GOOG</th>\n",
       "      <th>JPM</th>\n",
       "      <th>...</th>\n",
       "      <th>GOOG</th>\n",
       "      <th>JPM</th>\n",
       "      <th>MMM</th>\n",
       "      <th>VZ</th>\n",
       "      <th>AAPL</th>\n",
       "      <th>BRK-B</th>\n",
       "      <th>GOOG</th>\n",
       "      <th>JPM</th>\n",
       "      <th>MMM</th>\n",
       "      <th>VZ</th>\n",
       "    </tr>\n",
       "    <tr>\n",
       "      <th>Date</th>\n",
       "      <th></th>\n",
       "      <th></th>\n",
       "      <th></th>\n",
       "      <th></th>\n",
       "      <th></th>\n",
       "      <th></th>\n",
       "      <th></th>\n",
       "      <th></th>\n",
       "      <th></th>\n",
       "      <th></th>\n",
       "      <th></th>\n",
       "      <th></th>\n",
       "      <th></th>\n",
       "      <th></th>\n",
       "      <th></th>\n",
       "      <th></th>\n",
       "      <th></th>\n",
       "      <th></th>\n",
       "      <th></th>\n",
       "      <th></th>\n",
       "      <th></th>\n",
       "    </tr>\n",
       "  </thead>\n",
       "  <tbody>\n",
       "    <tr>\n",
       "      <th>2020-09-28</th>\n",
       "      <td>113.588821</td>\n",
       "      <td>213.539993</td>\n",
       "      <td>73.225998</td>\n",
       "      <td>90.904243</td>\n",
       "      <td>150.768906</td>\n",
       "      <td>54.169651</td>\n",
       "      <td>113.944528</td>\n",
       "      <td>215.470001</td>\n",
       "      <td>73.839996</td>\n",
       "      <td>91.632155</td>\n",
       "      <td>...</td>\n",
       "      <td>73.710503</td>\n",
       "      <td>89.864360</td>\n",
       "      <td>151.085996</td>\n",
       "      <td>54.352164</td>\n",
       "      <td>137672400</td>\n",
       "      <td>5042800</td>\n",
       "      <td>40158000</td>\n",
       "      <td>20894100</td>\n",
       "      <td>2098500</td>\n",
       "      <td>11910500</td>\n",
       "    </tr>\n",
       "    <tr>\n",
       "      <th>2020-09-29</th>\n",
       "      <td>112.729195</td>\n",
       "      <td>210.440002</td>\n",
       "      <td>73.466499</td>\n",
       "      <td>90.138512</td>\n",
       "      <td>149.043533</td>\n",
       "      <td>54.060146</td>\n",
       "      <td>113.934644</td>\n",
       "      <td>213.589996</td>\n",
       "      <td>73.833153</td>\n",
       "      <td>90.781346</td>\n",
       "      <td>...</td>\n",
       "      <td>73.519501</td>\n",
       "      <td>90.781346</td>\n",
       "      <td>150.778225</td>\n",
       "      <td>54.096646</td>\n",
       "      <td>99382200</td>\n",
       "      <td>4036900</td>\n",
       "      <td>19564000</td>\n",
       "      <td>12848200</td>\n",
       "      <td>2006700</td>\n",
       "      <td>10005900</td>\n",
       "    </tr>\n",
       "    <tr>\n",
       "      <th>2020-09-30</th>\n",
       "      <td>114.428680</td>\n",
       "      <td>212.940002</td>\n",
       "      <td>73.480003</td>\n",
       "      <td>91.008224</td>\n",
       "      <td>149.388626</td>\n",
       "      <td>54.288280</td>\n",
       "      <td>115.861390</td>\n",
       "      <td>213.699997</td>\n",
       "      <td>74.487503</td>\n",
       "      <td>91.887394</td>\n",
       "      <td>...</td>\n",
       "      <td>73.339996</td>\n",
       "      <td>90.138510</td>\n",
       "      <td>150.088098</td>\n",
       "      <td>54.260901</td>\n",
       "      <td>142675200</td>\n",
       "      <td>5821800</td>\n",
       "      <td>34032000</td>\n",
       "      <td>16400600</td>\n",
       "      <td>3056900</td>\n",
       "      <td>16348400</td>\n",
       "    </tr>\n",
       "    <tr>\n",
       "      <th>2020-10-01</th>\n",
       "      <td>115.396988</td>\n",
       "      <td>212.020004</td>\n",
       "      <td>74.504501</td>\n",
       "      <td>91.669975</td>\n",
       "      <td>148.092239</td>\n",
       "      <td>54.251785</td>\n",
       "      <td>116.315896</td>\n",
       "      <td>214.389999</td>\n",
       "      <td>74.952003</td>\n",
       "      <td>92.426246</td>\n",
       "      <td>...</td>\n",
       "      <td>74.213501</td>\n",
       "      <td>91.811778</td>\n",
       "      <td>149.845587</td>\n",
       "      <td>54.206158</td>\n",
       "      <td>116120400</td>\n",
       "      <td>4758500</td>\n",
       "      <td>35590000</td>\n",
       "      <td>15778700</td>\n",
       "      <td>1989100</td>\n",
       "      <td>14547100</td>\n",
       "    </tr>\n",
       "    <tr>\n",
       "      <th>2020-10-02</th>\n",
       "      <td>111.671951</td>\n",
       "      <td>211.179993</td>\n",
       "      <td>72.920998</td>\n",
       "      <td>92.539688</td>\n",
       "      <td>149.556473</td>\n",
       "      <td>54.060146</td>\n",
       "      <td>113.993928</td>\n",
       "      <td>213.679993</td>\n",
       "      <td>74.160004</td>\n",
       "      <td>93.201426</td>\n",
       "      <td>...</td>\n",
       "      <td>73.101501</td>\n",
       "      <td>90.043981</td>\n",
       "      <td>145.928544</td>\n",
       "      <td>54.105774</td>\n",
       "      <td>144712000</td>\n",
       "      <td>4420000</td>\n",
       "      <td>25682000</td>\n",
       "      <td>15149600</td>\n",
       "      <td>1768600</td>\n",
       "      <td>10741800</td>\n",
       "    </tr>\n",
       "  </tbody>\n",
       "</table>\n",
       "<p>5 rows × 30 columns</p>\n",
       "</div>"
      ],
      "text/plain": [
       "                 Close                                                \\\n",
       "                  AAPL       BRK-B       GOOG        JPM         MMM   \n",
       "Date                                                                   \n",
       "2020-09-28  113.588821  213.539993  73.225998  90.904243  150.768906   \n",
       "2020-09-29  112.729195  210.440002  73.466499  90.138512  149.043533   \n",
       "2020-09-30  114.428680  212.940002  73.480003  91.008224  149.388626   \n",
       "2020-10-01  115.396988  212.020004  74.504501  91.669975  148.092239   \n",
       "2020-10-02  111.671951  211.179993  72.920998  92.539688  149.556473   \n",
       "\n",
       "                             High                                    ...  \\\n",
       "                   VZ        AAPL       BRK-B       GOOG        JPM  ...   \n",
       "Date                                                                 ...   \n",
       "2020-09-28  54.169651  113.944528  215.470001  73.839996  91.632155  ...   \n",
       "2020-09-29  54.060146  113.934644  213.589996  73.833153  90.781346  ...   \n",
       "2020-09-30  54.288280  115.861390  213.699997  74.487503  91.887394  ...   \n",
       "2020-10-01  54.251785  116.315896  214.389999  74.952003  92.426246  ...   \n",
       "2020-10-02  54.060146  113.993928  213.679993  74.160004  93.201426  ...   \n",
       "\n",
       "                 Open                                       Volume           \\\n",
       "                 GOOG        JPM         MMM         VZ       AAPL    BRK-B   \n",
       "Date                                                                          \n",
       "2020-09-28  73.710503  89.864360  151.085996  54.352164  137672400  5042800   \n",
       "2020-09-29  73.519501  90.781346  150.778225  54.096646   99382200  4036900   \n",
       "2020-09-30  73.339996  90.138510  150.088098  54.260901  142675200  5821800   \n",
       "2020-10-01  74.213501  91.811778  149.845587  54.206158  116120400  4758500   \n",
       "2020-10-02  73.101501  90.043981  145.928544  54.105774  144712000  4420000   \n",
       "\n",
       "                                                   \n",
       "                GOOG       JPM      MMM        VZ  \n",
       "Date                                               \n",
       "2020-09-28  40158000  20894100  2098500  11910500  \n",
       "2020-09-29  19564000  12848200  2006700  10005900  \n",
       "2020-09-30  34032000  16400600  3056900  16348400  \n",
       "2020-10-01  35590000  15778700  1989100  14547100  \n",
       "2020-10-02  25682000  15149600  1768600  10741800  \n",
       "\n",
       "[5 rows x 30 columns]"
      ]
     },
     "execution_count": 6,
     "metadata": {},
     "output_type": "execute_result"
    }
   ],
   "source": [
    "data.head()"
   ]
  },
  {
   "cell_type": "markdown",
   "metadata": {},
   "source": [
    "### Gráfico de evolución simple"
   ]
  },
  {
   "cell_type": "code",
   "execution_count": 7,
   "metadata": {},
   "outputs": [
    {
     "data": {
      "application/vnd.plotly.v1+json": {
       "config": {
        "plotlyServerURL": "https://plot.ly"
       },
       "data": [
        {
         "hovertemplate": "Date=%{x}<br>AAPL=%{y}<extra></extra>",
         "legendgroup": "",
         "line": {
          "color": "#636efa",
          "dash": "solid"
         },
         "marker": {
          "symbol": "circle"
         },
         "mode": "lines",
         "name": "",
         "orientation": "v",
         "showlegend": false,
         "type": "scatter",
         "x": [
          "2020-09-28T00:00:00",
          "2020-09-29T00:00:00",
          "2020-09-30T00:00:00",
          "2020-10-01T00:00:00",
          "2020-10-02T00:00:00",
          "2020-10-05T00:00:00",
          "2020-10-06T00:00:00",
          "2020-10-07T00:00:00",
          "2020-10-08T00:00:00",
          "2020-10-09T00:00:00",
          "2020-10-12T00:00:00",
          "2020-10-13T00:00:00",
          "2020-10-14T00:00:00",
          "2020-10-15T00:00:00",
          "2020-10-16T00:00:00",
          "2020-10-19T00:00:00",
          "2020-10-20T00:00:00",
          "2020-10-21T00:00:00",
          "2020-10-22T00:00:00",
          "2020-10-23T00:00:00",
          "2020-10-26T00:00:00",
          "2020-10-27T00:00:00",
          "2020-10-28T00:00:00",
          "2020-10-29T00:00:00",
          "2020-10-30T00:00:00",
          "2020-11-02T00:00:00",
          "2020-11-03T00:00:00",
          "2020-11-04T00:00:00",
          "2020-11-05T00:00:00",
          "2020-11-06T00:00:00",
          "2020-11-09T00:00:00",
          "2020-11-10T00:00:00",
          "2020-11-11T00:00:00",
          "2020-11-12T00:00:00",
          "2020-11-13T00:00:00",
          "2020-11-16T00:00:00",
          "2020-11-17T00:00:00",
          "2020-11-18T00:00:00",
          "2020-11-19T00:00:00",
          "2020-11-20T00:00:00",
          "2020-11-23T00:00:00",
          "2020-11-24T00:00:00",
          "2020-11-25T00:00:00",
          "2020-11-27T00:00:00",
          "2020-11-30T00:00:00",
          "2020-12-01T00:00:00",
          "2020-12-02T00:00:00",
          "2020-12-03T00:00:00",
          "2020-12-04T00:00:00",
          "2020-12-07T00:00:00",
          "2020-12-08T00:00:00",
          "2020-12-09T00:00:00",
          "2020-12-10T00:00:00",
          "2020-12-11T00:00:00",
          "2020-12-14T00:00:00",
          "2020-12-15T00:00:00",
          "2020-12-16T00:00:00",
          "2020-12-17T00:00:00",
          "2020-12-18T00:00:00",
          "2020-12-21T00:00:00",
          "2020-12-22T00:00:00",
          "2020-12-23T00:00:00",
          "2020-12-24T00:00:00",
          "2020-12-28T00:00:00",
          "2020-12-29T00:00:00",
          "2020-12-30T00:00:00",
          "2020-12-31T00:00:00",
          "2021-01-04T00:00:00",
          "2021-01-05T00:00:00",
          "2021-01-06T00:00:00",
          "2021-01-07T00:00:00",
          "2021-01-08T00:00:00",
          "2021-01-11T00:00:00",
          "2021-01-12T00:00:00",
          "2021-01-13T00:00:00",
          "2021-01-14T00:00:00",
          "2021-01-15T00:00:00",
          "2021-01-19T00:00:00",
          "2021-01-20T00:00:00",
          "2021-01-21T00:00:00",
          "2021-01-22T00:00:00",
          "2021-01-25T00:00:00",
          "2021-01-26T00:00:00",
          "2021-01-27T00:00:00",
          "2021-01-28T00:00:00",
          "2021-01-29T00:00:00",
          "2021-02-01T00:00:00",
          "2021-02-02T00:00:00",
          "2021-02-03T00:00:00",
          "2021-02-04T00:00:00",
          "2021-02-05T00:00:00",
          "2021-02-08T00:00:00",
          "2021-02-09T00:00:00",
          "2021-02-10T00:00:00",
          "2021-02-11T00:00:00",
          "2021-02-12T00:00:00",
          "2021-02-16T00:00:00",
          "2021-02-17T00:00:00",
          "2021-02-18T00:00:00",
          "2021-02-19T00:00:00",
          "2021-02-22T00:00:00",
          "2021-02-23T00:00:00",
          "2021-02-24T00:00:00",
          "2021-02-25T00:00:00",
          "2021-02-26T00:00:00",
          "2021-03-01T00:00:00",
          "2021-03-02T00:00:00",
          "2021-03-03T00:00:00",
          "2021-03-04T00:00:00",
          "2021-03-05T00:00:00",
          "2021-03-08T00:00:00",
          "2021-03-09T00:00:00",
          "2021-03-10T00:00:00",
          "2021-03-11T00:00:00",
          "2021-03-12T00:00:00",
          "2021-03-15T00:00:00",
          "2021-03-16T00:00:00",
          "2021-03-17T00:00:00",
          "2021-03-18T00:00:00",
          "2021-03-19T00:00:00",
          "2021-03-22T00:00:00",
          "2021-03-23T00:00:00",
          "2021-03-24T00:00:00",
          "2021-03-25T00:00:00",
          "2021-03-26T00:00:00",
          "2021-03-29T00:00:00",
          "2021-03-30T00:00:00",
          "2021-03-31T00:00:00",
          "2021-04-01T00:00:00",
          "2021-04-05T00:00:00",
          "2021-04-06T00:00:00",
          "2021-04-07T00:00:00",
          "2021-04-08T00:00:00",
          "2021-04-09T00:00:00",
          "2021-04-12T00:00:00",
          "2021-04-13T00:00:00",
          "2021-04-14T00:00:00",
          "2021-04-15T00:00:00",
          "2021-04-16T00:00:00",
          "2021-04-19T00:00:00",
          "2021-04-20T00:00:00",
          "2021-04-21T00:00:00",
          "2021-04-22T00:00:00",
          "2021-04-23T00:00:00",
          "2021-04-26T00:00:00",
          "2021-04-27T00:00:00",
          "2021-04-28T00:00:00",
          "2021-04-29T00:00:00",
          "2021-04-30T00:00:00",
          "2021-05-03T00:00:00",
          "2021-05-04T00:00:00",
          "2021-05-05T00:00:00",
          "2021-05-06T00:00:00",
          "2021-05-07T00:00:00",
          "2021-05-10T00:00:00",
          "2021-05-11T00:00:00",
          "2021-05-12T00:00:00",
          "2021-05-13T00:00:00",
          "2021-05-14T00:00:00",
          "2021-05-17T00:00:00",
          "2021-05-18T00:00:00",
          "2021-05-19T00:00:00",
          "2021-05-20T00:00:00",
          "2021-05-21T00:00:00",
          "2021-05-24T00:00:00",
          "2021-05-25T00:00:00",
          "2021-05-26T00:00:00",
          "2021-05-27T00:00:00",
          "2021-05-28T00:00:00",
          "2021-06-01T00:00:00",
          "2021-06-02T00:00:00",
          "2021-06-03T00:00:00",
          "2021-06-04T00:00:00",
          "2021-06-07T00:00:00",
          "2021-06-08T00:00:00",
          "2021-06-09T00:00:00",
          "2021-06-10T00:00:00",
          "2021-06-11T00:00:00",
          "2021-06-14T00:00:00",
          "2021-06-15T00:00:00",
          "2021-06-16T00:00:00",
          "2021-06-17T00:00:00",
          "2021-06-18T00:00:00",
          "2021-06-21T00:00:00",
          "2021-06-22T00:00:00",
          "2021-06-23T00:00:00",
          "2021-06-24T00:00:00",
          "2021-06-25T00:00:00",
          "2021-06-28T00:00:00",
          "2021-06-29T00:00:00",
          "2021-06-30T00:00:00",
          "2021-07-01T00:00:00",
          "2021-07-02T00:00:00",
          "2021-07-06T00:00:00",
          "2021-07-07T00:00:00",
          "2021-07-08T00:00:00",
          "2021-07-09T00:00:00",
          "2021-07-12T00:00:00",
          "2021-07-13T00:00:00",
          "2021-07-14T00:00:00",
          "2021-07-15T00:00:00",
          "2021-07-16T00:00:00",
          "2021-07-19T00:00:00",
          "2021-07-20T00:00:00",
          "2021-07-21T00:00:00",
          "2021-07-22T00:00:00",
          "2021-07-23T00:00:00",
          "2021-07-26T00:00:00",
          "2021-07-27T00:00:00",
          "2021-07-28T00:00:00",
          "2021-07-29T00:00:00",
          "2021-07-30T00:00:00",
          "2021-08-02T00:00:00",
          "2021-08-03T00:00:00",
          "2021-08-04T00:00:00",
          "2021-08-05T00:00:00",
          "2021-08-06T00:00:00",
          "2021-08-09T00:00:00",
          "2021-08-10T00:00:00",
          "2021-08-11T00:00:00",
          "2021-08-12T00:00:00",
          "2021-08-13T00:00:00",
          "2021-08-16T00:00:00",
          "2021-08-17T00:00:00",
          "2021-08-18T00:00:00",
          "2021-08-19T00:00:00",
          "2021-08-20T00:00:00",
          "2021-08-23T00:00:00",
          "2021-08-24T00:00:00",
          "2021-08-25T00:00:00",
          "2021-08-26T00:00:00",
          "2021-08-27T00:00:00",
          "2021-08-30T00:00:00",
          "2021-08-31T00:00:00",
          "2021-09-01T00:00:00",
          "2021-09-02T00:00:00",
          "2021-09-03T00:00:00",
          "2021-09-07T00:00:00",
          "2021-09-08T00:00:00",
          "2021-09-09T00:00:00",
          "2021-09-10T00:00:00",
          "2021-09-13T00:00:00",
          "2021-09-14T00:00:00",
          "2021-09-15T00:00:00",
          "2021-09-16T00:00:00",
          "2021-09-17T00:00:00",
          "2021-09-20T00:00:00",
          "2021-09-21T00:00:00",
          "2021-09-22T00:00:00",
          "2021-09-23T00:00:00",
          "2021-09-24T00:00:00",
          "2021-09-27T00:00:00",
          "2021-09-28T00:00:00",
          "2021-09-29T00:00:00",
          "2021-09-30T00:00:00",
          "2021-10-01T00:00:00",
          "2021-10-04T00:00:00",
          "2021-10-05T00:00:00",
          "2021-10-06T00:00:00",
          "2021-10-07T00:00:00",
          "2021-10-08T00:00:00",
          "2021-10-11T00:00:00",
          "2021-10-12T00:00:00",
          "2021-10-13T00:00:00",
          "2021-10-14T00:00:00",
          "2021-10-15T00:00:00",
          "2021-10-18T00:00:00",
          "2021-10-19T00:00:00",
          "2021-10-20T00:00:00",
          "2021-10-21T00:00:00",
          "2021-10-22T00:00:00",
          "2021-10-25T00:00:00",
          "2021-10-26T00:00:00",
          "2021-10-27T00:00:00",
          "2021-10-28T00:00:00",
          "2021-10-29T00:00:00",
          "2021-11-01T00:00:00",
          "2021-11-02T00:00:00",
          "2021-11-03T00:00:00",
          "2021-11-04T00:00:00",
          "2021-11-05T00:00:00",
          "2021-11-08T00:00:00",
          "2021-11-09T00:00:00",
          "2021-11-10T00:00:00",
          "2021-11-11T00:00:00",
          "2021-11-12T00:00:00",
          "2021-11-15T00:00:00",
          "2021-11-16T00:00:00",
          "2021-11-17T00:00:00",
          "2021-11-18T00:00:00",
          "2021-11-19T00:00:00",
          "2021-11-22T00:00:00",
          "2021-11-23T00:00:00",
          "2021-11-24T00:00:00",
          "2021-11-26T00:00:00",
          "2021-11-29T00:00:00",
          "2021-11-30T00:00:00",
          "2021-12-01T00:00:00",
          "2021-12-02T00:00:00",
          "2021-12-03T00:00:00",
          "2021-12-06T00:00:00",
          "2021-12-07T00:00:00",
          "2021-12-08T00:00:00",
          "2021-12-09T00:00:00",
          "2021-12-10T00:00:00",
          "2021-12-13T00:00:00",
          "2021-12-14T00:00:00",
          "2021-12-15T00:00:00",
          "2021-12-16T00:00:00",
          "2021-12-17T00:00:00",
          "2021-12-20T00:00:00",
          "2021-12-21T00:00:00",
          "2021-12-22T00:00:00",
          "2021-12-23T00:00:00",
          "2021-12-27T00:00:00",
          "2021-12-28T00:00:00",
          "2021-12-29T00:00:00",
          "2021-12-30T00:00:00",
          "2021-12-31T00:00:00",
          "2022-01-03T00:00:00",
          "2022-01-04T00:00:00",
          "2022-01-05T00:00:00",
          "2022-01-06T00:00:00",
          "2022-01-07T00:00:00",
          "2022-01-10T00:00:00",
          "2022-01-11T00:00:00",
          "2022-01-12T00:00:00",
          "2022-01-13T00:00:00",
          "2022-01-14T00:00:00",
          "2022-01-18T00:00:00",
          "2022-01-19T00:00:00",
          "2022-01-20T00:00:00",
          "2022-01-21T00:00:00",
          "2022-01-24T00:00:00",
          "2022-01-25T00:00:00",
          "2022-01-26T00:00:00",
          "2022-01-27T00:00:00",
          "2022-01-28T00:00:00",
          "2022-01-31T00:00:00",
          "2022-02-01T00:00:00",
          "2022-02-02T00:00:00",
          "2022-02-03T00:00:00",
          "2022-02-04T00:00:00",
          "2022-02-07T00:00:00",
          "2022-02-08T00:00:00",
          "2022-02-09T00:00:00",
          "2022-02-10T00:00:00",
          "2022-02-11T00:00:00",
          "2022-02-14T00:00:00",
          "2022-02-15T00:00:00",
          "2022-02-16T00:00:00",
          "2022-02-17T00:00:00",
          "2022-02-18T00:00:00",
          "2022-02-22T00:00:00",
          "2022-02-23T00:00:00",
          "2022-02-24T00:00:00",
          "2022-02-25T00:00:00",
          "2022-02-28T00:00:00",
          "2022-03-01T00:00:00",
          "2022-03-02T00:00:00",
          "2022-03-03T00:00:00",
          "2022-03-04T00:00:00",
          "2022-03-07T00:00:00",
          "2022-03-08T00:00:00",
          "2022-03-09T00:00:00",
          "2022-03-10T00:00:00",
          "2022-03-11T00:00:00",
          "2022-03-14T00:00:00",
          "2022-03-15T00:00:00",
          "2022-03-16T00:00:00",
          "2022-03-17T00:00:00",
          "2022-03-18T00:00:00",
          "2022-03-21T00:00:00",
          "2022-03-22T00:00:00",
          "2022-03-23T00:00:00",
          "2022-03-24T00:00:00",
          "2022-03-25T00:00:00",
          "2022-03-28T00:00:00",
          "2022-03-29T00:00:00",
          "2022-03-30T00:00:00",
          "2022-03-31T00:00:00",
          "2022-04-01T00:00:00",
          "2022-04-04T00:00:00",
          "2022-04-05T00:00:00",
          "2022-04-06T00:00:00",
          "2022-04-07T00:00:00",
          "2022-04-08T00:00:00",
          "2022-04-11T00:00:00",
          "2022-04-12T00:00:00",
          "2022-04-13T00:00:00",
          "2022-04-14T00:00:00",
          "2022-04-18T00:00:00",
          "2022-04-19T00:00:00",
          "2022-04-20T00:00:00",
          "2022-04-21T00:00:00",
          "2022-04-22T00:00:00",
          "2022-04-25T00:00:00",
          "2022-04-26T00:00:00",
          "2022-04-27T00:00:00",
          "2022-04-28T00:00:00",
          "2022-04-29T00:00:00",
          "2022-05-02T00:00:00",
          "2022-05-03T00:00:00",
          "2022-05-04T00:00:00",
          "2022-05-05T00:00:00",
          "2022-05-06T00:00:00",
          "2022-05-09T00:00:00",
          "2022-05-10T00:00:00",
          "2022-05-11T00:00:00",
          "2022-05-12T00:00:00",
          "2022-05-13T00:00:00",
          "2022-05-16T00:00:00",
          "2022-05-17T00:00:00",
          "2022-05-18T00:00:00",
          "2022-05-19T00:00:00",
          "2022-05-20T00:00:00",
          "2022-05-23T00:00:00",
          "2022-05-24T00:00:00",
          "2022-05-25T00:00:00",
          "2022-05-26T00:00:00",
          "2022-05-27T00:00:00",
          "2022-05-31T00:00:00",
          "2022-06-01T00:00:00",
          "2022-06-02T00:00:00",
          "2022-06-03T00:00:00",
          "2022-06-06T00:00:00",
          "2022-06-07T00:00:00",
          "2022-06-08T00:00:00",
          "2022-06-09T00:00:00",
          "2022-06-10T00:00:00",
          "2022-06-13T00:00:00",
          "2022-06-14T00:00:00",
          "2022-06-15T00:00:00",
          "2022-06-16T00:00:00",
          "2022-06-17T00:00:00",
          "2022-06-21T00:00:00",
          "2022-06-22T00:00:00",
          "2022-06-23T00:00:00",
          "2022-06-24T00:00:00",
          "2022-06-27T00:00:00",
          "2022-06-28T00:00:00",
          "2022-06-29T00:00:00",
          "2022-06-30T00:00:00",
          "2022-07-01T00:00:00",
          "2022-07-05T00:00:00",
          "2022-07-06T00:00:00",
          "2022-07-07T00:00:00",
          "2022-07-08T00:00:00",
          "2022-07-11T00:00:00",
          "2022-07-12T00:00:00",
          "2022-07-13T00:00:00",
          "2022-07-14T00:00:00",
          "2022-07-15T00:00:00",
          "2022-07-18T00:00:00",
          "2022-07-19T00:00:00",
          "2022-07-20T00:00:00",
          "2022-07-21T00:00:00",
          "2022-07-22T00:00:00",
          "2022-07-25T00:00:00",
          "2022-07-26T00:00:00",
          "2022-07-27T00:00:00",
          "2022-07-28T00:00:00",
          "2022-07-29T00:00:00",
          "2022-08-01T00:00:00",
          "2022-08-02T00:00:00",
          "2022-08-03T00:00:00",
          "2022-08-04T00:00:00",
          "2022-08-05T00:00:00",
          "2022-08-08T00:00:00",
          "2022-08-09T00:00:00",
          "2022-08-10T00:00:00",
          "2022-08-11T00:00:00",
          "2022-08-12T00:00:00",
          "2022-08-15T00:00:00",
          "2022-08-16T00:00:00",
          "2022-08-17T00:00:00",
          "2022-08-18T00:00:00",
          "2022-08-19T00:00:00",
          "2022-08-22T00:00:00",
          "2022-08-23T00:00:00",
          "2022-08-24T00:00:00",
          "2022-08-25T00:00:00",
          "2022-08-26T00:00:00",
          "2022-08-29T00:00:00",
          "2022-08-30T00:00:00",
          "2022-08-31T00:00:00",
          "2022-09-01T00:00:00",
          "2022-09-02T00:00:00",
          "2022-09-06T00:00:00",
          "2022-09-07T00:00:00",
          "2022-09-08T00:00:00",
          "2022-09-09T00:00:00",
          "2022-09-12T00:00:00",
          "2022-09-13T00:00:00",
          "2022-09-14T00:00:00",
          "2022-09-15T00:00:00",
          "2022-09-16T00:00:00",
          "2022-09-19T00:00:00",
          "2022-09-20T00:00:00",
          "2022-09-21T00:00:00",
          "2022-09-22T00:00:00",
          "2022-09-23T00:00:00",
          "2022-09-26T00:00:00",
          "2022-09-27T00:00:00"
         ],
         "xaxis": "x",
         "y": [
          113.58882141113281,
          112.72919464111328,
          114.42868041992188,
          115.39698791503906,
          111.67195129394531,
          115.11045837402344,
          111.81029510498047,
          113.7073974609375,
          113.59871673583984,
          115.57484436035156,
          122.91622924804688,
          119.65558624267578,
          119.74452209472656,
          119.27025604248047,
          117.60039520263672,
          114.59666442871094,
          116.10841369628906,
          115.47604370117188,
          114.36940002441406,
          113.66786193847656,
          113.67774963378906,
          115.20925903320312,
          109.87366485595703,
          113.94453430175781,
          107.56157684326172,
          107.47265625,
          109.12274932861328,
          113.57893371582031,
          117.61027526855469,
          117.4766616821289,
          115.13088989257812,
          114.78446197509766,
          118.26847839355469,
          117.99134826660156,
          118.04083251953125,
          119.07020568847656,
          118.16950225830078,
          116.82340240478516,
          117.42717742919922,
          116.14044952392578,
          112.68614196777344,
          113.99263763427734,
          114.8438491821289,
          115.39813232421875,
          117.83299255371094,
          121.46546173095703,
          121.82178497314453,
          121.68321228027344,
          121.00025939941406,
          122.48493194580078,
          123.10848236083984,
          120.53506469726562,
          121.98014068603516,
          121.15863800048828,
          120.53506469726562,
          126.57271575927734,
          126.50341796875,
          127.38433074951172,
          125.36518096923828,
          126.91913604736328,
          130.53182983398438,
          129.62124633789062,
          130.6208953857422,
          135.29266357421875,
          133.49127197265625,
          132.35301208496094,
          131.33352661132812,
          128.08706665039062,
          129.6707305908203,
          125.3057861328125,
          129.58163452148438,
          130.7000732421875,
          127.66145324707031,
          127.48330688476562,
          129.55194091796875,
          127.5921859741211,
          125.84028625488281,
          126.52322387695312,
          130.6802978515625,
          135.47079467773438,
          137.64833068847656,
          141.4589385986328,
          141.69651794433594,
          140.60775756835938,
          135.6885528564453,
          130.6110076904297,
          132.7687225341797,
          133.61004638671875,
          132.57078552246094,
          135.98548889160156,
          135.56419372558594,
          135.71290588378906,
          134.82077026367188,
          134.2061767578125,
          133.94845581054688,
          134.1863250732422,
          132.02540588378906,
          129.6959686279297,
          128.57586669921875,
          128.73443603515625,
          124.8982925415039,
          124.759521484375,
          124.25396728515625,
          119.93209838867188,
          120.1997299194336,
          126.67263793945312,
          124.02598571777344,
          120.99272918701172,
          119.07960510253906,
          120.35832977294922,
          115.34258270263672,
          120.03121948242188,
          118.93092346191406,
          120.89362335205078,
          119.97174835205078,
          122.90586853027344,
          124.4720458984375,
          123.66912841796875,
          119.47611999511719,
          118.94083404541016,
          122.31111907958984,
          121.46854400634766,
          119.03997039794922,
          119.53559112548828,
          120.15017700195312,
          120.32860565185547,
          118.85162353515625,
          121.08195495605469,
          121.92452239990234,
          124.79916381835938,
          125.10646057128906,
          126.78167724609375,
          129.2201690673828,
          131.8370819091797,
          130.0924835205078,
          133.2545928955078,
          130.8755645751953,
          133.323974609375,
          132.98696899414062,
          133.66098022460938,
          131.9461212158203,
          132.3327178955078,
          130.78634643554688,
          133.14553833007812,
          133.5420379638672,
          133.21493530273438,
          132.41200256347656,
          132.31288146972656,
          130.31057739257812,
          131.38108825683594,
          126.73210906982422,
          126.97994232177734,
          128.6055908203125,
          129.2907257080078,
          125.9544448852539,
          125.02107238769531,
          121.90323638916016,
          124.08771514892578,
          126.5501937866211,
          125.37852478027344,
          123.96855926513672,
          123.80968475341797,
          126.41117858886719,
          124.54446411132812,
          126.20266723632812,
          126.00408172607422,
          125.9544448852539,
          124.39552307128906,
          123.73025512695312,
          123.40258026123047,
          124.17707061767578,
          122.66780853271484,
          125.00121307373047,
          125.01114654541016,
          125.84522247314453,
          126.23246002197266,
          125.21966552734375,
          126.4509048461914,
          129.55880737304688,
          128.7247314453125,
          129.23114013671875,
          130.85955810546875,
          129.53897094726562,
          131.365966796875,
          133.03408813476562,
          132.75608825683594,
          132.46812438964844,
          132.17022705078125,
          133.82843017578125,
          135.3675079345703,
          135.99307250976562,
          136.30088806152344,
          138.97189331054688,
          141.01734924316406,
          143.54933166503906,
          142.22872924804688,
          144.0855255126953,
          143.47982788085938,
          144.6117706298828,
          148.09698486328125,
          147.43173217773438,
          145.35647583007812,
          141.44432067871094,
          145.11817932128906,
          144.3734588623047,
          145.76358032226562,
          147.51116943359375,
          147.93814086914062,
          145.7338104248047,
          143.95643615722656,
          144.6117706298828,
          144.83021545410156,
          144.4926300048828,
          146.3196258544922,
          145.91253662109375,
          146.02174377441406,
          145.32565307617188,
          145.2759246826172,
          144.78868103027344,
          145.04721069335938,
          148.06033325195312,
          148.26918029785156,
          150.2779083251953,
          149.3531036376953,
          145.54443359375,
          145.88253784179688,
          147.36424255371094,
          148.8757781982422,
          148.78627014160156,
          147.5332794189453,
          146.71786499023438,
          147.77195739746094,
          152.2667694091797,
          150.9839630126953,
          151.66015625,
          152.79379272460938,
          153.440185546875,
          155.81687927246094,
          154.2456817626953,
          153.21148681640625,
          148.139892578125,
          148.71665954589844,
          147.2946014404297,
          148.19955444335938,
          147.9608917236328,
          145.24610900878906,
          142.14349365234375,
          142.63075256347656,
          145.0372772216797,
          146.01182556152344,
          146.10130310058594,
          144.5599365234375,
          141.11923217773438,
          142.0341033935547,
          140.71153259277344,
          141.8551025390625,
          138.36465454101562,
          140.3236846923828,
          141.20872497558594,
          142.49154663085938,
          142.10369873046875,
          142.01422119140625,
          140.72146606445312,
          140.1248016357422,
          142.95892333984375,
          144.03289794921875,
          145.73338317871094,
          147.93104553222656,
          148.4282684326172,
          148.64703369140625,
          147.86146545410156,
          147.8117218017578,
          148.48794555664062,
          148.02056884765625,
          151.71983337402344,
          148.96527099609375,
          148.12994384765625,
          149.1840362548828,
          150.64585876464844,
          150.11880493164062,
          150.6565704345703,
          149.82003784179688,
          150.18850708007812,
          147.3104248046875,
          147.2606201171875,
          149.3719024658203,
          149.38185119628906,
          150.3777313232422,
          152.8574676513672,
          157.2194061279297,
          159.88836669921875,
          160.35643005371094,
          160.74484252929688,
          161.2726593017578,
          156.16378784179688,
          159.57965087890625,
          164.61880493164062,
          164.0909881591797,
          163.08514404296875,
          161.1730499267578,
          164.63873291015625,
          170.47454833984375,
          174.35848999023438,
          173.84063720703125,
          178.7104949951172,
          175.01577758789062,
          173.61158752441406,
          178.5611114501953,
          171.5500946044922,
          170.43472290039062,
          169.0504608154297,
          172.277099609375,
          174.9161834716797,
          175.5535430908203,
          179.5868682861328,
          178.5511474609375,
          178.64077758789062,
          177.46563720703125,
          176.83824157714844,
          181.25991821289062,
          178.95945739746094,
          174.19915771484375,
          171.2911834716797,
          171.4604949951172,
          171.48040771484375,
          174.35848999023438,
          174.806640625,
          171.48040771484375,
          172.35679626464844,
          169.10025024414062,
          165.54495239257812,
          163.83206176757812,
          161.74070739746094,
          160.95394897460938,
          159.1215362548828,
          159.03192138671875,
          158.56385803222656,
          169.62806701660156,
          174.05972290039062,
          173.89044189453125,
          175.1153564453125,
          172.18746948242188,
          171.8983154296875,
          171.17039489746094,
          174.3313446044922,
          175.7772216796875,
          171.6290740966797,
          168.1590118408203,
          168.3983154296875,
          172.2971649169922,
          172.057861328125,
          168.3983154296875,
          166.8228302001953,
          163.85133361816406,
          159.61346435546875,
          162.27584838867188,
          164.37982177734375,
          164.6490478515625,
          162.73452758789062,
          166.08494567871094,
          165.75587463378906,
          162.70460510253906,
          158.8456573486328,
          156.99095153808594,
          162.48524475097656,
          158.06788635253906,
          154.28868103027344,
          150.19039916992188,
          154.64764404296875,
          159.13482666015625,
          160.16188049316406,
          163.51229858398438,
          164.90830993652344,
          168.3385009765625,
          169.72454833984375,
          173.57351684570312,
          174.22166442871094,
          175.09915161132812,
          178.44956970214844,
          177.26296997070312,
          174.1119842529297,
          173.8128204345703,
          177.93104553222656,
          174.56068420410156,
          171.33990478515625,
          171.64901733398438,
          169.6048583984375,
          165.27723693847656,
          167.1818084716797,
          169.91397094726562,
          164.8185577392578,
          164.5991973876953,
          166.92254638671875,
          166.75302124023438,
          165.94534301757812,
          161.3285369873047,
          162.41543579101562,
          156.352783203125,
          156.12344360351562,
          163.1732635498047,
          157.20034790039062,
          157.5094757080078,
          159.02513122558594,
          165.54647827148438,
          156.3228759765625,
          157.06182861328125,
          151.8490753173828,
          154.29566955566406,
          146.29678344726562,
          142.36224365234375,
          146.90594482421875,
          145.33811950683594,
          149.03298950195312,
          140.6246795654297,
          137.15948486328125,
          137.39913940429688,
          142.91148376464844,
          140.16529846191406,
          140.32508850097656,
          143.58055114746094,
          149.43243408203125,
          148.633544921875,
          148.50372314453125,
          151.00025939941406,
          145.1783447265625,
          145.93728637695312,
          148.50372314453125,
          147.75477600097656,
          142.442138671875,
          136.93978881835938,
          131.6970672607422,
          132.57583618164062,
          135.2421417236328,
          129.8795928955078,
          131.37750244140625,
          135.68153381347656,
          135.16226196289062,
          138.0782012939453,
          141.4635009765625,
          141.4635009765625,
          137.24935913085938,
          139.036865234375,
          136.5303497314453,
          138.73727416992188,
          141.36363220214844,
          142.7217559814453,
          146.14700317382812,
          146.83602905273438,
          144.66903686523438,
          145.6576690673828,
          145.28819274902344,
          148.26405334472656,
          149.96170043945312,
          146.86599731445312,
          150.79054260253906,
          152.8277130126953,
          155.134521484375,
          153.87625122070312,
          152.7378387451172,
          151.3897247314453,
          156.572509765625,
          157.13174438476562,
          162.28457641601562,
          161.2859649658203,
          159.7880401611328,
          165.89956665039062,
          165.5800018310547,
          165.35000610351562,
          164.8699951171875,
          164.9199981689453,
          169.24000549316406,
          168.49000549316406,
          172.10000610351562,
          173.19000244140625,
          173.02999877929688,
          174.5500030517578,
          174.14999389648438,
          171.52000427246094,
          167.57000732421875,
          167.22999572753906,
          167.52999877929688,
          170.02999877929688,
          163.6199951171875,
          161.3800048828125,
          158.91000366210938,
          157.22000122070312,
          157.9600067138672,
          155.80999755859375,
          154.52999877929688,
          155.9600067138672,
          154.4600067138672,
          157.3699951171875,
          163.42999267578125,
          153.83999633789062,
          155.30999755859375,
          152.3699951171875,
          150.6999969482422,
          154.47999572753906,
          156.89999389648438,
          153.72000122070312,
          152.74000549316406,
          150.42999267578125,
          150.77000427246094,
          151.75999450683594
         ],
         "yaxis": "y"
        }
       ],
       "layout": {
        "legend": {
         "tracegroupgap": 0
        },
        "margin": {
         "t": 60
        },
        "template": {
         "data": {
          "bar": [
           {
            "error_x": {
             "color": "#2a3f5f"
            },
            "error_y": {
             "color": "#2a3f5f"
            },
            "marker": {
             "line": {
              "color": "#E5ECF6",
              "width": 0.5
             },
             "pattern": {
              "fillmode": "overlay",
              "size": 10,
              "solidity": 0.2
             }
            },
            "type": "bar"
           }
          ],
          "barpolar": [
           {
            "marker": {
             "line": {
              "color": "#E5ECF6",
              "width": 0.5
             },
             "pattern": {
              "fillmode": "overlay",
              "size": 10,
              "solidity": 0.2
             }
            },
            "type": "barpolar"
           }
          ],
          "carpet": [
           {
            "aaxis": {
             "endlinecolor": "#2a3f5f",
             "gridcolor": "white",
             "linecolor": "white",
             "minorgridcolor": "white",
             "startlinecolor": "#2a3f5f"
            },
            "baxis": {
             "endlinecolor": "#2a3f5f",
             "gridcolor": "white",
             "linecolor": "white",
             "minorgridcolor": "white",
             "startlinecolor": "#2a3f5f"
            },
            "type": "carpet"
           }
          ],
          "choropleth": [
           {
            "colorbar": {
             "outlinewidth": 0,
             "ticks": ""
            },
            "type": "choropleth"
           }
          ],
          "contour": [
           {
            "colorbar": {
             "outlinewidth": 0,
             "ticks": ""
            },
            "colorscale": [
             [
              0,
              "#0d0887"
             ],
             [
              0.1111111111111111,
              "#46039f"
             ],
             [
              0.2222222222222222,
              "#7201a8"
             ],
             [
              0.3333333333333333,
              "#9c179e"
             ],
             [
              0.4444444444444444,
              "#bd3786"
             ],
             [
              0.5555555555555556,
              "#d8576b"
             ],
             [
              0.6666666666666666,
              "#ed7953"
             ],
             [
              0.7777777777777778,
              "#fb9f3a"
             ],
             [
              0.8888888888888888,
              "#fdca26"
             ],
             [
              1,
              "#f0f921"
             ]
            ],
            "type": "contour"
           }
          ],
          "contourcarpet": [
           {
            "colorbar": {
             "outlinewidth": 0,
             "ticks": ""
            },
            "type": "contourcarpet"
           }
          ],
          "heatmap": [
           {
            "colorbar": {
             "outlinewidth": 0,
             "ticks": ""
            },
            "colorscale": [
             [
              0,
              "#0d0887"
             ],
             [
              0.1111111111111111,
              "#46039f"
             ],
             [
              0.2222222222222222,
              "#7201a8"
             ],
             [
              0.3333333333333333,
              "#9c179e"
             ],
             [
              0.4444444444444444,
              "#bd3786"
             ],
             [
              0.5555555555555556,
              "#d8576b"
             ],
             [
              0.6666666666666666,
              "#ed7953"
             ],
             [
              0.7777777777777778,
              "#fb9f3a"
             ],
             [
              0.8888888888888888,
              "#fdca26"
             ],
             [
              1,
              "#f0f921"
             ]
            ],
            "type": "heatmap"
           }
          ],
          "heatmapgl": [
           {
            "colorbar": {
             "outlinewidth": 0,
             "ticks": ""
            },
            "colorscale": [
             [
              0,
              "#0d0887"
             ],
             [
              0.1111111111111111,
              "#46039f"
             ],
             [
              0.2222222222222222,
              "#7201a8"
             ],
             [
              0.3333333333333333,
              "#9c179e"
             ],
             [
              0.4444444444444444,
              "#bd3786"
             ],
             [
              0.5555555555555556,
              "#d8576b"
             ],
             [
              0.6666666666666666,
              "#ed7953"
             ],
             [
              0.7777777777777778,
              "#fb9f3a"
             ],
             [
              0.8888888888888888,
              "#fdca26"
             ],
             [
              1,
              "#f0f921"
             ]
            ],
            "type": "heatmapgl"
           }
          ],
          "histogram": [
           {
            "marker": {
             "pattern": {
              "fillmode": "overlay",
              "size": 10,
              "solidity": 0.2
             }
            },
            "type": "histogram"
           }
          ],
          "histogram2d": [
           {
            "colorbar": {
             "outlinewidth": 0,
             "ticks": ""
            },
            "colorscale": [
             [
              0,
              "#0d0887"
             ],
             [
              0.1111111111111111,
              "#46039f"
             ],
             [
              0.2222222222222222,
              "#7201a8"
             ],
             [
              0.3333333333333333,
              "#9c179e"
             ],
             [
              0.4444444444444444,
              "#bd3786"
             ],
             [
              0.5555555555555556,
              "#d8576b"
             ],
             [
              0.6666666666666666,
              "#ed7953"
             ],
             [
              0.7777777777777778,
              "#fb9f3a"
             ],
             [
              0.8888888888888888,
              "#fdca26"
             ],
             [
              1,
              "#f0f921"
             ]
            ],
            "type": "histogram2d"
           }
          ],
          "histogram2dcontour": [
           {
            "colorbar": {
             "outlinewidth": 0,
             "ticks": ""
            },
            "colorscale": [
             [
              0,
              "#0d0887"
             ],
             [
              0.1111111111111111,
              "#46039f"
             ],
             [
              0.2222222222222222,
              "#7201a8"
             ],
             [
              0.3333333333333333,
              "#9c179e"
             ],
             [
              0.4444444444444444,
              "#bd3786"
             ],
             [
              0.5555555555555556,
              "#d8576b"
             ],
             [
              0.6666666666666666,
              "#ed7953"
             ],
             [
              0.7777777777777778,
              "#fb9f3a"
             ],
             [
              0.8888888888888888,
              "#fdca26"
             ],
             [
              1,
              "#f0f921"
             ]
            ],
            "type": "histogram2dcontour"
           }
          ],
          "mesh3d": [
           {
            "colorbar": {
             "outlinewidth": 0,
             "ticks": ""
            },
            "type": "mesh3d"
           }
          ],
          "parcoords": [
           {
            "line": {
             "colorbar": {
              "outlinewidth": 0,
              "ticks": ""
             }
            },
            "type": "parcoords"
           }
          ],
          "pie": [
           {
            "automargin": true,
            "type": "pie"
           }
          ],
          "scatter": [
           {
            "fillpattern": {
             "fillmode": "overlay",
             "size": 10,
             "solidity": 0.2
            },
            "type": "scatter"
           }
          ],
          "scatter3d": [
           {
            "line": {
             "colorbar": {
              "outlinewidth": 0,
              "ticks": ""
             }
            },
            "marker": {
             "colorbar": {
              "outlinewidth": 0,
              "ticks": ""
             }
            },
            "type": "scatter3d"
           }
          ],
          "scattercarpet": [
           {
            "marker": {
             "colorbar": {
              "outlinewidth": 0,
              "ticks": ""
             }
            },
            "type": "scattercarpet"
           }
          ],
          "scattergeo": [
           {
            "marker": {
             "colorbar": {
              "outlinewidth": 0,
              "ticks": ""
             }
            },
            "type": "scattergeo"
           }
          ],
          "scattergl": [
           {
            "marker": {
             "colorbar": {
              "outlinewidth": 0,
              "ticks": ""
             }
            },
            "type": "scattergl"
           }
          ],
          "scattermapbox": [
           {
            "marker": {
             "colorbar": {
              "outlinewidth": 0,
              "ticks": ""
             }
            },
            "type": "scattermapbox"
           }
          ],
          "scatterpolar": [
           {
            "marker": {
             "colorbar": {
              "outlinewidth": 0,
              "ticks": ""
             }
            },
            "type": "scatterpolar"
           }
          ],
          "scatterpolargl": [
           {
            "marker": {
             "colorbar": {
              "outlinewidth": 0,
              "ticks": ""
             }
            },
            "type": "scatterpolargl"
           }
          ],
          "scatterternary": [
           {
            "marker": {
             "colorbar": {
              "outlinewidth": 0,
              "ticks": ""
             }
            },
            "type": "scatterternary"
           }
          ],
          "surface": [
           {
            "colorbar": {
             "outlinewidth": 0,
             "ticks": ""
            },
            "colorscale": [
             [
              0,
              "#0d0887"
             ],
             [
              0.1111111111111111,
              "#46039f"
             ],
             [
              0.2222222222222222,
              "#7201a8"
             ],
             [
              0.3333333333333333,
              "#9c179e"
             ],
             [
              0.4444444444444444,
              "#bd3786"
             ],
             [
              0.5555555555555556,
              "#d8576b"
             ],
             [
              0.6666666666666666,
              "#ed7953"
             ],
             [
              0.7777777777777778,
              "#fb9f3a"
             ],
             [
              0.8888888888888888,
              "#fdca26"
             ],
             [
              1,
              "#f0f921"
             ]
            ],
            "type": "surface"
           }
          ],
          "table": [
           {
            "cells": {
             "fill": {
              "color": "#EBF0F8"
             },
             "line": {
              "color": "white"
             }
            },
            "header": {
             "fill": {
              "color": "#C8D4E3"
             },
             "line": {
              "color": "white"
             }
            },
            "type": "table"
           }
          ]
         },
         "layout": {
          "annotationdefaults": {
           "arrowcolor": "#2a3f5f",
           "arrowhead": 0,
           "arrowwidth": 1
          },
          "autotypenumbers": "strict",
          "coloraxis": {
           "colorbar": {
            "outlinewidth": 0,
            "ticks": ""
           }
          },
          "colorscale": {
           "diverging": [
            [
             0,
             "#8e0152"
            ],
            [
             0.1,
             "#c51b7d"
            ],
            [
             0.2,
             "#de77ae"
            ],
            [
             0.3,
             "#f1b6da"
            ],
            [
             0.4,
             "#fde0ef"
            ],
            [
             0.5,
             "#f7f7f7"
            ],
            [
             0.6,
             "#e6f5d0"
            ],
            [
             0.7,
             "#b8e186"
            ],
            [
             0.8,
             "#7fbc41"
            ],
            [
             0.9,
             "#4d9221"
            ],
            [
             1,
             "#276419"
            ]
           ],
           "sequential": [
            [
             0,
             "#0d0887"
            ],
            [
             0.1111111111111111,
             "#46039f"
            ],
            [
             0.2222222222222222,
             "#7201a8"
            ],
            [
             0.3333333333333333,
             "#9c179e"
            ],
            [
             0.4444444444444444,
             "#bd3786"
            ],
            [
             0.5555555555555556,
             "#d8576b"
            ],
            [
             0.6666666666666666,
             "#ed7953"
            ],
            [
             0.7777777777777778,
             "#fb9f3a"
            ],
            [
             0.8888888888888888,
             "#fdca26"
            ],
            [
             1,
             "#f0f921"
            ]
           ],
           "sequentialminus": [
            [
             0,
             "#0d0887"
            ],
            [
             0.1111111111111111,
             "#46039f"
            ],
            [
             0.2222222222222222,
             "#7201a8"
            ],
            [
             0.3333333333333333,
             "#9c179e"
            ],
            [
             0.4444444444444444,
             "#bd3786"
            ],
            [
             0.5555555555555556,
             "#d8576b"
            ],
            [
             0.6666666666666666,
             "#ed7953"
            ],
            [
             0.7777777777777778,
             "#fb9f3a"
            ],
            [
             0.8888888888888888,
             "#fdca26"
            ],
            [
             1,
             "#f0f921"
            ]
           ]
          },
          "colorway": [
           "#636efa",
           "#EF553B",
           "#00cc96",
           "#ab63fa",
           "#FFA15A",
           "#19d3f3",
           "#FF6692",
           "#B6E880",
           "#FF97FF",
           "#FECB52"
          ],
          "font": {
           "color": "#2a3f5f"
          },
          "geo": {
           "bgcolor": "white",
           "lakecolor": "white",
           "landcolor": "#E5ECF6",
           "showlakes": true,
           "showland": true,
           "subunitcolor": "white"
          },
          "hoverlabel": {
           "align": "left"
          },
          "hovermode": "closest",
          "mapbox": {
           "style": "light"
          },
          "paper_bgcolor": "white",
          "plot_bgcolor": "#E5ECF6",
          "polar": {
           "angularaxis": {
            "gridcolor": "white",
            "linecolor": "white",
            "ticks": ""
           },
           "bgcolor": "#E5ECF6",
           "radialaxis": {
            "gridcolor": "white",
            "linecolor": "white",
            "ticks": ""
           }
          },
          "scene": {
           "xaxis": {
            "backgroundcolor": "#E5ECF6",
            "gridcolor": "white",
            "gridwidth": 2,
            "linecolor": "white",
            "showbackground": true,
            "ticks": "",
            "zerolinecolor": "white"
           },
           "yaxis": {
            "backgroundcolor": "#E5ECF6",
            "gridcolor": "white",
            "gridwidth": 2,
            "linecolor": "white",
            "showbackground": true,
            "ticks": "",
            "zerolinecolor": "white"
           },
           "zaxis": {
            "backgroundcolor": "#E5ECF6",
            "gridcolor": "white",
            "gridwidth": 2,
            "linecolor": "white",
            "showbackground": true,
            "ticks": "",
            "zerolinecolor": "white"
           }
          },
          "shapedefaults": {
           "line": {
            "color": "#2a3f5f"
           }
          },
          "ternary": {
           "aaxis": {
            "gridcolor": "white",
            "linecolor": "white",
            "ticks": ""
           },
           "baxis": {
            "gridcolor": "white",
            "linecolor": "white",
            "ticks": ""
           },
           "bgcolor": "#E5ECF6",
           "caxis": {
            "gridcolor": "white",
            "linecolor": "white",
            "ticks": ""
           }
          },
          "title": {
           "x": 0.05
          },
          "xaxis": {
           "automargin": true,
           "gridcolor": "white",
           "linecolor": "white",
           "ticks": "",
           "title": {
            "standoff": 15
           },
           "zerolinecolor": "white",
           "zerolinewidth": 2
          },
          "yaxis": {
           "automargin": true,
           "gridcolor": "white",
           "linecolor": "white",
           "ticks": "",
           "title": {
            "standoff": 15
           },
           "zerolinecolor": "white",
           "zerolinewidth": 2
          }
         }
        },
        "xaxis": {
         "anchor": "y",
         "domain": [
          0,
          1
         ],
         "title": {
          "text": "Date"
         }
        },
        "yaxis": {
         "anchor": "x",
         "domain": [
          0,
          1
         ],
         "title": {
          "text": "AAPL"
         }
        }
       }
      }
     },
     "metadata": {},
     "output_type": "display_data"
    }
   ],
   "source": [
    "fig = px.line(data.Close,x=data.Close.index, y='AAPL') \n",
    "fig.show()"
   ]
  },
  {
   "cell_type": "markdown",
   "metadata": {},
   "source": [
    "### Gráfico de velas"
   ]
  },
  {
   "cell_type": "code",
   "execution_count": 8,
   "metadata": {},
   "outputs": [
    {
     "data": {
      "application/vnd.plotly.v1+json": {
       "config": {
        "plotlyServerURL": "https://plot.ly"
       },
       "data": [
        {
         "close": [
          113.58882141113281,
          112.72919464111328,
          114.42868041992188,
          115.39698791503906,
          111.67195129394531,
          115.11045837402344,
          111.81029510498047,
          113.7073974609375,
          113.59871673583984,
          115.57484436035156,
          122.91622924804688,
          119.65558624267578,
          119.74452209472656,
          119.27025604248047,
          117.60039520263672,
          114.59666442871094,
          116.10841369628906,
          115.47604370117188,
          114.36940002441406,
          113.66786193847656,
          113.67774963378906,
          115.20925903320312,
          109.87366485595703,
          113.94453430175781,
          107.56157684326172,
          107.47265625,
          109.12274932861328,
          113.57893371582031,
          117.61027526855469,
          117.4766616821289,
          115.13088989257812,
          114.78446197509766,
          118.26847839355469,
          117.99134826660156,
          118.04083251953125,
          119.07020568847656,
          118.16950225830078,
          116.82340240478516,
          117.42717742919922,
          116.14044952392578,
          112.68614196777344,
          113.99263763427734,
          114.8438491821289,
          115.39813232421875,
          117.83299255371094,
          121.46546173095703,
          121.82178497314453,
          121.68321228027344,
          121.00025939941406,
          122.48493194580078,
          123.10848236083984,
          120.53506469726562,
          121.98014068603516,
          121.15863800048828,
          120.53506469726562,
          126.57271575927734,
          126.50341796875,
          127.38433074951172,
          125.36518096923828,
          126.91913604736328,
          130.53182983398438,
          129.62124633789062,
          130.6208953857422,
          135.29266357421875,
          133.49127197265625,
          132.35301208496094,
          131.33352661132812,
          128.08706665039062,
          129.6707305908203,
          125.3057861328125,
          129.58163452148438,
          130.7000732421875,
          127.66145324707031,
          127.48330688476562,
          129.55194091796875,
          127.5921859741211,
          125.84028625488281,
          126.52322387695312,
          130.6802978515625,
          135.47079467773438,
          137.64833068847656,
          141.4589385986328,
          141.69651794433594,
          140.60775756835938,
          135.6885528564453,
          130.6110076904297,
          132.7687225341797,
          133.61004638671875,
          132.57078552246094,
          135.98548889160156,
          135.56419372558594,
          135.71290588378906,
          134.82077026367188,
          134.2061767578125,
          133.94845581054688,
          134.1863250732422,
          132.02540588378906,
          129.6959686279297,
          128.57586669921875,
          128.73443603515625,
          124.8982925415039,
          124.759521484375,
          124.25396728515625,
          119.93209838867188,
          120.1997299194336,
          126.67263793945312,
          124.02598571777344,
          120.99272918701172,
          119.07960510253906,
          120.35832977294922,
          115.34258270263672,
          120.03121948242188,
          118.93092346191406,
          120.89362335205078,
          119.97174835205078,
          122.90586853027344,
          124.4720458984375,
          123.66912841796875,
          119.47611999511719,
          118.94083404541016,
          122.31111907958984,
          121.46854400634766,
          119.03997039794922,
          119.53559112548828,
          120.15017700195312,
          120.32860565185547,
          118.85162353515625,
          121.08195495605469,
          121.92452239990234,
          124.79916381835938,
          125.10646057128906,
          126.78167724609375,
          129.2201690673828,
          131.8370819091797,
          130.0924835205078,
          133.2545928955078,
          130.8755645751953,
          133.323974609375,
          132.98696899414062,
          133.66098022460938,
          131.9461212158203,
          132.3327178955078,
          130.78634643554688,
          133.14553833007812,
          133.5420379638672,
          133.21493530273438,
          132.41200256347656,
          132.31288146972656,
          130.31057739257812,
          131.38108825683594,
          126.73210906982422,
          126.97994232177734,
          128.6055908203125,
          129.2907257080078,
          125.9544448852539,
          125.02107238769531,
          121.90323638916016,
          124.08771514892578,
          126.5501937866211,
          125.37852478027344,
          123.96855926513672,
          123.80968475341797,
          126.41117858886719,
          124.54446411132812,
          126.20266723632812,
          126.00408172607422,
          125.9544448852539,
          124.39552307128906,
          123.73025512695312,
          123.40258026123047,
          124.17707061767578,
          122.66780853271484,
          125.00121307373047,
          125.01114654541016,
          125.84522247314453,
          126.23246002197266,
          125.21966552734375,
          126.4509048461914,
          129.55880737304688,
          128.7247314453125,
          129.23114013671875,
          130.85955810546875,
          129.53897094726562,
          131.365966796875,
          133.03408813476562,
          132.75608825683594,
          132.46812438964844,
          132.17022705078125,
          133.82843017578125,
          135.3675079345703,
          135.99307250976562,
          136.30088806152344,
          138.97189331054688,
          141.01734924316406,
          143.54933166503906,
          142.22872924804688,
          144.0855255126953,
          143.47982788085938,
          144.6117706298828,
          148.09698486328125,
          147.43173217773438,
          145.35647583007812,
          141.44432067871094,
          145.11817932128906,
          144.3734588623047,
          145.76358032226562,
          147.51116943359375,
          147.93814086914062,
          145.7338104248047,
          143.95643615722656,
          144.6117706298828,
          144.83021545410156,
          144.4926300048828,
          146.3196258544922,
          145.91253662109375,
          146.02174377441406,
          145.32565307617188,
          145.2759246826172,
          144.78868103027344,
          145.04721069335938,
          148.06033325195312,
          148.26918029785156,
          150.2779083251953,
          149.3531036376953,
          145.54443359375,
          145.88253784179688,
          147.36424255371094,
          148.8757781982422,
          148.78627014160156,
          147.5332794189453,
          146.71786499023438,
          147.77195739746094,
          152.2667694091797,
          150.9839630126953,
          151.66015625,
          152.79379272460938,
          153.440185546875,
          155.81687927246094,
          154.2456817626953,
          153.21148681640625,
          148.139892578125,
          148.71665954589844,
          147.2946014404297,
          148.19955444335938,
          147.9608917236328,
          145.24610900878906,
          142.14349365234375,
          142.63075256347656,
          145.0372772216797,
          146.01182556152344,
          146.10130310058594,
          144.5599365234375,
          141.11923217773438,
          142.0341033935547,
          140.71153259277344,
          141.8551025390625,
          138.36465454101562,
          140.3236846923828,
          141.20872497558594,
          142.49154663085938,
          142.10369873046875,
          142.01422119140625,
          140.72146606445312,
          140.1248016357422,
          142.95892333984375,
          144.03289794921875,
          145.73338317871094,
          147.93104553222656,
          148.4282684326172,
          148.64703369140625,
          147.86146545410156,
          147.8117218017578,
          148.48794555664062,
          148.02056884765625,
          151.71983337402344,
          148.96527099609375,
          148.12994384765625,
          149.1840362548828,
          150.64585876464844,
          150.11880493164062,
          150.6565704345703,
          149.82003784179688,
          150.18850708007812,
          147.3104248046875,
          147.2606201171875,
          149.3719024658203,
          149.38185119628906,
          150.3777313232422,
          152.8574676513672,
          157.2194061279297,
          159.88836669921875,
          160.35643005371094,
          160.74484252929688,
          161.2726593017578,
          156.16378784179688,
          159.57965087890625,
          164.61880493164062,
          164.0909881591797,
          163.08514404296875,
          161.1730499267578,
          164.63873291015625,
          170.47454833984375,
          174.35848999023438,
          173.84063720703125,
          178.7104949951172,
          175.01577758789062,
          173.61158752441406,
          178.5611114501953,
          171.5500946044922,
          170.43472290039062,
          169.0504608154297,
          172.277099609375,
          174.9161834716797,
          175.5535430908203,
          179.5868682861328,
          178.5511474609375,
          178.64077758789062,
          177.46563720703125,
          176.83824157714844,
          181.25991821289062,
          178.95945739746094,
          174.19915771484375,
          171.2911834716797,
          171.4604949951172,
          171.48040771484375,
          174.35848999023438,
          174.806640625,
          171.48040771484375,
          172.35679626464844,
          169.10025024414062,
          165.54495239257812,
          163.83206176757812,
          161.74070739746094,
          160.95394897460938,
          159.1215362548828,
          159.03192138671875,
          158.56385803222656,
          169.62806701660156,
          174.05972290039062,
          173.89044189453125,
          175.1153564453125,
          172.18746948242188,
          171.8983154296875,
          171.17039489746094,
          174.3313446044922,
          175.7772216796875,
          171.6290740966797,
          168.1590118408203,
          168.3983154296875,
          172.2971649169922,
          172.057861328125,
          168.3983154296875,
          166.8228302001953,
          163.85133361816406,
          159.61346435546875,
          162.27584838867188,
          164.37982177734375,
          164.6490478515625,
          162.73452758789062,
          166.08494567871094,
          165.75587463378906,
          162.70460510253906,
          158.8456573486328,
          156.99095153808594,
          162.48524475097656,
          158.06788635253906,
          154.28868103027344,
          150.19039916992188,
          154.64764404296875,
          159.13482666015625,
          160.16188049316406,
          163.51229858398438,
          164.90830993652344,
          168.3385009765625,
          169.72454833984375,
          173.57351684570312,
          174.22166442871094,
          175.09915161132812,
          178.44956970214844,
          177.26296997070312,
          174.1119842529297,
          173.8128204345703,
          177.93104553222656,
          174.56068420410156,
          171.33990478515625,
          171.64901733398438,
          169.6048583984375,
          165.27723693847656,
          167.1818084716797,
          169.91397094726562,
          164.8185577392578,
          164.5991973876953,
          166.92254638671875,
          166.75302124023438,
          165.94534301757812,
          161.3285369873047,
          162.41543579101562,
          156.352783203125,
          156.12344360351562,
          163.1732635498047,
          157.20034790039062,
          157.5094757080078,
          159.02513122558594,
          165.54647827148438,
          156.3228759765625,
          157.06182861328125,
          151.8490753173828,
          154.29566955566406,
          146.29678344726562,
          142.36224365234375,
          146.90594482421875,
          145.33811950683594,
          149.03298950195312,
          140.6246795654297,
          137.15948486328125,
          137.39913940429688,
          142.91148376464844,
          140.16529846191406,
          140.32508850097656,
          143.58055114746094,
          149.43243408203125,
          148.633544921875,
          148.50372314453125,
          151.00025939941406,
          145.1783447265625,
          145.93728637695312,
          148.50372314453125,
          147.75477600097656,
          142.442138671875,
          136.93978881835938,
          131.6970672607422,
          132.57583618164062,
          135.2421417236328,
          129.8795928955078,
          131.37750244140625,
          135.68153381347656,
          135.16226196289062,
          138.0782012939453,
          141.4635009765625,
          141.4635009765625,
          137.24935913085938,
          139.036865234375,
          136.5303497314453,
          138.73727416992188,
          141.36363220214844,
          142.7217559814453,
          146.14700317382812,
          146.83602905273438,
          144.66903686523438,
          145.6576690673828,
          145.28819274902344,
          148.26405334472656,
          149.96170043945312,
          146.86599731445312,
          150.79054260253906,
          152.8277130126953,
          155.134521484375,
          153.87625122070312,
          152.7378387451172,
          151.3897247314453,
          156.572509765625,
          157.13174438476562,
          162.28457641601562,
          161.2859649658203,
          159.7880401611328,
          165.89956665039062,
          165.5800018310547,
          165.35000610351562,
          164.8699951171875,
          164.9199981689453,
          169.24000549316406,
          168.49000549316406,
          172.10000610351562,
          173.19000244140625,
          173.02999877929688,
          174.5500030517578,
          174.14999389648438,
          171.52000427246094,
          167.57000732421875,
          167.22999572753906,
          167.52999877929688,
          170.02999877929688,
          163.6199951171875,
          161.3800048828125,
          158.91000366210938,
          157.22000122070312,
          157.9600067138672,
          155.80999755859375,
          154.52999877929688,
          155.9600067138672,
          154.4600067138672,
          157.3699951171875,
          163.42999267578125,
          153.83999633789062,
          155.30999755859375,
          152.3699951171875,
          150.6999969482422,
          154.47999572753906,
          156.89999389648438,
          153.72000122070312,
          152.74000549316406,
          150.42999267578125,
          150.77000427246094,
          151.75999450683594
         ],
         "high": [
          113.94452813836648,
          113.93464436927111,
          115.86139015068468,
          116.31589563946811,
          113.99392771340197,
          115.25867077231291,
          114.73498899358783,
          114.17179279252669,
          115.01166096368226,
          115.60448532993396,
          123.68692464670654,
          123.89441845569795,
          121.56257207985867,
          119.75440956012868,
          120.10022516330783,
          118.98370168349909,
          117.56088162893003,
          117.29409360731403,
          116.63208711524967,
          115.15985353254725,
          115.15985845541138,
          115.88114867580069,
          114.05321507119326,
          115.53533182393548,
          110.65424116629224,
          109.35987858473753,
          110.16022112087921,
          114.21129952865087,
          118.19324199722458,
          117.98144263171972,
          120.7429251108778,
          116.38789619059592,
          118.40704660081688,
          119.29785396998176,
          118.44663725007352,
          119.75314685311535,
          119.43641589775137,
          118.59510450952384,
          117.84288207989381,
          117.55583117933526,
          116.41760654712705,
          114.66568642833388,
          115.55648998598397,
          116.28893340868211,
          119.73336318911625,
          122.20779464647244,
          122.1088212800003,
          122.51462150972185,
          121.60402407905693,
          123.29654897057753,
          123.70235470721522,
          124.66243375720646,
          122.60370515836911,
          121.5050585311486,
          122.08901457973595,
          126.59251553364824,
          127.05769076876152,
          128.25533957399875,
          127.78023969960358,
          126.99832004188858,
          133.03596509264486,
          131.07620512465076,
          132.09566881793512,
          135.93601278770677,
          137.37119753540514,
          134.59981062043255,
          133.3625726991841,
          132.2441277261755,
          130.39327896045293,
          129.71029899707898,
          130.28438300751333,
          131.27414579082455,
          128.83929047818947,
          128.36420799213758,
          130.10621374983862,
          129.66081675415228,
          128.88880217391815,
          127.39423266367012,
          131.13560206225458,
          138.24217373855,
          138.42035574244065,
          143.60675305198257,
          142.82486343078276,
          142.82486410607206,
          140.53847020288424,
          135.3421415609873,
          133.99605178728734,
          134.91654460077424,
          134.38207995152138,
          135.99538122659214,
          136.21842645374915,
          135.76247172467427,
          136.67442991717292,
          135.7921927332171,
          135.19743318360926,
          134.3449296694685,
          134.82074029480245,
          131.06390714059538,
          128.86332438306368,
          129.5671027266732,
          128.58576715037796,
          125.60208784683753,
          124.46213018654923,
          125.35427159447842,
          123.7583360766512,
          126.81141321036343,
          127.5945067338709,
          124.61081582461671,
          122.51926534156318,
          120.8737872482583,
          119.94201129092686,
          120.99273928539176,
          121.10176942025687,
          122.13269378764005,
          120.11052362854211,
          122.91578321098756,
          126.10762020886857,
          124.75950875001706,
          122.10295068871822,
          120.3682454501736,
          122.78692544995143,
          123.15367663712478,
          121.82540585965941,
          120.5962426048258,
          120.41782044203646,
          121.50820310812607,
          119.3472516503465,
          122.43997120654298,
          123.09420511242509,
          125.05689256180088,
          126.0184145803512,
          126.80149904372475,
          129.24990554570752,
          131.8767255042151,
          131.68840678402123,
          133.4825927617175,
          133.81959691740792,
          133.81960276777417,
          133.49250433862815,
          134.28547646066679,
          134.34495954710712,
          132.58053197396382,
          132.97701418388047,
          133.93853117957383,
          133.8790614455385,
          134.22602097712615,
          133.8394138851507,
          135.87150294163618,
          132.39220682753677,
          132.89772413698125,
          130.34028874958898,
          129.30938562936743,
          128.61549793764078,
          130.33330060039526,
          128.62544849082568,
          125.37852379919768,
          123.76003685424222,
          125.25938467212366,
          126.98708978944454,
          126.03386878680546,
          126.09345028960861,
          124.03805669955396,
          126.81828759167072,
          127.09631960028128,
          127.03674074091647,
          127.41406221869876,
          126.49063342582099,
          126.73886209773993,
          124.91185616182753,
          124.46502574334319,
          124.3558001158636,
          123.96855750879571,
          125.26931110976464,
          125.42817952404785,
          127.55308818282349,
          126.84808555184203,
          127.28498257056286,
          126.54027338360264,
          129.61838134906793,
          129.6779604410704,
          129.96592122065093,
          131.6142022146736,
          130.58154592203684,
          131.47519080438636,
          133.13338818860475,
          133.37172142117447,
          133.6894363045109,
          132.94471893934175,
          134.29511311180352,
          135.52638196603255,
          136.43989249086655,
          136.3604620417327,
          139.01160424529232,
          142.1393611897794,
          143.86706456123747,
          143.0429321591541,
          144.6217064518347,
          145.2869859266781,
          146.4189285728767,
          148.5140329678405,
          148.94100527346973,
          148.702678547759,
          143.052894016945,
          146.0614844706209,
          145.09831591545358,
          147.15369012157493,
          147.6700434757268,
          148.77220686003105,
          148.156586488583,
          145.9323922006215,
          145.51534960137977,
          145.29689842251844,
          145.91252690252506,
          146.9948177212946,
          146.74660262285911,
          146.79623570822133,
          146.2902490900771,
          145.8825261265711,
          146.8869241108999,
          145.90241903837585,
          148.21944531878478,
          148.60728208363093,
          150.3475255472107,
          150.83479124856396,
          149.88013881823562,
          147.17529686250373,
          147.67251271136703,
          149.35309924736745,
          150.01936597306764,
          149.48236419240413,
          148.2890626714179,
          147.921115478018,
          152.63471798803582,
          151.94855911796225,
          154.11639377253653,
          153.85783752646364,
          153.7683484839221,
          156.38369517303846,
          156.16491994786375,
          155.24011269818592,
          154.61361130689167,
          150.5762344139713,
          150.22817480394008,
          148.60727342975446,
          148.13989660109883,
          147.99073920175118,
          144.0329001568324,
          143.79424628326188,
          145.61403189940552,
          146.26043249426993,
          146.6482413225611,
          145.1466603442325,
          143.94340307653135,
          143.64507133461674,
          143.5754894898421,
          142.12360226142297,
          141.41755453179653,
          141.44739277962523,
          141.35788305218227,
          143.41637233527035,
          143.3765648513752,
          144.00307664437463,
          142.45177581968684,
          140.6120614654977,
          143.07826498421483,
          144.09256118073372,
          146.02176053665832,
          148.33876449328835,
          148.91554345304795,
          148.8061457494215,
          149.34315309919933,
          148.53764972047784,
          149.9994646755671,
          148.89565490332896,
          152.31648085791852,
          149.10449026574264,
          148.86581056976468,
          150.72540210532404,
          151.12317981525564,
          151.58059961933625,
          151.57277726996034,
          150.94538596435038,
          150.805947187198,
          149.51132415481564,
          148.81418889682908,
          149.7802013227443,
          151.254108593973,
          150.86571751130802,
          154.36123941644604,
          158.01611233295955,
          160.3564310162318,
          165.01713616632497,
          161.13323475439586,
          161.47183207691523,
          159.7887868933843,
          160.52573285681146,
          164.83789953156216,
          169.59819784956352,
          163.52333324633366,
          164.28020266698275,
          167.18818086338183,
          170.87290903031413,
          175.2348683369703,
          176.02161466592028,
          178.88976112850915,
          181.37944366851428,
          177.00753855421218,
          178.76028421515318,
          180.39350413841265,
          172.7551226774706,
          169.87704221170333,
          172.48622567258587,
          175.13527806299274,
          176.12120139605778,
          179.6764937523053,
          180.58274922437005,
          179.88562632189942,
          179.82588080278236,
          178.49138917062487,
          182.12634321345814,
          182.18611090257167,
          179.42752261066101,
          174.57758712398055,
          173.42237794821622,
          171.7891277739909,
          174.45806876860448,
          176.44983490576135,
          175.89214439784448,
          173.06386188777108,
          171.82894886588377,
          170.37497134310618,
          168.9807547809848,
          165.64455114196969,
          161.63115455380643,
          162.08925124938588,
          163.71254969007745,
          163.16481422023622,
          169.6479888508829,
          174.27881748661778,
          174.11948982165927,
          175.15520011427725,
          175.51371682294254,
          173.60344492982065,
          173.45385666337964,
          174.84986569966324,
          176.14616151508932,
          174.97949130605906,
          172.58635070360455,
          169.0963158055858,
          172.45671221966572,
          172.8456014201076,
          171.4196718687856,
          170.05357933862908,
          166.2145690326654,
          165.67610992072085,
          162.38553526200076,
          164.64904072976137,
          164.94819524912285,
          166.12483943852996,
          166.88266701241386,
          168.42823865134167,
          165.0778217412938,
          164.54934433250787,
          162.41543798627256,
          162.9439394726067,
          159.93254802107745,
          158.82570674554324,
          153.6804165257566,
          155.12628592770164,
          159.54366094298726,
          160.54080153959686,
          164.01087250410956,
          165.87554453091025,
          168.9367805347843,
          172.1476103990529,
          173.64330927654558,
          174.78006476097156,
          175.22877047290928,
          178.49941491790045,
          179.09771828454024,
          177.5222280262245,
          174.38120195071093,
          177.98090596238424,
          177.79144841979544,
          173.13477383139187,
          172.86553883638044,
          171.29004054282603,
          168.54788028932884,
          169.3854966507133,
          170.55214490028263,
          170.78151270365979,
          166.12483232985522,
          167.34136187913384,
          168.398324228606,
          171.04076912883176,
          167.39119747922686,
          162.70460195341605,
          161.87697550130738,
          159.3342456295256,
          164.05075847282998,
          165.72596481331144,
          157.77869466333118,
          160.25163400806602,
          166.00515772855863,
          163.61202447817902,
          159.2188360370818,
          155.6138502214149,
          156.52258723403318,
          155.23436546358423,
          145.99719377073532,
          147.89457708409924,
          147.31538408448398,
          149.56225310154886,
          147.15560139747478,
          141.4635039286549,
          140.50482600057936,
          143.06126959520395,
          141.773065739575,
          141.59331590860768,
          144.1397718929524,
          149.47237189356656,
          150.4510277694847,
          151.52951885116954,
          151.06017373384122,
          147.764748417262,
          148.36392361061095,
          148.7933141655343,
          149.66211511892354,
          147.74477055511252,
          140.56474320344384,
          135.01245399229825,
          133.70427357563653,
          137.14949607594423,
          132.2063628089613,
          132.89539822068556,
          136.86988563723665,
          137.56890746867646,
          138.39774947834982,
          141.71315419080707,
          143.29096433334738,
          143.2210599940045,
          140.47487020116944,
          138.1780548347982,
          138.84712219152811,
          141.41356589202965,
          143.9200884319051,
          146.34672270516063,
          147.3453313662673,
          146.43658585380956,
          148.24407265912552,
          146.24685257648053,
          148.7433832535834,
          150.65074579260178,
          151.3597550828748,
          151.02021929493563,
          153.50677771493017,
          155.35421754333117,
          156.06321581189454,
          154.82493603183795,
          152.8776482298161,
          157.11176926427808,
          157.42133541840016,
          163.40303322230918,
          163.3630816388577,
          162.18472019647606,
          166.35892005325226,
          166.95809250343535,
          165.85000610351562,
          167.80999755859375,
          165.82000732421875,
          169.33999633789062,
          170.99000549316406,
          172.1699981689453,
          173.38999938964844,
          173.7100067138672,
          176.14999389648438,
          174.89999389648438,
          173.74000549316406,
          169.86000061035156,
          168.7100067138672,
          168.11000061035156,
          170.13999938964844,
          171.0500030517578,
          162.89999389648438,
          162.55999755859375,
          160.5800018310547,
          158.4199981689453,
          160.36000061035156,
          157.08999633789062,
          156.6699981689453,
          156.36000061035156,
          157.82000732421875,
          164.25999450683594,
          160.5399932861328,
          157.10000610351562,
          155.24000549316406,
          151.35000610351562,
          154.55999755859375,
          158.0800018310547,
          158.74000549316406,
          154.47000122070312,
          151.47000122070312,
          153.77000427246094,
          154.72000122070312
         ],
         "low": [
          111.4348229132825,
          112.21540022731251,
          112.26480664608653,
          114.44843922182118,
          110.88149781230462,
          112.19564720737856,
          110.91114545215015,
          112.76872396093502,
          113.22324429448547,
          113.5492926704092,
          117.85729497449232,
          118.22288403724109,
          118.19324839757083,
          116.74079231455904,
          117.39290086535961,
          114.2804814955875,
          114.25083237796368,
          115.06104749355644,
          113.2232322243141,
          112.91692472353839,
          111.53362647599505,
          113.1738319710967,
          109.77485910835613,
          110.8617450117796,
          106.43517475559462,
          106.03995395716679,
          107.43314594829765,
          111.00994665889678,
          115.4760424651283,
          114.94282684189237,
          114.86365335659292,
          112.96326801809381,
          115.24966239088417,
          117.35789141353246,
          116.66504279777426,
          116.94218309975895,
          117.743897749604,
          116.79371029683212,
          115.61588317079948,
          116.09096519625723,
          112.58716574992192,
          111.43901066111577,
          113.99264017212437,
          115.03191955439604,
          115.6158859276698,
          118.78316636906284,
          119.65417039288265,
          120.96067159633779,
          120.27771874050684,
          121.0002661040335,
          121.83166889837372,
          119.76303969916454,
          118.92173274584776,
          119.31765169309199,
          120.29752028663468,
          122.86105096187602,
          125.26619650343824,
          126.73107413114644,
          124.83070038703939,
          122.18800186979644,
          128.3246156709734,
          129.44307856426877,
          129.75979407379927,
          132.1451638597492,
          132.9666911633308,
          132.03627612277907,
          130.373441610286,
          125.46415565074993,
          127.11710310905548,
          125.08803395080108,
          126.552918581826,
          128.89867161341607,
          127.18636444136541,
          125.56313669272298,
          127.17648160915454,
          127.4437103283703,
          125.70171803596318,
          125.64232275504229,
          127.23587701992132,
          132.2243268102306,
          133.6397297680924,
          135.1441559892047,
          139.92480816913445,
          138.97463110226565,
          135.30254035217865,
          128.8788975674447,
          129.59153084888453,
          133.23392617074964,
          132.24415717268238,
          133.21410971129166,
          134.67206918745023,
          133.7403003693774,
          134.6621807434891,
          133.22482767142688,
          132.60034676684504,
          132.52102218896644,
          131.6288943580427,
          128.3379523583457,
          126.29597408890564,
          127.67379978133266,
          124.50178851296207,
          117.35483553758367,
          121.16125267853502,
          119.48603607588505,
          120.14024940431821,
          121.71635665641334,
          123.91694692438371,
          120.77465161327945,
          117.58281367914702,
          116.54199479550287,
          115.19389274635057,
          117.7513345728551,
          118.40555131770036,
          120.1997469331951,
          118.11810391776562,
          119.36708378388387,
          123.62947960599875,
          121.2702826122407,
          119.2679570807438,
          118.63354703126217,
          119.20848946069617,
          121.07203998655152,
          119.02014859870471,
          117.95949727103148,
          117.8801991336793,
          119.67438040470464,
          117.82071614803837,
          120.0906986855388,
          121.41897957971675,
          121.99390680613087,
          124.55135944624003,
          124.04580784922514,
          127.39626114507254,
          128.33794853921378,
          129.48781656662084,
          130.77645185266607,
          130.50880459413278,
          132.4714935719136,
          132.114658477811,
          132.17409594856335,
          130.65748505428735,
          130.15195703016914,
          130.2609818556097,
          131.00442133555399,
          132.39217712895035,
          132.9373847451164,
          131.91637447263798,
          131.29188873102999,
          129.9239879885592,
          130.67730483487784,
          125.5921628786035,
          126.851074158354,
          126.01840385016769,
          128.56586859004003,
          125.91472637385657,
          121.9032339840119,
          121.38691093966465,
          123.38272864584935,
          124.96149137935033,
          124.28629234491741,
          123.89905376715983,
          121.99260282732267,
          124.21678227824023,
          124.32601609993017,
          125.05086082350603,
          125.42817473440579,
          125.52748035714669,
          124.19693809977196,
          123.67068115058333,
          123.0649843022091,
          123.17420669917884,
          122.26069949638146,
          122.97561461198796,
          123.94870105667266,
          125.31896544761733,
          125.62676601329514,
          125.05086754342047,
          125.2097298720915,
          126.17288590146829,
          128.47649646372628,
          127.55308419612635,
          128.73466707624345,
          129.3205229151455,
          128.29778579186774,
          130.69074928413542,
          132.28940519804246,
          131.99150229760232,
          131.8723420587826,
          132.408533479714,
          133.40149103617543,
          134.91075636755463,
          134.80153885462934,
          136.7774891770644,
          139.08111918823585,
          141.65281277949532,
          139.67686620794635,
          141.6428864206862,
          142.98335788819205,
          142.61596682730092,
          146.63736195050683,
          146.0515461349094,
          144.85008191986944,
          140.66982857740217,
          141.95071335254232,
          143.6089060297308,
          144.78056436707232,
          145.8827483793863,
          146.65723974285802,
          144.52242239291553,
          141.5336601465286,
          143.5592567294846,
          143.09257061669513,
          144.2245319682212,
          144.15500897050077,
          145.2472686088955,
          145.138027842195,
          144.81850044800208,
          144.70910884003527,
          144.4903496817281,
          144.71904776371528,
          145.02732586318334,
          147.4438034628516,
          145.65382561564576,
          148.2592270619588,
          145.33559710773454,
          143.69479997724181,
          145.96209586202124,
          147.06591249409172,
          148.31888790077443,
          146.97640239046024,
          146.68803337134432,
          146.01181617807757,
          147.7819058021538,
          150.44696354493695,
          151.49110536944735,
          151.5507582404399,
          152.23692144436902,
          153.5296925199044,
          153.1219736016565,
          153.0921451712925,
          147.87139285609882,
          147.92111438336997,
          146.09135262192243,
          145.55437319950718,
          146.39964811531246,
          144.9477776608024,
          140.48280126342198,
          141.9843806513842,
          142.8992486935134,
          144.82845413384803,
          144.7488809397752,
          143.01858587000288,
          140.90045687971022,
          141.23855823699205,
          140.49275726459382,
          138.3348352269141,
          137.49950739159732,
          138.58343632480074,
          137.59894778433872,
          141.92473069969932,
          141.76559698636322,
          141.01979346492203,
          140.25408380597787,
          138.42432370409014,
          140.72146097336216,
          142.7103073468434,
          142.36227386626177,
          145.7333690154264,
          147.29462149675317,
          147.04600464531012,
          147.81174103155337,
          146.7974013740352,
          148.17966023591032,
          147.662574269593,
          148.88570851079612,
          145.59416173395914,
          146.97640417535075,
          147.8216600931807,
          148.9851663151554,
          149.8005807997873,
          149.44159686687965,
          149.54119293998124,
          149.44159784240443,
          147.2407211742181,
          147.07140067937598,
          146.8722363536254,
          148.81419286770745,
          148.72456851068404,
          150.36777024142452,
          152.41927745556436,
          155.88492910949506,
          160.3365082201962,
          158.40452066273355,
          158.9821343976758,
          155.71564531868708,
          158.1356142224168,
          159.2609709450455,
          163.85197172708808,
          157.1497135498656,
          159.06179135904523,
          163.60301018171558,
          167.64625581908345,
          169.99653528649858,
          173.2032752497406,
          173.97011612101758,
          174.80663631568567,
          171.500328911593,
          171.59991162499483,
          170.04632292934747,
          168.99070146202772,
          166.76990458400118,
          168.42303786094772,
          171.44056036031094,
          174.54771080465548,
          176.34030810109408,
          177.79428485654773,
          177.4058821732272,
          177.35608990768495,
          176.5295063221442,
          176.97765097925986,
          178.38184574060057,
          173.9203128027395,
          170.93266643332126,
          170.32519348078804,
          167.47696987360442,
          170.11605109481246,
          174.099575040782,
          171.08204699666382,
          170.38494478414893,
          168.71185805804325,
          165.2561541853899,
          163.50341984809572,
          161.63116010276704,
          154.06246855239291,
          156.37291584345445,
          157.1696325024836,
          157.62772932649645,
          162.12909957787392,
          168.8114365417968,
          171.59991703552598,
          172.61570567248296,
          171.41068509406085,
          170.19318592955435,
          170.4624132651658,
          170.94103309331817,
          174.4011527785929,
          171.06070776384576,
          167.56071704818024,
          166.08492536640514,
          169.7644161519397,
          169.56499174995824,
          167.989481204066,
          165.71599553214392,
          161.68750950512074,
          159.29436973873507,
          151.56647488324083,
          160.41116255755782,
          161.9667177050434,
          161.50803998127827,
          162.48524128354586,
          165.07782143270836,
          161.63766486583984,
          158.58638916692192,
          155.35562976020037,
          158.9553479342445,
          155.53512221431012,
          154.05934128733773,
          149.67189326061953,
          149.95108656544178,
          154.01946837755477,
          157.1804182023434,
          159.30433348090622,
          162.5450592768608,
          164.43964937878783,
          167.17183697132285,
          169.7245259065727,
          172.25728205005043,
          171.5094136124035,
          175.83703222635523,
          176.1960145135231,
          173.9025765126511,
          171.4495851554461,
          173.9424545638835,
          173.92251024714233,
          169.6447566029822,
          169.36555562456277,
          168.71739750299395,
          165.02795000493438,
          166.16471342698122,
          166.2943349519153,
          164.56927078234273,
          163.10347566281163,
          163.44251007831306,
          165.6262545800054,
          165.43680309265844,
          161.03937081801507,
          158.0080444152526,
          156.2730095506805,
          154.93683524713856,
          158.4766907698624,
          156.8014948580831,
          152.83285001658638,
          155.87415565515852,
          158.80574955819344,
          154.50805954824997,
          153.96612266777365,
          151.2798738872671,
          152.71785938746183,
          145.60773813840217,
          138.60746486951132,
          142.91149321074002,
          143.98000530898764,
          146.47652776719826,
          139.70594226432186,
          136.41052520491812,
          132.42605164055726,
          137.45905096808772,
          137.139502783711,
          138.14810446275902,
          136.9497625810487,
          145.05850469417047,
          146.63631906083086,
          147.47513789376728,
          146.65628730196653,
          144.2596227095519,
          144.69900091424154,
          143.90011731151552,
          147.25546953538984,
          142.33229064705213,
          136.86987860284933,
          131.25767516963435,
          131.29761295553146,
          131.9766884153656,
          128.8610034587425,
          129.6299299760749,
          133.13508303413246,
          133.72425695043648,
          135.44186401271207,
          139.57612328637862,
          140.77445566722787,
          137.12953045914614,
          136.48041873235067,
          133.58444487879663,
          135.4718211630888,
          136.7400498438827,
          140.8843118748987,
          143.08125427431034,
          144.79886551147194,
          143.58055252959463,
          144.84879510713782,
          141.92285699684288,
          143.0512929683365,
          147.99443176710434,
          146.49650020302172,
          146.7062196420561,
          150.16141837201874,
          151.72924780817826,
          153.19720179313802,
          152.0687699361618,
          150.59083134810842,
          151.94894240377684,
          154.19582004924496,
          159.27875708140323,
          160.6668298401272,
          159.40857763136142,
          160.52702434976783,
          164.20191115867402,
          163,
          164.1999969482422,
          163.25,
          166.89999389648438,
          168.19000244140625,
          169.39999389648438,
          171.35000610351562,
          171.66000366210938,
          172.57000732421875,
          173.1199951171875,
          171.30999755859375,
          167.13999938964844,
          166.64999389648438,
          166.25,
          168.35000610351562,
          163.55999755859375,
          159.82000732421875,
          157.72000122070312,
          157.13999938964844,
          154.6699981689453,
          154.97000122070312,
          153.69000244140625,
          153.61000061035156,
          152.67999267578125,
          154.75,
          159.3000030517578,
          153.3699951171875,
          153.61000061035156,
          151.3800048828125,
          148.3699951171875,
          149.10000610351562,
          153.0800018310547,
          153.60000610351562,
          150.91000366210938,
          148.55999755859375,
          149.63999938964844,
          149.9499969482422
         ],
         "open": [
          113.63822805484683,
          113.18371465205425,
          112.4327771715705,
          116.23684803043456,
          111.54350458200737,
          112.551353947915,
          114.31999278699169,
          113.25288496617246,
          114.86344855464218,
          113.9049993821883,
          118.627990373152,
          123.7758470339479,
          119.55678588641992,
          117.30399345830394,
          119.8334413450976,
          118.5291891882839,
          114.81403346017184,
          115.2784246645942,
          116.0491203787449,
          115.00175831323605,
          112.65015327952351,
          114.11249788810423,
          113.67775021495174,
          111.02972308645612,
          109.73533340652222,
          107.80860486292113,
          108.35205384338822,
          112.77859738298056,
          116.5431550976438,
          117.11044138903274,
          119.2681591166903,
          114.36875736747963,
          115.99199530896067,
          118.39716057478093,
          118.21899271990125,
          117.70430825639679,
          118.32787023893258,
          117.39747499654645,
          116.38790825106128,
          117.42716286571641,
          115.9821021268987,
          112.74552380669671,
          114.36876034715947,
          115.37834010074246,
          115.77425392298773,
          119.77294358975004,
          120.77261595981629,
          122.25727732143508,
          121.34667989968442,
          121.05965032125589,
          123.09859002609402,
          123.25695196315573,
          119.26815325747728,
          121.17843022306835,
          121.34668168903865,
          123.06890328436232,
          126.10751314097068,
          127.58228318158537,
          127.64167149881875,
          123.74195189319896,
          130.26458574509738,
          130.8089761184233,
          129.97754626117813,
          132.6202678448637,
          136.63877193141346,
          134.19399833243773,
          132.7093161845534,
          132.15505140592606,
          127.57240735426502,
          126.41433926332505,
          127.04780720210488,
          131.07617828227347,
          127.8693130948917,
          127.18637070303092,
          127.4437105870048,
          129.46286432928648,
          127.46352043485714,
          126.47373199538023,
          127.34475312881703,
          132.43218665848215,
          134.88684367769534,
          141.6074142224568,
          142.1320223606492,
          141.96374760508934,
          138.09371930826168,
          134.44144067236272,
          132.3827100025833,
          134.34247194059108,
          134.3721725118647,
          134.9066353683714,
          136.14904638429695,
          134.8405954853966,
          135.42543724014746,
          135.28664238930511,
          134.711712198067,
          133.17525480437482,
          134.30529799938435,
          130.10238733464493,
          128.07031628486286,
          129.10121110922566,
          126.89071223929446,
          122.67788471750121,
          123.84755616225135,
          123.5898365791913,
          121.51809492865043,
          122.66796175523477,
          127.28721971396438,
          123.71868373329588,
          120.6854428761059,
          119.92218217386255,
          119.87262365301802,
          117.98923396283485,
          120.62597067432614,
          121.46855384920879,
          119.34725960783976,
          120.34843298207291,
          124.60090648722014,
          122.96533740762226,
          121.80557077522175,
          118.85162461395491,
          119.27787710192747,
          122.2516373657066,
          121.74610353730996,
          118.4947765695315,
          119.29769596626302,
          120.5863344159746,
          119.05978643601398,
          120.58632682079674,
          122.57875517457612,
          122.78691483394243,
          125.39392581467105,
          124.72977708911357,
          127.82249408464018,
          128.66506491839374,
          131.36129038679996,
          131.28200230564423,
          133.76012396105943,
          132.64992757413023,
          133.12574429215914,
          132.34260768480428,
          133.83942430024496,
          131.20268630276325,
          131.87671918855807,
          131.00442133555399,
          133.65107675209842,
          133.8295093766926,
          133.13561534099756,
          135.27674313494856,
          130.62777158607872,
          130.88546016376216,
          130.0429088518149,
          128.07031521297762,
          126.7717607147916,
          129.92620671003374,
          128.4963765859643,
          122.6280834786984,
          122.52879341657541,
          123.70046914829975,
          125.35866887505068,
          125.9246447857168,
          125.66648578045597,
          122.2904878424477,
          124.34586931597325,
          126.91759009782214,
          125.12036631759416,
          126.91758466597751,
          126.06366889771377,
          125.54733711757521,
          124.68347662652492,
          124.19693528032803,
          123.40257865070555,
          123.7997595268906,
          123.19406261896962,
          125.27923701009698,
          125.70621146925174,
          126.31189704044567,
          126.12323699904519,
          125.6366943662031,
          126.9175909038557,
          129.02261645342816,
          129.44958815758878,
          128.88361716935285,
          129.78720597003274,
          129.38008677016808,
          131.19715834722962,
          132.825601336303,
          133.50077528695869,
          132.51776206662305,
          132.46810744583436,
          133.84831099248407,
          135.20864140530938,
          135.63562003074824,
          136.92642412118795,
          139.08111918823585,
          142.52658960733652,
          140.58044523272557,
          141.74218648214935,
          145.17776192224883,
          143.01313673841165,
          147.05441005506609,
          148.18637630113332,
          147.41186875886697,
          142.7351458979136,
          142.4471833675328,
          144.50254590074013,
          144.9096514023869,
          146.50830545087112,
          147.22322283378813,
          148.06721037231472,
          143.7876381762926,
          143.66848072769918,
          143.36066863390622,
          145.32669595109485,
          144.78056596261408,
          146.23028470808782,
          145.94230676183628,
          145.5344895546897,
          145.38531232574857,
          145.6239966671902,
          145.23615436561758,
          145.3753816126573,
          148.13989983762178,
          147.71228305273937,
          149.3928740705571,
          148.96526718768058,
          144.22184543453764,
          146.61842178244143,
          147.48357030879663,
          148.6172192505862,
          148.97519640493587,
          147.52336422155565,
          146.65818809217419,
          148.16973201053287,
          151.80933984368468,
          151.97838038310746,
          153.01256800772407,
          152.90318613215746,
          154.10646240872387,
          156.1052567134303,
          154.62357236452246,
          154.13629026954905,
          149.79064323924763,
          149.51218576575394,
          147.73217222456736,
          147.6128511307331,
          147.99073920175118,
          142.9987020559439,
          143.12796639547432,
          143.6450694227841,
          145.8328206795892,
          144.84832977059293,
          144.65938535374474,
          142.45176159387302,
          141.6761088317896,
          142.85950026557495,
          141.10928177876508,
          140.97004997639726,
          138.71271677342483,
          138.6928242585838,
          142.26283249539222,
          143.22740678008188,
          141.47723689556045,
          142.43188301594486,
          140.45296457601756,
          141.31812367392902,
          142.9688682484241,
          142.65065122420916,
          146.19079721788893,
          147.8713913657032,
          147.98076901894848,
          148.85589321001183,
          147.85149223036436,
          148.49788437069182,
          148.52772151084486,
          148.9851573449928,
          146.3996457350536,
          148.159775462133,
          147.8316140806182,
          149.55198221767094,
          150.7353452199042,
          151.26405721841564,
          150.7860416787679,
          149.58102029226723,
          149.40177685329962,
          148.34613975580498,
          147.8183184010864,
          149.75032156654942,
          149.3221019982786,
          150.37772356053776,
          153.07656121440698,
          157.00030865850997,
          161.01369860063144,
          160.45602909253367,
          160.08756077509446,
          158.91242368256525,
          158.71322584583115,
          159.33068977043322,
          166.789811757141,
          158.08584226688922,
          163.34407399762875,
          163.61296350175326,
          168.38321169952377,
          171.42065009994445,
          174.18920093819813,
          174.48797748915052,
          180.37359617234418,
          174.5277943789573,
          174.38837592212866,
          178.5411687683592,
          169.22970268465468,
          167.58651746486058,
          170.85298485382108,
          172.3268920448384,
          175.1253224290366,
          176.3602147407492,
          179.41757256412563,
          178.5909805993488,
          178.73040780931916,
          177.35608771683619,
          177.09715158792855,
          181.87739083678085,
          178.86983278645246,
          171.98829571406904,
          172.17752913005228,
          168.38322341206765,
          171.6098695335267,
          175.39420559124483,
          175.0556096835281,
          170.6339145492304,
          170.80319475398795,
          169.2994202614657,
          166.29188430765737,
          163.74241865951484,
          159.36055179256368,
          158.32483006151168,
          162.82621797985828,
          161.7805429968013,
          165.0271110315722,
          169.4587669814341,
          173.29290838490957,
          174.02985200258593,
          173.7609600935886,
          171.19033376897832,
          172.3669692136929,
          171.24018046419636,
          175.54788193459464,
          173.6433169086073,
          171.8384898204388,
          166.89261260246366,
          170.4823637987024,
          171.359860889292,
          170.54217698750375,
          169.33564691974112,
          164.5094396018328,
          165.06784912093246,
          152.144822468496,
          163.3726927562956,
          162.5949257183933,
          164.230249376778,
          163.92113664115737,
          167.98949118463392,
          164.02084750512276,
          162.89407523108025,
          158.36702036634048,
          161.01943614340692,
          159.743087489249,
          158.4766989154192,
          151.01803368299488,
          150.4695924510012,
          156.60207773740478,
          158.1576188210049,
          160.05219436109402,
          163.04363318261613,
          165.03792893700964,
          167.5108788161057,
          170.57209236832992,
          173.38406393032,
          171.67892690467673,
          176.18604002822323,
          178.0407440432051,
          177.33276750294115,
          173.53362028409433,
          174.0720886392401,
          176.99372716977962,
          171.868391891094,
          170.67181677502063,
          171.29004054282603,
          168.22880092633363,
          167.5407822983222,
          166.9125616896066,
          170.13335748651957,
          163.45246826945692,
          164.54934481622394,
          168.27865614700852,
          168.4282466362844,
          165.98523063506957,
          160.66044595487156,
          161.787235848033,
          155.46532238170286,
          158.7957853656053,
          161.378399704979,
          156.2630409380242,
          157.69892278954433,
          159.2145837986096,
          163.38268472815423,
          155.79358602091386,
          154.71508946776706,
          155.30427830969504,
          153.28707344133292,
          142.5719590527379,
          144.38943604119254,
          145.3481153882414,
          148.6535117371022,
          146.64631429071576,
          139.68597422514964,
          138.89705869052398,
          137.59885615581376,
          140.61467119120334,
          138.23797596642606,
          137.19941578797327,
          145.1883292475015,
          148.8632368669844,
          149.6920596325589,
          147.6249430088675,
          146.69622532634182,
          146.82605123493104,
          144.14977052320265,
          148.3739111422644,
          146.8759822372736,
          140.08541328860073,
          132.685684228112,
          132.94533329689133,
          134.1037235935456,
          131.89679524426396,
          129.88957906585975,
          133.2349351844774,
          134.60302593989567,
          136.63021572723866,
          139.7059325962022,
          142.50205164326576,
          141.93285606021658,
          137.2693314305113,
          137.05961332161917,
          135.85128367967366,
          137.57889621606785,
          141.1539416284799,
          143.09123491770873,
          145.0584993709827,
          145.4679301826079,
          145.5578016885974,
          142.79166056015345,
          143.88014347513203,
          149.5722420099722,
          150.53090459929564,
          147.71481315007847,
          150.91037805437588,
          154.28569441680588,
          155.17445098015614,
          153.79636597234884,
          152.04879767789615,
          152.36835799293837,
          156.7622472537683,
          161.01634900783574,
          160.78665851281008,
          159.87792690020527,
          160.61689585411594,
          165.77972136270986,
          163.2100067138672,
          166.3699951171875,
          164.02000427246094,
          167.67999267578125,
          170.05999755859375,
          169.82000732421875,
          171.52000427246094,
          172.77999877929688,
          172.77000427246094,
          173.75,
          173.02999877929688,
          169.69000244140625,
          167.0800018310547,
          167.32000732421875,
          168.77999877929688,
          170.57000732421875,
          161.14999389648438,
          162.1300048828125,
          160.30999755859375,
          156.63999938964844,
          159.75,
          156.47000122070312,
          154.82000732421875,
          154.63999938964844,
          155.47000122070312,
          159.58999633789062,
          159.89999389648438,
          154.7899932861328,
          154.64999389648438,
          151.2100067138672,
          149.30999755859375,
          153.39999389648438,
          157.33999633789062,
          152.3800048828125,
          151.19000244140625,
          149.66000366210938,
          152.74000549316406
         ],
         "type": "candlestick",
         "x": [
          "2020-09-28T00:00:00",
          "2020-09-29T00:00:00",
          "2020-09-30T00:00:00",
          "2020-10-01T00:00:00",
          "2020-10-02T00:00:00",
          "2020-10-05T00:00:00",
          "2020-10-06T00:00:00",
          "2020-10-07T00:00:00",
          "2020-10-08T00:00:00",
          "2020-10-09T00:00:00",
          "2020-10-12T00:00:00",
          "2020-10-13T00:00:00",
          "2020-10-14T00:00:00",
          "2020-10-15T00:00:00",
          "2020-10-16T00:00:00",
          "2020-10-19T00:00:00",
          "2020-10-20T00:00:00",
          "2020-10-21T00:00:00",
          "2020-10-22T00:00:00",
          "2020-10-23T00:00:00",
          "2020-10-26T00:00:00",
          "2020-10-27T00:00:00",
          "2020-10-28T00:00:00",
          "2020-10-29T00:00:00",
          "2020-10-30T00:00:00",
          "2020-11-02T00:00:00",
          "2020-11-03T00:00:00",
          "2020-11-04T00:00:00",
          "2020-11-05T00:00:00",
          "2020-11-06T00:00:00",
          "2020-11-09T00:00:00",
          "2020-11-10T00:00:00",
          "2020-11-11T00:00:00",
          "2020-11-12T00:00:00",
          "2020-11-13T00:00:00",
          "2020-11-16T00:00:00",
          "2020-11-17T00:00:00",
          "2020-11-18T00:00:00",
          "2020-11-19T00:00:00",
          "2020-11-20T00:00:00",
          "2020-11-23T00:00:00",
          "2020-11-24T00:00:00",
          "2020-11-25T00:00:00",
          "2020-11-27T00:00:00",
          "2020-11-30T00:00:00",
          "2020-12-01T00:00:00",
          "2020-12-02T00:00:00",
          "2020-12-03T00:00:00",
          "2020-12-04T00:00:00",
          "2020-12-07T00:00:00",
          "2020-12-08T00:00:00",
          "2020-12-09T00:00:00",
          "2020-12-10T00:00:00",
          "2020-12-11T00:00:00",
          "2020-12-14T00:00:00",
          "2020-12-15T00:00:00",
          "2020-12-16T00:00:00",
          "2020-12-17T00:00:00",
          "2020-12-18T00:00:00",
          "2020-12-21T00:00:00",
          "2020-12-22T00:00:00",
          "2020-12-23T00:00:00",
          "2020-12-24T00:00:00",
          "2020-12-28T00:00:00",
          "2020-12-29T00:00:00",
          "2020-12-30T00:00:00",
          "2020-12-31T00:00:00",
          "2021-01-04T00:00:00",
          "2021-01-05T00:00:00",
          "2021-01-06T00:00:00",
          "2021-01-07T00:00:00",
          "2021-01-08T00:00:00",
          "2021-01-11T00:00:00",
          "2021-01-12T00:00:00",
          "2021-01-13T00:00:00",
          "2021-01-14T00:00:00",
          "2021-01-15T00:00:00",
          "2021-01-19T00:00:00",
          "2021-01-20T00:00:00",
          "2021-01-21T00:00:00",
          "2021-01-22T00:00:00",
          "2021-01-25T00:00:00",
          "2021-01-26T00:00:00",
          "2021-01-27T00:00:00",
          "2021-01-28T00:00:00",
          "2021-01-29T00:00:00",
          "2021-02-01T00:00:00",
          "2021-02-02T00:00:00",
          "2021-02-03T00:00:00",
          "2021-02-04T00:00:00",
          "2021-02-05T00:00:00",
          "2021-02-08T00:00:00",
          "2021-02-09T00:00:00",
          "2021-02-10T00:00:00",
          "2021-02-11T00:00:00",
          "2021-02-12T00:00:00",
          "2021-02-16T00:00:00",
          "2021-02-17T00:00:00",
          "2021-02-18T00:00:00",
          "2021-02-19T00:00:00",
          "2021-02-22T00:00:00",
          "2021-02-23T00:00:00",
          "2021-02-24T00:00:00",
          "2021-02-25T00:00:00",
          "2021-02-26T00:00:00",
          "2021-03-01T00:00:00",
          "2021-03-02T00:00:00",
          "2021-03-03T00:00:00",
          "2021-03-04T00:00:00",
          "2021-03-05T00:00:00",
          "2021-03-08T00:00:00",
          "2021-03-09T00:00:00",
          "2021-03-10T00:00:00",
          "2021-03-11T00:00:00",
          "2021-03-12T00:00:00",
          "2021-03-15T00:00:00",
          "2021-03-16T00:00:00",
          "2021-03-17T00:00:00",
          "2021-03-18T00:00:00",
          "2021-03-19T00:00:00",
          "2021-03-22T00:00:00",
          "2021-03-23T00:00:00",
          "2021-03-24T00:00:00",
          "2021-03-25T00:00:00",
          "2021-03-26T00:00:00",
          "2021-03-29T00:00:00",
          "2021-03-30T00:00:00",
          "2021-03-31T00:00:00",
          "2021-04-01T00:00:00",
          "2021-04-05T00:00:00",
          "2021-04-06T00:00:00",
          "2021-04-07T00:00:00",
          "2021-04-08T00:00:00",
          "2021-04-09T00:00:00",
          "2021-04-12T00:00:00",
          "2021-04-13T00:00:00",
          "2021-04-14T00:00:00",
          "2021-04-15T00:00:00",
          "2021-04-16T00:00:00",
          "2021-04-19T00:00:00",
          "2021-04-20T00:00:00",
          "2021-04-21T00:00:00",
          "2021-04-22T00:00:00",
          "2021-04-23T00:00:00",
          "2021-04-26T00:00:00",
          "2021-04-27T00:00:00",
          "2021-04-28T00:00:00",
          "2021-04-29T00:00:00",
          "2021-04-30T00:00:00",
          "2021-05-03T00:00:00",
          "2021-05-04T00:00:00",
          "2021-05-05T00:00:00",
          "2021-05-06T00:00:00",
          "2021-05-07T00:00:00",
          "2021-05-10T00:00:00",
          "2021-05-11T00:00:00",
          "2021-05-12T00:00:00",
          "2021-05-13T00:00:00",
          "2021-05-14T00:00:00",
          "2021-05-17T00:00:00",
          "2021-05-18T00:00:00",
          "2021-05-19T00:00:00",
          "2021-05-20T00:00:00",
          "2021-05-21T00:00:00",
          "2021-05-24T00:00:00",
          "2021-05-25T00:00:00",
          "2021-05-26T00:00:00",
          "2021-05-27T00:00:00",
          "2021-05-28T00:00:00",
          "2021-06-01T00:00:00",
          "2021-06-02T00:00:00",
          "2021-06-03T00:00:00",
          "2021-06-04T00:00:00",
          "2021-06-07T00:00:00",
          "2021-06-08T00:00:00",
          "2021-06-09T00:00:00",
          "2021-06-10T00:00:00",
          "2021-06-11T00:00:00",
          "2021-06-14T00:00:00",
          "2021-06-15T00:00:00",
          "2021-06-16T00:00:00",
          "2021-06-17T00:00:00",
          "2021-06-18T00:00:00",
          "2021-06-21T00:00:00",
          "2021-06-22T00:00:00",
          "2021-06-23T00:00:00",
          "2021-06-24T00:00:00",
          "2021-06-25T00:00:00",
          "2021-06-28T00:00:00",
          "2021-06-29T00:00:00",
          "2021-06-30T00:00:00",
          "2021-07-01T00:00:00",
          "2021-07-02T00:00:00",
          "2021-07-06T00:00:00",
          "2021-07-07T00:00:00",
          "2021-07-08T00:00:00",
          "2021-07-09T00:00:00",
          "2021-07-12T00:00:00",
          "2021-07-13T00:00:00",
          "2021-07-14T00:00:00",
          "2021-07-15T00:00:00",
          "2021-07-16T00:00:00",
          "2021-07-19T00:00:00",
          "2021-07-20T00:00:00",
          "2021-07-21T00:00:00",
          "2021-07-22T00:00:00",
          "2021-07-23T00:00:00",
          "2021-07-26T00:00:00",
          "2021-07-27T00:00:00",
          "2021-07-28T00:00:00",
          "2021-07-29T00:00:00",
          "2021-07-30T00:00:00",
          "2021-08-02T00:00:00",
          "2021-08-03T00:00:00",
          "2021-08-04T00:00:00",
          "2021-08-05T00:00:00",
          "2021-08-06T00:00:00",
          "2021-08-09T00:00:00",
          "2021-08-10T00:00:00",
          "2021-08-11T00:00:00",
          "2021-08-12T00:00:00",
          "2021-08-13T00:00:00",
          "2021-08-16T00:00:00",
          "2021-08-17T00:00:00",
          "2021-08-18T00:00:00",
          "2021-08-19T00:00:00",
          "2021-08-20T00:00:00",
          "2021-08-23T00:00:00",
          "2021-08-24T00:00:00",
          "2021-08-25T00:00:00",
          "2021-08-26T00:00:00",
          "2021-08-27T00:00:00",
          "2021-08-30T00:00:00",
          "2021-08-31T00:00:00",
          "2021-09-01T00:00:00",
          "2021-09-02T00:00:00",
          "2021-09-03T00:00:00",
          "2021-09-07T00:00:00",
          "2021-09-08T00:00:00",
          "2021-09-09T00:00:00",
          "2021-09-10T00:00:00",
          "2021-09-13T00:00:00",
          "2021-09-14T00:00:00",
          "2021-09-15T00:00:00",
          "2021-09-16T00:00:00",
          "2021-09-17T00:00:00",
          "2021-09-20T00:00:00",
          "2021-09-21T00:00:00",
          "2021-09-22T00:00:00",
          "2021-09-23T00:00:00",
          "2021-09-24T00:00:00",
          "2021-09-27T00:00:00",
          "2021-09-28T00:00:00",
          "2021-09-29T00:00:00",
          "2021-09-30T00:00:00",
          "2021-10-01T00:00:00",
          "2021-10-04T00:00:00",
          "2021-10-05T00:00:00",
          "2021-10-06T00:00:00",
          "2021-10-07T00:00:00",
          "2021-10-08T00:00:00",
          "2021-10-11T00:00:00",
          "2021-10-12T00:00:00",
          "2021-10-13T00:00:00",
          "2021-10-14T00:00:00",
          "2021-10-15T00:00:00",
          "2021-10-18T00:00:00",
          "2021-10-19T00:00:00",
          "2021-10-20T00:00:00",
          "2021-10-21T00:00:00",
          "2021-10-22T00:00:00",
          "2021-10-25T00:00:00",
          "2021-10-26T00:00:00",
          "2021-10-27T00:00:00",
          "2021-10-28T00:00:00",
          "2021-10-29T00:00:00",
          "2021-11-01T00:00:00",
          "2021-11-02T00:00:00",
          "2021-11-03T00:00:00",
          "2021-11-04T00:00:00",
          "2021-11-05T00:00:00",
          "2021-11-08T00:00:00",
          "2021-11-09T00:00:00",
          "2021-11-10T00:00:00",
          "2021-11-11T00:00:00",
          "2021-11-12T00:00:00",
          "2021-11-15T00:00:00",
          "2021-11-16T00:00:00",
          "2021-11-17T00:00:00",
          "2021-11-18T00:00:00",
          "2021-11-19T00:00:00",
          "2021-11-22T00:00:00",
          "2021-11-23T00:00:00",
          "2021-11-24T00:00:00",
          "2021-11-26T00:00:00",
          "2021-11-29T00:00:00",
          "2021-11-30T00:00:00",
          "2021-12-01T00:00:00",
          "2021-12-02T00:00:00",
          "2021-12-03T00:00:00",
          "2021-12-06T00:00:00",
          "2021-12-07T00:00:00",
          "2021-12-08T00:00:00",
          "2021-12-09T00:00:00",
          "2021-12-10T00:00:00",
          "2021-12-13T00:00:00",
          "2021-12-14T00:00:00",
          "2021-12-15T00:00:00",
          "2021-12-16T00:00:00",
          "2021-12-17T00:00:00",
          "2021-12-20T00:00:00",
          "2021-12-21T00:00:00",
          "2021-12-22T00:00:00",
          "2021-12-23T00:00:00",
          "2021-12-27T00:00:00",
          "2021-12-28T00:00:00",
          "2021-12-29T00:00:00",
          "2021-12-30T00:00:00",
          "2021-12-31T00:00:00",
          "2022-01-03T00:00:00",
          "2022-01-04T00:00:00",
          "2022-01-05T00:00:00",
          "2022-01-06T00:00:00",
          "2022-01-07T00:00:00",
          "2022-01-10T00:00:00",
          "2022-01-11T00:00:00",
          "2022-01-12T00:00:00",
          "2022-01-13T00:00:00",
          "2022-01-14T00:00:00",
          "2022-01-18T00:00:00",
          "2022-01-19T00:00:00",
          "2022-01-20T00:00:00",
          "2022-01-21T00:00:00",
          "2022-01-24T00:00:00",
          "2022-01-25T00:00:00",
          "2022-01-26T00:00:00",
          "2022-01-27T00:00:00",
          "2022-01-28T00:00:00",
          "2022-01-31T00:00:00",
          "2022-02-01T00:00:00",
          "2022-02-02T00:00:00",
          "2022-02-03T00:00:00",
          "2022-02-04T00:00:00",
          "2022-02-07T00:00:00",
          "2022-02-08T00:00:00",
          "2022-02-09T00:00:00",
          "2022-02-10T00:00:00",
          "2022-02-11T00:00:00",
          "2022-02-14T00:00:00",
          "2022-02-15T00:00:00",
          "2022-02-16T00:00:00",
          "2022-02-17T00:00:00",
          "2022-02-18T00:00:00",
          "2022-02-22T00:00:00",
          "2022-02-23T00:00:00",
          "2022-02-24T00:00:00",
          "2022-02-25T00:00:00",
          "2022-02-28T00:00:00",
          "2022-03-01T00:00:00",
          "2022-03-02T00:00:00",
          "2022-03-03T00:00:00",
          "2022-03-04T00:00:00",
          "2022-03-07T00:00:00",
          "2022-03-08T00:00:00",
          "2022-03-09T00:00:00",
          "2022-03-10T00:00:00",
          "2022-03-11T00:00:00",
          "2022-03-14T00:00:00",
          "2022-03-15T00:00:00",
          "2022-03-16T00:00:00",
          "2022-03-17T00:00:00",
          "2022-03-18T00:00:00",
          "2022-03-21T00:00:00",
          "2022-03-22T00:00:00",
          "2022-03-23T00:00:00",
          "2022-03-24T00:00:00",
          "2022-03-25T00:00:00",
          "2022-03-28T00:00:00",
          "2022-03-29T00:00:00",
          "2022-03-30T00:00:00",
          "2022-03-31T00:00:00",
          "2022-04-01T00:00:00",
          "2022-04-04T00:00:00",
          "2022-04-05T00:00:00",
          "2022-04-06T00:00:00",
          "2022-04-07T00:00:00",
          "2022-04-08T00:00:00",
          "2022-04-11T00:00:00",
          "2022-04-12T00:00:00",
          "2022-04-13T00:00:00",
          "2022-04-14T00:00:00",
          "2022-04-18T00:00:00",
          "2022-04-19T00:00:00",
          "2022-04-20T00:00:00",
          "2022-04-21T00:00:00",
          "2022-04-22T00:00:00",
          "2022-04-25T00:00:00",
          "2022-04-26T00:00:00",
          "2022-04-27T00:00:00",
          "2022-04-28T00:00:00",
          "2022-04-29T00:00:00",
          "2022-05-02T00:00:00",
          "2022-05-03T00:00:00",
          "2022-05-04T00:00:00",
          "2022-05-05T00:00:00",
          "2022-05-06T00:00:00",
          "2022-05-09T00:00:00",
          "2022-05-10T00:00:00",
          "2022-05-11T00:00:00",
          "2022-05-12T00:00:00",
          "2022-05-13T00:00:00",
          "2022-05-16T00:00:00",
          "2022-05-17T00:00:00",
          "2022-05-18T00:00:00",
          "2022-05-19T00:00:00",
          "2022-05-20T00:00:00",
          "2022-05-23T00:00:00",
          "2022-05-24T00:00:00",
          "2022-05-25T00:00:00",
          "2022-05-26T00:00:00",
          "2022-05-27T00:00:00",
          "2022-05-31T00:00:00",
          "2022-06-01T00:00:00",
          "2022-06-02T00:00:00",
          "2022-06-03T00:00:00",
          "2022-06-06T00:00:00",
          "2022-06-07T00:00:00",
          "2022-06-08T00:00:00",
          "2022-06-09T00:00:00",
          "2022-06-10T00:00:00",
          "2022-06-13T00:00:00",
          "2022-06-14T00:00:00",
          "2022-06-15T00:00:00",
          "2022-06-16T00:00:00",
          "2022-06-17T00:00:00",
          "2022-06-21T00:00:00",
          "2022-06-22T00:00:00",
          "2022-06-23T00:00:00",
          "2022-06-24T00:00:00",
          "2022-06-27T00:00:00",
          "2022-06-28T00:00:00",
          "2022-06-29T00:00:00",
          "2022-06-30T00:00:00",
          "2022-07-01T00:00:00",
          "2022-07-05T00:00:00",
          "2022-07-06T00:00:00",
          "2022-07-07T00:00:00",
          "2022-07-08T00:00:00",
          "2022-07-11T00:00:00",
          "2022-07-12T00:00:00",
          "2022-07-13T00:00:00",
          "2022-07-14T00:00:00",
          "2022-07-15T00:00:00",
          "2022-07-18T00:00:00",
          "2022-07-19T00:00:00",
          "2022-07-20T00:00:00",
          "2022-07-21T00:00:00",
          "2022-07-22T00:00:00",
          "2022-07-25T00:00:00",
          "2022-07-26T00:00:00",
          "2022-07-27T00:00:00",
          "2022-07-28T00:00:00",
          "2022-07-29T00:00:00",
          "2022-08-01T00:00:00",
          "2022-08-02T00:00:00",
          "2022-08-03T00:00:00",
          "2022-08-04T00:00:00",
          "2022-08-05T00:00:00",
          "2022-08-08T00:00:00",
          "2022-08-09T00:00:00",
          "2022-08-10T00:00:00",
          "2022-08-11T00:00:00",
          "2022-08-12T00:00:00",
          "2022-08-15T00:00:00",
          "2022-08-16T00:00:00",
          "2022-08-17T00:00:00",
          "2022-08-18T00:00:00",
          "2022-08-19T00:00:00",
          "2022-08-22T00:00:00",
          "2022-08-23T00:00:00",
          "2022-08-24T00:00:00",
          "2022-08-25T00:00:00",
          "2022-08-26T00:00:00",
          "2022-08-29T00:00:00",
          "2022-08-30T00:00:00",
          "2022-08-31T00:00:00",
          "2022-09-01T00:00:00",
          "2022-09-02T00:00:00",
          "2022-09-06T00:00:00",
          "2022-09-07T00:00:00",
          "2022-09-08T00:00:00",
          "2022-09-09T00:00:00",
          "2022-09-12T00:00:00",
          "2022-09-13T00:00:00",
          "2022-09-14T00:00:00",
          "2022-09-15T00:00:00",
          "2022-09-16T00:00:00",
          "2022-09-19T00:00:00",
          "2022-09-20T00:00:00",
          "2022-09-21T00:00:00",
          "2022-09-22T00:00:00",
          "2022-09-23T00:00:00",
          "2022-09-26T00:00:00",
          "2022-09-27T00:00:00"
         ]
        }
       ],
       "layout": {
        "template": {
         "data": {
          "bar": [
           {
            "error_x": {
             "color": "#2a3f5f"
            },
            "error_y": {
             "color": "#2a3f5f"
            },
            "marker": {
             "line": {
              "color": "#E5ECF6",
              "width": 0.5
             },
             "pattern": {
              "fillmode": "overlay",
              "size": 10,
              "solidity": 0.2
             }
            },
            "type": "bar"
           }
          ],
          "barpolar": [
           {
            "marker": {
             "line": {
              "color": "#E5ECF6",
              "width": 0.5
             },
             "pattern": {
              "fillmode": "overlay",
              "size": 10,
              "solidity": 0.2
             }
            },
            "type": "barpolar"
           }
          ],
          "carpet": [
           {
            "aaxis": {
             "endlinecolor": "#2a3f5f",
             "gridcolor": "white",
             "linecolor": "white",
             "minorgridcolor": "white",
             "startlinecolor": "#2a3f5f"
            },
            "baxis": {
             "endlinecolor": "#2a3f5f",
             "gridcolor": "white",
             "linecolor": "white",
             "minorgridcolor": "white",
             "startlinecolor": "#2a3f5f"
            },
            "type": "carpet"
           }
          ],
          "choropleth": [
           {
            "colorbar": {
             "outlinewidth": 0,
             "ticks": ""
            },
            "type": "choropleth"
           }
          ],
          "contour": [
           {
            "colorbar": {
             "outlinewidth": 0,
             "ticks": ""
            },
            "colorscale": [
             [
              0,
              "#0d0887"
             ],
             [
              0.1111111111111111,
              "#46039f"
             ],
             [
              0.2222222222222222,
              "#7201a8"
             ],
             [
              0.3333333333333333,
              "#9c179e"
             ],
             [
              0.4444444444444444,
              "#bd3786"
             ],
             [
              0.5555555555555556,
              "#d8576b"
             ],
             [
              0.6666666666666666,
              "#ed7953"
             ],
             [
              0.7777777777777778,
              "#fb9f3a"
             ],
             [
              0.8888888888888888,
              "#fdca26"
             ],
             [
              1,
              "#f0f921"
             ]
            ],
            "type": "contour"
           }
          ],
          "contourcarpet": [
           {
            "colorbar": {
             "outlinewidth": 0,
             "ticks": ""
            },
            "type": "contourcarpet"
           }
          ],
          "heatmap": [
           {
            "colorbar": {
             "outlinewidth": 0,
             "ticks": ""
            },
            "colorscale": [
             [
              0,
              "#0d0887"
             ],
             [
              0.1111111111111111,
              "#46039f"
             ],
             [
              0.2222222222222222,
              "#7201a8"
             ],
             [
              0.3333333333333333,
              "#9c179e"
             ],
             [
              0.4444444444444444,
              "#bd3786"
             ],
             [
              0.5555555555555556,
              "#d8576b"
             ],
             [
              0.6666666666666666,
              "#ed7953"
             ],
             [
              0.7777777777777778,
              "#fb9f3a"
             ],
             [
              0.8888888888888888,
              "#fdca26"
             ],
             [
              1,
              "#f0f921"
             ]
            ],
            "type": "heatmap"
           }
          ],
          "heatmapgl": [
           {
            "colorbar": {
             "outlinewidth": 0,
             "ticks": ""
            },
            "colorscale": [
             [
              0,
              "#0d0887"
             ],
             [
              0.1111111111111111,
              "#46039f"
             ],
             [
              0.2222222222222222,
              "#7201a8"
             ],
             [
              0.3333333333333333,
              "#9c179e"
             ],
             [
              0.4444444444444444,
              "#bd3786"
             ],
             [
              0.5555555555555556,
              "#d8576b"
             ],
             [
              0.6666666666666666,
              "#ed7953"
             ],
             [
              0.7777777777777778,
              "#fb9f3a"
             ],
             [
              0.8888888888888888,
              "#fdca26"
             ],
             [
              1,
              "#f0f921"
             ]
            ],
            "type": "heatmapgl"
           }
          ],
          "histogram": [
           {
            "marker": {
             "pattern": {
              "fillmode": "overlay",
              "size": 10,
              "solidity": 0.2
             }
            },
            "type": "histogram"
           }
          ],
          "histogram2d": [
           {
            "colorbar": {
             "outlinewidth": 0,
             "ticks": ""
            },
            "colorscale": [
             [
              0,
              "#0d0887"
             ],
             [
              0.1111111111111111,
              "#46039f"
             ],
             [
              0.2222222222222222,
              "#7201a8"
             ],
             [
              0.3333333333333333,
              "#9c179e"
             ],
             [
              0.4444444444444444,
              "#bd3786"
             ],
             [
              0.5555555555555556,
              "#d8576b"
             ],
             [
              0.6666666666666666,
              "#ed7953"
             ],
             [
              0.7777777777777778,
              "#fb9f3a"
             ],
             [
              0.8888888888888888,
              "#fdca26"
             ],
             [
              1,
              "#f0f921"
             ]
            ],
            "type": "histogram2d"
           }
          ],
          "histogram2dcontour": [
           {
            "colorbar": {
             "outlinewidth": 0,
             "ticks": ""
            },
            "colorscale": [
             [
              0,
              "#0d0887"
             ],
             [
              0.1111111111111111,
              "#46039f"
             ],
             [
              0.2222222222222222,
              "#7201a8"
             ],
             [
              0.3333333333333333,
              "#9c179e"
             ],
             [
              0.4444444444444444,
              "#bd3786"
             ],
             [
              0.5555555555555556,
              "#d8576b"
             ],
             [
              0.6666666666666666,
              "#ed7953"
             ],
             [
              0.7777777777777778,
              "#fb9f3a"
             ],
             [
              0.8888888888888888,
              "#fdca26"
             ],
             [
              1,
              "#f0f921"
             ]
            ],
            "type": "histogram2dcontour"
           }
          ],
          "mesh3d": [
           {
            "colorbar": {
             "outlinewidth": 0,
             "ticks": ""
            },
            "type": "mesh3d"
           }
          ],
          "parcoords": [
           {
            "line": {
             "colorbar": {
              "outlinewidth": 0,
              "ticks": ""
             }
            },
            "type": "parcoords"
           }
          ],
          "pie": [
           {
            "automargin": true,
            "type": "pie"
           }
          ],
          "scatter": [
           {
            "fillpattern": {
             "fillmode": "overlay",
             "size": 10,
             "solidity": 0.2
            },
            "type": "scatter"
           }
          ],
          "scatter3d": [
           {
            "line": {
             "colorbar": {
              "outlinewidth": 0,
              "ticks": ""
             }
            },
            "marker": {
             "colorbar": {
              "outlinewidth": 0,
              "ticks": ""
             }
            },
            "type": "scatter3d"
           }
          ],
          "scattercarpet": [
           {
            "marker": {
             "colorbar": {
              "outlinewidth": 0,
              "ticks": ""
             }
            },
            "type": "scattercarpet"
           }
          ],
          "scattergeo": [
           {
            "marker": {
             "colorbar": {
              "outlinewidth": 0,
              "ticks": ""
             }
            },
            "type": "scattergeo"
           }
          ],
          "scattergl": [
           {
            "marker": {
             "colorbar": {
              "outlinewidth": 0,
              "ticks": ""
             }
            },
            "type": "scattergl"
           }
          ],
          "scattermapbox": [
           {
            "marker": {
             "colorbar": {
              "outlinewidth": 0,
              "ticks": ""
             }
            },
            "type": "scattermapbox"
           }
          ],
          "scatterpolar": [
           {
            "marker": {
             "colorbar": {
              "outlinewidth": 0,
              "ticks": ""
             }
            },
            "type": "scatterpolar"
           }
          ],
          "scatterpolargl": [
           {
            "marker": {
             "colorbar": {
              "outlinewidth": 0,
              "ticks": ""
             }
            },
            "type": "scatterpolargl"
           }
          ],
          "scatterternary": [
           {
            "marker": {
             "colorbar": {
              "outlinewidth": 0,
              "ticks": ""
             }
            },
            "type": "scatterternary"
           }
          ],
          "surface": [
           {
            "colorbar": {
             "outlinewidth": 0,
             "ticks": ""
            },
            "colorscale": [
             [
              0,
              "#0d0887"
             ],
             [
              0.1111111111111111,
              "#46039f"
             ],
             [
              0.2222222222222222,
              "#7201a8"
             ],
             [
              0.3333333333333333,
              "#9c179e"
             ],
             [
              0.4444444444444444,
              "#bd3786"
             ],
             [
              0.5555555555555556,
              "#d8576b"
             ],
             [
              0.6666666666666666,
              "#ed7953"
             ],
             [
              0.7777777777777778,
              "#fb9f3a"
             ],
             [
              0.8888888888888888,
              "#fdca26"
             ],
             [
              1,
              "#f0f921"
             ]
            ],
            "type": "surface"
           }
          ],
          "table": [
           {
            "cells": {
             "fill": {
              "color": "#EBF0F8"
             },
             "line": {
              "color": "white"
             }
            },
            "header": {
             "fill": {
              "color": "#C8D4E3"
             },
             "line": {
              "color": "white"
             }
            },
            "type": "table"
           }
          ]
         },
         "layout": {
          "annotationdefaults": {
           "arrowcolor": "#2a3f5f",
           "arrowhead": 0,
           "arrowwidth": 1
          },
          "autotypenumbers": "strict",
          "coloraxis": {
           "colorbar": {
            "outlinewidth": 0,
            "ticks": ""
           }
          },
          "colorscale": {
           "diverging": [
            [
             0,
             "#8e0152"
            ],
            [
             0.1,
             "#c51b7d"
            ],
            [
             0.2,
             "#de77ae"
            ],
            [
             0.3,
             "#f1b6da"
            ],
            [
             0.4,
             "#fde0ef"
            ],
            [
             0.5,
             "#f7f7f7"
            ],
            [
             0.6,
             "#e6f5d0"
            ],
            [
             0.7,
             "#b8e186"
            ],
            [
             0.8,
             "#7fbc41"
            ],
            [
             0.9,
             "#4d9221"
            ],
            [
             1,
             "#276419"
            ]
           ],
           "sequential": [
            [
             0,
             "#0d0887"
            ],
            [
             0.1111111111111111,
             "#46039f"
            ],
            [
             0.2222222222222222,
             "#7201a8"
            ],
            [
             0.3333333333333333,
             "#9c179e"
            ],
            [
             0.4444444444444444,
             "#bd3786"
            ],
            [
             0.5555555555555556,
             "#d8576b"
            ],
            [
             0.6666666666666666,
             "#ed7953"
            ],
            [
             0.7777777777777778,
             "#fb9f3a"
            ],
            [
             0.8888888888888888,
             "#fdca26"
            ],
            [
             1,
             "#f0f921"
            ]
           ],
           "sequentialminus": [
            [
             0,
             "#0d0887"
            ],
            [
             0.1111111111111111,
             "#46039f"
            ],
            [
             0.2222222222222222,
             "#7201a8"
            ],
            [
             0.3333333333333333,
             "#9c179e"
            ],
            [
             0.4444444444444444,
             "#bd3786"
            ],
            [
             0.5555555555555556,
             "#d8576b"
            ],
            [
             0.6666666666666666,
             "#ed7953"
            ],
            [
             0.7777777777777778,
             "#fb9f3a"
            ],
            [
             0.8888888888888888,
             "#fdca26"
            ],
            [
             1,
             "#f0f921"
            ]
           ]
          },
          "colorway": [
           "#636efa",
           "#EF553B",
           "#00cc96",
           "#ab63fa",
           "#FFA15A",
           "#19d3f3",
           "#FF6692",
           "#B6E880",
           "#FF97FF",
           "#FECB52"
          ],
          "font": {
           "color": "#2a3f5f"
          },
          "geo": {
           "bgcolor": "white",
           "lakecolor": "white",
           "landcolor": "#E5ECF6",
           "showlakes": true,
           "showland": true,
           "subunitcolor": "white"
          },
          "hoverlabel": {
           "align": "left"
          },
          "hovermode": "closest",
          "mapbox": {
           "style": "light"
          },
          "paper_bgcolor": "white",
          "plot_bgcolor": "#E5ECF6",
          "polar": {
           "angularaxis": {
            "gridcolor": "white",
            "linecolor": "white",
            "ticks": ""
           },
           "bgcolor": "#E5ECF6",
           "radialaxis": {
            "gridcolor": "white",
            "linecolor": "white",
            "ticks": ""
           }
          },
          "scene": {
           "xaxis": {
            "backgroundcolor": "#E5ECF6",
            "gridcolor": "white",
            "gridwidth": 2,
            "linecolor": "white",
            "showbackground": true,
            "ticks": "",
            "zerolinecolor": "white"
           },
           "yaxis": {
            "backgroundcolor": "#E5ECF6",
            "gridcolor": "white",
            "gridwidth": 2,
            "linecolor": "white",
            "showbackground": true,
            "ticks": "",
            "zerolinecolor": "white"
           },
           "zaxis": {
            "backgroundcolor": "#E5ECF6",
            "gridcolor": "white",
            "gridwidth": 2,
            "linecolor": "white",
            "showbackground": true,
            "ticks": "",
            "zerolinecolor": "white"
           }
          },
          "shapedefaults": {
           "line": {
            "color": "#2a3f5f"
           }
          },
          "ternary": {
           "aaxis": {
            "gridcolor": "white",
            "linecolor": "white",
            "ticks": ""
           },
           "baxis": {
            "gridcolor": "white",
            "linecolor": "white",
            "ticks": ""
           },
           "bgcolor": "#E5ECF6",
           "caxis": {
            "gridcolor": "white",
            "linecolor": "white",
            "ticks": ""
           }
          },
          "title": {
           "x": 0.05
          },
          "xaxis": {
           "automargin": true,
           "gridcolor": "white",
           "linecolor": "white",
           "ticks": "",
           "title": {
            "standoff": 15
           },
           "zerolinecolor": "white",
           "zerolinewidth": 2
          },
          "yaxis": {
           "automargin": true,
           "gridcolor": "white",
           "linecolor": "white",
           "ticks": "",
           "title": {
            "standoff": 15
           },
           "zerolinecolor": "white",
           "zerolinewidth": 2
          }
         }
        }
       }
      }
     },
     "metadata": {},
     "output_type": "display_data"
    }
   ],
   "source": [
    "fig = go.Figure(data=[go.Candlestick(x=data.index,\n",
    "                open=data['Open']['AAPL'],\n",
    "                high=data['High']['AAPL'],\n",
    "                low=data['Low']['AAPL'],\n",
    "                close=data['Close']['AAPL'])])\n",
    "#fig.update_layout(xaxis_rangeslider_visible=False)  desactivar el rango inferior\n",
    "fig.show()"
   ]
  },
  {
   "cell_type": "markdown",
   "metadata": {},
   "source": [
    "### Gráficos de cascada"
   ]
  },
  {
   "cell_type": "code",
   "execution_count": 9,
   "metadata": {},
   "outputs": [
    {
     "data": {
      "application/vnd.plotly.v1+json": {
       "config": {
        "plotlyServerURL": "https://plot.ly"
       },
       "data": [
        {
         "connector": {
          "line": {
           "color": "rgb(63, 63, 63)"
          }
         },
         "measure": [
          "relative",
          "relative",
          "total",
          "relative",
          "relative",
          "total"
         ],
         "name": "20",
         "orientation": "v",
         "text": [
          "+60",
          "+80",
          "",
          "-40",
          "-20",
          "Total"
         ],
         "textposition": "outside",
         "type": "waterfall",
         "x": [
          "Sales",
          "Consulting",
          "Net revenue",
          "Purchases",
          "Other expenses",
          "Profit before tax"
         ],
         "y": [
          60,
          80,
          0,
          -40,
          -20,
          0
         ]
        }
       ],
       "layout": {
        "template": {
         "data": {
          "bar": [
           {
            "error_x": {
             "color": "#2a3f5f"
            },
            "error_y": {
             "color": "#2a3f5f"
            },
            "marker": {
             "line": {
              "color": "#E5ECF6",
              "width": 0.5
             },
             "pattern": {
              "fillmode": "overlay",
              "size": 10,
              "solidity": 0.2
             }
            },
            "type": "bar"
           }
          ],
          "barpolar": [
           {
            "marker": {
             "line": {
              "color": "#E5ECF6",
              "width": 0.5
             },
             "pattern": {
              "fillmode": "overlay",
              "size": 10,
              "solidity": 0.2
             }
            },
            "type": "barpolar"
           }
          ],
          "carpet": [
           {
            "aaxis": {
             "endlinecolor": "#2a3f5f",
             "gridcolor": "white",
             "linecolor": "white",
             "minorgridcolor": "white",
             "startlinecolor": "#2a3f5f"
            },
            "baxis": {
             "endlinecolor": "#2a3f5f",
             "gridcolor": "white",
             "linecolor": "white",
             "minorgridcolor": "white",
             "startlinecolor": "#2a3f5f"
            },
            "type": "carpet"
           }
          ],
          "choropleth": [
           {
            "colorbar": {
             "outlinewidth": 0,
             "ticks": ""
            },
            "type": "choropleth"
           }
          ],
          "contour": [
           {
            "colorbar": {
             "outlinewidth": 0,
             "ticks": ""
            },
            "colorscale": [
             [
              0,
              "#0d0887"
             ],
             [
              0.1111111111111111,
              "#46039f"
             ],
             [
              0.2222222222222222,
              "#7201a8"
             ],
             [
              0.3333333333333333,
              "#9c179e"
             ],
             [
              0.4444444444444444,
              "#bd3786"
             ],
             [
              0.5555555555555556,
              "#d8576b"
             ],
             [
              0.6666666666666666,
              "#ed7953"
             ],
             [
              0.7777777777777778,
              "#fb9f3a"
             ],
             [
              0.8888888888888888,
              "#fdca26"
             ],
             [
              1,
              "#f0f921"
             ]
            ],
            "type": "contour"
           }
          ],
          "contourcarpet": [
           {
            "colorbar": {
             "outlinewidth": 0,
             "ticks": ""
            },
            "type": "contourcarpet"
           }
          ],
          "heatmap": [
           {
            "colorbar": {
             "outlinewidth": 0,
             "ticks": ""
            },
            "colorscale": [
             [
              0,
              "#0d0887"
             ],
             [
              0.1111111111111111,
              "#46039f"
             ],
             [
              0.2222222222222222,
              "#7201a8"
             ],
             [
              0.3333333333333333,
              "#9c179e"
             ],
             [
              0.4444444444444444,
              "#bd3786"
             ],
             [
              0.5555555555555556,
              "#d8576b"
             ],
             [
              0.6666666666666666,
              "#ed7953"
             ],
             [
              0.7777777777777778,
              "#fb9f3a"
             ],
             [
              0.8888888888888888,
              "#fdca26"
             ],
             [
              1,
              "#f0f921"
             ]
            ],
            "type": "heatmap"
           }
          ],
          "heatmapgl": [
           {
            "colorbar": {
             "outlinewidth": 0,
             "ticks": ""
            },
            "colorscale": [
             [
              0,
              "#0d0887"
             ],
             [
              0.1111111111111111,
              "#46039f"
             ],
             [
              0.2222222222222222,
              "#7201a8"
             ],
             [
              0.3333333333333333,
              "#9c179e"
             ],
             [
              0.4444444444444444,
              "#bd3786"
             ],
             [
              0.5555555555555556,
              "#d8576b"
             ],
             [
              0.6666666666666666,
              "#ed7953"
             ],
             [
              0.7777777777777778,
              "#fb9f3a"
             ],
             [
              0.8888888888888888,
              "#fdca26"
             ],
             [
              1,
              "#f0f921"
             ]
            ],
            "type": "heatmapgl"
           }
          ],
          "histogram": [
           {
            "marker": {
             "pattern": {
              "fillmode": "overlay",
              "size": 10,
              "solidity": 0.2
             }
            },
            "type": "histogram"
           }
          ],
          "histogram2d": [
           {
            "colorbar": {
             "outlinewidth": 0,
             "ticks": ""
            },
            "colorscale": [
             [
              0,
              "#0d0887"
             ],
             [
              0.1111111111111111,
              "#46039f"
             ],
             [
              0.2222222222222222,
              "#7201a8"
             ],
             [
              0.3333333333333333,
              "#9c179e"
             ],
             [
              0.4444444444444444,
              "#bd3786"
             ],
             [
              0.5555555555555556,
              "#d8576b"
             ],
             [
              0.6666666666666666,
              "#ed7953"
             ],
             [
              0.7777777777777778,
              "#fb9f3a"
             ],
             [
              0.8888888888888888,
              "#fdca26"
             ],
             [
              1,
              "#f0f921"
             ]
            ],
            "type": "histogram2d"
           }
          ],
          "histogram2dcontour": [
           {
            "colorbar": {
             "outlinewidth": 0,
             "ticks": ""
            },
            "colorscale": [
             [
              0,
              "#0d0887"
             ],
             [
              0.1111111111111111,
              "#46039f"
             ],
             [
              0.2222222222222222,
              "#7201a8"
             ],
             [
              0.3333333333333333,
              "#9c179e"
             ],
             [
              0.4444444444444444,
              "#bd3786"
             ],
             [
              0.5555555555555556,
              "#d8576b"
             ],
             [
              0.6666666666666666,
              "#ed7953"
             ],
             [
              0.7777777777777778,
              "#fb9f3a"
             ],
             [
              0.8888888888888888,
              "#fdca26"
             ],
             [
              1,
              "#f0f921"
             ]
            ],
            "type": "histogram2dcontour"
           }
          ],
          "mesh3d": [
           {
            "colorbar": {
             "outlinewidth": 0,
             "ticks": ""
            },
            "type": "mesh3d"
           }
          ],
          "parcoords": [
           {
            "line": {
             "colorbar": {
              "outlinewidth": 0,
              "ticks": ""
             }
            },
            "type": "parcoords"
           }
          ],
          "pie": [
           {
            "automargin": true,
            "type": "pie"
           }
          ],
          "scatter": [
           {
            "fillpattern": {
             "fillmode": "overlay",
             "size": 10,
             "solidity": 0.2
            },
            "type": "scatter"
           }
          ],
          "scatter3d": [
           {
            "line": {
             "colorbar": {
              "outlinewidth": 0,
              "ticks": ""
             }
            },
            "marker": {
             "colorbar": {
              "outlinewidth": 0,
              "ticks": ""
             }
            },
            "type": "scatter3d"
           }
          ],
          "scattercarpet": [
           {
            "marker": {
             "colorbar": {
              "outlinewidth": 0,
              "ticks": ""
             }
            },
            "type": "scattercarpet"
           }
          ],
          "scattergeo": [
           {
            "marker": {
             "colorbar": {
              "outlinewidth": 0,
              "ticks": ""
             }
            },
            "type": "scattergeo"
           }
          ],
          "scattergl": [
           {
            "marker": {
             "colorbar": {
              "outlinewidth": 0,
              "ticks": ""
             }
            },
            "type": "scattergl"
           }
          ],
          "scattermapbox": [
           {
            "marker": {
             "colorbar": {
              "outlinewidth": 0,
              "ticks": ""
             }
            },
            "type": "scattermapbox"
           }
          ],
          "scatterpolar": [
           {
            "marker": {
             "colorbar": {
              "outlinewidth": 0,
              "ticks": ""
             }
            },
            "type": "scatterpolar"
           }
          ],
          "scatterpolargl": [
           {
            "marker": {
             "colorbar": {
              "outlinewidth": 0,
              "ticks": ""
             }
            },
            "type": "scatterpolargl"
           }
          ],
          "scatterternary": [
           {
            "marker": {
             "colorbar": {
              "outlinewidth": 0,
              "ticks": ""
             }
            },
            "type": "scatterternary"
           }
          ],
          "surface": [
           {
            "colorbar": {
             "outlinewidth": 0,
             "ticks": ""
            },
            "colorscale": [
             [
              0,
              "#0d0887"
             ],
             [
              0.1111111111111111,
              "#46039f"
             ],
             [
              0.2222222222222222,
              "#7201a8"
             ],
             [
              0.3333333333333333,
              "#9c179e"
             ],
             [
              0.4444444444444444,
              "#bd3786"
             ],
             [
              0.5555555555555556,
              "#d8576b"
             ],
             [
              0.6666666666666666,
              "#ed7953"
             ],
             [
              0.7777777777777778,
              "#fb9f3a"
             ],
             [
              0.8888888888888888,
              "#fdca26"
             ],
             [
              1,
              "#f0f921"
             ]
            ],
            "type": "surface"
           }
          ],
          "table": [
           {
            "cells": {
             "fill": {
              "color": "#EBF0F8"
             },
             "line": {
              "color": "white"
             }
            },
            "header": {
             "fill": {
              "color": "#C8D4E3"
             },
             "line": {
              "color": "white"
             }
            },
            "type": "table"
           }
          ]
         },
         "layout": {
          "annotationdefaults": {
           "arrowcolor": "#2a3f5f",
           "arrowhead": 0,
           "arrowwidth": 1
          },
          "autotypenumbers": "strict",
          "coloraxis": {
           "colorbar": {
            "outlinewidth": 0,
            "ticks": ""
           }
          },
          "colorscale": {
           "diverging": [
            [
             0,
             "#8e0152"
            ],
            [
             0.1,
             "#c51b7d"
            ],
            [
             0.2,
             "#de77ae"
            ],
            [
             0.3,
             "#f1b6da"
            ],
            [
             0.4,
             "#fde0ef"
            ],
            [
             0.5,
             "#f7f7f7"
            ],
            [
             0.6,
             "#e6f5d0"
            ],
            [
             0.7,
             "#b8e186"
            ],
            [
             0.8,
             "#7fbc41"
            ],
            [
             0.9,
             "#4d9221"
            ],
            [
             1,
             "#276419"
            ]
           ],
           "sequential": [
            [
             0,
             "#0d0887"
            ],
            [
             0.1111111111111111,
             "#46039f"
            ],
            [
             0.2222222222222222,
             "#7201a8"
            ],
            [
             0.3333333333333333,
             "#9c179e"
            ],
            [
             0.4444444444444444,
             "#bd3786"
            ],
            [
             0.5555555555555556,
             "#d8576b"
            ],
            [
             0.6666666666666666,
             "#ed7953"
            ],
            [
             0.7777777777777778,
             "#fb9f3a"
            ],
            [
             0.8888888888888888,
             "#fdca26"
            ],
            [
             1,
             "#f0f921"
            ]
           ],
           "sequentialminus": [
            [
             0,
             "#0d0887"
            ],
            [
             0.1111111111111111,
             "#46039f"
            ],
            [
             0.2222222222222222,
             "#7201a8"
            ],
            [
             0.3333333333333333,
             "#9c179e"
            ],
            [
             0.4444444444444444,
             "#bd3786"
            ],
            [
             0.5555555555555556,
             "#d8576b"
            ],
            [
             0.6666666666666666,
             "#ed7953"
            ],
            [
             0.7777777777777778,
             "#fb9f3a"
            ],
            [
             0.8888888888888888,
             "#fdca26"
            ],
            [
             1,
             "#f0f921"
            ]
           ]
          },
          "colorway": [
           "#636efa",
           "#EF553B",
           "#00cc96",
           "#ab63fa",
           "#FFA15A",
           "#19d3f3",
           "#FF6692",
           "#B6E880",
           "#FF97FF",
           "#FECB52"
          ],
          "font": {
           "color": "#2a3f5f"
          },
          "geo": {
           "bgcolor": "white",
           "lakecolor": "white",
           "landcolor": "#E5ECF6",
           "showlakes": true,
           "showland": true,
           "subunitcolor": "white"
          },
          "hoverlabel": {
           "align": "left"
          },
          "hovermode": "closest",
          "mapbox": {
           "style": "light"
          },
          "paper_bgcolor": "white",
          "plot_bgcolor": "#E5ECF6",
          "polar": {
           "angularaxis": {
            "gridcolor": "white",
            "linecolor": "white",
            "ticks": ""
           },
           "bgcolor": "#E5ECF6",
           "radialaxis": {
            "gridcolor": "white",
            "linecolor": "white",
            "ticks": ""
           }
          },
          "scene": {
           "xaxis": {
            "backgroundcolor": "#E5ECF6",
            "gridcolor": "white",
            "gridwidth": 2,
            "linecolor": "white",
            "showbackground": true,
            "ticks": "",
            "zerolinecolor": "white"
           },
           "yaxis": {
            "backgroundcolor": "#E5ECF6",
            "gridcolor": "white",
            "gridwidth": 2,
            "linecolor": "white",
            "showbackground": true,
            "ticks": "",
            "zerolinecolor": "white"
           },
           "zaxis": {
            "backgroundcolor": "#E5ECF6",
            "gridcolor": "white",
            "gridwidth": 2,
            "linecolor": "white",
            "showbackground": true,
            "ticks": "",
            "zerolinecolor": "white"
           }
          },
          "shapedefaults": {
           "line": {
            "color": "#2a3f5f"
           }
          },
          "ternary": {
           "aaxis": {
            "gridcolor": "white",
            "linecolor": "white",
            "ticks": ""
           },
           "baxis": {
            "gridcolor": "white",
            "linecolor": "white",
            "ticks": ""
           },
           "bgcolor": "#E5ECF6",
           "caxis": {
            "gridcolor": "white",
            "linecolor": "white",
            "ticks": ""
           }
          },
          "title": {
           "x": 0.05
          },
          "xaxis": {
           "automargin": true,
           "gridcolor": "white",
           "linecolor": "white",
           "ticks": "",
           "title": {
            "standoff": 15
           },
           "zerolinecolor": "white",
           "zerolinewidth": 2
          },
          "yaxis": {
           "automargin": true,
           "gridcolor": "white",
           "linecolor": "white",
           "ticks": "",
           "title": {
            "standoff": 15
           },
           "zerolinecolor": "white",
           "zerolinewidth": 2
          }
         }
        },
        "title": {
         "text": "Profit and loss statement 2018"
        }
       }
      }
     },
     "metadata": {},
     "output_type": "display_data"
    }
   ],
   "source": [
    "fig = go.Figure(go.Waterfall(\n",
    "    name = \"20\", orientation = \"v\",\n",
    "    measure = [\"relative\", \"relative\", \"total\", \"relative\", \"relative\", \"total\"],\n",
    "    x = [\"Sales\", \"Consulting\", \"Net revenue\", \"Purchases\", \"Other expenses\", \"Profit before tax\"],\n",
    "    textposition = \"outside\",\n",
    "    text = [\"+60\", \"+80\", \"\", \"-40\", \"-20\", \"Total\"],\n",
    "    y = [60, 80, 0, -40, -20, 0],\n",
    "    connector = {\"line\":{\"color\":\"rgb(63, 63, 63)\"}},\n",
    "))\n",
    "\n",
    "fig.update_layout(\n",
    "        title = \"Profit and loss statement 2018\"\n",
    ")\n",
    "\n",
    "fig.show()"
   ]
  }
 ],
 "metadata": {
  "kernelspec": {
   "display_name": "Python 3.8.8 ('base')",
   "language": "python",
   "name": "python3"
  },
  "language_info": {
   "codemirror_mode": {
    "name": "ipython",
    "version": 3
   },
   "file_extension": ".py",
   "mimetype": "text/x-python",
   "name": "python",
   "nbconvert_exporter": "python",
   "pygments_lexer": "ipython3",
   "version": "3.8.8"
  },
  "orig_nbformat": 4,
  "vscode": {
   "interpreter": {
    "hash": "3a2a03ea413f8be244ba01daf0e257f98f0dabeb03c7836e7000a0f3738aa8c9"
   }
  }
 },
 "nbformat": 4,
 "nbformat_minor": 2
}
